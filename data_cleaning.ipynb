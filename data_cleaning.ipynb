{
 "cells": [
  {
   "cell_type": "code",
   "execution_count": 12,
   "metadata": {},
   "outputs": [],
   "source": [
    "import pandas as pd\n",
    "import numpy as np\n",
    "import matplotlib.pyplot as plt\n",
    "\n",
    "import re\n",
    "\n",
    "import warnings\n",
    "warnings.filterwarnings('ignore')"
   ]
  },
  {
   "cell_type": "markdown",
   "metadata": {},
   "source": [
    "# Data Cleaning "
   ]
  },
  {
   "cell_type": "code",
   "execution_count": 41,
   "metadata": {},
   "outputs": [
    {
     "data": {
      "text/html": [
       "<div>\n",
       "<style scoped>\n",
       "    .dataframe tbody tr th:only-of-type {\n",
       "        vertical-align: middle;\n",
       "    }\n",
       "\n",
       "    .dataframe tbody tr th {\n",
       "        vertical-align: top;\n",
       "    }\n",
       "\n",
       "    .dataframe thead th {\n",
       "        text-align: right;\n",
       "    }\n",
       "</style>\n",
       "<table border=\"1\" class=\"dataframe\">\n",
       "  <thead>\n",
       "    <tr style=\"text-align: right;\">\n",
       "      <th></th>\n",
       "      <th>Inspection ID</th>\n",
       "      <th>DBA Name</th>\n",
       "      <th>AKA Name</th>\n",
       "      <th>License #</th>\n",
       "      <th>Facility Type</th>\n",
       "      <th>Risk</th>\n",
       "      <th>Address</th>\n",
       "      <th>City</th>\n",
       "      <th>State</th>\n",
       "      <th>Zip</th>\n",
       "      <th>...</th>\n",
       "      <th>Results</th>\n",
       "      <th>Violations</th>\n",
       "      <th>Latitude</th>\n",
       "      <th>Longitude</th>\n",
       "      <th>Location</th>\n",
       "      <th>Historical Wards 2003-2015</th>\n",
       "      <th>Zip Codes</th>\n",
       "      <th>Community Areas</th>\n",
       "      <th>Census Tracts</th>\n",
       "      <th>Wards</th>\n",
       "    </tr>\n",
       "  </thead>\n",
       "  <tbody>\n",
       "    <tr>\n",
       "      <th>0</th>\n",
       "      <td>2320315</td>\n",
       "      <td>SERENDIPITY CHILDCARE</td>\n",
       "      <td>SERENDIPITY CHILDCARE</td>\n",
       "      <td>2216009.0</td>\n",
       "      <td>Daycare Above and Under 2 Years</td>\n",
       "      <td>Risk 1 (High)</td>\n",
       "      <td>1300 W 99TH ST</td>\n",
       "      <td>CHICAGO</td>\n",
       "      <td>IL</td>\n",
       "      <td>60643.0</td>\n",
       "      <td>...</td>\n",
       "      <td>Pass</td>\n",
       "      <td>NaN</td>\n",
       "      <td>41.714168</td>\n",
       "      <td>-87.655291</td>\n",
       "      <td>{'longitude': '41.7141680989703', 'latitude': ...</td>\n",
       "      <td>NaN</td>\n",
       "      <td>NaN</td>\n",
       "      <td>NaN</td>\n",
       "      <td>NaN</td>\n",
       "      <td>NaN</td>\n",
       "    </tr>\n",
       "    <tr>\n",
       "      <th>1</th>\n",
       "      <td>2320342</td>\n",
       "      <td>YOLK TEST KITCHEN</td>\n",
       "      <td>YOLK TEST KITCHEN</td>\n",
       "      <td>2589655.0</td>\n",
       "      <td>Restaurant</td>\n",
       "      <td>Risk 1 (High)</td>\n",
       "      <td>1767 N MILWAUKEE AVE</td>\n",
       "      <td>CHICAGO</td>\n",
       "      <td>IL</td>\n",
       "      <td>60647.0</td>\n",
       "      <td>...</td>\n",
       "      <td>Pass w/ Conditions</td>\n",
       "      <td>23. PROPER DATE MARKING AND DISPOSITION - Comm...</td>\n",
       "      <td>41.913588</td>\n",
       "      <td>-87.682203</td>\n",
       "      <td>{'longitude': '41.9135877900482', 'latitude': ...</td>\n",
       "      <td>NaN</td>\n",
       "      <td>NaN</td>\n",
       "      <td>NaN</td>\n",
       "      <td>NaN</td>\n",
       "      <td>NaN</td>\n",
       "    </tr>\n",
       "    <tr>\n",
       "      <th>2</th>\n",
       "      <td>2320328</td>\n",
       "      <td>LAS ASADAS MEXICAN GRILL</td>\n",
       "      <td>LAS ASADAS MEXICAN GRILL</td>\n",
       "      <td>2583309.0</td>\n",
       "      <td>Restaurant</td>\n",
       "      <td>Risk 1 (High)</td>\n",
       "      <td>3834 W 47TH ST</td>\n",
       "      <td>CHICAGO</td>\n",
       "      <td>IL</td>\n",
       "      <td>60632.0</td>\n",
       "      <td>...</td>\n",
       "      <td>Out of Business</td>\n",
       "      <td>NaN</td>\n",
       "      <td>41.808025</td>\n",
       "      <td>-87.720037</td>\n",
       "      <td>{'longitude': '41.80802515275297', 'latitude':...</td>\n",
       "      <td>NaN</td>\n",
       "      <td>NaN</td>\n",
       "      <td>NaN</td>\n",
       "      <td>NaN</td>\n",
       "      <td>NaN</td>\n",
       "    </tr>\n",
       "  </tbody>\n",
       "</table>\n",
       "<p>3 rows × 22 columns</p>\n",
       "</div>"
      ],
      "text/plain": [
       "   Inspection ID                  DBA Name                  AKA Name  \\\n",
       "0        2320315     SERENDIPITY CHILDCARE     SERENDIPITY CHILDCARE   \n",
       "1        2320342         YOLK TEST KITCHEN         YOLK TEST KITCHEN   \n",
       "2        2320328  LAS ASADAS MEXICAN GRILL  LAS ASADAS MEXICAN GRILL   \n",
       "\n",
       "   License #                    Facility Type           Risk  \\\n",
       "0  2216009.0  Daycare Above and Under 2 Years  Risk 1 (High)   \n",
       "1  2589655.0                       Restaurant  Risk 1 (High)   \n",
       "2  2583309.0                       Restaurant  Risk 1 (High)   \n",
       "\n",
       "                 Address     City State      Zip  ...             Results  \\\n",
       "0        1300 W 99TH ST   CHICAGO    IL  60643.0  ...                Pass   \n",
       "1  1767 N MILWAUKEE AVE   CHICAGO    IL  60647.0  ...  Pass w/ Conditions   \n",
       "2        3834 W 47TH ST   CHICAGO    IL  60632.0  ...     Out of Business   \n",
       "\n",
       "                                          Violations   Latitude  Longitude  \\\n",
       "0                                                NaN  41.714168 -87.655291   \n",
       "1  23. PROPER DATE MARKING AND DISPOSITION - Comm...  41.913588 -87.682203   \n",
       "2                                                NaN  41.808025 -87.720037   \n",
       "\n",
       "                                            Location  \\\n",
       "0  {'longitude': '41.7141680989703', 'latitude': ...   \n",
       "1  {'longitude': '41.9135877900482', 'latitude': ...   \n",
       "2  {'longitude': '41.80802515275297', 'latitude':...   \n",
       "\n",
       "   Historical Wards 2003-2015 Zip Codes  Community Areas  Census Tracts  Wards  \n",
       "0                         NaN       NaN              NaN            NaN    NaN  \n",
       "1                         NaN       NaN              NaN            NaN    NaN  \n",
       "2                         NaN       NaN              NaN            NaN    NaN  \n",
       "\n",
       "[3 rows x 22 columns]"
      ]
     },
     "metadata": {},
     "output_type": "display_data"
    }
   ],
   "source": [
    "#opening the data\n",
    "data= pd.read_csv('data/food-inspections.csv',delimiter=',')\n",
    "\n",
    "display(data.head(3))"
   ]
  },
  {
   "cell_type": "markdown",
   "metadata": {},
   "source": [
    "### 1- General cleaning"
   ]
  },
  {
   "cell_type": "markdown",
   "metadata": {},
   "source": [
    "*In this first part, we will do general cleaning : homogenize the format of our dataframe and remove the duplicates, empty columns, NA values and null values.*"
   ]
  },
  {
   "cell_type": "code",
   "execution_count": 42,
   "metadata": {
    "scrolled": true
   },
   "outputs": [
    {
     "data": {
      "text/html": [
       "<div>\n",
       "<style scoped>\n",
       "    .dataframe tbody tr th:only-of-type {\n",
       "        vertical-align: middle;\n",
       "    }\n",
       "\n",
       "    .dataframe tbody tr th {\n",
       "        vertical-align: top;\n",
       "    }\n",
       "\n",
       "    .dataframe thead th {\n",
       "        text-align: right;\n",
       "    }\n",
       "</style>\n",
       "<table border=\"1\" class=\"dataframe\">\n",
       "  <thead>\n",
       "    <tr style=\"text-align: right;\">\n",
       "      <th></th>\n",
       "      <th>Inspection ID</th>\n",
       "      <th>DBA Name</th>\n",
       "      <th>AKA Name</th>\n",
       "      <th>License #</th>\n",
       "      <th>Facility Type</th>\n",
       "      <th>Risk</th>\n",
       "      <th>Address</th>\n",
       "      <th>City</th>\n",
       "      <th>State</th>\n",
       "      <th>Zip</th>\n",
       "      <th>Inspection Date</th>\n",
       "      <th>Inspection Type</th>\n",
       "      <th>Results</th>\n",
       "      <th>Violations</th>\n",
       "      <th>Latitude</th>\n",
       "      <th>Longitude</th>\n",
       "      <th>Location</th>\n",
       "    </tr>\n",
       "  </thead>\n",
       "  <tbody>\n",
       "    <tr>\n",
       "      <th>0</th>\n",
       "      <td>2320315</td>\n",
       "      <td>SERENDIPITY CHILDCARE</td>\n",
       "      <td>SERENDIPITY CHILDCARE</td>\n",
       "      <td>2216009.0</td>\n",
       "      <td>Daycare Above and Under 2 Years</td>\n",
       "      <td>Risk 1 (High)</td>\n",
       "      <td>1300 W 99TH ST</td>\n",
       "      <td>CHICAGO</td>\n",
       "      <td>IL</td>\n",
       "      <td>60643.0</td>\n",
       "      <td>2019-10-23T00:00:00.000</td>\n",
       "      <td>License Re-Inspection</td>\n",
       "      <td>Pass</td>\n",
       "      <td>NaN</td>\n",
       "      <td>41.714168</td>\n",
       "      <td>-87.655291</td>\n",
       "      <td>{'longitude': '41.7141680989703', 'latitude': ...</td>\n",
       "    </tr>\n",
       "    <tr>\n",
       "      <th>1</th>\n",
       "      <td>2320342</td>\n",
       "      <td>YOLK TEST KITCHEN</td>\n",
       "      <td>YOLK TEST KITCHEN</td>\n",
       "      <td>2589655.0</td>\n",
       "      <td>Restaurant</td>\n",
       "      <td>Risk 1 (High)</td>\n",
       "      <td>1767 N MILWAUKEE AVE</td>\n",
       "      <td>CHICAGO</td>\n",
       "      <td>IL</td>\n",
       "      <td>60647.0</td>\n",
       "      <td>2019-10-23T00:00:00.000</td>\n",
       "      <td>Canvass</td>\n",
       "      <td>Pass w/ Conditions</td>\n",
       "      <td>23. PROPER DATE MARKING AND DISPOSITION - Comm...</td>\n",
       "      <td>41.913588</td>\n",
       "      <td>-87.682203</td>\n",
       "      <td>{'longitude': '41.9135877900482', 'latitude': ...</td>\n",
       "    </tr>\n",
       "    <tr>\n",
       "      <th>2</th>\n",
       "      <td>2320328</td>\n",
       "      <td>LAS ASADAS MEXICAN GRILL</td>\n",
       "      <td>LAS ASADAS MEXICAN GRILL</td>\n",
       "      <td>2583309.0</td>\n",
       "      <td>Restaurant</td>\n",
       "      <td>Risk 1 (High)</td>\n",
       "      <td>3834 W 47TH ST</td>\n",
       "      <td>CHICAGO</td>\n",
       "      <td>IL</td>\n",
       "      <td>60632.0</td>\n",
       "      <td>2019-10-23T00:00:00.000</td>\n",
       "      <td>Canvass</td>\n",
       "      <td>Out of Business</td>\n",
       "      <td>NaN</td>\n",
       "      <td>41.808025</td>\n",
       "      <td>-87.720037</td>\n",
       "      <td>{'longitude': '41.80802515275297', 'latitude':...</td>\n",
       "    </tr>\n",
       "  </tbody>\n",
       "</table>\n",
       "</div>"
      ],
      "text/plain": [
       "   Inspection ID                  DBA Name                  AKA Name  \\\n",
       "0        2320315     SERENDIPITY CHILDCARE     SERENDIPITY CHILDCARE   \n",
       "1        2320342         YOLK TEST KITCHEN         YOLK TEST KITCHEN   \n",
       "2        2320328  LAS ASADAS MEXICAN GRILL  LAS ASADAS MEXICAN GRILL   \n",
       "\n",
       "   License #                    Facility Type           Risk  \\\n",
       "0  2216009.0  Daycare Above and Under 2 Years  Risk 1 (High)   \n",
       "1  2589655.0                       Restaurant  Risk 1 (High)   \n",
       "2  2583309.0                       Restaurant  Risk 1 (High)   \n",
       "\n",
       "                 Address     City State      Zip          Inspection Date  \\\n",
       "0        1300 W 99TH ST   CHICAGO    IL  60643.0  2019-10-23T00:00:00.000   \n",
       "1  1767 N MILWAUKEE AVE   CHICAGO    IL  60647.0  2019-10-23T00:00:00.000   \n",
       "2        3834 W 47TH ST   CHICAGO    IL  60632.0  2019-10-23T00:00:00.000   \n",
       "\n",
       "         Inspection Type             Results  \\\n",
       "0  License Re-Inspection                Pass   \n",
       "1                Canvass  Pass w/ Conditions   \n",
       "2                Canvass     Out of Business   \n",
       "\n",
       "                                          Violations   Latitude  Longitude  \\\n",
       "0                                                NaN  41.714168 -87.655291   \n",
       "1  23. PROPER DATE MARKING AND DISPOSITION - Comm...  41.913588 -87.682203   \n",
       "2                                                NaN  41.808025 -87.720037   \n",
       "\n",
       "                                            Location  \n",
       "0  {'longitude': '41.7141680989703', 'latitude': ...  \n",
       "1  {'longitude': '41.9135877900482', 'latitude': ...  \n",
       "2  {'longitude': '41.80802515275297', 'latitude':...  "
      ]
     },
     "metadata": {},
     "output_type": "display_data"
    }
   ],
   "source": [
    "# drop all the empty columns\n",
    "data.drop(['Historical Wards 2003-2015', 'Zip Codes', 'Community Areas','Census Tracts','Wards'], axis=1,inplace=True)\n",
    "\n",
    "#show the dataframe\n",
    "display(data.head(3))"
   ]
  },
  {
   "cell_type": "markdown",
   "metadata": {},
   "source": [
    "> We can create a function that standardize columns format in order to make the data more friendly to use. It fills empty space by '_' and lower case all the letters ."
   ]
  },
  {
   "cell_type": "code",
   "execution_count": 43,
   "metadata": {},
   "outputs": [
    {
     "data": {
      "text/plain": [
       "Index(['inspection_id', 'dba_name', 'aka_name', 'license', 'facility_type',\n",
       "       'risk', 'address', 'city', 'state', 'zip', 'inspection_date',\n",
       "       'inspection_type', 'results', 'violations', 'latitude', 'longitude',\n",
       "       'location'],\n",
       "      dtype='object')"
      ]
     },
     "metadata": {},
     "output_type": "display_data"
    }
   ],
   "source": [
    "def standardize(column):\n",
    "    \n",
    "    column=column.replace(\"#\", \"\")\n",
    "    column = column.lower().replace(\" \", \"_\")\n",
    "    \n",
    "    if len(column) > 1:\n",
    "        if column[-1] == \"_\":\n",
    "            return column[:-1]\n",
    "    return column\n",
    "\n",
    "#application of the function to the dataset\n",
    "data.columns = [standardize(x) for x in data.columns]\n",
    "\n",
    "display(data.columns)\n"
   ]
  },
  {
   "cell_type": "markdown",
   "metadata": {},
   "source": [
    "> We need to check if the inspection ID is unique. If it is not the case ,we need to remove the duplicates as an ID reffers to an unique inspection."
   ]
  },
  {
   "cell_type": "code",
   "execution_count": 44,
   "metadata": {},
   "outputs": [
    {
     "data": {
      "text/plain": [
       "False"
      ]
     },
     "metadata": {},
     "output_type": "display_data"
    }
   ],
   "source": [
    "#Check is the inspection ID is unique\n",
    "display(data['inspection_id'].is_unique)"
   ]
  },
  {
   "cell_type": "code",
   "execution_count": 45,
   "metadata": {},
   "outputs": [
    {
     "data": {
      "text/plain": [
       "True"
      ]
     },
     "metadata": {},
     "output_type": "display_data"
    }
   ],
   "source": [
    "#Removing the duplicates \n",
    "data.drop_duplicates('inspection_id', inplace=True)\n",
    "\n",
    "#check if all the duplicates were removed \n",
    "display(data['inspection_id'].is_unique)"
   ]
  },
  {
   "cell_type": "markdown",
   "metadata": {},
   "source": [
    "> We need to remove all the NA values since we can't use this kind of information. But we need to remove them only from particular column ( as an example, the NA is the  violations columns only means that there were no violations so we need to keep it)."
   ]
  },
  {
   "cell_type": "code",
   "execution_count": 46,
   "metadata": {},
   "outputs": [],
   "source": [
    "#Remove NA values from relevent columns\n",
    "data.dropna(subset=['inspection_date','license','latitude','longitude','inspection_type'],inplace=True)"
   ]
  },
  {
   "cell_type": "markdown",
   "metadata": {},
   "source": [
    "> If we explore the license numbers, we find that there are some null license number. We need to remove them."
   ]
  },
  {
   "cell_type": "code",
   "execution_count": 47,
   "metadata": {},
   "outputs": [],
   "source": [
    "# Drop \"0.0\" licenses\n",
    "data = data[data.license != 0.0]"
   ]
  },
  {
   "cell_type": "markdown",
   "metadata": {},
   "source": [
    "### 2- Cleaning the column *inspection_date*"
   ]
  },
  {
   "cell_type": "markdown",
   "metadata": {},
   "source": [
    "*We need to remove the time of inspection (useless information) in order to clean the inspection date column.*"
   ]
  },
  {
   "cell_type": "code",
   "execution_count": 48,
   "metadata": {
    "scrolled": true
   },
   "outputs": [
    {
     "data": {
      "text/html": [
       "<div>\n",
       "<style scoped>\n",
       "    .dataframe tbody tr th:only-of-type {\n",
       "        vertical-align: middle;\n",
       "    }\n",
       "\n",
       "    .dataframe tbody tr th {\n",
       "        vertical-align: top;\n",
       "    }\n",
       "\n",
       "    .dataframe thead th {\n",
       "        text-align: right;\n",
       "    }\n",
       "</style>\n",
       "<table border=\"1\" class=\"dataframe\">\n",
       "  <thead>\n",
       "    <tr style=\"text-align: right;\">\n",
       "      <th></th>\n",
       "      <th>inspection_id</th>\n",
       "      <th>dba_name</th>\n",
       "      <th>aka_name</th>\n",
       "      <th>license</th>\n",
       "      <th>facility_type</th>\n",
       "      <th>risk</th>\n",
       "      <th>address</th>\n",
       "      <th>city</th>\n",
       "      <th>state</th>\n",
       "      <th>zip</th>\n",
       "      <th>inspection_date</th>\n",
       "      <th>inspection_type</th>\n",
       "      <th>results</th>\n",
       "      <th>violations</th>\n",
       "      <th>latitude</th>\n",
       "      <th>longitude</th>\n",
       "      <th>location</th>\n",
       "    </tr>\n",
       "  </thead>\n",
       "  <tbody>\n",
       "    <tr>\n",
       "      <th>0</th>\n",
       "      <td>2320315</td>\n",
       "      <td>SERENDIPITY CHILDCARE</td>\n",
       "      <td>SERENDIPITY CHILDCARE</td>\n",
       "      <td>2216009.0</td>\n",
       "      <td>Daycare Above and Under 2 Years</td>\n",
       "      <td>Risk 1 (High)</td>\n",
       "      <td>1300 W 99TH ST</td>\n",
       "      <td>CHICAGO</td>\n",
       "      <td>IL</td>\n",
       "      <td>60643.0</td>\n",
       "      <td>2019-10-23</td>\n",
       "      <td>License Re-Inspection</td>\n",
       "      <td>Pass</td>\n",
       "      <td>NaN</td>\n",
       "      <td>41.714168</td>\n",
       "      <td>-87.655291</td>\n",
       "      <td>{'longitude': '41.7141680989703', 'latitude': ...</td>\n",
       "    </tr>\n",
       "    <tr>\n",
       "      <th>1</th>\n",
       "      <td>2320342</td>\n",
       "      <td>YOLK TEST KITCHEN</td>\n",
       "      <td>YOLK TEST KITCHEN</td>\n",
       "      <td>2589655.0</td>\n",
       "      <td>Restaurant</td>\n",
       "      <td>Risk 1 (High)</td>\n",
       "      <td>1767 N MILWAUKEE AVE</td>\n",
       "      <td>CHICAGO</td>\n",
       "      <td>IL</td>\n",
       "      <td>60647.0</td>\n",
       "      <td>2019-10-23</td>\n",
       "      <td>Canvass</td>\n",
       "      <td>Pass w/ Conditions</td>\n",
       "      <td>23. PROPER DATE MARKING AND DISPOSITION - Comm...</td>\n",
       "      <td>41.913588</td>\n",
       "      <td>-87.682203</td>\n",
       "      <td>{'longitude': '41.9135877900482', 'latitude': ...</td>\n",
       "    </tr>\n",
       "    <tr>\n",
       "      <th>2</th>\n",
       "      <td>2320328</td>\n",
       "      <td>LAS ASADAS MEXICAN GRILL</td>\n",
       "      <td>LAS ASADAS MEXICAN GRILL</td>\n",
       "      <td>2583309.0</td>\n",
       "      <td>Restaurant</td>\n",
       "      <td>Risk 1 (High)</td>\n",
       "      <td>3834 W 47TH ST</td>\n",
       "      <td>CHICAGO</td>\n",
       "      <td>IL</td>\n",
       "      <td>60632.0</td>\n",
       "      <td>2019-10-23</td>\n",
       "      <td>Canvass</td>\n",
       "      <td>Out of Business</td>\n",
       "      <td>NaN</td>\n",
       "      <td>41.808025</td>\n",
       "      <td>-87.720037</td>\n",
       "      <td>{'longitude': '41.80802515275297', 'latitude':...</td>\n",
       "    </tr>\n",
       "  </tbody>\n",
       "</table>\n",
       "</div>"
      ],
      "text/plain": [
       "   inspection_id                  dba_name                  aka_name  \\\n",
       "0        2320315     SERENDIPITY CHILDCARE     SERENDIPITY CHILDCARE   \n",
       "1        2320342         YOLK TEST KITCHEN         YOLK TEST KITCHEN   \n",
       "2        2320328  LAS ASADAS MEXICAN GRILL  LAS ASADAS MEXICAN GRILL   \n",
       "\n",
       "     license                    facility_type           risk  \\\n",
       "0  2216009.0  Daycare Above and Under 2 Years  Risk 1 (High)   \n",
       "1  2589655.0                       Restaurant  Risk 1 (High)   \n",
       "2  2583309.0                       Restaurant  Risk 1 (High)   \n",
       "\n",
       "                 address     city state      zip inspection_date  \\\n",
       "0        1300 W 99TH ST   CHICAGO    IL  60643.0      2019-10-23   \n",
       "1  1767 N MILWAUKEE AVE   CHICAGO    IL  60647.0      2019-10-23   \n",
       "2        3834 W 47TH ST   CHICAGO    IL  60632.0      2019-10-23   \n",
       "\n",
       "         inspection_type             results  \\\n",
       "0  License Re-Inspection                Pass   \n",
       "1                Canvass  Pass w/ Conditions   \n",
       "2                Canvass     Out of Business   \n",
       "\n",
       "                                          violations   latitude  longitude  \\\n",
       "0                                                NaN  41.714168 -87.655291   \n",
       "1  23. PROPER DATE MARKING AND DISPOSITION - Comm...  41.913588 -87.682203   \n",
       "2                                                NaN  41.808025 -87.720037   \n",
       "\n",
       "                                            location  \n",
       "0  {'longitude': '41.7141680989703', 'latitude': ...  \n",
       "1  {'longitude': '41.9135877900482', 'latitude': ...  \n",
       "2  {'longitude': '41.80802515275297', 'latitude':...  "
      ]
     },
     "metadata": {},
     "output_type": "display_data"
    }
   ],
   "source": [
    "#We remove the time ( all the caracters after 'T')\n",
    "data['inspection_date']=data['inspection_date'].apply(lambda x : x.split('T')[0])\n",
    "\n",
    "#Converting inspection dates into float numbers\n",
    "data.inspection_date = data.inspection_date.astype('datetime64[ns]')\n",
    "\n",
    "display(data.head(3))"
   ]
  },
  {
   "cell_type": "markdown",
   "metadata": {},
   "source": [
    "### 3- Cleaning of the column *city* and removing the column *state*"
   ]
  },
  {
   "cell_type": "markdown",
   "metadata": {},
   "source": [
    "*We need to check if there are only information from Chicago. After, we can remove the columns *city* and *state* since we don't need them for further use.*"
   ]
  },
  {
   "cell_type": "code",
   "execution_count": 49,
   "metadata": {},
   "outputs": [
    {
     "data": {
      "text/plain": [
       "array(['CHICAGO', nan, 'Chicago', 'CCHICAGO', 'CHICAGO.',\n",
       "       'CHESTNUT STREET', 'CHICAGOCHICAGO', 'chicago', 'CHICAGOHICAGO',\n",
       "       'CHicago', '312CHICAGO', 'BEDFORD PARK', 'CHCICAGO',\n",
       "       'CHARLES A HAYES', 'CHCHICAGO', 'CHICAGOI', 'SUMMIT', 'WESTMONT',\n",
       "       'LOMBARD', 'INACTIVE', 'BLUE ISLAND'], dtype=object)"
      ]
     },
     "execution_count": 49,
     "metadata": {},
     "output_type": "execute_result"
    }
   ],
   "source": [
    "#check if we have only data from chicage, if not we need to remove all the extra information\n",
    "data.city.unique()"
   ]
  },
  {
   "cell_type": "markdown",
   "metadata": {},
   "source": [
    "> We need to remove :   Bedford Park (Gas Station) ; Blue Island; Lombard ( a village near to Chicago) , Summit ( a city near to Chicago) ; WESTMONT ( village near Chicago) ; aslip (suburb of chicago)\n",
    "We need to replace by chicago : 'CHARLES A HAYES'  (postal location), 312Chicago (Restaurant) ; CHICAGOI (Chicago)  ; CHESTNUT STREET (street in chicago); INACTIVE (out of business restaurant in Chicago); Chestnut street ;"
   ]
  },
  {
   "cell_type": "code",
   "execution_count": 50,
   "metadata": {
    "scrolled": false
   },
   "outputs": [
    {
     "data": {
      "text/plain": [
       "array(['IL', nan], dtype=object)"
      ]
     },
     "metadata": {},
     "output_type": "display_data"
    },
    {
     "data": {
      "text/plain": [
       "city\n",
       "312CHICAGO              2\n",
       "BEDFORD PARK            2\n",
       "BLUE ISLAND             1\n",
       "CCHICAGO               44\n",
       "CHARLES A HAYES         4\n",
       "CHCHICAGO               6\n",
       "CHCICAGO                3\n",
       "CHESTNUT STREET        11\n",
       "CHICAGO            192693\n",
       "CHICAGO.                2\n",
       "CHICAGOCHICAGO          7\n",
       "CHICAGOHICAGO           2\n",
       "CHICAGOI                3\n",
       "CHicago                12\n",
       "Chicago               317\n",
       "INACTIVE                8\n",
       "LOMBARD                 1\n",
       "SUMMIT                  4\n",
       "WESTMONT                1\n",
       "chicago                82\n",
       "Name: inspection_id, dtype: int64"
      ]
     },
     "metadata": {},
     "output_type": "display_data"
    },
    {
     "data": {
      "text/plain": [
       "city\n",
       "312CHICAGO              2\n",
       "CCHICAGO               44\n",
       "CHARLES A HAYES         4\n",
       "CHCHICAGO               6\n",
       "CHCICAGO                3\n",
       "CHESTNUT STREET        11\n",
       "CHICAGO            192693\n",
       "CHICAGO.                2\n",
       "CHICAGOCHICAGO          7\n",
       "CHICAGOHICAGO           2\n",
       "CHICAGOI                3\n",
       "CHicago                12\n",
       "Chicago               317\n",
       "INACTIVE                8\n",
       "chicago                82\n",
       "Name: inspection_id, dtype: int64"
      ]
     },
     "metadata": {},
     "output_type": "display_data"
    }
   ],
   "source": [
    "#Check if the state is unique\n",
    "display(data.state.unique())\n",
    "\n",
    "#As the state is unique and we will not use this columns for our further investigations, we can drop it \n",
    "data.drop(['state'], axis=1,inplace=True)\n",
    "\n",
    "#Check if there are other city than Chicago\n",
    "display(data.inspection_id.groupby(data['city']).count())\n",
    "\n",
    "#Drop the selected locations \n",
    "data = data[~data['city'].isin([\"BEDFORD PARK\", \"BLUE ISLAND\", \"LOMBARD\",\"SUMMIT\",\"WESTMONT\",\"alsip\"])]\n",
    "\n",
    "#check if the column is clean \n",
    "display(data.inspection_id.groupby(data['city']).count())\n",
    "\n",
    "#now that we are sure that we have only information from Chicago ,we can delete the city columns\n",
    "data.drop(['city'], axis=1,inplace=True)"
   ]
  },
  {
   "cell_type": "markdown",
   "metadata": {},
   "source": [
    "### 4- Cleaning the column *inspection_result*"
   ]
  },
  {
   "cell_type": "code",
   "execution_count": 51,
   "metadata": {
    "scrolled": true
   },
   "outputs": [
    {
     "data": {
      "text/plain": [
       "results\n",
       "Business Not Located        49\n",
       "Fail                     37354\n",
       "No Entry                  6158\n",
       "Not Ready                 1843\n",
       "Out of Business          16676\n",
       "Pass                    104678\n",
       "Pass w/ Conditions       26566\n",
       "Name: inspection_id, dtype: int64"
      ]
     },
     "execution_count": 51,
     "metadata": {},
     "output_type": "execute_result"
    }
   ],
   "source": [
    "#looking for the inspection results type\n",
    "data.groupby('results')['inspection_id'].count()"
   ]
  },
  {
   "cell_type": "markdown",
   "metadata": {},
   "source": [
    "> We are only interested in 3 type of results : Pass , Pass with condition and Fail . We need to remove the others."
   ]
  },
  {
   "cell_type": "code",
   "execution_count": 52,
   "metadata": {},
   "outputs": [],
   "source": [
    "data = data[~data.results.isin(['Out of Business', 'Business Not Located', 'No Entry','Not Ready'])]"
   ]
  },
  {
   "cell_type": "markdown",
   "metadata": {},
   "source": [
    "### 5- Cleaning the location information:  *zip* , *latitude* and *longitude*"
   ]
  },
  {
   "cell_type": "code",
   "execution_count": 67,
   "metadata": {},
   "outputs": [],
   "source": [
    "#make sure that the latitude and longitude are float numbers\n",
    "data['latitude'] = data['latitude'].astype(float)\n",
    "data['longitude'] = data['longitude'].astype(float)\n",
    "\n",
    "#convert the zip into a string (useful for the mapping ) \n",
    "data.zip=data.zip.astype(str)\n",
    "\n",
    "#reformat the zip code writing in order to compare it with the zip code in geojson file (for vizualisation step)\n",
    "data['zip']=data['zip'].apply(lambda x : x.split('.')[0])"
   ]
  },
  {
   "cell_type": "markdown",
   "metadata": {},
   "source": [
    "### 6- Cleaning the column *inspection_type*"
   ]
  },
  {
   "cell_type": "markdown",
   "metadata": {},
   "source": [
    "*We want to focus only on inspection about food and not alcohol. So,we can't keep the 'force task'inspections. Also, we decided to remove the license inspection.*"
   ]
  },
  {
   "cell_type": "code",
   "execution_count": 68,
   "metadata": {},
   "outputs": [
    {
     "data": {
      "text/html": [
       "<div>\n",
       "<style scoped>\n",
       "    .dataframe tbody tr th:only-of-type {\n",
       "        vertical-align: middle;\n",
       "    }\n",
       "\n",
       "    .dataframe tbody tr th {\n",
       "        vertical-align: top;\n",
       "    }\n",
       "\n",
       "    .dataframe thead th {\n",
       "        text-align: right;\n",
       "    }\n",
       "</style>\n",
       "<table border=\"1\" class=\"dataframe\">\n",
       "  <thead>\n",
       "    <tr style=\"text-align: right;\">\n",
       "      <th></th>\n",
       "      <th>inspection_id</th>\n",
       "      <th>dba_name</th>\n",
       "      <th>aka_name</th>\n",
       "      <th>license</th>\n",
       "      <th>facility_type</th>\n",
       "      <th>risk</th>\n",
       "      <th>address</th>\n",
       "      <th>zip</th>\n",
       "      <th>inspection_date</th>\n",
       "      <th>results</th>\n",
       "      <th>violations</th>\n",
       "      <th>latitude</th>\n",
       "      <th>longitude</th>\n",
       "      <th>location</th>\n",
       "    </tr>\n",
       "    <tr>\n",
       "      <th>inspection_type</th>\n",
       "      <th></th>\n",
       "      <th></th>\n",
       "      <th></th>\n",
       "      <th></th>\n",
       "      <th></th>\n",
       "      <th></th>\n",
       "      <th></th>\n",
       "      <th></th>\n",
       "      <th></th>\n",
       "      <th></th>\n",
       "      <th></th>\n",
       "      <th></th>\n",
       "      <th></th>\n",
       "      <th></th>\n",
       "    </tr>\n",
       "  </thead>\n",
       "  <tbody>\n",
       "    <tr>\n",
       "      <th>Canvass</th>\n",
       "      <td>81132</td>\n",
       "      <td>81132</td>\n",
       "      <td>80824</td>\n",
       "      <td>81132</td>\n",
       "      <td>80928</td>\n",
       "      <td>81132</td>\n",
       "      <td>81132</td>\n",
       "      <td>81132</td>\n",
       "      <td>81132</td>\n",
       "      <td>81132</td>\n",
       "      <td>77995</td>\n",
       "      <td>81132</td>\n",
       "      <td>81132</td>\n",
       "      <td>81132</td>\n",
       "    </tr>\n",
       "    <tr>\n",
       "      <th>Canvass Re-Inspection</th>\n",
       "      <td>20023</td>\n",
       "      <td>20023</td>\n",
       "      <td>19953</td>\n",
       "      <td>20023</td>\n",
       "      <td>20014</td>\n",
       "      <td>20023</td>\n",
       "      <td>20023</td>\n",
       "      <td>20023</td>\n",
       "      <td>20023</td>\n",
       "      <td>20023</td>\n",
       "      <td>14511</td>\n",
       "      <td>20023</td>\n",
       "      <td>20023</td>\n",
       "      <td>20023</td>\n",
       "    </tr>\n",
       "    <tr>\n",
       "      <th>Complaint</th>\n",
       "      <td>17178</td>\n",
       "      <td>17178</td>\n",
       "      <td>17106</td>\n",
       "      <td>17178</td>\n",
       "      <td>17158</td>\n",
       "      <td>17178</td>\n",
       "      <td>17178</td>\n",
       "      <td>17178</td>\n",
       "      <td>17178</td>\n",
       "      <td>17178</td>\n",
       "      <td>16802</td>\n",
       "      <td>17178</td>\n",
       "      <td>17178</td>\n",
       "      <td>17178</td>\n",
       "    </tr>\n",
       "    <tr>\n",
       "      <th>Complaint Re-Inspection</th>\n",
       "      <td>7346</td>\n",
       "      <td>7346</td>\n",
       "      <td>7314</td>\n",
       "      <td>7346</td>\n",
       "      <td>7341</td>\n",
       "      <td>7346</td>\n",
       "      <td>7346</td>\n",
       "      <td>7346</td>\n",
       "      <td>7346</td>\n",
       "      <td>7346</td>\n",
       "      <td>5246</td>\n",
       "      <td>7346</td>\n",
       "      <td>7346</td>\n",
       "      <td>7346</td>\n",
       "    </tr>\n",
       "    <tr>\n",
       "      <th>Short Form Complaint</th>\n",
       "      <td>6565</td>\n",
       "      <td>6565</td>\n",
       "      <td>6535</td>\n",
       "      <td>6565</td>\n",
       "      <td>6559</td>\n",
       "      <td>6565</td>\n",
       "      <td>6565</td>\n",
       "      <td>6565</td>\n",
       "      <td>6565</td>\n",
       "      <td>6565</td>\n",
       "      <td>4848</td>\n",
       "      <td>6565</td>\n",
       "      <td>6565</td>\n",
       "      <td>6565</td>\n",
       "    </tr>\n",
       "    <tr>\n",
       "      <th>Suspected Food Poisoning</th>\n",
       "      <td>835</td>\n",
       "      <td>835</td>\n",
       "      <td>832</td>\n",
       "      <td>835</td>\n",
       "      <td>835</td>\n",
       "      <td>835</td>\n",
       "      <td>835</td>\n",
       "      <td>835</td>\n",
       "      <td>835</td>\n",
       "      <td>835</td>\n",
       "      <td>814</td>\n",
       "      <td>835</td>\n",
       "      <td>835</td>\n",
       "      <td>835</td>\n",
       "    </tr>\n",
       "    <tr>\n",
       "      <th>Suspected Food Poisoning Re-inspection</th>\n",
       "      <td>191</td>\n",
       "      <td>191</td>\n",
       "      <td>191</td>\n",
       "      <td>191</td>\n",
       "      <td>191</td>\n",
       "      <td>191</td>\n",
       "      <td>191</td>\n",
       "      <td>191</td>\n",
       "      <td>191</td>\n",
       "      <td>191</td>\n",
       "      <td>138</td>\n",
       "      <td>191</td>\n",
       "      <td>191</td>\n",
       "      <td>191</td>\n",
       "    </tr>\n",
       "  </tbody>\n",
       "</table>\n",
       "</div>"
      ],
      "text/plain": [
       "                                        inspection_id  dba_name  aka_name  \\\n",
       "inspection_type                                                             \n",
       "Canvass                                         81132     81132     80824   \n",
       "Canvass Re-Inspection                           20023     20023     19953   \n",
       "Complaint                                       17178     17178     17106   \n",
       "Complaint Re-Inspection                          7346      7346      7314   \n",
       "Short Form Complaint                             6565      6565      6535   \n",
       "Suspected Food Poisoning                          835       835       832   \n",
       "Suspected Food Poisoning Re-inspection            191       191       191   \n",
       "\n",
       "                                        license  facility_type   risk  \\\n",
       "inspection_type                                                         \n",
       "Canvass                                   81132          80928  81132   \n",
       "Canvass Re-Inspection                     20023          20014  20023   \n",
       "Complaint                                 17178          17158  17178   \n",
       "Complaint Re-Inspection                    7346           7341   7346   \n",
       "Short Form Complaint                       6565           6559   6565   \n",
       "Suspected Food Poisoning                    835            835    835   \n",
       "Suspected Food Poisoning Re-inspection      191            191    191   \n",
       "\n",
       "                                        address    zip  inspection_date  \\\n",
       "inspection_type                                                           \n",
       "Canvass                                   81132  81132            81132   \n",
       "Canvass Re-Inspection                     20023  20023            20023   \n",
       "Complaint                                 17178  17178            17178   \n",
       "Complaint Re-Inspection                    7346   7346             7346   \n",
       "Short Form Complaint                       6565   6565             6565   \n",
       "Suspected Food Poisoning                    835    835              835   \n",
       "Suspected Food Poisoning Re-inspection      191    191              191   \n",
       "\n",
       "                                        results  violations  latitude  \\\n",
       "inspection_type                                                         \n",
       "Canvass                                   81132       77995     81132   \n",
       "Canvass Re-Inspection                     20023       14511     20023   \n",
       "Complaint                                 17178       16802     17178   \n",
       "Complaint Re-Inspection                    7346        5246      7346   \n",
       "Short Form Complaint                       6565        4848      6565   \n",
       "Suspected Food Poisoning                    835         814       835   \n",
       "Suspected Food Poisoning Re-inspection      191         138       191   \n",
       "\n",
       "                                        longitude  location  \n",
       "inspection_type                                              \n",
       "Canvass                                     81132     81132  \n",
       "Canvass Re-Inspection                       20023     20023  \n",
       "Complaint                                   17178     17178  \n",
       "Complaint Re-Inspection                      7346      7346  \n",
       "Short Form Complaint                         6565      6565  \n",
       "Suspected Food Poisoning                      835       835  \n",
       "Suspected Food Poisoning Re-inspection        191       191  "
      ]
     },
     "execution_count": 68,
     "metadata": {},
     "output_type": "execute_result"
    }
   ],
   "source": [
    "#Cleaning of the inspections type\n",
    "\n",
    "searchfor = ['Re', 'Canvass','Food','Complaint']\n",
    "ignore= ['Fire','Not Ready','Recent Inspection','License','Tag Removal','Recent inspection','SFP']\n",
    "data=data[data.inspection_type.str.contains('|'.join(searchfor))]\n",
    "data = data[~data.inspection_type.str.contains('|'.join(ignore))]\n",
    "\n",
    "data.groupby('inspection_type').count()"
   ]
  },
  {
   "cell_type": "markdown",
   "metadata": {},
   "source": [
    "***For a coordination purpose within the group , we will export this clean dataset in a csv file.***"
   ]
  },
  {
   "cell_type": "code",
   "execution_count": 69,
   "metadata": {},
   "outputs": [],
   "source": [
    "#export the dataframe to a csv \n",
    "data.to_csv(r'./clean_dataset.csv')"
   ]
  },
  {
   "cell_type": "code",
   "execution_count": null,
   "metadata": {},
   "outputs": [],
   "source": []
  }
 ],
 "metadata": {
  "kernelspec": {
   "display_name": "Python 3",
   "language": "python",
   "name": "python3"
  },
  "language_info": {
   "codemirror_mode": {
    "name": "ipython",
    "version": 3
   },
   "file_extension": ".py",
   "mimetype": "text/x-python",
   "name": "python",
   "nbconvert_exporter": "python",
   "pygments_lexer": "ipython3",
   "version": "3.7.5"
  }
 },
 "nbformat": 4,
 "nbformat_minor": 2
}
