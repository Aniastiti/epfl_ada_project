{
 "cells": [
  {
   "cell_type": "code",
   "execution_count": 20,
   "metadata": {},
   "outputs": [],
   "source": [
    "import pandas as pd\n",
    "import numpy as np\n",
    "import requests\n",
    "from requests import get\n",
    "import matplotlib.pyplot as plt\n",
    "from bs4 import BeautifulSoup # for web scraping\n",
    "import seaborn as sns # for beautiful graphs\n",
    "import scipy.stats as stats # to calculate r^2 for linear regressions\n",
    "from scipy.stats import powerlaw # for plotting linear regressions\n",
    "import statsmodels as sm\n",
    "import matplotlib.ticker as mtick\n",
    "import re\n",
    "sns.set()\n",
    "import warnings\n",
    "warnings.filterwarnings('ignore')"
   ]
  },
  {
   "cell_type": "markdown",
   "metadata": {},
   "source": [
    "# Dataset Cleaning "
   ]
  },
  {
   "cell_type": "markdown",
   "metadata": {},
   "source": [
    "First , we need to remove the empty columns from the dataset."
   ]
  },
  {
   "cell_type": "code",
   "execution_count": 3,
   "metadata": {
    "scrolled": true
   },
   "outputs": [
    {
     "data": {
      "text/html": [
       "<div>\n",
       "<style scoped>\n",
       "    .dataframe tbody tr th:only-of-type {\n",
       "        vertical-align: middle;\n",
       "    }\n",
       "\n",
       "    .dataframe tbody tr th {\n",
       "        vertical-align: top;\n",
       "    }\n",
       "\n",
       "    .dataframe thead th {\n",
       "        text-align: right;\n",
       "    }\n",
       "</style>\n",
       "<table border=\"1\" class=\"dataframe\">\n",
       "  <thead>\n",
       "    <tr style=\"text-align: right;\">\n",
       "      <th></th>\n",
       "      <th>Inspection ID</th>\n",
       "      <th>DBA Name</th>\n",
       "      <th>AKA Name</th>\n",
       "      <th>License #</th>\n",
       "      <th>Facility Type</th>\n",
       "      <th>Risk</th>\n",
       "      <th>Address</th>\n",
       "      <th>City</th>\n",
       "      <th>State</th>\n",
       "      <th>Zip</th>\n",
       "      <th>Inspection Date</th>\n",
       "      <th>Inspection Type</th>\n",
       "      <th>Results</th>\n",
       "      <th>Violations</th>\n",
       "      <th>Latitude</th>\n",
       "      <th>Longitude</th>\n",
       "      <th>Location</th>\n",
       "    </tr>\n",
       "  </thead>\n",
       "  <tbody>\n",
       "    <tr>\n",
       "      <td>0</td>\n",
       "      <td>2320315</td>\n",
       "      <td>SERENDIPITY CHILDCARE</td>\n",
       "      <td>SERENDIPITY CHILDCARE</td>\n",
       "      <td>2216009.0</td>\n",
       "      <td>Daycare Above and Under 2 Years</td>\n",
       "      <td>Risk 1 (High)</td>\n",
       "      <td>1300 W 99TH ST</td>\n",
       "      <td>CHICAGO</td>\n",
       "      <td>IL</td>\n",
       "      <td>60643.0</td>\n",
       "      <td>2019-10-23T00:00:00.000</td>\n",
       "      <td>License Re-Inspection</td>\n",
       "      <td>Pass</td>\n",
       "      <td>NaN</td>\n",
       "      <td>41.714168</td>\n",
       "      <td>-87.655291</td>\n",
       "      <td>{'longitude': '41.7141680989703', 'latitude': ...</td>\n",
       "    </tr>\n",
       "    <tr>\n",
       "      <td>1</td>\n",
       "      <td>2320342</td>\n",
       "      <td>YOLK TEST KITCHEN</td>\n",
       "      <td>YOLK TEST KITCHEN</td>\n",
       "      <td>2589655.0</td>\n",
       "      <td>Restaurant</td>\n",
       "      <td>Risk 1 (High)</td>\n",
       "      <td>1767 N MILWAUKEE AVE</td>\n",
       "      <td>CHICAGO</td>\n",
       "      <td>IL</td>\n",
       "      <td>60647.0</td>\n",
       "      <td>2019-10-23T00:00:00.000</td>\n",
       "      <td>Canvass</td>\n",
       "      <td>Pass w/ Conditions</td>\n",
       "      <td>23. PROPER DATE MARKING AND DISPOSITION - Comm...</td>\n",
       "      <td>41.913588</td>\n",
       "      <td>-87.682203</td>\n",
       "      <td>{'longitude': '41.9135877900482', 'latitude': ...</td>\n",
       "    </tr>\n",
       "    <tr>\n",
       "      <td>2</td>\n",
       "      <td>2320328</td>\n",
       "      <td>LAS ASADAS MEXICAN GRILL</td>\n",
       "      <td>LAS ASADAS MEXICAN GRILL</td>\n",
       "      <td>2583309.0</td>\n",
       "      <td>Restaurant</td>\n",
       "      <td>Risk 1 (High)</td>\n",
       "      <td>3834 W 47TH ST</td>\n",
       "      <td>CHICAGO</td>\n",
       "      <td>IL</td>\n",
       "      <td>60632.0</td>\n",
       "      <td>2019-10-23T00:00:00.000</td>\n",
       "      <td>Canvass</td>\n",
       "      <td>Out of Business</td>\n",
       "      <td>NaN</td>\n",
       "      <td>41.808025</td>\n",
       "      <td>-87.720037</td>\n",
       "      <td>{'longitude': '41.80802515275297', 'latitude':...</td>\n",
       "    </tr>\n",
       "  </tbody>\n",
       "</table>\n",
       "</div>"
      ],
      "text/plain": [
       "   Inspection ID                  DBA Name                  AKA Name  \\\n",
       "0        2320315     SERENDIPITY CHILDCARE     SERENDIPITY CHILDCARE   \n",
       "1        2320342         YOLK TEST KITCHEN         YOLK TEST KITCHEN   \n",
       "2        2320328  LAS ASADAS MEXICAN GRILL  LAS ASADAS MEXICAN GRILL   \n",
       "\n",
       "   License #                    Facility Type           Risk  \\\n",
       "0  2216009.0  Daycare Above and Under 2 Years  Risk 1 (High)   \n",
       "1  2589655.0                       Restaurant  Risk 1 (High)   \n",
       "2  2583309.0                       Restaurant  Risk 1 (High)   \n",
       "\n",
       "                 Address     City State      Zip          Inspection Date  \\\n",
       "0        1300 W 99TH ST   CHICAGO    IL  60643.0  2019-10-23T00:00:00.000   \n",
       "1  1767 N MILWAUKEE AVE   CHICAGO    IL  60647.0  2019-10-23T00:00:00.000   \n",
       "2        3834 W 47TH ST   CHICAGO    IL  60632.0  2019-10-23T00:00:00.000   \n",
       "\n",
       "         Inspection Type             Results  \\\n",
       "0  License Re-Inspection                Pass   \n",
       "1                Canvass  Pass w/ Conditions   \n",
       "2                Canvass     Out of Business   \n",
       "\n",
       "                                          Violations   Latitude  Longitude  \\\n",
       "0                                                NaN  41.714168 -87.655291   \n",
       "1  23. PROPER DATE MARKING AND DISPOSITION - Comm...  41.913588 -87.682203   \n",
       "2                                                NaN  41.808025 -87.720037   \n",
       "\n",
       "                                            Location  \n",
       "0  {'longitude': '41.7141680989703', 'latitude': ...  \n",
       "1  {'longitude': '41.9135877900482', 'latitude': ...  \n",
       "2  {'longitude': '41.80802515275297', 'latitude':...  "
      ]
     },
     "metadata": {},
     "output_type": "display_data"
    }
   ],
   "source": [
    "#opening the data\n",
    "data= pd.read_csv('/Users/Mariam/Desktop/chicago-food-inspections/food-inspections.csv',delimiter=',')\n",
    "\n",
    "# drop all the empty columns\n",
    "data.drop(['Historical Wards 2003-2015', 'Zip Codes', 'Community Areas','Census Tracts','Wards'], axis=1,inplace=True)\n",
    "\n",
    "#show the dataframe\n",
    "display(data.head(3))"
   ]
  },
  {
   "cell_type": "markdown",
   "metadata": {},
   "source": [
    "We need to standardize columns format in order to make it more friendly to use."
   ]
  },
  {
   "cell_type": "code",
   "execution_count": 4,
   "metadata": {},
   "outputs": [
    {
     "data": {
      "text/plain": [
       "Index(['inspection_id', 'dba_name', 'aka_name', 'license', 'facility_type',\n",
       "       'risk', 'address', 'city', 'state', 'zip', 'inspection_date',\n",
       "       'inspection_type', 'results', 'violations', 'latitude', 'longitude',\n",
       "       'location'],\n",
       "      dtype='object')"
      ]
     },
     "metadata": {},
     "output_type": "display_data"
    }
   ],
   "source": [
    "#We create a function that fills empty space by '_' and lower case all the letters (reformat all column headers)\n",
    "def standardize(column):\n",
    "    column = column.lower().replace(\" \", \"_\")\n",
    "    column = re.sub('\\W+',\"\", column)\n",
    "    if len(column) > 1:\n",
    "        if column[-1] == \"_\":\n",
    "            return column[:-1]\n",
    "    return column\n",
    "\n",
    "#application of the function to the dataset\n",
    "data.columns = [standardize(x) for x in data.columns]\n",
    "display(data.columns)\n"
   ]
  },
  {
   "cell_type": "markdown",
   "metadata": {},
   "source": [
    "We need to check if the inspection ID is unique. If it is not the case ,we need to remove the duplicates as an ID reffers to an unique inspection."
   ]
  },
  {
   "cell_type": "code",
   "execution_count": 5,
   "metadata": {},
   "outputs": [
    {
     "data": {
      "text/plain": [
       "False"
      ]
     },
     "metadata": {},
     "output_type": "display_data"
    }
   ],
   "source": [
    "#Check is the inspection ID is unique\n",
    "display(data['inspection_id'].is_unique)"
   ]
  },
  {
   "cell_type": "code",
   "execution_count": 6,
   "metadata": {},
   "outputs": [
    {
     "data": {
      "text/plain": [
       "True"
      ]
     },
     "metadata": {},
     "output_type": "display_data"
    }
   ],
   "source": [
    "#Removing the duplicates \n",
    "data.drop_duplicates('inspection_id', inplace=True)\n",
    "\n",
    "#check if all the duplicates were removed \n",
    "display(data['inspection_id'].is_unique)"
   ]
  },
  {
   "cell_type": "markdown",
   "metadata": {},
   "source": [
    "We need to remove all the NA values since we can't use this kind of information. But we need to remove them only from particular column. ( ex : for the violations , NA only means that there were no violations so we need to keep this NA)."
   ]
  },
  {
   "cell_type": "code",
   "execution_count": 7,
   "metadata": {},
   "outputs": [],
   "source": [
    "#Remove NA values from relevent columns\n",
    "data.dropna(subset=['inspection_date','license','latitude','longitude'],inplace=True)"
   ]
  },
  {
   "cell_type": "markdown",
   "metadata": {},
   "source": [
    "We need to remove the time of inspection (useless information) in order to clean the inspection date column"
   ]
  },
  {
   "cell_type": "code",
   "execution_count": 8,
   "metadata": {},
   "outputs": [
    {
     "data": {
      "text/html": [
       "<div>\n",
       "<style scoped>\n",
       "    .dataframe tbody tr th:only-of-type {\n",
       "        vertical-align: middle;\n",
       "    }\n",
       "\n",
       "    .dataframe tbody tr th {\n",
       "        vertical-align: top;\n",
       "    }\n",
       "\n",
       "    .dataframe thead th {\n",
       "        text-align: right;\n",
       "    }\n",
       "</style>\n",
       "<table border=\"1\" class=\"dataframe\">\n",
       "  <thead>\n",
       "    <tr style=\"text-align: right;\">\n",
       "      <th></th>\n",
       "      <th>inspection_id</th>\n",
       "      <th>dba_name</th>\n",
       "      <th>aka_name</th>\n",
       "      <th>license</th>\n",
       "      <th>facility_type</th>\n",
       "      <th>risk</th>\n",
       "      <th>address</th>\n",
       "      <th>city</th>\n",
       "      <th>state</th>\n",
       "      <th>zip</th>\n",
       "      <th>inspection_date</th>\n",
       "      <th>inspection_type</th>\n",
       "      <th>results</th>\n",
       "      <th>violations</th>\n",
       "      <th>latitude</th>\n",
       "      <th>longitude</th>\n",
       "      <th>location</th>\n",
       "    </tr>\n",
       "  </thead>\n",
       "  <tbody>\n",
       "    <tr>\n",
       "      <td>0</td>\n",
       "      <td>2320315</td>\n",
       "      <td>SERENDIPITY CHILDCARE</td>\n",
       "      <td>SERENDIPITY CHILDCARE</td>\n",
       "      <td>2216009.0</td>\n",
       "      <td>Daycare Above and Under 2 Years</td>\n",
       "      <td>Risk 1 (High)</td>\n",
       "      <td>1300 W 99TH ST</td>\n",
       "      <td>CHICAGO</td>\n",
       "      <td>IL</td>\n",
       "      <td>60643.0</td>\n",
       "      <td>2019-10-23</td>\n",
       "      <td>License Re-Inspection</td>\n",
       "      <td>Pass</td>\n",
       "      <td>NaN</td>\n",
       "      <td>41.714168</td>\n",
       "      <td>-87.655291</td>\n",
       "      <td>{'longitude': '41.7141680989703', 'latitude': ...</td>\n",
       "    </tr>\n",
       "    <tr>\n",
       "      <td>1</td>\n",
       "      <td>2320342</td>\n",
       "      <td>YOLK TEST KITCHEN</td>\n",
       "      <td>YOLK TEST KITCHEN</td>\n",
       "      <td>2589655.0</td>\n",
       "      <td>Restaurant</td>\n",
       "      <td>Risk 1 (High)</td>\n",
       "      <td>1767 N MILWAUKEE AVE</td>\n",
       "      <td>CHICAGO</td>\n",
       "      <td>IL</td>\n",
       "      <td>60647.0</td>\n",
       "      <td>2019-10-23</td>\n",
       "      <td>Canvass</td>\n",
       "      <td>Pass w/ Conditions</td>\n",
       "      <td>23. PROPER DATE MARKING AND DISPOSITION - Comm...</td>\n",
       "      <td>41.913588</td>\n",
       "      <td>-87.682203</td>\n",
       "      <td>{'longitude': '41.9135877900482', 'latitude': ...</td>\n",
       "    </tr>\n",
       "    <tr>\n",
       "      <td>2</td>\n",
       "      <td>2320328</td>\n",
       "      <td>LAS ASADAS MEXICAN GRILL</td>\n",
       "      <td>LAS ASADAS MEXICAN GRILL</td>\n",
       "      <td>2583309.0</td>\n",
       "      <td>Restaurant</td>\n",
       "      <td>Risk 1 (High)</td>\n",
       "      <td>3834 W 47TH ST</td>\n",
       "      <td>CHICAGO</td>\n",
       "      <td>IL</td>\n",
       "      <td>60632.0</td>\n",
       "      <td>2019-10-23</td>\n",
       "      <td>Canvass</td>\n",
       "      <td>Out of Business</td>\n",
       "      <td>NaN</td>\n",
       "      <td>41.808025</td>\n",
       "      <td>-87.720037</td>\n",
       "      <td>{'longitude': '41.80802515275297', 'latitude':...</td>\n",
       "    </tr>\n",
       "  </tbody>\n",
       "</table>\n",
       "</div>"
      ],
      "text/plain": [
       "   inspection_id                  dba_name                  aka_name  \\\n",
       "0        2320315     SERENDIPITY CHILDCARE     SERENDIPITY CHILDCARE   \n",
       "1        2320342         YOLK TEST KITCHEN         YOLK TEST KITCHEN   \n",
       "2        2320328  LAS ASADAS MEXICAN GRILL  LAS ASADAS MEXICAN GRILL   \n",
       "\n",
       "     license                    facility_type           risk  \\\n",
       "0  2216009.0  Daycare Above and Under 2 Years  Risk 1 (High)   \n",
       "1  2589655.0                       Restaurant  Risk 1 (High)   \n",
       "2  2583309.0                       Restaurant  Risk 1 (High)   \n",
       "\n",
       "                 address     city state      zip inspection_date  \\\n",
       "0        1300 W 99TH ST   CHICAGO    IL  60643.0      2019-10-23   \n",
       "1  1767 N MILWAUKEE AVE   CHICAGO    IL  60647.0      2019-10-23   \n",
       "2        3834 W 47TH ST   CHICAGO    IL  60632.0      2019-10-23   \n",
       "\n",
       "         inspection_type             results  \\\n",
       "0  License Re-Inspection                Pass   \n",
       "1                Canvass  Pass w/ Conditions   \n",
       "2                Canvass     Out of Business   \n",
       "\n",
       "                                          violations   latitude  longitude  \\\n",
       "0                                                NaN  41.714168 -87.655291   \n",
       "1  23. PROPER DATE MARKING AND DISPOSITION - Comm...  41.913588 -87.682203   \n",
       "2                                                NaN  41.808025 -87.720037   \n",
       "\n",
       "                                            location  \n",
       "0  {'longitude': '41.7141680989703', 'latitude': ...  \n",
       "1  {'longitude': '41.9135877900482', 'latitude': ...  \n",
       "2  {'longitude': '41.80802515275297', 'latitude':...  "
      ]
     },
     "metadata": {},
     "output_type": "display_data"
    }
   ],
   "source": [
    "#We remove the time ( all the caracters after 'T')\n",
    "data['inspection_date']=data['inspection_date'].apply(lambda x : x.split('T')[0])\n",
    "display(data.head(3))"
   ]
  },
  {
   "cell_type": "markdown",
   "metadata": {},
   "source": [
    "We need to check if there are only information from Chicago."
   ]
  },
  {
   "cell_type": "code",
   "execution_count": 9,
   "metadata": {},
   "outputs": [
    {
     "data": {
      "text/plain": [
       "array(['CHICAGO', nan, 'Chicago', 'CCHICAGO', 'CHICAGO.',\n",
       "       'CHESTNUT STREET', 'CHICAGOCHICAGO', 'chicago', 'CHICAGOHICAGO',\n",
       "       'CHicago', '312CHICAGO', 'BEDFORD PARK', 'CHCICAGO',\n",
       "       'CHARLES A HAYES', 'CHCHICAGO', 'CHICAGOI', 'SUMMIT', 'WESTMONT',\n",
       "       'LOMBARD', 'INACTIVE', 'alsip', 'BLUE ISLAND'], dtype=object)"
      ]
     },
     "execution_count": 9,
     "metadata": {},
     "output_type": "execute_result"
    }
   ],
   "source": [
    "#check if we have only data from chicage, if not we need to remove all the extra information\n",
    "data.city.unique()"
   ]
  },
  {
   "cell_type": "markdown",
   "metadata": {},
   "source": [
    "We need to remove :   Bedford Park (Gas Station) ; Blue Island; Lombard ( a village near to Chicago) , Summit ( a city near to Chicago) ; WESTMONT ( village near Chicago) ; aslip (suburb of chicago)\n",
    "We need to replace by chicago : 'CHARLES A HAYES'  (postal location), 312Chicago (Restaurant) ; CHICAGOI (Chicago)  ; CHESTNUT STREET (street in chicago); INACTIVE (out of business restaurant in Chicago); Chestnut street ;"
   ]
  },
  {
   "cell_type": "code",
   "execution_count": 10,
   "metadata": {},
   "outputs": [
    {
     "data": {
      "text/plain": [
       "array(['IL', nan], dtype=object)"
      ]
     },
     "metadata": {},
     "output_type": "display_data"
    },
    {
     "data": {
      "text/plain": [
       "city\n",
       "312CHICAGO              2\n",
       "BEDFORD PARK            2\n",
       "BLUE ISLAND             1\n",
       "CCHICAGO               45\n",
       "CHARLES A HAYES         4\n",
       "CHCHICAGO               6\n",
       "CHCICAGO                3\n",
       "CHESTNUT STREET        11\n",
       "CHICAGO            193192\n",
       "CHICAGO.                2\n",
       "CHICAGOCHICAGO          7\n",
       "CHICAGOHICAGO           2\n",
       "CHICAGOI                3\n",
       "CHicago                12\n",
       "Chicago               317\n",
       "INACTIVE                8\n",
       "LOMBARD                 1\n",
       "SUMMIT                  4\n",
       "WESTMONT                1\n",
       "alsip                   1\n",
       "chicago                82\n",
       "Name: inspection_id, dtype: int64"
      ]
     },
     "metadata": {},
     "output_type": "display_data"
    },
    {
     "data": {
      "text/plain": [
       "city\n",
       "312CHICAGO              2\n",
       "CCHICAGO               45\n",
       "CHARLES A HAYES         4\n",
       "CHCHICAGO               6\n",
       "CHCICAGO                3\n",
       "CHESTNUT STREET        11\n",
       "CHICAGO            193192\n",
       "CHICAGO.                2\n",
       "CHICAGOCHICAGO          7\n",
       "CHICAGOHICAGO           2\n",
       "CHICAGOI                3\n",
       "CHicago                12\n",
       "Chicago               317\n",
       "INACTIVE                8\n",
       "chicago                82\n",
       "Name: inspection_id, dtype: int64"
      ]
     },
     "metadata": {},
     "output_type": "display_data"
    }
   ],
   "source": [
    "#Check if the state is unique\n",
    "display(data.state.unique())\n",
    "\n",
    "#As the state is unique and we will not use this columns for our further investigations, we can drop it \n",
    "data.drop(['state'], axis=1,inplace=True)\n",
    "\n",
    "#Check if there are other city than Chicago\n",
    "display(data.inspection_id.groupby(data['city']).count())\n",
    "\n",
    "#Drop the selected locations \n",
    "data = data[~data['city'].isin([\"BEDFORD PARK\", \"BLUE ISLAND\", \"LOMBARD\",\"SUMMIT\",\"WESTMONT\",\"alsip\"])]\n",
    "\n",
    "#check if the column is clean \n",
    "display(data.inspection_id.groupby(data['city']).count())\n",
    "\n",
    "#now that we are sure that we have only information from Chicago ,we can delete the city columns\n",
    "data.drop(['city'], axis=1,inplace=True)"
   ]
  },
  {
   "cell_type": "markdown",
   "metadata": {},
   "source": [
    "If we explore the license numbers, we find that there are some null license number. We need to remove them,"
   ]
  },
  {
   "cell_type": "code",
   "execution_count": 11,
   "metadata": {},
   "outputs": [],
   "source": [
    "# Drop \"0.0\" licenses\n",
    "data = data[data.license != 0.0]"
   ]
  },
  {
   "cell_type": "code",
   "execution_count": 17,
   "metadata": {
    "scrolled": true
   },
   "outputs": [
    {
     "data": {
      "text/plain": [
       "results\n",
       "Business Not Located        49\n",
       "Fail                     37354\n",
       "No Entry                  6158\n",
       "Not Ready                 1843\n",
       "Out of Business          16676\n",
       "Pass                    104679\n",
       "Pass w/ Conditions       26566\n",
       "Name: inspection_id, dtype: int64"
      ]
     },
     "execution_count": 17,
     "metadata": {},
     "output_type": "execute_result"
    }
   ],
   "source": [
    "#looking for the inspection results type\n",
    "data.groupby('results')['inspection_id'].count()"
   ]
  },
  {
   "cell_type": "markdown",
   "metadata": {},
   "source": [
    "We are only interested in 3 type of results : Pass , Pass with condition and Fail . We need to remove the others."
   ]
  },
  {
   "cell_type": "code",
   "execution_count": 18,
   "metadata": {},
   "outputs": [],
   "source": [
    "# Only consider successful inspections\n",
    "data = data[~data.results.isin(['Out of Business', 'Business Not Located', 'No Entry','Not Ready'])]"
   ]
  },
  {
   "cell_type": "code",
   "execution_count": 21,
   "metadata": {},
   "outputs": [],
   "source": [
    "#Converting inspection dates into float numbers\n",
    "data.inspection_date = data.inspection_date.astype('datetime64[ns]')\n",
    "\n",
    "#make sure that the latitude and longitude are float numbers\n",
    "data['latitude'] = data['latitude'].astype(float)\n",
    "data['longitude'] = data['longitude'].astype(float)\n",
    "\n",
    "#convert into string (useful for further steps ) -\n",
    "data.zip=data.zip.astype(str)\n",
    "\n",
    "#reformat the zip code writing in order to compare it with the zip code in geojson file (vizualisation step)\n",
    "data['zip']=data['zip'].apply(lambda x : x.split('.')[0])\n",
    "\n"
   ]
  },
  {
   "cell_type": "markdown",
   "metadata": {},
   "source": [
    "For a coordination purpose , we will export this clean dataset in a csv file."
   ]
  },
  {
   "cell_type": "code",
   "execution_count": 27,
   "metadata": {},
   "outputs": [],
   "source": [
    "#export the dataframe to a csv \n",
    "data.to_csv(r'./clean_dataset.csv')"
   ]
  },
  {
   "cell_type": "markdown",
   "metadata": {},
   "source": [
    "# Dataset with only the last inspection results "
   ]
  },
  {
   "cell_type": "code",
   "execution_count": 22,
   "metadata": {
    "scrolled": true
   },
   "outputs": [
    {
     "data": {
      "text/html": [
       "<div>\n",
       "<style scoped>\n",
       "    .dataframe tbody tr th:only-of-type {\n",
       "        vertical-align: middle;\n",
       "    }\n",
       "\n",
       "    .dataframe tbody tr th {\n",
       "        vertical-align: top;\n",
       "    }\n",
       "\n",
       "    .dataframe thead th {\n",
       "        text-align: right;\n",
       "    }\n",
       "</style>\n",
       "<table border=\"1\" class=\"dataframe\">\n",
       "  <thead>\n",
       "    <tr style=\"text-align: right;\">\n",
       "      <th></th>\n",
       "      <th>license</th>\n",
       "      <th>last_inspection_date</th>\n",
       "      <th>inspection_id</th>\n",
       "      <th>dba_name</th>\n",
       "      <th>aka_name</th>\n",
       "      <th>facility_type</th>\n",
       "      <th>risk</th>\n",
       "      <th>address</th>\n",
       "      <th>zip</th>\n",
       "      <th>inspection_type</th>\n",
       "      <th>results</th>\n",
       "      <th>violations</th>\n",
       "      <th>latitude</th>\n",
       "      <th>longitude</th>\n",
       "      <th>location</th>\n",
       "    </tr>\n",
       "  </thead>\n",
       "  <tbody>\n",
       "    <tr>\n",
       "      <td>0</td>\n",
       "      <td>1.0</td>\n",
       "      <td>2010-06-04</td>\n",
       "      <td>250567</td>\n",
       "      <td>HARVEST CRUSADES MINISTRIES</td>\n",
       "      <td>HARVEST CRUSADES MINISTRIES</td>\n",
       "      <td>Special Event</td>\n",
       "      <td>Risk 2 (Medium)</td>\n",
       "      <td>118 N CENTRAL AVE</td>\n",
       "      <td>60644</td>\n",
       "      <td>Special Events (Festivals)</td>\n",
       "      <td>Pass</td>\n",
       "      <td>NaN</td>\n",
       "      <td>41.882845</td>\n",
       "      <td>-87.765095</td>\n",
       "      <td>{'longitude': '41.88284507471884', 'latitude':...</td>\n",
       "    </tr>\n",
       "    <tr>\n",
       "      <td>1</td>\n",
       "      <td>2.0</td>\n",
       "      <td>2018-02-13</td>\n",
       "      <td>2144871</td>\n",
       "      <td>COSI</td>\n",
       "      <td>COSI</td>\n",
       "      <td>Restaurant</td>\n",
       "      <td>Risk 1 (High)</td>\n",
       "      <td>230 W MONROE ST</td>\n",
       "      <td>60606</td>\n",
       "      <td>Canvass</td>\n",
       "      <td>Pass w/ Conditions</td>\n",
       "      <td>3. POTENTIALLY HAZARDOUS FOOD MEETS TEMPERATUR...</td>\n",
       "      <td>41.880757</td>\n",
       "      <td>-87.634709</td>\n",
       "      <td>{'longitude': '41.88075715864721', 'latitude':...</td>\n",
       "    </tr>\n",
       "    <tr>\n",
       "      <td>2</td>\n",
       "      <td>9.0</td>\n",
       "      <td>2019-08-09</td>\n",
       "      <td>2304407</td>\n",
       "      <td>XANDO COFFEE &amp; BAR / COSI SANDWICH BAR</td>\n",
       "      <td>XANDO COFFEE &amp; BAR / COSI SANDWICH BAR</td>\n",
       "      <td>Restaurant</td>\n",
       "      <td>Risk 1 (High)</td>\n",
       "      <td>116 S MICHIGAN AVE</td>\n",
       "      <td>60603</td>\n",
       "      <td>Canvass</td>\n",
       "      <td>Pass w/ Conditions</td>\n",
       "      <td>1. PERSON IN CHARGE PRESENT, DEMONSTRATES KNOW...</td>\n",
       "      <td>41.880396</td>\n",
       "      <td>-87.624502</td>\n",
       "      <td>{'longitude': '41.88039583825962', 'latitude':...</td>\n",
       "    </tr>\n",
       "  </tbody>\n",
       "</table>\n",
       "</div>"
      ],
      "text/plain": [
       "   license last_inspection_date  inspection_id  \\\n",
       "0      1.0           2010-06-04         250567   \n",
       "1      2.0           2018-02-13        2144871   \n",
       "2      9.0           2019-08-09        2304407   \n",
       "\n",
       "                                 dba_name  \\\n",
       "0             HARVEST CRUSADES MINISTRIES   \n",
       "1                                    COSI   \n",
       "2  XANDO COFFEE & BAR / COSI SANDWICH BAR   \n",
       "\n",
       "                                 aka_name  facility_type             risk  \\\n",
       "0             HARVEST CRUSADES MINISTRIES  Special Event  Risk 2 (Medium)   \n",
       "1                                    COSI     Restaurant    Risk 1 (High)   \n",
       "2  XANDO COFFEE & BAR / COSI SANDWICH BAR     Restaurant    Risk 1 (High)   \n",
       "\n",
       "               address    zip             inspection_type             results  \\\n",
       "0   118 N CENTRAL AVE   60644  Special Events (Festivals)                Pass   \n",
       "1     230 W MONROE ST   60606                     Canvass  Pass w/ Conditions   \n",
       "2  116 S MICHIGAN AVE   60603                     Canvass  Pass w/ Conditions   \n",
       "\n",
       "                                          violations   latitude  longitude  \\\n",
       "0                                                NaN  41.882845 -87.765095   \n",
       "1  3. POTENTIALLY HAZARDOUS FOOD MEETS TEMPERATUR...  41.880757 -87.634709   \n",
       "2  1. PERSON IN CHARGE PRESENT, DEMONSTRATES KNOW...  41.880396 -87.624502   \n",
       "\n",
       "                                            location  \n",
       "0  {'longitude': '41.88284507471884', 'latitude':...  \n",
       "1  {'longitude': '41.88075715864721', 'latitude':...  \n",
       "2  {'longitude': '41.88039583825962', 'latitude':...  "
      ]
     },
     "execution_count": 22,
     "metadata": {},
     "output_type": "execute_result"
    }
   ],
   "source": [
    "#we want to selection only the informations from the last inspection for each facility\n",
    "date_last_inspection=pd.DataFrame(data.groupby('license')['inspection_date'].max())\n",
    "date_last_inspection\n",
    "#by merging 'data' and 'date_last_inspection' we can create a data frame containing only infromations about the last inspection for each facility\n",
    "data_last_inspection=pd.merge(date_last_inspection,data, on=['license', 'inspection_date'])\n",
    "data_last_inspection.groupby('license').count()\n",
    "data_last_inspection.rename(columns={'inspection_date': 'last_inspection_date'}, inplace=True)\n",
    "data_last_inspection.head(3)"
   ]
  },
  {
   "cell_type": "markdown",
   "metadata": {},
   "source": [
    "# Violations dataframe"
   ]
  },
  {
   "cell_type": "markdown",
   "metadata": {},
   "source": [
    "We want to make the violation column more readible.\n",
    "Using the followingl link https://webapps1.chicago.gov/healthinspection/Code_Violations.jsp#minor  , each number is associated with a unique violation.\n",
    "For simplification purpose, we will consider only the violations from 1 to 44 and the violation number 70. "
   ]
  },
  {
   "cell_type": "code",
   "execution_count": 28,
   "metadata": {},
   "outputs": [],
   "source": [
    "#function that split the violations number from the comments\n",
    "\n",
    "def violation_separator(violations):\n",
    "    violation_number = pd.Series([])   #creating an empty dataframe in order to stock the violation numbers\n",
    "    if type(violations) == str:\n",
    "        violations = violations.split(' | ') #each different violation is separated by a ' | ' in a dataframe cell\n",
    "        for violation in violations:        #now, we can iterate on the differente violations of each inspection\n",
    "            index = \"#\" + violation.split('.')[0]  #the index refers to the violation number\n",
    "            violation_number[index] = 1 #add 1 if there is a violation #.. and 0 if not.\n",
    "    return violation_number\n",
    "\n",
    "#we create a new data frame by applying the function to the dataset thhe old one and fill the nan value by 0 . 1= violation , 0= no violation\n",
    "violations_data = data_last_inspection.violations.apply(violation_separator).fillna(0)"
   ]
  },
  {
   "cell_type": "code",
   "execution_count": 29,
   "metadata": {},
   "outputs": [],
   "source": [
    "# Generate column names\n",
    "critical = [(\"#\" + str(num)) for num in range(1, 15)]\n",
    "serious = [(\"#\" + str(num)) for num in range(15, 30)]\n",
    "minor = [(\"#\" + str(num)) for num in range(30, 45)]\n",
    "minor.append(\"#70\")\n",
    "\n",
    "# Create complete list of column names\n",
    "columns = critical + serious + minor\n",
    "\n",
    "# Create dataframe using column names, violation data and inspection ID\n",
    "violations_data = pd.DataFrame(violations_data, columns=columns)\n",
    "violations_data['inspection_id'] = data_last_inspection.inspection_id\n",
    "violations_data['license'] = data_last_inspection.license"
   ]
  },
  {
   "cell_type": "code",
   "execution_count": 30,
   "metadata": {},
   "outputs": [
    {
     "data": {
      "text/html": [
       "<div>\n",
       "<style scoped>\n",
       "    .dataframe tbody tr th:only-of-type {\n",
       "        vertical-align: middle;\n",
       "    }\n",
       "\n",
       "    .dataframe tbody tr th {\n",
       "        vertical-align: top;\n",
       "    }\n",
       "\n",
       "    .dataframe thead th {\n",
       "        text-align: right;\n",
       "    }\n",
       "</style>\n",
       "<table border=\"1\" class=\"dataframe\">\n",
       "  <thead>\n",
       "    <tr style=\"text-align: right;\">\n",
       "      <th></th>\n",
       "      <th>critical_count</th>\n",
       "      <th>serious_count</th>\n",
       "      <th>minor_count</th>\n",
       "      <th>inspection_id</th>\n",
       "      <th>license</th>\n",
       "    </tr>\n",
       "  </thead>\n",
       "  <tbody>\n",
       "    <tr>\n",
       "      <td>3</td>\n",
       "      <td>3.0</td>\n",
       "      <td>0.0</td>\n",
       "      <td>1.0</td>\n",
       "      <td>2222357</td>\n",
       "      <td>40.0</td>\n",
       "    </tr>\n",
       "    <tr>\n",
       "      <td>4</td>\n",
       "      <td>0.0</td>\n",
       "      <td>0.0</td>\n",
       "      <td>2.0</td>\n",
       "      <td>2145199</td>\n",
       "      <td>62.0</td>\n",
       "    </tr>\n",
       "    <tr>\n",
       "      <td>5</td>\n",
       "      <td>1.0</td>\n",
       "      <td>0.0</td>\n",
       "      <td>3.0</td>\n",
       "      <td>1138213</td>\n",
       "      <td>85.0</td>\n",
       "    </tr>\n",
       "  </tbody>\n",
       "</table>\n",
       "</div>"
      ],
      "text/plain": [
       "   critical_count  serious_count  minor_count  inspection_id  license\n",
       "3             3.0            0.0          1.0        2222357     40.0\n",
       "4             0.0            0.0          2.0        2145199     62.0\n",
       "5             1.0            0.0          3.0        1138213     85.0"
      ]
     },
     "execution_count": 30,
     "metadata": {},
     "output_type": "execute_result"
    }
   ],
   "source": [
    "#counting the kind of violation per inspection ID\n",
    "violation_counts = pd.DataFrame({\n",
    "    \"critical_count\": violations_data[critical].sum(axis=1),\n",
    "    \"serious_count\": violations_data[serious].sum(axis=1),\n",
    "    \"minor_count\": violations_data[minor].sum(axis=1)\n",
    "})\n",
    "\n",
    "violation_counts['inspection_id'] = data_last_inspection.inspection_id\n",
    "violation_counts['license'] = data_last_inspection.license\n",
    "# Display selection of sums dataframe\n",
    "violation_counts.iloc[3:6]"
   ]
  },
  {
   "cell_type": "code",
   "execution_count": 31,
   "metadata": {
    "scrolled": true
   },
   "outputs": [
    {
     "data": {
      "text/plain": [
       "critical_count    1.511000e+04\n",
       "serious_count     6.942000e+03\n",
       "minor_count       4.783300e+04\n",
       "inspection_id     5.325937e+10\n",
       "license           6.007050e+10\n",
       "dtype: float64"
      ]
     },
     "execution_count": 31,
     "metadata": {},
     "output_type": "execute_result"
    }
   ],
   "source": [
    "#minor violatios are more frequent .\n",
    "violation_counts.sum()"
   ]
  }
 ],
 "metadata": {
  "kernelspec": {
   "display_name": "Python 3",
   "language": "python",
   "name": "python3"
  },
  "language_info": {
   "codemirror_mode": {
    "name": "ipython",
    "version": 3
   },
   "file_extension": ".py",
   "mimetype": "text/x-python",
   "name": "python",
   "nbconvert_exporter": "python",
   "pygments_lexer": "ipython3",
   "version": "3.7.4"
  }
 },
 "nbformat": 4,
 "nbformat_minor": 2
}
