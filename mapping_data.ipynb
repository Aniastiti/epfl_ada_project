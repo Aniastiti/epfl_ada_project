{
 "cells": [
  {
   "cell_type": "code",
   "execution_count": 52,
   "metadata": {},
   "outputs": [],
   "source": [
    "import re\n",
    "import warnings\n",
    "import os\n",
    "import folium\n",
    "import geopandas as gpd\n",
    "import pandas as pd\n",
    "import numpy as np\n",
    "import statsmodels as sm\n",
    "import seaborn as sns # for beautiful graphs\n",
    "import matplotlib.ticker as mtick\n",
    "import matplotlib.pyplot as plt\n",
    "import scipy.stats as stats # to calculate r^2 for linear regressions\n",
    "import branca.colormap as cm\n",
    "\n",
    "from scipy.stats import powerlaw # for plotting linear regressions\n",
    "from folium import plugins\n",
    "from folium.plugins import HeatMap\n",
    "from IPython.display import IFrame\n",
    "from mapping_functions import generateBaseMap, geodataframe, chlorepleth_map, adding_Marker\n",
    "\n",
    "%matplotlib inline\n",
    "sns.set()\n",
    "warnings.filterwarnings('ignore')"
   ]
  },
  {
   "cell_type": "markdown",
   "metadata": {},
   "source": [
    "# Visual Exploration of the data"
   ]
  },
  {
   "cell_type": "markdown",
   "metadata": {},
   "source": [
    "> In this part, we explore the data by mapping. "
   ]
  },
  {
   "cell_type": "code",
   "execution_count": 53,
   "metadata": {},
   "outputs": [
    {
     "data": {
      "text/html": [
       "<div>\n",
       "<style scoped>\n",
       "    .dataframe tbody tr th:only-of-type {\n",
       "        vertical-align: middle;\n",
       "    }\n",
       "\n",
       "    .dataframe tbody tr th {\n",
       "        vertical-align: top;\n",
       "    }\n",
       "\n",
       "    .dataframe thead th {\n",
       "        text-align: right;\n",
       "    }\n",
       "</style>\n",
       "<table border=\"1\" class=\"dataframe\">\n",
       "  <thead>\n",
       "    <tr style=\"text-align: right;\">\n",
       "      <th></th>\n",
       "      <th>inspection_id</th>\n",
       "      <th>dba_name</th>\n",
       "      <th>aka_name</th>\n",
       "      <th>license</th>\n",
       "      <th>facility_type</th>\n",
       "      <th>risk</th>\n",
       "      <th>address</th>\n",
       "      <th>zip</th>\n",
       "      <th>inspection_date</th>\n",
       "      <th>inspection_type</th>\n",
       "      <th>results</th>\n",
       "      <th>violations</th>\n",
       "      <th>latitude</th>\n",
       "      <th>longitude</th>\n",
       "      <th>location</th>\n",
       "    </tr>\n",
       "  </thead>\n",
       "  <tbody>\n",
       "    <tr>\n",
       "      <td>0</td>\n",
       "      <td>2352734</td>\n",
       "      <td>CHILI'S T-I</td>\n",
       "      <td>CHILI'S (T1-B14)</td>\n",
       "      <td>34169.0</td>\n",
       "      <td>Restaurant</td>\n",
       "      <td>Risk 1 (High)</td>\n",
       "      <td>11601 W TOUHY AVE</td>\n",
       "      <td>60666.0</td>\n",
       "      <td>2019-12-04</td>\n",
       "      <td>Canvass</td>\n",
       "      <td>Pass</td>\n",
       "      <td>10. ADEQUATE HANDWASHING SINKS PROPERLY SUPPLI...</td>\n",
       "      <td>42.008536</td>\n",
       "      <td>-87.914428</td>\n",
       "      <td>{'latitude': '-87.91442843927047', 'longitude'...</td>\n",
       "    </tr>\n",
       "    <tr>\n",
       "      <td>1</td>\n",
       "      <td>2352727</td>\n",
       "      <td>PORTAGE PARK DAY NURSERY</td>\n",
       "      <td>MOSAIC EARLY CHILDHOOD ACADEMY</td>\n",
       "      <td>2215815.0</td>\n",
       "      <td>Children's Services Facility</td>\n",
       "      <td>Risk 1 (High)</td>\n",
       "      <td>5332-5334 W ADDISON ST</td>\n",
       "      <td>60641.0</td>\n",
       "      <td>2019-12-04</td>\n",
       "      <td>Canvass</td>\n",
       "      <td>Pass</td>\n",
       "      <td>NaN</td>\n",
       "      <td>41.946065</td>\n",
       "      <td>-87.760722</td>\n",
       "      <td>{'latitude': '-87.76072227616888', 'longitude'...</td>\n",
       "    </tr>\n",
       "    <tr>\n",
       "      <td>2</td>\n",
       "      <td>2352738</td>\n",
       "      <td>AMARIT RESTAURANT</td>\n",
       "      <td>AMARIT RESTAURANT</td>\n",
       "      <td>1801618.0</td>\n",
       "      <td>Restaurant</td>\n",
       "      <td>Risk 1 (High)</td>\n",
       "      <td>600 S DEARBORN ST</td>\n",
       "      <td>60605.0</td>\n",
       "      <td>2019-12-04</td>\n",
       "      <td>Canvass Re-Inspection</td>\n",
       "      <td>Pass</td>\n",
       "      <td>NaN</td>\n",
       "      <td>41.874481</td>\n",
       "      <td>-87.629357</td>\n",
       "      <td>{'latitude': '-87.62935653990546', 'longitude'...</td>\n",
       "    </tr>\n",
       "  </tbody>\n",
       "</table>\n",
       "</div>"
      ],
      "text/plain": [
       "   inspection_id                  dba_name                        aka_name  \\\n",
       "0        2352734               CHILI'S T-I                CHILI'S (T1-B14)   \n",
       "1        2352727  PORTAGE PARK DAY NURSERY  MOSAIC EARLY CHILDHOOD ACADEMY   \n",
       "2        2352738         AMARIT RESTAURANT               AMARIT RESTAURANT   \n",
       "\n",
       "     license                 facility_type           risk  \\\n",
       "0    34169.0                    Restaurant  Risk 1 (High)   \n",
       "1  2215815.0  Children's Services Facility  Risk 1 (High)   \n",
       "2  1801618.0                    Restaurant  Risk 1 (High)   \n",
       "\n",
       "                   address      zip inspection_date        inspection_type  \\\n",
       "0       11601 W TOUHY AVE   60666.0      2019-12-04                Canvass   \n",
       "1  5332-5334 W ADDISON ST   60641.0      2019-12-04                Canvass   \n",
       "2       600 S DEARBORN ST   60605.0      2019-12-04  Canvass Re-Inspection   \n",
       "\n",
       "  results                                         violations   latitude  \\\n",
       "0    Pass  10. ADEQUATE HANDWASHING SINKS PROPERLY SUPPLI...  42.008536   \n",
       "1    Pass                                                NaN  41.946065   \n",
       "2    Pass                                                NaN  41.874481   \n",
       "\n",
       "   longitude                                           location  \n",
       "0 -87.914428  {'latitude': '-87.91442843927047', 'longitude'...  \n",
       "1 -87.760722  {'latitude': '-87.76072227616888', 'longitude'...  \n",
       "2 -87.629357  {'latitude': '-87.62935653990546', 'longitude'...  "
      ]
     },
     "metadata": {},
     "output_type": "display_data"
    }
   ],
   "source": [
    "# import the cleaning dataset \n",
    "data = pd.read_csv('data/clean_dataset.csv', delimiter = ',')\n",
    "\n",
    "# drop the unnamed column\n",
    "data.drop(['Unnamed: 0'], axis = 1,inplace = True)\n",
    "\n",
    "# show the dataframe\n",
    "display(data.head(3))"
   ]
  },
  {
   "cell_type": "code",
   "execution_count": 54,
   "metadata": {},
   "outputs": [],
   "source": [
    "# convert the zip column into an str\n",
    "data.zip = data.zip.astype(str)\n",
    "    \n",
    "# reformat the zip code writing in order to compare it with the zip code in geojson file (for vizualisation step)\n",
    "data['zip'] = data['zip'].apply(lambda x : x.split('.')[0])"
   ]
  },
  {
   "cell_type": "markdown",
   "metadata": {},
   "source": [
    "# Area with the highest number of inspection "
   ]
  },
  {
   "cell_type": "markdown",
   "metadata": {},
   "source": [
    "> It is important to see if there is a homogeneous inspection repartition in Chicago. Let's check if there are areas with higher inspection counts than others."
   ]
  },
  {
   "cell_type": "code",
   "execution_count": 55,
   "metadata": {
    "scrolled": false
   },
   "outputs": [
    {
     "data": {
      "text/html": [
       "\n",
       "        <iframe\n",
       "            width=\"700\"\n",
       "            height=\"600\"\n",
       "            src=\"maps/base_map.html\"\n",
       "            frameborder=\"0\"\n",
       "            allowfullscreen\n",
       "        ></iframe>\n",
       "        "
      ],
      "text/plain": [
       "<IPython.lib.display.IFrame at 0x1a2b48e5d0>"
      ]
     },
     "execution_count": 55,
     "metadata": {},
     "output_type": "execute_result"
    }
   ],
   "source": [
    "# mapping the areas with the highest number of inspections \n",
    "data['count'] = 1\n",
    "base_map = generateBaseMap()\n",
    "HeatMap(data = data[['latitude', 'longitude', 'count']].groupby(['latitude', 'longitude']).sum().reset_index().values.tolist(), radius=8, max_zoom=13).add_to(base_map)\n",
    "#base_map.save('base_map.html')\n",
    "IFrame(src = 'maps/base_map.html', width = 700, height = 600)"
   ]
  },
  {
   "cell_type": "markdown",
   "metadata": {},
   "source": [
    "**Obsersations:** we can observe that the areas in the Chicago periphery are less inspected. This is coherent with what we expected since there are more facilities in a city center and also near the sea."
   ]
  },
  {
   "cell_type": "markdown",
   "metadata": {},
   "source": [
    "# Creation of the geo dataframe "
   ]
  },
  {
   "cell_type": "code",
   "execution_count": 56,
   "metadata": {
    "scrolled": true
   },
   "outputs": [
    {
     "data": {
      "text/html": [
       "<div>\n",
       "<style scoped>\n",
       "    .dataframe tbody tr th:only-of-type {\n",
       "        vertical-align: middle;\n",
       "    }\n",
       "\n",
       "    .dataframe tbody tr th {\n",
       "        vertical-align: top;\n",
       "    }\n",
       "\n",
       "    .dataframe thead th {\n",
       "        text-align: right;\n",
       "    }\n",
       "</style>\n",
       "<table border=\"1\" class=\"dataframe\">\n",
       "  <thead>\n",
       "    <tr style=\"text-align: right;\">\n",
       "      <th></th>\n",
       "      <th>objectid</th>\n",
       "      <th>shape_area</th>\n",
       "      <th>shape_len</th>\n",
       "      <th>zip</th>\n",
       "      <th>geometry</th>\n",
       "      <th>centroid_lon</th>\n",
       "      <th>centroid_lat</th>\n",
       "      <th>facility_number_per_zip</th>\n",
       "    </tr>\n",
       "  </thead>\n",
       "  <tbody>\n",
       "    <tr>\n",
       "      <td>0</td>\n",
       "      <td>33</td>\n",
       "      <td>106052287.488</td>\n",
       "      <td>42720.0444058</td>\n",
       "      <td>60647</td>\n",
       "      <td>(POLYGON ((-87.67762151065281 41.9177578010629...</td>\n",
       "      <td>-87.702259</td>\n",
       "      <td>41.921098</td>\n",
       "      <td>4628</td>\n",
       "    </tr>\n",
       "    <tr>\n",
       "      <td>1</td>\n",
       "      <td>34</td>\n",
       "      <td>127476050.762</td>\n",
       "      <td>48103.7827213</td>\n",
       "      <td>60639</td>\n",
       "      <td>(POLYGON ((-87.72683253163021 41.9226462671259...</td>\n",
       "      <td>-87.755996</td>\n",
       "      <td>41.920456</td>\n",
       "      <td>3436</td>\n",
       "    </tr>\n",
       "    <tr>\n",
       "      <td>2</td>\n",
       "      <td>35</td>\n",
       "      <td>45069038.4783</td>\n",
       "      <td>27288.6096123</td>\n",
       "      <td>60707</td>\n",
       "      <td>(POLYGON ((-87.78500237831095 41.9091478547167...</td>\n",
       "      <td>-87.795738</td>\n",
       "      <td>41.919948</td>\n",
       "      <td>735</td>\n",
       "    </tr>\n",
       "  </tbody>\n",
       "</table>\n",
       "</div>"
      ],
      "text/plain": [
       "  objectid     shape_area      shape_len    zip  \\\n",
       "0       33  106052287.488  42720.0444058  60647   \n",
       "1       34  127476050.762  48103.7827213  60639   \n",
       "2       35  45069038.4783  27288.6096123  60707   \n",
       "\n",
       "                                            geometry  centroid_lon  \\\n",
       "0  (POLYGON ((-87.67762151065281 41.9177578010629...    -87.702259   \n",
       "1  (POLYGON ((-87.72683253163021 41.9226462671259...    -87.755996   \n",
       "2  (POLYGON ((-87.78500237831095 41.9091478547167...    -87.795738   \n",
       "\n",
       "   centroid_lat  facility_number_per_zip  \n",
       "0     41.921098                     4628  \n",
       "1     41.920456                     3436  \n",
       "2     41.919948                      735  "
      ]
     },
     "execution_count": 56,
     "metadata": {},
     "output_type": "execute_result"
    }
   ],
   "source": [
    "# creating our geodataframe based on the basic dataframe\n",
    "gdf = geodataframe(data)\n",
    "gdf.head(3)"
   ]
  },
  {
   "cell_type": "markdown",
   "metadata": {},
   "source": [
    "# Mapping Chlorepeth"
   ]
  },
  {
   "cell_type": "code",
   "execution_count": 57,
   "metadata": {},
   "outputs": [],
   "source": [
    "style_function = lambda x: {'fillColor': '#ffffff', \n",
    "                            'color':'#000000', \n",
    "                            'fillOpacity': 0.1, \n",
    "                            'weight': 0.1}\n",
    "\n",
    "highlight_function = lambda x: {'fillColor': '#000000', \n",
    "                                'color':'#000000', \n",
    "                                'fillOpacity': 0.50, \n",
    "                                'weight': 0.1}\n"
   ]
  },
  {
   "cell_type": "markdown",
   "metadata": {},
   "source": [
    "# Proportion of failed inspection per zip area"
   ]
  },
  {
   "cell_type": "markdown",
   "metadata": {},
   "source": [
    "> The aim of this part is to see if there is a correlation between the localization of the facilities and the results of the inspection. Here, we focus on the facilities that failed the inspection. "
   ]
  },
  {
   "cell_type": "code",
   "execution_count": 58,
   "metadata": {},
   "outputs": [],
   "source": [
    "# creating a dataset with only the fail results \n",
    "fail_data = data[~data['results'].isin(['Pass','Pass w/ Conditions'])]\n",
    "\n",
    "# counting the number of fail per zip code\n",
    "fail_count_per_zip = pd.DataFrame(fail_data.groupby('zip')['results'].count()).reset_index()\n",
    "fail_count_per_zip.rename(columns = {'results': 'fail_count'}, inplace = True)"
   ]
  },
  {
   "cell_type": "markdown",
   "metadata": {},
   "source": [
    "As we saw in the heat map above, some areas are more inspected that others. Thus, we need to calculate a proportion of fails per zip code ( not an absolute count since it will be influenced by the facilities count in a particular area)."
   ]
  },
  {
   "cell_type": "code",
   "execution_count": 59,
   "metadata": {},
   "outputs": [
    {
     "data": {
      "text/html": [
       "<div>\n",
       "<style scoped>\n",
       "    .dataframe tbody tr th:only-of-type {\n",
       "        vertical-align: middle;\n",
       "    }\n",
       "\n",
       "    .dataframe tbody tr th {\n",
       "        vertical-align: top;\n",
       "    }\n",
       "\n",
       "    .dataframe thead th {\n",
       "        text-align: right;\n",
       "    }\n",
       "</style>\n",
       "<table border=\"1\" class=\"dataframe\">\n",
       "  <thead>\n",
       "    <tr style=\"text-align: right;\">\n",
       "      <th></th>\n",
       "      <th>objectid</th>\n",
       "      <th>shape_area</th>\n",
       "      <th>shape_len</th>\n",
       "      <th>zip</th>\n",
       "      <th>geometry</th>\n",
       "      <th>centroid_lon</th>\n",
       "      <th>centroid_lat</th>\n",
       "      <th>facility_number_per_zip</th>\n",
       "      <th>fail_count</th>\n",
       "      <th>fail_proportion</th>\n",
       "    </tr>\n",
       "  </thead>\n",
       "  <tbody>\n",
       "    <tr>\n",
       "      <td>0</td>\n",
       "      <td>33</td>\n",
       "      <td>106052287.488</td>\n",
       "      <td>42720.0444058</td>\n",
       "      <td>60647</td>\n",
       "      <td>(POLYGON ((-87.67762151065281 41.9177578010629...</td>\n",
       "      <td>-87.702259</td>\n",
       "      <td>41.921098</td>\n",
       "      <td>4628</td>\n",
       "      <td>1018</td>\n",
       "      <td>22.00</td>\n",
       "    </tr>\n",
       "    <tr>\n",
       "      <td>1</td>\n",
       "      <td>34</td>\n",
       "      <td>127476050.762</td>\n",
       "      <td>48103.7827213</td>\n",
       "      <td>60639</td>\n",
       "      <td>(POLYGON ((-87.72683253163021 41.9226462671259...</td>\n",
       "      <td>-87.755996</td>\n",
       "      <td>41.920456</td>\n",
       "      <td>3436</td>\n",
       "      <td>796</td>\n",
       "      <td>23.17</td>\n",
       "    </tr>\n",
       "    <tr>\n",
       "      <td>2</td>\n",
       "      <td>35</td>\n",
       "      <td>45069038.4783</td>\n",
       "      <td>27288.6096123</td>\n",
       "      <td>60707</td>\n",
       "      <td>(POLYGON ((-87.78500237831095 41.9091478547167...</td>\n",
       "      <td>-87.795738</td>\n",
       "      <td>41.919948</td>\n",
       "      <td>735</td>\n",
       "      <td>145</td>\n",
       "      <td>19.73</td>\n",
       "    </tr>\n",
       "  </tbody>\n",
       "</table>\n",
       "</div>"
      ],
      "text/plain": [
       "  objectid     shape_area      shape_len    zip  \\\n",
       "0       33  106052287.488  42720.0444058  60647   \n",
       "1       34  127476050.762  48103.7827213  60639   \n",
       "2       35  45069038.4783  27288.6096123  60707   \n",
       "\n",
       "                                            geometry  centroid_lon  \\\n",
       "0  (POLYGON ((-87.67762151065281 41.9177578010629...    -87.702259   \n",
       "1  (POLYGON ((-87.72683253163021 41.9226462671259...    -87.755996   \n",
       "2  (POLYGON ((-87.78500237831095 41.9091478547167...    -87.795738   \n",
       "\n",
       "   centroid_lat  facility_number_per_zip  fail_count  fail_proportion  \n",
       "0     41.921098                     4628        1018            22.00  \n",
       "1     41.920456                     3436         796            23.17  \n",
       "2     41.919948                      735         145            19.73  "
      ]
     },
     "execution_count": 59,
     "metadata": {},
     "output_type": "execute_result"
    }
   ],
   "source": [
    "# merge with gdf dataframe and facility count dataframe \n",
    "fail_gdf = pd.merge(gdf,fail_count_per_zip, on = 'zip')\n",
    "\n",
    "# proportion of facility that failed the investigation per zip code\n",
    "fail_gdf['fail_proportion'] = round(fail_gdf['fail_count'].divide(fail_gdf['facility_number_per_zip'])*100,2)\n",
    "fail_gdf.head(3)"
   ]
  },
  {
   "cell_type": "code",
   "execution_count": 60,
   "metadata": {},
   "outputs": [],
   "source": [
    "fail_map = chlorepleth_map('Fail proportion',fail_gdf,['zip','fail_proportion'],'Fail proportion','Reds')\n",
    "#fail_map.save('fail_map.html')\n",
    "#IFrame(src = 'maps/fail_map.html', width = 700, height = 600)\n"
   ]
  },
  {
   "cell_type": "markdown",
   "metadata": {},
   "source": [
    "**Obervations:** We can observe that some zip code areas have a higher number of failed inspections than others. We can notice a high number of failed in the middle south of Chicago. "
   ]
  },
  {
   "cell_type": "markdown",
   "metadata": {},
   "source": [
    "# Mapping the proportion of pass and pass w/conditions"
   ]
  },
  {
   "cell_type": "code",
   "execution_count": 61,
   "metadata": {},
   "outputs": [],
   "source": [
    "# creating a dataset with only the pass and pass w/conditions results \n",
    "pass_data = data[~data['results'].isin(['Fail'])]\n",
    "\n",
    "# counting the number of pass inspections per zip code\n",
    "pass_count_per_zip = pd.DataFrame(pass_data.groupby('zip')['results'].count()).reset_index()\n",
    "pass_count_per_zip.rename(columns = {'results': 'pass_count'}, inplace = True)"
   ]
  },
  {
   "cell_type": "code",
   "execution_count": 62,
   "metadata": {},
   "outputs": [
    {
     "data": {
      "text/html": [
       "<div>\n",
       "<style scoped>\n",
       "    .dataframe tbody tr th:only-of-type {\n",
       "        vertical-align: middle;\n",
       "    }\n",
       "\n",
       "    .dataframe tbody tr th {\n",
       "        vertical-align: top;\n",
       "    }\n",
       "\n",
       "    .dataframe thead th {\n",
       "        text-align: right;\n",
       "    }\n",
       "</style>\n",
       "<table border=\"1\" class=\"dataframe\">\n",
       "  <thead>\n",
       "    <tr style=\"text-align: right;\">\n",
       "      <th></th>\n",
       "      <th>zip</th>\n",
       "      <th>pass_count</th>\n",
       "      <th>objectid</th>\n",
       "      <th>shape_area</th>\n",
       "      <th>shape_len</th>\n",
       "      <th>geometry</th>\n",
       "      <th>centroid_lon</th>\n",
       "      <th>centroid_lat</th>\n",
       "      <th>facility_number_per_zip</th>\n",
       "      <th>pass_proportion</th>\n",
       "    </tr>\n",
       "  </thead>\n",
       "  <tbody>\n",
       "    <tr>\n",
       "      <td>0</td>\n",
       "      <td>60601</td>\n",
       "      <td>2206</td>\n",
       "      <td>27</td>\n",
       "      <td>9166245.79985</td>\n",
       "      <td>19804.5821088</td>\n",
       "      <td>(POLYGON ((-87.62271368513663 41.8888359224763...</td>\n",
       "      <td>-87.621022</td>\n",
       "      <td>41.886404</td>\n",
       "      <td>2517</td>\n",
       "      <td>0.876440</td>\n",
       "    </tr>\n",
       "    <tr>\n",
       "      <td>1</td>\n",
       "      <td>60602</td>\n",
       "      <td>945</td>\n",
       "      <td>26</td>\n",
       "      <td>4847124.8171</td>\n",
       "      <td>14448.1749926</td>\n",
       "      <td>(POLYGON ((-87.60996958016865 41.8843572835999...</td>\n",
       "      <td>-87.623661</td>\n",
       "      <td>41.883318</td>\n",
       "      <td>1099</td>\n",
       "      <td>0.859873</td>\n",
       "    </tr>\n",
       "    <tr>\n",
       "      <td>2</td>\n",
       "      <td>60603</td>\n",
       "      <td>1209</td>\n",
       "      <td>19</td>\n",
       "      <td>4560228.98203</td>\n",
       "      <td>13672.6822885</td>\n",
       "      <td>(POLYGON ((-87.61633485348139 41.8821117438214...</td>\n",
       "      <td>-87.624471</td>\n",
       "      <td>41.880647</td>\n",
       "      <td>1408</td>\n",
       "      <td>0.858665</td>\n",
       "    </tr>\n",
       "  </tbody>\n",
       "</table>\n",
       "</div>"
      ],
      "text/plain": [
       "     zip  pass_count objectid     shape_area      shape_len  \\\n",
       "0  60601        2206       27  9166245.79985  19804.5821088   \n",
       "1  60602         945       26   4847124.8171  14448.1749926   \n",
       "2  60603        1209       19  4560228.98203  13672.6822885   \n",
       "\n",
       "                                            geometry  centroid_lon  \\\n",
       "0  (POLYGON ((-87.62271368513663 41.8888359224763...    -87.621022   \n",
       "1  (POLYGON ((-87.60996958016865 41.8843572835999...    -87.623661   \n",
       "2  (POLYGON ((-87.61633485348139 41.8821117438214...    -87.624471   \n",
       "\n",
       "   centroid_lat  facility_number_per_zip  pass_proportion  \n",
       "0     41.886404                     2517         0.876440  \n",
       "1     41.883318                     1099         0.859873  \n",
       "2     41.880647                     1408         0.858665  "
      ]
     },
     "execution_count": 62,
     "metadata": {},
     "output_type": "execute_result"
    }
   ],
   "source": [
    "# merge with gdf dataframe and facility count dataframe \n",
    "pass_gdf = pd.merge(pass_count_per_zip,gdf, on = 'zip')\n",
    "\n",
    "# proportion of facility that passed the investigation per zip code\n",
    "pass_gdf['pass_proportion'] = pass_gdf['pass_count'].divide(pass_gdf['facility_number_per_zip'])\n",
    "pass_gdf.head(3)"
   ]
  },
  {
   "cell_type": "code",
   "execution_count": 63,
   "metadata": {},
   "outputs": [
    {
     "data": {
      "text/html": [
       "\n",
       "        <iframe\n",
       "            width=\"700\"\n",
       "            height=\"600\"\n",
       "            src=\"maps/pass_map.html\"\n",
       "            frameborder=\"0\"\n",
       "            allowfullscreen\n",
       "        ></iframe>\n",
       "        "
      ],
      "text/plain": [
       "<IPython.lib.display.IFrame at 0x1a2736df90>"
      ]
     },
     "execution_count": 63,
     "metadata": {},
     "output_type": "execute_result"
    }
   ],
   "source": [
    "pass_map = chlorepleth_map('Pass proportion',pass_gdf,['zip','pass_proportion'],'Pass proportion','YlGn')\n",
    "#pass_map.save('pass_map.html')\n",
    "IFrame(src = 'maps/pass_map.html', width = 700, height = 600)"
   ]
  },
  {
   "cell_type": "markdown",
   "metadata": {},
   "source": [
    "**Obervations**: This map leads to the same conclusion than the one above , as expected."
   ]
  },
  {
   "cell_type": "markdown",
   "metadata": {},
   "source": [
    "# Proportion of poisoning complain in a given zip area"
   ]
  },
  {
   "cell_type": "code",
   "execution_count": 64,
   "metadata": {},
   "outputs": [],
   "source": [
    "# creating a dataset with only the inspections due to poisoning\n",
    "poisoning_data = data[data['inspection_type'] == 'Suspected Food Poisoning']\n",
    "\n",
    "# counting the number of fail per zip code\n",
    "poisoning_count_per_zip = pd.DataFrame(poisoning_data.groupby('zip')['results'].count()).reset_index()\n",
    "poisoning_count_per_zip.rename(columns = {'results': 'poisoning_count'}, inplace = True)"
   ]
  },
  {
   "cell_type": "code",
   "execution_count": 65,
   "metadata": {
    "scrolled": true
   },
   "outputs": [
    {
     "data": {
      "text/html": [
       "<div>\n",
       "<style scoped>\n",
       "    .dataframe tbody tr th:only-of-type {\n",
       "        vertical-align: middle;\n",
       "    }\n",
       "\n",
       "    .dataframe tbody tr th {\n",
       "        vertical-align: top;\n",
       "    }\n",
       "\n",
       "    .dataframe thead th {\n",
       "        text-align: right;\n",
       "    }\n",
       "</style>\n",
       "<table border=\"1\" class=\"dataframe\">\n",
       "  <thead>\n",
       "    <tr style=\"text-align: right;\">\n",
       "      <th></th>\n",
       "      <th>objectid</th>\n",
       "      <th>shape_area</th>\n",
       "      <th>shape_len</th>\n",
       "      <th>zip</th>\n",
       "      <th>geometry</th>\n",
       "      <th>centroid_lon</th>\n",
       "      <th>centroid_lat</th>\n",
       "      <th>facility_number_per_zip</th>\n",
       "      <th>poisoning_count</th>\n",
       "      <th>poisoning_proportion</th>\n",
       "    </tr>\n",
       "  </thead>\n",
       "  <tbody>\n",
       "    <tr>\n",
       "      <td>0</td>\n",
       "      <td>33</td>\n",
       "      <td>106052287.488</td>\n",
       "      <td>42720.0444058</td>\n",
       "      <td>60647</td>\n",
       "      <td>(POLYGON ((-87.67762151065281 41.9177578010629...</td>\n",
       "      <td>-87.702259</td>\n",
       "      <td>41.921098</td>\n",
       "      <td>4628</td>\n",
       "      <td>18</td>\n",
       "      <td>0.39</td>\n",
       "    </tr>\n",
       "    <tr>\n",
       "      <td>1</td>\n",
       "      <td>34</td>\n",
       "      <td>127476050.762</td>\n",
       "      <td>48103.7827213</td>\n",
       "      <td>60639</td>\n",
       "      <td>(POLYGON ((-87.72683253163021 41.9226462671259...</td>\n",
       "      <td>-87.755996</td>\n",
       "      <td>41.920456</td>\n",
       "      <td>3436</td>\n",
       "      <td>17</td>\n",
       "      <td>0.49</td>\n",
       "    </tr>\n",
       "    <tr>\n",
       "      <td>2</td>\n",
       "      <td>35</td>\n",
       "      <td>45069038.4783</td>\n",
       "      <td>27288.6096123</td>\n",
       "      <td>60707</td>\n",
       "      <td>(POLYGON ((-87.78500237831095 41.9091478547167...</td>\n",
       "      <td>-87.795738</td>\n",
       "      <td>41.919948</td>\n",
       "      <td>735</td>\n",
       "      <td>5</td>\n",
       "      <td>0.68</td>\n",
       "    </tr>\n",
       "  </tbody>\n",
       "</table>\n",
       "</div>"
      ],
      "text/plain": [
       "  objectid     shape_area      shape_len    zip  \\\n",
       "0       33  106052287.488  42720.0444058  60647   \n",
       "1       34  127476050.762  48103.7827213  60639   \n",
       "2       35  45069038.4783  27288.6096123  60707   \n",
       "\n",
       "                                            geometry  centroid_lon  \\\n",
       "0  (POLYGON ((-87.67762151065281 41.9177578010629...    -87.702259   \n",
       "1  (POLYGON ((-87.72683253163021 41.9226462671259...    -87.755996   \n",
       "2  (POLYGON ((-87.78500237831095 41.9091478547167...    -87.795738   \n",
       "\n",
       "   centroid_lat  facility_number_per_zip  poisoning_count  \\\n",
       "0     41.921098                     4628               18   \n",
       "1     41.920456                     3436               17   \n",
       "2     41.919948                      735                5   \n",
       "\n",
       "   poisoning_proportion  \n",
       "0                  0.39  \n",
       "1                  0.49  \n",
       "2                  0.68  "
      ]
     },
     "execution_count": 65,
     "metadata": {},
     "output_type": "execute_result"
    }
   ],
   "source": [
    "# merge with gdf dataframe and facility count dataframe \n",
    "poisoning_gdf = pd.merge(gdf,poisoning_count_per_zip, on = 'zip')\n",
    "\n",
    "# proportion of facility that passed the investigation per zip code\n",
    "poisoning_gdf['poisoning_proportion'] = round((poisoning_gdf['poisoning_count'].divide(poisoning_gdf['facility_number_per_zip']))*100,2)\n",
    "poisoning_gdf.head(3)"
   ]
  },
  {
   "cell_type": "code",
   "execution_count": 66,
   "metadata": {},
   "outputs": [
    {
     "data": {
      "text/html": [
       "\n",
       "        <iframe\n",
       "            width=\"700\"\n",
       "            height=\"600\"\n",
       "            src=\"maps/poisoning_map.html\"\n",
       "            frameborder=\"0\"\n",
       "            allowfullscreen\n",
       "        ></iframe>\n",
       "        "
      ],
      "text/plain": [
       "<IPython.lib.display.IFrame at 0x1a2736af10>"
      ]
     },
     "execution_count": 66,
     "metadata": {},
     "output_type": "execute_result"
    }
   ],
   "source": [
    "poisoning_map = chlorepleth_map ('Poisoning proportion',poisoning_gdf,['zip','poisoning_proportion'],'Suspected poisoning proportion','PuRd')\n",
    "#poisoning_map.save('poisoning_map.html')\n",
    "IFrame(src = 'maps/poisoning_map.html', width = 700, height = 600)"
   ]
  },
  {
   "cell_type": "markdown",
   "metadata": {},
   "source": [
    "**Observations** : We can observe that some areas had a higher number of inspections due to suspected food poisoning. These areas do not seem to necessary correlate with the pass/fail results of inspections. Also, it seems that we have a high concentration of this kind of investigation in the center of Chicago near to the sea. We need to investigate more about that.\n",
    "> It seems like the area where there are the more inspections due to supsected food poisoning are near the sea. We  need to investigate more about this because of the presence of e-coli in sea water. Does it play a role in this complain about food poisoning ? To do so, we will study later a dataframe which provide predictions about e-coli concentration at beaches in Chicago."
   ]
  },
  {
   "cell_type": "markdown",
   "metadata": {},
   "source": [
    "# E. Coli Prevention in Chicago Beach Waters"
   ]
  },
  {
   "cell_type": "markdown",
   "metadata": {},
   "source": [
    "Escherichia coli is a bacterium that lives in the intestines of humans and animals alike and also causes food poisoning illness. A major source of E. coli infections is undercooked beef. Other sources of E. coli bacteria include drinking or swimming in water that is contaminated by sewage. E. coli bacterium, which is present in stool, can be passed from person-to-person as a result of improper hygiene or handwashing practices.\n",
    "\n",
    "People can become infected when a contaminated city or town water supply has not been properly treated with chlorine or when people accidentally swallow contaminated water while swimming in a lake, pool, or irrigation canal.\n",
    "The bacteria can also spread from one person to another, usually when an infected person does not wash his or her hands well after a bowel movement. E. coli can spread from an infected person's hands to other people or to objects."
   ]
  },
  {
   "cell_type": "markdown",
   "metadata": {},
   "source": [
    "> The Chicago Park District issues swim advisories at beaches along Chicago's Lake Michigan lakefront based on E. coli levels. The dataset below shows predicted E. coli levels based on an experimental analytical modeling approach."
   ]
  },
  {
   "cell_type": "code",
   "execution_count": 67,
   "metadata": {},
   "outputs": [],
   "source": [
    "ecoli_df = pd.read_csv('data/beach-e.-coli-predictions.csv',delimiter = ',')"
   ]
  },
  {
   "cell_type": "markdown",
   "metadata": {},
   "source": [
    "> US Environmental Protection Agency (USEPA) recommends notifying the public when E. coli bacteria levels are above the federal water quality Beach Action Value (BAV), which is 235*CFU. Thus, we will keep only the predicted values that are above this limit."
   ]
  },
  {
   "cell_type": "code",
   "execution_count": 68,
   "metadata": {},
   "outputs": [],
   "source": [
    "data_filtered = ecoli_df[ecoli_df['Predicted Level'] > 235]"
   ]
  },
  {
   "cell_type": "code",
   "execution_count": 69,
   "metadata": {},
   "outputs": [
    {
     "data": {
      "text/html": [
       "<div>\n",
       "<style scoped>\n",
       "    .dataframe tbody tr th:only-of-type {\n",
       "        vertical-align: middle;\n",
       "    }\n",
       "\n",
       "    .dataframe tbody tr th {\n",
       "        vertical-align: top;\n",
       "    }\n",
       "\n",
       "    .dataframe thead th {\n",
       "        text-align: right;\n",
       "    }\n",
       "</style>\n",
       "<table border=\"1\" class=\"dataframe\">\n",
       "  <thead>\n",
       "    <tr style=\"text-align: right;\">\n",
       "      <th></th>\n",
       "      <th>Beach Name</th>\n",
       "      <th>Predicted Level</th>\n",
       "    </tr>\n",
       "  </thead>\n",
       "  <tbody>\n",
       "    <tr>\n",
       "      <td>0</td>\n",
       "      <td>12th Street</td>\n",
       "      <td>47</td>\n",
       "    </tr>\n",
       "    <tr>\n",
       "      <td>1</td>\n",
       "      <td>57th Street</td>\n",
       "      <td>9</td>\n",
       "    </tr>\n",
       "    <tr>\n",
       "      <td>2</td>\n",
       "      <td>Foster</td>\n",
       "      <td>49</td>\n",
       "    </tr>\n",
       "    <tr>\n",
       "      <td>3</td>\n",
       "      <td>Hartigan (Albion)</td>\n",
       "      <td>4</td>\n",
       "    </tr>\n",
       "    <tr>\n",
       "      <td>4</td>\n",
       "      <td>Howard</td>\n",
       "      <td>5</td>\n",
       "    </tr>\n",
       "    <tr>\n",
       "      <td>5</td>\n",
       "      <td>Juneway</td>\n",
       "      <td>9</td>\n",
       "    </tr>\n",
       "    <tr>\n",
       "      <td>6</td>\n",
       "      <td>Leone</td>\n",
       "      <td>9</td>\n",
       "    </tr>\n",
       "    <tr>\n",
       "      <td>7</td>\n",
       "      <td>Margaret T Burroughs (31st)</td>\n",
       "      <td>72</td>\n",
       "    </tr>\n",
       "    <tr>\n",
       "      <td>8</td>\n",
       "      <td>Marion Mahony Griffin (Jarvis)</td>\n",
       "      <td>9</td>\n",
       "    </tr>\n",
       "    <tr>\n",
       "      <td>9</td>\n",
       "      <td>North Avenue</td>\n",
       "      <td>7</td>\n",
       "    </tr>\n",
       "    <tr>\n",
       "      <td>10</td>\n",
       "      <td>Oak Street</td>\n",
       "      <td>5</td>\n",
       "    </tr>\n",
       "    <tr>\n",
       "      <td>11</td>\n",
       "      <td>Oakwood</td>\n",
       "      <td>6</td>\n",
       "    </tr>\n",
       "    <tr>\n",
       "      <td>12</td>\n",
       "      <td>Ohio Street</td>\n",
       "      <td>26</td>\n",
       "    </tr>\n",
       "    <tr>\n",
       "      <td>13</td>\n",
       "      <td>Osterman</td>\n",
       "      <td>40</td>\n",
       "    </tr>\n",
       "    <tr>\n",
       "      <td>14</td>\n",
       "      <td>Rogers</td>\n",
       "      <td>11</td>\n",
       "    </tr>\n",
       "  </tbody>\n",
       "</table>\n",
       "</div>"
      ],
      "text/plain": [
       "                        Beach Name  Predicted Level\n",
       "0                      12th Street               47\n",
       "1                      57th Street                9\n",
       "2                           Foster               49\n",
       "3                Hartigan (Albion)                4\n",
       "4                           Howard                5\n",
       "5                          Juneway                9\n",
       "6                            Leone                9\n",
       "7      Margaret T Burroughs (31st)               72\n",
       "8   Marion Mahony Griffin (Jarvis)                9\n",
       "9                     North Avenue                7\n",
       "10                      Oak Street                5\n",
       "11                         Oakwood                6\n",
       "12                     Ohio Street               26\n",
       "13                        Osterman               40\n",
       "14                          Rogers               11"
      ]
     },
     "execution_count": 69,
     "metadata": {},
     "output_type": "execute_result"
    }
   ],
   "source": [
    "high_ecoli_concentration = pd.DataFrame(data_filtered.groupby('Beach Name')['Predicted Level'].count())\n",
    "high_ecoli_concentration.reset_index(inplace = True)\n",
    "high_ecoli_concentration"
   ]
  },
  {
   "cell_type": "code",
   "execution_count": 70,
   "metadata": {},
   "outputs": [
    {
     "data": {
      "text/html": [
       "<div>\n",
       "<style scoped>\n",
       "    .dataframe tbody tr th:only-of-type {\n",
       "        vertical-align: middle;\n",
       "    }\n",
       "\n",
       "    .dataframe tbody tr th {\n",
       "        vertical-align: top;\n",
       "    }\n",
       "\n",
       "    .dataframe thead th {\n",
       "        text-align: right;\n",
       "    }\n",
       "</style>\n",
       "<table border=\"1\" class=\"dataframe\">\n",
       "  <thead>\n",
       "    <tr style=\"text-align: right;\">\n",
       "      <th></th>\n",
       "      <th>Beach Name</th>\n",
       "      <th>Date</th>\n",
       "      <th>Prediction Source</th>\n",
       "      <th>Predicted Level_x</th>\n",
       "      <th>RecordID</th>\n",
       "      <th>Latitude</th>\n",
       "      <th>Longitude</th>\n",
       "      <th>Location</th>\n",
       "      <th>High measure count</th>\n",
       "    </tr>\n",
       "  </thead>\n",
       "  <tbody>\n",
       "    <tr>\n",
       "      <td>0</td>\n",
       "      <td>12th Street</td>\n",
       "      <td>2017-06-05T00:00:00</td>\n",
       "      <td>DNA Model</td>\n",
       "      <td>240.8</td>\n",
       "      <td>12thStreet20170605</td>\n",
       "      <td>41.8638</td>\n",
       "      <td>-87.6082</td>\n",
       "      <td>{'needs_recoding': False, 'longitude': '-87.60...</td>\n",
       "      <td>47</td>\n",
       "    </tr>\n",
       "    <tr>\n",
       "      <td>1</td>\n",
       "      <td>57th Street</td>\n",
       "      <td>2017-07-20T00:00:00</td>\n",
       "      <td>DNA Model</td>\n",
       "      <td>312.6</td>\n",
       "      <td>57thStreet20170720</td>\n",
       "      <td>41.7911</td>\n",
       "      <td>-87.5797</td>\n",
       "      <td>{'needs_recoding': False, 'longitude': '-87.57...</td>\n",
       "      <td>9</td>\n",
       "    </tr>\n",
       "    <tr>\n",
       "      <td>2</td>\n",
       "      <td>Foster</td>\n",
       "      <td>2017-05-26T00:00:00</td>\n",
       "      <td>DNA Model</td>\n",
       "      <td>334.7</td>\n",
       "      <td>Foster20170526</td>\n",
       "      <td>41.9785</td>\n",
       "      <td>-87.6515</td>\n",
       "      <td>{'needs_recoding': False, 'longitude': '-87.65...</td>\n",
       "      <td>49</td>\n",
       "    </tr>\n",
       "  </tbody>\n",
       "</table>\n",
       "</div>"
      ],
      "text/plain": [
       "    Beach Name                 Date Prediction Source  Predicted Level_x  \\\n",
       "0  12th Street  2017-06-05T00:00:00         DNA Model              240.8   \n",
       "1  57th Street  2017-07-20T00:00:00         DNA Model              312.6   \n",
       "2       Foster  2017-05-26T00:00:00         DNA Model              334.7   \n",
       "\n",
       "             RecordID  Latitude  Longitude  \\\n",
       "0  12thStreet20170605   41.8638   -87.6082   \n",
       "1  57thStreet20170720   41.7911   -87.5797   \n",
       "2      Foster20170526   41.9785   -87.6515   \n",
       "\n",
       "                                            Location  High measure count  \n",
       "0  {'needs_recoding': False, 'longitude': '-87.60...                  47  \n",
       "1  {'needs_recoding': False, 'longitude': '-87.57...                   9  \n",
       "2  {'needs_recoding': False, 'longitude': '-87.65...                  49  "
      ]
     },
     "execution_count": 70,
     "metadata": {},
     "output_type": "execute_result"
    }
   ],
   "source": [
    "# merging the data_filtered dataframe with the high_ecoli_concentration dataframe to have beaches' location\n",
    "high_ecoli_concentration_location = pd.merge(data_filtered,high_ecoli_concentration,on = 'Beach Name', how = 'inner')\n",
    "\n",
    "# groupby beaches and creating a dataframe\n",
    "high_ecoli_concentration_location = high_ecoli_concentration_location.groupby('Beach Name').first()\n",
    "\n",
    "high_ecoli_concentration_location = pd.DataFrame(high_ecoli_concentration_location)\n",
    "high_ecoli_concentration_location.rename(columns = {'Predicted Level_y': 'High measure count'}, inplace=True)\n",
    "high_ecoli_concentration_location.reset_index(inplace = True)\n",
    "high_ecoli_concentration_location.sort_values(by=['High measure count'], ascending = False)\n",
    "\n",
    "high_ecoli_concentration_location.head(3)"
   ]
  },
  {
   "cell_type": "code",
   "execution_count": 71,
   "metadata": {
    "scrolled": false
   },
   "outputs": [
    {
     "data": {
      "text/html": [
       "\n",
       "        <iframe\n",
       "            width=\"700\"\n",
       "            height=\"600\"\n",
       "            src=\"maps/ecoli_map.html\"\n",
       "            frameborder=\"0\"\n",
       "            allowfullscreen\n",
       "        ></iframe>\n",
       "        "
      ],
      "text/plain": [
       "<IPython.lib.display.IFrame at 0x1a21dd4e90>"
      ]
     },
     "execution_count": 71,
     "metadata": {},
     "output_type": "execute_result"
    }
   ],
   "source": [
    "# create a map using the Map() function and the coordinates for Chicago\n",
    "m = folium.Map(location=[41.8600, -87.6298], zoom_start = 12)\n",
    "\n",
    "for i in range(len(high_ecoli_concentration_location)):\n",
    "    popup = str(high_ecoli_concentration_location['Beach Name'].values[i]) + '\\n'+'#High measure count :'+ str(high_ecoli_concentration_location['High measure count'].values[i])\n",
    "    if (high_ecoli_concentration_location['High measure count'].values[i]  < 10):\n",
    "        colour = 'green'\n",
    "    if (high_ecoli_concentration_location['High measure count'].values[i] < 30 and high_ecoli_concentration_location['High measure count'].values[i]>10 ):\n",
    "        colour = 'orange'\n",
    "    if (high_ecoli_concentration_location['High measure count'].values[i] >= 30):\n",
    "        colour = 'red'\n",
    "    adding_Marker(m,high_ecoli_concentration_location.Longitude.values[i], high_ecoli_concentration_location.Latitude.values[i], popup , colour)\n",
    "\n",
    "#m.save('ecoli_map.html')\n",
    "IFrame(src = 'maps/ecoli_map.html', width = 700, height = 600)"
   ]
  },
  {
   "cell_type": "markdown",
   "metadata": {},
   "source": [
    "**Observations** :  We observe that we have a high e-coli sea water concentration in some beaches in Chicago. What is interesting to notice, is the 12th Street beach which is located at Chicago center and correlate with a high number of inspection due to suspected food poisoning. We need to investigate this fact in order to understand how this both parameter could be linked.\n",
    "> We can try to overlap this map with the one above."
   ]
  },
  {
   "cell_type": "code",
   "execution_count": 72,
   "metadata": {
    "scrolled": false
   },
   "outputs": [
    {
     "data": {
      "text/html": [
       "\n",
       "        <iframe\n",
       "            width=\"700\"\n",
       "            height=\"600\"\n",
       "            src=\"maps/ecoli_wpoisoning.html\"\n",
       "            frameborder=\"0\"\n",
       "            allowfullscreen\n",
       "        ></iframe>\n",
       "        "
      ],
      "text/plain": [
       "<IPython.lib.display.IFrame at 0x1a278cdfd0>"
      ]
     },
     "execution_count": 72,
     "metadata": {},
     "output_type": "execute_result"
    }
   ],
   "source": [
    "for i in range(len(high_ecoli_concentration_location)):\n",
    "    popup = str(high_ecoli_concentration_location['Beach Name'].values[i]) + '\\n'+'High measure count :'+ str(high_ecoli_concentration_location['High measure count'].values[i])\n",
    "    if (high_ecoli_concentration_location['High measure count'].values[i]  < 10):\n",
    "        colour = 'green'\n",
    "    if (high_ecoli_concentration_location['High measure count'].values[i] <30 and high_ecoli_concentration_location['High measure count'].values[i]>10 ):\n",
    "        colour = 'orange'\n",
    "    if (high_ecoli_concentration_location['High measure count'].values[i] >= 30):\n",
    "        colour = 'red'\n",
    "    adding_Marker(poisoning_map,high_ecoli_concentration_location.Longitude.values[i], high_ecoli_concentration_location.Latitude.values[i], popup , colour)\n",
    "\n",
    "    \n",
    "#poisoning_map.save('ecoli_wpoisoning.html')\n",
    "IFrame(src = 'maps/ecoli_wpoisoning.html', width = 700, height = 600)"
   ]
  },
  {
   "cell_type": "markdown",
   "metadata": {},
   "source": [
    "**Observations** : When we overlap this data, we observe that in most cases the high concentration of e-coli is correlated with a higher of inspection due to food poisoning."
   ]
  },
  {
   "cell_type": "markdown",
   "metadata": {},
   "source": [
    "# Is there a link with Chicago Sanitation Violations ? "
   ]
  },
  {
   "cell_type": "code",
   "execution_count": 73,
   "metadata": {},
   "outputs": [
    {
     "data": {
      "text/html": [
       "<div>\n",
       "<style scoped>\n",
       "    .dataframe tbody tr th:only-of-type {\n",
       "        vertical-align: middle;\n",
       "    }\n",
       "\n",
       "    .dataframe tbody tr th {\n",
       "        vertical-align: top;\n",
       "    }\n",
       "\n",
       "    .dataframe thead th {\n",
       "        text-align: right;\n",
       "    }\n",
       "</style>\n",
       "<table border=\"1\" class=\"dataframe\">\n",
       "  <thead>\n",
       "    <tr style=\"text-align: right;\">\n",
       "      <th></th>\n",
       "      <th>Creation Date</th>\n",
       "      <th>Status</th>\n",
       "      <th>Completion Date</th>\n",
       "      <th>Service Request Number</th>\n",
       "      <th>Type of Service Request</th>\n",
       "      <th>What is the Nature of this Code Violation?</th>\n",
       "      <th>Street Address</th>\n",
       "      <th>ZIP Code</th>\n",
       "      <th>X Coordinate</th>\n",
       "      <th>Y Coordinate</th>\n",
       "      <th>Ward</th>\n",
       "      <th>Police District</th>\n",
       "      <th>Community Area</th>\n",
       "      <th>Latitude</th>\n",
       "      <th>Longitude</th>\n",
       "      <th>Location</th>\n",
       "    </tr>\n",
       "  </thead>\n",
       "  <tbody>\n",
       "    <tr>\n",
       "      <td>0</td>\n",
       "      <td>08/01/2017</td>\n",
       "      <td>Completed - Dup</td>\n",
       "      <td>08/04/2017</td>\n",
       "      <td>17-05101063</td>\n",
       "      <td>Sanitation Code Violation</td>\n",
       "      <td>Garbage in alley</td>\n",
       "      <td>3016 W MONTROSE AVE</td>\n",
       "      <td>60618.0</td>\n",
       "      <td>1.155406e+06</td>\n",
       "      <td>1.929085e+06</td>\n",
       "      <td>33.0</td>\n",
       "      <td>17.0</td>\n",
       "      <td>14.0</td>\n",
       "      <td>41.961215</td>\n",
       "      <td>-87.704035</td>\n",
       "      <td>(41.961215172275, -87.704034715236)</td>\n",
       "    </tr>\n",
       "    <tr>\n",
       "      <td>1</td>\n",
       "      <td>05/31/2017</td>\n",
       "      <td>Completed</td>\n",
       "      <td>08/04/2017</td>\n",
       "      <td>17-03559234</td>\n",
       "      <td>Sanitation Code Violation</td>\n",
       "      <td>Other</td>\n",
       "      <td>3359 W 19TH ST</td>\n",
       "      <td>60623.0</td>\n",
       "      <td>1.154205e+06</td>\n",
       "      <td>1.890509e+06</td>\n",
       "      <td>24.0</td>\n",
       "      <td>10.0</td>\n",
       "      <td>29.0</td>\n",
       "      <td>41.855383</td>\n",
       "      <td>-87.709482</td>\n",
       "      <td>(41.855383440674, -87.709481507782)</td>\n",
       "    </tr>\n",
       "    <tr>\n",
       "      <td>2</td>\n",
       "      <td>07/14/2017</td>\n",
       "      <td>Completed</td>\n",
       "      <td>08/04/2017</td>\n",
       "      <td>17-04636140</td>\n",
       "      <td>Sanitation Code Violation</td>\n",
       "      <td>Garbage in alley</td>\n",
       "      <td>7212 S 73RD ST ER</td>\n",
       "      <td>60619.0</td>\n",
       "      <td>1.182810e+06</td>\n",
       "      <td>1.857288e+06</td>\n",
       "      <td>8.0</td>\n",
       "      <td>3.0</td>\n",
       "      <td>69.0</td>\n",
       "      <td>41.763603</td>\n",
       "      <td>-87.605521</td>\n",
       "      <td>(41.763602787373, -87.605520591847)</td>\n",
       "    </tr>\n",
       "    <tr>\n",
       "      <td>3</td>\n",
       "      <td>07/09/2017</td>\n",
       "      <td>Completed</td>\n",
       "      <td>08/04/2017</td>\n",
       "      <td>17-04526947</td>\n",
       "      <td>Sanitation Code Violation</td>\n",
       "      <td>Other</td>\n",
       "      <td>3418 W GRENSHAW ST</td>\n",
       "      <td>60624.0</td>\n",
       "      <td>1.153756e+06</td>\n",
       "      <td>1.894848e+06</td>\n",
       "      <td>24.0</td>\n",
       "      <td>11.0</td>\n",
       "      <td>29.0</td>\n",
       "      <td>41.867299</td>\n",
       "      <td>-87.711014</td>\n",
       "      <td>(41.867298732126, -87.711014045253)</td>\n",
       "    </tr>\n",
       "    <tr>\n",
       "      <td>4</td>\n",
       "      <td>08/03/2017</td>\n",
       "      <td>Completed</td>\n",
       "      <td>08/04/2017</td>\n",
       "      <td>17-05156088</td>\n",
       "      <td>Sanitation Code Violation</td>\n",
       "      <td>NaN</td>\n",
       "      <td>2659 N MASON AVE</td>\n",
       "      <td>60639.0</td>\n",
       "      <td>1.136274e+06</td>\n",
       "      <td>1.917063e+06</td>\n",
       "      <td>30.0</td>\n",
       "      <td>25.0</td>\n",
       "      <td>19.0</td>\n",
       "      <td>41.928589</td>\n",
       "      <td>-87.774662</td>\n",
       "      <td>(41.928588854849, -87.774662171276)</td>\n",
       "    </tr>\n",
       "  </tbody>\n",
       "</table>\n",
       "</div>"
      ],
      "text/plain": [
       "  Creation Date           Status Completion Date Service Request Number  \\\n",
       "0    08/01/2017  Completed - Dup      08/04/2017            17-05101063   \n",
       "1    05/31/2017        Completed      08/04/2017            17-03559234   \n",
       "2    07/14/2017        Completed      08/04/2017            17-04636140   \n",
       "3    07/09/2017        Completed      08/04/2017            17-04526947   \n",
       "4    08/03/2017        Completed      08/04/2017            17-05156088   \n",
       "\n",
       "     Type of Service Request What is the Nature of this Code Violation?  \\\n",
       "0  Sanitation Code Violation                           Garbage in alley   \n",
       "1  Sanitation Code Violation                                      Other   \n",
       "2  Sanitation Code Violation                           Garbage in alley   \n",
       "3  Sanitation Code Violation                                      Other   \n",
       "4  Sanitation Code Violation                                        NaN   \n",
       "\n",
       "        Street Address  ZIP Code  X Coordinate  Y Coordinate  Ward  \\\n",
       "0  3016 W MONTROSE AVE   60618.0  1.155406e+06  1.929085e+06  33.0   \n",
       "1       3359 W 19TH ST   60623.0  1.154205e+06  1.890509e+06  24.0   \n",
       "2    7212 S 73RD ST ER   60619.0  1.182810e+06  1.857288e+06   8.0   \n",
       "3   3418 W GRENSHAW ST   60624.0  1.153756e+06  1.894848e+06  24.0   \n",
       "4     2659 N MASON AVE   60639.0  1.136274e+06  1.917063e+06  30.0   \n",
       "\n",
       "   Police District  Community Area   Latitude  Longitude  \\\n",
       "0             17.0            14.0  41.961215 -87.704035   \n",
       "1             10.0            29.0  41.855383 -87.709482   \n",
       "2              3.0            69.0  41.763603 -87.605521   \n",
       "3             11.0            29.0  41.867299 -87.711014   \n",
       "4             25.0            19.0  41.928589 -87.774662   \n",
       "\n",
       "                              Location  \n",
       "0  (41.961215172275, -87.704034715236)  \n",
       "1  (41.855383440674, -87.709481507782)  \n",
       "2  (41.763602787373, -87.605520591847)  \n",
       "3  (41.867298732126, -87.711014045253)  \n",
       "4  (41.928588854849, -87.774662171276)  "
      ]
     },
     "execution_count": 73,
     "metadata": {},
     "output_type": "execute_result"
    }
   ],
   "source": [
    "# import the cleaning dataset \n",
    "sanitation_df = pd.read_csv('data/sanitation.csv', delimiter = ',')\n",
    "sanitation_df.head(5)"
   ]
  },
  {
   "cell_type": "code",
   "execution_count": 74,
   "metadata": {},
   "outputs": [],
   "source": [
    "# counting number of sanitation complaints per zip code area\n",
    "sanitation_df_per_zip = sanitation_df.groupby('ZIP Code')['Service Request Number'].count()\n",
    "sanitation_df_per_zip = pd.DataFrame(sanitation_df_per_zip)\n",
    "sanitation_df_per_zip.reset_index(inplace = True)\n",
    "sanitation_df_per_zip.rename(columns = {'Service Request Number': 'violation_count','ZIP Code':'zip'}, inplace=True)"
   ]
  },
  {
   "cell_type": "code",
   "execution_count": 75,
   "metadata": {},
   "outputs": [
    {
     "data": {
      "text/html": [
       "<div>\n",
       "<style scoped>\n",
       "    .dataframe tbody tr th:only-of-type {\n",
       "        vertical-align: middle;\n",
       "    }\n",
       "\n",
       "    .dataframe tbody tr th {\n",
       "        vertical-align: top;\n",
       "    }\n",
       "\n",
       "    .dataframe thead th {\n",
       "        text-align: right;\n",
       "    }\n",
       "</style>\n",
       "<table border=\"1\" class=\"dataframe\">\n",
       "  <thead>\n",
       "    <tr style=\"text-align: right;\">\n",
       "      <th></th>\n",
       "      <th>zip</th>\n",
       "      <th>violation_count</th>\n",
       "    </tr>\n",
       "  </thead>\n",
       "  <tbody>\n",
       "    <tr>\n",
       "      <td>0</td>\n",
       "      <td>0.0</td>\n",
       "      <td>2</td>\n",
       "    </tr>\n",
       "    <tr>\n",
       "      <td>1</td>\n",
       "      <td>60601.0</td>\n",
       "      <td>196</td>\n",
       "    </tr>\n",
       "    <tr>\n",
       "      <td>2</td>\n",
       "      <td>60602.0</td>\n",
       "      <td>169</td>\n",
       "    </tr>\n",
       "    <tr>\n",
       "      <td>3</td>\n",
       "      <td>60603.0</td>\n",
       "      <td>75</td>\n",
       "    </tr>\n",
       "    <tr>\n",
       "      <td>4</td>\n",
       "      <td>60604.0</td>\n",
       "      <td>59</td>\n",
       "    </tr>\n",
       "  </tbody>\n",
       "</table>\n",
       "</div>"
      ],
      "text/plain": [
       "       zip  violation_count\n",
       "0      0.0                2\n",
       "1  60601.0              196\n",
       "2  60602.0              169\n",
       "3  60603.0               75\n",
       "4  60604.0               59"
      ]
     },
     "execution_count": 75,
     "metadata": {},
     "output_type": "execute_result"
    }
   ],
   "source": [
    "sanitation_df_per_zip.head(5)"
   ]
  },
  {
   "cell_type": "code",
   "execution_count": 76,
   "metadata": {},
   "outputs": [],
   "source": [
    "# creation of a geodataframe\n",
    "\n",
    "# path to geoJson file \n",
    "geo = os.path.join('data/Boundaries-ZIPCodes.geojson')\n",
    "\n",
    "# creation of a geodataframe using geopandas\n",
    "gdf_sanitation = gpd.read_file(geo)\n",
    "\n",
    "# add a column with the x-coordinate of the multipolygon\n",
    "gdf_sanitation['centroid_lon'] = gdf_sanitation['geometry'].centroid.x\n",
    "\n",
    "# add a column with the y-coordinate of the multipolygon\n",
    "gdf_sanitation['centroid_lat'] = gdf_sanitation['geometry'].centroid.y\n",
    "\n",
    "# setting a projection  by assigning the WGS84 latitude-longitude CRS to the crs attribute\n",
    "gdf_sanitation.crs = {'init' :'epsg:4326'}\n",
    "    \n",
    "# convert the zip column into an str\n",
    "sanitation_df_per_zip.zip = sanitation_df_per_zip.zip.astype(str)\n",
    "    \n",
    "# reformat the zip code writing in order to compare it with the zip code in geojson file (for vizualisation step)\n",
    "sanitation_df_per_zip['zip'] = sanitation_df_per_zip['zip'].apply(lambda x : x.split('.')[0])\n",
    "    \n",
    "# merge with the geodataframe\n",
    "gdf_sanitation = pd.merge(gdf,sanitation_df_per_zip,on='zip')\n",
    "    "
   ]
  },
  {
   "cell_type": "code",
   "execution_count": 77,
   "metadata": {},
   "outputs": [
    {
     "data": {
      "text/html": [
       "<div>\n",
       "<style scoped>\n",
       "    .dataframe tbody tr th:only-of-type {\n",
       "        vertical-align: middle;\n",
       "    }\n",
       "\n",
       "    .dataframe tbody tr th {\n",
       "        vertical-align: top;\n",
       "    }\n",
       "\n",
       "    .dataframe thead th {\n",
       "        text-align: right;\n",
       "    }\n",
       "</style>\n",
       "<table border=\"1\" class=\"dataframe\">\n",
       "  <thead>\n",
       "    <tr style=\"text-align: right;\">\n",
       "      <th></th>\n",
       "      <th>objectid</th>\n",
       "      <th>shape_area</th>\n",
       "      <th>shape_len</th>\n",
       "      <th>zip</th>\n",
       "      <th>geometry</th>\n",
       "      <th>centroid_lon</th>\n",
       "      <th>centroid_lat</th>\n",
       "      <th>facility_number_per_zip</th>\n",
       "      <th>violation_count</th>\n",
       "    </tr>\n",
       "  </thead>\n",
       "  <tbody>\n",
       "    <tr>\n",
       "      <td>0</td>\n",
       "      <td>33</td>\n",
       "      <td>106052287.488</td>\n",
       "      <td>42720.0444058</td>\n",
       "      <td>60647</td>\n",
       "      <td>(POLYGON ((-87.67762151065281 41.9177578010629...</td>\n",
       "      <td>-87.702259</td>\n",
       "      <td>41.921098</td>\n",
       "      <td>4628</td>\n",
       "      <td>5888</td>\n",
       "    </tr>\n",
       "    <tr>\n",
       "      <td>1</td>\n",
       "      <td>34</td>\n",
       "      <td>127476050.762</td>\n",
       "      <td>48103.7827213</td>\n",
       "      <td>60639</td>\n",
       "      <td>(POLYGON ((-87.72683253163021 41.9226462671259...</td>\n",
       "      <td>-87.755996</td>\n",
       "      <td>41.920456</td>\n",
       "      <td>3436</td>\n",
       "      <td>4281</td>\n",
       "    </tr>\n",
       "    <tr>\n",
       "      <td>2</td>\n",
       "      <td>35</td>\n",
       "      <td>45069038.4783</td>\n",
       "      <td>27288.6096123</td>\n",
       "      <td>60707</td>\n",
       "      <td>(POLYGON ((-87.78500237831095 41.9091478547167...</td>\n",
       "      <td>-87.795738</td>\n",
       "      <td>41.919948</td>\n",
       "      <td>735</td>\n",
       "      <td>715</td>\n",
       "    </tr>\n",
       "    <tr>\n",
       "      <td>3</td>\n",
       "      <td>51</td>\n",
       "      <td>3450671.14336</td>\n",
       "      <td>7909.89040711</td>\n",
       "      <td>60707</td>\n",
       "      <td>(POLYGON ((-87.80662355756071 41.9345111843722...</td>\n",
       "      <td>-87.811606</td>\n",
       "      <td>41.936196</td>\n",
       "      <td>735</td>\n",
       "      <td>715</td>\n",
       "    </tr>\n",
       "    <tr>\n",
       "      <td>4</td>\n",
       "      <td>36</td>\n",
       "      <td>70853834.3797</td>\n",
       "      <td>42527.9896789</td>\n",
       "      <td>60622</td>\n",
       "      <td>(POLYGON ((-87.6670686895295 41.88885188496992...</td>\n",
       "      <td>-87.684212</td>\n",
       "      <td>41.903126</td>\n",
       "      <td>4264</td>\n",
       "      <td>3563</td>\n",
       "    </tr>\n",
       "  </tbody>\n",
       "</table>\n",
       "</div>"
      ],
      "text/plain": [
       "  objectid     shape_area      shape_len    zip  \\\n",
       "0       33  106052287.488  42720.0444058  60647   \n",
       "1       34  127476050.762  48103.7827213  60639   \n",
       "2       35  45069038.4783  27288.6096123  60707   \n",
       "3       51  3450671.14336  7909.89040711  60707   \n",
       "4       36  70853834.3797  42527.9896789  60622   \n",
       "\n",
       "                                            geometry  centroid_lon  \\\n",
       "0  (POLYGON ((-87.67762151065281 41.9177578010629...    -87.702259   \n",
       "1  (POLYGON ((-87.72683253163021 41.9226462671259...    -87.755996   \n",
       "2  (POLYGON ((-87.78500237831095 41.9091478547167...    -87.795738   \n",
       "3  (POLYGON ((-87.80662355756071 41.9345111843722...    -87.811606   \n",
       "4  (POLYGON ((-87.6670686895295 41.88885188496992...    -87.684212   \n",
       "\n",
       "   centroid_lat  facility_number_per_zip  violation_count  \n",
       "0     41.921098                     4628             5888  \n",
       "1     41.920456                     3436             4281  \n",
       "2     41.919948                      735              715  \n",
       "3     41.936196                      735              715  \n",
       "4     41.903126                     4264             3563  "
      ]
     },
     "execution_count": 77,
     "metadata": {},
     "output_type": "execute_result"
    }
   ],
   "source": [
    "gdf_sanitation.head(5)"
   ]
  },
  {
   "cell_type": "code",
   "execution_count": 78,
   "metadata": {},
   "outputs": [],
   "source": [
    "sanitation_map = chlorepleth_map('Sanitation violation',gdf_sanitation,['zip','violation_count'],'Sanitation Violation Count','BuPu')\n",
    "#sanitation_map.save('sanitation_map.html')\n",
    "#IFrame(src = 'maps/sanitation_map.html', width = 700, height = 600)"
   ]
  },
  {
   "cell_type": "markdown",
   "metadata": {},
   "source": [
    "**Observations**: We can observe sanitation problems in south Chicago. But, it seems that there is no correlation between those sanitations problem and the poisoning. \n",
    "\n",
    "> We will investigate this further during milestone 3. "
   ]
  },
  {
   "cell_type": "markdown",
   "metadata": {},
   "source": [
    "# Interactif map for the datastory"
   ]
  },
  {
   "cell_type": "markdown",
   "metadata": {},
   "source": [
    "## Sanitation"
   ]
  },
  {
   "cell_type": "code",
   "execution_count": 79,
   "metadata": {},
   "outputs": [
    {
     "data": {
      "text/plain": [
       "<folium.map.LayerControl at 0x1a2736b490>"
      ]
     },
     "execution_count": 79,
     "metadata": {},
     "output_type": "execute_result"
    }
   ],
   "source": [
    "NIL = folium.features.GeoJson(\n",
    "    gdf_sanitation,\n",
    "    style_function=style_function, \n",
    "    control=False,\n",
    "    highlight_function=highlight_function, \n",
    "    tooltip=folium.features.GeoJsonTooltip(\n",
    "        fields=['zip','violation_count'],\n",
    "        aliases=['Zip: ','Number of sanitation violations: '],\n",
    "        style=(\"background-color: white; color: #333333; font-family: arial; font-size: 12px; padding: 10px;\") \n",
    "    )\n",
    ")\n",
    "sanitation_map.add_child(NIL)\n",
    "sanitation_map.keep_in_front(NIL)\n",
    "folium.LayerControl().add_to(sanitation_map)\n"
   ]
  },
  {
   "cell_type": "code",
   "execution_count": 80,
   "metadata": {},
   "outputs": [],
   "source": [
    "sanitation_map.save('maps/interactif_sanitation_map.html')"
   ]
  },
  {
   "cell_type": "markdown",
   "metadata": {},
   "source": [
    "## Fail "
   ]
  },
  {
   "cell_type": "code",
   "execution_count": 81,
   "metadata": {},
   "outputs": [
    {
     "data": {
      "text/plain": [
       "<folium.map.LayerControl at 0x1a23217d90>"
      ]
     },
     "execution_count": 81,
     "metadata": {},
     "output_type": "execute_result"
    }
   ],
   "source": [
    "FIL = folium.features.GeoJson(\n",
    "    fail_gdf,\n",
    "    style_function=style_function, \n",
    "    control=False,\n",
    "    highlight_function=highlight_function, \n",
    "    tooltip=folium.features.GeoJsonTooltip(\n",
    "        fields=['zip','facility_number_per_zip','fail_proportion'],\n",
    "        aliases=['Zip: ','Number of inspections','% of failed inspections: '],\n",
    "        style=(\"background-color: white; color: #333333; font-family: arial; font-size: 12px; padding: 10px;\") \n",
    "    )\n",
    ")\n",
    "fail_map.add_child(FIL)\n",
    "fail_map.keep_in_front(FIL)\n",
    "folium.LayerControl().add_to(fail_map)\n"
   ]
  },
  {
   "cell_type": "code",
   "execution_count": 82,
   "metadata": {},
   "outputs": [],
   "source": [
    "fail_map.save('maps/interactif_fail_map.html')"
   ]
  },
  {
   "cell_type": "markdown",
   "metadata": {},
   "source": [
    "## Poisoning with e-coli "
   ]
  },
  {
   "cell_type": "code",
   "execution_count": 83,
   "metadata": {},
   "outputs": [
    {
     "data": {
      "text/plain": [
       "<folium.map.LayerControl at 0x1a227a4d90>"
      ]
     },
     "execution_count": 83,
     "metadata": {},
     "output_type": "execute_result"
    }
   ],
   "source": [
    "PIL = folium.features.GeoJson(\n",
    "    poisoning_gdf,\n",
    "    style_function=style_function, \n",
    "    control=False,\n",
    "    highlight_function=highlight_function, \n",
    "    tooltip=folium.features.GeoJsonTooltip(\n",
    "        fields=['zip','facility_number_per_zip','poisoning_count','poisoning_proportion'],\n",
    "        aliases=['Zip: ','Total number of inspections','Number of inspection due to suspected food poisoning','Percentage: '],\n",
    "        style=(\"background-color: white; color: #333333; font-family: arial; font-size: 12px; padding: 10px;\") \n",
    "    )\n",
    ")\n",
    "poisoning_map.add_child(PIL)\n",
    "poisoning_map.keep_in_front(PIL)\n",
    "folium.LayerControl().add_to(poisoning_map)\n"
   ]
  },
  {
   "cell_type": "code",
   "execution_count": 84,
   "metadata": {},
   "outputs": [],
   "source": [
    "poisoning_map.save('maps/interactif_poison_map.html')"
   ]
  },
  {
   "cell_type": "markdown",
   "metadata": {},
   "source": [
    "## Zip code with the highest number of inspections"
   ]
  },
  {
   "cell_type": "code",
   "execution_count": 85,
   "metadata": {},
   "outputs": [
    {
     "data": {
      "text/plain": [
       "<folium.map.LayerControl at 0x1a253c4250>"
      ]
     },
     "execution_count": 85,
     "metadata": {},
     "output_type": "execute_result"
    }
   ],
   "source": [
    "inspection_map = chlorepleth_map ('Inspections proportion',gdf,['zip','facility_number_per_zip'],'Number of inspections','YlGnBu')\n",
    "\n",
    "IIL = folium.features.GeoJson(\n",
    "    gdf,\n",
    "    style_function=style_function, \n",
    "    control=False,\n",
    "    highlight_function=highlight_function, \n",
    "    tooltip=folium.features.GeoJsonTooltip(\n",
    "        fields=['zip','facility_number_per_zip'],\n",
    "        aliases=['Zip: ','Number of inspections :'],\n",
    "        style=(\"background-color: white; color: #333333; font-family: arial; font-size: 12px; padding: 10px;\") \n",
    "    )\n",
    ")\n",
    "inspection_map.add_child(IIL)\n",
    "inspection_map.keep_in_front(IIL)\n",
    "folium.LayerControl().add_to(inspection_map)"
   ]
  },
  {
   "cell_type": "code",
   "execution_count": 86,
   "metadata": {},
   "outputs": [],
   "source": [
    "inspection_map.save('maps/interactif_inspection_map.html')"
   ]
  },
  {
   "cell_type": "code",
   "execution_count": null,
   "metadata": {},
   "outputs": [],
   "source": []
  }
 ],
 "metadata": {
  "kernelspec": {
   "display_name": "Python 3",
   "language": "python",
   "name": "python3"
  },
  "language_info": {
   "codemirror_mode": {
    "name": "ipython",
    "version": 3
   },
   "file_extension": ".py",
   "mimetype": "text/x-python",
   "name": "python",
   "nbconvert_exporter": "python",
   "pygments_lexer": "ipython3",
   "version": "3.7.4"
  }
 },
 "nbformat": 4,
 "nbformat_minor": 2
}
