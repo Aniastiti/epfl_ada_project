{
 "cells": [
  {
   "cell_type": "code",
   "execution_count": 128,
   "metadata": {},
   "outputs": [],
   "source": [
    "import pandas as pd\n",
    "import plotly.io as pio\n",
    "import plotly.offline as py\n",
    "import colorlover as cl\n",
    "\n",
    "from plotly import graph_objects as go\n",
    "from IPython.display import IFrame\n",
    "\n",
    "pio.renderers.default = 'iframe'"
   ]
  },
  {
   "cell_type": "code",
   "execution_count": 129,
   "metadata": {},
   "outputs": [],
   "source": [
    "df = pd.read_csv('data/clean_dataset.csv', delimiter = ',')"
   ]
  },
  {
   "cell_type": "code",
   "execution_count": 130,
   "metadata": {},
   "outputs": [],
   "source": [
    "# getting the values for each of the features for plotting \n",
    "risk = df['risk'].value_counts()\n",
    "results = df['results'].value_counts()\n",
    "inspect_type = df['inspection_type'].value_counts()\n",
    "\n",
    "# sum up connecting inspections\n",
    "inspect_type['Canvass'] += inspect_type['Canvass Re-Inspection']\n",
    "inspect_type['Complaint'] += inspect_type['Complaint Re-Inspection']\n",
    "inspect_type['Suspected Food Poisoning'] += inspect_type['Suspected Food Poisoning Re-inspection']\n",
    "\n",
    "# drop duplicate columns after adding\n",
    "inspect_type = inspect_type.drop(labels = ['Canvass Re-Inspection', 'Complaint Re-Inspection', 'Suspected Food Poisoning Re-inspection'])"
   ]
  },
  {
   "cell_type": "code",
   "execution_count": 157,
   "metadata": {},
   "outputs": [
    {
     "data": {
      "text/html": [
       "<iframe\n",
       "    scrolling=\"no\"\n",
       "    width=\"720px\"\n",
       "    height=\"420\"\n",
       "    src=\"iframe_figures/figure_6.html\"\n",
       "    frameborder=\"0\"\n",
       "    allowfullscreen\n",
       "></iframe>\n"
      ]
     },
     "metadata": {},
     "output_type": "display_data"
    }
   ],
   "source": [
    "# PIE CHART\n",
    "\n",
    "fig = go.Figure()\n",
    "\n",
    "\n",
    "# set up the first trace\n",
    "fig.add_trace(go.Pie(\n",
    "                    labels = results.index,\n",
    "                    values = results,\n",
    "                    visible = True,\n",
    "                    marker_colors = cl.scales['3']['div']['RdYlBu'], \n",
    "                    title = \"Results of food inspections\",\n",
    "                )\n",
    "             )\n",
    "# set up the second trace\n",
    "fig.add_trace(go.Pie(\n",
    "                    labels = risk.index,\n",
    "                    values = risk,\n",
    "                    visible=False,\n",
    "                    marker_colors = cl.scales['3']['div']['RdYlBu']\n",
    "                )\n",
    "             )\n",
    "\n",
    "fig.add_trace(go.Pie(\n",
    "                    labels = inspect_type.index,\n",
    "                    values = inspect_type,\n",
    "                    visible = False,\n",
    "                    marker_colors = cl.scales['4']['div']['RdYlBu']\n",
    "                )\n",
    "             )\n",
    "\n",
    "fig.layout.update(\n",
    "    autosize = False,\n",
    "    width=700,\n",
    "    height=400,\n",
    "    template=\"plotly_white\",\n",
    ")\n",
    "\n",
    "\n",
    "\n",
    "\n",
    "fig.layout.update(\n",
    "    updatemenus=[\n",
    "        go.layout.Updatemenu(\n",
    "            buttons=list([\n",
    "                dict(\n",
    "                    args=[{'visible': [True, False, False]}],\n",
    "                    label=\"Results\",\n",
    "                    method = 'update'\n",
    "                    \n",
    "                ),\n",
    "                dict(\n",
    "                    args=[{'visible': [False, True, False]}],\n",
    "                    label=\"Risk\",\n",
    "                    method=\"update\"\n",
    "                ),\n",
    "                dict(\n",
    "                    args=[{'visible': [False, False, True]}],\n",
    "                    label=\"Inspection type\",\n",
    "                    method=\"update\"\n",
    "                )\n",
    "            ]),\n",
    "            direction=\"down\",\n",
    "            pad={\"r\": 10, \"t\": 10},\n",
    "            showactive=True,\n",
    "            x=0,\n",
    "            xanchor=\"left\",\n",
    "            y=1.3,\n",
    "            yanchor=\"top\"\n",
    "        ),\n",
    "    ]\n",
    ")\n",
    "\n",
    "\n",
    "\n",
    "# add dropdown menus to the figure\n",
    "fig.layout.update(\n",
    "    annotations=[\n",
    "        go.layout.Annotation(text=\"Trace type:\", showarrow=False,\n",
    "                             x=0, y=100, yref=\"paper\", align=\"left\")\n",
    "    ]\n",
    ")\n",
    "\n",
    "fig.show()"
   ]
  },
  {
   "cell_type": "code",
   "execution_count": null,
   "metadata": {},
   "outputs": [],
   "source": [
    "# for website plotting -- backup for IFrame\n",
    "py.plot(fig, include_plotlyjs=False, output_type='div')"
   ]
  }
 ],
 "metadata": {
  "kernelspec": {
   "display_name": "Python [conda env:ada] *",
   "language": "python",
   "name": "conda-env-ada-py"
  },
  "language_info": {
   "codemirror_mode": {
    "name": "ipython",
    "version": 3
   },
   "file_extension": ".py",
   "mimetype": "text/x-python",
   "name": "python",
   "nbconvert_exporter": "python",
   "pygments_lexer": "ipython3",
   "version": "3.7.4"
  }
 },
 "nbformat": 4,
 "nbformat_minor": 2
}
