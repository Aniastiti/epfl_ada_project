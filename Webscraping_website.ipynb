{
 "cells": [
  {
   "cell_type": "markdown",
   "metadata": {},
   "source": [
    "# Webscraping Complaints of Food Poisoning"
   ]
  },
  {
   "cell_type": "markdown",
   "metadata": {},
   "source": [
    "We have found a website that is used by people to communicate to eachother which restaurants made them ill. In this notebook, we shall import information from that website to compare the restaurants with the ones given in the original data 'food_inspections.csv'. If they are the same, we could try to correlate the inspection violations with the amount of sick people that complained from the restaurant in future work. However, we must keep in mind that everyone that has been a victim of food poisoning does not necessarily write a complaint on the website. The data from the website is only an approximate indicator of which restaurants have a bad reputation for food poisoning."
   ]
  },
  {
   "cell_type": "code",
   "execution_count": 1,
   "metadata": {},
   "outputs": [],
   "source": [
    "%matplotlib inline\n",
    "import warnings\n",
    "import requests\n",
    "import pandas as pd\n",
    "import numpy as np\n",
    "import matplotlib.pyplot as plt\n",
    "from matplotlib.ticker import MaxNLocator\n",
    "from requests import get\n",
    "from bs4 import BeautifulSoup # for web scrapping\n",
    "\n",
    "# map functions\n",
    "import os \n",
    "import folium\n",
    "import rasterio as rio\n",
    "import earthpy as et\n",
    "from folium import plugins\n",
    "from rasterio.warp import calculate_default_transform, reproject, Resampling\n",
    "from IPython.display import IFrame\n",
    "\n",
    "# to ignore the warnings and make the notebook more presentable\n",
    "warnings.filterwarnings('ignore') "
   ]
  },
  {
   "cell_type": "markdown",
   "metadata": {},
   "source": [
    "## Defining Fuctions"
   ]
  },
  {
   "cell_type": "markdown",
   "metadata": {},
   "source": [
    "This function will take in a list of URLs corresponding each to a specific page from the website. Each page contains approximately 10 different links that contains information on a specific complaint. The objectif is to list the links coming from all pages combined. "
   ]
  },
  {
   "cell_type": "code",
   "execution_count": 2,
   "metadata": {},
   "outputs": [],
   "source": [
    "def Get_Links_from_Page(Pages):\n",
    "    \n",
    "    # empty list for links\n",
    "    list_links = []\n",
    "    \n",
    "    # each individual page\n",
    "    for Page in Pages:\n",
    "\n",
    "        # to make a request\n",
    "        response1 = get(Page)\n",
    "\n",
    "        # the response variable will contain the response of that request object.\n",
    "        r1 = requests.post(Page, data = {'key':'value'})\n",
    "\n",
    "        # the soup_obj will be used to fetch our required results\n",
    "        soup_obj1 = BeautifulSoup(response1.text,'html.parser')\n",
    "\n",
    "        # find_all() will help to fetch all the details of the selected tag.\n",
    "        list_links.append(soup_obj1.find_all('a'))\n",
    "\n",
    "    return list_links"
   ]
  },
  {
   "cell_type": "markdown",
   "metadata": {},
   "source": [
    "This function takes in a list of links and for each, grabs the information of interest and stores it into a dataframe. The task is complicated because some links have '/biz/' and others have '/incident/' in them. The two kinds of links can not be webscraped in the same way because the information is organised differently. For this reason, there is an if-condition in the Create_df_ function."
   ]
  },
  {
   "cell_type": "code",
   "execution_count": 3,
   "metadata": {},
   "outputs": [],
   "source": [
    "def Create_df_(Links):\n",
    "\n",
    "    # creation of a dataframe which will take the values from the web scrapping\n",
    "    d = ['Name','Address','Zip', 'Latest_Report_Date', 'Total_all_time_reports', 'Total_all_time_sick_persons','Latitude','Longitude']\n",
    "    df = pd.DataFrame(columns = d)\n",
    "    \n",
    "    # taking each link seperately\n",
    "    for link in Links:\n",
    "        \n",
    "        # to make a request\n",
    "        response2 = get(link)\n",
    "        \n",
    "        # the soup_obj will be used to fetch the our required results\n",
    "        soup_obj2 = BeautifulSoup(response2.text,'html.parser')\n",
    "        \n",
    "        # biz type complaint\n",
    "        if '/biz/' in link:\n",
    "            \n",
    "            # use find function to enter a class that has information that is useful to us\n",
    "            post2 = soup_obj2.find(class_ = 'col-12 single-post single-incident')\n",
    "            \n",
    "            # Latest_Report_Date\n",
    "            # finding all the classes with the name 'text-muted my-2'\n",
    "            p = post2.find_all(class_ = 'text-muted my-2')\n",
    "            # taking only the 2nd element and getting rid of extra spaces\n",
    "            p = p[1].get_text().replace('  ', '')\n",
    "            # getting rid of \\n\n",
    "            p = p.replace('\\n', '')\n",
    "            # We only want the date without the extra 'Latest report:'\n",
    "            p = p.replace('Latest report:', '')\n",
    "            Latest_Report_Date = p\n",
    "            \n",
    "            # Longitude and Latitude\n",
    "            # these values are in the google maps url which is located in a 'img-fluid lazyload' class. \n",
    "            s = post2.find(class_ = 'col-12 col-md-12 col-lg-5 mt-3 mt-md-0').find(class_ = 'img-fluid lazyload')['data-src']\n",
    "            # once the url is found, take only the values of interest, located between '=en¢er=' and '&zoom='\n",
    "            start = '=en¢er='\n",
    "            end = '&zoom='\n",
    "            # loc has both long (longitude) and lat (latitude) \n",
    "            loc = s[s.find(start)+len(start):s.rfind(end)]\n",
    "            # split loc with the coma to have the two different values \n",
    "            lat, lon = [x.strip() for x in loc.split(',')]\n",
    "                \n",
    "            # Address, Name and Zip\n",
    "            # in a class called 'h1 post-title', split with respect to ','\n",
    "            Name_Address = post2.find(class_ = 'h1 post-title').get_text().split(\",\")\n",
    "            # the name of the restaurant is the first value\n",
    "            Name = Name_Address[0]\n",
    "            # the address is the rest of the title\n",
    "            Address = Name_Address[1:]\n",
    "            # the zip code has a length of 5 digits and is in the 4th value \n",
    "            Zip = Name_Address[3][:6]\n",
    "            \n",
    "        else:\n",
    "            \n",
    "            # Latest_Report_Date\n",
    "            post3 = soup_obj2.find_all(class_ = 'text-muted')\n",
    "            # the date can be at different positions depending on the url. \n",
    "            # however, we can find it by finding the word 'date' in the 10 first lines from the class 'text-muted'\n",
    "            for i in range(10):\n",
    "                # if it is a date \n",
    "                if 'date' in str(post3[i]):\n",
    "                    # get the text\n",
    "                    p = post3[i].get_text()\n",
    "                    # get rid of spaces\n",
    "                    p = p.replace('  ', '')\n",
    "                    # get rid of '\\n'\n",
    "                    p = p.replace('\\n', '')\n",
    "                    # get rid of 'Reported:'\n",
    "                    p = p.replace('Reported:', '')\n",
    "                    Latest_Report_Date = p\n",
    "            \n",
    "            # regrouping all elements from the class 'col-12 page-content mt-4 location-post single-post card py-3'\n",
    "            post2 = soup_obj2.find(class_ = 'col-12 page-content mt-4 location-post single-post card py-3')\n",
    "            \n",
    "        \n",
    "            # this gives the link for google map and has the longitude and latitude\n",
    "            s = post2.find(class_ = 'col-12 col-md-12 col-lg-4 mt-3 mt-md-0').find(class_ = 'img-fluid lazyload')['data-src']\n",
    "            \n",
    "            # longitude and latitude values are in between the two following words\n",
    "            start = '=en¢er='\n",
    "            end = '&zoom='\n",
    "            # retrieving longitude and latitude\n",
    "            loc = s[s.find(start)+len(start):s.rfind(end)]\n",
    "            lat, lon = [x.strip() for x in loc.split(',')]\n",
    "            \n",
    "            # Address, Name \n",
    "            # in a class called 'h1 post-title', split with respect to ','\n",
    "            Name_Address = post2.find(class_ = 'h1 post-title').get_text().split(\",\")\n",
    "            # the name of the restaurant is the first value\n",
    "            Name = Name_Address[0]\n",
    "            # the address is the rest of the title\n",
    "            Address = Name_Address[1:]\n",
    "            \n",
    "            # ZipCode\n",
    "            Zip = soup_obj2.find_all(class_ = 'my-2')[2].get_text()\n",
    "            # cleaning ZipCode\n",
    "            Zip = Zip.replace('\\n', '')\n",
    "            # getting rid of spaces\n",
    "            Zip = Zip.replace('  ', '')\n",
    "            # splitting with a coma\n",
    "            Zip = Zip.split(',')\n",
    "            # taking 3rd value\n",
    "            Zip = Zip[2]\n",
    "            \n",
    "        \n",
    "        # Total_all_time_reports, Total_all_time_sick_persons\n",
    "        Reports_Sick = post2.find(class_ = 'row justify-content-start text-muted').get_text()\n",
    "        Total_all_time_reports, Total_all_time_sick_persons = [int(s) for s in Reports_Sick.split() if s.isdigit()]\n",
    "            \n",
    "        # adding to dataframe\n",
    "        df = df.append({'Name': Name, 'Address': Address,'Zip': Zip, 'Latest_Report_Date' : Latest_Report_Date,\n",
    "                                    'Total_all_time_reports' : Total_all_time_reports,\n",
    "                                    'Total_all_time_sick_persons' : Total_all_time_sick_persons,\n",
    "                                    'Latitude' : lat, 'Longitude' : lon}, ignore_index=True) \n",
    "    #returning the dataframe\n",
    "    return df\n"
   ]
  },
  {
   "cell_type": "markdown",
   "metadata": {},
   "source": [
    "## Webscraping"
   ]
  },
  {
   "cell_type": "markdown",
   "metadata": {},
   "source": [
    "There are many links given on the website and many different pages as well. In each page, we hope to extract approximately 10 links that lead to a complaint. However, the webscrapping gives us all the links of the page, most of which are useless to us. In the following, we must choose carefully how to filter the given links."
   ]
  },
  {
   "cell_type": "markdown",
   "metadata": {},
   "source": [
    ">First, we may easily find the links for the 20 first pages by changing one number in the same link. "
   ]
  },
  {
   "cell_type": "code",
   "execution_count": 4,
   "metadata": {},
   "outputs": [
    {
     "data": {
      "text/plain": [
       "['https://iwaspoisoned.com/location/united-states/illinois/chicago?page=1#emailscroll',\n",
       " 'https://iwaspoisoned.com/location/united-states/illinois/chicago?page=2#emailscroll',\n",
       " 'https://iwaspoisoned.com/location/united-states/illinois/chicago?page=3#emailscroll',\n",
       " 'https://iwaspoisoned.com/location/united-states/illinois/chicago?page=4#emailscroll',\n",
       " 'https://iwaspoisoned.com/location/united-states/illinois/chicago?page=5#emailscroll',\n",
       " 'https://iwaspoisoned.com/location/united-states/illinois/chicago?page=6#emailscroll',\n",
       " 'https://iwaspoisoned.com/location/united-states/illinois/chicago?page=7#emailscroll',\n",
       " 'https://iwaspoisoned.com/location/united-states/illinois/chicago?page=8#emailscroll',\n",
       " 'https://iwaspoisoned.com/location/united-states/illinois/chicago?page=9#emailscroll',\n",
       " 'https://iwaspoisoned.com/location/united-states/illinois/chicago?page=10#emailscroll',\n",
       " 'https://iwaspoisoned.com/location/united-states/illinois/chicago?page=11#emailscroll',\n",
       " 'https://iwaspoisoned.com/location/united-states/illinois/chicago?page=12#emailscroll',\n",
       " 'https://iwaspoisoned.com/location/united-states/illinois/chicago?page=13#emailscroll',\n",
       " 'https://iwaspoisoned.com/location/united-states/illinois/chicago?page=14#emailscroll',\n",
       " 'https://iwaspoisoned.com/location/united-states/illinois/chicago?page=15#emailscroll',\n",
       " 'https://iwaspoisoned.com/location/united-states/illinois/chicago?page=16#emailscroll',\n",
       " 'https://iwaspoisoned.com/location/united-states/illinois/chicago?page=17#emailscroll',\n",
       " 'https://iwaspoisoned.com/location/united-states/illinois/chicago?page=18#emailscroll',\n",
       " 'https://iwaspoisoned.com/location/united-states/illinois/chicago?page=19#emailscroll',\n",
       " 'https://iwaspoisoned.com/location/united-states/illinois/chicago?page=20#emailscroll']"
      ]
     },
     "execution_count": 4,
     "metadata": {},
     "output_type": "execute_result"
    }
   ],
   "source": [
    "# creating empty list of pages\n",
    "Pages = []\n",
    "# adding the 20 first pages from the website\n",
    "for i in range(20):   \n",
    "    # to start at page 1\n",
    "    i += 1\n",
    "    # appending page\n",
    "    Pages.append('https://iwaspoisoned.com/location/united-states/illinois/chicago?page='+ str(i)+'#emailscroll')\n",
    "Pages"
   ]
  },
  {
   "cell_type": "markdown",
   "metadata": {},
   "source": [
    ">We must now use our Get_Links_from_Page function to extract all the links per page."
   ]
  },
  {
   "cell_type": "code",
   "execution_count": 5,
   "metadata": {},
   "outputs": [],
   "source": [
    "# the function returns all links per page that lead to a specific restaurant complaint\n",
    "list_links = Get_Links_from_Page(Pages)"
   ]
  },
  {
   "cell_type": "markdown",
   "metadata": {},
   "source": [
    ">Next, we must filter our list of links. The ones we are interested in are similar to :\n",
    "\n",
    ">'https://iwaspoisoned.com/biz/a-j-krazy-kitchen-7547-west-irving-park-road-chicago-60634-illinois-united-states#emailscroll'. \n",
    "\n",
    ">Some links have 'biz' and some have 'incidents'. The commun characteristic is '-chicago-', so we may filter the links by only taking the links with '-chicago-' in them.  "
   ]
  },
  {
   "cell_type": "code",
   "execution_count": 6,
   "metadata": {},
   "outputs": [],
   "source": [
    "# obtaining all href of the links and putting them into a list\n",
    "List = []\n",
    "for link in list_links:\n",
    "    for l in link:\n",
    "        url = l.get('href')\n",
    "        # only keeping the compaints from chicago, so deleting all other links that aren't complaints\n",
    "        if '-chicago-' in url:\n",
    "            List.append(l.get('href'))\n",
    "# delete duplicates\n",
    "List = list(set(List))"
   ]
  },
  {
   "cell_type": "code",
   "execution_count": 7,
   "metadata": {},
   "outputs": [
    {
     "data": {
      "text/plain": [
       "['https://iwaspoisoned.com/biz/giordanos-1040-west-belmont-avenue-chicago-60657-illinois-united-states#emailscroll',\n",
       " 'https://iwaspoisoned.com/biz/restaurante-y-tamaleria-la-bendicion-2567-north-cicero-avenue-chicago-60639-illinois-united-states#emailscroll',\n",
       " 'https://iwaspoisoned.com/biz/andhra-darbar-restaurant-2240-west-devon-avenue-chicago-60659-illinois-united-states#emailscroll',\n",
       " 'https://iwaspoisoned.com/incident/bar-esquina-2715-north-milwaukee-avenue-chicago-il-usa-279066#emailscroll',\n",
       " 'https://iwaspoisoned.com/incident/vienestar-familiar-6352-s-kedzie-ave-chicago-il-usa-261674#emailscroll',\n",
       " 'https://iwaspoisoned.com/incident/popeyes-louisiana-kitchen-chicago-il-usa-274492#emailscroll',\n",
       " 'https://iwaspoisoned.com/biz/subway-2412-north-lincoln-avenue-chicago-60614-illinois-united-states#emailscroll',\n",
       " 'https://iwaspoisoned.com/biz/del-seoul-2568-north-clark-street-chicago-60614-illinois-united-states#emailscroll',\n",
       " 'https://iwaspoisoned.com/biz/palermo-s-of-63rd-pizza-and-restaurant-3751-west-63rd-street-chicago-60629-illinois-united-states#emailscroll',\n",
       " 'https://iwaspoisoned.com/biz/poke-poke-802-west-belmont-avenue-chicago-60657-illinois-united-states#emailscroll',\n",
       " 'https://iwaspoisoned.com/biz/home-of-the-hoagy-1316-west-111th-street-chicago-60643-illinois-united-states#emailscroll',\n",
       " 'https://iwaspoisoned.com/incident/swiss-air-11601-west-touhy-avenue-chicago-il-usa-279958#emailscroll',\n",
       " 'https://iwaspoisoned.com/incident/pizza-metro-1707-west-division-street-chicago-il-usa-263511#emailscroll',\n",
       " 'https://iwaspoisoned.com/biz/tortas-frontera-10000-bessie-coleman-drive-chicago-60666-illinois-united-states-1#emailscroll',\n",
       " 'https://iwaspoisoned.com/biz/rocks-lakeview-3463-north-broadway-chicago-60657-illinois-united-states#emailscroll',\n",
       " 'https://iwaspoisoned.com/biz/big-bowl-chicago-60666-illinois-united-states-1#emailscroll',\n",
       " 'https://iwaspoisoned.com/biz/corner-bakery-cafe-676-north-saint-clair-street-chicago-60611-illinois-united-states#emailscroll',\n",
       " 'https://iwaspoisoned.com/biz/halsted-street-deli-and-bagel-541-north-fairbanks-court-chicago-60611-illinois-united-states#emailscroll',\n",
       " 'https://iwaspoisoned.com/biz/sweetgreen-1000-west-randolph-street-chicago-60607-illinois-united-states#emailscroll',\n",
       " 'https://iwaspoisoned.com/biz/popeyes-louisiana-kitchen-5353-north-harlem-avenue-chicago-60656-illinois-united-states#emailscroll',\n",
       " 'https://iwaspoisoned.com/incident/christkindlmarket-chicago-west-washington-street-chicago-il-279301#emailscroll',\n",
       " 'https://iwaspoisoned.com/biz/walmart-supercenter-8331-south-stewart-avenue-chicago-60620-illinois-united-states#emailscroll',\n",
       " 'https://iwaspoisoned.com/biz/firewater-saloon-3908-west-111th-street-chicago-60655-illinois-united-states#emailscroll',\n",
       " 'https://iwaspoisoned.com/biz/university-club-of-chicago-76-east-monroe-street-chicago-60603-illinois-united-states#emailscroll',\n",
       " 'https://iwaspoisoned.com/biz/martha-s-food-market-co-4459-west-diversey-avenue-chicago-60639-illinois-united-states#emailscroll',\n",
       " 'https://iwaspoisoned.com/biz/dante-s-pizzeria-3028-west-armitage-avenue-chicago-60647-illinois-united-states#emailscroll',\n",
       " 'https://iwaspoisoned.com/biz/las-islas-marias-4770-west-grand-avenue-chicago-60639-illinois-united-states#emailscroll',\n",
       " 'https://iwaspoisoned.com/biz/lao-sze-chuan-4832-north-broadway-chicago-60640-illinois-united-states#emailscroll',\n",
       " 'https://iwaspoisoned.com/biz/la-esquinita-taqueria-6924-west-grand-avenue-chicago-60707-illinois-united-states#emailscroll',\n",
       " 'https://iwaspoisoned.com/biz/rojo-gusano-3830-west-lawrence-avenue-chicago-60625-illinois-united-states#emailscroll',\n",
       " 'https://iwaspoisoned.com/biz/shibam-restaurant-4807-north-elston-avenue-chicago-60630-illinois-united-states#emailscroll',\n",
       " 'https://iwaspoisoned.com/biz/don-ramon-restaurant-7020-west-grand-avenue-chicago-60707-illinois-united-states#emailscroll',\n",
       " 'https://iwaspoisoned.com/biz/marcello-s-father-and-son-restaurant-2475-north-milwaukee-avenue-chicago-60647-illinois-united-states#emailscroll',\n",
       " 'https://iwaspoisoned.com/biz/polish-paczki-cafe-7210-west-foster-avenue-chicago-60656-illinois-united-states-1#emailscroll',\n",
       " 'https://iwaspoisoned.com/incident/rhyme-or-reason-1938-w-division-st-chicago-il-60622-usa-266673#emailscroll',\n",
       " 'https://iwaspoisoned.com/incident/subway-2512-west-north-avenue-chicago-il-usa-263575#emailscroll',\n",
       " 'https://iwaspoisoned.com/biz/mekato-s-colombian-bakery-5423-north-lincoln-avenue-chicago-60625-illinois-united-states#emailscroll',\n",
       " 'https://iwaspoisoned.com/biz/bawarchi-6406-north-oakley-avenue-chicago-60645-illinois-united-states#emailscroll',\n",
       " 'https://iwaspoisoned.com/biz/burger-king-1323-west-irving-park-road-chicago-60613-illinois-united-states#emailscroll',\n",
       " 'https://iwaspoisoned.com/biz/crepe-house-cafe-5033-north-elston-avenue-chicago-60630-illinois-united-states#emailscroll',\n",
       " 'https://iwaspoisoned.com/biz/umami-burger-wicker-park-1480-north-milwaukee-avenue-chicago-60622-illinois-united-states#emailscroll',\n",
       " 'https://iwaspoisoned.com/biz/i-57-rib-house-1524-west-115th-street-chicago-60643-illinois-united-states#emailscroll',\n",
       " 'https://iwaspoisoned.com/biz/popeyes-louisiana-kitchen-2556-south-california-avenue-chicago-60608-illinois-united-states#emailscroll',\n",
       " 'https://iwaspoisoned.com/biz/cafe-vienna-2523-north-clark-street-chicago-60614-illinois-united-states#emailscroll',\n",
       " 'https://iwaspoisoned.com/biz/colectivo-coffee-logan-square-2261-north-milwaukee-avenue-chicago-60647-illinois-united-states#emailscroll',\n",
       " 'https://iwaspoisoned.com/incident/hronos-inc6009-west-montrose-avenue-chicago-il-usa-271942#emailscroll',\n",
       " 'https://iwaspoisoned.com/biz/pegasus-on-the-fly-5700-south-cicero-avenue-chicago-60638-illinois-united-states#emailscroll',\n",
       " 'https://iwaspoisoned.com/biz/max-s-chicago-20-east-adams-street-chicago-60603-illinois-united-states#emailscroll',\n",
       " 'https://iwaspoisoned.com/biz/d-nuez-4125-south-archer-avenue-chicago-60632-illinois-united-states#emailscroll',\n",
       " 'https://iwaspoisoned.com/biz/lazo-s-tacos-2009-north-western-avenue-chicago-60647-illinois-united-states#emailscroll',\n",
       " 'https://iwaspoisoned.com/biz/cafe-hoang-6818-west-north-avenue-chicago-60707-illinois-united-states#emailscroll',\n",
       " 'https://iwaspoisoned.com/biz/leon-s-chicago-best-1528-east-63rd-street-chicago-60637-illinois-united-states#emailscroll',\n",
       " 'https://iwaspoisoned.com/biz/mon-lung-restaurant-1009-north-ashland-avenue-chicago-60622-illinois-united-states#emailscroll',\n",
       " 'https://iwaspoisoned.com/incident/subway-west-peterson-avenue-chicago-il-usa-262626#emailscroll',\n",
       " 'https://iwaspoisoned.com/incident/lao-sze-chuan-4832-north-broadway-chicago-il-usa-263513#emailscroll',\n",
       " 'https://iwaspoisoned.com/biz/passion-house-coffee-roasters-2631-north-kedzie-avenue-chicago-60647-illinois-united-states#emailscroll',\n",
       " 'https://iwaspoisoned.com/biz/conte-s-pizza-8512-south-pulaski-road-chicago-60652-illinois-united-states#emailscroll',\n",
       " 'https://iwaspoisoned.com/biz/subwayrestaurants-4036-north-narragansett-avenue-chicago-60634-illinois-united-states#emailscroll',\n",
       " 'https://iwaspoisoned.com/biz/kizuki-ramen-izakaya-1482-north-milwaukee-avenue-chicago-60622-illinois-united-states#emailscroll',\n",
       " 'https://iwaspoisoned.com/biz/el-huarache-de-maria-5108-west-fullerton-avenue-chicago-60639-illinois-united-states#emailscroll',\n",
       " 'https://iwaspoisoned.com/biz/argo-tea-arrivals-terminal-2-chicago-60666-illinois-united-states#emailscroll',\n",
       " 'https://iwaspoisoned.com/biz/beezzee-fresh-food-424-south-wabash-avenue-chicago-60605-illinois-united-states#emailscroll',\n",
       " 'https://iwaspoisoned.com/incident/popeyes-louisiana-kitchen-chicago-il-usa-272490#emailscroll',\n",
       " 'https://iwaspoisoned.com/biz/raymonds-tacos-no3-3638-west-fullerton-avenue-chicago-60647-illinois-united-states#emailscroll',\n",
       " 'https://iwaspoisoned.com/biz/subwayrestaurants-4157-west-peterson-avenue-chicago-60646-illinois-united-states#emailscroll',\n",
       " 'https://iwaspoisoned.com/biz/healthcare-alternative-systems-1949-north-humboldt-boulevard-chicago-60647-illinois-united-states#emailscroll',\n",
       " 'https://iwaspoisoned.com/biz/the-shrimp-shack-6601-west-archer-avenue-chicago-60638-illinois-united-states#emailscroll',\n",
       " 'https://iwaspoisoned.com/biz/loyola-university-simpson-living-learning-center-6333-north-winthrop-avenue-chicago-60660-illinois-united-states#emailscroll',\n",
       " 'https://iwaspoisoned.com/biz/kabobi-persian-and-mediterranean-grill-4748-north-kedzie-avenue-chicago-60625-illinois-united-states#emailscroll',\n",
       " 'https://iwaspoisoned.com/biz/wingstop-830-north-milwaukee-avenue-chicago-60642-illinois-united-states#emailscroll',\n",
       " 'https://iwaspoisoned.com/biz/chicago-wings-2145-south-pulaski-road-chicago-60623-illinois-united-states#emailscroll',\n",
       " 'https://iwaspoisoned.com/incident/poke-poke-802-west-belmont-avenue-chicago-il-usa-261600#emailscroll',\n",
       " 'https://iwaspoisoned.com/biz/floyd-s-pub-1944-north-oakley-avenue-chicago-60647-illinois-united-states#emailscroll',\n",
       " 'https://iwaspoisoned.com/biz/top-dog-restaurant-north-sauganash-avenue-chicago-60646-illinois-united-states#emailscroll',\n",
       " 'https://iwaspoisoned.com/biz/salam-restaurant-4636-north-kedzie-avenue-chicago-60625-illinois-united-states#emailscroll',\n",
       " 'https://iwaspoisoned.com/biz/new-china-station-2411-west-north-avenue-chicago-60647-illinois-united-states#emailscroll',\n",
       " 'https://iwaspoisoned.com/incident/sweetgreen-west-randolph-street-chicago-il-usa-261399#emailscroll',\n",
       " 'https://iwaspoisoned.com/incident/baha-restaurant-llc-4846-west-diversey-avenue-chicago-il-usa-277188#emailscroll',\n",
       " 'https://iwaspoisoned.com/biz/china-kitchen-5332-north-cumberland-avenue-chicago-60656-illinois-united-states#emailscroll',\n",
       " 'https://iwaspoisoned.com/incident/marthas-food-market-co-west-diversey-avenue-chicago-il-usa-263381#emailscroll',\n",
       " 'https://iwaspoisoned.com/biz/cherubs-2524-west-fullerton-avenue-chicago-60647-illinois-united-states#emailscroll',\n",
       " 'https://iwaspoisoned.com/biz/fat-willy-s-rib-shack-2416-west-schubert-avenue-chicago-60647-illinois-united-states#emailscroll',\n",
       " 'https://iwaspoisoned.com/biz/roti-modern-mediterranean-1012-west-randolph-street-chicago-60607-illinois-united-states#emailscroll',\n",
       " 'https://iwaspoisoned.com/biz/a-j-krazy-kitchen-7547-west-irving-park-road-chicago-60634-illinois-united-states#emailscroll',\n",
       " 'https://iwaspoisoned.com/biz/dunkin-150-west-63rd-street-chicago-60621-illinois-united-states#emailscroll',\n",
       " 'https://iwaspoisoned.com/biz/pizza-metro-1707-west-division-street-chicago-60622-illinois-united-states#emailscroll',\n",
       " 'https://iwaspoisoned.com/biz/chengdu-impression-restaurant-2545-north-halsted-street-chicago-60614-illinois-united-states#emailscroll',\n",
       " 'https://iwaspoisoned.com/biz/mcdonald-s-1454-west-47th-street-chicago-60609-illinois-united-states#emailscroll',\n",
       " 'https://iwaspoisoned.com/biz/taqueria-los-comales-6035-south-pulaski-road-chicago-60629-illinois-united-states#emailscroll',\n",
       " 'https://iwaspoisoned.com/biz/doc-b-s-restaurant-bar-gold-coast-100-east-walton-street-chicago-60611-illinois-united-states#emailscroll',\n",
       " 'https://iwaspoisoned.com/biz/domino-s-pizza-143-west-division-street-chicago-60610-illinois-united-states#emailscroll',\n",
       " 'https://iwaspoisoned.com/incident/roti-modern-mediterranean-1012-west-randolph-street-chicago-il-usa-261443#emailscroll',\n",
       " 'https://iwaspoisoned.com/biz/romanos-macaroni-grill-chicago-60666-illinois-united-states#emailscroll',\n",
       " 'https://iwaspoisoned.com/biz/dairy-queen-5636-west-irving-park-road-chicago-60634-illinois-united-states#emailscroll',\n",
       " 'https://iwaspoisoned.com/biz/maries-pizza-liquors-4129-west-lawrence-avenue-chicago-60630-illinois-united-states#emailscroll',\n",
       " 'https://iwaspoisoned.com/biz/subway-2512-west-north-avenue-chicago-60647-illinois-united-states#emailscroll',\n",
       " 'https://iwaspoisoned.com/incident/paulines-1337-west-fullerton-avenue-chicago-il-usa-263383#emailscroll',\n",
       " 'https://iwaspoisoned.com/biz/aloha-eats-2534-north-clark-street-chicago-60614-illinois-united-states#emailscroll',\n",
       " 'https://iwaspoisoned.com/biz/northside-bar-grill-1635-north-damen-avenue-chicago-60647-illinois-united-states#emailscroll',\n",
       " 'https://iwaspoisoned.com/biz/tre-kronor-3258-west-foster-avenue-chicago-60625-illinois-united-states#emailscroll',\n",
       " 'https://iwaspoisoned.com/biz/chop-shop-2033-west-north-avenue-chicago-60647-illinois-united-states#emailscroll',\n",
       " 'https://iwaspoisoned.com/biz/harmony-restaurant-6525-west-archer-avenue-chicago-60638-illinois-united-states#emailscroll',\n",
       " 'https://iwaspoisoned.com/biz/stelios-bottles-bites-19-south-morgan-street-chicago-60607-illinois-united-states#emailscroll',\n",
       " 'https://iwaspoisoned.com/biz/pauline-s-1337-west-fullerton-avenue-chicago-60614-illinois-united-states#emailscroll',\n",
       " 'https://iwaspoisoned.com/biz/runa-japanese-2257-west-north-avenue-chicago-60647-illinois-united-states#emailscroll',\n",
       " 'https://iwaspoisoned.com/biz/golden-teardrops-2101-north-california-avenue-chicago-60647-illinois-united-states#emailscroll']"
      ]
     },
     "execution_count": 7,
     "metadata": {},
     "output_type": "execute_result"
    }
   ],
   "source": [
    "# list of all links that lead to a complaint\n",
    "List"
   ]
  },
  {
   "cell_type": "markdown",
   "metadata": {},
   "source": [
    ">Now that we have the list of links, we may extract the information from each link."
   ]
  },
  {
   "cell_type": "code",
   "execution_count": 8,
   "metadata": {},
   "outputs": [],
   "source": [
    "# creating a dataframe with all the information\n",
    "df = Create_df_(List)"
   ]
  },
  {
   "cell_type": "code",
   "execution_count": 9,
   "metadata": {},
   "outputs": [
    {
     "data": {
      "text/html": [
       "<div>\n",
       "<style scoped>\n",
       "    .dataframe tbody tr th:only-of-type {\n",
       "        vertical-align: middle;\n",
       "    }\n",
       "\n",
       "    .dataframe tbody tr th {\n",
       "        vertical-align: top;\n",
       "    }\n",
       "\n",
       "    .dataframe thead th {\n",
       "        text-align: right;\n",
       "    }\n",
       "</style>\n",
       "<table border=\"1\" class=\"dataframe\">\n",
       "  <thead>\n",
       "    <tr style=\"text-align: right;\">\n",
       "      <th></th>\n",
       "      <th>Name</th>\n",
       "      <th>Address</th>\n",
       "      <th>Zip</th>\n",
       "      <th>Latest_Report_Date</th>\n",
       "      <th>Total_all_time_reports</th>\n",
       "      <th>Total_all_time_sick_persons</th>\n",
       "      <th>Latitude</th>\n",
       "      <th>Longitude</th>\n",
       "    </tr>\n",
       "  </thead>\n",
       "  <tbody>\n",
       "    <tr>\n",
       "      <td>0</td>\n",
       "      <td>Giordano's</td>\n",
       "      <td>[ 1040 West Belmont Avenue,  Chicago,  60657 I...</td>\n",
       "      <td>60657</td>\n",
       "      <td>Nov 2 2019 at 6:44 AM</td>\n",
       "      <td>3</td>\n",
       "      <td>3</td>\n",
       "      <td>41.94009459999999</td>\n",
       "      <td>-87.65569479999999</td>\n",
       "    </tr>\n",
       "    <tr>\n",
       "      <td>1</td>\n",
       "      <td>Restaurante Y Tamaleria La Bendicion</td>\n",
       "      <td>[ 2567 North Cicero Avenue,  Chicago,  60639 I...</td>\n",
       "      <td>60639</td>\n",
       "      <td>Oct 14 2019 at 7:31 AM</td>\n",
       "      <td>1</td>\n",
       "      <td>0</td>\n",
       "      <td>41.9280514</td>\n",
       "      <td>-87.74621589999998</td>\n",
       "    </tr>\n",
       "    <tr>\n",
       "      <td>2</td>\n",
       "      <td>ANDHRA DARBAR RESTAURANT</td>\n",
       "      <td>[ 2240 West Devon Avenue,  Chicago,  60659 Ill...</td>\n",
       "      <td>60659</td>\n",
       "      <td>Oct 24 2019 at 1:51 AM</td>\n",
       "      <td>1</td>\n",
       "      <td>0</td>\n",
       "      <td>41.99754</td>\n",
       "      <td>-87.686692</td>\n",
       "    </tr>\n",
       "    <tr>\n",
       "      <td>3</td>\n",
       "      <td>BAR ESQUINA</td>\n",
       "      <td>[ 2715 North Milwaukee Avenue,  Chicago,  IL, ...</td>\n",
       "      <td>60647Illinois</td>\n",
       "      <td>Nov 20 2019 at 1:11 AM</td>\n",
       "      <td>1</td>\n",
       "      <td>0</td>\n",
       "      <td>41.9305961</td>\n",
       "      <td>-87.70966520000002</td>\n",
       "    </tr>\n",
       "    <tr>\n",
       "      <td>4</td>\n",
       "      <td>VIENESTAR FAMILIAR</td>\n",
       "      <td>[  6352 S Kedzie Ave,  Chicago,  IL,  USA ]</td>\n",
       "      <td>60629Illinois</td>\n",
       "      <td>Oct 8 2019 at 7:31 PM</td>\n",
       "      <td>1</td>\n",
       "      <td>0</td>\n",
       "      <td>41.7774096</td>\n",
       "      <td>-87.70333189999997</td>\n",
       "    </tr>\n",
       "    <tr>\n",
       "      <td>...</td>\n",
       "      <td>...</td>\n",
       "      <td>...</td>\n",
       "      <td>...</td>\n",
       "      <td>...</td>\n",
       "      <td>...</td>\n",
       "      <td>...</td>\n",
       "      <td>...</td>\n",
       "      <td>...</td>\n",
       "    </tr>\n",
       "    <tr>\n",
       "      <td>101</td>\n",
       "      <td>Harmony Restaurant</td>\n",
       "      <td>[ 6525 West Archer Avenue,  Chicago,  60638 Il...</td>\n",
       "      <td>60638</td>\n",
       "      <td>Oct 22 2019 at 7:04 PM</td>\n",
       "      <td>2</td>\n",
       "      <td>0</td>\n",
       "      <td>41.7920435</td>\n",
       "      <td>-87.78526399999998</td>\n",
       "    </tr>\n",
       "    <tr>\n",
       "      <td>102</td>\n",
       "      <td>Stelios Bottles &amp; Bites</td>\n",
       "      <td>[ 19 South Morgan Street,  Chicago,  60607 Ill...</td>\n",
       "      <td>60607</td>\n",
       "      <td>Oct 24 2019 at 7:01 AM</td>\n",
       "      <td>1</td>\n",
       "      <td>0</td>\n",
       "      <td>41.8809528</td>\n",
       "      <td>-87.65180509999999</td>\n",
       "    </tr>\n",
       "    <tr>\n",
       "      <td>103</td>\n",
       "      <td>Pauline's</td>\n",
       "      <td>[ 1337 West Fullerton Avenue,  Chicago,  60614...</td>\n",
       "      <td>60614</td>\n",
       "      <td>Oct 13 2019 at 7:31 PM</td>\n",
       "      <td>1</td>\n",
       "      <td>0</td>\n",
       "      <td>41.9249684</td>\n",
       "      <td>-87.66174560000002</td>\n",
       "    </tr>\n",
       "    <tr>\n",
       "      <td>104</td>\n",
       "      <td>Runa Japanese</td>\n",
       "      <td>[ 2257 West North Avenue,  Chicago,  60647 Ill...</td>\n",
       "      <td>60647</td>\n",
       "      <td>Nov 23 2019 at 6:59 AM</td>\n",
       "      <td>1</td>\n",
       "      <td>0</td>\n",
       "      <td>41.91016329999999</td>\n",
       "      <td>-87.68459710000002</td>\n",
       "    </tr>\n",
       "    <tr>\n",
       "      <td>105</td>\n",
       "      <td>Golden Teardrops</td>\n",
       "      <td>[ 2101 North California Avenue,  Chicago,  606...</td>\n",
       "      <td>60647</td>\n",
       "      <td>Oct 30 2019 at 4:31 PM</td>\n",
       "      <td>1</td>\n",
       "      <td>0</td>\n",
       "      <td>41.9195939</td>\n",
       "      <td>-87.69707270000004</td>\n",
       "    </tr>\n",
       "  </tbody>\n",
       "</table>\n",
       "<p>106 rows × 8 columns</p>\n",
       "</div>"
      ],
      "text/plain": [
       "                                     Name  \\\n",
       "0                              Giordano's   \n",
       "1    Restaurante Y Tamaleria La Bendicion   \n",
       "2                ANDHRA DARBAR RESTAURANT   \n",
       "3                             BAR ESQUINA   \n",
       "4                      VIENESTAR FAMILIAR   \n",
       "..                                    ...   \n",
       "101                    Harmony Restaurant   \n",
       "102               Stelios Bottles & Bites   \n",
       "103                             Pauline's   \n",
       "104                         Runa Japanese   \n",
       "105                      Golden Teardrops   \n",
       "\n",
       "                                               Address             Zip  \\\n",
       "0    [ 1040 West Belmont Avenue,  Chicago,  60657 I...           60657   \n",
       "1    [ 2567 North Cicero Avenue,  Chicago,  60639 I...           60639   \n",
       "2    [ 2240 West Devon Avenue,  Chicago,  60659 Ill...           60659   \n",
       "3    [ 2715 North Milwaukee Avenue,  Chicago,  IL, ...   60647Illinois   \n",
       "4          [  6352 S Kedzie Ave,  Chicago,  IL,  USA ]   60629Illinois   \n",
       "..                                                 ...             ...   \n",
       "101  [ 6525 West Archer Avenue,  Chicago,  60638 Il...           60638   \n",
       "102  [ 19 South Morgan Street,  Chicago,  60607 Ill...           60607   \n",
       "103  [ 1337 West Fullerton Avenue,  Chicago,  60614...           60614   \n",
       "104  [ 2257 West North Avenue,  Chicago,  60647 Ill...           60647   \n",
       "105  [ 2101 North California Avenue,  Chicago,  606...           60647   \n",
       "\n",
       "          Latest_Report_Date Total_all_time_reports  \\\n",
       "0      Nov 2 2019 at 6:44 AM                      3   \n",
       "1     Oct 14 2019 at 7:31 AM                      1   \n",
       "2     Oct 24 2019 at 1:51 AM                      1   \n",
       "3     Nov 20 2019 at 1:11 AM                      1   \n",
       "4      Oct 8 2019 at 7:31 PM                      1   \n",
       "..                       ...                    ...   \n",
       "101   Oct 22 2019 at 7:04 PM                      2   \n",
       "102   Oct 24 2019 at 7:01 AM                      1   \n",
       "103   Oct 13 2019 at 7:31 PM                      1   \n",
       "104   Nov 23 2019 at 6:59 AM                      1   \n",
       "105   Oct 30 2019 at 4:31 PM                      1   \n",
       "\n",
       "    Total_all_time_sick_persons           Latitude           Longitude  \n",
       "0                             3  41.94009459999999  -87.65569479999999  \n",
       "1                             0         41.9280514  -87.74621589999998  \n",
       "2                             0           41.99754          -87.686692  \n",
       "3                             0         41.9305961  -87.70966520000002  \n",
       "4                             0         41.7774096  -87.70333189999997  \n",
       "..                          ...                ...                 ...  \n",
       "101                           0         41.7920435  -87.78526399999998  \n",
       "102                           0         41.8809528  -87.65180509999999  \n",
       "103                           0         41.9249684  -87.66174560000002  \n",
       "104                           0  41.91016329999999  -87.68459710000002  \n",
       "105                           0         41.9195939  -87.69707270000004  \n",
       "\n",
       "[106 rows x 8 columns]"
      ]
     },
     "execution_count": 9,
     "metadata": {},
     "output_type": "execute_result"
    }
   ],
   "source": [
    "df"
   ]
  },
  {
   "cell_type": "markdown",
   "metadata": {},
   "source": [
    ">Let's clean the Zip Codes:"
   ]
  },
  {
   "cell_type": "code",
   "execution_count": 10,
   "metadata": {},
   "outputs": [],
   "source": [
    "# only keeping the 1st character to the 6th (location of zipcode)\n",
    "new_zip = list(map(lambda x: x[1:6], list(df.Zip.values)))"
   ]
  },
  {
   "cell_type": "code",
   "execution_count": 11,
   "metadata": {},
   "outputs": [],
   "source": [
    "# replacing in df\n",
    "df = df.replace(list(df.Zip.values),new_zip)"
   ]
  },
  {
   "cell_type": "code",
   "execution_count": 12,
   "metadata": {},
   "outputs": [
    {
     "data": {
      "text/plain": [
       "array(['60657', '60639', '60659', '60647', '60629', 'Unite', '60614',\n",
       "       '60614', '60629', '60657', '60643', '60631', '60622', '60666',\n",
       "       '60657', 'Unite', '60611', '60611', '60607', '60656', 'Illin',\n",
       "       '60620', '60655', '60603', '60639', '60647', '60639', '60640',\n",
       "       '60707', '60625', '60630', '60707', '60647', '60656', '60622',\n",
       "       '60647', '60625', '60645', '60613', '60630', '60622', '60643',\n",
       "       '60608', '60614', '60647', '60634', '60638', '60603', '60632',\n",
       "       '60647', '60707', '60637', '60622', '60646', '60640', '60647',\n",
       "       '60652', '60634', '60622', '60639', '60666', '60605', 'Unite',\n",
       "       '60647', '60646', '60647', '60638', '60660', '60625', '60642',\n",
       "       '60623', '60657', '60647', '60646', '60625', '60647', '60607',\n",
       "       '60639', '60656', '60639', '60647', '60647', '60607', '60634',\n",
       "       '60621', '60622', '60614', '60609', '60629', '60611', '60610',\n",
       "       '60607', 'Unite', '60634', '60630', '60647', '60614', '60614',\n",
       "       '60647', '60625', '60647', '60638', '60607', '60614', '60647',\n",
       "       '60647'], dtype=object)"
      ]
     },
     "execution_count": 12,
     "metadata": {},
     "output_type": "execute_result"
    }
   ],
   "source": [
    "df.Zip.values"
   ]
  },
  {
   "cell_type": "markdown",
   "metadata": {},
   "source": [
    ">4 out of 106 do not have a zipcode. This is not important for mapping the location because we have their longitude and latitude. For now we shall replace the abberant values with NaN."
   ]
  },
  {
   "cell_type": "code",
   "execution_count": 13,
   "metadata": {},
   "outputs": [],
   "source": [
    "# creating a new list that replaces all values in Zip that don't start with '6' by NaN\n",
    "new_zip_ = list(map(lambda x: np.nan if (x[0] != '6') else x, list(df.Zip.values)))"
   ]
  },
  {
   "cell_type": "code",
   "execution_count": 14,
   "metadata": {},
   "outputs": [],
   "source": [
    "# replacing the column in df by the list with NaN\n",
    "df = df.replace(list(df.Zip.values),new_zip_)"
   ]
  },
  {
   "cell_type": "raw",
   "metadata": {},
   "source": [
    "Now that the data is more or less clean, we shall create a csv file for it."
   ]
  },
  {
   "cell_type": "code",
   "execution_count": 15,
   "metadata": {},
   "outputs": [],
   "source": [
    "# exporting as csv\n",
    "df.to_csv('data/Food_Poisoning.csv')"
   ]
  },
  {
   "cell_type": "markdown",
   "metadata": {},
   "source": [
    "## Mapping"
   ]
  },
  {
   "cell_type": "markdown",
   "metadata": {},
   "source": [
    "We would like to create a map that shows the location of each complaint. The blue labels are those with < 2 complaints, orange = 2 complaints, red > 2 complaints. "
   ]
  },
  {
   "cell_type": "markdown",
   "metadata": {},
   "source": [
    "> Mapping the restaurants with labels corresponding to amount of people that were sick after eating there :"
   ]
  },
  {
   "cell_type": "code",
   "execution_count": 36,
   "metadata": {},
   "outputs": [
    {
     "data": {
      "text/html": [
       "\n",
       "        <iframe\n",
       "            width=\"700\"\n",
       "            height=\"600\"\n",
       "            src=\"maps/complaint_map.html\"\n",
       "            frameborder=\"0\"\n",
       "            allowfullscreen\n",
       "        ></iframe>\n",
       "        "
      ],
      "text/plain": [
       "<IPython.lib.display.IFrame at 0x12afde150>"
      ]
     },
     "execution_count": 36,
     "metadata": {},
     "output_type": "execute_result"
    }
   ],
   "source": [
    "# Create a map using the Map() function and the coordinates for Chicago\n",
    "m = folium.Map(location=[41.8781, -87.6298])\n",
    "# function that adds a marker which locates a facility on the map\n",
    "def Adding_Marker(map_,longitude, latitude, popup, colour):\n",
    "    '''\n",
    "     adds a marker which locates a facility on the map\n",
    "    \n",
    "    map_: folium.folium.Map\n",
    "        basic map\n",
    "    \n",
    "    longitude: numpy.float64\n",
    "    \n",
    "    latitude: numpy.float64\n",
    "    \n",
    "    popup: str\n",
    "        Name of facility and number of sick persons\n",
    "    \n",
    "    colour: str\n",
    "    '''\n",
    "    folium.Marker(\n",
    "        location=[latitude,longitude], # coordinates for the marker \n",
    "        popup= popup ,  # pop-up label for the marker\n",
    "        icon=folium.Icon(color= colour)\n",
    "    ).add_to(map_)\n",
    "    \n",
    "\n",
    "for i in range(df.shape[0]):\n",
    "    # popup giving general information on the restaurant\n",
    "    popup = str(df.Name.values[i]) + '\\n'+'#Sick Persons :'+ str(df.Total_all_time_sick_persons.values[i]) + '\\n' +'#Reports :'+ str(df.Total_all_time_reports.values[i])  \n",
    "    # colouring the label depending on the amount of sick people\n",
    "    if (df.Total_all_time_sick_persons.values[i] < 2):\n",
    "        colour = 'blue'\n",
    "    if (df.Total_all_time_sick_persons.values[i] == 2):\n",
    "        colour = 'orange'\n",
    "    if (df.Total_all_time_sick_persons.values[i] > 2):\n",
    "        colour = 'red'\n",
    "    # using function to add a marker corresponding to a restaurant on the map\n",
    "    Adding_Marker(m,df.Longitude.values[i], df.Latitude.values[i], popup , colour)\n",
    "\n",
    "# saving map to html for display\n",
    "#m.save(\"complaint_map.html\")\n",
    "IFrame(src = 'maps/complaint_map.html', width = 700, height = 600)"
   ]
  },
  {
   "cell_type": "markdown",
   "metadata": {},
   "source": [
    "> Mapping the restaurants with labels corresponding to amount of reports :"
   ]
  },
  {
   "cell_type": "code",
   "execution_count": 37,
   "metadata": {},
   "outputs": [
    {
     "data": {
      "text/html": [
       "\n",
       "        <iframe\n",
       "            width=\"700\"\n",
       "            height=\"600\"\n",
       "            src=\"maps/complaint_map.html\"\n",
       "            frameborder=\"0\"\n",
       "            allowfullscreen\n",
       "        ></iframe>\n",
       "        "
      ],
      "text/plain": [
       "<IPython.lib.display.IFrame at 0x12b9415d0>"
      ]
     },
     "execution_count": 37,
     "metadata": {},
     "output_type": "execute_result"
    }
   ],
   "source": [
    "# Create a map using the Map() function and the coordinates for Chicago\n",
    "m_ = folium.Map(location=[41.8781, -87.6298])\n",
    "\n",
    "for i in range(df.shape[0]):\n",
    "    # popup giving general information on the restaurant\n",
    "    popup = str(df.Name.values[i]) + '\\n'+'#Sick Persons :'+ str(df.Total_all_time_sick_persons.values[i]) + '\\n' +'#Reports :'+ str(df.Total_all_time_reports.values[i])\n",
    "    # colouring the label depending on the amount of sick people\n",
    "    if (df.Total_all_time_reports.values[i] < 2):\n",
    "        colour = 'blue'\n",
    "    if (df.Total_all_time_reports.values[i] == 2):\n",
    "        colour = 'orange'\n",
    "    if (df.Total_all_time_reports.values[i] > 2):\n",
    "        colour = 'red'\n",
    "    # using function to add a marker corresponding to a restaurant on the map\n",
    "    Adding_Marker(m,df.Longitude.values[i], df.Latitude.values[i], popup , colour)\n",
    "    \n",
    "IFrame(src = 'maps/complaint_map.html', width = 700, height = 600)"
   ]
  },
  {
   "cell_type": "markdown",
   "metadata": {},
   "source": [
    "> The two maps are nearly identical because the number of sick people and the number of reports have the same values most of the time."
   ]
  },
  {
   "cell_type": "markdown",
   "metadata": {},
   "source": [
    "In further work, we shall compare these restaurants with the ones in the data 'food_poisoning' for comparison. "
   ]
  }
 ],
 "metadata": {
  "kernelspec": {
   "display_name": "Python 3",
   "language": "python",
   "name": "python3"
  },
  "language_info": {
   "codemirror_mode": {
    "name": "ipython",
    "version": 3
   },
   "file_extension": ".py",
   "mimetype": "text/x-python",
   "name": "python",
   "nbconvert_exporter": "python",
   "pygments_lexer": "ipython3",
   "version": "3.7.4"
  }
 },
 "nbformat": 4,
 "nbformat_minor": 2
}
