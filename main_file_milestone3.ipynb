{
 "cells": [
  {
   "cell_type": "code",
   "execution_count": 92,
   "metadata": {},
   "outputs": [],
   "source": [
    "import os\n",
    "import re\n",
    "import warnings\n",
    "import folium\n",
    "import pickle\n",
    "import gensim\n",
    "import math\n",
    "import numpy as np\n",
    "import pyLDAvis.gensim\n",
    "import geopandas as gpd\n",
    "import pandas as pd\n",
    "import numpy as np\n",
    "import statsmodels as sm\n",
    "import seaborn as sns \n",
    "import colorlover as cl\n",
    "import matplotlib.ticker as mtick\n",
    "import matplotlib.pyplot as plt\n",
    "from matplotlib.pyplot import figure\n",
    "import scipy.stats as stats \n",
    "import plotly.io as pio\n",
    "import plotly.offline as py\n",
    "import xgboost as xgb\n",
    "\n",
    "\n",
    "from os import path\n",
    "from PIL import Image\n",
    "from gensim import corpora\n",
    "from empath import Empath\n",
    "from wordcloud import WordCloud, STOPWORDS\n",
    "from collections import Counter\n",
    "from scipy.stats import powerlaw \n",
    "from folium import plugins\n",
    "from folium.plugins import HeatMap\n",
    "from IPython.display import IFrame\n",
    "from plotly import graph_objects as go\n",
    "\n",
    "#NLP libraries\n",
    "import spacy, nltk, gensim, sklearn\n",
    "import pyLDAvis.gensim\n",
    "from functools import reduce\n",
    "\n",
    "import json\n",
    "from pandas.io.json import json_normalize\n",
    "from shapely.geometry import Point, LineString\n",
    "from shapely.geometry import Polygon\n",
    "from shapely.geometry import Point\n",
    "\n",
    "from scipy import stats\n",
    "from sklearn.model_selection import train_test_split, validation_curve, cross_val_score, KFold\n",
    "from sklearn.metrics import mean_squared_error\n",
    "from sklearn.pipeline import Pipeline\n",
    "from sklearn.linear_model import Ridge\n",
    "from sklearn.preprocessing import StandardScaler\n",
    "from sklearn.linear_model import RidgeClassifier\n",
    "from sklearn.ensemble import RandomForestClassifier\n",
    "from sklearn.metrics import accuracy_score, f1_score\n",
    "from xgboost import XGBClassifier\n",
    "from sklearn.metrics import confusion_matrix\n",
    "from sklearn.metrics import roc_curve, auc\n",
    "from sklearn.model_selection import TimeSeriesSplit\n",
    "from sklearn.metrics import roc_auc_score\n",
    "from sklearn.model_selection import TimeSeriesSplit\n",
    " \n",
    "#Class created during milestone 2 for this project\n",
    "from violation_preprocessing import violation_separator, violations_dataframe\n",
    "from mapping_functions import generateBaseMap, geodataframe, chlorepleth_map, adding_Marker, adding_CircleMarker\n",
    "from ml_functions import GBT_classification, Rf_classification, plot_confusion_matrix\n",
    "\n",
    "%matplotlib inline\n",
    "sns.set()\n",
    "warnings.filterwarnings('ignore')\n",
    "pio.renderers.default = 'iframe'"
   ]
  },
  {
   "cell_type": "markdown",
   "metadata": {},
   "source": [
    "# 1- Contextualization "
   ]
  },
  {
   "cell_type": "markdown",
   "metadata": {},
   "source": [
    "In order to add a context to our data story, we decided to introduce a new dataset : [US National Outbreak](https://wwwn.cdc.gov/norsdashboard/)"
   ]
  },
  {
   "cell_type": "code",
   "execution_count": 5,
   "metadata": {},
   "outputs": [
    {
     "data": {
      "text/html": [
       "<div>\n",
       "<style scoped>\n",
       "    .dataframe tbody tr th:only-of-type {\n",
       "        vertical-align: middle;\n",
       "    }\n",
       "\n",
       "    .dataframe tbody tr th {\n",
       "        vertical-align: top;\n",
       "    }\n",
       "\n",
       "    .dataframe thead th {\n",
       "        text-align: right;\n",
       "    }\n",
       "</style>\n",
       "<table border=\"1\" class=\"dataframe\">\n",
       "  <thead>\n",
       "    <tr style=\"text-align: right;\">\n",
       "      <th></th>\n",
       "      <th>Year</th>\n",
       "      <th>State</th>\n",
       "      <th>Etiology</th>\n",
       "      <th>Setting</th>\n",
       "      <th>Illnesses</th>\n",
       "      <th>Hospitalizations</th>\n",
       "      <th>Food Vehicle</th>\n",
       "      <th>Food Contaminated Ingredient</th>\n",
       "    </tr>\n",
       "  </thead>\n",
       "  <tbody>\n",
       "    <tr>\n",
       "      <th>0</th>\n",
       "      <td>2009</td>\n",
       "      <td>Minnesota</td>\n",
       "      <td>Norovirus</td>\n",
       "      <td>Restaurant - Sit-down dining</td>\n",
       "      <td>2</td>\n",
       "      <td>0.0</td>\n",
       "      <td>NaN</td>\n",
       "      <td>NaN</td>\n",
       "    </tr>\n",
       "    <tr>\n",
       "      <th>1</th>\n",
       "      <td>2009</td>\n",
       "      <td>Minnesota</td>\n",
       "      <td>Norovirus</td>\n",
       "      <td>NaN</td>\n",
       "      <td>16</td>\n",
       "      <td>0.0</td>\n",
       "      <td>NaN</td>\n",
       "      <td>NaN</td>\n",
       "    </tr>\n",
       "    <tr>\n",
       "      <th>2</th>\n",
       "      <td>2009</td>\n",
       "      <td>Minnesota</td>\n",
       "      <td>Norovirus</td>\n",
       "      <td>Restaurant - Sit-down dining</td>\n",
       "      <td>5</td>\n",
       "      <td>0.0</td>\n",
       "      <td>NaN</td>\n",
       "      <td>NaN</td>\n",
       "    </tr>\n",
       "  </tbody>\n",
       "</table>\n",
       "</div>"
      ],
      "text/plain": [
       "   Year      State   Etiology                       Setting  Illnesses  \\\n",
       "0  2009  Minnesota  Norovirus  Restaurant - Sit-down dining          2   \n",
       "1  2009  Minnesota  Norovirus                           NaN         16   \n",
       "2  2009  Minnesota  Norovirus  Restaurant - Sit-down dining          5   \n",
       "\n",
       "   Hospitalizations Food Vehicle Food Contaminated Ingredient  \n",
       "0               0.0          NaN                          NaN  \n",
       "1               0.0          NaN                          NaN  \n",
       "2               0.0          NaN                          NaN  "
      ]
     },
     "execution_count": 5,
     "metadata": {},
     "output_type": "execute_result"
    }
   ],
   "source": [
    "# import the new dataset\n",
    "data_outbreak_0 = pd.read_excel('data/NationalOutbreakPublicDataTool.xlsx')\n",
    "\n",
    "# selection of column of interest\n",
    "interest_columns = ['Year','State','Etiology','Setting','Illnesses','Hospitalizations','Food Vehicle','Food Contaminated Ingredient']\n",
    "\n",
    "# dataframe of interest\n",
    "data_outbreak = data_outbreak_0[interest_columns]\n",
    "\n",
    "data_outbreak.head(3)"
   ]
  },
  {
   "cell_type": "markdown",
   "metadata": {},
   "source": [
    "## 1.1 US outbreak mapping "
   ]
  },
  {
   "cell_type": "markdown",
   "metadata": {},
   "source": [
    "The aim of this part is to plot the number of outbreaks per state. "
   ]
  },
  {
   "cell_type": "code",
   "execution_count": 6,
   "metadata": {},
   "outputs": [
    {
     "data": {
      "text/html": [
       "<div>\n",
       "<style scoped>\n",
       "    .dataframe tbody tr th:only-of-type {\n",
       "        vertical-align: middle;\n",
       "    }\n",
       "\n",
       "    .dataframe tbody tr th {\n",
       "        vertical-align: top;\n",
       "    }\n",
       "\n",
       "    .dataframe thead th {\n",
       "        text-align: right;\n",
       "    }\n",
       "</style>\n",
       "<table border=\"1\" class=\"dataframe\">\n",
       "  <thead>\n",
       "    <tr style=\"text-align: right;\">\n",
       "      <th></th>\n",
       "      <th>name</th>\n",
       "      <th>count</th>\n",
       "    </tr>\n",
       "  </thead>\n",
       "  <tbody>\n",
       "    <tr>\n",
       "      <th>0</th>\n",
       "      <td>Alabama</td>\n",
       "      <td>255</td>\n",
       "    </tr>\n",
       "    <tr>\n",
       "      <th>1</th>\n",
       "      <td>Alaska</td>\n",
       "      <td>94</td>\n",
       "    </tr>\n",
       "    <tr>\n",
       "      <th>2</th>\n",
       "      <td>Arizona</td>\n",
       "      <td>323</td>\n",
       "    </tr>\n",
       "  </tbody>\n",
       "</table>\n",
       "</div>"
      ],
      "text/plain": [
       "      name  count\n",
       "0  Alabama    255\n",
       "1   Alaska     94\n",
       "2  Arizona    323"
      ]
     },
     "execution_count": 6,
     "metadata": {},
     "output_type": "execute_result"
    }
   ],
   "source": [
    "# counting the number of outbreak per state \n",
    "data_outbreak_count = pd.DataFrame(data_outbreak.groupby('State').count())\n",
    "\n",
    "data_outbreak_count.reset_index(inplace = True)\n",
    "\n",
    "# selecting only the column of interest for the mapping\n",
    "data_outbreak_count = data_outbreak_count[['State','Year']]\n",
    "\n",
    "data_outbreak_count.rename(columns = {'Year': 'count','State':'name'}, inplace = True)\n",
    "\n",
    "data_outbreak_count.head(3)"
   ]
  },
  {
   "cell_type": "markdown",
   "metadata": {},
   "source": [
    "> We need to use a geojson file for the border of each nation."
   ]
  },
  {
   "cell_type": "code",
   "execution_count": 7,
   "metadata": {},
   "outputs": [
    {
     "data": {
      "text/html": [
       "<div>\n",
       "<style scoped>\n",
       "    .dataframe tbody tr th:only-of-type {\n",
       "        vertical-align: middle;\n",
       "    }\n",
       "\n",
       "    .dataframe tbody tr th {\n",
       "        vertical-align: top;\n",
       "    }\n",
       "\n",
       "    .dataframe thead th {\n",
       "        text-align: right;\n",
       "    }\n",
       "</style>\n",
       "<table border=\"1\" class=\"dataframe\">\n",
       "  <thead>\n",
       "    <tr style=\"text-align: right;\">\n",
       "      <th></th>\n",
       "      <th>id</th>\n",
       "      <th>name</th>\n",
       "      <th>geometry</th>\n",
       "      <th>centroid_y</th>\n",
       "      <th>centroid_x</th>\n",
       "      <th>count</th>\n",
       "    </tr>\n",
       "  </thead>\n",
       "  <tbody>\n",
       "    <tr>\n",
       "      <th>0</th>\n",
       "      <td>AL</td>\n",
       "      <td>Alabama</td>\n",
       "      <td>POLYGON ((-87.35930 35.00118, -85.60667 34.984...</td>\n",
       "      <td>-86.827783</td>\n",
       "      <td>32.789907</td>\n",
       "      <td>255</td>\n",
       "    </tr>\n",
       "    <tr>\n",
       "      <th>1</th>\n",
       "      <td>AK</td>\n",
       "      <td>Alaska</td>\n",
       "      <td>MULTIPOLYGON (((-131.60202 55.11798, -131.5691...</td>\n",
       "      <td>-152.373738</td>\n",
       "      <td>64.227768</td>\n",
       "      <td>94</td>\n",
       "    </tr>\n",
       "    <tr>\n",
       "      <th>2</th>\n",
       "      <td>AZ</td>\n",
       "      <td>Arizona</td>\n",
       "      <td>POLYGON ((-109.04250 37.00026, -109.04798 31.3...</td>\n",
       "      <td>-111.663296</td>\n",
       "      <td>34.293393</td>\n",
       "      <td>323</td>\n",
       "    </tr>\n",
       "  </tbody>\n",
       "</table>\n",
       "</div>"
      ],
      "text/plain": [
       "   id     name                                           geometry  centroid_y  \\\n",
       "0  AL  Alabama  POLYGON ((-87.35930 35.00118, -85.60667 34.984...  -86.827783   \n",
       "1  AK   Alaska  MULTIPOLYGON (((-131.60202 55.11798, -131.5691... -152.373738   \n",
       "2  AZ  Arizona  POLYGON ((-109.04250 37.00026, -109.04798 31.3... -111.663296   \n",
       "\n",
       "   centroid_x  count  \n",
       "0   32.789907    255  \n",
       "1   64.227768     94  \n",
       "2   34.293393    323  "
      ]
     },
     "execution_count": 7,
     "metadata": {},
     "output_type": "execute_result"
    }
   ],
   "source": [
    "# path to geoJson file \n",
    "us_geo = os.path.join('data/us-states.json')\n",
    "\n",
    "# creation of a geodataframe using geopandas\n",
    "us_gdf = gpd.read_file(us_geo)\n",
    "\n",
    "# add a column with the x-coordinate of the multipolygon\n",
    "us_gdf['centroid_y'] = us_gdf['geometry'].centroid.x\n",
    "\n",
    "# add a column with the y-coordinate of the multipolygon\n",
    "us_gdf['centroid_x'] = us_gdf['geometry'].centroid.y\n",
    "\n",
    "# setting a projection  by assigning the WGS84 latitude-longitude CRS to the crs attribute\n",
    "us_gdf.crs = {'init' :'epsg:4326'}\n",
    "\n",
    "# merging the geodataframe with our data of interst\n",
    "us_outbreak_gdf = pd.merge(us_gdf,data_outbreak_count, on = 'name')\n",
    "\n",
    "us_outbreak_gdf.head(3)"
   ]
  },
  {
   "cell_type": "markdown",
   "metadata": {},
   "source": [
    "> In the part below, we will not use the class created for mapping to use more specific parameters."
   ]
  },
  {
   "cell_type": "code",
   "execution_count": 8,
   "metadata": {},
   "outputs": [
    {
     "data": {
      "text/plain": [
       "<folium.map.LayerControl at 0x1a132c6750>"
      ]
     },
     "execution_count": 8,
     "metadata": {},
     "output_type": "execute_result"
    }
   ],
   "source": [
    "# creating a basic map of Chicago\n",
    "map_ = folium.Map(location = [us_gdf.centroid_x.mean(),us_gdf.centroid_y.mean()], control_scale = True, zoom_start = 4)\n",
    "\n",
    "# cleaning the map background\n",
    "folium.TileLayer('CartoDB positron', name = \"Light Map\", control = False).add_to(map_)\n",
    "\n",
    "# setting our scale for the map colors \n",
    "myscale = list([0,500,1000,2000,3000])\n",
    "\n",
    "folium.Choropleth(\n",
    "        geo_data = us_geo,\n",
    "        name = 'US Outbreak',\n",
    "        data = us_outbreak_gdf,\n",
    "        columns = ['id','count'],\n",
    "        key_on = 'feature.id',\n",
    "        fill_color = 'Blues',\n",
    "        fill_opacity = 0.8,\n",
    "        line_opacity = 1,\n",
    "        legend_name = 'Outbreaks numbers',\n",
    "        threshold_scale = myscale,\n",
    "        smooth_factor = 0\n",
    "        \n",
    "    ).add_to(map_)\n",
    "\n",
    "\n",
    "\n",
    "style_function = lambda x: {'fillColor': '#ffffff', \n",
    "                            'color':'#000000', \n",
    "                            'fillOpacity': 0.1, \n",
    "                            'weight': 0.1}\n",
    "\n",
    "highlight_function = lambda x: {'fillColor': '#000000', \n",
    "                                'color':'#000000', \n",
    "                                'fillOpacity': 0.50, \n",
    "                                'weight': 0.1}\n",
    "\n",
    "\n",
    "L = folium.features.GeoJson(\n",
    "    us_outbreak_gdf,\n",
    "    style_function = style_function, \n",
    "    control = False,\n",
    "    highlight_function = highlight_function, \n",
    "    tooltip = folium.features.GeoJsonTooltip(\n",
    "        fields = ['name','count'],\n",
    "        aliases = ['State : ','Number of outbreak :'],\n",
    "        style = (\"background-color: white; color: #333333; font-family: arial; font-size: 12px; padding: 10px;\") \n",
    "    )\n",
    ")\n",
    "\n",
    "folium.Marker(\n",
    "        location = [41.8600, -87.6298], # coordinates for the marker \n",
    "        popup = 'CHICAGO ' ,  # pop-up label for the marker\n",
    "        icon = folium.Icon(color = 'darkred', icon ='arrow-down')\n",
    "    ).add_to(map_)\n",
    "\n",
    "\n",
    "map_.add_child(L)\n",
    "map_.keep_in_front(L)\n",
    "folium.LayerControl().add_to(map_)"
   ]
  },
  {
   "cell_type": "markdown",
   "metadata": {},
   "source": [
    "**Link to the map** : [Us Outbreak map](docs/maps/US_map.html)"
   ]
  },
  {
   "cell_type": "markdown",
   "metadata": {},
   "source": [
    "## 1.2 Food causing poisoning pie chart"
   ]
  },
  {
   "cell_type": "markdown",
   "metadata": {},
   "source": [
    "The aim of this part is to find out which type of food cause the highest cases of foodorne illnesses."
   ]
  },
  {
   "cell_type": "code",
   "execution_count": 9,
   "metadata": {},
   "outputs": [
    {
     "data": {
      "text/html": [
       "<div>\n",
       "<style scoped>\n",
       "    .dataframe tbody tr th:only-of-type {\n",
       "        vertical-align: middle;\n",
       "    }\n",
       "\n",
       "    .dataframe tbody tr th {\n",
       "        vertical-align: top;\n",
       "    }\n",
       "\n",
       "    .dataframe thead th {\n",
       "        text-align: right;\n",
       "    }\n",
       "</style>\n",
       "<table border=\"1\" class=\"dataframe\">\n",
       "  <thead>\n",
       "    <tr style=\"text-align: right;\">\n",
       "      <th></th>\n",
       "      <th>Etiology</th>\n",
       "      <th>Illnesses</th>\n",
       "      <th>Hospitalizations</th>\n",
       "      <th>Food Vehicle</th>\n",
       "      <th>Food Contaminated Ingredient</th>\n",
       "    </tr>\n",
       "  </thead>\n",
       "  <tbody>\n",
       "    <tr>\n",
       "      <th>12</th>\n",
       "      <td>Bacillus cereus</td>\n",
       "      <td>13</td>\n",
       "      <td>0.0</td>\n",
       "      <td>rice, white</td>\n",
       "      <td>rice</td>\n",
       "    </tr>\n",
       "    <tr>\n",
       "      <th>32</th>\n",
       "      <td>Norovirus Genogroup I</td>\n",
       "      <td>9</td>\n",
       "      <td>0.0</td>\n",
       "      <td>oysters, raw</td>\n",
       "      <td>oysters</td>\n",
       "    </tr>\n",
       "    <tr>\n",
       "      <th>33</th>\n",
       "      <td>Shigella sonnei</td>\n",
       "      <td>96</td>\n",
       "      <td>0.0</td>\n",
       "      <td>multiple foods</td>\n",
       "      <td>lemon; lime</td>\n",
       "    </tr>\n",
       "  </tbody>\n",
       "</table>\n",
       "</div>"
      ],
      "text/plain": [
       "                 Etiology  Illnesses  Hospitalizations    Food Vehicle  \\\n",
       "12        Bacillus cereus         13               0.0     rice, white   \n",
       "32  Norovirus Genogroup I          9               0.0    oysters, raw   \n",
       "33        Shigella sonnei         96               0.0  multiple foods   \n",
       "\n",
       "   Food Contaminated Ingredient  \n",
       "12                         rice  \n",
       "32                      oysters  \n",
       "33                  lemon; lime  "
      ]
     },
     "execution_count": 9,
     "metadata": {},
     "output_type": "execute_result"
    }
   ],
   "source": [
    "# selection of column of interest\n",
    "interest_columns = ['Etiology','Illnesses','Hospitalizations','Food Vehicle','Food Contaminated Ingredient']\n",
    "\n",
    "# creating a new dataset with food\n",
    "data_food = data_outbreak_0[interest_columns]\n",
    "\n",
    "# removing all the unknown values\n",
    "data_food = data_food.dropna()\n",
    "\n",
    "data_food.head(3)"
   ]
  },
  {
   "cell_type": "markdown",
   "metadata": {},
   "source": [
    "> We need to clean the Food Vehicle column."
   ]
  },
  {
   "cell_type": "code",
   "execution_count": 10,
   "metadata": {},
   "outputs": [
    {
     "name": "stdout",
     "output_type": "stream",
     "text": [
      "There is  561  different ingredients that can cause a foodborn illness.\n"
     ]
    },
    {
     "data": {
      "text/html": [
       "<div>\n",
       "<style scoped>\n",
       "    .dataframe tbody tr th:only-of-type {\n",
       "        vertical-align: middle;\n",
       "    }\n",
       "\n",
       "    .dataframe tbody tr th {\n",
       "        vertical-align: top;\n",
       "    }\n",
       "\n",
       "    .dataframe thead th {\n",
       "        text-align: right;\n",
       "    }\n",
       "</style>\n",
       "<table border=\"1\" class=\"dataframe\">\n",
       "  <thead>\n",
       "    <tr style=\"text-align: right;\">\n",
       "      <th></th>\n",
       "      <th>Etiology</th>\n",
       "      <th>Illnesses</th>\n",
       "      <th>Hospitalizations</th>\n",
       "      <th>Food Vehicle</th>\n",
       "      <th>Food Contaminated Ingredient</th>\n",
       "    </tr>\n",
       "  </thead>\n",
       "  <tbody>\n",
       "    <tr>\n",
       "      <th>12</th>\n",
       "      <td>Bacillus cereus</td>\n",
       "      <td>13</td>\n",
       "      <td>0.0</td>\n",
       "      <td>rice</td>\n",
       "      <td>rice</td>\n",
       "    </tr>\n",
       "    <tr>\n",
       "      <th>12</th>\n",
       "      <td>Bacillus cereus</td>\n",
       "      <td>13</td>\n",
       "      <td>0.0</td>\n",
       "      <td>white</td>\n",
       "      <td>rice</td>\n",
       "    </tr>\n",
       "    <tr>\n",
       "      <th>32</th>\n",
       "      <td>Norovirus Genogroup I</td>\n",
       "      <td>9</td>\n",
       "      <td>0.0</td>\n",
       "      <td>oysters</td>\n",
       "      <td>oysters</td>\n",
       "    </tr>\n",
       "  </tbody>\n",
       "</table>\n",
       "</div>"
      ],
      "text/plain": [
       "                 Etiology  Illnesses  Hospitalizations Food Vehicle  \\\n",
       "12        Bacillus cereus         13               0.0         rice   \n",
       "12        Bacillus cereus         13               0.0        white   \n",
       "32  Norovirus Genogroup I          9               0.0      oysters   \n",
       "\n",
       "   Food Contaminated Ingredient  \n",
       "12                         rice  \n",
       "12                         rice  \n",
       "32                      oysters  "
      ]
     },
     "execution_count": 10,
     "metadata": {},
     "output_type": "execute_result"
    }
   ],
   "source": [
    "# split then explode \n",
    "data_food['Food Vehicle'] = data_food['Food Vehicle'].str.split()\n",
    "data_food = data_food.explode('Food Vehicle')\n",
    "\n",
    "# cleaning the food column\n",
    "data_food['Food Vehicle'] = data_food['Food Vehicle'].str.replace('[^\\w\\s]','')\n",
    "\n",
    "ignore = ['unspecified','bbq','other','and','unpasteurized','gravy','ground','raw']\n",
    "\n",
    "# delete the unwanted words\n",
    "data_food = data_food[~data_food['Food Vehicle'].str.contains('|'.join(ignore))]\n",
    "\n",
    "total_food = data_food['Food Vehicle'].nunique()\n",
    "\n",
    "total_illnesses = data_food['Illnesses'].sum()\n",
    "\n",
    "print('There is ', total_food ,' different ingredients that can cause a foodborn illness.')\n",
    "\n",
    "data_food.head(3)"
   ]
  },
  {
   "cell_type": "code",
   "execution_count": 11,
   "metadata": {},
   "outputs": [
    {
     "data": {
      "text/html": [
       "<div>\n",
       "<style scoped>\n",
       "    .dataframe tbody tr th:only-of-type {\n",
       "        vertical-align: middle;\n",
       "    }\n",
       "\n",
       "    .dataframe tbody tr th {\n",
       "        vertical-align: top;\n",
       "    }\n",
       "\n",
       "    .dataframe thead th {\n",
       "        text-align: right;\n",
       "    }\n",
       "</style>\n",
       "<table border=\"1\" class=\"dataframe\">\n",
       "  <thead>\n",
       "    <tr style=\"text-align: right;\">\n",
       "      <th></th>\n",
       "      <th>Food Vehicle</th>\n",
       "      <th>Etiology</th>\n",
       "      <th>Illnesses_x</th>\n",
       "      <th>Hospitalizations</th>\n",
       "      <th>Food Contaminated Ingredient</th>\n",
       "      <th>illnesses_cases</th>\n",
       "      <th>percentage</th>\n",
       "    </tr>\n",
       "  </thead>\n",
       "  <tbody>\n",
       "    <tr>\n",
       "      <th>105</th>\n",
       "      <td>chicken</td>\n",
       "      <td>Bacillus cereus</td>\n",
       "      <td>20</td>\n",
       "      <td>1.0</td>\n",
       "      <td>chicken</td>\n",
       "      <td>4759</td>\n",
       "      <td>5.97</td>\n",
       "    </tr>\n",
       "    <tr>\n",
       "      <th>37</th>\n",
       "      <td>beef</td>\n",
       "      <td>Clostridium perfringens</td>\n",
       "      <td>5</td>\n",
       "      <td>0.0</td>\n",
       "      <td>ground beef</td>\n",
       "      <td>3937</td>\n",
       "      <td>4.94</td>\n",
       "    </tr>\n",
       "    <tr>\n",
       "      <th>423</th>\n",
       "      <td>salad</td>\n",
       "      <td>Scombroid toxin</td>\n",
       "      <td>2</td>\n",
       "      <td>0.0</td>\n",
       "      <td>tuna</td>\n",
       "      <td>3715</td>\n",
       "      <td>4.66</td>\n",
       "    </tr>\n",
       "  </tbody>\n",
       "</table>\n",
       "</div>"
      ],
      "text/plain": [
       "    Food Vehicle                 Etiology  Illnesses_x  Hospitalizations  \\\n",
       "105      chicken          Bacillus cereus           20               1.0   \n",
       "37          beef  Clostridium perfringens            5               0.0   \n",
       "423        salad          Scombroid toxin            2               0.0   \n",
       "\n",
       "    Food Contaminated Ingredient  illnesses_cases  percentage  \n",
       "105                      chicken             4759        5.97  \n",
       "37                   ground beef             3937        4.94  \n",
       "423                         tuna             3715        4.66  "
      ]
     },
     "execution_count": 11,
     "metadata": {},
     "output_type": "execute_result"
    }
   ],
   "source": [
    "# create a dataframe grouped by food vehicle\n",
    "grouped_df = pd.DataFrame(data_food.groupby('Food Vehicle').first())\n",
    "\n",
    "# sum the number illnesses cases per type of food\n",
    "ill_df = pd.DataFrame(data_food.groupby('Food Vehicle')['Illnesses'].sum())\n",
    "\n",
    "ill_df.reset_index(inplace = True)\n",
    "\n",
    "# merge our dataframe or interest\n",
    "merged = pd.merge(grouped_df,ill_df, on = 'Food Vehicle')\n",
    "\n",
    "merged.rename(columns = {'Illnesses_y': 'illnesses_cases'}, inplace = True)\n",
    "\n",
    "# percentage computation for the pie chart \n",
    "merged['percentage'] = round((merged['illnesses_cases']/total_illnesses)*100,2)\n",
    "\n",
    "# sort by percentage\n",
    "merged = merged.sort_values('percentage', ascending = False)\n",
    "\n",
    "merged.head(3)"
   ]
  },
  {
   "cell_type": "markdown",
   "metadata": {},
   "source": [
    "> In this part we will just clean the data to obtain a readable plot."
   ]
  },
  {
   "cell_type": "code",
   "execution_count": 12,
   "metadata": {},
   "outputs": [
    {
     "data": {
      "text/html": [
       "<div>\n",
       "<style scoped>\n",
       "    .dataframe tbody tr th:only-of-type {\n",
       "        vertical-align: middle;\n",
       "    }\n",
       "\n",
       "    .dataframe tbody tr th {\n",
       "        vertical-align: top;\n",
       "    }\n",
       "\n",
       "    .dataframe thead th {\n",
       "        text-align: right;\n",
       "    }\n",
       "</style>\n",
       "<table border=\"1\" class=\"dataframe\">\n",
       "  <thead>\n",
       "    <tr style=\"text-align: right;\">\n",
       "      <th></th>\n",
       "      <th>Food Vehicle</th>\n",
       "      <th>Etiology</th>\n",
       "      <th>Illnesses_x</th>\n",
       "      <th>Hospitalizations</th>\n",
       "      <th>Food Contaminated Ingredient</th>\n",
       "      <th>illnesses_cases</th>\n",
       "      <th>percentage</th>\n",
       "    </tr>\n",
       "  </thead>\n",
       "  <tbody>\n",
       "    <tr>\n",
       "      <th>105</th>\n",
       "      <td>chicken</td>\n",
       "      <td>Bacillus cereus</td>\n",
       "      <td>20</td>\n",
       "      <td>1</td>\n",
       "      <td>chicken</td>\n",
       "      <td>4759</td>\n",
       "      <td>5.97</td>\n",
       "    </tr>\n",
       "    <tr>\n",
       "      <th>37</th>\n",
       "      <td>beef</td>\n",
       "      <td>Clostridium perfringens</td>\n",
       "      <td>5</td>\n",
       "      <td>0</td>\n",
       "      <td>ground beef</td>\n",
       "      <td>3937</td>\n",
       "      <td>4.94</td>\n",
       "    </tr>\n",
       "    <tr>\n",
       "      <th>423</th>\n",
       "      <td>salad</td>\n",
       "      <td>Scombroid toxin</td>\n",
       "      <td>2</td>\n",
       "      <td>0</td>\n",
       "      <td>tuna</td>\n",
       "      <td>3715</td>\n",
       "      <td>4.66</td>\n",
       "    </tr>\n",
       "    <tr>\n",
       "      <th>527</th>\n",
       "      <td>turkey</td>\n",
       "      <td>Norovirus</td>\n",
       "      <td>32</td>\n",
       "      <td>0</td>\n",
       "      <td>lettuce; turkey</td>\n",
       "      <td>3396</td>\n",
       "      <td>4.26</td>\n",
       "    </tr>\n",
       "    <tr>\n",
       "      <th>376</th>\n",
       "      <td>pork</td>\n",
       "      <td>Clostridium perfringens</td>\n",
       "      <td>20</td>\n",
       "      <td>0</td>\n",
       "      <td>pork, other</td>\n",
       "      <td>2953</td>\n",
       "      <td>3.71</td>\n",
       "    </tr>\n",
       "  </tbody>\n",
       "</table>\n",
       "</div>"
      ],
      "text/plain": [
       "    Food Vehicle                 Etiology Illnesses_x Hospitalizations  \\\n",
       "105      chicken          Bacillus cereus          20                1   \n",
       "37          beef  Clostridium perfringens           5                0   \n",
       "423        salad          Scombroid toxin           2                0   \n",
       "527       turkey                Norovirus          32                0   \n",
       "376         pork  Clostridium perfringens          20                0   \n",
       "\n",
       "    Food Contaminated Ingredient illnesses_cases  percentage  \n",
       "105                      chicken            4759        5.97  \n",
       "37                   ground beef            3937        4.94  \n",
       "423                         tuna            3715        4.66  \n",
       "527              lettuce; turkey            3396        4.26  \n",
       "376                  pork, other            2953        3.71  "
      ]
     },
     "execution_count": 12,
     "metadata": {},
     "output_type": "execute_result"
    }
   ],
   "source": [
    "# keep only the relatively high percentage\n",
    "merged_plot = merged[merged['percentage'] > 1.25]\n",
    "\n",
    "# creation of the 'other' categorie for the pie chart\n",
    "other = merged[merged['percentage'] <= 1.25]\n",
    "\n",
    "# total percentage computation for the 'other' food category\n",
    "other_percentage = other.percentage.sum()\n",
    "\n",
    "# adding the 'other' percentage to the data for the plot\n",
    "merged_plot.loc[0] = ['others', 'many', 'NAN','NAN','NAN','NAN',other_percentage]\n",
    "\n",
    "# data used for the plots \n",
    "merged_plot.head(5)"
   ]
  },
  {
   "cell_type": "code",
   "execution_count": 139,
   "metadata": {},
   "outputs": [
    {
     "data": {
      "text/html": [
       "<iframe\n",
       "    scrolling=\"no\"\n",
       "    width=\"420px\"\n",
       "    height=\"420\"\n",
       "    src=\"iframe_figures/figure_139.html\"\n",
       "    frameborder=\"0\"\n",
       "    allowfullscreen\n",
       "></iframe>\n"
      ]
     },
     "metadata": {},
     "output_type": "display_data"
    }
   ],
   "source": [
    "# plotting of pie chart\n",
    "\n",
    "fig = go.Figure()\n",
    "\n",
    "\n",
    "# set up the first trace\n",
    "fig.add_trace(go.Pie(\n",
    "                    labels = merged_plot['Food Vehicle'],\n",
    "                    values = merged_plot['percentage'],\n",
    "                    visible = True,\n",
    "                    marker_colors = cl.scales['10']['div']['RdBu']\n",
    "                )\n",
    "             )\n",
    "\n",
    "fig.layout.update(\n",
    "    autosize = False,\n",
    "    width = 400,\n",
    "    height = 400,\n",
    "    template = \"plotly_white\",\n",
    "    #paper_bgcolor='#333'\n",
    ")\n",
    "\n",
    "fig.layout.update(\n",
    "    title = go.layout.Title(\n",
    "        text = 'Foods and associated percentage of caused illnesses',\n",
    "        y = 0.9,\n",
    "        x = 0.5,\n",
    "        xanchor = 'center',\n",
    "        yanchor = 'top',\n",
    "    )\n",
    ")\n",
    "\n",
    "fig.show()"
   ]
  },
  {
   "cell_type": "markdown",
   "metadata": {},
   "source": [
    "**Link to the pie chart** : [Foods pie chart ](docs/plots/foods_sickness.html)"
   ]
  },
  {
   "cell_type": "markdown",
   "metadata": {},
   "source": [
    "# 2- Spatial visualisation "
   ]
  },
  {
   "cell_type": "markdown",
   "metadata": {},
   "source": [
    "The aim of this part is to have a spatial visualisation of the inspections features. The maps that we will create below will be used in different part of the data story. \n",
    "As each zip code have a different number of facilities, we will normalize each feature as follow :\n",
    "> proportion = # of facilities with feature(i) / # total number of facilities per zip code"
   ]
  },
  {
   "cell_type": "code",
   "execution_count": 14,
   "metadata": {},
   "outputs": [
    {
     "data": {
      "text/html": [
       "<div>\n",
       "<style scoped>\n",
       "    .dataframe tbody tr th:only-of-type {\n",
       "        vertical-align: middle;\n",
       "    }\n",
       "\n",
       "    .dataframe tbody tr th {\n",
       "        vertical-align: top;\n",
       "    }\n",
       "\n",
       "    .dataframe thead th {\n",
       "        text-align: right;\n",
       "    }\n",
       "</style>\n",
       "<table border=\"1\" class=\"dataframe\">\n",
       "  <thead>\n",
       "    <tr style=\"text-align: right;\">\n",
       "      <th></th>\n",
       "      <th>inspection_id</th>\n",
       "      <th>dba_name</th>\n",
       "      <th>aka_name</th>\n",
       "      <th>license</th>\n",
       "      <th>facility_type</th>\n",
       "      <th>risk</th>\n",
       "      <th>address</th>\n",
       "      <th>zip</th>\n",
       "      <th>inspection_date</th>\n",
       "      <th>inspection_type</th>\n",
       "      <th>results</th>\n",
       "      <th>violations</th>\n",
       "      <th>latitude</th>\n",
       "      <th>longitude</th>\n",
       "      <th>location</th>\n",
       "      <th>risk_level</th>\n",
       "    </tr>\n",
       "  </thead>\n",
       "  <tbody>\n",
       "    <tr>\n",
       "      <th>0</th>\n",
       "      <td>2346127</td>\n",
       "      <td>CREPE HOUSE CAFE</td>\n",
       "      <td>CREPE HOUSE CAFE</td>\n",
       "      <td>2637127.0</td>\n",
       "      <td>Restaurant</td>\n",
       "      <td>Risk 1 (High)</td>\n",
       "      <td>5033 N ELSTON AVE</td>\n",
       "      <td>60630</td>\n",
       "      <td>2019-11-22</td>\n",
       "      <td>Canvass Re-Inspection</td>\n",
       "      <td>Pass</td>\n",
       "      <td>NaN</td>\n",
       "      <td>41.972349</td>\n",
       "      <td>-87.746825</td>\n",
       "      <td>{'latitude': '-87.74682508578468', 'longitude'...</td>\n",
       "      <td>1.0</td>\n",
       "    </tr>\n",
       "    <tr>\n",
       "      <th>1</th>\n",
       "      <td>2346126</td>\n",
       "      <td>LEANS NUTRITION CLUB</td>\n",
       "      <td>LEANS NUTRITION CLUB</td>\n",
       "      <td>2432147.0</td>\n",
       "      <td>Restaurant</td>\n",
       "      <td>Risk 2 (Medium)</td>\n",
       "      <td>5302 S PULASKI RD</td>\n",
       "      <td>60632</td>\n",
       "      <td>2019-11-22</td>\n",
       "      <td>Canvass Re-Inspection</td>\n",
       "      <td>Pass w/ Conditions</td>\n",
       "      <td>3. MANAGEMENT, FOOD EMPLOYEE AND CONDITIONAL E...</td>\n",
       "      <td>41.796699</td>\n",
       "      <td>-87.723408</td>\n",
       "      <td>{'latitude': '-87.72340756196249', 'longitude'...</td>\n",
       "      <td>2.0</td>\n",
       "    </tr>\n",
       "    <tr>\n",
       "      <th>2</th>\n",
       "      <td>2346149</td>\n",
       "      <td>PINKS CHILD CARE ACADEMY  II</td>\n",
       "      <td>PINK'S CHILD CARE ACADEMY  II</td>\n",
       "      <td>2215652.0</td>\n",
       "      <td>Daycare Combo 1586</td>\n",
       "      <td>Risk 1 (High)</td>\n",
       "      <td>8000 S KEDZIE AVE</td>\n",
       "      <td>60652</td>\n",
       "      <td>2019-11-22</td>\n",
       "      <td>Canvass</td>\n",
       "      <td>Fail</td>\n",
       "      <td>3. MANAGEMENT, FOOD EMPLOYEE AND CONDITIONAL E...</td>\n",
       "      <td>41.747934</td>\n",
       "      <td>-87.702489</td>\n",
       "      <td>{'latitude': '-87.70248876124471', 'longitude'...</td>\n",
       "      <td>1.0</td>\n",
       "    </tr>\n",
       "  </tbody>\n",
       "</table>\n",
       "</div>"
      ],
      "text/plain": [
       "   inspection_id                      dba_name                       aka_name  \\\n",
       "0        2346127              CREPE HOUSE CAFE               CREPE HOUSE CAFE   \n",
       "1        2346126          LEANS NUTRITION CLUB           LEANS NUTRITION CLUB   \n",
       "2        2346149  PINKS CHILD CARE ACADEMY  II  PINK'S CHILD CARE ACADEMY  II   \n",
       "\n",
       "     license       facility_type             risk             address    zip  \\\n",
       "0  2637127.0          Restaurant    Risk 1 (High)  5033 N ELSTON AVE   60630   \n",
       "1  2432147.0          Restaurant  Risk 2 (Medium)  5302 S PULASKI RD   60632   \n",
       "2  2215652.0  Daycare Combo 1586    Risk 1 (High)  8000 S KEDZIE AVE   60652   \n",
       "\n",
       "  inspection_date        inspection_type             results  \\\n",
       "0      2019-11-22  Canvass Re-Inspection                Pass   \n",
       "1      2019-11-22  Canvass Re-Inspection  Pass w/ Conditions   \n",
       "2      2019-11-22                Canvass                Fail   \n",
       "\n",
       "                                          violations   latitude  longitude  \\\n",
       "0                                                NaN  41.972349 -87.746825   \n",
       "1  3. MANAGEMENT, FOOD EMPLOYEE AND CONDITIONAL E...  41.796699 -87.723408   \n",
       "2  3. MANAGEMENT, FOOD EMPLOYEE AND CONDITIONAL E...  41.747934 -87.702489   \n",
       "\n",
       "                                            location  risk_level  \n",
       "0  {'latitude': '-87.74682508578468', 'longitude'...         1.0  \n",
       "1  {'latitude': '-87.72340756196249', 'longitude'...         2.0  \n",
       "2  {'latitude': '-87.70248876124471', 'longitude'...         1.0  "
      ]
     },
     "metadata": {},
     "output_type": "display_data"
    }
   ],
   "source": [
    "# import the cleaning dataset (main project dataset) \n",
    "data = pd.read_csv('data/clean_dataset.csv', delimiter = ',')\n",
    "\n",
    "# drop the unnamed column\n",
    "data.drop(['Unnamed: 0'], axis = 1,inplace = True)\n",
    "\n",
    "# convert the zip column into an str\n",
    "data.zip = data.zip.astype(str)\n",
    "    \n",
    "# reformat the zip code writing in order to compare it with the zip code in geojson file (for vizualisation step)\n",
    "data['zip'] = data['zip'].apply(lambda x : x.split('.')[0])\n",
    "\n",
    "# we just want to extract the level of risk ( 1 , 2 or 3)\n",
    "data['risk'] = data['risk'].astype(str) \n",
    "data['risk_level'] = data['risk'].str[5]\n",
    "data['risk_level'] = data['risk_level'].astype(float)\n",
    "\n",
    "# show the dataframe\n",
    "display(data.head(3))"
   ]
  },
  {
   "cell_type": "code",
   "execution_count": 15,
   "metadata": {},
   "outputs": [
    {
     "data": {
      "text/html": [
       "<div>\n",
       "<style scoped>\n",
       "    .dataframe tbody tr th:only-of-type {\n",
       "        vertical-align: middle;\n",
       "    }\n",
       "\n",
       "    .dataframe tbody tr th {\n",
       "        vertical-align: top;\n",
       "    }\n",
       "\n",
       "    .dataframe thead th {\n",
       "        text-align: right;\n",
       "    }\n",
       "</style>\n",
       "<table border=\"1\" class=\"dataframe\">\n",
       "  <thead>\n",
       "    <tr style=\"text-align: right;\">\n",
       "      <th></th>\n",
       "      <th>objectid</th>\n",
       "      <th>shape_area</th>\n",
       "      <th>shape_len</th>\n",
       "      <th>zip</th>\n",
       "      <th>geometry</th>\n",
       "      <th>centroid_lon</th>\n",
       "      <th>centroid_lat</th>\n",
       "      <th>facility_number_per_zip</th>\n",
       "    </tr>\n",
       "  </thead>\n",
       "  <tbody>\n",
       "    <tr>\n",
       "      <th>0</th>\n",
       "      <td>33</td>\n",
       "      <td>106052287.488</td>\n",
       "      <td>42720.0444058</td>\n",
       "      <td>60647</td>\n",
       "      <td>MULTIPOLYGON (((-87.67762 41.91776, -87.67761 ...</td>\n",
       "      <td>-87.702259</td>\n",
       "      <td>41.921098</td>\n",
       "      <td>4605</td>\n",
       "    </tr>\n",
       "    <tr>\n",
       "      <th>1</th>\n",
       "      <td>34</td>\n",
       "      <td>127476050.762</td>\n",
       "      <td>48103.7827213</td>\n",
       "      <td>60639</td>\n",
       "      <td>MULTIPOLYGON (((-87.72683 41.92265, -87.72693 ...</td>\n",
       "      <td>-87.755996</td>\n",
       "      <td>41.920456</td>\n",
       "      <td>3433</td>\n",
       "    </tr>\n",
       "    <tr>\n",
       "      <th>2</th>\n",
       "      <td>35</td>\n",
       "      <td>45069038.4783</td>\n",
       "      <td>27288.6096123</td>\n",
       "      <td>60707</td>\n",
       "      <td>MULTIPOLYGON (((-87.78500 41.90915, -87.78531 ...</td>\n",
       "      <td>-87.795738</td>\n",
       "      <td>41.919948</td>\n",
       "      <td>738</td>\n",
       "    </tr>\n",
       "  </tbody>\n",
       "</table>\n",
       "</div>"
      ],
      "text/plain": [
       "  objectid     shape_area      shape_len    zip  \\\n",
       "0       33  106052287.488  42720.0444058  60647   \n",
       "1       34  127476050.762  48103.7827213  60639   \n",
       "2       35  45069038.4783  27288.6096123  60707   \n",
       "\n",
       "                                            geometry  centroid_lon  \\\n",
       "0  MULTIPOLYGON (((-87.67762 41.91776, -87.67761 ...    -87.702259   \n",
       "1  MULTIPOLYGON (((-87.72683 41.92265, -87.72693 ...    -87.755996   \n",
       "2  MULTIPOLYGON (((-87.78500 41.90915, -87.78531 ...    -87.795738   \n",
       "\n",
       "   centroid_lat  facility_number_per_zip  \n",
       "0     41.921098                     4605  \n",
       "1     41.920456                     3433  \n",
       "2     41.919948                      738  "
      ]
     },
     "execution_count": 15,
     "metadata": {},
     "output_type": "execute_result"
    }
   ],
   "source": [
    "# creating our geodataframe based on the basic dataframe\n",
    "gdf = geodataframe(data)\n",
    "gdf.head(3)"
   ]
  },
  {
   "cell_type": "markdown",
   "metadata": {},
   "source": [
    "## 2.1 Food facilities repartition in chicago"
   ]
  },
  {
   "cell_type": "code",
   "execution_count": 16,
   "metadata": {},
   "outputs": [],
   "source": [
    "#create a dataset with unique facilities\n",
    "data_unique = data.drop_duplicates(subset = 'license')"
   ]
  },
  {
   "cell_type": "code",
   "execution_count": 17,
   "metadata": {},
   "outputs": [],
   "source": [
    "#plotting the clustered map \n",
    "\n",
    "map_clustered = generateBaseMap()\n",
    "cluster = folium.plugins.MarkerCluster(name = \"cluster name\").add_to(map_clustered)\n",
    "for i in range(len(data_unique)):\n",
    "    folium.Marker(\n",
    "        location = [data_unique.latitude.values[i],data_unique.longitude.values[i]], # coordinates for the marker \n",
    "        popup = data_unique.zip.values[i] ,  # pop-up label for the marker\n",
    "        icon = folium.Icon(color = 'darkpurple')\n",
    "    ).add_to(cluster)\n",
    "    \n",
    "#map_clustered.save('maps/cluster_map.html')"
   ]
  },
  {
   "cell_type": "markdown",
   "metadata": {},
   "source": [
    "**Link to the map** : [Facilities spatial repartition](docs/maps/cluster_map.html)"
   ]
  },
  {
   "cell_type": "markdown",
   "metadata": {},
   "source": [
    "## 2.2 Proportion of failed inspection per zip area"
   ]
  },
  {
   "cell_type": "markdown",
   "metadata": {},
   "source": [
    "> In this part, we will focus on the facilities that failed their inspections"
   ]
  },
  {
   "cell_type": "code",
   "execution_count": 18,
   "metadata": {},
   "outputs": [
    {
     "data": {
      "text/html": [
       "<div>\n",
       "<style scoped>\n",
       "    .dataframe tbody tr th:only-of-type {\n",
       "        vertical-align: middle;\n",
       "    }\n",
       "\n",
       "    .dataframe tbody tr th {\n",
       "        vertical-align: top;\n",
       "    }\n",
       "\n",
       "    .dataframe thead th {\n",
       "        text-align: right;\n",
       "    }\n",
       "</style>\n",
       "<table border=\"1\" class=\"dataframe\">\n",
       "  <thead>\n",
       "    <tr style=\"text-align: right;\">\n",
       "      <th></th>\n",
       "      <th>objectid</th>\n",
       "      <th>shape_area</th>\n",
       "      <th>shape_len</th>\n",
       "      <th>zip</th>\n",
       "      <th>geometry</th>\n",
       "      <th>centroid_lon</th>\n",
       "      <th>centroid_lat</th>\n",
       "      <th>facility_number_per_zip</th>\n",
       "      <th>fail_count</th>\n",
       "      <th>fail_proportion</th>\n",
       "    </tr>\n",
       "  </thead>\n",
       "  <tbody>\n",
       "    <tr>\n",
       "      <th>0</th>\n",
       "      <td>33</td>\n",
       "      <td>106052287.488</td>\n",
       "      <td>42720.0444058</td>\n",
       "      <td>60647</td>\n",
       "      <td>MULTIPOLYGON (((-87.67762 41.91776, -87.67761 ...</td>\n",
       "      <td>-87.702259</td>\n",
       "      <td>41.921098</td>\n",
       "      <td>4605</td>\n",
       "      <td>1010</td>\n",
       "      <td>21.93</td>\n",
       "    </tr>\n",
       "    <tr>\n",
       "      <th>1</th>\n",
       "      <td>34</td>\n",
       "      <td>127476050.762</td>\n",
       "      <td>48103.7827213</td>\n",
       "      <td>60639</td>\n",
       "      <td>MULTIPOLYGON (((-87.72683 41.92265, -87.72693 ...</td>\n",
       "      <td>-87.755996</td>\n",
       "      <td>41.920456</td>\n",
       "      <td>3433</td>\n",
       "      <td>797</td>\n",
       "      <td>23.22</td>\n",
       "    </tr>\n",
       "    <tr>\n",
       "      <th>2</th>\n",
       "      <td>35</td>\n",
       "      <td>45069038.4783</td>\n",
       "      <td>27288.6096123</td>\n",
       "      <td>60707</td>\n",
       "      <td>MULTIPOLYGON (((-87.78500 41.90915, -87.78531 ...</td>\n",
       "      <td>-87.795738</td>\n",
       "      <td>41.919948</td>\n",
       "      <td>738</td>\n",
       "      <td>145</td>\n",
       "      <td>19.65</td>\n",
       "    </tr>\n",
       "  </tbody>\n",
       "</table>\n",
       "</div>"
      ],
      "text/plain": [
       "  objectid     shape_area      shape_len    zip  \\\n",
       "0       33  106052287.488  42720.0444058  60647   \n",
       "1       34  127476050.762  48103.7827213  60639   \n",
       "2       35  45069038.4783  27288.6096123  60707   \n",
       "\n",
       "                                            geometry  centroid_lon  \\\n",
       "0  MULTIPOLYGON (((-87.67762 41.91776, -87.67761 ...    -87.702259   \n",
       "1  MULTIPOLYGON (((-87.72683 41.92265, -87.72693 ...    -87.755996   \n",
       "2  MULTIPOLYGON (((-87.78500 41.90915, -87.78531 ...    -87.795738   \n",
       "\n",
       "   centroid_lat  facility_number_per_zip  fail_count  fail_proportion  \n",
       "0     41.921098                     4605        1010            21.93  \n",
       "1     41.920456                     3433         797            23.22  \n",
       "2     41.919948                      738         145            19.65  "
      ]
     },
     "execution_count": 18,
     "metadata": {},
     "output_type": "execute_result"
    }
   ],
   "source": [
    "# creating a dataset with only the fail results \n",
    "fail_data = data[~data['results'].isin(['Pass','Pass w/ Conditions'])]\n",
    "\n",
    "# counting the number of fail per zip code\n",
    "fail_count_per_zip = pd.DataFrame(fail_data.groupby('zip')['results'].count()).reset_index()\n",
    "fail_count_per_zip.rename(columns = {'results': 'fail_count'}, inplace = True)\n",
    "\n",
    "# merge with gdf dataframe and facility count dataframe \n",
    "fail_gdf = pd.merge(gdf,fail_count_per_zip, on = 'zip')\n",
    "\n",
    "# proportion of facility that failed the investigation per zip code\n",
    "fail_gdf['fail_proportion'] = round(fail_gdf['fail_count'].divide(fail_gdf['facility_number_per_zip'])*100,2)\n",
    "\n",
    "fail_gdf.head(3)"
   ]
  },
  {
   "cell_type": "code",
   "execution_count": 19,
   "metadata": {},
   "outputs": [
    {
     "data": {
      "text/html": [
       "\n",
       "        <iframe\n",
       "            width=\"700\"\n",
       "            height=\"600\"\n",
       "            src=\"maps/interactif_fail_map.html\"\n",
       "            frameborder=\"0\"\n",
       "            allowfullscreen\n",
       "        ></iframe>\n",
       "        "
      ],
      "text/plain": [
       "<IPython.lib.display.IFrame at 0x1a2818d050>"
      ]
     },
     "execution_count": 19,
     "metadata": {},
     "output_type": "execute_result"
    }
   ],
   "source": [
    "fail_map = chlorepleth_map('Fail proportion',fail_gdf,['zip','fail_proportion'],'Fail proportion','Reds')\n",
    "\n",
    "# add transparent background\n",
    "folium.TileLayer('CartoDB positron', name = \"Light Map\", control = False).add_to(fail_map)\n",
    "\n",
    "#adding an interactif option to have informations about each zip code\n",
    "FIL = folium.features.GeoJson(\n",
    "    fail_gdf,\n",
    "    style_function = style_function, \n",
    "    control = False,\n",
    "    highlight_function = highlight_function, \n",
    "    tooltip = folium.features.GeoJsonTooltip(\n",
    "        fields = ['zip','facility_number_per_zip','fail_proportion'],\n",
    "        aliases = ['Zip: ','Number of inspections','% of failed inspections: '],\n",
    "        style = (\"background-color: white; color: #333333; font-family: arial; font-size: 12px; padding: 10px;\") \n",
    "    )\n",
    ")\n",
    "fail_map.add_child(FIL)\n",
    "fail_map.keep_in_front(FIL)\n",
    "folium.LayerControl().add_to(fail_map)\n",
    "\n",
    "#fail_map.save('maps/interactif_fail_map.html')\n",
    "\n",
    "IFrame(src = 'maps/interactif_fail_map.html', width = 700, height = 600)"
   ]
  },
  {
   "cell_type": "markdown",
   "metadata": {},
   "source": [
    "**Link to the map** : [Failed inspections map](docs/maps/interactif_fail_map.html)"
   ]
  },
  {
   "cell_type": "markdown",
   "metadata": {},
   "source": [
    "## 2.3 Proportion of facilities associated with high risk level"
   ]
  },
  {
   "cell_type": "code",
   "execution_count": 20,
   "metadata": {},
   "outputs": [
    {
     "data": {
      "text/html": [
       "<div>\n",
       "<style scoped>\n",
       "    .dataframe tbody tr th:only-of-type {\n",
       "        vertical-align: middle;\n",
       "    }\n",
       "\n",
       "    .dataframe tbody tr th {\n",
       "        vertical-align: top;\n",
       "    }\n",
       "\n",
       "    .dataframe thead th {\n",
       "        text-align: right;\n",
       "    }\n",
       "</style>\n",
       "<table border=\"1\" class=\"dataframe\">\n",
       "  <thead>\n",
       "    <tr style=\"text-align: right;\">\n",
       "      <th></th>\n",
       "      <th>zip</th>\n",
       "      <th>high_risk_count</th>\n",
       "      <th>total_count</th>\n",
       "      <th>percentage</th>\n",
       "    </tr>\n",
       "  </thead>\n",
       "  <tbody>\n",
       "    <tr>\n",
       "      <th>0</th>\n",
       "      <td>60601</td>\n",
       "      <td>2004</td>\n",
       "      <td>2509</td>\n",
       "      <td>79.872459</td>\n",
       "    </tr>\n",
       "    <tr>\n",
       "      <th>1</th>\n",
       "      <td>60602</td>\n",
       "      <td>855</td>\n",
       "      <td>1098</td>\n",
       "      <td>77.868852</td>\n",
       "    </tr>\n",
       "    <tr>\n",
       "      <th>2</th>\n",
       "      <td>60603</td>\n",
       "      <td>1166</td>\n",
       "      <td>1407</td>\n",
       "      <td>82.871357</td>\n",
       "    </tr>\n",
       "  </tbody>\n",
       "</table>\n",
       "</div>"
      ],
      "text/plain": [
       "     zip  high_risk_count  total_count  percentage\n",
       "0  60601             2004         2509   79.872459\n",
       "1  60602              855         1098   77.868852\n",
       "2  60603             1166         1407   82.871357"
      ]
     },
     "execution_count": 20,
     "metadata": {},
     "output_type": "execute_result"
    }
   ],
   "source": [
    "risk_per_zip = data[['zip','risk_level']]\n",
    "risk_per_zip = data[data['risk_level'] == 1.0 ]\n",
    "\n",
    "# calculating the number of facilities per zip for the normalization \n",
    "dataZip = pd.DataFrame(data.groupby('zip')['inspection_id'].count())\n",
    "dataZip.rename(columns = {'inspection_id': 'total_count'}, inplace = True)\n",
    "dataZip.reset_index()\n",
    "\n",
    "# counting the number of facilities per zip code where the risk is high\n",
    "risk_per_zip = pd.DataFrame(risk_per_zip.groupby('zip')['inspection_id'].count())\n",
    "risk_per_zip = risk_per_zip.reset_index()\n",
    "\n",
    "risk_per_zip.rename(columns = {'inspection_id': 'high_risk_count'}, inplace = True)\n",
    "\n",
    "risk_per_zip = pd.merge(risk_per_zip,dataZip, on ='zip')\n",
    "\n",
    "risk_per_zip['percentage'] = risk_per_zip['high_risk_count'].divide(risk_per_zip['total_count'])*100\n",
    "\n",
    "risk_per_zip.head(3)"
   ]
  },
  {
   "cell_type": "code",
   "execution_count": 21,
   "metadata": {},
   "outputs": [
    {
     "data": {
      "text/html": [
       "\n",
       "        <iframe\n",
       "            width=\"700\"\n",
       "            height=\"600\"\n",
       "            src=\"maps/interactif_risk_map.html\"\n",
       "            frameborder=\"0\"\n",
       "            allowfullscreen\n",
       "        ></iframe>\n",
       "        "
      ],
      "text/plain": [
       "<IPython.lib.display.IFrame at 0x1a1a061050>"
      ]
     },
     "execution_count": 21,
     "metadata": {},
     "output_type": "execute_result"
    }
   ],
   "source": [
    "#Map showing the repartition of average risk level in chicago per zip code\n",
    "\n",
    "# creating our geodataframe based on the basic dataframe\n",
    "gdf = geodataframe(data)\n",
    "gdf.head(3)\n",
    "    \n",
    "style_function = lambda x: {'fillColor': '#ffffff', \n",
    "                            'color':'#000000', \n",
    "                            'fillOpacity': 0.1, \n",
    "                            'weight': 0.1}\n",
    "\n",
    "highlight_function = lambda x: {'fillColor': '#000000', \n",
    "                                'color':'#000000', \n",
    "                                'fillOpacity': 0.50, \n",
    "                                'weight': 0.1}\n",
    "\n",
    "\n",
    "# merge with gdf dataframe  \n",
    "risk_gdf = pd.merge(gdf,risk_per_zip, on = 'zip')\n",
    "\n",
    "risk_map = chlorepleth_map ('Risk proportion',risk_gdf,['zip','percentage'],'Average Risk Level','YlOrRd')\n",
    "\n",
    "# add transparent background\n",
    "folium.TileLayer('CartoDB positron', name = \"Light Map\", control = False).add_to(risk_map)\n",
    "\n",
    "RIL = folium.features.GeoJson(\n",
    "    risk_gdf,\n",
    "    style_function = style_function, \n",
    "    control = False,\n",
    "    highlight_function = highlight_function, \n",
    "    tooltip = folium.features.GeoJsonTooltip(\n",
    "        fields = ['zip','percentage'],\n",
    "        aliases = ['Zip: ','Proportion of facilities associated with high risk :'],\n",
    "        style = (\"background-color: white; color: #333333; font-family: arial; font-size: 12px; padding: 10px;\") \n",
    "    )\n",
    ")\n",
    "risk_map.add_child(RIL)\n",
    "risk_map.keep_in_front(RIL)\n",
    "folium.LayerControl().add_to(risk_map)\n",
    "\n",
    "#risk_map.save('maps/interactif_risk_map.html')\n",
    "IFrame(src = 'maps/interactif_risk_map.html', width = 700, height = 600)"
   ]
  },
  {
   "cell_type": "markdown",
   "metadata": {},
   "source": [
    "**Link to the map** : [High risk level map](docs/maps/interactif_risk_map.html)"
   ]
  },
  {
   "cell_type": "markdown",
   "metadata": {},
   "source": [
    "# 3- Relationships investigation"
   ]
  },
  {
   "cell_type": "markdown",
   "metadata": {},
   "source": [
    "The aim of this part is to investigate if there is a correlation between inspections due to food poisoning and inspections' elements as the risk level of a facility or the reported inspections."
   ]
  },
  {
   "cell_type": "code",
   "execution_count": 113,
   "metadata": {},
   "outputs": [],
   "source": [
    "# data set with only inspection due to suspected food poisoning\n",
    "poisoning_data = data[data['inspection_type'] == 'Suspected Food Poisoning']"
   ]
  },
  {
   "cell_type": "markdown",
   "metadata": {},
   "source": [
    "## 3.1 Inspection failure and food poisoning"
   ]
  },
  {
   "cell_type": "code",
   "execution_count": 114,
   "metadata": {},
   "outputs": [],
   "source": [
    "# counting the number of failed/ pass / pass with conditions within the poisoning cases\n",
    "results_count = list(poisoning_data.groupby('results')['inspection_id'].count())\n",
    "\n",
    "#percentage computation\n",
    "total = len(poisoning_data)\n",
    "percentage = [ (a/total)*100 for a in results_count]\n",
    "\n",
    "#poisoning_data.groupby('results').count()"
   ]
  },
  {
   "cell_type": "code",
   "execution_count": 115,
   "metadata": {},
   "outputs": [
    {
     "data": {
      "text/html": [
       "<iframe\n",
       "    scrolling=\"no\"\n",
       "    width=\"420px\"\n",
       "    height=\"420\"\n",
       "    src=\"iframe_figures/figure_115.html\"\n",
       "    frameborder=\"0\"\n",
       "    allowfullscreen\n",
       "></iframe>\n"
      ]
     },
     "metadata": {},
     "output_type": "display_data"
    }
   ],
   "source": [
    "# bar plotting\n",
    "\n",
    "bars = ['Fail','Pass','Pass w/ Conditions ']\n",
    "\n",
    "fig = go.Figure()\n",
    "\n",
    "\n",
    "# set up the first trace\n",
    "fig.add_trace(go.Bar(\n",
    "                    x = bars,\n",
    "                    y = percentage,\n",
    "                    visible = True,\n",
    "                    marker_color='maroon'\n",
    "                    \n",
    "                )\n",
    "             )\n",
    "\n",
    "fig.layout.update(\n",
    "    autosize = False,\n",
    "    width = 400,\n",
    "    height = 400,\n",
    "    template = \"plotly_white\",\n",
    "    #paper_bgcolor='#333'\n",
    ")\n",
    "\n",
    "fig.layout.update(\n",
    "    title = go.layout.Title(\n",
    "        text = 'Inspections due to suspected food poisoning',\n",
    "        y = 0.9,\n",
    "        x = 0.5,\n",
    "        xanchor = 'center',\n",
    "        yanchor = 'top',\n",
    "    ),\n",
    "    yaxis = dict(\n",
    "        title = 'Percentage %',\n",
    "        titlefont_size = 14\n",
    "    ),\n",
    "    xaxis = dict(\n",
    "        title = 'Inspection results',\n",
    "        titlefont_size = 14\n",
    "    )\n",
    ")\n",
    "\n",
    "fig.show()"
   ]
  },
  {
   "cell_type": "markdown",
   "metadata": {},
   "source": [
    " **Link to the map** : [Inspections result for food poisoning ](docs/plots/inspect_result_fp.html)"
   ]
  },
  {
   "cell_type": "markdown",
   "metadata": {},
   "source": [
    "**Observation** : No relation between the inspections results and food poisoning."
   ]
  },
  {
   "cell_type": "markdown",
   "metadata": {},
   "source": [
    "## 3.2 Risk level and food poisoning"
   ]
  },
  {
   "cell_type": "code",
   "execution_count": 116,
   "metadata": {},
   "outputs": [],
   "source": [
    "# counting the total number of facilities (poisoning inspections) associated with a particular risk level\n",
    "risk_level_count = list(poisoning_data.groupby('risk_level')['inspection_id'].count())\n",
    "\n",
    "# percentage computation\n",
    "total = len(poisoning_data)\n",
    "percentage = [ (a/total)*100 for a in risk_level_count]"
   ]
  },
  {
   "cell_type": "code",
   "execution_count": 117,
   "metadata": {},
   "outputs": [
    {
     "data": {
      "text/html": [
       "<iframe\n",
       "    scrolling=\"no\"\n",
       "    width=\"420px\"\n",
       "    height=\"420\"\n",
       "    src=\"iframe_figures/figure_117.html\"\n",
       "    frameborder=\"0\"\n",
       "    allowfullscreen\n",
       "></iframe>\n"
      ]
     },
     "metadata": {},
     "output_type": "display_data"
    }
   ],
   "source": [
    "# plotting of bar plot\n",
    "\n",
    "bars = ['High','Medium','Low']\n",
    "\n",
    "fig = go.Figure()\n",
    "\n",
    "\n",
    "# set up the first trace\n",
    "fig.add_trace(go.Bar(\n",
    "                    x = bars,\n",
    "                    y = percentage,\n",
    "                    visible = True,\n",
    "                    marker_color='maroon'\n",
    "                    \n",
    "                )\n",
    "             )\n",
    "\n",
    "fig.layout.update(\n",
    "    autosize = False,\n",
    "    width = 400,\n",
    "    height = 400,\n",
    "    template = \"plotly_white\",\n",
    "    #paper_bgcolor='#333'\n",
    ")\n",
    "\n",
    "fig.layout.update(\n",
    "    title = go.layout.Title(\n",
    "        text = 'Risk level ass. w/ suspected food poisoning',\n",
    "        y = 0.9,\n",
    "        x = 0.5,\n",
    "        xanchor = 'center',\n",
    "        yanchor = 'top',\n",
    "    ),\n",
    "    yaxis = dict(\n",
    "        title = 'Percentage %',\n",
    "        titlefont_size = 14\n",
    "    ),\n",
    "    xaxis = dict(\n",
    "        title = 'Risk level',\n",
    "        titlefont_size = 14\n",
    "    )\n",
    ")\n",
    "\n",
    "fig.show()"
   ]
  },
  {
   "cell_type": "markdown",
   "metadata": {},
   "source": [
    "**Link to the plot** : [Risk Level for food poisoning facilities](docs/plots/risk_suspected_fp.html)"
   ]
  },
  {
   "cell_type": "markdown",
   "metadata": {},
   "source": [
    "**Observations** : The risk seems to be related with food poisoning. Almost all the inspection due to food poisonong are associated with high risk facilities (>80%). "
   ]
  },
  {
   "cell_type": "markdown",
   "metadata": {},
   "source": [
    "> In the following part , we will try to see if there is a relationship between the food poisoning and the risk level within a zip code"
   ]
  },
  {
   "cell_type": "code",
   "execution_count": 118,
   "metadata": {},
   "outputs": [],
   "source": [
    "# counting the number of facilities per zip \n",
    "facility_number_per_zip = pd.DataFrame(data.groupby('zip')['license'].count()).reset_index()\n",
    "\n",
    "\n",
    "pois_facility_number_per_zip = pd.DataFrame(poisoning_data.groupby('zip')['license'].count()).reset_index()\n",
    "\n",
    "# merge in order to calculate the proportion\n",
    "number_facilities_df = pd.merge(facility_number_per_zip, pois_facility_number_per_zip, on ='zip')\n",
    "number_facilities_df.rename(columns = {'license_x': 'total number', 'license_y':'poisoning number'}, inplace = True)\n",
    "\n",
    "# frequency of inspection due to food poisoning in a given zip\n",
    "number_facilities_df['frequency(%)'] = number_facilities_df['poisoning number'].divide(number_facilities_df['total number'])*100"
   ]
  },
  {
   "cell_type": "code",
   "execution_count": 119,
   "metadata": {},
   "outputs": [
    {
     "data": {
      "text/html": [
       "<div>\n",
       "<style scoped>\n",
       "    .dataframe tbody tr th:only-of-type {\n",
       "        vertical-align: middle;\n",
       "    }\n",
       "\n",
       "    .dataframe tbody tr th {\n",
       "        vertical-align: top;\n",
       "    }\n",
       "\n",
       "    .dataframe thead th {\n",
       "        text-align: right;\n",
       "    }\n",
       "</style>\n",
       "<table border=\"1\" class=\"dataframe\">\n",
       "  <thead>\n",
       "    <tr style=\"text-align: right;\">\n",
       "      <th></th>\n",
       "      <th>zip</th>\n",
       "      <th>total number</th>\n",
       "      <th>poisoning number</th>\n",
       "      <th>frequency(%)</th>\n",
       "      <th>high_risk_count</th>\n",
       "      <th>total_count</th>\n",
       "      <th>percentage</th>\n",
       "    </tr>\n",
       "  </thead>\n",
       "  <tbody>\n",
       "    <tr>\n",
       "      <th>0</th>\n",
       "      <td>60601</td>\n",
       "      <td>2509</td>\n",
       "      <td>25</td>\n",
       "      <td>0.996413</td>\n",
       "      <td>2004</td>\n",
       "      <td>2509</td>\n",
       "      <td>79.872459</td>\n",
       "    </tr>\n",
       "    <tr>\n",
       "      <th>1</th>\n",
       "      <td>60602</td>\n",
       "      <td>1098</td>\n",
       "      <td>6</td>\n",
       "      <td>0.546448</td>\n",
       "      <td>855</td>\n",
       "      <td>1098</td>\n",
       "      <td>77.868852</td>\n",
       "    </tr>\n",
       "    <tr>\n",
       "      <th>2</th>\n",
       "      <td>60603</td>\n",
       "      <td>1407</td>\n",
       "      <td>16</td>\n",
       "      <td>1.137171</td>\n",
       "      <td>1166</td>\n",
       "      <td>1407</td>\n",
       "      <td>82.871357</td>\n",
       "    </tr>\n",
       "  </tbody>\n",
       "</table>\n",
       "</div>"
      ],
      "text/plain": [
       "     zip  total number  poisoning number  frequency(%)  high_risk_count  \\\n",
       "0  60601          2509                25      0.996413             2004   \n",
       "1  60602          1098                 6      0.546448              855   \n",
       "2  60603          1407                16      1.137171             1166   \n",
       "\n",
       "   total_count  percentage  \n",
       "0         2509   79.872459  \n",
       "1         1098   77.868852  \n",
       "2         1407   82.871357  "
      ]
     },
     "execution_count": 119,
     "metadata": {},
     "output_type": "execute_result"
    }
   ],
   "source": [
    "# merge with the frequency dataset without central fusion \n",
    "risk_correlation = pd.merge(number_facilities_df,risk_per_zip, on = 'zip')\n",
    "\n",
    "risk_correlation .head(3)"
   ]
  },
  {
   "cell_type": "code",
   "execution_count": 120,
   "metadata": {
    "scrolled": false
   },
   "outputs": [
    {
     "data": {
      "text/html": [
       "<iframe\n",
       "    scrolling=\"no\"\n",
       "    width=\"720px\"\n",
       "    height=\"720\"\n",
       "    src=\"iframe_figures/figure_120.html\"\n",
       "    frameborder=\"0\"\n",
       "    allowfullscreen\n",
       "></iframe>\n"
      ]
     },
     "metadata": {},
     "output_type": "display_data"
    }
   ],
   "source": [
    "# plotting of bar plot\n",
    "\n",
    "fig = go.Figure()\n",
    "\n",
    "\n",
    "# set up the first trace\n",
    "fig.add_trace(go.Scatter(\n",
    "    x = risk_correlation['percentage'],\n",
    "    y = risk_correlation['frequency(%)'],\n",
    "    visible = True,\n",
    "    marker_color='maroon',\n",
    "    mode = 'markers',\n",
    "    text = risk_correlation['zip']\n",
    "                )\n",
    "             )\n",
    "\n",
    "# adding trace for website\n",
    "fig.add_trace(go.Scatter(\n",
    "    x = [43.8, 45.8, 45.8, 43.8, 43.8],\n",
    "    y = [1.18, 1.18, 1.11, 1.11, 1.18],\n",
    "    mode = \"lines\",\n",
    "    line = go.scatter.Line(color = \"red\"),\n",
    "    showlegend = False))\n",
    "\n",
    "fig.layout.update(\n",
    "    autosize = False,\n",
    "    width = 700,\n",
    "    height = 700,\n",
    "    template = \"plotly_white\",\n",
    "    #paper_bgcolor='#333'\n",
    ")\n",
    "\n",
    "fig.layout.update(\n",
    "    title = go.layout.Title(\n",
    "        text = 'Poisoning inspections and facilities associated with high risk',\n",
    "        y = 0.9,\n",
    "        x = 0.5,\n",
    "        xanchor = 'center',\n",
    "        yanchor = 'top',\n",
    "    ),\n",
    "    yaxis = dict(\n",
    "        title = 'Percentage of facilities inspected for food poisoning',\n",
    "        titlefont_size = 14\n",
    "    ),\n",
    "    xaxis = dict(\n",
    "        title = 'Percentage of high risk facilities per zip code',\n",
    "        titlefont_size = 14\n",
    "    ),\n",
    "    showlegend = False\n",
    ")\n",
    "\n",
    "fig.show()"
   ]
  },
  {
   "cell_type": "markdown",
   "metadata": {},
   "source": [
    "**Link to the plot** : [Relationship between risk level and poisoning](docs/plots/cluster_plot.html)"
   ]
  },
  {
   "cell_type": "markdown",
   "metadata": {},
   "source": [
    "It's seems like the zip code 60827 is an outlier. The explications are in the : [data story](https://marisofie.github.io/epfl_ada_project/)."
   ]
  },
  {
   "cell_type": "code",
   "execution_count": 123,
   "metadata": {},
   "outputs": [
    {
     "name": "stdout",
     "output_type": "stream",
     "text": [
      "The spearman coefficient is :  SpearmanrResult(correlation=0.4045112781954887, pvalue=0.0019872119023670674)\n"
     ]
    }
   ],
   "source": [
    "# we remove 'outliers'\n",
    "outliers = ['60827','60656']\n",
    "\n",
    "risk_correlation_without_outliers = risk_correlation.query('zip != @outliers')\n",
    "\n",
    "# spearman coeff \n",
    "print('The spearman coefficient is : ',stats.spearmanr(risk_correlation_without_outliers['percentage'],risk_correlation_without_outliers['frequency(%)']))\n"
   ]
  },
  {
   "cell_type": "markdown",
   "metadata": {},
   "source": [
    "**Observsations**: We can observe a weak positive monotonic correlation. However , a high risk doesn't imply food poisoning. Facilities associated with a high risk should be more careful than the other when handling food."
   ]
  },
  {
   "cell_type": "markdown",
   "metadata": {},
   "source": [
    "## 3.3 Violation type and food poisoning"
   ]
  },
  {
   "cell_type": "markdown",
   "metadata": {},
   "source": [
    "The aim of this part is to vizualise a dataframe created in milestone 2. This dataframe shows the frequency of each violation comitted during food poisoning inspections and compare this frequency to the other case ( no food poisoning) ."
   ]
  },
  {
   "cell_type": "code",
   "execution_count": 124,
   "metadata": {},
   "outputs": [
    {
     "data": {
      "text/html": [
       "<div>\n",
       "<style scoped>\n",
       "    .dataframe tbody tr th:only-of-type {\n",
       "        vertical-align: middle;\n",
       "    }\n",
       "\n",
       "    .dataframe tbody tr th {\n",
       "        vertical-align: top;\n",
       "    }\n",
       "\n",
       "    .dataframe thead th {\n",
       "        text-align: right;\n",
       "    }\n",
       "</style>\n",
       "<table border=\"1\" class=\"dataframe\">\n",
       "  <thead>\n",
       "    <tr style=\"text-align: right;\">\n",
       "      <th></th>\n",
       "      <th>violations</th>\n",
       "      <th>sums_poisoning</th>\n",
       "      <th>violation_type</th>\n",
       "      <th>frequency_poisoning</th>\n",
       "      <th>sums_others</th>\n",
       "      <th>frequency_others</th>\n",
       "      <th>ratio</th>\n",
       "    </tr>\n",
       "  </thead>\n",
       "  <tbody>\n",
       "    <tr>\n",
       "      <th>0</th>\n",
       "      <td>Clean, maintain equipment (32)</td>\n",
       "      <td>373.0</td>\n",
       "      <td>minor</td>\n",
       "      <td>9.859900</td>\n",
       "      <td>45334.0</td>\n",
       "      <td>9.508030</td>\n",
       "      <td>1.037008</td>\n",
       "    </tr>\n",
       "    <tr>\n",
       "      <th>1</th>\n",
       "      <td>Hot/cold storage temp. (3)</td>\n",
       "      <td>231.0</td>\n",
       "      <td>critical</td>\n",
       "      <td>6.106265</td>\n",
       "      <td>16728.0</td>\n",
       "      <td>3.508411</td>\n",
       "      <td>1.740464</td>\n",
       "    </tr>\n",
       "    <tr>\n",
       "      <th>2</th>\n",
       "      <td>Labelled containers (30)</td>\n",
       "      <td>135.0</td>\n",
       "      <td>minor</td>\n",
       "      <td>3.568596</td>\n",
       "      <td>14984.0</td>\n",
       "      <td>3.142637</td>\n",
       "      <td>1.135542</td>\n",
       "    </tr>\n",
       "  </tbody>\n",
       "</table>\n",
       "</div>"
      ],
      "text/plain": [
       "                       violations  sums_poisoning violation_type  \\\n",
       "0  Clean, maintain equipment (32)           373.0          minor   \n",
       "1      Hot/cold storage temp. (3)           231.0       critical   \n",
       "2        Labelled containers (30)           135.0          minor   \n",
       "\n",
       "   frequency_poisoning  sums_others  frequency_others     ratio  \n",
       "0             9.859900      45334.0          9.508030  1.037008  \n",
       "1             6.106265      16728.0          3.508411  1.740464  \n",
       "2             3.568596      14984.0          3.142637  1.135542  "
      ]
     },
     "execution_count": 124,
     "metadata": {},
     "output_type": "execute_result"
    }
   ],
   "source": [
    "#loading data from milestone 2\n",
    "high_risk = pd.read_csv('data/high_risk_violations.csv')\n",
    "\n",
    "del high_risk['Unnamed: 0']\n",
    "\n",
    "high_risk.head(3)"
   ]
  },
  {
   "cell_type": "code",
   "execution_count": 125,
   "metadata": {},
   "outputs": [],
   "source": [
    "#using offical category names for each violations\n",
    "\n",
    "high_risk= high_risk.replace('critical', 'priority violations (P)')\n",
    "high_risk= high_risk.replace('severe', 'priority foundation (FP)')\n",
    "high_risk= high_risk.replace('minor', 'core violation (C)')"
   ]
  },
  {
   "cell_type": "code",
   "execution_count": 126,
   "metadata": {},
   "outputs": [],
   "source": [
    "#selecting the category of interest\n",
    "\n",
    "minor = high_risk.loc[high_risk['violation_type'] == 'core violation (C)']\n",
    "severe = high_risk.loc[high_risk['violation_type'] == 'priority foundation (FP)']\n",
    "critical = high_risk.loc[high_risk['violation_type'] == 'priority violations (P)']\n",
    "\n",
    "\n",
    "#extracting the number of each violations\n",
    "\n",
    "def get_vio_no(df):\n",
    "    vio_no_list = []\n",
    "    for i in range(len(df)):\n",
    "        vio_no = df.violations.values[i]\n",
    "        vio_no = vio_no[-4:]\n",
    "        vio_no_list.append(vio_no)\n",
    "    \n",
    "    return vio_no_list\n",
    "    \n",
    "minor['violation_no'] = get_vio_no(minor)\n",
    "severe['violation_no'] = get_vio_no(severe)\n",
    "critical['violation_no'] = get_vio_no(critical)\n"
   ]
  },
  {
   "cell_type": "code",
   "execution_count": 127,
   "metadata": {
    "scrolled": false
   },
   "outputs": [
    {
     "data": {
      "text/html": [
       "<iframe\n",
       "    scrolling=\"no\"\n",
       "    width=\"920px\"\n",
       "    height=\"520\"\n",
       "    src=\"iframe_figures/figure_127.html\"\n",
       "    frameborder=\"0\"\n",
       "    allowfullscreen\n",
       "></iframe>\n"
      ]
     },
     "metadata": {},
     "output_type": "display_data"
    }
   ],
   "source": [
    "# plot for violations\n",
    "\n",
    "fig = go.Figure()\n",
    "\n",
    "\n",
    "# set up the first trace\n",
    "fig.add_trace(go.Scatter(\n",
    "    x = minor.violation_no.tolist(), \n",
    "    y = minor.frequency_poisoning.tolist(),\n",
    "    mode = 'markers',\n",
    "    name = 'Core violation (C)',\n",
    "    text = minor.violations.tolist(),\n",
    "    hovertemplate =\n",
    "    'Violation: %{text}<br>'+\n",
    "    'Frequency poisoning: %{y}<br>'+\n",
    "    'Ratio: %{marker.size}<br>',\n",
    "    marker = dict(\n",
    "        size = minor.ratio.tolist(),\n",
    "        sizemode ='area',\n",
    "        sizeref = 2. * max(minor.ratio.tolist()) / (60 ** 2),\n",
    "        sizemin = 4,\n",
    "        color = 'gold'\n",
    "        )\n",
    "    )\n",
    ")\n",
    "\n",
    "fig.add_trace(go.Scatter(\n",
    "    x = severe.violation_no.tolist(), \n",
    "    y = severe.frequency_poisoning.tolist(),\n",
    "    mode = 'markers',\n",
    "    name = 'Priority foundation (FP)',\n",
    "    text = severe.violations.tolist(),\n",
    "    hovertemplate =\n",
    "    'Violation: %{text}<br>'+\n",
    "    'Frequency poisoning: %{y}<br>'+\n",
    "    'Ratio: %{marker.size}<br>',\n",
    "    marker = dict(\n",
    "        color = 'darkorange',\n",
    "        size = severe.ratio.tolist(),\n",
    "        sizemode ='area',\n",
    "        sizeref = 2. * max(severe.ratio.tolist()) / (60 ** 2),\n",
    "        sizemin = 4,\n",
    "        )\n",
    "    )\n",
    ")\n",
    "\n",
    "fig.add_trace(go.Scatter(\n",
    "    x = critical.violation_no.tolist(), \n",
    "    y = critical.frequency_poisoning.tolist(),\n",
    "    mode = 'markers',\n",
    "    name = 'Priority violations (P)',\n",
    "    text = critical.violations.tolist(),\n",
    "    hovertemplate =\n",
    "    'Violation: %{text}<br>'+\n",
    "    'Frequency poisoning: %{y}<br>'+\n",
    "    'Ratio: %{marker.size}<br>',\n",
    "    marker = dict(\n",
    "        color = 'maroon',\n",
    "        size = critical.ratio.tolist(),\n",
    "        sizemode ='area',\n",
    "        sizeref = 2. * max(critical.ratio.tolist()) / (60 ** 2),\n",
    "        sizemin = 4,\n",
    "        ),\n",
    "\n",
    "    )\n",
    ")\n",
    "\n",
    "fig.layout.update(\n",
    "    autosize = False,\n",
    "    width = 900,\n",
    "    height = 500,\n",
    "    template = \"plotly_white\",\n",
    "    #paper_bgcolor='#333'\n",
    ")\n",
    "\n",
    "fig.layout.update(\n",
    "    title = go.layout.Title(\n",
    "        text = 'Frequency of violations encountered during food poisoning inspections',\n",
    "        y = 0.9,\n",
    "        x = 0.5,\n",
    "        xanchor = 'center',\n",
    "        yanchor = 'top',\n",
    "        font = dict(size = 14)\n",
    "    ),\n",
    "    showlegend = False,\n",
    "    yaxis = dict(\n",
    "        title = 'Violation frequency',\n",
    "        titlefont_size = 14\n",
    "    ),\n",
    "    xaxis = dict(\n",
    "        title = 'Violations',\n",
    "        titlefont_size = 14\n",
    "    )\n",
    ")\n",
    "\n",
    "fig.show()"
   ]
  },
  {
   "cell_type": "markdown",
   "metadata": {},
   "source": [
    "**Link to the plot :**  [Violations frequency](docs/plots/bubble_violation.html)"
   ]
  },
  {
   "cell_type": "markdown",
   "metadata": {},
   "source": [
    "**Observations** : We can wee that during food poisoning inspections , more than 12/15 critical  violations are more frequent than the other inspections cases. "
   ]
  },
  {
   "cell_type": "markdown",
   "metadata": {},
   "source": [
    "# 4- Score based on most frequent violations "
   ]
  },
  {
   "cell_type": "markdown",
   "metadata": {},
   "source": [
    "The aim of this part is to create a score based on the ratio founded above. This score associates a higher weigth to the violations that are frequently commited during an inspection due to food poisoning."
   ]
  },
  {
   "cell_type": "markdown",
   "metadata": {},
   "source": [
    "> In order to create such a score , we will use the investigation done during milestone 2 (table given by the comparison of violations between inspection due to food poisoning and other inspections). \n",
    "\n",
    "> score = <violation(i), coefficients > where violation(i) is equal either to 1 ( if the violation is commited ) or to 0, and the coefficients are the ratio computed in milestone 2 . The ratios were computed as follow : frequency of Violation(i) during a food poisonong inspection divided by the frequency of thos violation(i) during other inspections than food poisoning.\n",
    "\n",
    "> The more the score is high , the more the facility could cause food poisoning"
   ]
  },
  {
   "cell_type": "code",
   "execution_count": 130,
   "metadata": {},
   "outputs": [
    {
     "name": "stdout",
     "output_type": "stream",
     "text": [
      "\n",
      "\u001b[1m High risk violations \u001b[0m\n"
     ]
    },
    {
     "data": {
      "text/html": [
       "<div>\n",
       "<style scoped>\n",
       "    .dataframe tbody tr th:only-of-type {\n",
       "        vertical-align: middle;\n",
       "    }\n",
       "\n",
       "    .dataframe tbody tr th {\n",
       "        vertical-align: top;\n",
       "    }\n",
       "\n",
       "    .dataframe thead th {\n",
       "        text-align: right;\n",
       "    }\n",
       "</style>\n",
       "<table border=\"1\" class=\"dataframe\">\n",
       "  <thead>\n",
       "    <tr style=\"text-align: right;\">\n",
       "      <th></th>\n",
       "      <th>violations</th>\n",
       "      <th>sums_poisoning</th>\n",
       "      <th>violation_type</th>\n",
       "      <th>frequency_poisoning</th>\n",
       "      <th>sums_others</th>\n",
       "      <th>frequency_others</th>\n",
       "      <th>ratio</th>\n",
       "    </tr>\n",
       "  </thead>\n",
       "  <tbody>\n",
       "    <tr>\n",
       "      <th>0</th>\n",
       "      <td>Clean, maintain floor (34)</td>\n",
       "      <td>443.0</td>\n",
       "      <td>minor</td>\n",
       "      <td>11.710283</td>\n",
       "      <td>61736.0</td>\n",
       "      <td>12.948068</td>\n",
       "      <td>0.904404</td>\n",
       "    </tr>\n",
       "    <tr>\n",
       "      <th>1</th>\n",
       "      <td>Clean, sanitize utensils (33)</td>\n",
       "      <td>416.0</td>\n",
       "      <td>minor</td>\n",
       "      <td>10.996564</td>\n",
       "      <td>56148.0</td>\n",
       "      <td>11.776081</td>\n",
       "      <td>0.933805</td>\n",
       "    </tr>\n",
       "    <tr>\n",
       "      <th>2</th>\n",
       "      <td>Clean, maintain equipment (32)</td>\n",
       "      <td>373.0</td>\n",
       "      <td>minor</td>\n",
       "      <td>9.859900</td>\n",
       "      <td>45334.0</td>\n",
       "      <td>9.508030</td>\n",
       "      <td>1.037008</td>\n",
       "    </tr>\n",
       "  </tbody>\n",
       "</table>\n",
       "</div>"
      ],
      "text/plain": [
       "                       violations  sums_poisoning violation_type  \\\n",
       "0      Clean, maintain floor (34)           443.0          minor   \n",
       "1   Clean, sanitize utensils (33)           416.0          minor   \n",
       "2  Clean, maintain equipment (32)           373.0          minor   \n",
       "\n",
       "   frequency_poisoning  sums_others  frequency_others     ratio  \n",
       "0            11.710283      61736.0         12.948068  0.904404  \n",
       "1            10.996564      56148.0         11.776081  0.933805  \n",
       "2             9.859900      45334.0          9.508030  1.037008  "
      ]
     },
     "metadata": {},
     "output_type": "display_data"
    }
   ],
   "source": [
    "#open the dataframe created in milestone 2 \n",
    "high_risk_violations=pd.read_csv('data/risk_comparison.csv')\n",
    "del high_risk_violations['Unnamed: 0']\n",
    "\n",
    "print('\\n\\033[1m High risk violations \\033[0m')\n",
    "display(high_risk_violations.head(3))"
   ]
  },
  {
   "cell_type": "markdown",
   "metadata": {},
   "source": [
    "In the table above, we have the first component of our score : the ratio between the frequency of a violation commited during a food poisoning inspection and the frequency of this violation commited during other violations."
   ]
  },
  {
   "cell_type": "code",
   "execution_count": 132,
   "metadata": {},
   "outputs": [
    {
     "name": "stdout",
     "output_type": "stream",
     "text": [
      "\n",
      "\u001b[1m Violations per inspection (binary value representation) \u001b[0m\n"
     ]
    },
    {
     "data": {
      "text/html": [
       "<div>\n",
       "<style scoped>\n",
       "    .dataframe tbody tr th:only-of-type {\n",
       "        vertical-align: middle;\n",
       "    }\n",
       "\n",
       "    .dataframe tbody tr th {\n",
       "        vertical-align: top;\n",
       "    }\n",
       "\n",
       "    .dataframe thead th {\n",
       "        text-align: right;\n",
       "    }\n",
       "</style>\n",
       "<table border=\"1\" class=\"dataframe\">\n",
       "  <thead>\n",
       "    <tr style=\"text-align: right;\">\n",
       "      <th></th>\n",
       "      <th>#1</th>\n",
       "      <th>#2</th>\n",
       "      <th>#3</th>\n",
       "      <th>#4</th>\n",
       "      <th>#5</th>\n",
       "      <th>#6</th>\n",
       "      <th>#7</th>\n",
       "      <th>#8</th>\n",
       "      <th>#9</th>\n",
       "      <th>#10</th>\n",
       "      <th>...</th>\n",
       "      <th>#42</th>\n",
       "      <th>#43</th>\n",
       "      <th>#44</th>\n",
       "      <th>#70</th>\n",
       "      <th>inspection_id</th>\n",
       "      <th>license</th>\n",
       "      <th>inspection_type</th>\n",
       "      <th>zip</th>\n",
       "      <th>risk</th>\n",
       "      <th>results</th>\n",
       "    </tr>\n",
       "  </thead>\n",
       "  <tbody>\n",
       "    <tr>\n",
       "      <th>0</th>\n",
       "      <td>0.0</td>\n",
       "      <td>0.0</td>\n",
       "      <td>0.0</td>\n",
       "      <td>0.0</td>\n",
       "      <td>0.0</td>\n",
       "      <td>0.0</td>\n",
       "      <td>0.0</td>\n",
       "      <td>0.0</td>\n",
       "      <td>0.0</td>\n",
       "      <td>0.0</td>\n",
       "      <td>...</td>\n",
       "      <td>0.0</td>\n",
       "      <td>0.0</td>\n",
       "      <td>0.0</td>\n",
       "      <td>0.0</td>\n",
       "      <td>2346127</td>\n",
       "      <td>2637127.0</td>\n",
       "      <td>Canvass Re-Inspection</td>\n",
       "      <td>60630.0</td>\n",
       "      <td>Risk 1 (High)</td>\n",
       "      <td>Pass</td>\n",
       "    </tr>\n",
       "    <tr>\n",
       "      <th>1</th>\n",
       "      <td>0.0</td>\n",
       "      <td>0.0</td>\n",
       "      <td>1.0</td>\n",
       "      <td>0.0</td>\n",
       "      <td>1.0</td>\n",
       "      <td>0.0</td>\n",
       "      <td>0.0</td>\n",
       "      <td>0.0</td>\n",
       "      <td>0.0</td>\n",
       "      <td>0.0</td>\n",
       "      <td>...</td>\n",
       "      <td>0.0</td>\n",
       "      <td>0.0</td>\n",
       "      <td>0.0</td>\n",
       "      <td>0.0</td>\n",
       "      <td>2346126</td>\n",
       "      <td>2432147.0</td>\n",
       "      <td>Canvass Re-Inspection</td>\n",
       "      <td>60632.0</td>\n",
       "      <td>Risk 2 (Medium)</td>\n",
       "      <td>Pass w/ Conditions</td>\n",
       "    </tr>\n",
       "    <tr>\n",
       "      <th>2</th>\n",
       "      <td>0.0</td>\n",
       "      <td>0.0</td>\n",
       "      <td>1.0</td>\n",
       "      <td>0.0</td>\n",
       "      <td>0.0</td>\n",
       "      <td>0.0</td>\n",
       "      <td>0.0</td>\n",
       "      <td>0.0</td>\n",
       "      <td>0.0</td>\n",
       "      <td>1.0</td>\n",
       "      <td>...</td>\n",
       "      <td>0.0</td>\n",
       "      <td>0.0</td>\n",
       "      <td>0.0</td>\n",
       "      <td>0.0</td>\n",
       "      <td>2346149</td>\n",
       "      <td>2215652.0</td>\n",
       "      <td>Canvass</td>\n",
       "      <td>60652.0</td>\n",
       "      <td>Risk 1 (High)</td>\n",
       "      <td>Fail</td>\n",
       "    </tr>\n",
       "  </tbody>\n",
       "</table>\n",
       "<p>3 rows × 51 columns</p>\n",
       "</div>"
      ],
      "text/plain": [
       "    #1   #2   #3   #4   #5   #6   #7   #8   #9  #10  ...  #42  #43  #44  #70  \\\n",
       "0  0.0  0.0  0.0  0.0  0.0  0.0  0.0  0.0  0.0  0.0  ...  0.0  0.0  0.0  0.0   \n",
       "1  0.0  0.0  1.0  0.0  1.0  0.0  0.0  0.0  0.0  0.0  ...  0.0  0.0  0.0  0.0   \n",
       "2  0.0  0.0  1.0  0.0  0.0  0.0  0.0  0.0  0.0  1.0  ...  0.0  0.0  0.0  0.0   \n",
       "\n",
       "   inspection_id    license        inspection_type      zip             risk  \\\n",
       "0        2346127  2637127.0  Canvass Re-Inspection  60630.0    Risk 1 (High)   \n",
       "1        2346126  2432147.0  Canvass Re-Inspection  60632.0  Risk 2 (Medium)   \n",
       "2        2346149  2215652.0                Canvass  60652.0    Risk 1 (High)   \n",
       "\n",
       "              results  \n",
       "0                Pass  \n",
       "1  Pass w/ Conditions  \n",
       "2                Fail  \n",
       "\n",
       "[3 rows x 51 columns]"
      ]
     },
     "metadata": {},
     "output_type": "display_data"
    }
   ],
   "source": [
    "#open the dataframe created in milestone 2 \n",
    "violations_df= pd.read_csv('data/violations_binary_representation.csv')\n",
    "del violations_df['Unnamed: 0']\n",
    "\n",
    "print('\\n\\033[1m Violations per inspection (binary value representation) \\033[0m')\n",
    "display(violations_df.head(3))"
   ]
  },
  {
   "cell_type": "markdown",
   "metadata": {},
   "source": [
    "In the table above , we have the second component of our score : the binary value for each violation : 1 if the violation is commited during the inspection , 0 if not."
   ]
  },
  {
   "cell_type": "markdown",
   "metadata": {},
   "source": [
    "> Our score is computed as the dot product of the binary values of each violations and the ratio associated to this violation. \n",
    "We need to restructure our data in order to carry out this computation ."
   ]
  },
  {
   "cell_type": "markdown",
   "metadata": {},
   "source": [
    "The aim of the code below is to extract the violation number from the column 'Violations'."
   ]
  },
  {
   "cell_type": "code",
   "execution_count": 134,
   "metadata": {},
   "outputs": [
    {
     "data": {
      "text/html": [
       "<div>\n",
       "<style scoped>\n",
       "    .dataframe tbody tr th:only-of-type {\n",
       "        vertical-align: middle;\n",
       "    }\n",
       "\n",
       "    .dataframe tbody tr th {\n",
       "        vertical-align: top;\n",
       "    }\n",
       "\n",
       "    .dataframe thead th {\n",
       "        text-align: right;\n",
       "    }\n",
       "</style>\n",
       "<table border=\"1\" class=\"dataframe\">\n",
       "  <thead>\n",
       "    <tr style=\"text-align: right;\">\n",
       "      <th></th>\n",
       "      <th>violations</th>\n",
       "      <th>sums_poisoning</th>\n",
       "      <th>violation_type</th>\n",
       "      <th>frequency_poisoning</th>\n",
       "      <th>sums_others</th>\n",
       "      <th>frequency_others</th>\n",
       "      <th>ratio</th>\n",
       "      <th>violation_number</th>\n",
       "    </tr>\n",
       "  </thead>\n",
       "  <tbody>\n",
       "    <tr>\n",
       "      <th>31</th>\n",
       "      <td>Approved food sources (1)</td>\n",
       "      <td>15.0</td>\n",
       "      <td>critical</td>\n",
       "      <td>0.396511</td>\n",
       "      <td>1114.0</td>\n",
       "      <td>0.233642</td>\n",
       "      <td>1.697084</td>\n",
       "      <td>1</td>\n",
       "    </tr>\n",
       "    <tr>\n",
       "      <th>13</th>\n",
       "      <td>Hot/cold storage facilities (2)</td>\n",
       "      <td>67.0</td>\n",
       "      <td>critical</td>\n",
       "      <td>1.771081</td>\n",
       "      <td>5566.0</td>\n",
       "      <td>1.167373</td>\n",
       "      <td>1.517151</td>\n",
       "      <td>2</td>\n",
       "    </tr>\n",
       "    <tr>\n",
       "      <th>5</th>\n",
       "      <td>Hot/cold storage temp. (3)</td>\n",
       "      <td>231.0</td>\n",
       "      <td>critical</td>\n",
       "      <td>6.106265</td>\n",
       "      <td>16728.0</td>\n",
       "      <td>3.508411</td>\n",
       "      <td>1.740464</td>\n",
       "      <td>3</td>\n",
       "    </tr>\n",
       "  </tbody>\n",
       "</table>\n",
       "</div>"
      ],
      "text/plain": [
       "                         violations  sums_poisoning violation_type  \\\n",
       "31        Approved food sources (1)            15.0       critical   \n",
       "13  Hot/cold storage facilities (2)            67.0       critical   \n",
       "5        Hot/cold storage temp. (3)           231.0       critical   \n",
       "\n",
       "    frequency_poisoning  sums_others  frequency_others     ratio  \\\n",
       "31             0.396511       1114.0          0.233642  1.697084   \n",
       "13             1.771081       5566.0          1.167373  1.517151   \n",
       "5              6.106265      16728.0          3.508411  1.740464   \n",
       "\n",
       "    violation_number  \n",
       "31                 1  \n",
       "13                 2  \n",
       "5                  3  "
      ]
     },
     "execution_count": 134,
     "metadata": {},
     "output_type": "execute_result"
    }
   ],
   "source": [
    "# we convert the column into a string in order to use the right functionalities \n",
    "high_risk_violations['violation_number'] = high_risk_violations['violations'].astype(str)\n",
    "\n",
    "#we extract only the 3 last characters\n",
    "high_risk_violations['violation_number'] = high_risk_violations['violations'].str[-3:]\n",
    "\n",
    "#we clean the column\n",
    "high_risk_violations['violation_number']=high_risk_violations['violation_number'].apply(lambda x : x.strip(\"(){}<>\"))\n",
    "\n",
    "#we convert into an into in order to sort the values based on violation number \n",
    "high_risk_violations['violation_number'] = high_risk_violations['violation_number'].astype(int)\n",
    "\n",
    "#sorting the dataframe\n",
    "high_risk_violations=high_risk_violations.sort_values('violation_number')\n",
    "\n",
    "high_risk_violations.head(3)"
   ]
  },
  {
   "cell_type": "code",
   "execution_count": 135,
   "metadata": {},
   "outputs": [],
   "source": [
    "#create the weights vector \n",
    "score_coefficients = np.asarray(high_risk_violations.ratio)\n",
    "len(score_coefficients)\n",
    "\n",
    "#if the coefficient is below 1, it means than the violation is less frequent in food poisoning inspections.\n",
    "for i in range(len(score_coefficients)) :\n",
    "    if (score_coefficients[i]<=1) :\n",
    "        score_coefficients[i]=0"
   ]
  },
  {
   "cell_type": "code",
   "execution_count": 136,
   "metadata": {},
   "outputs": [
    {
     "data": {
      "text/html": [
       "<div>\n",
       "<style scoped>\n",
       "    .dataframe tbody tr th:only-of-type {\n",
       "        vertical-align: middle;\n",
       "    }\n",
       "\n",
       "    .dataframe tbody tr th {\n",
       "        vertical-align: top;\n",
       "    }\n",
       "\n",
       "    .dataframe thead th {\n",
       "        text-align: right;\n",
       "    }\n",
       "</style>\n",
       "<table border=\"1\" class=\"dataframe\">\n",
       "  <thead>\n",
       "    <tr style=\"text-align: right;\">\n",
       "      <th></th>\n",
       "      <th>#1</th>\n",
       "      <th>#2</th>\n",
       "      <th>#3</th>\n",
       "      <th>#4</th>\n",
       "      <th>#5</th>\n",
       "      <th>#6</th>\n",
       "      <th>#7</th>\n",
       "      <th>#8</th>\n",
       "      <th>#9</th>\n",
       "      <th>#10</th>\n",
       "      <th>...</th>\n",
       "      <th>#36</th>\n",
       "      <th>#37</th>\n",
       "      <th>#38</th>\n",
       "      <th>#39</th>\n",
       "      <th>#40</th>\n",
       "      <th>#41</th>\n",
       "      <th>#42</th>\n",
       "      <th>#43</th>\n",
       "      <th>#44</th>\n",
       "      <th>#70</th>\n",
       "    </tr>\n",
       "  </thead>\n",
       "  <tbody>\n",
       "    <tr>\n",
       "      <th>0</th>\n",
       "      <td>0.0</td>\n",
       "      <td>0.0</td>\n",
       "      <td>0.0</td>\n",
       "      <td>0.0</td>\n",
       "      <td>0.0</td>\n",
       "      <td>0.0</td>\n",
       "      <td>0.0</td>\n",
       "      <td>0.0</td>\n",
       "      <td>0.0</td>\n",
       "      <td>0.0</td>\n",
       "      <td>...</td>\n",
       "      <td>0.0</td>\n",
       "      <td>0.0</td>\n",
       "      <td>0.0</td>\n",
       "      <td>0.0</td>\n",
       "      <td>0.0</td>\n",
       "      <td>0.0</td>\n",
       "      <td>0.0</td>\n",
       "      <td>0.0</td>\n",
       "      <td>0.0</td>\n",
       "      <td>0.0</td>\n",
       "    </tr>\n",
       "    <tr>\n",
       "      <th>1</th>\n",
       "      <td>0.0</td>\n",
       "      <td>0.0</td>\n",
       "      <td>1.0</td>\n",
       "      <td>0.0</td>\n",
       "      <td>1.0</td>\n",
       "      <td>0.0</td>\n",
       "      <td>0.0</td>\n",
       "      <td>0.0</td>\n",
       "      <td>0.0</td>\n",
       "      <td>0.0</td>\n",
       "      <td>...</td>\n",
       "      <td>0.0</td>\n",
       "      <td>0.0</td>\n",
       "      <td>0.0</td>\n",
       "      <td>0.0</td>\n",
       "      <td>0.0</td>\n",
       "      <td>0.0</td>\n",
       "      <td>0.0</td>\n",
       "      <td>0.0</td>\n",
       "      <td>0.0</td>\n",
       "      <td>0.0</td>\n",
       "    </tr>\n",
       "    <tr>\n",
       "      <th>2</th>\n",
       "      <td>0.0</td>\n",
       "      <td>0.0</td>\n",
       "      <td>1.0</td>\n",
       "      <td>0.0</td>\n",
       "      <td>0.0</td>\n",
       "      <td>0.0</td>\n",
       "      <td>0.0</td>\n",
       "      <td>0.0</td>\n",
       "      <td>0.0</td>\n",
       "      <td>1.0</td>\n",
       "      <td>...</td>\n",
       "      <td>0.0</td>\n",
       "      <td>1.0</td>\n",
       "      <td>0.0</td>\n",
       "      <td>0.0</td>\n",
       "      <td>0.0</td>\n",
       "      <td>0.0</td>\n",
       "      <td>0.0</td>\n",
       "      <td>0.0</td>\n",
       "      <td>0.0</td>\n",
       "      <td>0.0</td>\n",
       "    </tr>\n",
       "    <tr>\n",
       "      <th>3</th>\n",
       "      <td>0.0</td>\n",
       "      <td>0.0</td>\n",
       "      <td>0.0</td>\n",
       "      <td>0.0</td>\n",
       "      <td>0.0</td>\n",
       "      <td>0.0</td>\n",
       "      <td>0.0</td>\n",
       "      <td>0.0</td>\n",
       "      <td>0.0</td>\n",
       "      <td>0.0</td>\n",
       "      <td>...</td>\n",
       "      <td>0.0</td>\n",
       "      <td>0.0</td>\n",
       "      <td>0.0</td>\n",
       "      <td>0.0</td>\n",
       "      <td>0.0</td>\n",
       "      <td>0.0</td>\n",
       "      <td>0.0</td>\n",
       "      <td>0.0</td>\n",
       "      <td>0.0</td>\n",
       "      <td>0.0</td>\n",
       "    </tr>\n",
       "    <tr>\n",
       "      <th>4</th>\n",
       "      <td>0.0</td>\n",
       "      <td>0.0</td>\n",
       "      <td>0.0</td>\n",
       "      <td>0.0</td>\n",
       "      <td>1.0</td>\n",
       "      <td>0.0</td>\n",
       "      <td>0.0</td>\n",
       "      <td>0.0</td>\n",
       "      <td>0.0</td>\n",
       "      <td>0.0</td>\n",
       "      <td>...</td>\n",
       "      <td>0.0</td>\n",
       "      <td>0.0</td>\n",
       "      <td>0.0</td>\n",
       "      <td>0.0</td>\n",
       "      <td>0.0</td>\n",
       "      <td>0.0</td>\n",
       "      <td>0.0</td>\n",
       "      <td>0.0</td>\n",
       "      <td>0.0</td>\n",
       "      <td>0.0</td>\n",
       "    </tr>\n",
       "  </tbody>\n",
       "</table>\n",
       "<p>5 rows × 45 columns</p>\n",
       "</div>"
      ],
      "text/plain": [
       "    #1   #2   #3   #4   #5   #6   #7   #8   #9  #10  ...  #36  #37  #38  #39  \\\n",
       "0  0.0  0.0  0.0  0.0  0.0  0.0  0.0  0.0  0.0  0.0  ...  0.0  0.0  0.0  0.0   \n",
       "1  0.0  0.0  1.0  0.0  1.0  0.0  0.0  0.0  0.0  0.0  ...  0.0  0.0  0.0  0.0   \n",
       "2  0.0  0.0  1.0  0.0  0.0  0.0  0.0  0.0  0.0  1.0  ...  0.0  1.0  0.0  0.0   \n",
       "3  0.0  0.0  0.0  0.0  0.0  0.0  0.0  0.0  0.0  0.0  ...  0.0  0.0  0.0  0.0   \n",
       "4  0.0  0.0  0.0  0.0  1.0  0.0  0.0  0.0  0.0  0.0  ...  0.0  0.0  0.0  0.0   \n",
       "\n",
       "   #40  #41  #42  #43  #44  #70  \n",
       "0  0.0  0.0  0.0  0.0  0.0  0.0  \n",
       "1  0.0  0.0  0.0  0.0  0.0  0.0  \n",
       "2  0.0  0.0  0.0  0.0  0.0  0.0  \n",
       "3  0.0  0.0  0.0  0.0  0.0  0.0  \n",
       "4  0.0  0.0  0.0  0.0  0.0  0.0  \n",
       "\n",
       "[5 rows x 45 columns]"
      ]
     },
     "execution_count": 136,
     "metadata": {},
     "output_type": "execute_result"
    }
   ],
   "source": [
    "#extract only the 45 first column which correspond to the binary representation of each violation.\n",
    "score_violation_df=violations_df.iloc[:,0:45]\n",
    "\n",
    "score_violation_df.head()"
   ]
  },
  {
   "cell_type": "code",
   "execution_count": 137,
   "metadata": {},
   "outputs": [],
   "source": [
    "#dot product computation between the 'matrix above' and the coefficient vector\n",
    "score_violation_df['score']=score_violation_df.dot(score_coefficients)"
   ]
  },
  {
   "cell_type": "markdown",
   "metadata": {},
   "source": [
    "**Application:** This code will be applied in the machine learning part (cf part 7 ) in order to reduce the dimensionality of our features ( from 45 (number of violations ) to 1 feature (the score). However , this score was created based on an intuition thus it is biased."
   ]
  },
  {
   "cell_type": "markdown",
   "metadata": {},
   "source": [
    "# 5-Sea Exploration "
   ]
  },
  {
   "cell_type": "markdown",
   "metadata": {},
   "source": [
    "The aim of this part is to explore if there is a relation between the seaside of chicago and food poisoning cases."
   ]
  },
  {
   "cell_type": "markdown",
   "metadata": {},
   "source": [
    "## 5.1- Visual exploration "
   ]
  },
  {
   "cell_type": "code",
   "execution_count": 38,
   "metadata": {},
   "outputs": [
    {
     "data": {
      "text/html": [
       "<div>\n",
       "<style scoped>\n",
       "    .dataframe tbody tr th:only-of-type {\n",
       "        vertical-align: middle;\n",
       "    }\n",
       "\n",
       "    .dataframe tbody tr th {\n",
       "        vertical-align: top;\n",
       "    }\n",
       "\n",
       "    .dataframe thead th {\n",
       "        text-align: right;\n",
       "    }\n",
       "</style>\n",
       "<table border=\"1\" class=\"dataframe\">\n",
       "  <thead>\n",
       "    <tr style=\"text-align: right;\">\n",
       "      <th></th>\n",
       "      <th>objectid</th>\n",
       "      <th>shape_area</th>\n",
       "      <th>shape_len</th>\n",
       "      <th>zip</th>\n",
       "      <th>geometry</th>\n",
       "      <th>centroid_lon</th>\n",
       "      <th>centroid_lat</th>\n",
       "      <th>facility_number_per_zip</th>\n",
       "      <th>poisoning_count</th>\n",
       "      <th>poisoning_proportion</th>\n",
       "    </tr>\n",
       "  </thead>\n",
       "  <tbody>\n",
       "    <tr>\n",
       "      <th>0</th>\n",
       "      <td>33</td>\n",
       "      <td>106052287.488</td>\n",
       "      <td>42720.0444058</td>\n",
       "      <td>60647</td>\n",
       "      <td>MULTIPOLYGON (((-87.67762 41.91776, -87.67761 ...</td>\n",
       "      <td>-87.702259</td>\n",
       "      <td>41.921098</td>\n",
       "      <td>4605</td>\n",
       "      <td>18</td>\n",
       "      <td>0.39</td>\n",
       "    </tr>\n",
       "    <tr>\n",
       "      <th>1</th>\n",
       "      <td>34</td>\n",
       "      <td>127476050.762</td>\n",
       "      <td>48103.7827213</td>\n",
       "      <td>60639</td>\n",
       "      <td>MULTIPOLYGON (((-87.72683 41.92265, -87.72693 ...</td>\n",
       "      <td>-87.755996</td>\n",
       "      <td>41.920456</td>\n",
       "      <td>3433</td>\n",
       "      <td>17</td>\n",
       "      <td>0.50</td>\n",
       "    </tr>\n",
       "    <tr>\n",
       "      <th>2</th>\n",
       "      <td>35</td>\n",
       "      <td>45069038.4783</td>\n",
       "      <td>27288.6096123</td>\n",
       "      <td>60707</td>\n",
       "      <td>MULTIPOLYGON (((-87.78500 41.90915, -87.78531 ...</td>\n",
       "      <td>-87.795738</td>\n",
       "      <td>41.919948</td>\n",
       "      <td>738</td>\n",
       "      <td>5</td>\n",
       "      <td>0.68</td>\n",
       "    </tr>\n",
       "  </tbody>\n",
       "</table>\n",
       "</div>"
      ],
      "text/plain": [
       "  objectid     shape_area      shape_len    zip  \\\n",
       "0       33  106052287.488  42720.0444058  60647   \n",
       "1       34  127476050.762  48103.7827213  60639   \n",
       "2       35  45069038.4783  27288.6096123  60707   \n",
       "\n",
       "                                            geometry  centroid_lon  \\\n",
       "0  MULTIPOLYGON (((-87.67762 41.91776, -87.67761 ...    -87.702259   \n",
       "1  MULTIPOLYGON (((-87.72683 41.92265, -87.72693 ...    -87.755996   \n",
       "2  MULTIPOLYGON (((-87.78500 41.90915, -87.78531 ...    -87.795738   \n",
       "\n",
       "   centroid_lat  facility_number_per_zip  poisoning_count  \\\n",
       "0     41.921098                     4605               18   \n",
       "1     41.920456                     3433               17   \n",
       "2     41.919948                      738                5   \n",
       "\n",
       "   poisoning_proportion  \n",
       "0                  0.39  \n",
       "1                  0.50  \n",
       "2                  0.68  "
      ]
     },
     "execution_count": 38,
     "metadata": {},
     "output_type": "execute_result"
    }
   ],
   "source": [
    "# counting the number of fail per zip code\n",
    "poisoning_count_per_zip = pd.DataFrame(poisoning_data.groupby('zip')['results'].count()).reset_index()\n",
    "poisoning_count_per_zip.rename(columns = {'results': 'poisoning_count'}, inplace = True)\n",
    "\n",
    "# merge with gdf dataframe and facility count dataframe \n",
    "poisoning_gdf = pd.merge(gdf,poisoning_count_per_zip, on = 'zip')\n",
    "\n",
    "# proportion of facility that passed the investigation per zip code\n",
    "poisoning_gdf['poisoning_proportion'] = round((poisoning_gdf['poisoning_count'].divide(poisoning_gdf['facility_number_per_zip']))*100,2)\n",
    "poisoning_gdf.head(3)"
   ]
  },
  {
   "cell_type": "code",
   "execution_count": 39,
   "metadata": {},
   "outputs": [
    {
     "data": {
      "text/plain": [
       "<folium.raster_layers.TileLayer at 0x1a2c804ed0>"
      ]
     },
     "execution_count": 39,
     "metadata": {},
     "output_type": "execute_result"
    }
   ],
   "source": [
    "poisoning_map = chlorepleth_map ('Poisoning proportion', poisoning_gdf, ['zip','poisoning_proportion'], 'Suspected poisoning proportion', 'PuRd')\n",
    "\n",
    "# for plotting without e-coli\n",
    "poisoning_map_reserve = poisoning_map\n",
    "\n",
    "# add transparent background\n",
    "folium.TileLayer('CartoDB positron', name = \"Light Map\", control = False).add_to(poisoning_map)"
   ]
  },
  {
   "cell_type": "markdown",
   "metadata": {},
   "source": [
    "### -> Introduction of the e-coli dataset"
   ]
  },
  {
   "cell_type": "code",
   "execution_count": 40,
   "metadata": {},
   "outputs": [
    {
     "data": {
      "text/html": [
       "<div>\n",
       "<style scoped>\n",
       "    .dataframe tbody tr th:only-of-type {\n",
       "        vertical-align: middle;\n",
       "    }\n",
       "\n",
       "    .dataframe tbody tr th {\n",
       "        vertical-align: top;\n",
       "    }\n",
       "\n",
       "    .dataframe thead th {\n",
       "        text-align: right;\n",
       "    }\n",
       "</style>\n",
       "<table border=\"1\" class=\"dataframe\">\n",
       "  <thead>\n",
       "    <tr style=\"text-align: right;\">\n",
       "      <th></th>\n",
       "      <th>Beach Name</th>\n",
       "      <th>Predicted Level</th>\n",
       "    </tr>\n",
       "  </thead>\n",
       "  <tbody>\n",
       "    <tr>\n",
       "      <th>0</th>\n",
       "      <td>12th Street</td>\n",
       "      <td>47</td>\n",
       "    </tr>\n",
       "    <tr>\n",
       "      <th>1</th>\n",
       "      <td>57th Street</td>\n",
       "      <td>9</td>\n",
       "    </tr>\n",
       "    <tr>\n",
       "      <th>2</th>\n",
       "      <td>Foster</td>\n",
       "      <td>49</td>\n",
       "    </tr>\n",
       "  </tbody>\n",
       "</table>\n",
       "</div>"
      ],
      "text/plain": [
       "    Beach Name  Predicted Level\n",
       "0  12th Street               47\n",
       "1  57th Street                9\n",
       "2       Foster               49"
      ]
     },
     "execution_count": 40,
     "metadata": {},
     "output_type": "execute_result"
    }
   ],
   "source": [
    "ecoli_df = pd.read_csv('data/beach-e.-coli-predictions.csv', delimiter = ',')\n",
    "\n",
    "# we keep only the predicted values that are above the BAV limi (cf milestone 2)\n",
    "data_filtered = ecoli_df[ecoli_df['Predicted Level'] > 235]\n",
    "\n",
    "high_ecoli_concentration = pd.DataFrame(data_filtered.groupby('Beach Name')['Predicted Level'].count())\n",
    "high_ecoli_concentration.reset_index(inplace = True)\n",
    "\n",
    "high_ecoli_concentration.head(3)"
   ]
  },
  {
   "cell_type": "code",
   "execution_count": 41,
   "metadata": {},
   "outputs": [
    {
     "data": {
      "text/html": [
       "<div>\n",
       "<style scoped>\n",
       "    .dataframe tbody tr th:only-of-type {\n",
       "        vertical-align: middle;\n",
       "    }\n",
       "\n",
       "    .dataframe tbody tr th {\n",
       "        vertical-align: top;\n",
       "    }\n",
       "\n",
       "    .dataframe thead th {\n",
       "        text-align: right;\n",
       "    }\n",
       "</style>\n",
       "<table border=\"1\" class=\"dataframe\">\n",
       "  <thead>\n",
       "    <tr style=\"text-align: right;\">\n",
       "      <th></th>\n",
       "      <th>Beach Name</th>\n",
       "      <th>Date</th>\n",
       "      <th>Prediction Source</th>\n",
       "      <th>Predicted Level_x</th>\n",
       "      <th>RecordID</th>\n",
       "      <th>Latitude</th>\n",
       "      <th>Longitude</th>\n",
       "      <th>Location</th>\n",
       "      <th>High measure count</th>\n",
       "    </tr>\n",
       "  </thead>\n",
       "  <tbody>\n",
       "    <tr>\n",
       "      <th>0</th>\n",
       "      <td>12th Street</td>\n",
       "      <td>2017-06-05T00:00:00</td>\n",
       "      <td>DNA Model</td>\n",
       "      <td>240.8</td>\n",
       "      <td>12thStreet20170605</td>\n",
       "      <td>41.8638</td>\n",
       "      <td>-87.6082</td>\n",
       "      <td>{'needs_recoding': False, 'longitude': '-87.60...</td>\n",
       "      <td>47</td>\n",
       "    </tr>\n",
       "    <tr>\n",
       "      <th>1</th>\n",
       "      <td>57th Street</td>\n",
       "      <td>2017-07-20T00:00:00</td>\n",
       "      <td>DNA Model</td>\n",
       "      <td>312.6</td>\n",
       "      <td>57thStreet20170720</td>\n",
       "      <td>41.7911</td>\n",
       "      <td>-87.5797</td>\n",
       "      <td>{'needs_recoding': False, 'longitude': '-87.57...</td>\n",
       "      <td>9</td>\n",
       "    </tr>\n",
       "    <tr>\n",
       "      <th>2</th>\n",
       "      <td>Foster</td>\n",
       "      <td>2017-05-26T00:00:00</td>\n",
       "      <td>DNA Model</td>\n",
       "      <td>334.7</td>\n",
       "      <td>Foster20170526</td>\n",
       "      <td>41.9785</td>\n",
       "      <td>-87.6515</td>\n",
       "      <td>{'needs_recoding': False, 'longitude': '-87.65...</td>\n",
       "      <td>49</td>\n",
       "    </tr>\n",
       "  </tbody>\n",
       "</table>\n",
       "</div>"
      ],
      "text/plain": [
       "    Beach Name                 Date Prediction Source  Predicted Level_x  \\\n",
       "0  12th Street  2017-06-05T00:00:00         DNA Model              240.8   \n",
       "1  57th Street  2017-07-20T00:00:00         DNA Model              312.6   \n",
       "2       Foster  2017-05-26T00:00:00         DNA Model              334.7   \n",
       "\n",
       "             RecordID  Latitude  Longitude  \\\n",
       "0  12thStreet20170605   41.8638   -87.6082   \n",
       "1  57thStreet20170720   41.7911   -87.5797   \n",
       "2      Foster20170526   41.9785   -87.6515   \n",
       "\n",
       "                                            Location  High measure count  \n",
       "0  {'needs_recoding': False, 'longitude': '-87.60...                  47  \n",
       "1  {'needs_recoding': False, 'longitude': '-87.57...                   9  \n",
       "2  {'needs_recoding': False, 'longitude': '-87.65...                  49  "
      ]
     },
     "execution_count": 41,
     "metadata": {},
     "output_type": "execute_result"
    }
   ],
   "source": [
    "# merging the data_filtered dataframe with the high_ecoli_concentration dataframe to have beaches' location\n",
    "high_ecoli_concentration_location = pd.merge(data_filtered,high_ecoli_concentration,on = 'Beach Name', how = 'inner')\n",
    "\n",
    "# groupby beaches and creating a dataframe\n",
    "high_ecoli_concentration_location = high_ecoli_concentration_location.groupby('Beach Name').first()\n",
    "\n",
    "high_ecoli_concentration_location = pd.DataFrame(high_ecoli_concentration_location)\n",
    "high_ecoli_concentration_location.rename(columns = {'Predicted Level_y': 'High measure count'}, inplace = True)\n",
    "high_ecoli_concentration_location.reset_index(inplace = True)\n",
    "high_ecoli_concentration_location.sort_values(by=['High measure count'], ascending = False)\n",
    "\n",
    "high_ecoli_concentration_location.head(3)"
   ]
  },
  {
   "cell_type": "code",
   "execution_count": 143,
   "metadata": {},
   "outputs": [
    {
     "data": {
      "text/html": [
       "\n",
       "        <iframe\n",
       "            width=\"700\"\n",
       "            height=\"600\"\n",
       "            src=\"maps/interactif_poison_map.html\"\n",
       "            frameborder=\"0\"\n",
       "            allowfullscreen\n",
       "        ></iframe>\n",
       "        "
      ],
      "text/plain": [
       "<IPython.lib.display.IFrame at 0x1a3493d850>"
      ]
     },
     "execution_count": 143,
     "metadata": {},
     "output_type": "execute_result"
    }
   ],
   "source": [
    "for i in range(len(high_ecoli_concentration_location)):\n",
    "    popup = str(high_ecoli_concentration_location['Beach Name'].values[i]) + '\\n'+'High measure count :'+ str(high_ecoli_concentration_location['High measure count'].values[i])\n",
    "    if (high_ecoli_concentration_location['High measure count'].values[i]  <= 11):\n",
    "        colour = 'green'\n",
    "    if (high_ecoli_concentration_location['High measure count'].values[i] < 30 and high_ecoli_concentration_location['High measure count'].values[i] >11):\n",
    "        colour = 'orange'\n",
    "    if (high_ecoli_concentration_location['High measure count'].values[i] >= 30):\n",
    "        colour = 'red'\n",
    "    adding_Marker(poisoning_map,high_ecoli_concentration_location.Longitude.values[i], high_ecoli_concentration_location.Latitude.values[i], popup , colour)\n",
    "\n",
    "\n",
    "PIL = folium.features.GeoJson(\n",
    "    poisoning_gdf,\n",
    "    style_function = style_function, \n",
    "    control = False,\n",
    "    highlight_function = highlight_function, \n",
    "    tooltip = folium.features.GeoJsonTooltip(\n",
    "        fields = ['zip','facility_number_per_zip','poisoning_count','poisoning_proportion'],\n",
    "        aliases = ['Zip: ','Total number of inspections','Number of inspection due to suspected food poisoning','Percentage: '],\n",
    "        style = (\"background-color: white; color: #333333; font-family: arial; font-size: 12px; padding: 10px;\") \n",
    "    )\n",
    ")\n",
    "poisoning_map.add_child(PIL)\n",
    "poisoning_map.keep_in_front(PIL)\n",
    "folium.LayerControl().add_to(poisoning_map)\n",
    "\n",
    "#poisoning_map.save('maps/interactif_poison_map.html')\n",
    "IFrame(src = 'maps/interactif_poison_map.html', width = 700, height = 600)"
   ]
  },
  {
   "cell_type": "markdown",
   "metadata": {},
   "source": [
    "**Link to the map** : [food poisoning and e-coli concentration](docs/maps/interactif_poison_map.html)"
   ]
  },
  {
   "cell_type": "markdown",
   "metadata": {},
   "source": [
    "**Observations :** As observed in the previous milestone , it seems to be a link between e-coli high concentration spots and the food poisoning. To know more about it , cf [data story](https://marisofie.github.io/epfl_ada_project)"
   ]
  },
  {
   "cell_type": "markdown",
   "metadata": {},
   "source": [
    "## 5.2 Distance by Chicago center and distance by the sea "
   ]
  },
  {
   "cell_type": "markdown",
   "metadata": {},
   "source": [
    "The aim of this part is to evaluate the correlation between the distance to the sea/center of Chicago and food poisoning. "
   ]
  },
  {
   "cell_type": "markdown",
   "metadata": {},
   "source": [
    "### 5.2.1 Distance to the sea "
   ]
  },
  {
   "cell_type": "markdown",
   "metadata": {},
   "source": [
    "Let's import the json file on the zip codes in Chicago:"
   ]
  },
  {
   "cell_type": "code",
   "execution_count": 47,
   "metadata": {},
   "outputs": [
    {
     "data": {
      "text/html": [
       "<div>\n",
       "<style scoped>\n",
       "    .dataframe tbody tr th:only-of-type {\n",
       "        vertical-align: middle;\n",
       "    }\n",
       "\n",
       "    .dataframe tbody tr th {\n",
       "        vertical-align: top;\n",
       "    }\n",
       "\n",
       "    .dataframe thead th {\n",
       "        text-align: right;\n",
       "    }\n",
       "</style>\n",
       "<table border=\"1\" class=\"dataframe\">\n",
       "  <thead>\n",
       "    <tr style=\"text-align: right;\">\n",
       "      <th></th>\n",
       "      <th>type</th>\n",
       "      <th>properties.community</th>\n",
       "      <th>properties.area</th>\n",
       "      <th>properties.shape_area</th>\n",
       "      <th>properties.perimeter</th>\n",
       "      <th>properties.area_num_1</th>\n",
       "      <th>properties.area_numbe</th>\n",
       "      <th>properties.comarea_id</th>\n",
       "      <th>properties.comarea</th>\n",
       "      <th>properties.shape_len</th>\n",
       "      <th>geometry.type</th>\n",
       "      <th>geometry.coordinates</th>\n",
       "    </tr>\n",
       "  </thead>\n",
       "  <tbody>\n",
       "    <tr>\n",
       "      <th>0</th>\n",
       "      <td>Feature</td>\n",
       "      <td>DOUGLAS</td>\n",
       "      <td>0</td>\n",
       "      <td>46004621.1581</td>\n",
       "      <td>0</td>\n",
       "      <td>35</td>\n",
       "      <td>35</td>\n",
       "      <td>0</td>\n",
       "      <td>0</td>\n",
       "      <td>31027.0545098</td>\n",
       "      <td>MultiPolygon</td>\n",
       "      <td>[[[[-87.60914087617894, 41.84469250265398], [-...</td>\n",
       "    </tr>\n",
       "    <tr>\n",
       "      <th>1</th>\n",
       "      <td>Feature</td>\n",
       "      <td>OAKLAND</td>\n",
       "      <td>0</td>\n",
       "      <td>16913961.0408</td>\n",
       "      <td>0</td>\n",
       "      <td>36</td>\n",
       "      <td>36</td>\n",
       "      <td>0</td>\n",
       "      <td>0</td>\n",
       "      <td>19565.5061533</td>\n",
       "      <td>MultiPolygon</td>\n",
       "      <td>[[[[-87.59215283879394, 41.81692934626684], [-...</td>\n",
       "    </tr>\n",
       "    <tr>\n",
       "      <th>2</th>\n",
       "      <td>Feature</td>\n",
       "      <td>FULLER PARK</td>\n",
       "      <td>0</td>\n",
       "      <td>19916704.8692</td>\n",
       "      <td>0</td>\n",
       "      <td>37</td>\n",
       "      <td>37</td>\n",
       "      <td>0</td>\n",
       "      <td>0</td>\n",
       "      <td>25339.0897503</td>\n",
       "      <td>MultiPolygon</td>\n",
       "      <td>[[[[-87.62879823733725, 41.80189303368919], [-...</td>\n",
       "    </tr>\n",
       "    <tr>\n",
       "      <th>3</th>\n",
       "      <td>Feature</td>\n",
       "      <td>GRAND BOULEVARD</td>\n",
       "      <td>0</td>\n",
       "      <td>48492503.1554</td>\n",
       "      <td>0</td>\n",
       "      <td>38</td>\n",
       "      <td>38</td>\n",
       "      <td>0</td>\n",
       "      <td>0</td>\n",
       "      <td>28196.8371573</td>\n",
       "      <td>MultiPolygon</td>\n",
       "      <td>[[[[-87.6067081256125, 41.81681377057218], [-8...</td>\n",
       "    </tr>\n",
       "    <tr>\n",
       "      <th>4</th>\n",
       "      <td>Feature</td>\n",
       "      <td>KENWOOD</td>\n",
       "      <td>0</td>\n",
       "      <td>29071741.9283</td>\n",
       "      <td>0</td>\n",
       "      <td>39</td>\n",
       "      <td>39</td>\n",
       "      <td>0</td>\n",
       "      <td>0</td>\n",
       "      <td>23325.1679062</td>\n",
       "      <td>MultiPolygon</td>\n",
       "      <td>[[[[-87.59215283879394, 41.81692934626684], [-...</td>\n",
       "    </tr>\n",
       "  </tbody>\n",
       "</table>\n",
       "</div>"
      ],
      "text/plain": [
       "      type properties.community properties.area properties.shape_area  \\\n",
       "0  Feature              DOUGLAS               0         46004621.1581   \n",
       "1  Feature              OAKLAND               0         16913961.0408   \n",
       "2  Feature          FULLER PARK               0         19916704.8692   \n",
       "3  Feature      GRAND BOULEVARD               0         48492503.1554   \n",
       "4  Feature              KENWOOD               0         29071741.9283   \n",
       "\n",
       "  properties.perimeter properties.area_num_1 properties.area_numbe  \\\n",
       "0                    0                    35                    35   \n",
       "1                    0                    36                    36   \n",
       "2                    0                    37                    37   \n",
       "3                    0                    38                    38   \n",
       "4                    0                    39                    39   \n",
       "\n",
       "  properties.comarea_id properties.comarea properties.shape_len geometry.type  \\\n",
       "0                     0                  0        31027.0545098  MultiPolygon   \n",
       "1                     0                  0        19565.5061533  MultiPolygon   \n",
       "2                     0                  0        25339.0897503  MultiPolygon   \n",
       "3                     0                  0        28196.8371573  MultiPolygon   \n",
       "4                     0                  0        23325.1679062  MultiPolygon   \n",
       "\n",
       "                                geometry.coordinates  \n",
       "0  [[[[-87.60914087617894, 41.84469250265398], [-...  \n",
       "1  [[[[-87.59215283879394, 41.81692934626684], [-...  \n",
       "2  [[[[-87.62879823733725, 41.80189303368919], [-...  \n",
       "3  [[[[-87.6067081256125, 41.81681377057218], [-8...  \n",
       "4  [[[[-87.59215283879394, 41.81692934626684], [-...  "
      ]
     },
     "execution_count": 47,
     "metadata": {},
     "output_type": "execute_result"
    }
   ],
   "source": [
    "# 'Boundaries-ZIPCodes.geojson' taken from the internet\n",
    "with open('data/zipcodes_boundaries.geojson') as f:\n",
    "    # load json file\n",
    "    zip_info = json.load(f)\n",
    "# data_zip contains the geometrical information\n",
    "data_zip = json_normalize(zip_info['features'])\n",
    "# display dataframe\n",
    "data_zip.head()"
   ]
  },
  {
   "cell_type": "markdown",
   "metadata": {},
   "source": [
    "The geometry.coordinates is not accessible in this way. We shall modify it so that it becomes a list of coordonates. "
   ]
  },
  {
   "cell_type": "code",
   "execution_count": 49,
   "metadata": {},
   "outputs": [],
   "source": [
    "# polygons is a list of polygons\n",
    "polygons = []\n",
    "for l in range(data_zip.shape[0]):\n",
    "    # polygon is a list of coordinates\n",
    "    polygon = []\n",
    "    # taking all the coordinates for a polygon\n",
    "    for i in range(len(data_zip['geometry.coordinates'][l][0][0])):\n",
    "        # add the i-th element to the polygon list\n",
    "        polygon.append(data_zip['geometry.coordinates'][l][0][0][i])\n",
    "    # adding a polygon to a list of polygons\n",
    "    polygons.append(polygon)  \n",
    "# create a new column with the correct writing\n",
    "data_zip['polygon'] = polygons"
   ]
  },
  {
   "cell_type": "markdown",
   "metadata": {},
   "source": [
    "Now let's import the dataframe with the violations."
   ]
  },
  {
   "cell_type": "code",
   "execution_count": 55,
   "metadata": {},
   "outputs": [],
   "source": [
    "# importing data\n",
    "#clean_data = pd.read_csv('data/clean_dataset.csv')"
   ]
  },
  {
   "cell_type": "markdown",
   "metadata": {},
   "source": [
    "An imaginary line is drawn between the 2 locations by the sea. This line will represente the border, so to calculate the distance to the sea, we shall calculate the shortest distance to this line."
   ]
  },
  {
   "cell_type": "code",
   "execution_count": 59,
   "metadata": {},
   "outputs": [],
   "source": [
    "dist_km = []\n",
    "for i in range (data.shape[0]):\n",
    "    \n",
    "    # first location by the sea\n",
    "    x1 = (41.963779, -87.632323)\n",
    "    \n",
    "    # second location by the sea\n",
    "    x2 = (41.894318, -87.605099)\n",
    "    \n",
    "    # latitude from dataframe\n",
    "    lat = data.latitude.values[i]\n",
    "    \n",
    "    # longitude from dataframe\n",
    "    lon = data.longitude.values[i]\n",
    "    \n",
    "    # coordinate\n",
    "    p = (lat, lon)\n",
    "    \n",
    "    # point\n",
    "    point = Point(p)\n",
    "    \n",
    "    # creation of the line\n",
    "    line = LineString([Point(x1), Point(x2)])\n",
    "    \n",
    "    # add distance from point to line * 111, because 1 degree = 111 km \n",
    "    dist_km.append(point.distance(line)*111)\n",
    "    # print values\n",
    "    \n",
    "    #print('point:',p,', distance :',dist_km[-1])\n",
    "    \n",
    "# add column to dataframe\n",
    "data['distance_to_sea'] = dist_km"
   ]
  },
  {
   "cell_type": "markdown",
   "metadata": {},
   "source": [
    "Plots and Correlations: We will plot the correlations of the distance to the sea and to the city center for each zip with respect to the food poisoning."
   ]
  },
  {
   "cell_type": "code",
   "execution_count": 64,
   "metadata": {},
   "outputs": [],
   "source": [
    "# taking only 2 columns\n",
    "Dist_to_sea = data[['zip','distance_to_sea']]\n",
    "\n",
    "# averaging the distance to the sea for each zip\n",
    "Dist_to_sea = Dist_to_sea.groupby(Dist_to_sea.zip).mean()\n",
    "\n",
    "# reset index\n",
    "Dist_to_sea= Dist_to_sea.reset_index()\n",
    "\n",
    "#delete the last value \n",
    "Dist_to_sea.drop(Dist_to_sea.tail(1).index, inplace = True)\n",
    "\n",
    "# conversion to int to enable merging\n",
    "Dist_to_sea['zip'] = Dist_to_sea['zip'].astype(int)"
   ]
  },
  {
   "cell_type": "code",
   "execution_count": 65,
   "metadata": {},
   "outputs": [],
   "source": [
    "# dataframe with food poisoning per zip code\n",
    "prop = pd.read_csv('data/proportion.csv')\n",
    "\n",
    "# merging of distance to sea and food poisoning\n",
    "DF_merge = pd.merge(Dist_to_sea, prop, on='zip', how='outer')"
   ]
  },
  {
   "cell_type": "code",
   "execution_count": 66,
   "metadata": {},
   "outputs": [],
   "source": [
    "# importing mean distance to city center of each zip\n",
    "center = pd.read_csv('data/center_distance_df.csv')\n",
    "\n",
    "# dropping first value\n",
    "center= center.drop(0)\n",
    "\n",
    "# changing zip type to int\n",
    "center['zip']=center['zip'].astype(int)\n",
    "\n",
    "# merging food poisoning with distance to center\n",
    "DF_center = pd.merge(prop, center, on='zip', how='outer')\n",
    "\n",
    "# drop NaN values\n",
    "DF_center= DF_center.dropna()\n",
    "\n",
    "# merging distance to center with DF_merge\n",
    "DF =  pd.merge(center,DF_merge, on='zip', how='outer')\n",
    "\n",
    "# drop NaN values\n",
    "DF_merge.dropna(inplace = True)"
   ]
  },
  {
   "cell_type": "code",
   "execution_count": 67,
   "metadata": {},
   "outputs": [
    {
     "data": {
      "text/html": [
       "<iframe\n",
       "    scrolling=\"no\"\n",
       "    width=\"720px\"\n",
       "    height=\"720\"\n",
       "    src=\"iframe_figures/figure_67.html\"\n",
       "    frameborder=\"0\"\n",
       "    allowfullscreen\n",
       "></iframe>\n"
      ]
     },
     "metadata": {},
     "output_type": "display_data"
    }
   ],
   "source": [
    "fig = go.Figure()\n",
    "\n",
    "\n",
    "# set up the first trace\n",
    "fig.add_trace(go.Scatter(\n",
    "    x = DF_merge['distance_to_sea'],\n",
    "    y = DF_merge['pois_total'],\n",
    "    visible = True,\n",
    "    marker_color='blue',\n",
    "    mode = 'markers',\n",
    "    text =DF_merge['zip']\n",
    "                )\n",
    "             )\n",
    "fig.add_trace(go.Scatter(\n",
    "    x = DF_center['mean_distance'],\n",
    "    y = DF_center['pois_total'],\n",
    "    visible = True,\n",
    "    marker_color='red',\n",
    "    mode = 'markers',\n",
    "    text =DF_center['zip']))\n",
    "\n",
    "\n",
    "\n",
    "fig.layout.update(\n",
    "    autosize = False,\n",
    "    width = 700,\n",
    "    height = 700,\n",
    "    template = \"plotly_white\",\n",
    "    #paper_bgcolor='#333'\n",
    ")\n",
    "\n",
    "fig.layout.update(\n",
    "    title = go.layout.Title(\n",
    "        text = 'Poisoning inspections with respect to the distance to sea / city center',\n",
    "        y = 0.9,\n",
    "        x = 0.5,\n",
    "        xanchor = 'center',\n",
    "        yanchor = 'top',\n",
    "    ),\n",
    "    yaxis = dict(\n",
    "        title = 'Number of facilities causing food poisoning',\n",
    "        titlefont_size = 14\n",
    "    ),\n",
    "    xaxis = dict(\n",
    "        title = 'Distance to sea (blue) /city center (red)',\n",
    "        titlefont_size = 14\n",
    "    ),\n",
    "    showlegend = False\n",
    ")\n",
    "#fig.savefig('distance_sea_centre.png')\n",
    "fig.show()"
   ]
  },
  {
   "cell_type": "markdown",
   "metadata": {},
   "source": [
    "**Link to the plot :**  [Distance by the sea/center](docs/plots/distance_sea.html)"
   ]
  },
  {
   "cell_type": "code",
   "execution_count": 69,
   "metadata": {},
   "outputs": [
    {
     "data": {
      "text/plain": [
       "<matplotlib.legend.Legend at 0x1a2fd86290>"
      ]
     },
     "execution_count": 69,
     "metadata": {},
     "output_type": "execute_result"
    },
    {
     "data": {
      "image/png": "[encoded data removed]",
      "text/plain": [
       "<Figure size 720x504 with 1 Axes>"
      ]
     },
     "metadata": {},
     "output_type": "display_data"
    }
   ],
   "source": [
    "# plotting linear regression\n",
    "fig = plt.figure(figsize=(10,7))\n",
    "sns.regplot(x = DF.distance_to_sea, y = DF.pois_total, color = 'blue', marker = '+')\n",
    "sns.regplot(x = DF.mean_distance, y = DF.pois_total, color = 'red', marker = '+')\n",
    "plt.title('Relationship between Percentage of Food Poisoning and Distance to sea (blue)/ Center (red)', size = 24)\n",
    "plt.legend(labels = ['Distance to Sea','Distance to Center'])"
   ]
  },
  {
   "cell_type": "markdown",
   "metadata": {},
   "source": [
    "We shall compare the correlations by using two methods : pearson and spearman"
   ]
  },
  {
   "cell_type": "markdown",
   "metadata": {},
   "source": [
    "Spearman: "
   ]
  },
  {
   "cell_type": "code",
   "execution_count": 71,
   "metadata": {},
   "outputs": [
    {
     "name": "stdout",
     "output_type": "stream",
     "text": [
      "The spearman coefficient is :  SpearmanrResult(correlation=-0.5358864192164994, pvalue=1.4567837494007248e-05) n= 58\n",
      "The spearman coefficient is :  SpearmanrResult(correlation=-0.4394149988616711, pvalue=0.0012550159242211895) n= 58\n"
     ]
    }
   ],
   "source": [
    "# correlation and p-values\n",
    "len_ = DF_merge.shape[0]\n",
    "print('The spearman coefficient is : ',stats.spearmanr\n",
    "      (DF_merge['distance_to_sea'],DF_merge['pois_total']),'n=',len_)\n",
    "print('The spearman coefficient is : ',stats.spearmanr\n",
    "      (DF_center['mean_distance'],DF_center['pois_total']),'n=',len_)"
   ]
  },
  {
   "cell_type": "markdown",
   "metadata": {},
   "source": [
    "Pearson:"
   ]
  },
  {
   "cell_type": "code",
   "execution_count": 72,
   "metadata": {},
   "outputs": [
    {
     "name": "stdout",
     "output_type": "stream",
     "text": [
      "-0.48154886851135953\n",
      "-0.44356603445097864\n"
     ]
    }
   ],
   "source": [
    "# Pearson correlation coefficient and p-value for distance to sea\n",
    "pearson_coef, p_value = stats.pearsonr(DF_merge.distance_to_sea, DF_merge.pois_total)\n",
    "print(pearson_coef)\n",
    "\n",
    "# Pearson correlation coefficient and p-value for distance to city center\n",
    "pearson_coef, p_value = stats.pearsonr(DF_center.mean_distance, DF_center.pois_total)\n",
    "print(pearson_coef)"
   ]
  },
  {
   "cell_type": "markdown",
   "metadata": {},
   "source": [
    "Spearman is better in this case because our values do not follow a normalized law."
   ]
  },
  {
   "cell_type": "markdown",
   "metadata": {},
   "source": [
    "**Observations:** The distance to the sea seems to have a slighty better correlation with the food poisoning. "
   ]
  },
  {
   "cell_type": "markdown",
   "metadata": {},
   "source": [
    "# 6- Natural Langage processing of post from iwaspoisonned.com"
   ]
  },
  {
   "cell_type": "markdown",
   "metadata": {},
   "source": [
    "The complaints written on the website Iwaspoisoned.com are analysed so that we can know what kinds of food cause sicknesses and in which zip codes."
   ]
  },
  {
   "cell_type": "markdown",
   "metadata": {},
   "source": [
    "## 6.1 Violations Text Handling"
   ]
  },
  {
   "cell_type": "code",
   "execution_count": 75,
   "metadata": {},
   "outputs": [],
   "source": [
    "nlp = spacy.load('en')"
   ]
  },
  {
   "cell_type": "markdown",
   "metadata": {},
   "source": [
    "This function will retrieve all the words that are useful for topic detection. Stopwords are taken out and lemmatization is used."
   ]
  },
  {
   "cell_type": "code",
   "execution_count": 76,
   "metadata": {},
   "outputs": [],
   "source": [
    "def get_all_words_from_text (text_):\n",
    "    TEXT = []\n",
    "    \n",
    "    # create document with input text\n",
    "    doc = nlp(text_)\n",
    "    token_without_stop_lemma = []\n",
    "    \n",
    "    # add all words after \"lemmatization conversion\"\n",
    "    for token in doc:\n",
    "        token_without_stop_lemma.append(token.lemma_)\n",
    "    \n",
    "    # the words are now in a list so we join them again into a text\n",
    "    new_text = ' '.join(word for word in token_without_stop_lemma)\n",
    "    \n",
    "    # recreation of a doc\n",
    "    doc2 = nlp(new_text)\n",
    "    \n",
    "    # taking out stopwords and punctuation\n",
    "    words = [token.text for token in doc2 if token.is_stop != True and token.is_punct != True]\n",
    "    \n",
    "    return words"
   ]
  },
  {
   "cell_type": "markdown",
   "metadata": {},
   "source": [
    "Finding Topics: This function will be handy to pick some topics from the text."
   ]
  },
  {
   "cell_type": "code",
   "execution_count": 77,
   "metadata": {},
   "outputs": [],
   "source": [
    "def Topic(df,NUM_TOPICS = 4, num_words_ = 2):\n",
    "\n",
    "    dictionary = corpora.Dictionary(df.new_list_of_words.values.tolist())\n",
    "    corpus = [dictionary.doc2bow(text) for text in df.new_list_of_words.values.tolist()]\n",
    "    pickle.dump(corpus, open('corpus.pkl', 'wb'))\n",
    "    dictionary.save('dictionary.gensim')\n",
    "    ldamodel = gensim.models.ldamodel.LdaModel(corpus, num_topics = NUM_TOPICS, id2word = dictionary, passes = 15)\n",
    "    ldamodel.save('model5.gensim')\n",
    "    topics = ldamodel.print_topics(num_words= num_words_)\n",
    "    for topic in topics:\n",
    "        print(topic)"
   ]
  },
  {
   "cell_type": "markdown",
   "metadata": {},
   "source": [
    "Webscraping Text Handling "
   ]
  },
  {
   "cell_type": "markdown",
   "metadata": {},
   "source": [
    "Let's import the csv file from the webscraping of the iwaspoisoned website."
   ]
  },
  {
   "cell_type": "code",
   "execution_count": 78,
   "metadata": {},
   "outputs": [],
   "source": [
    "# import the cleaning dataset \n",
    "data_web = pd.read_csv('data/Food_Poisoning3.csv', delimiter = ',')\n",
    "\n",
    "# taking only the zip and comments columns\n",
    "data_web = data_web[['Zip','Comments']]"
   ]
  },
  {
   "cell_type": "markdown",
   "metadata": {},
   "source": [
    "In comments, we have a text in each row of the report made by a person on food poisoning."
   ]
  },
  {
   "cell_type": "code",
   "execution_count": 79,
   "metadata": {},
   "outputs": [],
   "source": [
    "# drop any nan values\n",
    "data_web.dropna(inplace = True)\n",
    "\n",
    "# change zip type to int\n",
    "data_web['Zip'] = data_web['Zip'].astype(int)\n",
    "\n",
    "# changing the type of zip to int\n",
    "data_web['Zip'] = list(map(lambda x : int(x) if (math.isnan(x) == False) else np.nan, data_web.Zip.values.tolist()))\n",
    "\n",
    "# lowercasing everything\n",
    "data_web['Comments'] = data_web['Comments'].str.lower()\n"
   ]
  },
  {
   "cell_type": "markdown",
   "metadata": {},
   "source": [
    "If \"inspection failure\" is in the comments, then it is not a complaint from a person but a description of an inspection failure. We are only interested in analyzing texts written by people."
   ]
  },
  {
   "cell_type": "code",
   "execution_count": 80,
   "metadata": {},
   "outputs": [],
   "source": [
    "# data with \"inspection failure\" in comments\n",
    "df_inspection_failures = data_web[data_web['Comments'].str.contains(\"inspection failure\")]\n",
    "\n",
    "# all rows except the \"inspection failures\"\n",
    "df_complaints = data_web[~data_web.isin(df_inspection_failures)].dropna()"
   ]
  },
  {
   "cell_type": "markdown",
   "metadata": {},
   "source": [
    "This dataframe contains all the comments made by people on the website along "
   ]
  },
  {
   "cell_type": "code",
   "execution_count": 81,
   "metadata": {},
   "outputs": [
    {
     "data": {
      "text/html": [
       "<div>\n",
       "<style scoped>\n",
       "    .dataframe tbody tr th:only-of-type {\n",
       "        vertical-align: middle;\n",
       "    }\n",
       "\n",
       "    .dataframe tbody tr th {\n",
       "        vertical-align: top;\n",
       "    }\n",
       "\n",
       "    .dataframe thead th {\n",
       "        text-align: right;\n",
       "    }\n",
       "</style>\n",
       "<table border=\"1\" class=\"dataframe\">\n",
       "  <thead>\n",
       "    <tr style=\"text-align: right;\">\n",
       "      <th></th>\n",
       "      <th>Zip</th>\n",
       "      <th>Comments</th>\n",
       "    </tr>\n",
       "  </thead>\n",
       "  <tbody>\n",
       "    <tr>\n",
       "      <th>1</th>\n",
       "      <td>60653.0</td>\n",
       "      <td>“i ordered the ocean perch dinner. a couple ...</td>\n",
       "    </tr>\n",
       "    <tr>\n",
       "      <th>3</th>\n",
       "      <td>60616.0</td>\n",
       "      <td>“chicken wings, ate wings on thursday evenin...</td>\n",
       "    </tr>\n",
       "    <tr>\n",
       "      <th>6</th>\n",
       "      <td>60647.0</td>\n",
       "      <td>“turkey footlong sub with provolone cheese, ...</td>\n",
       "    </tr>\n",
       "    <tr>\n",
       "      <th>7</th>\n",
       "      <td>60616.0</td>\n",
       "      <td>“crab rangoon, a few bites tasted fishy. sat...</td>\n",
       "    </tr>\n",
       "    <tr>\n",
       "      <th>8</th>\n",
       "      <td>60656.0</td>\n",
       "      <td>“eating chinese food, both of us , i initial...</td>\n",
       "    </tr>\n",
       "  </tbody>\n",
       "</table>\n",
       "</div>"
      ],
      "text/plain": [
       "       Zip                                           Comments\n",
       "1  60653.0    “i ordered the ocean perch dinner. a couple ...\n",
       "3  60616.0    “chicken wings, ate wings on thursday evenin...\n",
       "6  60647.0    “turkey footlong sub with provolone cheese, ...\n",
       "7  60616.0    “crab rangoon, a few bites tasted fishy. sat...\n",
       "8  60656.0    “eating chinese food, both of us , i initial..."
      ]
     },
     "execution_count": 81,
     "metadata": {},
     "output_type": "execute_result"
    }
   ],
   "source": [
    "df_complaints.head()"
   ]
  },
  {
   "cell_type": "markdown",
   "metadata": {},
   "source": [
    "Some words that aren't stop words do not give insight on the topic but occur many times. We shall discard some of them."
   ]
  },
  {
   "cell_type": "code",
   "execution_count": 82,
   "metadata": {},
   "outputs": [],
   "source": [
    "def New_List_Words(data_web):\n",
    "    list_ = []\n",
    "    \n",
    "    # for each row in the dataframe\n",
    "    for i in range(data_web.shape[0]):\n",
    "        \n",
    "        # append the only useful words from the text in a list\n",
    "        list_.append(get_all_words_from_text(data_web.Comments.values[i]))\n",
    "    \n",
    "    # creating a new column with this list\n",
    "    data_web_words = {'zip': data_web.Zip.values.tolist(), 'list_of_words':list_} \n",
    "    \n",
    "    # Create DataFrame \n",
    "    df = pd.DataFrame(data_web_words) \n",
    "    \n",
    "    # useless words in a list\n",
    "    useless_words= ['inspection','failure','observe','-PRON-','\"','issue','instruct','be','premise','have','find','detail','item','area','note','unit','do','start','not','run','get',\"  \",'go','continue','take','continue','ask','say',' ','>','   ','\\r\\n ','30','8']\n",
    "    \n",
    "    # list of words from the dataframe\n",
    "    test_list = df.list_of_words.values.tolist()\n",
    "    \n",
    "    # all words in a list of each row\n",
    "    for w in useless_words:\n",
    "        \n",
    "        # if it isn't a useless word, keep it\n",
    "        res = [[ele for ele in sub if ele != w] for sub in test_list] \n",
    "        test_list = res\n",
    "    \n",
    "    # creating a new column\n",
    "    df['new_list_of_words'] = test_list\n",
    "    \n",
    "    return df"
   ]
  },
  {
   "cell_type": "code",
   "execution_count": 83,
   "metadata": {},
   "outputs": [
    {
     "data": {
      "text/html": [
       "<div>\n",
       "<style scoped>\n",
       "    .dataframe tbody tr th:only-of-type {\n",
       "        vertical-align: middle;\n",
       "    }\n",
       "\n",
       "    .dataframe tbody tr th {\n",
       "        vertical-align: top;\n",
       "    }\n",
       "\n",
       "    .dataframe thead th {\n",
       "        text-align: right;\n",
       "    }\n",
       "</style>\n",
       "<table border=\"1\" class=\"dataframe\">\n",
       "  <thead>\n",
       "    <tr style=\"text-align: right;\">\n",
       "      <th></th>\n",
       "      <th>zip</th>\n",
       "      <th>list_of_words</th>\n",
       "      <th>new_list_of_words</th>\n",
       "    </tr>\n",
       "  </thead>\n",
       "  <tbody>\n",
       "    <tr>\n",
       "      <th>0</th>\n",
       "      <td>60653.0</td>\n",
       "      <td>[   , order, ocean, perch, dinner, couple, hou...</td>\n",
       "      <td>[order, ocean, perch, dinner, couple, hour, ea...</td>\n",
       "    </tr>\n",
       "    <tr>\n",
       "      <th>1</th>\n",
       "      <td>60616.0</td>\n",
       "      <td>[   , chicken, wing, eat, wing, thursday, even...</td>\n",
       "      <td>[chicken, wing, eat, wing, thursday, evening, ...</td>\n",
       "    </tr>\n",
       "    <tr>\n",
       "      <th>2</th>\n",
       "      <td>60647.0</td>\n",
       "      <td>[   , turkey, footlong, sub, provolone, cheese...</td>\n",
       "      <td>[turkey, footlong, sub, provolone, cheese, spi...</td>\n",
       "    </tr>\n",
       "    <tr>\n",
       "      <th>3</th>\n",
       "      <td>60616.0</td>\n",
       "      <td>[   , crab, rangoon, bite, taste, fishy, satur...</td>\n",
       "      <td>[crab, rangoon, bite, taste, fishy, saturday, ...</td>\n",
       "    </tr>\n",
       "    <tr>\n",
       "      <th>4</th>\n",
       "      <td>60656.0</td>\n",
       "      <td>[   , eat, chinese, food, -PRON-, initially, c...</td>\n",
       "      <td>[eat, chinese, food, initially, chest, pain, f...</td>\n",
       "    </tr>\n",
       "  </tbody>\n",
       "</table>\n",
       "</div>"
      ],
      "text/plain": [
       "       zip                                      list_of_words  \\\n",
       "0  60653.0  [   , order, ocean, perch, dinner, couple, hou...   \n",
       "1  60616.0  [   , chicken, wing, eat, wing, thursday, even...   \n",
       "2  60647.0  [   , turkey, footlong, sub, provolone, cheese...   \n",
       "3  60616.0  [   , crab, rangoon, bite, taste, fishy, satur...   \n",
       "4  60656.0  [   , eat, chinese, food, -PRON-, initially, c...   \n",
       "\n",
       "                                   new_list_of_words  \n",
       "0  [order, ocean, perch, dinner, couple, hour, ea...  \n",
       "1  [chicken, wing, eat, wing, thursday, evening, ...  \n",
       "2  [turkey, footlong, sub, provolone, cheese, spi...  \n",
       "3  [crab, rangoon, bite, taste, fishy, saturday, ...  \n",
       "4  [eat, chinese, food, initially, chest, pain, f...  "
      ]
     },
     "execution_count": 83,
     "metadata": {},
     "output_type": "execute_result"
    }
   ],
   "source": [
    "# applying the function to complaints\n",
    "df_complaints_ = New_List_Words(df_complaints)\n",
    "\n",
    "df_complaints_.head()"
   ]
  },
  {
   "cell_type": "markdown",
   "metadata": {},
   "source": [
    "Let's try and define some topics:"
   ]
  },
  {
   "cell_type": "code",
   "execution_count": 85,
   "metadata": {},
   "outputs": [
    {
     "name": "stdout",
     "output_type": "stream",
     "text": [
      "(0, '0.040*\"eat\" + 0.034*\"day\"')\n",
      "(1, '0.039*\"eat\" + 0.030*\"hour\"')\n",
      "(2, '0.037*\"food\" + 0.020*\"eat\"')\n",
      "(3, '0.036*\"hour\" + 0.033*\"diarrhea\"')\n",
      "(4, '0.030*\"diarrhea\" + 0.017*\"body\"')\n"
     ]
    }
   ],
   "source": [
    "#select 5 topics of 2 words each\n",
    "Topic(df_complaints_,5, 2)"
   ]
  },
  {
   "cell_type": "code",
   "execution_count": 86,
   "metadata": {},
   "outputs": [
    {
     "data": {
      "text/html": [
       "\n",
       "<link rel=\"stylesheet\" type=\"text/css\" href=\"https://cdn.rawgit.com/bmabey/pyLDAvis/files/ldavis.v1.0.0.css\">\n",
       "\n",
       "\n",
       "<div id=\"ldavis_el429111125408185124516679152\"></div>\n",
       "<script type=\"text/javascript\">\n",
       "\n",
       "var ldavis_el429111125408185124516679152_data = {\"mdsDat\": {\"x\": [-0.03829382180770426, -0.07211127222576433, 0.2533619311831666, -0.054957399234471425, -0.08799943791522646], \"y\": [-0.12074127756493247, -0.0785405308162727, 0.01971695754995475, 0.015700512284559313, 0.16386433854669097], \"topics\": [1, 2, 3, 4, 5], \"cluster\": [1, 1, 1, 1, 1], \"Freq\": [17.067045211791992, 15.856611251831055, 38.939029693603516, 14.22387981414795, 13.91343879699707]}, \"tinfo\": {\"Category\": [\"Default\", \"Default\", \"Default\", \"Default\", \"Default\", \"Default\", \"Default\", \"Default\", \"Default\", \"Default\", \"Default\", \"Default\", \"Default\", \"Default\", \"Default\", \"Default\", \"Default\", \"Default\", \"Default\", \"Default\", \"Default\", \"Default\", \"Default\", \"Default\", \"Default\", \"Default\", \"Default\", \"Default\", \"Default\", \"Default\", \"Topic1\", \"Topic1\", \"Topic1\", \"Topic1\", \"Topic1\", \"Topic1\", \"Topic1\", \"Topic1\", \"Topic1\", \"Topic1\", \"Topic1\", \"Topic1\", \"Topic1\", \"Topic1\", \"Topic1\", \"Topic1\", \"Topic1\", \"Topic1\", \"Topic1\", \"Topic1\", \"Topic1\", \"Topic1\", \"Topic1\", \"Topic1\", \"Topic1\", \"Topic1\", \"Topic1\", \"Topic1\", \"Topic1\", \"Topic1\", \"Topic1\", \"Topic1\", \"Topic1\", \"Topic1\", \"Topic1\", \"Topic1\", \"Topic1\", \"Topic1\", \"Topic1\", \"Topic1\", \"Topic1\", \"Topic1\", \"Topic1\", \"Topic1\", \"Topic1\", \"Topic1\", \"Topic1\", \"Topic1\", \"Topic1\", \"Topic1\", \"Topic1\", \"Topic1\", \"Topic1\", \"Topic1\", \"Topic2\", \"Topic2\", \"Topic2\", \"Topic2\", \"Topic2\", \"Topic2\", \"Topic2\", \"Topic2\", \"Topic2\", \"Topic2\", \"Topic2\", \"Topic2\", \"Topic2\", \"Topic2\", \"Topic2\", \"Topic2\", \"Topic2\", \"Topic2\", \"Topic2\", \"Topic2\", \"Topic2\", \"Topic2\", \"Topic2\", \"Topic2\", \"Topic2\", \"Topic2\", \"Topic2\", \"Topic2\", \"Topic2\", \"Topic2\", \"Topic2\", \"Topic2\", \"Topic2\", \"Topic2\", \"Topic2\", \"Topic2\", \"Topic2\", \"Topic2\", \"Topic2\", \"Topic2\", \"Topic2\", \"Topic2\", \"Topic2\", \"Topic2\", \"Topic2\", \"Topic2\", \"Topic2\", \"Topic2\", \"Topic2\", \"Topic2\", \"Topic2\", \"Topic2\", \"Topic3\", \"Topic3\", \"Topic3\", \"Topic3\", \"Topic3\", \"Topic3\", \"Topic3\", \"Topic3\", \"Topic3\", \"Topic3\", \"Topic3\", \"Topic3\", \"Topic3\", \"Topic3\", \"Topic3\", \"Topic3\", \"Topic3\", \"Topic3\", \"Topic3\", \"Topic3\", \"Topic3\", \"Topic3\", \"Topic3\", \"Topic3\", \"Topic3\", \"Topic3\", \"Topic3\", \"Topic3\", \"Topic3\", \"Topic3\", \"Topic3\", \"Topic3\", \"Topic3\", \"Topic3\", \"Topic3\", \"Topic3\", \"Topic3\", \"Topic3\", \"Topic4\", \"Topic4\", \"Topic4\", \"Topic4\", \"Topic4\", \"Topic4\", \"Topic4\", \"Topic4\", \"Topic4\", \"Topic4\", \"Topic4\", \"Topic4\", \"Topic4\", \"Topic4\", \"Topic4\", \"Topic4\", \"Topic4\", \"Topic4\", \"Topic4\", \"Topic4\", \"Topic4\", \"Topic4\", \"Topic4\", \"Topic4\", \"Topic4\", \"Topic4\", \"Topic4\", \"Topic4\", \"Topic4\", \"Topic4\", \"Topic4\", \"Topic4\", \"Topic4\", \"Topic4\", \"Topic4\", \"Topic4\", \"Topic4\", \"Topic4\", \"Topic4\", \"Topic4\", \"Topic4\", \"Topic4\", \"Topic4\", \"Topic4\", \"Topic4\", \"Topic4\", \"Topic4\", \"Topic4\", \"Topic4\", \"Topic4\", \"Topic4\", \"Topic4\", \"Topic5\", \"Topic5\", \"Topic5\", \"Topic5\", \"Topic5\", \"Topic5\", \"Topic5\", \"Topic5\", \"Topic5\", \"Topic5\", \"Topic5\", \"Topic5\", \"Topic5\", \"Topic5\", \"Topic5\", \"Topic5\", \"Topic5\", \"Topic5\", \"Topic5\", \"Topic5\", \"Topic5\", \"Topic5\", \"Topic5\", \"Topic5\", \"Topic5\", \"Topic5\", \"Topic5\", \"Topic5\", \"Topic5\", \"Topic5\", \"Topic5\", \"Topic5\", \"Topic5\", \"Topic5\", \"Topic5\", \"Topic5\", \"Topic5\", \"Topic5\", \"Topic5\", \"Topic5\", \"Topic5\", \"Topic5\", \"Topic5\", \"Topic5\", \"Topic5\", \"Topic5\", \"Topic5\", \"Topic5\"], \"Freq\": [25.0, 13.0, 27.0, 41.0, 8.0, 12.0, 29.0, 7.0, 16.0, 5.0, 9.0, 6.0, 17.0, 5.0, 5.0, 8.0, 8.0, 6.0, 5.0, 8.0, 8.0, 8.0, 6.0, 6.0, 5.0, 11.0, 6.0, 5.0, 11.0, 11.0, 4.7613630294799805, 3.225332260131836, 3.225318193435669, 3.2244176864624023, 3.2239534854888916, 3.2235207557678223, 1.6894854307174683, 1.6894851922988892, 1.6894844770431519, 1.6894475221633911, 1.6894433498382568, 1.6891835927963257, 1.6891261339187622, 1.6890949010849, 1.6890872716903687, 1.6890801191329956, 1.689070224761963, 1.6889970302581787, 1.6890496015548706, 1.6889958381652832, 1.6890454292297363, 1.6890431642532349, 1.6890274286270142, 1.6889632940292358, 1.6889580488204956, 1.6890137195587158, 1.689008355140686, 1.6889986991882324, 1.6889413595199585, 1.6889961957931519, 9.370884895324707, 4.762040615081787, 3.2234578132629395, 3.225902557373047, 3.2248010635375977, 6.3023200035095215, 6.2984209060668945, 10.926204681396484, 4.763946056365967, 3.2308945655822754, 3.2269785404205322, 4.7688212394714355, 4.769070625305176, 3.227048397064209, 3.2276713848114014, 3.231677532196045, 1.6931926012039185, 1.6930972337722778, 1.6918503046035767, 1.691511631011963, 1.691453456878662, 1.691072702407837, 1.6907652616500854, 1.6902590990066528, 4.620669841766357, 4.620662212371826, 3.1301186084747314, 3.130113363265991, 2.3847849369049072, 2.3847830295562744, 2.384775400161743, 2.3847525119781494, 2.3847360610961914, 6.113295555114746, 1.6395686864852905, 1.6395680904388428, 1.6395670175552368, 1.6395665407180786, 1.6395665407180786, 1.6395665407180786, 1.6395658254623413, 1.6395654678344727, 1.6395622491836548, 1.6395622491836548, 1.6395622491836548, 1.6395612955093384, 1.6395615339279175, 1.6395608186721802, 1.6395630836486816, 1.6395601034164429, 1.639562726020813, 1.6395623683929443, 1.6395620107650757, 1.6395615339279175, 3.130786418914795, 3.130192518234253, 4.62135124206543, 3.1363699436187744, 3.13055682182312, 6.862035274505615, 3.129744052886963, 4.626150131225586, 9.8538818359375, 7.6041998863220215, 3.130690097808838, 3.1317992210388184, 3.130195379257202, 3.1307871341705322, 6.106881618499756, 2.3848037719726562, 2.3847732543945312, 3.1307220458984375, 3.131133556365967, 3.127389669418335, 3.1291298866271973, 2.385192394256592, 10.806150436401367, 10.805261611938477, 9.033727645874023, 7.264001846313477, 7.263001918792725, 7.2627153396606445, 7.262567520141602, 7.262537956237793, 5.4936203956604, 5.491767883300781, 5.491518974304199, 5.49119758605957, 5.491205215454102, 3.7246897220611572, 3.7229182720184326, 3.722864866256714, 3.722561836242676, 3.7211039066314697, 3.720658540725708, 3.7204983234405518, 3.7204482555389404, 3.7204434871673584, 3.720428943634033, 3.7203521728515625, 3.720332145690918, 3.7203187942504883, 3.7202606201171875, 3.720275402069092, 3.7202069759368896, 3.720217227935791, 23.22270393371582, 9.034696578979492, 9.035425186157227, 5.491871356964111, 12.581944465637207, 5.489760875701904, 5.490555763244629, 3.7225341796875, 4.5167059898376465, 2.3311867713928223, 2.3311853408813477, 2.3311851024627686, 2.3311848640441895, 2.3311638832092285, 2.3311638832092285, 2.331162929534912, 2.3292524814605713, 2.3292484283447266, 2.329162120819092, 2.32905650138855, 2.3290209770202637, 2.328878402709961, 1.6026723384857178, 1.6026723384857178, 1.6026723384857178, 1.6026719808578491, 1.6026716232299805, 1.600241780281067, 1.600182294845581, 1.600180745124817, 1.6001545190811157, 1.6000937223434448, 1.5998343229293823, 1.5996018648147583, 4.5158915519714355, 3.7875638008117676, 4.517819404602051, 3.786785840988159, 3.788947820663452, 4.517242908477783, 8.157733917236328, 7.427353858947754, 3.7908809185028076, 3.7855587005615234, 3.7868261337280273, 2.330141067504883, 2.331357955932617, 2.3296453952789307, 4.518872261047363, 6.7069830894470215, 3.7873942852020264, 3.055438995361328, 2.334092140197754, 2.3339085578918457, 2.332710027694702, 2.3326635360717773, 2.332467794418335, 2.33233904838562, 2.331559419631958, 2.331512689590454, 3.063725709915161, 3.0615124702453613, 3.0613558292388916, 2.334956645965576, 2.334951639175415, 2.3349483013153076, 2.3349428176879883, 2.334935426712036, 2.334904432296753, 1.6053324937820435, 1.6053307056427002, 1.6053290367126465, 1.604909062385559, 1.6048157215118408, 1.6039904356002808, 1.6039901971817017, 1.603735327720642, 1.603716254234314, 1.6036688089370728, 1.6036792993545532, 1.603649377822876, 1.6036463975906372, 1.6036266088485718, 1.6036198139190674, 1.6036274433135986, 1.6036189794540405, 1.603608250617981, 1.6036149263381958, 1.6036227941513062, 1.6035834550857544, 3.7935643196105957, 3.0629122257232666, 3.794501304626465, 6.71273946762085, 3.0623912811279297, 2.3348312377929688, 2.335366725921631, 3.065159559249878, 2.335716724395752, 3.063413381576538, 3.06081485748291, 2.3347666263580322, 2.334341049194336, 2.333979368209839, 2.3353347778320312, 2.335670232772827, 2.333434581756592, 1.6049277782440186], \"Term\": [\"diarrhea\", \"day\", \"hour\", \"eat\", \"p.m.\", \"cheese\", \"food\", \"friday\", \"feel\", \"wing\", \"stomach\", \"cramp\", \"vomit\", \"n\", \"tea\", \"chicken\", \"5\", \"fever\", \"croissant\", \"nausea\", \"symptom\", \"body\", \"sandwich\", \"bacon\", \"night\", \"2\", \"order\", \"chill\", \"management\", \"maintain\", \"croissant\", \"episode\", \"bar\", \"piece\", \"min\", \"guac\", \"throw\", \"yes\", \"bring\", \"15\", \"ill\", \"safe\", \"ham\", \"weak.this\", \"alley\", \"connected\", \"sat\", \"bit\", \"sausage.after\", \"avacado\", \"pirogi\", \"polish\", \"open\", \"salad\", \"restaurant\", \"stand.the\", \"10/20/2019\", \"cafe\", \"candy\", \"at.the\", \"day\", \"bacon\", \"thing\", \"egg\", \"steak\", \"cheese\", \"feel\", \"eat\", \"sick\", \"later\", \"hot\", \"diarrhea\", \"hour\", \"2\", \"vomit\", \"food\", \"4\", \"5\", \"door\", \"kitchen\", \"bad\", \"dinner\", \"stomach\", \"symptom\", \"n\", \"tea\", \"bloodshot\", \"eye\", \"11/18/19\", \"diahrea\", \"11/17/19\", \"multiple\", \"today\", \"p.m.\", \"abdominal\", \"drank\", \"suffocation\", \"invest\", \"pour\", \"red\", \"maybe\", \"sweet\", \"\\n                                                         \", \"tip\", \"consumption\", \"slice\", \"taquito\", \"rib\", \"9\", \"ate\", \"oxygen\", \"poor\", \"loss\", \"corner\", \"3\", \"cause\", \"nausea\", \"drink\", \"face\", \"vomit\", \"experience\", \"2\", \"eat\", \"hour\", \"sandwich\", \"severe\", \"vomiting\", \"1\", \"diarrhea\", \"pm\", \"wake\", \"symptom\", \"morning\", \"stomach\", \"cheese\", \"time\", \"management\", \"maintain\", \"38\", \"provide\", \"employee\", \"citation\", \"date\", \"foundation\", \"cook\", \"violation\", \"health\", \"priority\", \"water\", \"sausage\", \"chest\", \"like\", \"dish\", \"stand\", \"prevent\", \"prevention\", \"clean\", \"raw\", \"device\", \"ready\", \"gasket\", \"tear\", \"24\", \"chicago\", \"tcs\", \"005,no\", \"food\", \"7\", \"door\", \"kitchen\", \"eat\", \"sick\", \"hour\", \"pain\", \"wing\", \"work\", \"better\", \"evening\", \"thursday\", \"tater\", \"mother\", \"tot\", \"lay\", \"ocean\", \"finally\", \"perch\", \"couple\", \"probably\", \"jerk\", \"green\", \"collard\", \"violently\", \"mac\", \"sub\", \"constant\", \"restlessness\", \"provolone\", \"footlong\", \"headache\", \"spinach\", \"cramp\", \"chill\", \"friday\", \"order\", \"fever\", \"stomach\", \"hour\", \"diarrhea\", \"chicken\", \"5\", \"symptom\", \"come\", \"sunday\", \"dinner\", \"feel\", \"eat\", \"vomit\", \"cheese\", \"sick\", \"extreme\", \"nausea\", \"morning\", \"body\", \"saturday\", \"experience\", \"ache\", \"a.m.\", \"soon\", \"son\", \"monday\", \"rangoon\", \"fishy\", \"tuesday\", \"crab\", \"nov\", \"tuna\", \"subway\", \"ago\", \"currently\", \"11\", \"stony\", \"island\", \"ninja\", \"level\", \"reject\", \"turn\", \"lovely\", \"trade\", \"horror\", \"film\", \"visably\", \"daycare\", \"care\", \"thanksgiving\", \"lose\", \"parenting\", \"night\", \"meal\", \"body\", \"diarrhea\", \"sandwich\", \"taste\", \"watery\", \"wife\", \"bite\", \"5\", \"chicken\", \"ache\", \"fever\", \"friday\", \"saturday\", \"bad\", \"day\", \"extreme\"], \"Total\": [25.0, 13.0, 27.0, 41.0, 8.0, 12.0, 29.0, 7.0, 16.0, 5.0, 9.0, 6.0, 17.0, 5.0, 5.0, 8.0, 8.0, 6.0, 5.0, 8.0, 8.0, 8.0, 6.0, 6.0, 5.0, 11.0, 6.0, 5.0, 11.0, 11.0, 5.379452228546143, 3.8435065746307373, 3.843506336212158, 3.8435020446777344, 3.843467950820923, 3.8434553146362305, 2.307568311691284, 2.307568073272705, 2.307568311691284, 2.3075664043426514, 2.3075666427612305, 2.307616949081421, 2.307568311691284, 2.3076305389404297, 2.307631731033325, 2.3076324462890625, 2.307634115219116, 2.3075649738311768, 2.3076376914978027, 2.3075649738311768, 2.307638168334961, 2.30763840675354, 2.307640790939331, 2.3075637817382812, 2.3075637817382812, 2.307643175125122, 2.3076436519622803, 2.307645320892334, 2.307568073272705, 2.307645559310913, 13.667261123657227, 6.869990348815918, 5.303034782409668, 5.334033489227295, 5.334012508392334, 12.810715675354004, 16.292261123657227, 41.64302444458008, 12.884620666503906, 6.791359901428223, 7.390174865722656, 25.19478416442871, 27.625274658203125, 11.860738754272461, 17.425600051879883, 29.085315704345703, 3.764824867248535, 8.869277000427246, 11.174356460571289, 7.627582550048828, 8.455477714538574, 4.49314022064209, 9.659750938415527, 8.931221961975098, 5.24330997467041, 5.243310451507568, 3.752751111984253, 3.752751588821411, 3.0074782371520996, 3.007478713989258, 3.0074799060821533, 3.007483720779419, 3.007486581802368, 8.19333267211914, 2.262188673019409, 2.262190103530884, 2.262190103530884, 2.262190341949463, 2.262190341949463, 2.262190341949463, 2.262190580368042, 2.262190580368042, 2.2621872425079346, 2.2621877193450928, 2.2621877193450928, 2.2621872425079346, 2.2621874809265137, 2.2621877193450928, 2.262190818786621, 2.2621872425079346, 2.2621910572052, 2.2621910572052, 2.2621910572052, 2.2621912956237793, 5.212186336517334, 5.212343215942383, 8.88823127746582, 5.524877071380615, 5.525989055633545, 17.425600051879883, 5.938229560852051, 11.860738754272461, 41.64302444458008, 27.625274658203125, 6.671930313110352, 6.748085021972656, 6.9831647872924805, 7.062025547027588, 25.19478416442871, 4.543376922607422, 4.54338264465332, 8.931221961975098, 9.247111320495605, 9.659750938415527, 12.810715675354004, 6.966288089752197, 11.411726951599121, 11.411617279052734, 9.63819408416748, 7.865152835845947, 7.864969730377197, 7.864944934844971, 7.864908218383789, 7.864918231964111, 6.091954231262207, 6.091679573059082, 6.091614246368408, 6.091562747955322, 6.0915961265563965, 4.319003582000732, 4.318732738494873, 4.318723678588867, 4.318663120269775, 4.318445205688477, 4.318362712860107, 4.3183512687683105, 4.31833028793335, 4.318334102630615, 4.318319320678711, 4.3183159828186035, 4.318310737609863, 4.318316459655762, 4.318284511566162, 4.318315505981445, 4.318295001983643, 4.318308353424072, 29.085315704345703, 11.128880500793457, 11.174356460571289, 7.627582550048828, 41.64302444458008, 12.884620666503906, 27.625274658203125, 7.994749069213867, 5.142680644989014, 2.9571585655212402, 2.957158327102661, 2.9571585655212402, 2.9571585655212402, 2.957156181335449, 2.957156181335449, 2.957156181335449, 2.9572625160217285, 2.9572627544403076, 2.9572672843933105, 2.957273006439209, 2.957275152206421, 2.957282543182373, 2.228649139404297, 2.228649377822876, 2.228649377822876, 2.228649139404297, 2.228649139404297, 2.228780508041382, 2.2287838459014893, 2.2287838459014893, 2.228785514831543, 2.2287886142730713, 2.2288029193878174, 2.2288150787353516, 6.633274078369141, 5.904758453369141, 7.3318328857421875, 6.18755578994751, 6.603325843811035, 9.659750938415527, 27.625274658203125, 25.19478416442871, 8.869215965270996, 8.869277000427246, 8.931221961975098, 4.4168291091918945, 4.493120193481445, 4.49314022064209, 16.292261123657227, 41.64302444458008, 17.425600051879883, 12.810715675354004, 12.884620666503906, 5.907048225402832, 8.88823127746582, 9.247111320495605, 8.378876686096191, 7.3820953369140625, 5.938229560852051, 5.1463117599487305, 3.6905484199523926, 3.6908414363861084, 3.690857172012329, 2.9608216285705566, 2.9608211517333984, 2.9608213901519775, 2.9608211517333984, 2.9608216285705566, 2.9608216285705566, 2.231088399887085, 2.231088399887085, 2.231088399887085, 2.231091260910034, 2.231090784072876, 2.2313807010650635, 2.2313807010650635, 2.2312204837799072, 2.2312231063842773, 2.231241226196289, 2.23126220703125, 2.231248617172241, 2.231255531311035, 2.2312469482421875, 2.23124623298645, 2.2312605381011963, 2.2312562465667725, 2.231243133544922, 2.231260061264038, 2.2312769889831543, 2.231229782104492, 5.911077499389648, 5.226554870605469, 8.378876686096191, 25.19478416442871, 6.671930313110352, 4.451345920562744, 4.496700286865234, 7.649547576904297, 4.734134674072266, 8.869277000427246, 8.869215965270996, 5.1463117599487305, 6.603325843811035, 7.3318328857421875, 7.3820953369140625, 8.455477714538574, 13.667261123657227, 5.907048225402832], \"loglift\": [30.0, 29.0, 28.0, 27.0, 26.0, 25.0, 24.0, 23.0, 22.0, 21.0, 20.0, 19.0, 18.0, 17.0, 16.0, 15.0, 14.0, 13.0, 12.0, 11.0, 10.0, 9.0, 8.0, 7.0, 6.0, 5.0, 4.0, 3.0, 2.0, 1.0, 1.6460000276565552, 1.5927000045776367, 1.5927000045776367, 1.5923999547958374, 1.5923000574111938, 1.5921000242233276, 1.4563000202178955, 1.4563000202178955, 1.4563000202178955, 1.4562000036239624, 1.4562000036239624, 1.4560999870300293, 1.4559999704360962, 1.4559999704360962, 1.4559999704360962, 1.4559999704360962, 1.4559999704360962, 1.4559999704360962, 1.4559999704360962, 1.4559999704360962, 1.4559999704360962, 1.4559999704360962, 1.455899953842163, 1.455899953842163, 1.455899953842163, 1.455899953842163, 1.455899953842163, 1.455899953842163, 1.455899953842163, 1.455899953842163, 1.3905999660491943, 1.4014999866485596, 1.2702000141143799, 1.2651000022888184, 1.264799952507019, 1.0586999654769897, 0.8176000118255615, 0.4300999939441681, 0.7731000185012817, 1.0250999927520752, 0.9394000172615051, 0.10350000113248825, 0.01140000019222498, 0.46639999747276306, 0.08179999887943268, -0.4291999936103821, 0.9689000248908997, 0.1120000034570694, -0.11980000138282776, 0.26190000772476196, 0.15880000591278076, 0.7907999753952026, 0.025200000032782555, 0.10329999774694443, 1.7151999473571777, 1.7151999473571777, 1.6601999998092651, 1.6601999998092651, 1.6095999479293823, 1.6095999479293823, 1.6095999479293823, 1.6095999479293823, 1.6095999479293823, 1.548699975013733, 1.519700050354004, 1.519700050354004, 1.519700050354004, 1.519700050354004, 1.519700050354004, 1.519700050354004, 1.519700050354004, 1.519700050354004, 1.519700050354004, 1.519700050354004, 1.519700050354004, 1.519700050354004, 1.519700050354004, 1.519700050354004, 1.519700050354004, 1.519700050354004, 1.519700050354004, 1.519700050354004, 1.519700050354004, 1.519700050354004, 1.3319000005722046, 1.3315999507904053, 1.1875, 1.2754000425338745, 1.273300051689148, 0.909600019454956, 1.2010999917984009, 0.9000999927520752, 0.400299996137619, 0.5515999794006348, 1.0849000215530396, 1.0738999843597412, 1.039199948310852, 1.0281000137329102, 0.4244000017642975, 1.1970000267028809, 1.1970000267028809, 0.7932999730110168, 0.7587000131607056, 0.7138000130653381, 0.43209999799728394, 0.7698000073432922, 0.8885999917984009, 0.8885999917984009, 0.8784000277519226, 0.8636999726295471, 0.8634999990463257, 0.8634999990463257, 0.8634999990463257, 0.8634999990463257, 0.8398000001907349, 0.8395000100135803, 0.8395000100135803, 0.8393999934196472, 0.8393999934196472, 0.7950999736785889, 0.794700026512146, 0.794700026512146, 0.7946000099182129, 0.7943000197410583, 0.7942000031471252, 0.7942000031471252, 0.7940999865531921, 0.7940999865531921, 0.7940999865531921, 0.7940999865531921, 0.7940999865531921, 0.7940999865531921, 0.7940999865531921, 0.7940999865531921, 0.7940999865531921, 0.7940999865531921, 0.7181000113487244, 0.7347000241279602, 0.7307000160217285, 0.6147000193595886, -0.25369998812675476, 0.09000000357627869, -0.6725000143051147, 0.17880000174045563, 1.8205000162124634, 1.712399959564209, 1.712399959564209, 1.712399959564209, 1.712399959564209, 1.712399959564209, 1.712399959564209, 1.712399959564209, 1.7115000486373901, 1.7115000486373901, 1.7115000486373901, 1.711400032043457, 1.711400032043457, 1.711400032043457, 1.6204999685287476, 1.6204999685287476, 1.6204999685287476, 1.6204999685287476, 1.6204999685287476, 1.618899941444397, 1.618899941444397, 1.618899941444397, 1.618899941444397, 1.618899941444397, 1.6187000274658203, 1.618499994277954, 1.5657999515533447, 1.5061999559402466, 1.4660999774932861, 1.4592000246047974, 1.3947999477386475, 1.1901999711990356, 0.7304999828338623, 0.7287999987602234, 1.1002999544143677, 1.0987999439239502, 1.0922000408172607, 1.3107999563217163, 1.2941999435424805, 1.2934000492095947, 0.6678000092506409, 0.12430000305175781, 0.42399999499320984, 0.5169000029563904, 0.241799995303154, 1.0216000080108643, 0.6126000285148621, 0.5728999972343445, 0.671500027179718, 0.7980999946594238, 1.0154000520706177, 1.1584999561309814, 1.7862000465393066, 1.7854000329971313, 1.7853000164031982, 1.7347999811172485, 1.7347999811172485, 1.7347999811172485, 1.7347999811172485, 1.7347999811172485, 1.7347999811172485, 1.6432000398635864, 1.6432000398635864, 1.6432000398635864, 1.642899990081787, 1.642799973487854, 1.642199993133545, 1.642199993133545, 1.6420999765396118, 1.6420999765396118, 1.6420999765396118, 1.6419999599456787, 1.6419999599456787, 1.6419999599456787, 1.6419999599456787, 1.6419999599456787, 1.6419999599456787, 1.6419999599456787, 1.6419999599456787, 1.6419999599456787, 1.6419999599456787, 1.6419999599456787, 1.5288000106811523, 1.4378999471664429, 1.1801999807357788, 0.6496999859809875, 1.193600058555603, 1.3270000219345093, 1.3171000480651855, 1.057800054550171, 1.2657999992370605, 0.9093000292778015, 0.9083999991416931, 1.1819000244140625, 0.9325000047683716, 0.8277000188827515, 0.821399986743927, 0.6858000159263611, 0.20469999313354492, 0.6692000031471252], \"logprob\": [30.0, 29.0, 28.0, 27.0, 26.0, 25.0, 24.0, 23.0, 22.0, 21.0, 20.0, 19.0, 18.0, 17.0, 16.0, 15.0, 14.0, 13.0, 12.0, 11.0, 10.0, 9.0, 8.0, 7.0, 6.0, 5.0, 4.0, 3.0, 2.0, 1.0, -4.049200057983398, -4.438700199127197, -4.438700199127197, -4.439000129699707, -4.4390997886657715, -4.439300060272217, -5.085299968719482, -5.085299968719482, -5.085299968719482, -5.085299968719482, -5.085299968719482, -5.0854997634887695, -5.0854997634887695, -5.0854997634887695, -5.085599899291992, -5.085599899291992, -5.085599899291992, -5.085599899291992, -5.085599899291992, -5.085599899291992, -5.085599899291992, -5.085599899291992, -5.085599899291992, -5.085599899291992, -5.085599899291992, -5.085599899291992, -5.085599899291992, -5.085599899291992, -5.085599899291992, -5.085599899291992, -3.3721001148223877, -4.049099922180176, -4.439300060272217, -4.438499927520752, -4.438899993896484, -3.7688000202178955, -3.769399881362915, -3.218600034713745, -4.048699855804443, -4.436999797821045, -4.438199996948242, -4.047599792480469, -4.047599792480469, -4.438199996948242, -4.438000202178955, -4.436699867248535, -5.083099842071533, -5.083199977874756, -5.083899974822998, -5.084099769592285, -5.084199905395508, -5.084400177001953, -5.08459997177124, -5.08489990234375, -4.0055999755859375, -4.0055999755859375, -4.395100116729736, -4.395100116729736, -4.667099952697754, -4.667099952697754, -4.667099952697754, -4.667099952697754, -4.667099952697754, -3.7256999015808105, -5.0416998863220215, -5.0416998863220215, -5.0416998863220215, -5.0416998863220215, -5.0416998863220215, -5.0416998863220215, -5.0416998863220215, -5.0416998863220215, -5.0416998863220215, -5.0416998863220215, -5.0416998863220215, -5.0416998863220215, -5.0416998863220215, -5.0416998863220215, -5.0416998863220215, -5.0416998863220215, -5.0416998863220215, -5.0416998863220215, -5.0416998863220215, -5.0416998863220215, -4.394899845123291, -4.395100116729736, -4.005499839782715, -4.393099784851074, -4.394999980926514, -3.6101999282836914, -4.395199775695801, -4.004499912261963, -3.248300075531006, -3.507499933242798, -4.394899845123291, -4.394599914550781, -4.395100116729736, -4.394899845123291, -3.726799964904785, -4.667099952697754, -4.667099952697754, -4.394899845123291, -4.394800186157227, -4.395999908447266, -4.395400047302246, -4.666900157928467, -4.054500102996826, -4.054599761962891, -4.23360013961792, -4.451700210571289, -4.4517998695373535, -4.4517998695373535, -4.451900005340576, -4.451900005340576, -4.730999946594238, -4.731299877166748, -4.731400012969971, -4.731400012969971, -4.731400012969971, -5.11959981918335, -5.120100021362305, -5.120100021362305, -5.120200157165527, -5.12060022354126, -5.120699882507324, -5.120699882507324, -5.120699882507324, -5.120699882507324, -5.120699882507324, -5.120800018310547, -5.120800018310547, -5.120800018310547, -5.120800018310547, -5.120800018310547, -5.120800018310547, -5.120800018310547, -3.2894999980926514, -4.233500003814697, -4.233399868011475, -4.731299877166748, -3.9022998809814453, -4.7316999435424805, -4.731599807739258, -5.120200157165527, -3.9196999073028564, -4.581099987030029, -4.581099987030029, -4.581099987030029, -4.581099987030029, -4.581099987030029, -4.581099987030029, -4.581099987030029, -4.581999778747559, -4.581999778747559, -4.581999778747559, -4.581999778747559, -4.582099914550781, -4.582099914550781, -4.9558000564575195, -4.9558000564575195, -4.9558000564575195, -4.9558000564575195, -4.9558000564575195, -4.957399845123291, -4.957399845123291, -4.957399845123291, -4.957399845123291, -4.957399845123291, -4.957600116729736, -4.957799911499023, -3.9198999404907227, -4.095799922943115, -3.9195001125335693, -4.0960001945495605, -4.095399856567383, -3.919600009918213, -3.3285000324249268, -3.422300100326538, -4.094900131225586, -4.09630012512207, -4.0960001945495605, -4.581600189208984, -4.581099987030029, -4.5817999839782715, -3.9191999435424805, -3.524399995803833, -4.095799922943115, -4.3105998039245605, -4.579899787902832, -4.579999923706055, -4.58050012588501, -4.58050012588501, -4.580599784851074, -4.580599784851074, -4.580999851226807, -4.580999851226807, -4.285799980163574, -4.286499977111816, -4.286600112915039, -4.557499885559082, -4.557499885559082, -4.557499885559082, -4.557499885559082, -4.557499885559082, -4.557499885559082, -4.93209981918335, -4.93209981918335, -4.93209981918335, -4.932400226593018, -4.932400226593018, -4.9328999519348145, -4.9328999519348145, -4.93310022354126, -4.93310022354126, -4.933199882507324, -4.93310022354126, -4.933199882507324, -4.933199882507324, -4.933199882507324, -4.933199882507324, -4.933199882507324, -4.933199882507324, -4.933199882507324, -4.933199882507324, -4.933199882507324, -4.933199882507324, -4.0721001625061035, -4.286099910736084, -4.071899890899658, -3.5013999938964844, -4.286200046539307, -4.557499885559082, -4.557300090789795, -4.285299777984619, -4.55709981918335, -4.285900115966797, -4.286799907684326, -4.557499885559082, -4.557700157165527, -4.5578999519348145, -4.557300090789795, -4.55709981918335, -4.55810022354126, -4.932400226593018]}, \"token.table\": {\"Topic\": [2, 3, 1, 2, 3, 1, 5, 2, 2, 1, 1, 2, 3, 3, 2, 5, 3, 1, 4, 1, 4, 5, 2, 3, 2, 5, 2, 4, 5, 5, 1, 1, 2, 1, 1, 2, 1, 3, 4, 5, 1, 4, 1, 3, 5, 2, 3, 4, 5, 1, 1, 1, 5, 2, 5, 1, 2, 4, 3, 3, 1, 4, 5, 2, 4, 3, 3, 4, 4, 5, 1, 4, 2, 3, 2, 4, 5, 2, 4, 1, 5, 3, 1, 2, 5, 5, 3, 2, 1, 2, 4, 5, 1, 4, 3, 1, 3, 2, 2, 3, 1, 2, 3, 4, 5, 1, 2, 3, 1, 4, 2, 4, 2, 4, 5, 2, 2, 3, 1, 3, 4, 5, 4, 5, 5, 4, 5, 1, 3, 4, 4, 3, 4, 5, 3, 4, 1, 1, 4, 3, 5, 1, 3, 1, 2, 3, 4, 5, 1, 2, 5, 4, 1, 3, 1, 2, 4, 4, 5, 3, 5, 2, 5, 4, 3, 3, 2, 1, 5, 1, 5, 1, 2, 3, 4, 4, 2, 2, 2, 4, 5, 2, 5, 5, 5, 4, 1, 3, 4, 2, 2, 5, 2, 3, 4, 5, 4, 1, 1, 1, 2, 1, 2, 2, 3, 3, 3, 4, 3, 4, 5, 3, 3, 2, 5, 1, 4, 2, 1, 1, 2, 5, 1, 2, 4, 5, 3, 1, 1, 2, 5, 1, 3, 4, 2, 5, 5, 4, 3, 1, 1, 2, 1, 2, 4, 5, 4, 5, 2, 1, 4, 2, 1, 2, 4, 2, 2, 5, 4, 3, 2, 3, 5, 1, 5, 1, 4, 2, 3, 4, 2, 2, 4, 5, 5, 5, 5, 3, 4, 5, 1, 2, 3, 4, 5, 2, 3, 4, 1, 2, 3, 1, 5, 1, 3, 4, 5, 4, 4, 1], \"Freq\": [0.8841001391410828, 0.9262886643409729, 0.2832048535346985, 0.4248073101043701, 0.2832048535346985, 0.8666849136352539, 0.8964225053787231, 0.6650086045265198, 0.6650089621543884, 0.8667139410972595, 0.25293534994125366, 0.4215588867664337, 0.3372471332550049, 0.9262937903404236, 0.5755742192268372, 0.3837161362171173, 0.9337849020957947, 0.5312331914901733, 0.5312331914901733, 0.2254975289106369, 0.4509950578212738, 0.33824628591537476, 0.17971259355545044, 0.8087067008018494, 0.8840987086296082, 0.8128873109817505, 0.884099543094635, 0.388627827167511, 0.388627827167511, 0.8964234590530396, 0.8666894435882568, 0.8666841983795166, 0.8841001391410828, 0.8667144775390625, 0.7278030514717102, 0.2911212146282196, 0.236533060669899, 0.236533060669899, 0.236533060669899, 0.236533060669899, 0.7805373072624207, 0.6763249635696411, 0.8667144775390625, 0.42246368527412415, 0.42246368527412415, 0.7994135022163391, 0.23869548738002777, 0.23869548738002777, 0.47739097476005554, 0.8667132258415222, 0.8666843175888062, 0.8667133450508118, 0.8963612914085388, 0.5755568742752075, 0.3837045729160309, 0.4683579206466675, 0.23417896032333374, 0.23417896032333374, 0.9261976480484009, 0.9262871146202087, 0.22549907863140106, 0.4509981572628021, 0.338248610496521, 0.33870986104011536, 0.6774197220802307, 0.8900253176689148, 0.9262839555740356, 0.8974044919013977, 0.4528135359287262, 0.4528135359287262, 0.866689145565033, 0.8973503708839417, 0.8840999007225037, 0.8207547068595886, 0.8840985298156738, 0.6762982606887817, 0.6754881739616394, 0.3015102446079254, 0.7537755966186523, 0.9294626712799072, 0.8964223265647888, 0.8900294303894043, 0.6585079431533813, 0.14633509516716003, 0.14633509516716003, 0.8963560461997986, 0.9262862801551819, 0.6650088429450989, 0.19845376908779144, 0.23814453184604645, 0.27783527970314026, 0.27783527970314026, 0.44512298703193665, 0.44512298703193665, 0.9262125492095947, 0.1789812296628952, 0.8054155111312866, 0.884099006652832, 0.5429984927177429, 0.3619990050792694, 0.26414987444877625, 0.2401362508535385, 0.3121771216392517, 0.16809538006782532, 0.04802725091576576, 0.5624261498451233, 0.3749507665634155, 0.8900225162506104, 0.7805372476577759, 0.6763249039649963, 0.5052011013031006, 0.3368007242679596, 0.33857858180999756, 0.33857858180999756, 0.33857858180999756, 0.7994134426116943, 0.5428892374038696, 0.3619261682033539, 0.3682730197906494, 0.24551533162593842, 0.3068941831588745, 0.12275766581296921, 0.6057553291320801, 0.30287766456604004, 0.8963600397109985, 0.676300048828125, 0.6754882335662842, 0.10314483195543289, 0.7907770276069641, 0.06876321882009506, 0.8973484635353088, 0.8900282979011536, 0.6819577217102051, 0.272783100605011, 0.9262881278991699, 0.8974044919013977, 0.7805476188659668, 0.8667132258415222, 0.8973426818847656, 0.8208004832267761, 0.8963597416877747, 0.4059443771839142, 0.5412591695785522, 0.1809936761856079, 0.28958988189697266, 0.1809936761856079, 0.28958988189697266, 0.07239747047424316, 0.8667138814926147, 0.8840988874435425, 0.896306037902832, 0.8974046111106873, 0.2622062861919403, 0.6555156707763672, 0.44173774123191833, 0.29449182748794556, 0.29449182748794556, 0.676301121711731, 0.8963693380355835, 0.9261995553970337, 0.89634770154953, 0.8840986490249634, 0.8963590860366821, 0.8974046111106873, 0.9639299511909485, 0.9639207124710083, 0.8840988278388977, 0.38266125321388245, 0.5739918947219849, 0.7805450558662415, 0.6754881739616394, 0.21628375351428986, 0.3244256377220154, 0.21628375351428986, 0.21628375351428986, 0.6763254404067993, 0.6650077700614929, 0.9535961151123047, 0.5625416040420532, 0.22501665353775024, 0.22501665353775024, 0.33834779262542725, 0.6766955852508545, 0.8963704109191895, 0.6754881739616394, 0.6763010621070862, 0.8666859865188599, 0.3232294023036957, 0.6464588046073914, 0.8840986490249634, 0.732302725315094, 0.2441009134054184, 0.2501642107963562, 0.5003284215927124, 0.2501642107963562, 0.8963666558265686, 0.6762987375259399, 0.7805381417274475, 0.866686999797821, 0.44020119309425354, 0.44020119309425354, 0.8666868805885315, 0.8840986490249634, 0.8840988874435425, 0.9262769818305969, 0.9262794256210327, 0.8208074569702148, 0.6762965321540833, 0.8900017738342285, 0.8973497152328491, 0.675488293170929, 0.9262831211090088, 0.9262869954109192, 0.8840988874435425, 0.8963620662689209, 0.8667149543762207, 0.8973503708839417, 0.8840999007225037, 0.866694986820221, 0.8667149543762207, 0.4496449828147888, 0.4496449828147888, 0.8666885495185852, 0.2709257900714874, 0.2709257900714874, 0.2709257900714874, 0.9261395335197449, 0.8666871786117554, 0.2963803708553314, 0.4445705711841583, 0.2963803708553314, 0.3880595564842224, 0.3880595564842224, 0.1552238166332245, 0.8841001391410828, 0.8128193020820618, 0.8128227591514587, 0.897337794303894, 0.9262592792510986, 0.8666850924491882, 0.56242835521698, 0.3749522566795349, 0.20704467594623566, 0.3105670213699341, 0.5176116824150085, 0.896306037902832, 0.8973516821861267, 0.8964234590530396, 0.884099006652832, 0.4451249837875366, 0.4451249837875366, 0.8840988278388977, 0.22393351793289185, 0.33590027689933777, 0.4478670358657837, 0.8841000199317932, 0.4493023157119751, 0.4493023157119751, 0.6763254404067993, 0.9262915253639221, 0.9535959959030151, 0.9262869358062744, 0.8963544964790344, 0.5657138228416443, 0.3771425485610962, 0.8667132258415222, 0.6763249039649963, 0.28709694743156433, 0.28709694743156433, 0.28709694743156433, 0.8840999007225037, 0.6650071144104004, 0.6763254404067993, 0.8963563442230225, 0.675488293170929, 0.8964234590530396, 0.8963536620140076, 0.8207917213439941, 0.8974046111106873, 0.8963543176651001, 0.17216050624847412, 0.40170782804489136, 0.11477366834878922, 0.22954733669757843, 0.11477366834878922, 0.4296046495437622, 0.286403089761734, 0.286403089761734, 0.44020065665245056, 0.44020065665245056, 0.8208029270172119, 0.44477057456970215, 0.44477057456970215, 0.8666898608207703, 0.2614533603191376, 0.2614533603191376, 0.39218005537986755, 0.9722555875778198, 0.6763249039649963, 0.8667133450508118], \"Term\": [\"\\n                                                         \", \"005,no\", \"1\", \"1\", \"1\", \"10/20/2019\", \"11\", \"11/17/19\", \"11/18/19\", \"15\", \"2\", \"2\", \"2\", \"24\", \"3\", \"3\", \"38\", \"4\", \"4\", \"5\", \"5\", \"5\", \"7\", \"7\", \"9\", \"a.m.\", \"abdominal\", \"ache\", \"ache\", \"ago\", \"alley\", \"at.the\", \"ate\", \"avacado\", \"bacon\", \"bacon\", \"bad\", \"bad\", \"bad\", \"bad\", \"bar\", \"better\", \"bit\", \"bite\", \"bite\", \"bloodshot\", \"body\", \"body\", \"body\", \"bring\", \"cafe\", \"candy\", \"care\", \"cause\", \"cause\", \"cheese\", \"cheese\", \"cheese\", \"chest\", \"chicago\", \"chicken\", \"chicken\", \"chicken\", \"chill\", \"chill\", \"citation\", \"clean\", \"collard\", \"come\", \"come\", \"connected\", \"constant\", \"consumption\", \"cook\", \"corner\", \"couple\", \"crab\", \"cramp\", \"cramp\", \"croissant\", \"currently\", \"date\", \"day\", \"day\", \"day\", \"daycare\", \"device\", \"diahrea\", \"diarrhea\", \"diarrhea\", \"diarrhea\", \"diarrhea\", \"dinner\", \"dinner\", \"dish\", \"door\", \"door\", \"drank\", \"drink\", \"drink\", \"eat\", \"eat\", \"eat\", \"eat\", \"eat\", \"egg\", \"egg\", \"employee\", \"episode\", \"evening\", \"experience\", \"experience\", \"extreme\", \"extreme\", \"extreme\", \"eye\", \"face\", \"face\", \"feel\", \"feel\", \"feel\", \"feel\", \"fever\", \"fever\", \"film\", \"finally\", \"fishy\", \"food\", \"food\", \"food\", \"footlong\", \"foundation\", \"friday\", \"friday\", \"gasket\", \"green\", \"guac\", \"ham\", \"headache\", \"health\", \"horror\", \"hot\", \"hot\", \"hour\", \"hour\", \"hour\", \"hour\", \"hour\", \"ill\", \"invest\", \"island\", \"jerk\", \"kitchen\", \"kitchen\", \"later\", \"later\", \"later\", \"lay\", \"level\", \"like\", \"lose\", \"loss\", \"lovely\", \"mac\", \"maintain\", \"management\", \"maybe\", \"meal\", \"meal\", \"min\", \"monday\", \"morning\", \"morning\", \"morning\", \"morning\", \"mother\", \"multiple\", \"n\", \"nausea\", \"nausea\", \"nausea\", \"night\", \"night\", \"ninja\", \"nov\", \"ocean\", \"open\", \"order\", \"order\", \"oxygen\", \"p.m.\", \"p.m.\", \"pain\", \"pain\", \"pain\", \"parenting\", \"perch\", \"piece\", \"pirogi\", \"pm\", \"pm\", \"polish\", \"poor\", \"pour\", \"prevent\", \"prevention\", \"priority\", \"probably\", \"provide\", \"provolone\", \"rangoon\", \"raw\", \"ready\", \"red\", \"reject\", \"restaurant\", \"restlessness\", \"rib\", \"safe\", \"salad\", \"sandwich\", \"sandwich\", \"sat\", \"saturday\", \"saturday\", \"saturday\", \"sausage\", \"sausage.after\", \"severe\", \"severe\", \"severe\", \"sick\", \"sick\", \"sick\", \"slice\", \"son\", \"soon\", \"spinach\", \"stand\", \"stand.the\", \"steak\", \"steak\", \"stomach\", \"stomach\", \"stomach\", \"stony\", \"sub\", \"subway\", \"suffocation\", \"sunday\", \"sunday\", \"sweet\", \"symptom\", \"symptom\", \"symptom\", \"taquito\", \"taste\", \"taste\", \"tater\", \"tcs\", \"tea\", \"tear\", \"thanksgiving\", \"thing\", \"thing\", \"throw\", \"thursday\", \"time\", \"time\", \"time\", \"tip\", \"today\", \"tot\", \"trade\", \"tuesday\", \"tuna\", \"turn\", \"violation\", \"violently\", \"visably\", \"vomit\", \"vomit\", \"vomit\", \"vomit\", \"vomit\", \"vomiting\", \"vomiting\", \"vomiting\", \"wake\", \"wake\", \"water\", \"watery\", \"watery\", \"weak.this\", \"wife\", \"wife\", \"wife\", \"wing\", \"work\", \"yes\"]}, \"R\": 30, \"lambda.step\": 0.01, \"plot.opts\": {\"xlab\": \"PC1\", \"ylab\": \"PC2\"}, \"topic.order\": [1, 2, 3, 4, 5]};\n",
       "\n",
       "function LDAvis_load_lib(url, callback){\n",
       "  var s = document.createElement('script');\n",
       "  s.src = url;\n",
       "  s.async = true;\n",
       "  s.onreadystatechange = s.onload = callback;\n",
       "  s.onerror = function(){console.warn(\"failed to load library \" + url);};\n",
       "  document.getElementsByTagName(\"head\")[0].appendChild(s);\n",
       "}\n",
       "\n",
       "if(typeof(LDAvis) !== \"undefined\"){\n",
       "   // already loaded: just create the visualization\n",
       "   !function(LDAvis){\n",
       "       new LDAvis(\"#\" + \"ldavis_el429111125408185124516679152\", ldavis_el429111125408185124516679152_data);\n",
       "   }(LDAvis);\n",
       "}else if(typeof define === \"function\" && define.amd){\n",
       "   // require.js is available: use it to load d3/LDAvis\n",
       "   require.config({paths: {d3: \"https://cdnjs.cloudflare.com/ajax/libs/d3/3.5.5/d3.min\"}});\n",
       "   require([\"d3\"], function(d3){\n",
       "      window.d3 = d3;\n",
       "      LDAvis_load_lib(\"https://cdn.rawgit.com/bmabey/pyLDAvis/files/ldavis.v1.0.0.js\", function(){\n",
       "        new LDAvis(\"#\" + \"ldavis_el429111125408185124516679152\", ldavis_el429111125408185124516679152_data);\n",
       "      });\n",
       "    });\n",
       "}else{\n",
       "    // require.js not available: dynamically load d3 & LDAvis\n",
       "    LDAvis_load_lib(\"https://cdnjs.cloudflare.com/ajax/libs/d3/3.5.5/d3.min.js\", function(){\n",
       "         LDAvis_load_lib(\"https://cdn.rawgit.com/bmabey/pyLDAvis/files/ldavis.v1.0.0.js\", function(){\n",
       "                 new LDAvis(\"#\" + \"ldavis_el429111125408185124516679152\", ldavis_el429111125408185124516679152_data);\n",
       "            })\n",
       "         });\n",
       "}\n",
       "</script>"
      ],
      "text/plain": [
       "<IPython.core.display.HTML object>"
      ]
     },
     "execution_count": 86,
     "metadata": {},
     "output_type": "execute_result"
    }
   ],
   "source": [
    "#plot topics\n",
    "\n",
    "dictionary = gensim.corpora.Dictionary.load('dictionary.gensim')\n",
    "corpus = pickle.load(open('corpus.pkl', 'rb'))\n",
    "lda = gensim.models.ldamodel.LdaModel.load('model5.gensim')\n",
    "lda_display = pyLDAvis.gensim.prepare(lda, corpus, dictionary, sort_topics = False)\n",
    "\n",
    "pyLDAvis.display(lda_display)"
   ]
  },
  {
   "cell_type": "markdown",
   "metadata": {},
   "source": [
    "Lexicon :\n",
    "Lexicon gives us categories of subjects that include lists of related words. We could use this to identify words from a certain topic. For example, we could identify all food related words to identify which types of food have been causing food poisoning. Also, we will investigate on the medical related terms to know more about the symptoms."
   ]
  },
  {
   "cell_type": "code",
   "execution_count": 87,
   "metadata": {},
   "outputs": [],
   "source": [
    "lexicon = Empath()"
   ]
  },
  {
   "cell_type": "markdown",
   "metadata": {},
   "source": [
    "We will now take count the occurences of words in the reports."
   ]
  },
  {
   "cell_type": "code",
   "execution_count": 90,
   "metadata": {},
   "outputs": [],
   "source": [
    "list_text = []\n",
    "\n",
    "# join all words from the lists to create a text\n",
    "\n",
    "for sentence in df_complaints_.new_list_of_words:\n",
    "    list_text.append(' '.join(sentence))\n",
    "text = ' '.join(list_text)\n",
    "\n",
    "# count frequencies of each word\n",
    "freq = reduce( lambda d, c: d.update([(c, d.get(c,0)+1)]) or d, text.split(), {})"
   ]
  },
  {
   "cell_type": "code",
   "execution_count": 97,
   "metadata": {},
   "outputs": [],
   "source": [
    "def make_freq_graph(text):\n",
    "    \n",
    "    # get data directory (using getcwd() is needed to support running example in generated IPython notebook)\n",
    "    d = path.dirname(__file__) if \"__file__\" in locals() else os.getcwd()\n",
    "\n",
    "    # read the mask image taken from https://www.canstockphoto.com/chicago-city-map-63451119.html\n",
    "    chicago_image = np.array(Image.open(path.join(d, \"data/istockphoto-908943762-1024x1024.png\")))\n",
    "\n",
    "    # word cloud\n",
    "    wc = WordCloud(\n",
    "        background_color=\"white\", \n",
    "        max_words=2000, \n",
    "        mask= chicago_image,\n",
    "        contour_width=3, \n",
    "        contour_color='steelblue'\n",
    "    )\n",
    "    \n",
    "    # generate word cloud\n",
    "    wc.generate(text)\n",
    "\n",
    "\n",
    "    # show\n",
    "    fig = plt.figure()\n",
    "    \n",
    "    figure(num=None, figsize=(8, 6), dpi=80, facecolor='w', edgecolor='k')\n",
    "    plt.imshow(wc, interpolation='bilinear')\n",
    "    plt.axis(\"off\")\n",
    "    plt.figure()\n",
    "    plt.axis(\"off\")\n",
    "    plt.show()\n"
   ]
  },
  {
   "cell_type": "code",
   "execution_count": 98,
   "metadata": {},
   "outputs": [
    {
     "data": {
      "text/plain": [
       "<Figure size 432x288 with 0 Axes>"
      ]
     },
     "metadata": {},
     "output_type": "display_data"
    },
    {
     "data": {
      "image/png": "[encoded data removed]",
      "text/plain": [
       "<Figure size 640x480 with 1 Axes>"
      ]
     },
     "metadata": {},
     "output_type": "display_data"
    },
    {
     "data": {
      "image/png": "[encoded data removed]",
      "text/plain": [
       "<Figure size 432x288 with 1 Axes>"
      ]
     },
     "metadata": {},
     "output_type": "display_data"
    }
   ],
   "source": [
    "# display image\n",
    "image_array = make_freq_graph(text)"
   ]
  },
  {
   "cell_type": "markdown",
   "metadata": {},
   "source": [
    "The bigger the word, the more frequent it is in the reports of food poisoning "
   ]
  },
  {
   "cell_type": "markdown",
   "metadata": {},
   "source": [
    "## 6.2  Plotting word frequencies per topic and geography"
   ]
  },
  {
   "cell_type": "markdown",
   "metadata": {},
   "source": [
    "### 6.2.1 Plotting most frequent words per zip : "
   ]
  },
  {
   "cell_type": "markdown",
   "metadata": {},
   "source": [
    "Let's create a dataframe with all words occurences for each zip code."
   ]
  },
  {
   "cell_type": "code",
   "execution_count": 99,
   "metadata": {},
   "outputs": [],
   "source": [
    "# count amount of zip codes in groupby\n",
    "DF_complaints = df_complaints_.groupby('zip').agg(sum)\n",
    "\n",
    "# reset index\n",
    "DF_complaints.reset_index(inplace = True)\n",
    "\n",
    "# delete column\n",
    "del DF_complaints['list_of_words']\n",
    "\n",
    "# creation of the dataframce\n",
    "rows = []\n",
    "_ = DF_complaints.apply(lambda row: [rows.append([row['zip'], nn]) \n",
    "                         for nn in row.new_list_of_words], axis = 1)\n",
    "df_new = pd.DataFrame(rows, columns = DF_complaints.columns).set_index(['zip'])"
   ]
  },
  {
   "cell_type": "code",
   "execution_count": 100,
   "metadata": {},
   "outputs": [
    {
     "data": {
      "text/html": [
       "<div>\n",
       "<style scoped>\n",
       "    .dataframe tbody tr th:only-of-type {\n",
       "        vertical-align: middle;\n",
       "    }\n",
       "\n",
       "    .dataframe tbody tr th {\n",
       "        vertical-align: top;\n",
       "    }\n",
       "\n",
       "    .dataframe thead th {\n",
       "        text-align: right;\n",
       "    }\n",
       "</style>\n",
       "<table border=\"1\" class=\"dataframe\">\n",
       "  <thead>\n",
       "    <tr style=\"text-align: right;\">\n",
       "      <th></th>\n",
       "      <th>new_list_of_words</th>\n",
       "    </tr>\n",
       "    <tr>\n",
       "      <th>zip</th>\n",
       "      <th></th>\n",
       "    </tr>\n",
       "  </thead>\n",
       "  <tbody>\n",
       "    <tr>\n",
       "      <th>60601.0</th>\n",
       "      <td>steak</td>\n",
       "    </tr>\n",
       "    <tr>\n",
       "      <th>60601.0</th>\n",
       "      <td>burrito</td>\n",
       "    </tr>\n",
       "    <tr>\n",
       "      <th>60601.0</th>\n",
       "      <td>black</td>\n",
       "    </tr>\n",
       "    <tr>\n",
       "      <th>60601.0</th>\n",
       "      <td>bean</td>\n",
       "    </tr>\n",
       "    <tr>\n",
       "      <th>60601.0</th>\n",
       "      <td>brown</td>\n",
       "    </tr>\n",
       "  </tbody>\n",
       "</table>\n",
       "</div>"
      ],
      "text/plain": [
       "        new_list_of_words\n",
       "zip                      \n",
       "60601.0             steak\n",
       "60601.0           burrito\n",
       "60601.0             black\n",
       "60601.0              bean\n",
       "60601.0             brown"
      ]
     },
     "execution_count": 100,
     "metadata": {},
     "output_type": "execute_result"
    }
   ],
   "source": [
    "df_new.head()"
   ]
  },
  {
   "cell_type": "code",
   "execution_count": 101,
   "metadata": {},
   "outputs": [
    {
     "data": {
      "text/html": [
       "<div>\n",
       "<style scoped>\n",
       "    .dataframe tbody tr th:only-of-type {\n",
       "        vertical-align: middle;\n",
       "    }\n",
       "\n",
       "    .dataframe tbody tr th {\n",
       "        vertical-align: top;\n",
       "    }\n",
       "\n",
       "    .dataframe thead th {\n",
       "        text-align: right;\n",
       "    }\n",
       "</style>\n",
       "<table border=\"1\" class=\"dataframe\">\n",
       "  <thead>\n",
       "    <tr style=\"text-align: right;\">\n",
       "      <th></th>\n",
       "      <th>zip</th>\n",
       "      <th>list_of_words</th>\n",
       "      <th>new_list_of_words</th>\n",
       "      <th>text</th>\n",
       "    </tr>\n",
       "  </thead>\n",
       "  <tbody>\n",
       "    <tr>\n",
       "      <th>0</th>\n",
       "      <td>60653.0</td>\n",
       "      <td>[   , order, ocean, perch, dinner, couple, hou...</td>\n",
       "      <td>[order, ocean, perch, dinner, couple, hour, ea...</td>\n",
       "      <td>order ocean perch dinner couple hour eat stoma...</td>\n",
       "    </tr>\n",
       "    <tr>\n",
       "      <th>1</th>\n",
       "      <td>60616.0</td>\n",
       "      <td>[   , chicken, wing, eat, wing, thursday, even...</td>\n",
       "      <td>[chicken, wing, eat, wing, thursday, evening, ...</td>\n",
       "      <td>chicken wing eat wing thursday evening feel si...</td>\n",
       "    </tr>\n",
       "    <tr>\n",
       "      <th>2</th>\n",
       "      <td>60647.0</td>\n",
       "      <td>[   , turkey, footlong, sub, provolone, cheese...</td>\n",
       "      <td>[turkey, footlong, sub, provolone, cheese, spi...</td>\n",
       "      <td>turkey footlong sub provolone cheese spinach v...</td>\n",
       "    </tr>\n",
       "    <tr>\n",
       "      <th>3</th>\n",
       "      <td>60616.0</td>\n",
       "      <td>[   , crab, rangoon, bite, taste, fishy, satur...</td>\n",
       "      <td>[crab, rangoon, bite, taste, fishy, saturday, ...</td>\n",
       "      <td>crab rangoon bite taste fishy saturday nov fev...</td>\n",
       "    </tr>\n",
       "    <tr>\n",
       "      <th>4</th>\n",
       "      <td>60656.0</td>\n",
       "      <td>[   , eat, chinese, food, -PRON-, initially, c...</td>\n",
       "      <td>[eat, chinese, food, initially, chest, pain, f...</td>\n",
       "      <td>eat chinese food initially chest pain feel lik...</td>\n",
       "    </tr>\n",
       "  </tbody>\n",
       "</table>\n",
       "</div>"
      ],
      "text/plain": [
       "       zip                                      list_of_words  \\\n",
       "0  60653.0  [   , order, ocean, perch, dinner, couple, hou...   \n",
       "1  60616.0  [   , chicken, wing, eat, wing, thursday, even...   \n",
       "2  60647.0  [   , turkey, footlong, sub, provolone, cheese...   \n",
       "3  60616.0  [   , crab, rangoon, bite, taste, fishy, satur...   \n",
       "4  60656.0  [   , eat, chinese, food, -PRON-, initially, c...   \n",
       "\n",
       "                                   new_list_of_words  \\\n",
       "0  [order, ocean, perch, dinner, couple, hour, ea...   \n",
       "1  [chicken, wing, eat, wing, thursday, evening, ...   \n",
       "2  [turkey, footlong, sub, provolone, cheese, spi...   \n",
       "3  [crab, rangoon, bite, taste, fishy, saturday, ...   \n",
       "4  [eat, chinese, food, initially, chest, pain, f...   \n",
       "\n",
       "                                                text  \n",
       "0  order ocean perch dinner couple hour eat stoma...  \n",
       "1  chicken wing eat wing thursday evening feel si...  \n",
       "2  turkey footlong sub provolone cheese spinach v...  \n",
       "3  crab rangoon bite taste fishy saturday nov fev...  \n",
       "4  eat chinese food initially chest pain feel lik...  "
      ]
     },
     "execution_count": 101,
     "metadata": {},
     "output_type": "execute_result"
    }
   ],
   "source": [
    "# reset index\n",
    "df_new.reset_index(inplace = True)\n",
    "\n",
    "# counting occurences\n",
    "df_new = df_new.groupby(df_new.columns.tolist()).size().\\\n",
    "    rename(columns={0:'records'})\n",
    "\n",
    "# reset index\n",
    "df_new = df_new.reset_index()\n",
    "\n",
    "# defining columns\n",
    "df_new.columns = ['zip', 'words','counts']\n",
    "\n",
    "# joining all words in the list from column 'new_list_of_words'\n",
    "Text = []\n",
    "for i in range(df_complaints_.shape[0]):\n",
    "    Text.append( ' '.join(df_complaints_.new_list_of_words.values[i]))\n",
    "\n",
    "# create new column\n",
    "df_complaints_['text'] = Text\n",
    "\n",
    "df_complaints_.head()"
   ]
  },
  {
   "cell_type": "code",
   "execution_count": 102,
   "metadata": {},
   "outputs": [],
   "source": [
    "# join all texts\n",
    "Text = ' '.join(df_complaints_.text.values)\n",
    "split_it = Text.split() \n",
    "\n",
    "# Pass the split_it list to instance of Counter class. \n",
    "Counter = Counter(split_it) \n",
    "\n",
    "# most_common() produces k frequently encountered \n",
    "most_occur = Counter.most_common(50) "
   ]
  },
  {
   "cell_type": "code",
   "execution_count": 103,
   "metadata": {},
   "outputs": [],
   "source": [
    "# only take the word and not it's frequency\n",
    "most_occur_words = [x[0] for x in most_occur] "
   ]
  },
  {
   "cell_type": "code",
   "execution_count": 112,
   "metadata": {},
   "outputs": [
    {
     "name": "stdout",
     "output_type": "stream",
     "text": [
      "50 most frequent terms with respect to the zip code\n"
     ]
    },
    {
     "data": {
      "image/png": "[encoded data removed]",
      "text/plain": [
       "<Figure size 791.975x720 with 1 Axes>"
      ]
     },
     "metadata": {},
     "output_type": "display_data"
    }
   ],
   "source": [
    "# dataframe with only the 50 most occuring words\n",
    "df_new2 = df_new.loc[df_new.words.isin(most_occur_words) ]\n",
    "\n",
    "sns.set(style = \"white\")\n",
    "\n",
    "# Plot\n",
    "sns.relplot(\n",
    "    x = \"zip\", \n",
    "    y = \"words\", \n",
    "    size = \"counts\",\n",
    "    sizes = (4, 1000), \n",
    "    alpha = .5, \n",
    "    palette = \"muted\",\n",
    "    height = 10, \n",
    "    data = df_new2\n",
    ")\n",
    "print( '50 most frequent terms with respect to the zip code')"
   ]
  },
  {
   "cell_type": "markdown",
   "metadata": {},
   "source": [
    "This plot gives us the 50 most frequent words and their occurences per zip code. "
   ]
  },
  {
   "cell_type": "markdown",
   "metadata": {},
   "source": [
    "### 6.2.2  Words in a certain category per distance to the sea "
   ]
  },
  {
   "cell_type": "markdown",
   "metadata": {},
   "source": [
    "The proximity to the sea has been proven to be correlated with the food poisoning due to Ecoli infections. We will see which terms appear with respect to the distance to the sea of the concerned facility."
   ]
  },
  {
   "cell_type": "markdown",
   "metadata": {},
   "source": [
    "> The categories of interest are :\n",
    "    - Medical Emergencies\n",
    "    - Types of Food"
   ]
  },
  {
   "cell_type": "code",
   "execution_count": 105,
   "metadata": {},
   "outputs": [],
   "source": [
    "# new list\n",
    "Medical_Emergency = []\n",
    "for w in df_new.words:\n",
    "    \n",
    "    # if a word is in the categories related to health\n",
    "    if (w in lexicon.cats['medical_emergency'])or(w in lexicon.cats['health'])or(w in lexicon.cats['suffering'])or(w in lexicon.cats['pain']):\n",
    "        \n",
    "        # add to list\n",
    "        Medical_Emergency.append(w)\n",
    "\n",
    "        # drop duplicates\n",
    "Medical_Emergency = list(dict.fromkeys(Medical_Emergency))\n",
    "\n",
    "Food = []\n",
    "for w in df_new.words:\n",
    "    \n",
    "    # if the word is in a category related to food\n",
    "    if (w in lexicon.cats['cooking']) or (w in lexicon.cats['eating']):\n",
    "        \n",
    "        # add to list\n",
    "        Food.append(w)\n",
    "        \n",
    "# drop duplicates\n",
    "Food = list(dict.fromkeys(Food))"
   ]
  },
  {
   "cell_type": "code",
   "execution_count": 108,
   "metadata": {},
   "outputs": [],
   "source": [
    "# import distance to sea csv file\n",
    "dist_sea_zip = pd.read_csv('data/Distance_sea_zip.csv')"
   ]
  },
  {
   "cell_type": "code",
   "execution_count": 109,
   "metadata": {},
   "outputs": [],
   "source": [
    "def relplot_df(df):\n",
    "    \n",
    "    fig = plt.figure()\n",
    "    \n",
    "    sns.set(style=\"white\")\n",
    "    \n",
    "    # plotting\n",
    "    sns_plot = sns.relplot(x=\"distance_to_sea\", y=\"words\", size=\"counts\",\n",
    "            sizes=(40, 400), alpha=.5, palette=\"muted\",\n",
    "            height=6, data=df)\n"
   ]
  },
  {
   "cell_type": "markdown",
   "metadata": {},
   "source": [
    "Medical Emergency plot:"
   ]
  },
  {
   "cell_type": "code",
   "execution_count": 110,
   "metadata": {},
   "outputs": [
    {
     "name": "stdout",
     "output_type": "stream",
     "text": [
      " Most frequent health related terms with respect to the distance to the sea\n"
     ]
    },
    {
     "data": {
      "text/plain": [
       "<Figure size 432x288 with 0 Axes>"
      ]
     },
     "metadata": {},
     "output_type": "display_data"
    },
    {
     "data": {
      "image/png": "[encoded data removed]",
      "text/plain": [
       "<Figure size 503.975x432 with 1 Axes>"
      ]
     },
     "metadata": {},
     "output_type": "display_data"
    }
   ],
   "source": [
    "# find words that are in the list of medical emergency terms\n",
    "df_emergency = df_new.loc[df_new.words.isin(Medical_Emergency) ]\n",
    "\n",
    "# merge with distance to sea\n",
    "df_emergency = pd.merge(df_emergency, dist_sea_zip, on='zip', how='outer')\n",
    "\n",
    "# drop nan\n",
    "df_emergency = df_emergency.dropna()\n",
    "\n",
    "# round the distance to sea\n",
    "df_emergency['distance_to_sea']= round(df_emergency['distance_to_sea'])\n",
    "\n",
    "# plot\n",
    "relplot_df(df_emergency)\n",
    "print(' Most frequent health related terms with respect to the distance to the sea')"
   ]
  },
  {
   "cell_type": "markdown",
   "metadata": {},
   "source": [
    "Types of food plot : "
   ]
  },
  {
   "cell_type": "code",
   "execution_count": 111,
   "metadata": {},
   "outputs": [
    {
     "name": "stdout",
     "output_type": "stream",
     "text": [
      " Most frequent food related terms with respect to the distance to the sea\n"
     ]
    },
    {
     "data": {
      "text/plain": [
       "<Figure size 432x288 with 0 Axes>"
      ]
     },
     "metadata": {},
     "output_type": "display_data"
    },
    {
     "data": {
      "image/png": "[encoded data removed]",
      "text/plain": [
       "<Figure size 503.975x432 with 1 Axes>"
      ]
     },
     "metadata": {},
     "output_type": "display_data"
    }
   ],
   "source": [
    "# find words that are in the list of food terms\n",
    "df_food = df_new.loc[df_new.words.isin(Food) ]\n",
    "\n",
    "# merge with distance to sea\n",
    "df_food = pd.merge(df_food, dist_sea_zip, on='zip', how='outer')\n",
    "\n",
    "# drop nan\n",
    "df_food =df_food.dropna()\n",
    "\n",
    "# round the distance to sea\n",
    "df_food['distance_to_sea']= round(df_food['distance_to_sea'])\n",
    "\n",
    "# plot\n",
    "relplot_df(df_food)\n",
    "print(' Most frequent food related terms with respect to the distance to the sea')"
   ]
  },
  {
   "cell_type": "markdown",
   "metadata": {},
   "source": [
    "These two graphs show that overall, there are more occurences that happen near the sea which implies that food poisoning is most important near the sea (perhaps because of Ecoli). Meat related terms in particular are more frequent near the sea, which confirms our hypothesis on Ecoli infections because they are mainly caused by uncooked meat."
   ]
  },
  {
   "cell_type": "markdown",
   "metadata": {},
   "source": [
    "# 7- Applied marching learning "
   ]
  },
  {
   "cell_type": "markdown",
   "metadata": {},
   "source": [
    "In this section, we will train and test a machine learning model that can predict food poisoning cases. This will alert Chicago health care department about these restaurants that might promote the spread of food-borne illness with high risk of poisoning for the population. The features will mainly include: The list of violations committed during an inspection, the location (zip code),  and the risk factor of the restaurant."
   ]
  },
  {
   "cell_type": "markdown",
   "metadata": {},
   "source": [
    "> Since the variable that we want to predict is categorical (discrete), we will use a classification method. The classifiers that we select are Random forest and Gradient Boosted Trees."
   ]
  },
  {
   "cell_type": "code",
   "execution_count": 2,
   "metadata": {},
   "outputs": [],
   "source": [
    "# labels\n",
    "class_names = ['No Food Poisoning', 'Food Poisoning']\n",
    "np.set_printoptions(precision = 2)"
   ]
  },
  {
   "cell_type": "markdown",
   "metadata": {},
   "source": [
    "## 7.1 Data extraction"
   ]
  },
  {
   "cell_type": "code",
   "execution_count": 5,
   "metadata": {},
   "outputs": [
    {
     "name": "stdout",
     "output_type": "stream",
     "text": [
      "\n",
      "\u001b[1m Violations per inspection (binary value representation) \u001b[0m\n",
      "None\n"
     ]
    },
    {
     "data": {
      "text/html": [
       "<div>\n",
       "<style scoped>\n",
       "    .dataframe tbody tr th:only-of-type {\n",
       "        vertical-align: middle;\n",
       "    }\n",
       "\n",
       "    .dataframe tbody tr th {\n",
       "        vertical-align: top;\n",
       "    }\n",
       "\n",
       "    .dataframe thead th {\n",
       "        text-align: right;\n",
       "    }\n",
       "</style>\n",
       "<table border=\"1\" class=\"dataframe\">\n",
       "  <thead>\n",
       "    <tr style=\"text-align: right;\">\n",
       "      <th></th>\n",
       "      <th>Unnamed: 0</th>\n",
       "      <th>#1</th>\n",
       "      <th>#2</th>\n",
       "      <th>#3</th>\n",
       "      <th>#4</th>\n",
       "      <th>#5</th>\n",
       "      <th>#6</th>\n",
       "      <th>#7</th>\n",
       "      <th>#8</th>\n",
       "      <th>#9</th>\n",
       "      <th>...</th>\n",
       "      <th>#42</th>\n",
       "      <th>#43</th>\n",
       "      <th>#44</th>\n",
       "      <th>#70</th>\n",
       "      <th>inspection_id</th>\n",
       "      <th>license</th>\n",
       "      <th>inspection_type</th>\n",
       "      <th>zip</th>\n",
       "      <th>risk</th>\n",
       "      <th>results</th>\n",
       "    </tr>\n",
       "  </thead>\n",
       "  <tbody>\n",
       "    <tr>\n",
       "      <th>0</th>\n",
       "      <td>0</td>\n",
       "      <td>0.0</td>\n",
       "      <td>0.0</td>\n",
       "      <td>0.0</td>\n",
       "      <td>0.0</td>\n",
       "      <td>0.0</td>\n",
       "      <td>0.0</td>\n",
       "      <td>0.0</td>\n",
       "      <td>0.0</td>\n",
       "      <td>0.0</td>\n",
       "      <td>...</td>\n",
       "      <td>0.0</td>\n",
       "      <td>0.0</td>\n",
       "      <td>0.0</td>\n",
       "      <td>0.0</td>\n",
       "      <td>2346127</td>\n",
       "      <td>2637127.0</td>\n",
       "      <td>Canvass Re-Inspection</td>\n",
       "      <td>60630.0</td>\n",
       "      <td>Risk 1 (High)</td>\n",
       "      <td>Pass</td>\n",
       "    </tr>\n",
       "    <tr>\n",
       "      <th>1</th>\n",
       "      <td>1</td>\n",
       "      <td>0.0</td>\n",
       "      <td>0.0</td>\n",
       "      <td>1.0</td>\n",
       "      <td>0.0</td>\n",
       "      <td>1.0</td>\n",
       "      <td>0.0</td>\n",
       "      <td>0.0</td>\n",
       "      <td>0.0</td>\n",
       "      <td>0.0</td>\n",
       "      <td>...</td>\n",
       "      <td>0.0</td>\n",
       "      <td>0.0</td>\n",
       "      <td>0.0</td>\n",
       "      <td>0.0</td>\n",
       "      <td>2346126</td>\n",
       "      <td>2432147.0</td>\n",
       "      <td>Canvass Re-Inspection</td>\n",
       "      <td>60632.0</td>\n",
       "      <td>Risk 2 (Medium)</td>\n",
       "      <td>Pass w/ Conditions</td>\n",
       "    </tr>\n",
       "    <tr>\n",
       "      <th>2</th>\n",
       "      <td>2</td>\n",
       "      <td>0.0</td>\n",
       "      <td>0.0</td>\n",
       "      <td>1.0</td>\n",
       "      <td>0.0</td>\n",
       "      <td>0.0</td>\n",
       "      <td>0.0</td>\n",
       "      <td>0.0</td>\n",
       "      <td>0.0</td>\n",
       "      <td>0.0</td>\n",
       "      <td>...</td>\n",
       "      <td>0.0</td>\n",
       "      <td>0.0</td>\n",
       "      <td>0.0</td>\n",
       "      <td>0.0</td>\n",
       "      <td>2346149</td>\n",
       "      <td>2215652.0</td>\n",
       "      <td>Canvass</td>\n",
       "      <td>60652.0</td>\n",
       "      <td>Risk 1 (High)</td>\n",
       "      <td>Fail</td>\n",
       "    </tr>\n",
       "  </tbody>\n",
       "</table>\n",
       "<p>3 rows × 52 columns</p>\n",
       "</div>"
      ],
      "text/plain": [
       "   Unnamed: 0   #1   #2   #3   #4   #5   #6   #7   #8   #9  ...  #42  #43  \\\n",
       "0           0  0.0  0.0  0.0  0.0  0.0  0.0  0.0  0.0  0.0  ...  0.0  0.0   \n",
       "1           1  0.0  0.0  1.0  0.0  1.0  0.0  0.0  0.0  0.0  ...  0.0  0.0   \n",
       "2           2  0.0  0.0  1.0  0.0  0.0  0.0  0.0  0.0  0.0  ...  0.0  0.0   \n",
       "\n",
       "   #44  #70  inspection_id    license        inspection_type      zip  \\\n",
       "0  0.0  0.0        2346127  2637127.0  Canvass Re-Inspection  60630.0   \n",
       "1  0.0  0.0        2346126  2432147.0  Canvass Re-Inspection  60632.0   \n",
       "2  0.0  0.0        2346149  2215652.0                Canvass  60652.0   \n",
       "\n",
       "              risk             results  \n",
       "0    Risk 1 (High)                Pass  \n",
       "1  Risk 2 (Medium)  Pass w/ Conditions  \n",
       "2    Risk 1 (High)                Fail  \n",
       "\n",
       "[3 rows x 52 columns]"
      ]
     },
     "metadata": {},
     "output_type": "display_data"
    },
    {
     "name": "stdout",
     "output_type": "stream",
     "text": [
      "\n",
      "\u001b[1m Number of critical ,serious and minor count per inspection \u001b[0m\n",
      "None\n"
     ]
    },
    {
     "data": {
      "text/html": [
       "<div>\n",
       "<style scoped>\n",
       "    .dataframe tbody tr th:only-of-type {\n",
       "        vertical-align: middle;\n",
       "    }\n",
       "\n",
       "    .dataframe tbody tr th {\n",
       "        vertical-align: top;\n",
       "    }\n",
       "\n",
       "    .dataframe thead th {\n",
       "        text-align: right;\n",
       "    }\n",
       "</style>\n",
       "<table border=\"1\" class=\"dataframe\">\n",
       "  <thead>\n",
       "    <tr style=\"text-align: right;\">\n",
       "      <th></th>\n",
       "      <th>Unnamed: 0</th>\n",
       "      <th>inspection_id</th>\n",
       "      <th>dba_name</th>\n",
       "      <th>aka_name</th>\n",
       "      <th>license</th>\n",
       "      <th>facility_type</th>\n",
       "      <th>risk</th>\n",
       "      <th>address</th>\n",
       "      <th>zip</th>\n",
       "      <th>inspection_date</th>\n",
       "      <th>inspection_type</th>\n",
       "      <th>results</th>\n",
       "      <th>violations</th>\n",
       "      <th>latitude</th>\n",
       "      <th>longitude</th>\n",
       "      <th>location</th>\n",
       "      <th>critical_count</th>\n",
       "      <th>serious_count</th>\n",
       "      <th>minor_count</th>\n",
       "      <th>violations_count</th>\n",
       "    </tr>\n",
       "  </thead>\n",
       "  <tbody>\n",
       "    <tr>\n",
       "      <th>0</th>\n",
       "      <td>0</td>\n",
       "      <td>2346127</td>\n",
       "      <td>CREPE HOUSE CAFE</td>\n",
       "      <td>CREPE HOUSE CAFE</td>\n",
       "      <td>2637127.0</td>\n",
       "      <td>Restaurant</td>\n",
       "      <td>Risk 1 (High)</td>\n",
       "      <td>5033 N ELSTON AVE</td>\n",
       "      <td>60630.0</td>\n",
       "      <td>2019-11-22</td>\n",
       "      <td>Canvass Re-Inspection</td>\n",
       "      <td>Pass</td>\n",
       "      <td>0</td>\n",
       "      <td>41.972349</td>\n",
       "      <td>-87.746825</td>\n",
       "      <td>{'latitude': '-87.74682508578468', 'longitude'...</td>\n",
       "      <td>0.000000</td>\n",
       "      <td>0.0</td>\n",
       "      <td>0.000000</td>\n",
       "      <td>0.0</td>\n",
       "    </tr>\n",
       "    <tr>\n",
       "      <th>1</th>\n",
       "      <td>1</td>\n",
       "      <td>2346126</td>\n",
       "      <td>LEANS NUTRITION CLUB</td>\n",
       "      <td>LEANS NUTRITION CLUB</td>\n",
       "      <td>2432147.0</td>\n",
       "      <td>Restaurant</td>\n",
       "      <td>Risk 2 (Medium)</td>\n",
       "      <td>5302 S PULASKI RD</td>\n",
       "      <td>60632.0</td>\n",
       "      <td>2019-11-22</td>\n",
       "      <td>Canvass Re-Inspection</td>\n",
       "      <td>Pass w/ Conditions</td>\n",
       "      <td>3. MANAGEMENT, FOOD EMPLOYEE AND CONDITIONAL E...</td>\n",
       "      <td>41.796699</td>\n",
       "      <td>-87.723408</td>\n",
       "      <td>{'latitude': '-87.72340756196249', 'longitude'...</td>\n",
       "      <td>1.000000</td>\n",
       "      <td>0.0</td>\n",
       "      <td>0.000000</td>\n",
       "      <td>2.0</td>\n",
       "    </tr>\n",
       "    <tr>\n",
       "      <th>2</th>\n",
       "      <td>2</td>\n",
       "      <td>2346149</td>\n",
       "      <td>PINKS CHILD CARE ACADEMY  II</td>\n",
       "      <td>PINK'S CHILD CARE ACADEMY  II</td>\n",
       "      <td>2215652.0</td>\n",
       "      <td>Daycare Combo 1586</td>\n",
       "      <td>Risk 1 (High)</td>\n",
       "      <td>8000 S KEDZIE AVE</td>\n",
       "      <td>60652.0</td>\n",
       "      <td>2019-11-22</td>\n",
       "      <td>Canvass</td>\n",
       "      <td>Fail</td>\n",
       "      <td>3. MANAGEMENT, FOOD EMPLOYEE AND CONDITIONAL E...</td>\n",
       "      <td>41.747934</td>\n",
       "      <td>-87.702489</td>\n",
       "      <td>{'latitude': '-87.70248876124471', 'longitude'...</td>\n",
       "      <td>0.666667</td>\n",
       "      <td>0.0</td>\n",
       "      <td>0.333333</td>\n",
       "      <td>3.0</td>\n",
       "    </tr>\n",
       "  </tbody>\n",
       "</table>\n",
       "</div>"
      ],
      "text/plain": [
       "   Unnamed: 0  inspection_id                      dba_name  \\\n",
       "0           0        2346127              CREPE HOUSE CAFE   \n",
       "1           1        2346126          LEANS NUTRITION CLUB   \n",
       "2           2        2346149  PINKS CHILD CARE ACADEMY  II   \n",
       "\n",
       "                        aka_name    license       facility_type  \\\n",
       "0               CREPE HOUSE CAFE  2637127.0          Restaurant   \n",
       "1           LEANS NUTRITION CLUB  2432147.0          Restaurant   \n",
       "2  PINK'S CHILD CARE ACADEMY  II  2215652.0  Daycare Combo 1586   \n",
       "\n",
       "              risk             address      zip inspection_date  \\\n",
       "0    Risk 1 (High)  5033 N ELSTON AVE   60630.0      2019-11-22   \n",
       "1  Risk 2 (Medium)  5302 S PULASKI RD   60632.0      2019-11-22   \n",
       "2    Risk 1 (High)  8000 S KEDZIE AVE   60652.0      2019-11-22   \n",
       "\n",
       "         inspection_type             results  \\\n",
       "0  Canvass Re-Inspection                Pass   \n",
       "1  Canvass Re-Inspection  Pass w/ Conditions   \n",
       "2                Canvass                Fail   \n",
       "\n",
       "                                          violations   latitude  longitude  \\\n",
       "0                                                  0  41.972349 -87.746825   \n",
       "1  3. MANAGEMENT, FOOD EMPLOYEE AND CONDITIONAL E...  41.796699 -87.723408   \n",
       "2  3. MANAGEMENT, FOOD EMPLOYEE AND CONDITIONAL E...  41.747934 -87.702489   \n",
       "\n",
       "                                            location  critical_count  \\\n",
       "0  {'latitude': '-87.74682508578468', 'longitude'...        0.000000   \n",
       "1  {'latitude': '-87.72340756196249', 'longitude'...        1.000000   \n",
       "2  {'latitude': '-87.70248876124471', 'longitude'...        0.666667   \n",
       "\n",
       "   serious_count  minor_count  violations_count  \n",
       "0            0.0     0.000000               0.0  \n",
       "1            0.0     0.000000               2.0  \n",
       "2            0.0     0.333333               3.0  "
      ]
     },
     "metadata": {},
     "output_type": "display_data"
    }
   ],
   "source": [
    "# read from saved csv\n",
    "violations_dataframe01 = pd.read_csv('data/violations_binary_representation.csv')\n",
    "violations_dataframe02 = pd.read_csv('data/violations_type_count.csv')\n",
    "\n",
    "print(print('\\n\\033[1m Violations per inspection (binary value representation) \\033[0m'))\n",
    "display(violations_dataframe01.head(3))\n",
    "\n",
    "print(print('\\n\\033[1m Number of critical ,serious and minor count per inspection \\033[0m'))\n",
    "display(violations_dataframe02.head(3))"
   ]
  },
  {
   "cell_type": "markdown",
   "metadata": {},
   "source": [
    "- **df_New**: In order to be able to train the model effectively, we need to take into consideration the time property of our initial dataset: indeed, each restaurant will face many inspections throughout the years, and the inspections are thus ordered in time. Hence, our model needs to take into account the time property of the dataset. This will be enabled by first ordering the inspections in the dataset (from first to last inspections).\n",
    "\n",
    "> We will add the inspection date to each of the inspections, recorded with their separate violations, by merging both 'violations_dataframe' (for the separate violations) and 'violations_dataframe02' (for the inspection dates). Since both dataframes contains the inspection_id, which is unique for each inspection, we can merge by 'inspection_id'."
   ]
  },
  {
   "cell_type": "code",
   "execution_count": 6,
   "metadata": {},
   "outputs": [
    {
     "data": {
      "text/html": [
       "<div>\n",
       "<style scoped>\n",
       "    .dataframe tbody tr th:only-of-type {\n",
       "        vertical-align: middle;\n",
       "    }\n",
       "\n",
       "    .dataframe tbody tr th {\n",
       "        vertical-align: top;\n",
       "    }\n",
       "\n",
       "    .dataframe thead th {\n",
       "        text-align: right;\n",
       "    }\n",
       "</style>\n",
       "<table border=\"1\" class=\"dataframe\">\n",
       "  <thead>\n",
       "    <tr style=\"text-align: right;\">\n",
       "      <th></th>\n",
       "      <th>inspection_id</th>\n",
       "      <th>inspection_date</th>\n",
       "    </tr>\n",
       "  </thead>\n",
       "  <tbody>\n",
       "    <tr>\n",
       "      <th>0</th>\n",
       "      <td>2346127</td>\n",
       "      <td>2019-11-22</td>\n",
       "    </tr>\n",
       "    <tr>\n",
       "      <th>1</th>\n",
       "      <td>2346126</td>\n",
       "      <td>2019-11-22</td>\n",
       "    </tr>\n",
       "  </tbody>\n",
       "</table>\n",
       "</div>"
      ],
      "text/plain": [
       "   inspection_id inspection_date\n",
       "0        2346127      2019-11-22\n",
       "1        2346126      2019-11-22"
      ]
     },
     "execution_count": 6,
     "metadata": {},
     "output_type": "execute_result"
    }
   ],
   "source": [
    "# Extract the date of inspection\n",
    "df2 = violations_dataframe02[[\"inspection_id\",'inspection_date']]\n",
    "df2.head(2)"
   ]
  },
  {
   "cell_type": "code",
   "execution_count": 7,
   "metadata": {},
   "outputs": [
    {
     "data": {
      "text/html": [
       "<div>\n",
       "<style scoped>\n",
       "    .dataframe tbody tr th:only-of-type {\n",
       "        vertical-align: middle;\n",
       "    }\n",
       "\n",
       "    .dataframe tbody tr th {\n",
       "        vertical-align: top;\n",
       "    }\n",
       "\n",
       "    .dataframe thead th {\n",
       "        text-align: right;\n",
       "    }\n",
       "</style>\n",
       "<table border=\"1\" class=\"dataframe\">\n",
       "  <thead>\n",
       "    <tr style=\"text-align: right;\">\n",
       "      <th></th>\n",
       "      <th>inspection_id</th>\n",
       "      <th>inspection_date</th>\n",
       "      <th>Unnamed: 0</th>\n",
       "      <th>#1</th>\n",
       "      <th>#2</th>\n",
       "      <th>#3</th>\n",
       "      <th>#4</th>\n",
       "      <th>#5</th>\n",
       "      <th>#6</th>\n",
       "      <th>#7</th>\n",
       "      <th>...</th>\n",
       "      <th>#41</th>\n",
       "      <th>#42</th>\n",
       "      <th>#43</th>\n",
       "      <th>#44</th>\n",
       "      <th>#70</th>\n",
       "      <th>license</th>\n",
       "      <th>inspection_type</th>\n",
       "      <th>zip</th>\n",
       "      <th>risk</th>\n",
       "      <th>results</th>\n",
       "    </tr>\n",
       "  </thead>\n",
       "  <tbody>\n",
       "    <tr>\n",
       "      <th>0</th>\n",
       "      <td>2346127</td>\n",
       "      <td>2019-11-22</td>\n",
       "      <td>0</td>\n",
       "      <td>0.0</td>\n",
       "      <td>0.0</td>\n",
       "      <td>0.0</td>\n",
       "      <td>0.0</td>\n",
       "      <td>0.0</td>\n",
       "      <td>0.0</td>\n",
       "      <td>0.0</td>\n",
       "      <td>...</td>\n",
       "      <td>0.0</td>\n",
       "      <td>0.0</td>\n",
       "      <td>0.0</td>\n",
       "      <td>0.0</td>\n",
       "      <td>0.0</td>\n",
       "      <td>2637127.0</td>\n",
       "      <td>Canvass Re-Inspection</td>\n",
       "      <td>60630.0</td>\n",
       "      <td>Risk 1 (High)</td>\n",
       "      <td>Pass</td>\n",
       "    </tr>\n",
       "    <tr>\n",
       "      <th>1</th>\n",
       "      <td>2346126</td>\n",
       "      <td>2019-11-22</td>\n",
       "      <td>1</td>\n",
       "      <td>0.0</td>\n",
       "      <td>0.0</td>\n",
       "      <td>1.0</td>\n",
       "      <td>0.0</td>\n",
       "      <td>1.0</td>\n",
       "      <td>0.0</td>\n",
       "      <td>0.0</td>\n",
       "      <td>...</td>\n",
       "      <td>0.0</td>\n",
       "      <td>0.0</td>\n",
       "      <td>0.0</td>\n",
       "      <td>0.0</td>\n",
       "      <td>0.0</td>\n",
       "      <td>2432147.0</td>\n",
       "      <td>Canvass Re-Inspection</td>\n",
       "      <td>60632.0</td>\n",
       "      <td>Risk 2 (Medium)</td>\n",
       "      <td>Pass w/ Conditions</td>\n",
       "    </tr>\n",
       "  </tbody>\n",
       "</table>\n",
       "<p>2 rows × 53 columns</p>\n",
       "</div>"
      ],
      "text/plain": [
       "   inspection_id inspection_date  Unnamed: 0   #1   #2   #3   #4   #5   #6  \\\n",
       "0        2346127      2019-11-22           0  0.0  0.0  0.0  0.0  0.0  0.0   \n",
       "1        2346126      2019-11-22           1  0.0  0.0  1.0  0.0  1.0  0.0   \n",
       "\n",
       "    #7  ...  #41  #42  #43  #44  #70    license        inspection_type  \\\n",
       "0  0.0  ...  0.0  0.0  0.0  0.0  0.0  2637127.0  Canvass Re-Inspection   \n",
       "1  0.0  ...  0.0  0.0  0.0  0.0  0.0  2432147.0  Canvass Re-Inspection   \n",
       "\n",
       "       zip             risk             results  \n",
       "0  60630.0    Risk 1 (High)                Pass  \n",
       "1  60632.0  Risk 2 (Medium)  Pass w/ Conditions  \n",
       "\n",
       "[2 rows x 53 columns]"
      ]
     },
     "execution_count": 7,
     "metadata": {},
     "output_type": "execute_result"
    }
   ],
   "source": [
    "# Merge on inspection_id\n",
    "df_New = pd.merge(df2, violations_dataframe01, left_index=True, right_index=True, how='outer', on='inspection_id')\n",
    "df_New.head(2)"
   ]
  },
  {
   "cell_type": "code",
   "execution_count": 8,
   "metadata": {},
   "outputs": [
    {
     "data": {
      "text/html": [
       "<div>\n",
       "<style scoped>\n",
       "    .dataframe tbody tr th:only-of-type {\n",
       "        vertical-align: middle;\n",
       "    }\n",
       "\n",
       "    .dataframe tbody tr th {\n",
       "        vertical-align: top;\n",
       "    }\n",
       "\n",
       "    .dataframe thead th {\n",
       "        text-align: right;\n",
       "    }\n",
       "</style>\n",
       "<table border=\"1\" class=\"dataframe\">\n",
       "  <thead>\n",
       "    <tr style=\"text-align: right;\">\n",
       "      <th></th>\n",
       "      <th>inspection_id</th>\n",
       "      <th>inspection_date</th>\n",
       "      <th>Unnamed: 0</th>\n",
       "      <th>#1</th>\n",
       "      <th>#2</th>\n",
       "      <th>#3</th>\n",
       "      <th>#4</th>\n",
       "      <th>#5</th>\n",
       "      <th>#6</th>\n",
       "      <th>#7</th>\n",
       "      <th>...</th>\n",
       "      <th>#41</th>\n",
       "      <th>#42</th>\n",
       "      <th>#43</th>\n",
       "      <th>#44</th>\n",
       "      <th>#70</th>\n",
       "      <th>license</th>\n",
       "      <th>inspection_type</th>\n",
       "      <th>zip</th>\n",
       "      <th>risk</th>\n",
       "      <th>results</th>\n",
       "    </tr>\n",
       "  </thead>\n",
       "  <tbody>\n",
       "    <tr>\n",
       "      <th>134276</th>\n",
       "      <td>104236</td>\n",
       "      <td>2010-01-04</td>\n",
       "      <td>134276</td>\n",
       "      <td>0.0</td>\n",
       "      <td>0.0</td>\n",
       "      <td>0.0</td>\n",
       "      <td>0.0</td>\n",
       "      <td>0.0</td>\n",
       "      <td>0.0</td>\n",
       "      <td>0.0</td>\n",
       "      <td>...</td>\n",
       "      <td>1.0</td>\n",
       "      <td>0.0</td>\n",
       "      <td>0.0</td>\n",
       "      <td>0.0</td>\n",
       "      <td>0.0</td>\n",
       "      <td>80916.0</td>\n",
       "      <td>Canvass</td>\n",
       "      <td>60611.0</td>\n",
       "      <td>Risk 1 (High)</td>\n",
       "      <td>Fail</td>\n",
       "    </tr>\n",
       "    <tr>\n",
       "      <th>134251</th>\n",
       "      <td>158242</td>\n",
       "      <td>2010-01-05</td>\n",
       "      <td>134251</td>\n",
       "      <td>0.0</td>\n",
       "      <td>0.0</td>\n",
       "      <td>0.0</td>\n",
       "      <td>0.0</td>\n",
       "      <td>0.0</td>\n",
       "      <td>0.0</td>\n",
       "      <td>0.0</td>\n",
       "      <td>...</td>\n",
       "      <td>1.0</td>\n",
       "      <td>0.0</td>\n",
       "      <td>0.0</td>\n",
       "      <td>0.0</td>\n",
       "      <td>0.0</td>\n",
       "      <td>66827.0</td>\n",
       "      <td>Canvass</td>\n",
       "      <td>60609.0</td>\n",
       "      <td>Risk 2 (Medium)</td>\n",
       "      <td>Pass w/ Conditions</td>\n",
       "    </tr>\n",
       "    <tr>\n",
       "      <th>134250</th>\n",
       "      <td>124257</td>\n",
       "      <td>2010-01-05</td>\n",
       "      <td>134250</td>\n",
       "      <td>0.0</td>\n",
       "      <td>0.0</td>\n",
       "      <td>0.0</td>\n",
       "      <td>0.0</td>\n",
       "      <td>0.0</td>\n",
       "      <td>0.0</td>\n",
       "      <td>0.0</td>\n",
       "      <td>...</td>\n",
       "      <td>0.0</td>\n",
       "      <td>0.0</td>\n",
       "      <td>0.0</td>\n",
       "      <td>0.0</td>\n",
       "      <td>0.0</td>\n",
       "      <td>17145.0</td>\n",
       "      <td>Canvass</td>\n",
       "      <td>60630.0</td>\n",
       "      <td>Risk 1 (High)</td>\n",
       "      <td>Pass</td>\n",
       "    </tr>\n",
       "    <tr>\n",
       "      <th>134249</th>\n",
       "      <td>124256</td>\n",
       "      <td>2010-01-05</td>\n",
       "      <td>134249</td>\n",
       "      <td>0.0</td>\n",
       "      <td>0.0</td>\n",
       "      <td>0.0</td>\n",
       "      <td>0.0</td>\n",
       "      <td>0.0</td>\n",
       "      <td>0.0</td>\n",
       "      <td>0.0</td>\n",
       "      <td>...</td>\n",
       "      <td>1.0</td>\n",
       "      <td>0.0</td>\n",
       "      <td>0.0</td>\n",
       "      <td>0.0</td>\n",
       "      <td>0.0</td>\n",
       "      <td>1915768.0</td>\n",
       "      <td>Canvass</td>\n",
       "      <td>60631.0</td>\n",
       "      <td>Risk 1 (High)</td>\n",
       "      <td>Pass</td>\n",
       "    </tr>\n",
       "    <tr>\n",
       "      <th>134248</th>\n",
       "      <td>134238</td>\n",
       "      <td>2010-01-05</td>\n",
       "      <td>134248</td>\n",
       "      <td>0.0</td>\n",
       "      <td>0.0</td>\n",
       "      <td>0.0</td>\n",
       "      <td>0.0</td>\n",
       "      <td>0.0</td>\n",
       "      <td>0.0</td>\n",
       "      <td>0.0</td>\n",
       "      <td>...</td>\n",
       "      <td>0.0</td>\n",
       "      <td>0.0</td>\n",
       "      <td>0.0</td>\n",
       "      <td>0.0</td>\n",
       "      <td>0.0</td>\n",
       "      <td>1964634.0</td>\n",
       "      <td>Canvass</td>\n",
       "      <td>60647.0</td>\n",
       "      <td>Risk 1 (High)</td>\n",
       "      <td>Pass</td>\n",
       "    </tr>\n",
       "  </tbody>\n",
       "</table>\n",
       "<p>5 rows × 53 columns</p>\n",
       "</div>"
      ],
      "text/plain": [
       "        inspection_id inspection_date  Unnamed: 0   #1   #2   #3   #4   #5  \\\n",
       "134276         104236      2010-01-04      134276  0.0  0.0  0.0  0.0  0.0   \n",
       "134251         158242      2010-01-05      134251  0.0  0.0  0.0  0.0  0.0   \n",
       "134250         124257      2010-01-05      134250  0.0  0.0  0.0  0.0  0.0   \n",
       "134249         124256      2010-01-05      134249  0.0  0.0  0.0  0.0  0.0   \n",
       "134248         134238      2010-01-05      134248  0.0  0.0  0.0  0.0  0.0   \n",
       "\n",
       "         #6   #7  ...  #41  #42  #43  #44  #70    license  inspection_type  \\\n",
       "134276  0.0  0.0  ...  1.0  0.0  0.0  0.0  0.0    80916.0          Canvass   \n",
       "134251  0.0  0.0  ...  1.0  0.0  0.0  0.0  0.0    66827.0          Canvass   \n",
       "134250  0.0  0.0  ...  0.0  0.0  0.0  0.0  0.0    17145.0          Canvass   \n",
       "134249  0.0  0.0  ...  1.0  0.0  0.0  0.0  0.0  1915768.0          Canvass   \n",
       "134248  0.0  0.0  ...  0.0  0.0  0.0  0.0  0.0  1964634.0          Canvass   \n",
       "\n",
       "            zip             risk             results  \n",
       "134276  60611.0    Risk 1 (High)                Fail  \n",
       "134251  60609.0  Risk 2 (Medium)  Pass w/ Conditions  \n",
       "134250  60630.0    Risk 1 (High)                Pass  \n",
       "134249  60631.0    Risk 1 (High)                Pass  \n",
       "134248  60647.0    Risk 1 (High)                Pass  \n",
       "\n",
       "[5 rows x 53 columns]"
      ]
     },
     "execution_count": 8,
     "metadata": {},
     "output_type": "execute_result"
    }
   ],
   "source": [
    "# Convert into date format\n",
    "df_New[\"inspection_date\"] = pd.to_datetime(df_New[\"inspection_date\"])\n",
    "\n",
    "# Sort the inspections by date\n",
    "df_New = df_New.sort_values(by =\"inspection_date\",ascending=True)\n",
    "df_New.head()"
   ]
  },
  {
   "cell_type": "markdown",
   "metadata": {},
   "source": [
    "- **data_classified**: Another ordered time series dataset that we can think about and is relevant to use is obtained by grouping the inspections (sorted by time, from the oldest to the most recent ones) by restaurant license (i.e. sorted inspections for each restaurant)."
   ]
  },
  {
   "cell_type": "markdown",
   "metadata": {},
   "source": [
    "> We group the inspections sorted by time (from the oldest to the newest) by restaurant license."
   ]
  },
  {
   "cell_type": "code",
   "execution_count": 9,
   "metadata": {},
   "outputs": [
    {
     "data": {
      "text/html": [
       "<div>\n",
       "<style scoped>\n",
       "    .dataframe tbody tr th:only-of-type {\n",
       "        vertical-align: middle;\n",
       "    }\n",
       "\n",
       "    .dataframe tbody tr th {\n",
       "        vertical-align: top;\n",
       "    }\n",
       "\n",
       "    .dataframe thead th {\n",
       "        text-align: right;\n",
       "    }\n",
       "</style>\n",
       "<table border=\"1\" class=\"dataframe\">\n",
       "  <thead>\n",
       "    <tr style=\"text-align: right;\">\n",
       "      <th></th>\n",
       "      <th>#1</th>\n",
       "      <th>#10</th>\n",
       "      <th>#11</th>\n",
       "      <th>#12</th>\n",
       "      <th>#13</th>\n",
       "      <th>#14</th>\n",
       "      <th>#15</th>\n",
       "      <th>#16</th>\n",
       "      <th>#17</th>\n",
       "      <th>#18</th>\n",
       "      <th>...</th>\n",
       "      <th>#8</th>\n",
       "      <th>#9</th>\n",
       "      <th>Unnamed: 0</th>\n",
       "      <th>inspection_date</th>\n",
       "      <th>inspection_id</th>\n",
       "      <th>inspection_type</th>\n",
       "      <th>license</th>\n",
       "      <th>results</th>\n",
       "      <th>risk</th>\n",
       "      <th>zip</th>\n",
       "    </tr>\n",
       "  </thead>\n",
       "  <tbody>\n",
       "    <tr>\n",
       "      <th>0</th>\n",
       "      <td>0.0</td>\n",
       "      <td>0.0</td>\n",
       "      <td>0.0</td>\n",
       "      <td>0.0</td>\n",
       "      <td>0.0</td>\n",
       "      <td>0.0</td>\n",
       "      <td>0.0</td>\n",
       "      <td>0.0</td>\n",
       "      <td>0.0</td>\n",
       "      <td>0.0</td>\n",
       "      <td>...</td>\n",
       "      <td>0.0</td>\n",
       "      <td>0.0</td>\n",
       "      <td>128883</td>\n",
       "      <td>2010-06-15</td>\n",
       "      <td>229468</td>\n",
       "      <td>Canvass</td>\n",
       "      <td>2.0</td>\n",
       "      <td>Pass</td>\n",
       "      <td>Risk 1 (High)</td>\n",
       "      <td>60606.0</td>\n",
       "    </tr>\n",
       "    <tr>\n",
       "      <th>1</th>\n",
       "      <td>0.0</td>\n",
       "      <td>0.0</td>\n",
       "      <td>0.0</td>\n",
       "      <td>0.0</td>\n",
       "      <td>0.0</td>\n",
       "      <td>0.0</td>\n",
       "      <td>0.0</td>\n",
       "      <td>0.0</td>\n",
       "      <td>0.0</td>\n",
       "      <td>0.0</td>\n",
       "      <td>...</td>\n",
       "      <td>0.0</td>\n",
       "      <td>0.0</td>\n",
       "      <td>121035</td>\n",
       "      <td>2011-02-15</td>\n",
       "      <td>114767</td>\n",
       "      <td>Canvass</td>\n",
       "      <td>2.0</td>\n",
       "      <td>Pass</td>\n",
       "      <td>Risk 1 (High)</td>\n",
       "      <td>60606.0</td>\n",
       "    </tr>\n",
       "    <tr>\n",
       "      <th>2</th>\n",
       "      <td>0.0</td>\n",
       "      <td>0.0</td>\n",
       "      <td>0.0</td>\n",
       "      <td>0.0</td>\n",
       "      <td>0.0</td>\n",
       "      <td>0.0</td>\n",
       "      <td>0.0</td>\n",
       "      <td>0.0</td>\n",
       "      <td>0.0</td>\n",
       "      <td>0.0</td>\n",
       "      <td>...</td>\n",
       "      <td>0.0</td>\n",
       "      <td>0.0</td>\n",
       "      <td>107301</td>\n",
       "      <td>2012-03-19</td>\n",
       "      <td>679663</td>\n",
       "      <td>Canvass</td>\n",
       "      <td>2.0</td>\n",
       "      <td>Pass w/ Conditions</td>\n",
       "      <td>Risk 1 (High)</td>\n",
       "      <td>60606.0</td>\n",
       "    </tr>\n",
       "    <tr>\n",
       "      <th>3</th>\n",
       "      <td>0.0</td>\n",
       "      <td>0.0</td>\n",
       "      <td>0.0</td>\n",
       "      <td>0.0</td>\n",
       "      <td>0.0</td>\n",
       "      <td>0.0</td>\n",
       "      <td>0.0</td>\n",
       "      <td>0.0</td>\n",
       "      <td>0.0</td>\n",
       "      <td>0.0</td>\n",
       "      <td>...</td>\n",
       "      <td>0.0</td>\n",
       "      <td>0.0</td>\n",
       "      <td>107190</td>\n",
       "      <td>2012-03-21</td>\n",
       "      <td>680088</td>\n",
       "      <td>Canvass Re-Inspection</td>\n",
       "      <td>2.0</td>\n",
       "      <td>Pass</td>\n",
       "      <td>Risk 1 (High)</td>\n",
       "      <td>60606.0</td>\n",
       "    </tr>\n",
       "    <tr>\n",
       "      <th>4</th>\n",
       "      <td>0.0</td>\n",
       "      <td>0.0</td>\n",
       "      <td>0.0</td>\n",
       "      <td>0.0</td>\n",
       "      <td>0.0</td>\n",
       "      <td>0.0</td>\n",
       "      <td>0.0</td>\n",
       "      <td>0.0</td>\n",
       "      <td>0.0</td>\n",
       "      <td>0.0</td>\n",
       "      <td>...</td>\n",
       "      <td>0.0</td>\n",
       "      <td>0.0</td>\n",
       "      <td>90188</td>\n",
       "      <td>2013-07-19</td>\n",
       "      <td>1324560</td>\n",
       "      <td>Canvass</td>\n",
       "      <td>2.0</td>\n",
       "      <td>Pass</td>\n",
       "      <td>Risk 1 (High)</td>\n",
       "      <td>60606.0</td>\n",
       "    </tr>\n",
       "  </tbody>\n",
       "</table>\n",
       "<p>5 rows × 53 columns</p>\n",
       "</div>"
      ],
      "text/plain": [
       "    #1  #10  #11  #12  #13  #14  #15  #16  #17  #18  ...   #8   #9  \\\n",
       "0  0.0  0.0  0.0  0.0  0.0  0.0  0.0  0.0  0.0  0.0  ...  0.0  0.0   \n",
       "1  0.0  0.0  0.0  0.0  0.0  0.0  0.0  0.0  0.0  0.0  ...  0.0  0.0   \n",
       "2  0.0  0.0  0.0  0.0  0.0  0.0  0.0  0.0  0.0  0.0  ...  0.0  0.0   \n",
       "3  0.0  0.0  0.0  0.0  0.0  0.0  0.0  0.0  0.0  0.0  ...  0.0  0.0   \n",
       "4  0.0  0.0  0.0  0.0  0.0  0.0  0.0  0.0  0.0  0.0  ...  0.0  0.0   \n",
       "\n",
       "   Unnamed: 0  inspection_date  inspection_id        inspection_type  license  \\\n",
       "0      128883       2010-06-15         229468                Canvass      2.0   \n",
       "1      121035       2011-02-15         114767                Canvass      2.0   \n",
       "2      107301       2012-03-19         679663                Canvass      2.0   \n",
       "3      107190       2012-03-21         680088  Canvass Re-Inspection      2.0   \n",
       "4       90188       2013-07-19        1324560                Canvass      2.0   \n",
       "\n",
       "              results           risk      zip  \n",
       "0                Pass  Risk 1 (High)  60606.0  \n",
       "1                Pass  Risk 1 (High)  60606.0  \n",
       "2  Pass w/ Conditions  Risk 1 (High)  60606.0  \n",
       "3                Pass  Risk 1 (High)  60606.0  \n",
       "4                Pass  Risk 1 (High)  60606.0  \n",
       "\n",
       "[5 rows x 53 columns]"
      ]
     },
     "execution_count": 9,
     "metadata": {},
     "output_type": "execute_result"
    }
   ],
   "source": [
    "# create a dataframe with data grouped by license number\n",
    "\n",
    "dict_resto_1 = {}\n",
    "\n",
    "for resto, df in df_New.groupby('license'):\n",
    "  dict_resto_1[resto] = df\n",
    "\n",
    "data_classified = pd.concat(dict_resto_1.values(), sort = True, ignore_index=True)\n",
    "data_classified.head()"
   ]
  },
  {
   "cell_type": "markdown",
   "metadata": {},
   "source": [
    "- **df_New_2**: We load the dataset in which we computed a personalized score for each of the inspections. We merge it with the other ones in order to have the list of violations and the inspection date."
   ]
  },
  {
   "cell_type": "code",
   "execution_count": 11,
   "metadata": {},
   "outputs": [
    {
     "data": {
      "text/html": [
       "<div>\n",
       "<style scoped>\n",
       "    .dataframe tbody tr th:only-of-type {\n",
       "        vertical-align: middle;\n",
       "    }\n",
       "\n",
       "    .dataframe tbody tr th {\n",
       "        vertical-align: top;\n",
       "    }\n",
       "\n",
       "    .dataframe thead th {\n",
       "        text-align: right;\n",
       "    }\n",
       "</style>\n",
       "<table border=\"1\" class=\"dataframe\">\n",
       "  <thead>\n",
       "    <tr style=\"text-align: right;\">\n",
       "      <th></th>\n",
       "      <th>Unnamed: 0</th>\n",
       "      <th>#1</th>\n",
       "      <th>#2</th>\n",
       "      <th>#3</th>\n",
       "      <th>#4</th>\n",
       "      <th>#5</th>\n",
       "      <th>#6</th>\n",
       "      <th>#7</th>\n",
       "      <th>#8</th>\n",
       "      <th>#9</th>\n",
       "      <th>...</th>\n",
       "      <th>#37</th>\n",
       "      <th>#38</th>\n",
       "      <th>#39</th>\n",
       "      <th>#40</th>\n",
       "      <th>#41</th>\n",
       "      <th>#42</th>\n",
       "      <th>#43</th>\n",
       "      <th>#44</th>\n",
       "      <th>#70</th>\n",
       "      <th>score</th>\n",
       "    </tr>\n",
       "  </thead>\n",
       "  <tbody>\n",
       "    <tr>\n",
       "      <th>0</th>\n",
       "      <td>0</td>\n",
       "      <td>0.0</td>\n",
       "      <td>0.0</td>\n",
       "      <td>0.0</td>\n",
       "      <td>0.0</td>\n",
       "      <td>0.0</td>\n",
       "      <td>0.0</td>\n",
       "      <td>0.0</td>\n",
       "      <td>0.0</td>\n",
       "      <td>0.0</td>\n",
       "      <td>...</td>\n",
       "      <td>0.0</td>\n",
       "      <td>0.0</td>\n",
       "      <td>0.0</td>\n",
       "      <td>0.0</td>\n",
       "      <td>0.0</td>\n",
       "      <td>0.0</td>\n",
       "      <td>0.0</td>\n",
       "      <td>0.0</td>\n",
       "      <td>0.0</td>\n",
       "      <td>0.000000</td>\n",
       "    </tr>\n",
       "    <tr>\n",
       "      <th>1</th>\n",
       "      <td>1</td>\n",
       "      <td>0.0</td>\n",
       "      <td>0.0</td>\n",
       "      <td>1.0</td>\n",
       "      <td>0.0</td>\n",
       "      <td>1.0</td>\n",
       "      <td>0.0</td>\n",
       "      <td>0.0</td>\n",
       "      <td>0.0</td>\n",
       "      <td>0.0</td>\n",
       "      <td>...</td>\n",
       "      <td>0.0</td>\n",
       "      <td>0.0</td>\n",
       "      <td>0.0</td>\n",
       "      <td>0.0</td>\n",
       "      <td>0.0</td>\n",
       "      <td>0.0</td>\n",
       "      <td>0.0</td>\n",
       "      <td>0.0</td>\n",
       "      <td>0.0</td>\n",
       "      <td>1.740464</td>\n",
       "    </tr>\n",
       "    <tr>\n",
       "      <th>2</th>\n",
       "      <td>2</td>\n",
       "      <td>0.0</td>\n",
       "      <td>0.0</td>\n",
       "      <td>1.0</td>\n",
       "      <td>0.0</td>\n",
       "      <td>0.0</td>\n",
       "      <td>0.0</td>\n",
       "      <td>0.0</td>\n",
       "      <td>0.0</td>\n",
       "      <td>0.0</td>\n",
       "      <td>...</td>\n",
       "      <td>1.0</td>\n",
       "      <td>0.0</td>\n",
       "      <td>0.0</td>\n",
       "      <td>0.0</td>\n",
       "      <td>0.0</td>\n",
       "      <td>0.0</td>\n",
       "      <td>0.0</td>\n",
       "      <td>0.0</td>\n",
       "      <td>0.0</td>\n",
       "      <td>2.832479</td>\n",
       "    </tr>\n",
       "    <tr>\n",
       "      <th>3</th>\n",
       "      <td>3</td>\n",
       "      <td>0.0</td>\n",
       "      <td>0.0</td>\n",
       "      <td>0.0</td>\n",
       "      <td>0.0</td>\n",
       "      <td>0.0</td>\n",
       "      <td>0.0</td>\n",
       "      <td>0.0</td>\n",
       "      <td>0.0</td>\n",
       "      <td>0.0</td>\n",
       "      <td>...</td>\n",
       "      <td>0.0</td>\n",
       "      <td>0.0</td>\n",
       "      <td>0.0</td>\n",
       "      <td>0.0</td>\n",
       "      <td>0.0</td>\n",
       "      <td>0.0</td>\n",
       "      <td>0.0</td>\n",
       "      <td>0.0</td>\n",
       "      <td>0.0</td>\n",
       "      <td>0.000000</td>\n",
       "    </tr>\n",
       "    <tr>\n",
       "      <th>4</th>\n",
       "      <td>4</td>\n",
       "      <td>0.0</td>\n",
       "      <td>0.0</td>\n",
       "      <td>0.0</td>\n",
       "      <td>0.0</td>\n",
       "      <td>1.0</td>\n",
       "      <td>0.0</td>\n",
       "      <td>0.0</td>\n",
       "      <td>0.0</td>\n",
       "      <td>0.0</td>\n",
       "      <td>...</td>\n",
       "      <td>0.0</td>\n",
       "      <td>0.0</td>\n",
       "      <td>0.0</td>\n",
       "      <td>0.0</td>\n",
       "      <td>0.0</td>\n",
       "      <td>0.0</td>\n",
       "      <td>0.0</td>\n",
       "      <td>0.0</td>\n",
       "      <td>0.0</td>\n",
       "      <td>0.000000</td>\n",
       "    </tr>\n",
       "  </tbody>\n",
       "</table>\n",
       "<p>5 rows × 47 columns</p>\n",
       "</div>"
      ],
      "text/plain": [
       "   Unnamed: 0   #1   #2   #3   #4   #5   #6   #7   #8   #9  ...  #37  #38  \\\n",
       "0           0  0.0  0.0  0.0  0.0  0.0  0.0  0.0  0.0  0.0  ...  0.0  0.0   \n",
       "1           1  0.0  0.0  1.0  0.0  1.0  0.0  0.0  0.0  0.0  ...  0.0  0.0   \n",
       "2           2  0.0  0.0  1.0  0.0  0.0  0.0  0.0  0.0  0.0  ...  1.0  0.0   \n",
       "3           3  0.0  0.0  0.0  0.0  0.0  0.0  0.0  0.0  0.0  ...  0.0  0.0   \n",
       "4           4  0.0  0.0  0.0  0.0  1.0  0.0  0.0  0.0  0.0  ...  0.0  0.0   \n",
       "\n",
       "   #39  #40  #41  #42  #43  #44  #70     score  \n",
       "0  0.0  0.0  0.0  0.0  0.0  0.0  0.0  0.000000  \n",
       "1  0.0  0.0  0.0  0.0  0.0  0.0  0.0  1.740464  \n",
       "2  0.0  0.0  0.0  0.0  0.0  0.0  0.0  2.832479  \n",
       "3  0.0  0.0  0.0  0.0  0.0  0.0  0.0  0.000000  \n",
       "4  0.0  0.0  0.0  0.0  0.0  0.0  0.0  0.000000  \n",
       "\n",
       "[5 rows x 47 columns]"
      ]
     },
     "execution_count": 11,
     "metadata": {},
     "output_type": "execute_result"
    }
   ],
   "source": [
    "# Load the dataset\n",
    "data_score = pd.read_csv('data/score_violation_df.csv', delimiter = ',')\n",
    "data_score.head()"
   ]
  },
  {
   "cell_type": "code",
   "execution_count": 12,
   "metadata": {},
   "outputs": [
    {
     "data": {
      "text/html": [
       "<div>\n",
       "<style scoped>\n",
       "    .dataframe tbody tr th:only-of-type {\n",
       "        vertical-align: middle;\n",
       "    }\n",
       "\n",
       "    .dataframe tbody tr th {\n",
       "        vertical-align: top;\n",
       "    }\n",
       "\n",
       "    .dataframe thead th {\n",
       "        text-align: right;\n",
       "    }\n",
       "</style>\n",
       "<table border=\"1\" class=\"dataframe\">\n",
       "  <thead>\n",
       "    <tr style=\"text-align: right;\">\n",
       "      <th></th>\n",
       "      <th>score</th>\n",
       "    </tr>\n",
       "  </thead>\n",
       "  <tbody>\n",
       "    <tr>\n",
       "      <th>0</th>\n",
       "      <td>0.000000</td>\n",
       "    </tr>\n",
       "    <tr>\n",
       "      <th>1</th>\n",
       "      <td>1.740464</td>\n",
       "    </tr>\n",
       "  </tbody>\n",
       "</table>\n",
       "</div>"
      ],
      "text/plain": [
       "      score\n",
       "0  0.000000\n",
       "1  1.740464"
      ]
     },
     "execution_count": 12,
     "metadata": {},
     "output_type": "execute_result"
    }
   ],
   "source": [
    "# Extracting the score parameter\n",
    "df_score = data_score[[\"score\"]]\n",
    "df_score.head(2)"
   ]
  },
  {
   "cell_type": "code",
   "execution_count": 13,
   "metadata": {},
   "outputs": [
    {
     "data": {
      "text/html": [
       "<div>\n",
       "<style scoped>\n",
       "    .dataframe tbody tr th:only-of-type {\n",
       "        vertical-align: middle;\n",
       "    }\n",
       "\n",
       "    .dataframe tbody tr th {\n",
       "        vertical-align: top;\n",
       "    }\n",
       "\n",
       "    .dataframe thead th {\n",
       "        text-align: right;\n",
       "    }\n",
       "</style>\n",
       "<table border=\"1\" class=\"dataframe\">\n",
       "  <thead>\n",
       "    <tr style=\"text-align: right;\">\n",
       "      <th></th>\n",
       "      <th>score</th>\n",
       "      <th>Unnamed: 0</th>\n",
       "      <th>#1</th>\n",
       "      <th>#2</th>\n",
       "      <th>#3</th>\n",
       "      <th>#4</th>\n",
       "      <th>#5</th>\n",
       "      <th>#6</th>\n",
       "      <th>#7</th>\n",
       "      <th>#8</th>\n",
       "      <th>...</th>\n",
       "      <th>#42</th>\n",
       "      <th>#43</th>\n",
       "      <th>#44</th>\n",
       "      <th>#70</th>\n",
       "      <th>inspection_id</th>\n",
       "      <th>license</th>\n",
       "      <th>inspection_type</th>\n",
       "      <th>zip</th>\n",
       "      <th>risk</th>\n",
       "      <th>results</th>\n",
       "    </tr>\n",
       "  </thead>\n",
       "  <tbody>\n",
       "    <tr>\n",
       "      <th>0</th>\n",
       "      <td>0.000000</td>\n",
       "      <td>0</td>\n",
       "      <td>0.0</td>\n",
       "      <td>0.0</td>\n",
       "      <td>0.0</td>\n",
       "      <td>0.0</td>\n",
       "      <td>0.0</td>\n",
       "      <td>0.0</td>\n",
       "      <td>0.0</td>\n",
       "      <td>0.0</td>\n",
       "      <td>...</td>\n",
       "      <td>0.0</td>\n",
       "      <td>0.0</td>\n",
       "      <td>0.0</td>\n",
       "      <td>0.0</td>\n",
       "      <td>2346127</td>\n",
       "      <td>2637127.0</td>\n",
       "      <td>Canvass Re-Inspection</td>\n",
       "      <td>60630.0</td>\n",
       "      <td>Risk 1 (High)</td>\n",
       "      <td>Pass</td>\n",
       "    </tr>\n",
       "    <tr>\n",
       "      <th>1</th>\n",
       "      <td>1.740464</td>\n",
       "      <td>1</td>\n",
       "      <td>0.0</td>\n",
       "      <td>0.0</td>\n",
       "      <td>1.0</td>\n",
       "      <td>0.0</td>\n",
       "      <td>1.0</td>\n",
       "      <td>0.0</td>\n",
       "      <td>0.0</td>\n",
       "      <td>0.0</td>\n",
       "      <td>...</td>\n",
       "      <td>0.0</td>\n",
       "      <td>0.0</td>\n",
       "      <td>0.0</td>\n",
       "      <td>0.0</td>\n",
       "      <td>2346126</td>\n",
       "      <td>2432147.0</td>\n",
       "      <td>Canvass Re-Inspection</td>\n",
       "      <td>60632.0</td>\n",
       "      <td>Risk 2 (Medium)</td>\n",
       "      <td>Pass w/ Conditions</td>\n",
       "    </tr>\n",
       "  </tbody>\n",
       "</table>\n",
       "<p>2 rows × 53 columns</p>\n",
       "</div>"
      ],
      "text/plain": [
       "      score  Unnamed: 0   #1   #2   #3   #4   #5   #6   #7   #8  ...  #42  \\\n",
       "0  0.000000           0  0.0  0.0  0.0  0.0  0.0  0.0  0.0  0.0  ...  0.0   \n",
       "1  1.740464           1  0.0  0.0  1.0  0.0  1.0  0.0  0.0  0.0  ...  0.0   \n",
       "\n",
       "   #43  #44  #70  inspection_id    license        inspection_type      zip  \\\n",
       "0  0.0  0.0  0.0        2346127  2637127.0  Canvass Re-Inspection  60630.0   \n",
       "1  0.0  0.0  0.0        2346126  2432147.0  Canvass Re-Inspection  60632.0   \n",
       "\n",
       "              risk             results  \n",
       "0    Risk 1 (High)                Pass  \n",
       "1  Risk 2 (Medium)  Pass w/ Conditions  \n",
       "\n",
       "[2 rows x 53 columns]"
      ]
     },
     "execution_count": 13,
     "metadata": {},
     "output_type": "execute_result"
    }
   ],
   "source": [
    "# Violations and score\n",
    "df_New_2 = pd.merge(df_score, violations_dataframe01, left_index = True, right_index = True, how = 'outer')\n",
    "df_New_2.head(2)"
   ]
  },
  {
   "cell_type": "code",
   "execution_count": 14,
   "metadata": {},
   "outputs": [
    {
     "data": {
      "text/html": [
       "<div>\n",
       "<style scoped>\n",
       "    .dataframe tbody tr th:only-of-type {\n",
       "        vertical-align: middle;\n",
       "    }\n",
       "\n",
       "    .dataframe tbody tr th {\n",
       "        vertical-align: top;\n",
       "    }\n",
       "\n",
       "    .dataframe thead th {\n",
       "        text-align: right;\n",
       "    }\n",
       "</style>\n",
       "<table border=\"1\" class=\"dataframe\">\n",
       "  <thead>\n",
       "    <tr style=\"text-align: right;\">\n",
       "      <th></th>\n",
       "      <th>inspection_id</th>\n",
       "      <th>inspection_date</th>\n",
       "      <th>score</th>\n",
       "      <th>Unnamed: 0</th>\n",
       "      <th>#1</th>\n",
       "      <th>#2</th>\n",
       "      <th>#3</th>\n",
       "      <th>#4</th>\n",
       "      <th>#5</th>\n",
       "      <th>#6</th>\n",
       "      <th>...</th>\n",
       "      <th>#41</th>\n",
       "      <th>#42</th>\n",
       "      <th>#43</th>\n",
       "      <th>#44</th>\n",
       "      <th>#70</th>\n",
       "      <th>license</th>\n",
       "      <th>inspection_type</th>\n",
       "      <th>zip</th>\n",
       "      <th>risk</th>\n",
       "      <th>results</th>\n",
       "    </tr>\n",
       "  </thead>\n",
       "  <tbody>\n",
       "    <tr>\n",
       "      <th>0</th>\n",
       "      <td>2346127</td>\n",
       "      <td>2019-11-22</td>\n",
       "      <td>0.000000</td>\n",
       "      <td>0</td>\n",
       "      <td>0.0</td>\n",
       "      <td>0.0</td>\n",
       "      <td>0.0</td>\n",
       "      <td>0.0</td>\n",
       "      <td>0.0</td>\n",
       "      <td>0.0</td>\n",
       "      <td>...</td>\n",
       "      <td>0.0</td>\n",
       "      <td>0.0</td>\n",
       "      <td>0.0</td>\n",
       "      <td>0.0</td>\n",
       "      <td>0.0</td>\n",
       "      <td>2637127.0</td>\n",
       "      <td>Canvass Re-Inspection</td>\n",
       "      <td>60630.0</td>\n",
       "      <td>Risk 1 (High)</td>\n",
       "      <td>Pass</td>\n",
       "    </tr>\n",
       "    <tr>\n",
       "      <th>1</th>\n",
       "      <td>2346126</td>\n",
       "      <td>2019-11-22</td>\n",
       "      <td>1.740464</td>\n",
       "      <td>1</td>\n",
       "      <td>0.0</td>\n",
       "      <td>0.0</td>\n",
       "      <td>1.0</td>\n",
       "      <td>0.0</td>\n",
       "      <td>1.0</td>\n",
       "      <td>0.0</td>\n",
       "      <td>...</td>\n",
       "      <td>0.0</td>\n",
       "      <td>0.0</td>\n",
       "      <td>0.0</td>\n",
       "      <td>0.0</td>\n",
       "      <td>0.0</td>\n",
       "      <td>2432147.0</td>\n",
       "      <td>Canvass Re-Inspection</td>\n",
       "      <td>60632.0</td>\n",
       "      <td>Risk 2 (Medium)</td>\n",
       "      <td>Pass w/ Conditions</td>\n",
       "    </tr>\n",
       "    <tr>\n",
       "      <th>2</th>\n",
       "      <td>2346149</td>\n",
       "      <td>2019-11-22</td>\n",
       "      <td>2.832479</td>\n",
       "      <td>2</td>\n",
       "      <td>0.0</td>\n",
       "      <td>0.0</td>\n",
       "      <td>1.0</td>\n",
       "      <td>0.0</td>\n",
       "      <td>0.0</td>\n",
       "      <td>0.0</td>\n",
       "      <td>...</td>\n",
       "      <td>0.0</td>\n",
       "      <td>0.0</td>\n",
       "      <td>0.0</td>\n",
       "      <td>0.0</td>\n",
       "      <td>0.0</td>\n",
       "      <td>2215652.0</td>\n",
       "      <td>Canvass</td>\n",
       "      <td>60652.0</td>\n",
       "      <td>Risk 1 (High)</td>\n",
       "      <td>Fail</td>\n",
       "    </tr>\n",
       "  </tbody>\n",
       "</table>\n",
       "<p>3 rows × 54 columns</p>\n",
       "</div>"
      ],
      "text/plain": [
       "   inspection_id inspection_date     score  Unnamed: 0   #1   #2   #3   #4  \\\n",
       "0        2346127      2019-11-22  0.000000           0  0.0  0.0  0.0  0.0   \n",
       "1        2346126      2019-11-22  1.740464           1  0.0  0.0  1.0  0.0   \n",
       "2        2346149      2019-11-22  2.832479           2  0.0  0.0  1.0  0.0   \n",
       "\n",
       "    #5   #6  ...  #41  #42  #43  #44  #70    license        inspection_type  \\\n",
       "0  0.0  0.0  ...  0.0  0.0  0.0  0.0  0.0  2637127.0  Canvass Re-Inspection   \n",
       "1  1.0  0.0  ...  0.0  0.0  0.0  0.0  0.0  2432147.0  Canvass Re-Inspection   \n",
       "2  0.0  0.0  ...  0.0  0.0  0.0  0.0  0.0  2215652.0                Canvass   \n",
       "\n",
       "       zip             risk             results  \n",
       "0  60630.0    Risk 1 (High)                Pass  \n",
       "1  60632.0  Risk 2 (Medium)  Pass w/ Conditions  \n",
       "2  60652.0    Risk 1 (High)                Fail  \n",
       "\n",
       "[3 rows x 54 columns]"
      ]
     },
     "execution_count": 14,
     "metadata": {},
     "output_type": "execute_result"
    }
   ],
   "source": [
    "# Violations, scores and inspection_date\n",
    "df_New_2 = pd.merge(df2, df_New_2, left_index = True, right_index = True, how = 'outer', on = 'inspection_id')\n",
    "df_New_2.head(3)"
   ]
  },
  {
   "cell_type": "code",
   "execution_count": 15,
   "metadata": {},
   "outputs": [
    {
     "data": {
      "text/html": [
       "<div>\n",
       "<style scoped>\n",
       "    .dataframe tbody tr th:only-of-type {\n",
       "        vertical-align: middle;\n",
       "    }\n",
       "\n",
       "    .dataframe tbody tr th {\n",
       "        vertical-align: top;\n",
       "    }\n",
       "\n",
       "    .dataframe thead th {\n",
       "        text-align: right;\n",
       "    }\n",
       "</style>\n",
       "<table border=\"1\" class=\"dataframe\">\n",
       "  <thead>\n",
       "    <tr style=\"text-align: right;\">\n",
       "      <th></th>\n",
       "      <th>inspection_id</th>\n",
       "      <th>inspection_date</th>\n",
       "      <th>score</th>\n",
       "      <th>Unnamed: 0</th>\n",
       "      <th>#1</th>\n",
       "      <th>#2</th>\n",
       "      <th>#3</th>\n",
       "      <th>#4</th>\n",
       "      <th>#5</th>\n",
       "      <th>#6</th>\n",
       "      <th>...</th>\n",
       "      <th>#41</th>\n",
       "      <th>#42</th>\n",
       "      <th>#43</th>\n",
       "      <th>#44</th>\n",
       "      <th>#70</th>\n",
       "      <th>license</th>\n",
       "      <th>inspection_type</th>\n",
       "      <th>zip</th>\n",
       "      <th>risk</th>\n",
       "      <th>results</th>\n",
       "    </tr>\n",
       "  </thead>\n",
       "  <tbody>\n",
       "    <tr>\n",
       "      <th>134276</th>\n",
       "      <td>104236</td>\n",
       "      <td>2010-01-04</td>\n",
       "      <td>4.433844</td>\n",
       "      <td>134276</td>\n",
       "      <td>0.0</td>\n",
       "      <td>0.0</td>\n",
       "      <td>0.0</td>\n",
       "      <td>0.0</td>\n",
       "      <td>0.0</td>\n",
       "      <td>0.0</td>\n",
       "      <td>...</td>\n",
       "      <td>1.0</td>\n",
       "      <td>0.0</td>\n",
       "      <td>0.0</td>\n",
       "      <td>0.0</td>\n",
       "      <td>0.0</td>\n",
       "      <td>80916.0</td>\n",
       "      <td>Canvass</td>\n",
       "      <td>60611.0</td>\n",
       "      <td>Risk 1 (High)</td>\n",
       "      <td>Fail</td>\n",
       "    </tr>\n",
       "    <tr>\n",
       "      <th>134251</th>\n",
       "      <td>158242</td>\n",
       "      <td>2010-01-05</td>\n",
       "      <td>1.658378</td>\n",
       "      <td>134251</td>\n",
       "      <td>0.0</td>\n",
       "      <td>0.0</td>\n",
       "      <td>0.0</td>\n",
       "      <td>0.0</td>\n",
       "      <td>0.0</td>\n",
       "      <td>0.0</td>\n",
       "      <td>...</td>\n",
       "      <td>1.0</td>\n",
       "      <td>0.0</td>\n",
       "      <td>0.0</td>\n",
       "      <td>0.0</td>\n",
       "      <td>0.0</td>\n",
       "      <td>66827.0</td>\n",
       "      <td>Canvass</td>\n",
       "      <td>60609.0</td>\n",
       "      <td>Risk 2 (Medium)</td>\n",
       "      <td>Pass w/ Conditions</td>\n",
       "    </tr>\n",
       "    <tr>\n",
       "      <th>134250</th>\n",
       "      <td>124257</td>\n",
       "      <td>2010-01-05</td>\n",
       "      <td>0.000000</td>\n",
       "      <td>134250</td>\n",
       "      <td>0.0</td>\n",
       "      <td>0.0</td>\n",
       "      <td>0.0</td>\n",
       "      <td>0.0</td>\n",
       "      <td>0.0</td>\n",
       "      <td>0.0</td>\n",
       "      <td>...</td>\n",
       "      <td>0.0</td>\n",
       "      <td>0.0</td>\n",
       "      <td>0.0</td>\n",
       "      <td>0.0</td>\n",
       "      <td>0.0</td>\n",
       "      <td>17145.0</td>\n",
       "      <td>Canvass</td>\n",
       "      <td>60630.0</td>\n",
       "      <td>Risk 1 (High)</td>\n",
       "      <td>Pass</td>\n",
       "    </tr>\n",
       "    <tr>\n",
       "      <th>134249</th>\n",
       "      <td>124256</td>\n",
       "      <td>2010-01-05</td>\n",
       "      <td>1.037008</td>\n",
       "      <td>134249</td>\n",
       "      <td>0.0</td>\n",
       "      <td>0.0</td>\n",
       "      <td>0.0</td>\n",
       "      <td>0.0</td>\n",
       "      <td>0.0</td>\n",
       "      <td>0.0</td>\n",
       "      <td>...</td>\n",
       "      <td>1.0</td>\n",
       "      <td>0.0</td>\n",
       "      <td>0.0</td>\n",
       "      <td>0.0</td>\n",
       "      <td>0.0</td>\n",
       "      <td>1915768.0</td>\n",
       "      <td>Canvass</td>\n",
       "      <td>60631.0</td>\n",
       "      <td>Risk 1 (High)</td>\n",
       "      <td>Pass</td>\n",
       "    </tr>\n",
       "    <tr>\n",
       "      <th>134248</th>\n",
       "      <td>134238</td>\n",
       "      <td>2010-01-05</td>\n",
       "      <td>1.037008</td>\n",
       "      <td>134248</td>\n",
       "      <td>0.0</td>\n",
       "      <td>0.0</td>\n",
       "      <td>0.0</td>\n",
       "      <td>0.0</td>\n",
       "      <td>0.0</td>\n",
       "      <td>0.0</td>\n",
       "      <td>...</td>\n",
       "      <td>0.0</td>\n",
       "      <td>0.0</td>\n",
       "      <td>0.0</td>\n",
       "      <td>0.0</td>\n",
       "      <td>0.0</td>\n",
       "      <td>1964634.0</td>\n",
       "      <td>Canvass</td>\n",
       "      <td>60647.0</td>\n",
       "      <td>Risk 1 (High)</td>\n",
       "      <td>Pass</td>\n",
       "    </tr>\n",
       "  </tbody>\n",
       "</table>\n",
       "<p>5 rows × 54 columns</p>\n",
       "</div>"
      ],
      "text/plain": [
       "        inspection_id inspection_date     score  Unnamed: 0   #1   #2   #3  \\\n",
       "134276         104236      2010-01-04  4.433844      134276  0.0  0.0  0.0   \n",
       "134251         158242      2010-01-05  1.658378      134251  0.0  0.0  0.0   \n",
       "134250         124257      2010-01-05  0.000000      134250  0.0  0.0  0.0   \n",
       "134249         124256      2010-01-05  1.037008      134249  0.0  0.0  0.0   \n",
       "134248         134238      2010-01-05  1.037008      134248  0.0  0.0  0.0   \n",
       "\n",
       "         #4   #5   #6  ...  #41  #42  #43  #44  #70    license  \\\n",
       "134276  0.0  0.0  0.0  ...  1.0  0.0  0.0  0.0  0.0    80916.0   \n",
       "134251  0.0  0.0  0.0  ...  1.0  0.0  0.0  0.0  0.0    66827.0   \n",
       "134250  0.0  0.0  0.0  ...  0.0  0.0  0.0  0.0  0.0    17145.0   \n",
       "134249  0.0  0.0  0.0  ...  1.0  0.0  0.0  0.0  0.0  1915768.0   \n",
       "134248  0.0  0.0  0.0  ...  0.0  0.0  0.0  0.0  0.0  1964634.0   \n",
       "\n",
       "        inspection_type      zip             risk             results  \n",
       "134276          Canvass  60611.0    Risk 1 (High)                Fail  \n",
       "134251          Canvass  60609.0  Risk 2 (Medium)  Pass w/ Conditions  \n",
       "134250          Canvass  60630.0    Risk 1 (High)                Pass  \n",
       "134249          Canvass  60631.0    Risk 1 (High)                Pass  \n",
       "134248          Canvass  60647.0    Risk 1 (High)                Pass  \n",
       "\n",
       "[5 rows x 54 columns]"
      ]
     },
     "execution_count": 15,
     "metadata": {},
     "output_type": "execute_result"
    }
   ],
   "source": [
    "# Convert into date format\n",
    "df_New_2[\"inspection_date\"] = pd.to_datetime(df_New_2[\"inspection_date\"])\n",
    "\n",
    "# Sort the inspections by date\n",
    "df_New_2 = df_New_2.sort_values(by = \"inspection_date\", ascending = True)\n",
    "df_New_2.head()"
   ]
  },
  {
   "cell_type": "markdown",
   "metadata": {},
   "source": [
    "## 7.2 Encoding the data"
   ]
  },
  {
   "cell_type": "markdown",
   "metadata": {},
   "source": [
    "Here, we encode our categorical data into numerical values. For the ordinal features (risk factor, result of inspection) we proceeded with an ordinal encoding. We used hot-encoding for the other categorical data (zip code). \n",
    "\n",
    "**Encoding of target variable**: Here we create a model to predict the inspections related to food poisoning, i.e. we're only interested in the type of inspection named: 'Suspected Food Poisoning'. We also mapped each value of the inspection type column into a binary value (binary-class): 1 for the food poisoning related, and 0 for all other inspections."
   ]
  },
  {
   "cell_type": "code",
   "execution_count": 16,
   "metadata": {},
   "outputs": [
    {
     "data": {
      "text/html": [
       "<div>\n",
       "<style scoped>\n",
       "    .dataframe tbody tr th:only-of-type {\n",
       "        vertical-align: middle;\n",
       "    }\n",
       "\n",
       "    .dataframe tbody tr th {\n",
       "        vertical-align: top;\n",
       "    }\n",
       "\n",
       "    .dataframe thead th {\n",
       "        text-align: right;\n",
       "    }\n",
       "</style>\n",
       "<table border=\"1\" class=\"dataframe\">\n",
       "  <thead>\n",
       "    <tr style=\"text-align: right;\">\n",
       "      <th></th>\n",
       "      <th>inspection_id</th>\n",
       "      <th>inspection_date</th>\n",
       "      <th>Unnamed: 0</th>\n",
       "      <th>#1</th>\n",
       "      <th>#2</th>\n",
       "      <th>#3</th>\n",
       "      <th>#4</th>\n",
       "      <th>#5</th>\n",
       "      <th>#6</th>\n",
       "      <th>#7</th>\n",
       "      <th>...</th>\n",
       "      <th>zip_60666.0</th>\n",
       "      <th>zip_60707.0</th>\n",
       "      <th>zip_60827.0</th>\n",
       "      <th>inspection_type_Canvass</th>\n",
       "      <th>inspection_type_Canvass Re-Inspection</th>\n",
       "      <th>inspection_type_Complaint</th>\n",
       "      <th>inspection_type_Complaint Re-Inspection</th>\n",
       "      <th>inspection_type_Short Form Complaint</th>\n",
       "      <th>inspection_type_Suspected Food Poisoning</th>\n",
       "      <th>inspection_type_Suspected Food Poisoning Re-inspection</th>\n",
       "    </tr>\n",
       "  </thead>\n",
       "  <tbody>\n",
       "    <tr>\n",
       "      <th>134276</th>\n",
       "      <td>104236</td>\n",
       "      <td>2010-01-04</td>\n",
       "      <td>134276</td>\n",
       "      <td>0.0</td>\n",
       "      <td>0.0</td>\n",
       "      <td>0.0</td>\n",
       "      <td>0.0</td>\n",
       "      <td>0.0</td>\n",
       "      <td>0.0</td>\n",
       "      <td>0.0</td>\n",
       "      <td>...</td>\n",
       "      <td>0</td>\n",
       "      <td>0</td>\n",
       "      <td>0</td>\n",
       "      <td>1</td>\n",
       "      <td>0</td>\n",
       "      <td>0</td>\n",
       "      <td>0</td>\n",
       "      <td>0</td>\n",
       "      <td>0</td>\n",
       "      <td>0</td>\n",
       "    </tr>\n",
       "    <tr>\n",
       "      <th>134251</th>\n",
       "      <td>158242</td>\n",
       "      <td>2010-01-05</td>\n",
       "      <td>134251</td>\n",
       "      <td>0.0</td>\n",
       "      <td>0.0</td>\n",
       "      <td>0.0</td>\n",
       "      <td>0.0</td>\n",
       "      <td>0.0</td>\n",
       "      <td>0.0</td>\n",
       "      <td>0.0</td>\n",
       "      <td>...</td>\n",
       "      <td>0</td>\n",
       "      <td>0</td>\n",
       "      <td>0</td>\n",
       "      <td>1</td>\n",
       "      <td>0</td>\n",
       "      <td>0</td>\n",
       "      <td>0</td>\n",
       "      <td>0</td>\n",
       "      <td>0</td>\n",
       "      <td>0</td>\n",
       "    </tr>\n",
       "    <tr>\n",
       "      <th>134250</th>\n",
       "      <td>124257</td>\n",
       "      <td>2010-01-05</td>\n",
       "      <td>134250</td>\n",
       "      <td>0.0</td>\n",
       "      <td>0.0</td>\n",
       "      <td>0.0</td>\n",
       "      <td>0.0</td>\n",
       "      <td>0.0</td>\n",
       "      <td>0.0</td>\n",
       "      <td>0.0</td>\n",
       "      <td>...</td>\n",
       "      <td>0</td>\n",
       "      <td>0</td>\n",
       "      <td>0</td>\n",
       "      <td>1</td>\n",
       "      <td>0</td>\n",
       "      <td>0</td>\n",
       "      <td>0</td>\n",
       "      <td>0</td>\n",
       "      <td>0</td>\n",
       "      <td>0</td>\n",
       "    </tr>\n",
       "    <tr>\n",
       "      <th>134249</th>\n",
       "      <td>124256</td>\n",
       "      <td>2010-01-05</td>\n",
       "      <td>134249</td>\n",
       "      <td>0.0</td>\n",
       "      <td>0.0</td>\n",
       "      <td>0.0</td>\n",
       "      <td>0.0</td>\n",
       "      <td>0.0</td>\n",
       "      <td>0.0</td>\n",
       "      <td>0.0</td>\n",
       "      <td>...</td>\n",
       "      <td>0</td>\n",
       "      <td>0</td>\n",
       "      <td>0</td>\n",
       "      <td>1</td>\n",
       "      <td>0</td>\n",
       "      <td>0</td>\n",
       "      <td>0</td>\n",
       "      <td>0</td>\n",
       "      <td>0</td>\n",
       "      <td>0</td>\n",
       "    </tr>\n",
       "    <tr>\n",
       "      <th>134248</th>\n",
       "      <td>134238</td>\n",
       "      <td>2010-01-05</td>\n",
       "      <td>134248</td>\n",
       "      <td>0.0</td>\n",
       "      <td>0.0</td>\n",
       "      <td>0.0</td>\n",
       "      <td>0.0</td>\n",
       "      <td>0.0</td>\n",
       "      <td>0.0</td>\n",
       "      <td>0.0</td>\n",
       "      <td>...</td>\n",
       "      <td>0</td>\n",
       "      <td>0</td>\n",
       "      <td>0</td>\n",
       "      <td>1</td>\n",
       "      <td>0</td>\n",
       "      <td>0</td>\n",
       "      <td>0</td>\n",
       "      <td>0</td>\n",
       "      <td>0</td>\n",
       "      <td>0</td>\n",
       "    </tr>\n",
       "  </tbody>\n",
       "</table>\n",
       "<p>5 rows × 117 columns</p>\n",
       "</div>"
      ],
      "text/plain": [
       "        inspection_id inspection_date  Unnamed: 0   #1   #2   #3   #4   #5  \\\n",
       "134276         104236      2010-01-04      134276  0.0  0.0  0.0  0.0  0.0   \n",
       "134251         158242      2010-01-05      134251  0.0  0.0  0.0  0.0  0.0   \n",
       "134250         124257      2010-01-05      134250  0.0  0.0  0.0  0.0  0.0   \n",
       "134249         124256      2010-01-05      134249  0.0  0.0  0.0  0.0  0.0   \n",
       "134248         134238      2010-01-05      134248  0.0  0.0  0.0  0.0  0.0   \n",
       "\n",
       "         #6   #7  ...  zip_60666.0  zip_60707.0  zip_60827.0  \\\n",
       "134276  0.0  0.0  ...            0            0            0   \n",
       "134251  0.0  0.0  ...            0            0            0   \n",
       "134250  0.0  0.0  ...            0            0            0   \n",
       "134249  0.0  0.0  ...            0            0            0   \n",
       "134248  0.0  0.0  ...            0            0            0   \n",
       "\n",
       "        inspection_type_Canvass  inspection_type_Canvass Re-Inspection  \\\n",
       "134276                        1                                      0   \n",
       "134251                        1                                      0   \n",
       "134250                        1                                      0   \n",
       "134249                        1                                      0   \n",
       "134248                        1                                      0   \n",
       "\n",
       "        inspection_type_Complaint  inspection_type_Complaint Re-Inspection  \\\n",
       "134276                          0                                        0   \n",
       "134251                          0                                        0   \n",
       "134250                          0                                        0   \n",
       "134249                          0                                        0   \n",
       "134248                          0                                        0   \n",
       "\n",
       "        inspection_type_Short Form Complaint  \\\n",
       "134276                                     0   \n",
       "134251                                     0   \n",
       "134250                                     0   \n",
       "134249                                     0   \n",
       "134248                                     0   \n",
       "\n",
       "        inspection_type_Suspected Food Poisoning  \\\n",
       "134276                                         0   \n",
       "134251                                         0   \n",
       "134250                                         0   \n",
       "134249                                         0   \n",
       "134248                                         0   \n",
       "\n",
       "        inspection_type_Suspected Food Poisoning Re-inspection  \n",
       "134276                                                  0       \n",
       "134251                                                  0       \n",
       "134250                                                  0       \n",
       "134249                                                  0       \n",
       "134248                                                  0       \n",
       "\n",
       "[5 rows x 117 columns]"
      ]
     },
     "execution_count": 16,
     "metadata": {},
     "output_type": "execute_result"
    }
   ],
   "source": [
    "# Encoding the features and the target\n",
    "\n",
    "# Associate a number to each value of the risk factor\n",
    "risk_mapper = {'Risk 1 (High)':3,'Risk 2 (Medium)':2,'Risk 3 (Low)':1}\n",
    "\n",
    "# Associate a number to each value of the results\n",
    "result_mapper = {'Pass':1,'Pass w/ Conditions':0,'Fail':-1}\n",
    "\n",
    "# Replace them in the dataframes\n",
    "\n",
    "# data_classified\n",
    "data_classified['risk'] = data_classified['risk'].replace(risk_mapper).astype(int)\n",
    "data_classified['results'] = data_classified['results'].replace(result_mapper).astype(int)\n",
    "data_classified = pd.get_dummies(data_classified, columns = ['zip', 'inspection_type'])\n",
    "\n",
    "# df_New\n",
    "df_New['risk'] = df_New['risk'].replace(risk_mapper).astype(int)\n",
    "df_New['results'] = df_New['results'].replace(result_mapper).astype(int)\n",
    "df_New = pd.get_dummies(df_New, columns = ['zip', 'inspection_type'])\n",
    "\n",
    "# df_New_2\n",
    "df_New_2['risk'] = df_New_2['risk'].replace(risk_mapper).astype(int)\n",
    "df_New_2['results'] = df_New_2['results'].replace(result_mapper).astype(int)\n",
    "df_New_2 = pd.get_dummies(df_New_2, columns = ['zip', 'inspection_type'])\n",
    "\n",
    "# Display one of the datasets\n",
    "df_New.head()"
   ]
  },
  {
   "cell_type": "markdown",
   "metadata": {},
   "source": [
    "## 7.3 Training a model that maximizes the accuracy"
   ]
  },
  {
   "cell_type": "markdown",
   "metadata": {},
   "source": [
    "Here, we will train two models: a random forest classifier and an XGBoost. Cross-validation will be performed to compute the best parameter for each classifier, before fitting the model and testing its accuracy on the test set. For this purpose, we will split our data using the 'TimeSeriesSplit' provided by Sklearn, which provides train/test indices to split time series data samples that are observed at fixed time intervals, in train/test sets, with a condition that the test indices must be higher than before in each splits.\n",
    "\n",
    "> First, we use our sorted dataset **df_New**. "
   ]
  },
  {
   "cell_type": "code",
   "execution_count": 17,
   "metadata": {},
   "outputs": [
    {
     "data": {
      "text/html": [
       "<div>\n",
       "<style scoped>\n",
       "    .dataframe tbody tr th:only-of-type {\n",
       "        vertical-align: middle;\n",
       "    }\n",
       "\n",
       "    .dataframe tbody tr th {\n",
       "        vertical-align: top;\n",
       "    }\n",
       "\n",
       "    .dataframe thead th {\n",
       "        text-align: right;\n",
       "    }\n",
       "</style>\n",
       "<table border=\"1\" class=\"dataframe\">\n",
       "  <thead>\n",
       "    <tr style=\"text-align: right;\">\n",
       "      <th></th>\n",
       "      <th>Unnamed: 0</th>\n",
       "      <th>#1</th>\n",
       "      <th>#2</th>\n",
       "      <th>#3</th>\n",
       "      <th>#4</th>\n",
       "      <th>#5</th>\n",
       "      <th>#6</th>\n",
       "      <th>#7</th>\n",
       "      <th>#8</th>\n",
       "      <th>#9</th>\n",
       "      <th>...</th>\n",
       "      <th>zip_60655.0</th>\n",
       "      <th>zip_60656.0</th>\n",
       "      <th>zip_60657.0</th>\n",
       "      <th>zip_60659.0</th>\n",
       "      <th>zip_60660.0</th>\n",
       "      <th>zip_60661.0</th>\n",
       "      <th>zip_60666.0</th>\n",
       "      <th>zip_60707.0</th>\n",
       "      <th>zip_60827.0</th>\n",
       "      <th>inspection_type_Suspected Food Poisoning</th>\n",
       "    </tr>\n",
       "  </thead>\n",
       "  <tbody>\n",
       "    <tr>\n",
       "      <th>134276</th>\n",
       "      <td>134276</td>\n",
       "      <td>0.0</td>\n",
       "      <td>0.0</td>\n",
       "      <td>0.0</td>\n",
       "      <td>0.0</td>\n",
       "      <td>0.0</td>\n",
       "      <td>0.0</td>\n",
       "      <td>0.0</td>\n",
       "      <td>0.0</td>\n",
       "      <td>0.0</td>\n",
       "      <td>...</td>\n",
       "      <td>0</td>\n",
       "      <td>0</td>\n",
       "      <td>0</td>\n",
       "      <td>0</td>\n",
       "      <td>0</td>\n",
       "      <td>0</td>\n",
       "      <td>0</td>\n",
       "      <td>0</td>\n",
       "      <td>0</td>\n",
       "      <td>0</td>\n",
       "    </tr>\n",
       "    <tr>\n",
       "      <th>134251</th>\n",
       "      <td>134251</td>\n",
       "      <td>0.0</td>\n",
       "      <td>0.0</td>\n",
       "      <td>0.0</td>\n",
       "      <td>0.0</td>\n",
       "      <td>0.0</td>\n",
       "      <td>0.0</td>\n",
       "      <td>0.0</td>\n",
       "      <td>0.0</td>\n",
       "      <td>0.0</td>\n",
       "      <td>...</td>\n",
       "      <td>0</td>\n",
       "      <td>0</td>\n",
       "      <td>0</td>\n",
       "      <td>0</td>\n",
       "      <td>0</td>\n",
       "      <td>0</td>\n",
       "      <td>0</td>\n",
       "      <td>0</td>\n",
       "      <td>0</td>\n",
       "      <td>0</td>\n",
       "    </tr>\n",
       "  </tbody>\n",
       "</table>\n",
       "<p>2 rows × 108 columns</p>\n",
       "</div>"
      ],
      "text/plain": [
       "        Unnamed: 0   #1   #2   #3   #4   #5   #6   #7   #8   #9  ...  \\\n",
       "134276      134276  0.0  0.0  0.0  0.0  0.0  0.0  0.0  0.0  0.0  ...   \n",
       "134251      134251  0.0  0.0  0.0  0.0  0.0  0.0  0.0  0.0  0.0  ...   \n",
       "\n",
       "        zip_60655.0  zip_60656.0  zip_60657.0  zip_60659.0  zip_60660.0  \\\n",
       "134276            0            0            0            0            0   \n",
       "134251            0            0            0            0            0   \n",
       "\n",
       "        zip_60661.0  zip_60666.0  zip_60707.0  zip_60827.0  \\\n",
       "134276            0            0            0            0   \n",
       "134251            0            0            0            0   \n",
       "\n",
       "        inspection_type_Suspected Food Poisoning  \n",
       "134276                                         0  \n",
       "134251                                         0  \n",
       "\n",
       "[2 rows x 108 columns]"
      ]
     },
     "execution_count": 17,
     "metadata": {},
     "output_type": "execute_result"
    }
   ],
   "source": [
    "# Drop unnecessary columns from the dataset sorted by time of inspection\n",
    "df_01 = df_New.drop(['inspection_id', 'license', 'inspection_date',\n",
    "                    'inspection_type_Canvass',\n",
    "                    'inspection_type_Canvass Re-Inspection', 'inspection_type_Complaint',\n",
    "                    'inspection_type_Complaint Re-Inspection',\n",
    "                    'inspection_type_Short Form Complaint',\n",
    "                    'inspection_type_Suspected Food Poisoning Re-inspection'], axis = 1)\n",
    "df_01.head(2)"
   ]
  },
  {
   "cell_type": "code",
   "execution_count": 18,
   "metadata": {},
   "outputs": [
    {
     "data": {
      "text/html": [
       "<div>\n",
       "<style scoped>\n",
       "    .dataframe tbody tr th:only-of-type {\n",
       "        vertical-align: middle;\n",
       "    }\n",
       "\n",
       "    .dataframe tbody tr th {\n",
       "        vertical-align: top;\n",
       "    }\n",
       "\n",
       "    .dataframe thead th {\n",
       "        text-align: right;\n",
       "    }\n",
       "</style>\n",
       "<table border=\"1\" class=\"dataframe\">\n",
       "  <thead>\n",
       "    <tr style=\"text-align: right;\">\n",
       "      <th></th>\n",
       "      <th>Unnamed: 0</th>\n",
       "      <th>#1</th>\n",
       "      <th>#2</th>\n",
       "      <th>#3</th>\n",
       "      <th>#4</th>\n",
       "      <th>#5</th>\n",
       "      <th>#6</th>\n",
       "      <th>#7</th>\n",
       "      <th>#8</th>\n",
       "      <th>#9</th>\n",
       "      <th>...</th>\n",
       "      <th>zip_60654.0</th>\n",
       "      <th>zip_60655.0</th>\n",
       "      <th>zip_60656.0</th>\n",
       "      <th>zip_60657.0</th>\n",
       "      <th>zip_60659.0</th>\n",
       "      <th>zip_60660.0</th>\n",
       "      <th>zip_60661.0</th>\n",
       "      <th>zip_60666.0</th>\n",
       "      <th>zip_60707.0</th>\n",
       "      <th>zip_60827.0</th>\n",
       "    </tr>\n",
       "  </thead>\n",
       "  <tbody>\n",
       "    <tr>\n",
       "      <th>134276</th>\n",
       "      <td>134276</td>\n",
       "      <td>0.0</td>\n",
       "      <td>0.0</td>\n",
       "      <td>0.0</td>\n",
       "      <td>0.0</td>\n",
       "      <td>0.0</td>\n",
       "      <td>0.0</td>\n",
       "      <td>0.0</td>\n",
       "      <td>0.0</td>\n",
       "      <td>0.0</td>\n",
       "      <td>...</td>\n",
       "      <td>0</td>\n",
       "      <td>0</td>\n",
       "      <td>0</td>\n",
       "      <td>0</td>\n",
       "      <td>0</td>\n",
       "      <td>0</td>\n",
       "      <td>0</td>\n",
       "      <td>0</td>\n",
       "      <td>0</td>\n",
       "      <td>0</td>\n",
       "    </tr>\n",
       "    <tr>\n",
       "      <th>134251</th>\n",
       "      <td>134251</td>\n",
       "      <td>0.0</td>\n",
       "      <td>0.0</td>\n",
       "      <td>0.0</td>\n",
       "      <td>0.0</td>\n",
       "      <td>0.0</td>\n",
       "      <td>0.0</td>\n",
       "      <td>0.0</td>\n",
       "      <td>0.0</td>\n",
       "      <td>0.0</td>\n",
       "      <td>...</td>\n",
       "      <td>0</td>\n",
       "      <td>0</td>\n",
       "      <td>0</td>\n",
       "      <td>0</td>\n",
       "      <td>0</td>\n",
       "      <td>0</td>\n",
       "      <td>0</td>\n",
       "      <td>0</td>\n",
       "      <td>0</td>\n",
       "      <td>0</td>\n",
       "    </tr>\n",
       "  </tbody>\n",
       "</table>\n",
       "<p>2 rows × 107 columns</p>\n",
       "</div>"
      ],
      "text/plain": [
       "        Unnamed: 0   #1   #2   #3   #4   #5   #6   #7   #8   #9  ...  \\\n",
       "134276      134276  0.0  0.0  0.0  0.0  0.0  0.0  0.0  0.0  0.0  ...   \n",
       "134251      134251  0.0  0.0  0.0  0.0  0.0  0.0  0.0  0.0  0.0  ...   \n",
       "\n",
       "        zip_60654.0  zip_60655.0  zip_60656.0  zip_60657.0  zip_60659.0  \\\n",
       "134276            0            0            0            0            0   \n",
       "134251            0            0            0            0            0   \n",
       "\n",
       "        zip_60660.0  zip_60661.0  zip_60666.0  zip_60707.0  zip_60827.0  \n",
       "134276            0            0            0            0            0  \n",
       "134251            0            0            0            0            0  \n",
       "\n",
       "[2 rows x 107 columns]"
      ]
     },
     "execution_count": 18,
     "metadata": {},
     "output_type": "execute_result"
    }
   ],
   "source": [
    "# Make the features and target dataframes and display the features dataframe\n",
    "target_df_01 = df_01['inspection_type_Suspected Food Poisoning']\n",
    "features_df_01 = df_01.drop(['inspection_type_Suspected Food Poisoning'], axis = 1)\n",
    "features_df_01.head(2)"
   ]
  },
  {
   "cell_type": "code",
   "execution_count": 21,
   "metadata": {},
   "outputs": [],
   "source": [
    "# Train and test sets for time series dataframes\n",
    "X_train_df1, X_test_df1, y_train_df1, y_test_df1 = train_test_split(features_df_01, target_df_01, test_size = 0.2, shuffle = False)\n",
    "tscv = TimeSeriesSplit(n_splits = 5)"
   ]
  },
  {
   "cell_type": "code",
   "execution_count": 24,
   "metadata": {},
   "outputs": [
    {
     "name": "stdout",
     "output_type": "stream",
     "text": [
      "Gradient Boosted trees model accuracy score : 0.9949359547214776\n",
      "Gradient Boosted trees model F1 score : 0.9924103594952173\n"
     ]
    }
   ],
   "source": [
    "# XGB classifier\n",
    "y_pred_1_XGB, XGB_classifier_1 = GBT_classification(X_train_df1, y_train_df1, X_test_df1, y_test_df1, tscv, score = 'accuracy')"
   ]
  },
  {
   "cell_type": "code",
   "execution_count": 27,
   "metadata": {},
   "outputs": [
    {
     "name": "stdout",
     "output_type": "stream",
     "text": [
      "rf classifer accuracy = 0.9948\n"
     ]
    }
   ],
   "source": [
    "# Random Forest classifier\n",
    "y_pred_1_rf, rf_classifier_1 = Rf_classification(X_train_df1, y_train_df1, X_test_df1, y_test_df1, tscv, score = 'accuracy')"
   ]
  },
  {
   "cell_type": "markdown",
   "metadata": {},
   "source": [
    "**Observations**: The accuracy seems unusually high. Thus, we decided to compute a correlation matrix in order to have a more quantitative overview. "
   ]
  },
  {
   "cell_type": "code",
   "execution_count": 56,
   "metadata": {
    "scrolled": false
   },
   "outputs": [
    {
     "name": "stdout",
     "output_type": "stream",
     "text": [
      "[[26720     0]\n",
      " [  136     0]]\n"
     ]
    },
    {
     "data": {
      "image/png": "[encoded data removed]",
      "text/plain": [
       "<Figure size 432x432 with 2 Axes>"
      ]
     },
     "metadata": {
      "needs_background": "light"
     },
     "output_type": "display_data"
    }
   ],
   "source": [
    "# Confusion matrix for XGB\n",
    "plot_confusion_matrix(y_test_df1, y_pred_1_XGB, classes=class_names,title='Confusion matrix', figsize=(6,6))\n",
    "plt.savefig('CM_1.png')"
   ]
  },
  {
   "cell_type": "code",
   "execution_count": 55,
   "metadata": {},
   "outputs": [
    {
     "name": "stdout",
     "output_type": "stream",
     "text": [
      "[[26717     3]\n",
      " [  136     0]]\n"
     ]
    },
    {
     "data": {
      "text/plain": [
       "<matplotlib.axes._subplots.AxesSubplot at 0x1a3499f2e8>"
      ]
     },
     "execution_count": 55,
     "metadata": {},
     "output_type": "execute_result"
    },
    {
     "data": {
      "image/png": "[encoded data removed]",
      "text/plain": [
       "<Figure size 432x432 with 2 Axes>"
      ]
     },
     "metadata": {
      "needs_background": "light"
     },
     "output_type": "display_data"
    }
   ],
   "source": [
    "# Confusion matrix for Random Forest\n",
    "plot_confusion_matrix(y_test_df1, y_pred_1_rf, classes=class_names,title='Confusion matrix', figsize=(6,6))"
   ]
  },
  {
   "cell_type": "markdown",
   "metadata": {},
   "source": [
    "> Although both models yield a very high accuracy, they are completely unefficient at predicting food poisoning cases. This suggests that the data we have is unbalanced. We decided to plot the class distribution to confirm this hypothesis."
   ]
  },
  {
   "cell_type": "code",
   "execution_count": 29,
   "metadata": {},
   "outputs": [
    {
     "data": {
      "image/png": "[encoded data removed]",
      "text/plain": [
       "<Figure size 720x360 with 1 Axes>"
      ]
     },
     "metadata": {
      "needs_background": "light"
     },
     "output_type": "display_data"
    }
   ],
   "source": [
    "# Plot the density for each class\n",
    "plt.figure(figsize=(10,5))\n",
    "df_New['inspection_type_Suspected Food Poisoning'].plot(kind='density', subplots=True, sharex=False)\n",
    "plt.show()"
   ]
  },
  {
   "cell_type": "code",
   "execution_count": 31,
   "metadata": {},
   "outputs": [
    {
     "data": {
      "image/png": "[encoded data removed]",
      "text/plain": [
       "<Figure size 432x432 with 1 Axes>"
      ]
     },
     "metadata": {
      "needs_background": "light"
     },
     "output_type": "display_data"
    }
   ],
   "source": [
    "# Plot the class distribution as histograms\n",
    "plt.figure(figsize=(6,6))\n",
    "df_New['inspection_type_Suspected Food Poisoning'].hist()\n",
    "plt.title('Class Frequency')\n",
    "plt.xlabel('Class')\n",
    "plt.ylabel('Frequency')\n",
    "\n",
    "plt.show()"
   ]
  },
  {
   "cell_type": "markdown",
   "metadata": {},
   "source": [
    "> **Conclusions**: Indeed, the class is extremely unbalanced. Hence, accuracy is not a reliable metric for the real performance of tested classifiers here, and yields misleading results if the data set is unbalanced (that is, the numbers of observations in different classes vary greatly, which is pretty obvious by looking at the histogram)."
   ]
  },
  {
   "cell_type": "markdown",
   "metadata": {},
   "source": [
    "## 7.4 Training a model suited for unbalanced data"
   ]
  },
  {
   "cell_type": "markdown",
   "metadata": {},
   "source": [
    "The F1 score often turns to be a better metric when dealing with unbalanced data. Moreover, XGBoost is better equipped for this kind of use. Hence, we will train an XGBoost model that tend to maximise the F1_score rather than the accuracy. "
   ]
  },
  {
   "cell_type": "markdown",
   "metadata": {},
   "source": [
    "**1)** First, using the sorted dataset grouped by licence, **data_classified**."
   ]
  },
  {
   "cell_type": "code",
   "execution_count": 32,
   "metadata": {},
   "outputs": [
    {
     "data": {
      "text/html": [
       "<div>\n",
       "<style scoped>\n",
       "    .dataframe tbody tr th:only-of-type {\n",
       "        vertical-align: middle;\n",
       "    }\n",
       "\n",
       "    .dataframe tbody tr th {\n",
       "        vertical-align: top;\n",
       "    }\n",
       "\n",
       "    .dataframe thead th {\n",
       "        text-align: right;\n",
       "    }\n",
       "</style>\n",
       "<table border=\"1\" class=\"dataframe\">\n",
       "  <thead>\n",
       "    <tr style=\"text-align: right;\">\n",
       "      <th></th>\n",
       "      <th>#1</th>\n",
       "      <th>#10</th>\n",
       "      <th>#11</th>\n",
       "      <th>#12</th>\n",
       "      <th>#13</th>\n",
       "      <th>#14</th>\n",
       "      <th>#15</th>\n",
       "      <th>#16</th>\n",
       "      <th>#17</th>\n",
       "      <th>#18</th>\n",
       "      <th>...</th>\n",
       "      <th>zip_60655.0</th>\n",
       "      <th>zip_60656.0</th>\n",
       "      <th>zip_60657.0</th>\n",
       "      <th>zip_60659.0</th>\n",
       "      <th>zip_60660.0</th>\n",
       "      <th>zip_60661.0</th>\n",
       "      <th>zip_60666.0</th>\n",
       "      <th>zip_60707.0</th>\n",
       "      <th>zip_60827.0</th>\n",
       "      <th>inspection_type_Suspected Food Poisoning</th>\n",
       "    </tr>\n",
       "  </thead>\n",
       "  <tbody>\n",
       "    <tr>\n",
       "      <th>0</th>\n",
       "      <td>0.0</td>\n",
       "      <td>0.0</td>\n",
       "      <td>0.0</td>\n",
       "      <td>0.0</td>\n",
       "      <td>0.0</td>\n",
       "      <td>0.0</td>\n",
       "      <td>0.0</td>\n",
       "      <td>0.0</td>\n",
       "      <td>0.0</td>\n",
       "      <td>0.0</td>\n",
       "      <td>...</td>\n",
       "      <td>0</td>\n",
       "      <td>0</td>\n",
       "      <td>0</td>\n",
       "      <td>0</td>\n",
       "      <td>0</td>\n",
       "      <td>0</td>\n",
       "      <td>0</td>\n",
       "      <td>0</td>\n",
       "      <td>0</td>\n",
       "      <td>0</td>\n",
       "    </tr>\n",
       "    <tr>\n",
       "      <th>1</th>\n",
       "      <td>0.0</td>\n",
       "      <td>0.0</td>\n",
       "      <td>0.0</td>\n",
       "      <td>0.0</td>\n",
       "      <td>0.0</td>\n",
       "      <td>0.0</td>\n",
       "      <td>0.0</td>\n",
       "      <td>0.0</td>\n",
       "      <td>0.0</td>\n",
       "      <td>0.0</td>\n",
       "      <td>...</td>\n",
       "      <td>0</td>\n",
       "      <td>0</td>\n",
       "      <td>0</td>\n",
       "      <td>0</td>\n",
       "      <td>0</td>\n",
       "      <td>0</td>\n",
       "      <td>0</td>\n",
       "      <td>0</td>\n",
       "      <td>0</td>\n",
       "      <td>0</td>\n",
       "    </tr>\n",
       "  </tbody>\n",
       "</table>\n",
       "<p>2 rows × 108 columns</p>\n",
       "</div>"
      ],
      "text/plain": [
       "    #1  #10  #11  #12  #13  #14  #15  #16  #17  #18  ...  zip_60655.0  \\\n",
       "0  0.0  0.0  0.0  0.0  0.0  0.0  0.0  0.0  0.0  0.0  ...            0   \n",
       "1  0.0  0.0  0.0  0.0  0.0  0.0  0.0  0.0  0.0  0.0  ...            0   \n",
       "\n",
       "   zip_60656.0  zip_60657.0  zip_60659.0  zip_60660.0  zip_60661.0  \\\n",
       "0            0            0            0            0            0   \n",
       "1            0            0            0            0            0   \n",
       "\n",
       "   zip_60666.0  zip_60707.0  zip_60827.0  \\\n",
       "0            0            0            0   \n",
       "1            0            0            0   \n",
       "\n",
       "   inspection_type_Suspected Food Poisoning  \n",
       "0                                         0  \n",
       "1                                         0  \n",
       "\n",
       "[2 rows x 108 columns]"
      ]
     },
     "execution_count": 32,
     "metadata": {},
     "output_type": "execute_result"
    }
   ],
   "source": [
    "# Drop unnecessary columns from the dataset sorted by time of inspection\n",
    "df_02 = data_classified.drop(['inspection_id', 'license', 'inspection_date',\n",
    "                    'inspection_type_Canvass',\n",
    "                    'inspection_type_Canvass Re-Inspection', 'inspection_type_Complaint',\n",
    "                    'inspection_type_Complaint Re-Inspection',\n",
    "                    'inspection_type_Short Form Complaint',\n",
    "                    'inspection_type_Suspected Food Poisoning Re-inspection'], axis = 1)\n",
    "df_02.head(2)"
   ]
  },
  {
   "cell_type": "code",
   "execution_count": 33,
   "metadata": {},
   "outputs": [
    {
     "data": {
      "text/html": [
       "<div>\n",
       "<style scoped>\n",
       "    .dataframe tbody tr th:only-of-type {\n",
       "        vertical-align: middle;\n",
       "    }\n",
       "\n",
       "    .dataframe tbody tr th {\n",
       "        vertical-align: top;\n",
       "    }\n",
       "\n",
       "    .dataframe thead th {\n",
       "        text-align: right;\n",
       "    }\n",
       "</style>\n",
       "<table border=\"1\" class=\"dataframe\">\n",
       "  <thead>\n",
       "    <tr style=\"text-align: right;\">\n",
       "      <th></th>\n",
       "      <th>#1</th>\n",
       "      <th>#10</th>\n",
       "      <th>#11</th>\n",
       "      <th>#12</th>\n",
       "      <th>#13</th>\n",
       "      <th>#14</th>\n",
       "      <th>#15</th>\n",
       "      <th>#16</th>\n",
       "      <th>#17</th>\n",
       "      <th>#18</th>\n",
       "      <th>...</th>\n",
       "      <th>zip_60654.0</th>\n",
       "      <th>zip_60655.0</th>\n",
       "      <th>zip_60656.0</th>\n",
       "      <th>zip_60657.0</th>\n",
       "      <th>zip_60659.0</th>\n",
       "      <th>zip_60660.0</th>\n",
       "      <th>zip_60661.0</th>\n",
       "      <th>zip_60666.0</th>\n",
       "      <th>zip_60707.0</th>\n",
       "      <th>zip_60827.0</th>\n",
       "    </tr>\n",
       "  </thead>\n",
       "  <tbody>\n",
       "    <tr>\n",
       "      <th>0</th>\n",
       "      <td>0.0</td>\n",
       "      <td>0.0</td>\n",
       "      <td>0.0</td>\n",
       "      <td>0.0</td>\n",
       "      <td>0.0</td>\n",
       "      <td>0.0</td>\n",
       "      <td>0.0</td>\n",
       "      <td>0.0</td>\n",
       "      <td>0.0</td>\n",
       "      <td>0.0</td>\n",
       "      <td>...</td>\n",
       "      <td>0</td>\n",
       "      <td>0</td>\n",
       "      <td>0</td>\n",
       "      <td>0</td>\n",
       "      <td>0</td>\n",
       "      <td>0</td>\n",
       "      <td>0</td>\n",
       "      <td>0</td>\n",
       "      <td>0</td>\n",
       "      <td>0</td>\n",
       "    </tr>\n",
       "    <tr>\n",
       "      <th>1</th>\n",
       "      <td>0.0</td>\n",
       "      <td>0.0</td>\n",
       "      <td>0.0</td>\n",
       "      <td>0.0</td>\n",
       "      <td>0.0</td>\n",
       "      <td>0.0</td>\n",
       "      <td>0.0</td>\n",
       "      <td>0.0</td>\n",
       "      <td>0.0</td>\n",
       "      <td>0.0</td>\n",
       "      <td>...</td>\n",
       "      <td>0</td>\n",
       "      <td>0</td>\n",
       "      <td>0</td>\n",
       "      <td>0</td>\n",
       "      <td>0</td>\n",
       "      <td>0</td>\n",
       "      <td>0</td>\n",
       "      <td>0</td>\n",
       "      <td>0</td>\n",
       "      <td>0</td>\n",
       "    </tr>\n",
       "  </tbody>\n",
       "</table>\n",
       "<p>2 rows × 107 columns</p>\n",
       "</div>"
      ],
      "text/plain": [
       "    #1  #10  #11  #12  #13  #14  #15  #16  #17  #18  ...  zip_60654.0  \\\n",
       "0  0.0  0.0  0.0  0.0  0.0  0.0  0.0  0.0  0.0  0.0  ...            0   \n",
       "1  0.0  0.0  0.0  0.0  0.0  0.0  0.0  0.0  0.0  0.0  ...            0   \n",
       "\n",
       "   zip_60655.0  zip_60656.0  zip_60657.0  zip_60659.0  zip_60660.0  \\\n",
       "0            0            0            0            0            0   \n",
       "1            0            0            0            0            0   \n",
       "\n",
       "   zip_60661.0  zip_60666.0  zip_60707.0  zip_60827.0  \n",
       "0            0            0            0            0  \n",
       "1            0            0            0            0  \n",
       "\n",
       "[2 rows x 107 columns]"
      ]
     },
     "execution_count": 33,
     "metadata": {},
     "output_type": "execute_result"
    }
   ],
   "source": [
    "# Make the features and target dataframes and display the features dataframe\n",
    "target_df_02 = df_02['inspection_type_Suspected Food Poisoning']\n",
    "features_df_02 = df_02.drop(['inspection_type_Suspected Food Poisoning'], axis = 1)\n",
    "features_df_02.head(2)"
   ]
  },
  {
   "cell_type": "code",
   "execution_count": 34,
   "metadata": {},
   "outputs": [],
   "source": [
    "# Train and test sets for time series dataframes\n",
    "X_train_df2, X_test_df2, y_train_df2, y_test_df2 = train_test_split(features_df_02, target_df_02, test_size = 0.2, shuffle = False)\n",
    "tscv = TimeSeriesSplit(n_splits = 5)"
   ]
  },
  {
   "cell_type": "markdown",
   "metadata": {},
   "source": [
    "> Additionally, we passed the ratio of the dominant binary class (0) over the minimal class (1) to the 'scale_pos_weight' argument of the XGBClassifier. This enables to put a weight on the dominant class, and obtain better results for unbalanced data."
   ]
  },
  {
   "cell_type": "code",
   "execution_count": 35,
   "metadata": {},
   "outputs": [],
   "source": [
    "# Compute the ratio\n",
    "\n",
    "y_train_OK = y_train_df2[y_train_df2 == 1]\n",
    "len_OK = len(y_train_OK)\n",
    "\n",
    "y_train_not_OK = y_train_df2[y_train_df2  == 0]\n",
    "len_not_OK = len(y_train_not_OK)\n",
    "\n",
    "ratio_train = float(len_not_OK/len_OK)"
   ]
  },
  {
   "cell_type": "code",
   "execution_count": 36,
   "metadata": {},
   "outputs": [
    {
     "name": "stdout",
     "output_type": "stream",
     "text": [
      "Gradient Boosted trees model accuracy score : 0.851131963062258\n",
      "Gradient Boosted trees model F1 score : 0.9156952638609427\n"
     ]
    }
   ],
   "source": [
    "# Cross validation to optimize F1 score, test set validation\n",
    "y_pred_2, XGB_classifier_2 = GBT_classification(X_train_df2, y_train_df2, X_test_df2, y_test_df2, tscv, ratio_train)"
   ]
  },
  {
   "cell_type": "code",
   "execution_count": 42,
   "metadata": {},
   "outputs": [
    {
     "name": "stdout",
     "output_type": "stream",
     "text": [
      "[[22816  3928]\n",
      " [   70    42]]\n"
     ]
    },
    {
     "data": {
      "image/png": "[encoded data removed]",
      "text/plain": [
       "<Figure size 432x432 with 2 Axes>"
      ]
     },
     "metadata": {
      "needs_background": "light"
     },
     "output_type": "display_data"
    }
   ],
   "source": [
    "# Confusion matrix \n",
    "plot_confusion_matrix(y_test_df2, y_pred_2, classes=class_names,title='Confusion matrix', figsize=(6,6))"
   ]
  },
  {
   "cell_type": "markdown",
   "metadata": {},
   "source": [
    "> **Observation**: Increase in the number of Food poisoning correctly identified as such (True positives). Also, the False Negatives value is greater (True 'Food Poisoning' classified as 'No Food Poisoning'), and this model will most likely fail at classifying correctly cases of food poisoning."
   ]
  },
  {
   "cell_type": "markdown",
   "metadata": {},
   "source": [
    "**2)** We decided to try to train our model with the other sorted dataset **df_New**."
   ]
  },
  {
   "cell_type": "code",
   "execution_count": 80,
   "metadata": {},
   "outputs": [
    {
     "data": {
      "text/html": [
       "<div>\n",
       "<style scoped>\n",
       "    .dataframe tbody tr th:only-of-type {\n",
       "        vertical-align: middle;\n",
       "    }\n",
       "\n",
       "    .dataframe tbody tr th {\n",
       "        vertical-align: top;\n",
       "    }\n",
       "\n",
       "    .dataframe thead th {\n",
       "        text-align: right;\n",
       "    }\n",
       "</style>\n",
       "<table border=\"1\" class=\"dataframe\">\n",
       "  <thead>\n",
       "    <tr style=\"text-align: right;\">\n",
       "      <th></th>\n",
       "      <th>#1</th>\n",
       "      <th>#2</th>\n",
       "      <th>#3</th>\n",
       "      <th>#4</th>\n",
       "      <th>#5</th>\n",
       "      <th>#6</th>\n",
       "      <th>#7</th>\n",
       "      <th>#8</th>\n",
       "      <th>#9</th>\n",
       "      <th>#10</th>\n",
       "      <th>...</th>\n",
       "      <th>zip_60655.0</th>\n",
       "      <th>zip_60656.0</th>\n",
       "      <th>zip_60657.0</th>\n",
       "      <th>zip_60659.0</th>\n",
       "      <th>zip_60660.0</th>\n",
       "      <th>zip_60661.0</th>\n",
       "      <th>zip_60666.0</th>\n",
       "      <th>zip_60707.0</th>\n",
       "      <th>zip_60827.0</th>\n",
       "      <th>inspection_type_Suspected Food Poisoning</th>\n",
       "    </tr>\n",
       "  </thead>\n",
       "  <tbody>\n",
       "    <tr>\n",
       "      <th>134276</th>\n",
       "      <td>0.0</td>\n",
       "      <td>0.0</td>\n",
       "      <td>0.0</td>\n",
       "      <td>0.0</td>\n",
       "      <td>0.0</td>\n",
       "      <td>0.0</td>\n",
       "      <td>0.0</td>\n",
       "      <td>0.0</td>\n",
       "      <td>0.0</td>\n",
       "      <td>0.0</td>\n",
       "      <td>...</td>\n",
       "      <td>0</td>\n",
       "      <td>0</td>\n",
       "      <td>0</td>\n",
       "      <td>0</td>\n",
       "      <td>0</td>\n",
       "      <td>0</td>\n",
       "      <td>0</td>\n",
       "      <td>0</td>\n",
       "      <td>0</td>\n",
       "      <td>0</td>\n",
       "    </tr>\n",
       "    <tr>\n",
       "      <th>134251</th>\n",
       "      <td>0.0</td>\n",
       "      <td>0.0</td>\n",
       "      <td>0.0</td>\n",
       "      <td>0.0</td>\n",
       "      <td>0.0</td>\n",
       "      <td>0.0</td>\n",
       "      <td>0.0</td>\n",
       "      <td>0.0</td>\n",
       "      <td>0.0</td>\n",
       "      <td>0.0</td>\n",
       "      <td>...</td>\n",
       "      <td>0</td>\n",
       "      <td>0</td>\n",
       "      <td>0</td>\n",
       "      <td>0</td>\n",
       "      <td>0</td>\n",
       "      <td>0</td>\n",
       "      <td>0</td>\n",
       "      <td>0</td>\n",
       "      <td>0</td>\n",
       "      <td>0</td>\n",
       "    </tr>\n",
       "  </tbody>\n",
       "</table>\n",
       "<p>2 rows × 107 columns</p>\n",
       "</div>"
      ],
      "text/plain": [
       "         #1   #2   #3   #4   #5   #6   #7   #8   #9  #10  ...  zip_60655.0  \\\n",
       "134276  0.0  0.0  0.0  0.0  0.0  0.0  0.0  0.0  0.0  0.0  ...            0   \n",
       "134251  0.0  0.0  0.0  0.0  0.0  0.0  0.0  0.0  0.0  0.0  ...            0   \n",
       "\n",
       "        zip_60656.0  zip_60657.0  zip_60659.0  zip_60660.0  zip_60661.0  \\\n",
       "134276            0            0            0            0            0   \n",
       "134251            0            0            0            0            0   \n",
       "\n",
       "        zip_60666.0  zip_60707.0  zip_60827.0  \\\n",
       "134276            0            0            0   \n",
       "134251            0            0            0   \n",
       "\n",
       "        inspection_type_Suspected Food Poisoning  \n",
       "134276                                         0  \n",
       "134251                                         0  \n",
       "\n",
       "[2 rows x 107 columns]"
      ]
     },
     "execution_count": 80,
     "metadata": {},
     "output_type": "execute_result"
    }
   ],
   "source": [
    "# Drop unnecessary columns from the dataset sorted by time of inspection\n",
    "df_03 = df_New.drop(['inspection_id', 'license', 'inspection_date', 'Unnamed: 0',\n",
    "                    'inspection_type_Canvass',\n",
    "                    'inspection_type_Canvass Re-Inspection', 'inspection_type_Complaint',\n",
    "                    'inspection_type_Complaint Re-Inspection',\n",
    "                    'inspection_type_Short Form Complaint',\n",
    "                    'inspection_type_Suspected Food Poisoning Re-inspection'], axis = 1)\n",
    "df_03.head(2)"
   ]
  },
  {
   "cell_type": "code",
   "execution_count": 81,
   "metadata": {},
   "outputs": [
    {
     "data": {
      "text/html": [
       "<div>\n",
       "<style scoped>\n",
       "    .dataframe tbody tr th:only-of-type {\n",
       "        vertical-align: middle;\n",
       "    }\n",
       "\n",
       "    .dataframe tbody tr th {\n",
       "        vertical-align: top;\n",
       "    }\n",
       "\n",
       "    .dataframe thead th {\n",
       "        text-align: right;\n",
       "    }\n",
       "</style>\n",
       "<table border=\"1\" class=\"dataframe\">\n",
       "  <thead>\n",
       "    <tr style=\"text-align: right;\">\n",
       "      <th></th>\n",
       "      <th>#1</th>\n",
       "      <th>#2</th>\n",
       "      <th>#3</th>\n",
       "      <th>#4</th>\n",
       "      <th>#5</th>\n",
       "      <th>#6</th>\n",
       "      <th>#7</th>\n",
       "      <th>#8</th>\n",
       "      <th>#9</th>\n",
       "      <th>#10</th>\n",
       "      <th>...</th>\n",
       "      <th>zip_60654.0</th>\n",
       "      <th>zip_60655.0</th>\n",
       "      <th>zip_60656.0</th>\n",
       "      <th>zip_60657.0</th>\n",
       "      <th>zip_60659.0</th>\n",
       "      <th>zip_60660.0</th>\n",
       "      <th>zip_60661.0</th>\n",
       "      <th>zip_60666.0</th>\n",
       "      <th>zip_60707.0</th>\n",
       "      <th>zip_60827.0</th>\n",
       "    </tr>\n",
       "  </thead>\n",
       "  <tbody>\n",
       "    <tr>\n",
       "      <th>134276</th>\n",
       "      <td>0.0</td>\n",
       "      <td>0.0</td>\n",
       "      <td>0.0</td>\n",
       "      <td>0.0</td>\n",
       "      <td>0.0</td>\n",
       "      <td>0.0</td>\n",
       "      <td>0.0</td>\n",
       "      <td>0.0</td>\n",
       "      <td>0.0</td>\n",
       "      <td>0.0</td>\n",
       "      <td>...</td>\n",
       "      <td>0</td>\n",
       "      <td>0</td>\n",
       "      <td>0</td>\n",
       "      <td>0</td>\n",
       "      <td>0</td>\n",
       "      <td>0</td>\n",
       "      <td>0</td>\n",
       "      <td>0</td>\n",
       "      <td>0</td>\n",
       "      <td>0</td>\n",
       "    </tr>\n",
       "    <tr>\n",
       "      <th>134251</th>\n",
       "      <td>0.0</td>\n",
       "      <td>0.0</td>\n",
       "      <td>0.0</td>\n",
       "      <td>0.0</td>\n",
       "      <td>0.0</td>\n",
       "      <td>0.0</td>\n",
       "      <td>0.0</td>\n",
       "      <td>0.0</td>\n",
       "      <td>0.0</td>\n",
       "      <td>0.0</td>\n",
       "      <td>...</td>\n",
       "      <td>0</td>\n",
       "      <td>0</td>\n",
       "      <td>0</td>\n",
       "      <td>0</td>\n",
       "      <td>0</td>\n",
       "      <td>0</td>\n",
       "      <td>0</td>\n",
       "      <td>0</td>\n",
       "      <td>0</td>\n",
       "      <td>0</td>\n",
       "    </tr>\n",
       "  </tbody>\n",
       "</table>\n",
       "<p>2 rows × 106 columns</p>\n",
       "</div>"
      ],
      "text/plain": [
       "         #1   #2   #3   #4   #5   #6   #7   #8   #9  #10  ...  zip_60654.0  \\\n",
       "134276  0.0  0.0  0.0  0.0  0.0  0.0  0.0  0.0  0.0  0.0  ...            0   \n",
       "134251  0.0  0.0  0.0  0.0  0.0  0.0  0.0  0.0  0.0  0.0  ...            0   \n",
       "\n",
       "        zip_60655.0  zip_60656.0  zip_60657.0  zip_60659.0  zip_60660.0  \\\n",
       "134276            0            0            0            0            0   \n",
       "134251            0            0            0            0            0   \n",
       "\n",
       "        zip_60661.0  zip_60666.0  zip_60707.0  zip_60827.0  \n",
       "134276            0            0            0            0  \n",
       "134251            0            0            0            0  \n",
       "\n",
       "[2 rows x 106 columns]"
      ]
     },
     "execution_count": 81,
     "metadata": {},
     "output_type": "execute_result"
    }
   ],
   "source": [
    "# Make the features and target dataframes and display the features dataframe\n",
    "target_df_03 = df_03['inspection_type_Suspected Food Poisoning']\n",
    "features_df_03 = df_03.drop(['inspection_type_Suspected Food Poisoning'], axis = 1)\n",
    "features_df_03.head(2)"
   ]
  },
  {
   "cell_type": "code",
   "execution_count": 82,
   "metadata": {},
   "outputs": [],
   "source": [
    "# Train and test sets for time series dataframes \n",
    "X_train_df3, X_test_df3, y_train_df3, y_test_df3 = train_test_split(features_df_03, target_df_03, test_size = 0.2, shuffle = False)\n",
    "tscv = TimeSeriesSplit(n_splits = 5)\n",
    "\n",
    "# Compute the ratio\n",
    "\n",
    "y_train_OK = y_train_df3[y_train_df3 == 1]\n",
    "len_OK = len(y_train_OK)\n",
    "\n",
    "y_train_not_OK = y_train_df3[y_train_df3 == 0]\n",
    "len_not_OK = len(y_train_not_OK)\n",
    "\n",
    "ratio_train = float(len_not_OK/len_OK)"
   ]
  },
  {
   "cell_type": "code",
   "execution_count": 83,
   "metadata": {},
   "outputs": [
    {
     "name": "stdout",
     "output_type": "stream",
     "text": [
      "Gradient Boosted trees model accuracy score : 0.5861260053619303\n",
      "Gradient Boosted trees model F1 score : 0.7344620851402038\n"
     ]
    }
   ],
   "source": [
    "# Cross validation to optimize F1 score, test set validation\n",
    "y_pred_3, XGB_classifier_3 = GBT_classification(X_train_df3, y_train_df3, X_test_df3, y_test_df3, tscv, ratio_train)"
   ]
  },
  {
   "cell_type": "code",
   "execution_count": 84,
   "metadata": {},
   "outputs": [
    {
     "name": "stdout",
     "output_type": "stream",
     "text": [
      "[[15665 11055]\n",
      " [   60    76]]\n"
     ]
    },
    {
     "data": {
      "text/plain": [
       "<matplotlib.axes._subplots.AxesSubplot at 0x1a3455cd68>"
      ]
     },
     "execution_count": 84,
     "metadata": {},
     "output_type": "execute_result"
    },
    {
     "data": {
      "image/png": "[encoded data removed]",
      "text/plain": [
       "<Figure size 432x432 with 2 Axes>"
      ]
     },
     "metadata": {
      "needs_background": "light"
     },
     "output_type": "display_data"
    }
   ],
   "source": [
    "# Confusion matrix \n",
    "plot_confusion_matrix(y_test_df3, y_pred_3, classes=class_names,title='Confusion matrix', figsize=(6,6))"
   ]
  },
  {
   "cell_type": "markdown",
   "metadata": {},
   "source": [
    "> **Observation**: An even higher increase in the number of Food poisoning correctly identified as such (True positives) is observed. Moreover, the False Negatives value is also lower compared with the previous model (True 'Food Poisoning' classified as 'No Food Poisoning'), and this model is more suited for classifying correctly cases of food poisoning, even though we loose some accuracy."
   ]
  },
  {
   "cell_type": "markdown",
   "metadata": {},
   "source": [
    "**3)** Dataset with the score value (**df_New_2**)."
   ]
  },
  {
   "cell_type": "code",
   "execution_count": 48,
   "metadata": {},
   "outputs": [
    {
     "data": {
      "text/html": [
       "<div>\n",
       "<style scoped>\n",
       "    .dataframe tbody tr th:only-of-type {\n",
       "        vertical-align: middle;\n",
       "    }\n",
       "\n",
       "    .dataframe tbody tr th {\n",
       "        vertical-align: top;\n",
       "    }\n",
       "\n",
       "    .dataframe thead th {\n",
       "        text-align: right;\n",
       "    }\n",
       "</style>\n",
       "<table border=\"1\" class=\"dataframe\">\n",
       "  <thead>\n",
       "    <tr style=\"text-align: right;\">\n",
       "      <th></th>\n",
       "      <th>inspection_id</th>\n",
       "      <th>inspection_date</th>\n",
       "      <th>score</th>\n",
       "      <th>Unnamed: 0</th>\n",
       "      <th>#1</th>\n",
       "      <th>#2</th>\n",
       "      <th>#3</th>\n",
       "      <th>#4</th>\n",
       "      <th>#5</th>\n",
       "      <th>#6</th>\n",
       "      <th>...</th>\n",
       "      <th>zip_60666.0</th>\n",
       "      <th>zip_60707.0</th>\n",
       "      <th>zip_60827.0</th>\n",
       "      <th>inspection_type_Canvass</th>\n",
       "      <th>inspection_type_Canvass Re-Inspection</th>\n",
       "      <th>inspection_type_Complaint</th>\n",
       "      <th>inspection_type_Complaint Re-Inspection</th>\n",
       "      <th>inspection_type_Short Form Complaint</th>\n",
       "      <th>inspection_type_Suspected Food Poisoning</th>\n",
       "      <th>inspection_type_Suspected Food Poisoning Re-inspection</th>\n",
       "    </tr>\n",
       "  </thead>\n",
       "  <tbody>\n",
       "    <tr>\n",
       "      <th>134276</th>\n",
       "      <td>104236</td>\n",
       "      <td>2010-01-04</td>\n",
       "      <td>4.433844</td>\n",
       "      <td>134276</td>\n",
       "      <td>0.0</td>\n",
       "      <td>0.0</td>\n",
       "      <td>0.0</td>\n",
       "      <td>0.0</td>\n",
       "      <td>0.0</td>\n",
       "      <td>0.0</td>\n",
       "      <td>...</td>\n",
       "      <td>0</td>\n",
       "      <td>0</td>\n",
       "      <td>0</td>\n",
       "      <td>1</td>\n",
       "      <td>0</td>\n",
       "      <td>0</td>\n",
       "      <td>0</td>\n",
       "      <td>0</td>\n",
       "      <td>0</td>\n",
       "      <td>0</td>\n",
       "    </tr>\n",
       "    <tr>\n",
       "      <th>134251</th>\n",
       "      <td>158242</td>\n",
       "      <td>2010-01-05</td>\n",
       "      <td>1.658378</td>\n",
       "      <td>134251</td>\n",
       "      <td>0.0</td>\n",
       "      <td>0.0</td>\n",
       "      <td>0.0</td>\n",
       "      <td>0.0</td>\n",
       "      <td>0.0</td>\n",
       "      <td>0.0</td>\n",
       "      <td>...</td>\n",
       "      <td>0</td>\n",
       "      <td>0</td>\n",
       "      <td>0</td>\n",
       "      <td>1</td>\n",
       "      <td>0</td>\n",
       "      <td>0</td>\n",
       "      <td>0</td>\n",
       "      <td>0</td>\n",
       "      <td>0</td>\n",
       "      <td>0</td>\n",
       "    </tr>\n",
       "  </tbody>\n",
       "</table>\n",
       "<p>2 rows × 118 columns</p>\n",
       "</div>"
      ],
      "text/plain": [
       "        inspection_id inspection_date     score  Unnamed: 0   #1   #2   #3  \\\n",
       "134276         104236      2010-01-04  4.433844      134276  0.0  0.0  0.0   \n",
       "134251         158242      2010-01-05  1.658378      134251  0.0  0.0  0.0   \n",
       "\n",
       "         #4   #5   #6  ...  zip_60666.0  zip_60707.0  zip_60827.0  \\\n",
       "134276  0.0  0.0  0.0  ...            0            0            0   \n",
       "134251  0.0  0.0  0.0  ...            0            0            0   \n",
       "\n",
       "        inspection_type_Canvass  inspection_type_Canvass Re-Inspection  \\\n",
       "134276                        1                                      0   \n",
       "134251                        1                                      0   \n",
       "\n",
       "        inspection_type_Complaint  inspection_type_Complaint Re-Inspection  \\\n",
       "134276                          0                                        0   \n",
       "134251                          0                                        0   \n",
       "\n",
       "        inspection_type_Short Form Complaint  \\\n",
       "134276                                     0   \n",
       "134251                                     0   \n",
       "\n",
       "        inspection_type_Suspected Food Poisoning  \\\n",
       "134276                                         0   \n",
       "134251                                         0   \n",
       "\n",
       "        inspection_type_Suspected Food Poisoning Re-inspection  \n",
       "134276                                                  0       \n",
       "134251                                                  0       \n",
       "\n",
       "[2 rows x 118 columns]"
      ]
     },
     "execution_count": 48,
     "metadata": {},
     "output_type": "execute_result"
    }
   ],
   "source": [
    "df_New_2.head(2)"
   ]
  },
  {
   "cell_type": "code",
   "execution_count": 49,
   "metadata": {},
   "outputs": [
    {
     "data": {
      "text/html": [
       "<div>\n",
       "<style scoped>\n",
       "    .dataframe tbody tr th:only-of-type {\n",
       "        vertical-align: middle;\n",
       "    }\n",
       "\n",
       "    .dataframe tbody tr th {\n",
       "        vertical-align: top;\n",
       "    }\n",
       "\n",
       "    .dataframe thead th {\n",
       "        text-align: right;\n",
       "    }\n",
       "</style>\n",
       "<table border=\"1\" class=\"dataframe\">\n",
       "  <thead>\n",
       "    <tr style=\"text-align: right;\">\n",
       "      <th></th>\n",
       "      <th>score</th>\n",
       "      <th>risk</th>\n",
       "      <th>results</th>\n",
       "      <th>zip_60601.0</th>\n",
       "      <th>zip_60602.0</th>\n",
       "      <th>zip_60603.0</th>\n",
       "      <th>zip_60604.0</th>\n",
       "      <th>zip_60605.0</th>\n",
       "      <th>zip_60606.0</th>\n",
       "      <th>zip_60607.0</th>\n",
       "      <th>...</th>\n",
       "      <th>zip_60654.0</th>\n",
       "      <th>zip_60655.0</th>\n",
       "      <th>zip_60656.0</th>\n",
       "      <th>zip_60657.0</th>\n",
       "      <th>zip_60659.0</th>\n",
       "      <th>zip_60660.0</th>\n",
       "      <th>zip_60661.0</th>\n",
       "      <th>zip_60666.0</th>\n",
       "      <th>zip_60707.0</th>\n",
       "      <th>zip_60827.0</th>\n",
       "    </tr>\n",
       "  </thead>\n",
       "  <tbody>\n",
       "    <tr>\n",
       "      <th>134276</th>\n",
       "      <td>4.433844</td>\n",
       "      <td>3</td>\n",
       "      <td>-1</td>\n",
       "      <td>0</td>\n",
       "      <td>0</td>\n",
       "      <td>0</td>\n",
       "      <td>0</td>\n",
       "      <td>0</td>\n",
       "      <td>0</td>\n",
       "      <td>0</td>\n",
       "      <td>...</td>\n",
       "      <td>0</td>\n",
       "      <td>0</td>\n",
       "      <td>0</td>\n",
       "      <td>0</td>\n",
       "      <td>0</td>\n",
       "      <td>0</td>\n",
       "      <td>0</td>\n",
       "      <td>0</td>\n",
       "      <td>0</td>\n",
       "      <td>0</td>\n",
       "    </tr>\n",
       "    <tr>\n",
       "      <th>134251</th>\n",
       "      <td>1.658378</td>\n",
       "      <td>2</td>\n",
       "      <td>0</td>\n",
       "      <td>0</td>\n",
       "      <td>0</td>\n",
       "      <td>0</td>\n",
       "      <td>0</td>\n",
       "      <td>0</td>\n",
       "      <td>0</td>\n",
       "      <td>0</td>\n",
       "      <td>...</td>\n",
       "      <td>0</td>\n",
       "      <td>0</td>\n",
       "      <td>0</td>\n",
       "      <td>0</td>\n",
       "      <td>0</td>\n",
       "      <td>0</td>\n",
       "      <td>0</td>\n",
       "      <td>0</td>\n",
       "      <td>0</td>\n",
       "      <td>0</td>\n",
       "    </tr>\n",
       "  </tbody>\n",
       "</table>\n",
       "<p>2 rows × 62 columns</p>\n",
       "</div>"
      ],
      "text/plain": [
       "           score  risk  results  zip_60601.0  zip_60602.0  zip_60603.0  \\\n",
       "134276  4.433844     3       -1            0            0            0   \n",
       "134251  1.658378     2        0            0            0            0   \n",
       "\n",
       "        zip_60604.0  zip_60605.0  zip_60606.0  zip_60607.0  ...  zip_60654.0  \\\n",
       "134276            0            0            0            0  ...            0   \n",
       "134251            0            0            0            0  ...            0   \n",
       "\n",
       "        zip_60655.0  zip_60656.0  zip_60657.0  zip_60659.0  zip_60660.0  \\\n",
       "134276            0            0            0            0            0   \n",
       "134251            0            0            0            0            0   \n",
       "\n",
       "        zip_60661.0  zip_60666.0  zip_60707.0  zip_60827.0  \n",
       "134276            0            0            0            0  \n",
       "134251            0            0            0            0  \n",
       "\n",
       "[2 rows x 62 columns]"
      ]
     },
     "execution_count": 49,
     "metadata": {},
     "output_type": "execute_result"
    }
   ],
   "source": [
    "# Drop useless columns from the dataset of interest\n",
    "df_04 = df_New_2.drop(['inspection_type_Canvass',\n",
    "       'inspection_type_Canvass Re-Inspection', 'inspection_type_Complaint',\n",
    "       'inspection_type_Complaint Re-Inspection',\n",
    "       'inspection_type_Short Form Complaint',\n",
    "       'inspection_type_Suspected Food Poisoning Re-inspection'], axis = 1)\n",
    "\n",
    "del df_04['Unnamed: 0']\n",
    "\n",
    "\n",
    "# Make the features and target dataframes and display the features dataframe\n",
    "target_df_04 = df_04['inspection_type_Suspected Food Poisoning']\n",
    "features_df_04 = df_04.drop(['inspection_type_Suspected Food Poisoning', 'inspection_date', 'inspection_id', 'license'], axis = 1)\n",
    "\n",
    "# Drop the violations\n",
    "features_df_04 = features_df_04[features_df_04.columns.drop(list(features_df_04.filter(regex='#')))]\n",
    "features_df_04.head(2)"
   ]
  },
  {
   "cell_type": "code",
   "execution_count": 50,
   "metadata": {},
   "outputs": [],
   "source": [
    "# Train and test sets for time series dataframes \n",
    "X_train_df4, X_test_df4, y_train_df4, y_test_df4 = train_test_split(features_df_04, target_df_04, test_size = 0.2, shuffle = False)\n",
    "tscv = TimeSeriesSplit(n_splits = 5)\n",
    "\n",
    "# Compute the ratio\n",
    "\n",
    "y_train_OK = y_train_df4[y_train_df4 == 1]\n",
    "len_OK = len(y_train_OK)\n",
    "\n",
    "y_train_not_OK = y_train_df4[y_train_df4  == 0]\n",
    "len_not_OK = len(y_train_not_OK)\n",
    "\n",
    "ratio_train = float(len_not_OK/len_OK)"
   ]
  },
  {
   "cell_type": "code",
   "execution_count": 51,
   "metadata": {},
   "outputs": [
    {
     "name": "stdout",
     "output_type": "stream",
     "text": [
      "Gradient Boosted trees model accuracy score : 0.5406985403634197\n",
      "Gradient Boosted trees model F1 score : 0.6970553634132073\n"
     ]
    }
   ],
   "source": [
    "# Cross validation to optimize F1 score, test set validation\n",
    "y_pred_4, XGB_classifier_4 = GBT_classification(X_train_df4, y_train_df4, X_test_df4, y_test_df4, tscv, ratio_train)"
   ]
  },
  {
   "cell_type": "code",
   "execution_count": 54,
   "metadata": {},
   "outputs": [
    {
     "name": "stdout",
     "output_type": "stream",
     "text": [
      "[[14427 12293]\n",
      " [   42    94]]\n"
     ]
    },
    {
     "data": {
      "image/png": "[encoded data removed]",
      "text/plain": [
       "<Figure size 432x432 with 2 Axes>"
      ]
     },
     "metadata": {
      "needs_background": "light"
     },
     "output_type": "display_data"
    }
   ],
   "source": [
    "# Plot confusion matrix\n",
    "plot_confusion_matrix(y_test_df4, y_pred_4, classes=class_names,title='Confusion matrix', figsize=(6,6))\n",
    "plt.savefig('CM_2.png')"
   ]
  },
  {
   "cell_type": "markdown",
   "metadata": {},
   "source": [
    "> **Observation**: This model is the best in terms of correct classification food poisoning cases."
   ]
  },
  {
   "cell_type": "markdown",
   "metadata": {},
   "source": [
    "### 7.4.1 ROC-curve analysis"
   ]
  },
  {
   "cell_type": "markdown",
   "metadata": {},
   "source": [
    "A Receiver Operator Characteristic (ROC) curve is a graphical plot used to show the diagnostic ability of binary classifiers. It is obtained by plotting the true positive rate (TPR) against the false positive rate (FPR). Both axes vary between 0 and 1, and the closer the curve is to the upper-left corner, the better is the performance of the model. Moreover, the shape of the ROC curve does not depend on the class distribution, which makes it even better suited for use in our case.\n",
    "\n",
    "> We plot ROC curves on the same figure for all models, and display the roc-auc score."
   ]
  },
  {
   "cell_type": "code",
   "execution_count": 65,
   "metadata": {},
   "outputs": [
    {
     "name": "stdout",
     "output_type": "stream",
     "text": [
      "roc_auc_score model 1:  0.6140629673945558\n",
      "roc_auc_score model 2:  0.5408671627333568\n",
      "roc_auc_score model 3:  0.6155545526593871\n"
     ]
    },
    {
     "data": {
      "image/png": "[encoded data removed]",
      "text/plain": [
       "<Figure size 504x504 with 1 Axes>"
      ]
     },
     "metadata": {
      "needs_background": "light"
     },
     "output_type": "display_data"
    }
   ],
   "source": [
    "fpr_2, fpr_3, fpr_4 = dict(), dict(), dict()\n",
    "tpr_2, tpr_3, tpr_4 = dict(), dict(), dict()\n",
    "roc_auc_2, roc_auc_3, roc_auc_4 = dict(), dict(), dict()\n",
    "for i in range(2):\n",
    "    fpr_2[i], tpr_2[i], _ = roc_curve(y_test_df2, y_pred_2)\n",
    "    roc_auc_2[i] = auc(fpr_2[i], tpr_2[i])\n",
    "    fpr_3[i], tpr_3[i], _ = roc_curve(y_test_df3, y_pred_3)\n",
    "    roc_auc_3[i] = auc(fpr_3[i], tpr_3[i])\n",
    "    fpr_4[i], tpr_4[i], _ = roc_curve(y_test_df4, y_pred_4)\n",
    "    roc_auc_4[i] = auc(fpr_4[i], tpr_4[i])\n",
    "  \n",
    "\n",
    "\n",
    "print('roc_auc_score model 1: ',roc_auc_score(y_test_df2, y_pred_2))\n",
    "print('roc_auc_score model 2: ',roc_auc_score(y_test_df3, y_pred_3))\n",
    "print('roc_auc_score model 3: ',roc_auc_score(y_test_df4, y_pred_4))\n",
    "plt.figure(figsize=(7,7))\n",
    "plt.plot(fpr_2[1], tpr_2[1], label='model 1')\n",
    "plt.plot(fpr_3[1], tpr_3[1], label = 'model 2')\n",
    "plt.plot(fpr_4[1], tpr_4[1], label = 'model 3')\n",
    "plt.plot ([0.0, 1.0], [0.0, 1.0], '--')\n",
    "plt.xlim([0.0, 1.0])\n",
    "plt.ylim([0.0, 1.05])\n",
    "plt.xlabel('False Positive Rate')\n",
    "plt.ylabel('True Positive Rate')\n",
    "plt.title('Receiver operating characteristic')\n",
    "plt.legend()\n",
    "plt.savefig('ROC.png')\n",
    "plt.show()"
   ]
  },
  {
   "cell_type": "markdown",
   "metadata": {},
   "source": [
    "**Conclusions**: The third model built using the **df_New_2** dataset (the one containing the score computed based on the violations) offers the best performance in terms of ROC-AUC score, F1 score and sensitivity. However, it could be improved by having more data related to food poisoning inspections, which will help to balance the dataset, for instance, or more correlated features. Another limitation of this model is that the score was computed by us, and could introduce some bias.\n",
    "Based on the AUC score, the best model seems to be the model 3 ."
   ]
  },
  {
   "cell_type": "markdown",
   "metadata": {},
   "source": [
    "### 7.4.2 Most correlated features for predicting cases of food poisoning inspections"
   ]
  },
  {
   "cell_type": "markdown",
   "metadata": {},
   "source": [
    "Here, we tried to look at the features that were of greatest importance in building the models."
   ]
  },
  {
   "cell_type": "code",
   "execution_count": 72,
   "metadata": {},
   "outputs": [
    {
     "data": {
      "text/html": [
       "<div>\n",
       "<style scoped>\n",
       "    .dataframe tbody tr th:only-of-type {\n",
       "        vertical-align: middle;\n",
       "    }\n",
       "\n",
       "    .dataframe tbody tr th {\n",
       "        vertical-align: top;\n",
       "    }\n",
       "\n",
       "    .dataframe thead th {\n",
       "        text-align: right;\n",
       "    }\n",
       "</style>\n",
       "<table border=\"1\" class=\"dataframe\">\n",
       "  <thead>\n",
       "    <tr style=\"text-align: right;\">\n",
       "      <th></th>\n",
       "      <th>importance</th>\n",
       "    </tr>\n",
       "  </thead>\n",
       "  <tbody>\n",
       "    <tr>\n",
       "      <th>score</th>\n",
       "      <td>0.275742</td>\n",
       "    </tr>\n",
       "    <tr>\n",
       "      <th>zip_60611.0</th>\n",
       "      <td>0.113371</td>\n",
       "    </tr>\n",
       "    <tr>\n",
       "      <th>risk</th>\n",
       "      <td>0.111624</td>\n",
       "    </tr>\n",
       "    <tr>\n",
       "      <th>zip_60623.0</th>\n",
       "      <td>0.083874</td>\n",
       "    </tr>\n",
       "    <tr>\n",
       "      <th>zip_60617.0</th>\n",
       "      <td>0.082845</td>\n",
       "    </tr>\n",
       "  </tbody>\n",
       "</table>\n",
       "</div>"
      ],
      "text/plain": [
       "             importance\n",
       "score          0.275742\n",
       "zip_60611.0    0.113371\n",
       "risk           0.111624\n",
       "zip_60623.0    0.083874\n",
       "zip_60617.0    0.082845"
      ]
     },
     "execution_count": 72,
     "metadata": {},
     "output_type": "execute_result"
    }
   ],
   "source": [
    "# Display important features for model 3\n",
    "feature_importances_1 = pd.DataFrame(XGB_classifier_4.feature_importances_,\n",
    "                                   index = X_train_df4.columns,\n",
    "                                    columns=['importance']).sort_values('importance', ascending=False)\n",
    "\n",
    "feature_importances_1.head()"
   ]
  },
  {
   "cell_type": "code",
   "execution_count": 74,
   "metadata": {},
   "outputs": [
    {
     "data": {
      "text/plain": [
       "<matplotlib.axes._subplots.AxesSubplot at 0x1a3461b080>"
      ]
     },
     "execution_count": 74,
     "metadata": {},
     "output_type": "execute_result"
    },
    {
     "data": {
      "image/png": "[encoded data removed]",
      "text/plain": [
       "<Figure size 432x432 with 1 Axes>"
      ]
     },
     "metadata": {
      "needs_background": "light"
     },
     "output_type": "display_data"
    }
   ],
   "source": [
    "# Show them in a histogram\n",
    "feat_importances = pd.Series(XGB_classifier_4.feature_importances_, index=X_train_df4.columns)\n",
    "feat_importances.nlargest(30).plot(kind='barh', figsize=(6,6))"
   ]
  },
  {
   "cell_type": "markdown",
   "metadata": {},
   "source": [
    "> **Observation 1**: The model gets most of its predictive power from the score. Violations seem to be more correlated with the food poisoning than the locations."
   ]
  },
  {
   "cell_type": "code",
   "execution_count": 85,
   "metadata": {},
   "outputs": [
    {
     "data": {
      "text/html": [
       "<div>\n",
       "<style scoped>\n",
       "    .dataframe tbody tr th:only-of-type {\n",
       "        vertical-align: middle;\n",
       "    }\n",
       "\n",
       "    .dataframe tbody tr th {\n",
       "        vertical-align: top;\n",
       "    }\n",
       "\n",
       "    .dataframe thead th {\n",
       "        text-align: right;\n",
       "    }\n",
       "</style>\n",
       "<table border=\"1\" class=\"dataframe\">\n",
       "  <thead>\n",
       "    <tr style=\"text-align: right;\">\n",
       "      <th></th>\n",
       "      <th>importance</th>\n",
       "    </tr>\n",
       "  </thead>\n",
       "  <tbody>\n",
       "    <tr>\n",
       "      <th>#3</th>\n",
       "      <td>0.139457</td>\n",
       "    </tr>\n",
       "    <tr>\n",
       "      <th>#33</th>\n",
       "      <td>0.045129</td>\n",
       "    </tr>\n",
       "    <tr>\n",
       "      <th>risk</th>\n",
       "      <td>0.043177</td>\n",
       "    </tr>\n",
       "    <tr>\n",
       "      <th>zip_60611.0</th>\n",
       "      <td>0.042980</td>\n",
       "    </tr>\n",
       "    <tr>\n",
       "      <th>#6</th>\n",
       "      <td>0.041738</td>\n",
       "    </tr>\n",
       "  </tbody>\n",
       "</table>\n",
       "</div>"
      ],
      "text/plain": [
       "             importance\n",
       "#3             0.139457\n",
       "#33            0.045129\n",
       "risk           0.043177\n",
       "zip_60611.0    0.042980\n",
       "#6             0.041738"
      ]
     },
     "execution_count": 85,
     "metadata": {},
     "output_type": "execute_result"
    }
   ],
   "source": [
    "# Display important features for model 3\n",
    "feature_importances_2 = pd.DataFrame(XGB_classifier_3.feature_importances_,\n",
    "                                   index = X_train_df3.columns,\n",
    "                                    columns=['importance']).sort_values('importance', ascending=False)\n",
    "\n",
    "feature_importances_2.head()"
   ]
  },
  {
   "cell_type": "code",
   "execution_count": 86,
   "metadata": {},
   "outputs": [
    {
     "data": {
      "text/plain": [
       "<matplotlib.axes._subplots.AxesSubplot at 0x1a34520710>"
      ]
     },
     "execution_count": 86,
     "metadata": {},
     "output_type": "execute_result"
    },
    {
     "data": {
      "image/png": "[encoded data removed]",
      "text/plain": [
       "<Figure size 432x432 with 1 Axes>"
      ]
     },
     "metadata": {
      "needs_background": "light"
     },
     "output_type": "display_data"
    }
   ],
   "source": [
    "# Show them in a histogram\n",
    "feat_importances = pd.Series(XGB_classifier_3.feature_importances_, index=X_train_df3.columns)\n",
    "feat_importances.nlargest(30).plot(kind='barh', figsize=(6,6))"
   ]
  },
  {
   "cell_type": "markdown",
   "metadata": {},
   "source": [
    "**Observation 2**:  The model gets most of its predictive power from the third violation (related to the temperature of food storage) and from other minor violations. Some locations are also more represented than others."
   ]
  },
  {
   "cell_type": "markdown",
   "metadata": {},
   "source": [
    "# GENERAL CONCLUSION "
   ]
  },
  {
   "cell_type": "markdown",
   "metadata": {},
   "source": [
    "We can't predict food poisoning but we can prevent it . cf [data story](https://marisofie.github.io/epfl_ada_project/)"
   ]
  }
 ],
 "metadata": {
  "kernelspec": {
   "display_name": "Python 3",
   "language": "python",
   "name": "python3"
  },
  "language_info": {
   "codemirror_mode": {
    "name": "ipython",
    "version": 3
   },
   "file_extension": ".py",
   "mimetype": "text/x-python",
   "name": "python",
   "nbconvert_exporter": "python",
   "pygments_lexer": "ipython3",
   "version": "3.7.4"
  }
 },
 "nbformat": 4,
 "nbformat_minor": 2
}
