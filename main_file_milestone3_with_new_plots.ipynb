{
 "cells": [
  {
   "cell_type": "code",
   "execution_count": null,
   "metadata": {},
   "outputs": [],
   "source": [
    "import os\n",
    "import re\n",
    "import warnings\n",
    "import folium\n",
    "import pickle\n",
    "import gensim\n",
    "import math\n",
    "import numpy as np\n",
    "import pyLDAvis.gensim\n",
    "import geopandas as gpd\n",
    "import pandas as pd\n",
    "import numpy as np\n",
    "import statsmodels as sm\n",
    "import seaborn as sns \n",
    "import colorlover as cl\n",
    "import matplotlib.ticker as mtick\n",
    "import matplotlib.pyplot as plt\n",
    "import scipy.stats as stats \n",
    "import plotly.io as pio\n",
    "import plotly.offline as py\n",
    "import xgboost as xgb\n",
    "\n",
    "\n",
    "from os import path\n",
    "from PIL import Image\n",
    "from gensim import corpora\n",
    "from empath import Empath\n",
    "from wordcloud import WordCloud, STOPWORDS\n",
    "from collections import Counter\n",
    "from scipy.stats import powerlaw \n",
    "from folium import plugins\n",
    "from folium.plugins import HeatMap\n",
    "from IPython.display import IFrame\n",
    "from plotly import graph_objects as go\n",
    "\n",
    "\n",
    "from scipy import stats\n",
    "from sklearn.model_selection import train_test_split, validation_curve, cross_val_score, KFold\n",
    "from sklearn.metrics import mean_squared_error\n",
    "from sklearn.pipeline import Pipeline\n",
    "from sklearn.linear_model import Ridge\n",
    "from sklearn.preprocessing import StandardScaler\n",
    "from sklearn.linear_model import RidgeClassifier\n",
    "from sklearn.ensemble import RandomForestClassifier\n",
    "from sklearn.metrics import accuracy_score, f1_score\n",
    "from xgboost import XGBClassifier\n",
    "from sklearn.metrics import confusion_matrix\n",
    "from sklearn.metrics import roc_curve, auc\n",
    "from sklearn.model_selection import TimeSeriesSplit\n",
    "from sklearn.metrics import roc_auc_score\n",
    " \n",
    "\n",
    "from violation_preprocessing import violation_separator, violations_dataframe\n",
    "from mapping_functions import generateBaseMap, geodataframe, chlorepleth_map, adding_Marker, adding_CircleMarker\n",
    "from ml_functions import GBT_classification, Rf_classification, plot_confusion_matrix\n",
    "\n",
    "%matplotlib inline\n",
    "sns.set()\n",
    "warnings.filterwarnings('ignore')\n",
    "pio.renderers.default = 'iframe'"
   ]
  },
  {
   "cell_type": "markdown",
   "metadata": {},
   "source": [
    "# 1- Contextualization "
   ]
  },
  {
   "cell_type": "markdown",
   "metadata": {},
   "source": [
    "In order to add a context to our data story, we decided to introduce a new dataset : [US National Outbreak](https://wwwn.cdc.gov/norsdashboard/)"
   ]
  },
  {
   "cell_type": "code",
   "execution_count": null,
   "metadata": {},
   "outputs": [],
   "source": [
    "# import the new dataset\n",
    "data_outbreak_0 = pd.read_excel('data/NationalOutbreakPublicDataTool.xlsx')\n",
    "\n",
    "# selection of column of interest\n",
    "interest_columns = ['Year','State','Etiology','Setting','Illnesses','Hospitalizations','Food Vehicle','Food Contaminated Ingredient']\n",
    "\n",
    "# dataframe of interest\n",
    "data_outbreak = data_outbreak_0[interest_columns]\n",
    "\n",
    "data_outbreak.head(3)"
   ]
  },
  {
   "cell_type": "markdown",
   "metadata": {},
   "source": [
    "## 1.1 US outbreak mapping "
   ]
  },
  {
   "cell_type": "markdown",
   "metadata": {},
   "source": [
    "The aim of this part is to plot the number of outbreaks per state. "
   ]
  },
  {
   "cell_type": "code",
   "execution_count": null,
   "metadata": {},
   "outputs": [],
   "source": [
    "# counting the number of outbreak per state \n",
    "data_outbreak_count = pd.DataFrame(data_outbreak.groupby('State').count())\n",
    "\n",
    "data_outbreak_count.reset_index(inplace = True)\n",
    "\n",
    "# selecting only the column of interest for the mapping\n",
    "data_outbreak_count = data_outbreak_count[['State','Year']]\n",
    "\n",
    "data_outbreak_count.rename(columns = {'Year': 'count','State':'name'}, inplace = True)\n",
    "\n",
    "data_outbreak_count.head(3)"
   ]
  },
  {
   "cell_type": "markdown",
   "metadata": {},
   "source": [
    "> we need to use a geojson file for the border of each nation."
   ]
  },
  {
   "cell_type": "code",
   "execution_count": null,
   "metadata": {},
   "outputs": [],
   "source": [
    "# path to geoJson file \n",
    "us_geo = os.path.join('data/us-states.json')\n",
    "\n",
    "# creation of a geodataframe using geopandas\n",
    "us_gdf = gpd.read_file(us_geo)\n",
    "\n",
    "# add a column with the x-coordinate of the multipolygon\n",
    "us_gdf['centroid_y'] = us_gdf['geometry'].centroid.x\n",
    "\n",
    "# add a column with the y-coordinate of the multipolygon\n",
    "us_gdf['centroid_x'] = us_gdf['geometry'].centroid.y\n",
    "\n",
    "# setting a projection  by assigning the WGS84 latitude-longitude CRS to the crs attribute\n",
    "us_gdf.crs = {'init' :'epsg:4326'}\n",
    "\n",
    "# merging the geodataframe with our data of interst\n",
    "us_outbreak_gdf = pd.merge(us_gdf,data_outbreak_count, on = 'name')\n",
    "\n",
    "us_outbreak_gdf.head(3)"
   ]
  },
  {
   "cell_type": "markdown",
   "metadata": {},
   "source": [
    "> In the part below, we will not use the class created for mapping to use more specific parameters."
   ]
  },
  {
   "cell_type": "code",
   "execution_count": null,
   "metadata": {},
   "outputs": [],
   "source": [
    "# creating a basic map of Chicago\n",
    "map_ = folium.Map(location = [us_gdf.centroid_x.mean(),us_gdf.centroid_y.mean()], control_scale = True, zoom_start = 4)\n",
    "\n",
    "# cleaning the map background\n",
    "folium.TileLayer('CartoDB positron', name = \"Light Map\", control = False).add_to(map_)\n",
    "\n",
    "# setting our scale for the map colors \n",
    "myscale = list([0,500,1000,2000,3000])\n",
    "\n",
    "folium.Choropleth(\n",
    "        geo_data = us_geo,\n",
    "        name = 'US Outbreak',\n",
    "        data = us_outbreak_gdf,\n",
    "        columns = ['id','count'],\n",
    "        key_on = 'feature.id',\n",
    "        fill_color = 'Blues',\n",
    "        fill_opacity = 0.8,\n",
    "        line_opacity = 1,\n",
    "        legend_name = 'Outbreaks numbers',\n",
    "        threshold_scale = myscale,\n",
    "        smooth_factor = 0\n",
    "        \n",
    "    ).add_to(map_)\n",
    "\n",
    "\n",
    "\n",
    "style_function = lambda x: {'fillColor': '#ffffff', \n",
    "                            'color':'#000000', \n",
    "                            'fillOpacity': 0.1, \n",
    "                            'weight': 0.1}\n",
    "\n",
    "highlight_function = lambda x: {'fillColor': '#000000', \n",
    "                                'color':'#000000', \n",
    "                                'fillOpacity': 0.50, \n",
    "                                'weight': 0.1}\n",
    "\n",
    "\n",
    "L = folium.features.GeoJson(\n",
    "    us_outbreak_gdf,\n",
    "    style_function = style_function, \n",
    "    control = False,\n",
    "    highlight_function = highlight_function, \n",
    "    tooltip = folium.features.GeoJsonTooltip(\n",
    "        fields = ['name','count'],\n",
    "        aliases = ['State : ','Number of outbreak :'],\n",
    "        style = (\"background-color: white; color: #333333; font-family: arial; font-size: 12px; padding: 10px;\") \n",
    "    )\n",
    ")\n",
    "\n",
    "folium.Marker(\n",
    "        location = [41.8600, -87.6298], # coordinates for the marker \n",
    "        popup = 'CHICAGO ' ,  # pop-up label for the marker\n",
    "        icon = folium.Icon(color = 'darkred', icon ='arrow-down')\n",
    "    ).add_to(map_)\n",
    "\n",
    "\n",
    "map_.add_child(L)\n",
    "map_.keep_in_front(L)\n",
    "folium.LayerControl().add_to(map_)"
   ]
  },
  {
   "cell_type": "markdown",
   "metadata": {},
   "source": [
    "**Link to the map** : [Us Outbreak map](docs/maps/US_map.html)"
   ]
  },
  {
   "cell_type": "markdown",
   "metadata": {},
   "source": [
    "## 1.2 Food causing poisoning pie chart"
   ]
  },
  {
   "cell_type": "markdown",
   "metadata": {},
   "source": [
    "The aim of this part is to find out which type of food cause the highest cases of foodorne illnesses."
   ]
  },
  {
   "cell_type": "code",
   "execution_count": null,
   "metadata": {},
   "outputs": [],
   "source": [
    "# selection of column of interest\n",
    "interest_columns = ['Etiology','Illnesses','Hospitalizations','Food Vehicle','Food Contaminated Ingredient']\n",
    "\n",
    "# creating a new dataset with food\n",
    "data_food = data_outbreak_0[interest_columns]\n",
    "\n",
    "# removing all the unknown values\n",
    "data_food = data_food.dropna()\n",
    "\n",
    "data_food.head(3)"
   ]
  },
  {
   "cell_type": "markdown",
   "metadata": {},
   "source": [
    "> We need to clean the Food Vehicle column."
   ]
  },
  {
   "cell_type": "code",
   "execution_count": null,
   "metadata": {},
   "outputs": [],
   "source": [
    "# split then explode \n",
    "data_food['Food Vehicle'] = data_food['Food Vehicle'].str.split()\n",
    "data_food = data_food.explode('Food Vehicle')\n",
    "\n",
    "# cleaning the food column\n",
    "data_food['Food Vehicle'] = data_food['Food Vehicle'].str.replace('[^\\w\\s]','')\n",
    "\n",
    "ignore = ['unspecified','bbq','other','and','unpasteurized','gravy','ground','raw']\n",
    "\n",
    "# delete the unwanted words\n",
    "data_food = data_food[~data_food['Food Vehicle'].str.contains('|'.join(ignore))]\n",
    "\n",
    "total_food = data_food['Food Vehicle'].nunique()\n",
    "\n",
    "total_illnesses = data_food['Illnesses'].sum()\n",
    "\n",
    "print('There is ', total_food ,' different ingredients that can cause a foodborn illness.')\n",
    "\n",
    "data_food.head(3)"
   ]
  },
  {
   "cell_type": "code",
   "execution_count": null,
   "metadata": {},
   "outputs": [],
   "source": [
    "# create a dataframe grouped by food vehicle\n",
    "grouped_df = pd.DataFrame(data_food.groupby('Food Vehicle').first())\n",
    "\n",
    "# sum the number illnesses cases per type of food\n",
    "ill_df = pd.DataFrame(data_food.groupby('Food Vehicle')['Illnesses'].sum())\n",
    "\n",
    "ill_df.reset_index(inplace = True)\n",
    "\n",
    "# merge our dataframe or interest\n",
    "merged = pd.merge(grouped_df,ill_df, on = 'Food Vehicle')\n",
    "\n",
    "merged.rename(columns = {'Illnesses_y': 'illnesses_cases'}, inplace = True)\n",
    "\n",
    "# percentage computation for the pie chart \n",
    "merged['percentage'] = round((merged['illnesses_cases']/total_illnesses)*100,2)\n",
    "\n",
    "# sort by percentage\n",
    "merged = merged.sort_values('percentage', ascending = False)\n",
    "\n",
    "merged.head(3)"
   ]
  },
  {
   "cell_type": "markdown",
   "metadata": {},
   "source": [
    "> In this part we will just clean the data to obtain a readable plot."
   ]
  },
  {
   "cell_type": "code",
   "execution_count": null,
   "metadata": {},
   "outputs": [],
   "source": [
    "# keep only the relatively high percentage\n",
    "merged_plot = merged[merged['percentage'] > 1.25]\n",
    "\n",
    "# creation of the 'other' categorie for the pie chart\n",
    "other = merged[merged['percentage'] <= 1.25]\n",
    "\n",
    "# total percentage computation for the 'other' food category\n",
    "other_percentage = other.percentage.sum()\n",
    "\n",
    "# adding the 'other' percentage to the data for the plot\n",
    "merged_plot.loc[0] = ['others', 'many', 'NAN','NAN','NAN','NAN',other_percentage]\n",
    "\n",
    "# data used for the plots \n",
    "merged_plot.head(5)"
   ]
  },
  {
   "cell_type": "code",
   "execution_count": null,
   "metadata": {},
   "outputs": [],
   "source": [
    "# plotting of pie chart\n",
    "\n",
    "fig = go.Figure()\n",
    "\n",
    "\n",
    "# set up the first trace\n",
    "fig.add_trace(go.Pie(\n",
    "                    labels = merged_plot['Food Vehicle'],\n",
    "                    values = merged_plot['percentage'],\n",
    "                    visible = True,\n",
    "                    marker_colors = cl.scales['10']['div']['RdBu']\n",
    "                )\n",
    "             )\n",
    "\n",
    "fig.layout.update(\n",
    "    autosize = False,\n",
    "    width = 400,\n",
    "    height = 400,\n",
    "    template = \"plotly_white\",\n",
    "    #paper_bgcolor='#333'\n",
    ")\n",
    "\n",
    "fig.layout.update(\n",
    "    title = go.layout.Title(\n",
    "        text = 'Foods and their percentage of outbreaks',\n",
    "        y = 0.9,\n",
    "        x = 0.5,\n",
    "        xanchor = 'center',\n",
    "        yanchor = 'top',\n",
    "    )\n",
    ")\n",
    "\n",
    "fig.show()"
   ]
  },
  {
   "cell_type": "markdown",
   "metadata": {},
   "source": [
    "# 2- Spatial visualisation "
   ]
  },
  {
   "cell_type": "markdown",
   "metadata": {},
   "source": [
    "The aim of this part is to have a spatial visualisation of the inspections features. The map that we will create below will be used in different part of the data story. \n",
    "As each zip code have a different number of facilities, we will normalize each feature as follow :\n",
    "> proportion = # of facilities with feature(i) / # total number of facilities per zip code"
   ]
  },
  {
   "cell_type": "code",
   "execution_count": null,
   "metadata": {},
   "outputs": [],
   "source": [
    "# import the cleaning dataset (main project dataset) \n",
    "data = pd.read_csv('data/clean_dataset.csv', delimiter = ',')\n",
    "\n",
    "# drop the unnamed column\n",
    "data.drop(['Unnamed: 0'], axis = 1,inplace = True)\n",
    "\n",
    "# convert the zip column into an str\n",
    "data.zip = data.zip.astype(str)\n",
    "    \n",
    "# reformat the zip code writing in order to compare it with the zip code in geojson file (for vizualisation step)\n",
    "data['zip'] = data['zip'].apply(lambda x : x.split('.')[0])\n",
    "\n",
    "# we just want to extract the level of risk ( 1 , 2 or 3)\n",
    "data['risk'] = data['risk'].astype(str) \n",
    "data['risk_level'] = data['risk'].str[5]\n",
    "data['risk_level'] = data['risk_level'].astype(float)\n",
    "\n",
    "# show the dataframe\n",
    "display(data.head(3))"
   ]
  },
  {
   "cell_type": "code",
   "execution_count": null,
   "metadata": {},
   "outputs": [],
   "source": [
    "# creating our geodataframe based on the basic dataframe\n",
    "gdf = geodataframe(data)\n",
    "gdf.head(3)"
   ]
  },
  {
   "cell_type": "markdown",
   "metadata": {},
   "source": [
    "## 2.1 Food facilities repartition in chicago"
   ]
  },
  {
   "cell_type": "code",
   "execution_count": null,
   "metadata": {},
   "outputs": [],
   "source": [
    "#create a dataset with unique facilities\n",
    "data_unique = data.drop_duplicates(subset = 'license')"
   ]
  },
  {
   "cell_type": "code",
   "execution_count": null,
   "metadata": {},
   "outputs": [],
   "source": [
    "#plotting the clustered map \n",
    "\n",
    "map_clustered = generateBaseMap()\n",
    "cluster = folium.plugins.MarkerCluster(name = \"cluster name\").add_to(map_clustered)\n",
    "for i in range(len(data_unique)):\n",
    "    folium.Marker(\n",
    "        location = [data_unique.latitude.values[i],data_unique.longitude.values[i]], # coordinates for the marker \n",
    "        popup = data_unique.zip.values[i] ,  # pop-up label for the marker\n",
    "        icon = folium.Icon(color = 'darkpurple')\n",
    "    ).add_to(cluster)\n",
    "    \n",
    "#map_clustered.save('maps/cluster_map.html')"
   ]
  },
  {
   "cell_type": "markdown",
   "metadata": {},
   "source": [
    "**Link to the map** : [Facilities spatial repartition](docs/maps/cluster_map.html)"
   ]
  },
  {
   "cell_type": "markdown",
   "metadata": {},
   "source": [
    "## 2.2 Proportion of failed inspection per zip area"
   ]
  },
  {
   "cell_type": "markdown",
   "metadata": {},
   "source": [
    "> In this partt, we will focus on the facilities that failed their inspections"
   ]
  },
  {
   "cell_type": "code",
   "execution_count": null,
   "metadata": {},
   "outputs": [],
   "source": [
    "# creating a dataset with only the fail results \n",
    "fail_data = data[~data['results'].isin(['Pass','Pass w/ Conditions'])]\n",
    "\n",
    "# counting the number of fail per zip code\n",
    "fail_count_per_zip = pd.DataFrame(fail_data.groupby('zip')['results'].count()).reset_index()\n",
    "fail_count_per_zip.rename(columns = {'results': 'fail_count'}, inplace = True)\n",
    "\n",
    "# merge with gdf dataframe and facility count dataframe \n",
    "fail_gdf = pd.merge(gdf,fail_count_per_zip, on = 'zip')\n",
    "\n",
    "# proportion of facility that failed the investigation per zip code\n",
    "fail_gdf['fail_proportion'] = round(fail_gdf['fail_count'].divide(fail_gdf['facility_number_per_zip'])*100,2)\n",
    "\n",
    "fail_gdf.head(3)"
   ]
  },
  {
   "cell_type": "code",
   "execution_count": null,
   "metadata": {},
   "outputs": [],
   "source": [
    "fail_map = chlorepleth_map('Fail proportion',fail_gdf,['zip','fail_proportion'],'Fail proportion','Reds')\n",
    "\n",
    "# add transparent background\n",
    "folium.TileLayer('CartoDB positron', name = \"Light Map\", control = False).add_to(fail_map)\n",
    "\n",
    "#adding an interactif option to have informations about each zip code\n",
    "FIL = folium.features.GeoJson(\n",
    "    fail_gdf,\n",
    "    style_function = style_function, \n",
    "    control = False,\n",
    "    highlight_function = highlight_function, \n",
    "    tooltip = folium.features.GeoJsonTooltip(\n",
    "        fields = ['zip','facility_number_per_zip','fail_proportion'],\n",
    "        aliases = ['Zip: ','Number of inspections','% of failed inspections: '],\n",
    "        style = (\"background-color: white; color: #333333; font-family: arial; font-size: 12px; padding: 10px;\") \n",
    "    )\n",
    ")\n",
    "fail_map.add_child(FIL)\n",
    "fail_map.keep_in_front(FIL)\n",
    "folium.LayerControl().add_to(fail_map)\n",
    "\n",
    "#fail_map.save('maps/interactif_fail_map.html')\n",
    "\n",
    "IFrame(src = 'maps/interactif_fail_map.html', width = 700, height = 600)"
   ]
  },
  {
   "cell_type": "markdown",
   "metadata": {},
   "source": [
    "**Link to the map** : [Failed inspections map](docs/maps/interactif_fail_map.html)"
   ]
  },
  {
   "cell_type": "markdown",
   "metadata": {},
   "source": [
    "## 2.3 Proportion of facilities associated with high risk level"
   ]
  },
  {
   "cell_type": "code",
   "execution_count": null,
   "metadata": {},
   "outputs": [],
   "source": [
    "risk_per_zip = data[['zip','risk_level']]\n",
    "risk_per_zip = data[data['risk_level'] == 1.0 ]\n",
    "\n",
    "# calculating the number of facilities per zip for the normalization \n",
    "data_zip = pd.DataFrame(data.groupby('zip')['inspection_id'].count())\n",
    "data_zip.rename(columns = {'inspection_id': 'total_count'}, inplace = True)\n",
    "data_zip.reset_index()\n",
    "\n",
    "# counting the number of facilities per zip code where the risk is high\n",
    "risk_per_zip = pd.DataFrame(risk_per_zip.groupby('zip')['inspection_id'].count())\n",
    "risk_per_zip = risk_per_zip.reset_index()\n",
    "\n",
    "risk_per_zip.rename(columns = {'inspection_id': 'high_risk_count'}, inplace = True)\n",
    "\n",
    "risk_per_zip = pd.merge(risk_per_zip,data_zip, on ='zip')\n",
    "\n",
    "risk_per_zip['percentage'] = risk_per_zip['high_risk_count'].divide(risk_per_zip['total_count'])*100\n",
    "\n",
    "risk_per_zip.head(3)"
   ]
  },
  {
   "cell_type": "code",
   "execution_count": null,
   "metadata": {},
   "outputs": [],
   "source": [
    "#Map showing the repartition of average risk level in chicago per zip code\n",
    "\n",
    "# creating our geodataframe based on the basic dataframe\n",
    "gdf = geodataframe(data)\n",
    "gdf.head(3)\n",
    "    \n",
    "style_function = lambda x: {'fillColor': '#ffffff', \n",
    "                            'color':'#000000', \n",
    "                            'fillOpacity': 0.1, \n",
    "                            'weight': 0.1}\n",
    "\n",
    "highlight_function = lambda x: {'fillColor': '#000000', \n",
    "                                'color':'#000000', \n",
    "                                'fillOpacity': 0.50, \n",
    "                                'weight': 0.1}\n",
    "\n",
    "\n",
    "# merge with gdf dataframe  \n",
    "risk_gdf = pd.merge(gdf,risk_per_zip, on = 'zip')\n",
    "\n",
    "risk_map = chlorepleth_map ('Risk proportion',risk_gdf,['zip','percentage'],'Average Risk Level','YlOrRd')\n",
    "\n",
    "# add transparent background\n",
    "folium.TileLayer('CartoDB positron', name = \"Light Map\", control = False).add_to(risk_map)\n",
    "\n",
    "RIL = folium.features.GeoJson(\n",
    "    risk_gdf,\n",
    "    style_function = style_function, \n",
    "    control = False,\n",
    "    highlight_function = highlight_function, \n",
    "    tooltip = folium.features.GeoJsonTooltip(\n",
    "        fields = ['zip','percentage'],\n",
    "        aliases = ['Zip: ','Proportion of facilities associated with high risk :'],\n",
    "        style = (\"background-color: white; color: #333333; font-family: arial; font-size: 12px; padding: 10px;\") \n",
    "    )\n",
    ")\n",
    "risk_map.add_child(RIL)\n",
    "risk_map.keep_in_front(RIL)\n",
    "folium.LayerControl().add_to(risk_map)\n",
    "\n",
    "#risk_map.save('maps/interactif_risk_map.html')\n",
    "IFrame(src = 'maps/interactif_risk_map.html', width = 700, height = 600)"
   ]
  },
  {
   "cell_type": "markdown",
   "metadata": {},
   "source": [
    "**Link to the map** : [High risk level map](docs/maps/interactif_risk_map.html)"
   ]
  },
  {
   "cell_type": "markdown",
   "metadata": {},
   "source": [
    "# 3- Relationships investigation"
   ]
  },
  {
   "cell_type": "markdown",
   "metadata": {},
   "source": [
    "The aim of this part is to investigate if there is a correlation between inspections due to food poisoning and inspections' elements as the risk level of a facility or the reported inspections."
   ]
  },
  {
   "cell_type": "code",
   "execution_count": null,
   "metadata": {},
   "outputs": [],
   "source": [
    "# data set with only inspection due to suspected food poisoning\n",
    "poisoning_data = data[data['inspection_type'] == 'Suspected Food Poisoning']"
   ]
  },
  {
   "cell_type": "markdown",
   "metadata": {},
   "source": [
    "## 3.1 Inspection failure and food poisoning"
   ]
  },
  {
   "cell_type": "code",
   "execution_count": null,
   "metadata": {},
   "outputs": [],
   "source": [
    "# counting the number of failed/ pass / pass with conditions within the poisoning cases\n",
    "results_count = list(poisoning_data.groupby('results')['inspection_id'].count())\n",
    "\n",
    "#percentage computation\n",
    "total = len(poisoning_data)\n",
    "percentage = [ (a/total)*100 for a in results_count]\n",
    "\n",
    "#poisoning_data.groupby('results').count()"
   ]
  },
  {
   "cell_type": "code",
   "execution_count": null,
   "metadata": {},
   "outputs": [],
   "source": [
    "# bar plotting\n",
    "\n",
    "bars = ['Fail','Pass','Pass w/ Conditions ']\n",
    "\n",
    "fig = go.Figure()\n",
    "\n",
    "\n",
    "# set up the first trace\n",
    "fig.add_trace(go.Bar(\n",
    "                    x = bars,\n",
    "                    y = percentage,\n",
    "                    visible = True,\n",
    "                    marker_color='maroon'\n",
    "                    \n",
    "                )\n",
    "             )\n",
    "\n",
    "fig.layout.update(\n",
    "    autosize = False,\n",
    "    width = 400,\n",
    "    height = 400,\n",
    "    template = \"plotly_white\",\n",
    "    #paper_bgcolor='#333'\n",
    ")\n",
    "\n",
    "fig.layout.update(\n",
    "    title = go.layout.Title(\n",
    "        text = 'Inspections due to suspected food poisoning',\n",
    "        y = 0.9,\n",
    "        x = 0.5,\n",
    "        xanchor = 'center',\n",
    "        yanchor = 'top',\n",
    "    ),\n",
    "    yaxis = dict(\n",
    "        title = 'Percentage %',\n",
    "        titlefont_size = 14\n",
    "    ),\n",
    "    xaxis = dict(\n",
    "        title = 'Inspection results',\n",
    "        titlefont_size = 14\n",
    "    )\n",
    ")\n",
    "\n",
    "fig.show()"
   ]
  },
  {
   "cell_type": "markdown",
   "metadata": {},
   "source": [
    " **Link to the map** : [Inspections result for food poisoning ](plots/inspect_result_fp.html)"
   ]
  },
  {
   "cell_type": "markdown",
   "metadata": {},
   "source": [
    "## 3.2 Risk level and food poisoning"
   ]
  },
  {
   "cell_type": "code",
   "execution_count": null,
   "metadata": {},
   "outputs": [],
   "source": [
    "# counting the total number of facilities (poisoning inspections) associated with a particular risk level\n",
    "risk_level_count = list(poisoning_data.groupby('risk_level')['inspection_id'].count())\n",
    "\n",
    "# percentage computation\n",
    "total = len(poisoning_data)\n",
    "percentage = [ (a/total)*100 for a in risk_level_count]"
   ]
  },
  {
   "cell_type": "code",
   "execution_count": null,
   "metadata": {},
   "outputs": [],
   "source": [
    "# plotting of bar plot\n",
    "\n",
    "bars = ['High','Medium','Low']\n",
    "\n",
    "fig = go.Figure()\n",
    "\n",
    "\n",
    "# set up the first trace\n",
    "fig.add_trace(go.Bar(\n",
    "                    x = bars,\n",
    "                    y = percentage,\n",
    "                    visible = True,\n",
    "                    marker_color='maroon'\n",
    "                    \n",
    "                )\n",
    "             )\n",
    "\n",
    "fig.layout.update(\n",
    "    autosize = False,\n",
    "    width = 400,\n",
    "    height = 400,\n",
    "    template = \"plotly_white\",\n",
    "    #paper_bgcolor='#333'\n",
    ")\n",
    "\n",
    "fig.layout.update(\n",
    "    title = go.layout.Title(\n",
    "        text = 'Risk level ass. w/ suspected food poisoning',\n",
    "        y = 0.9,\n",
    "        x = 0.5,\n",
    "        xanchor = 'center',\n",
    "        yanchor = 'top',\n",
    "    ),\n",
    "    yaxis = dict(\n",
    "        title = 'Percentage %',\n",
    "        titlefont_size = 14\n",
    "    ),\n",
    "    xaxis = dict(\n",
    "        title = 'Risk level',\n",
    "        titlefont_size = 14\n",
    "    )\n",
    ")\n",
    "\n",
    "fig.show()"
   ]
  },
  {
   "cell_type": "markdown",
   "metadata": {},
   "source": [
    "**Link to the plot** : [Risk Level for food poisoning facilities](risk_suspected_fp.html)"
   ]
  },
  {
   "cell_type": "markdown",
   "metadata": {},
   "source": [
    "> In the following part , we will try to see if there is a relationship between the food poisoning and the risk level within a zip code"
   ]
  },
  {
   "cell_type": "code",
   "execution_count": null,
   "metadata": {},
   "outputs": [],
   "source": [
    "# counting the number of facilities per zip \n",
    "facility_number_per_zip = pd.DataFrame(data.groupby('zip')['license'].count()).reset_index()\n",
    "\n",
    "\n",
    "pois_facility_number_per_zip = pd.DataFrame(poisoning_data.groupby('zip')['license'].count()).reset_index()\n",
    "\n",
    "# merge in order to calculate the proportion\n",
    "number_facilities_df = pd.merge(facility_number_per_zip, pois_facility_number_per_zip, on ='zip')\n",
    "number_facilities_df.rename(columns = {'license_x': 'total number', 'license_y':'poisoning number'}, inplace = True)\n",
    "\n",
    "# frequency of inspection due to food poisoning in a given zip\n",
    "number_facilities_df['frequency(%)'] = number_facilities_df['poisoning number'].divide(number_facilities_df['total number'])*100"
   ]
  },
  {
   "cell_type": "code",
   "execution_count": null,
   "metadata": {},
   "outputs": [],
   "source": [
    "# merge with the frequency dataset without central fusion \n",
    "risk_correlation = pd.merge(number_facilities_df,risk_per_zip, on = 'zip')\n",
    "\n",
    "risk_correlation .head(3)"
   ]
  },
  {
   "cell_type": "code",
   "execution_count": null,
   "metadata": {
    "scrolled": false
   },
   "outputs": [],
   "source": [
    "# plotting of bar plot\n",
    "\n",
    "fig = go.Figure()\n",
    "\n",
    "\n",
    "# set up the first trace\n",
    "fig.add_trace(go.Scatter(\n",
    "    x = risk_correlation['percentage'],\n",
    "    y = risk_correlation['frequency(%)'],\n",
    "    visible = True,\n",
    "    marker_color='maroon',\n",
    "    mode = 'markers',\n",
    "    text = risk_correlation['zip']\n",
    "                )\n",
    "             )\n",
    "\n",
    "# adding trace for website\n",
    "fig.add_trace(go.Scatter(\n",
    "    x = [43.8, 45.8, 45.8, 43.8, 43.8],\n",
    "    y = [1.18, 1.18, 1.11, 1.11, 1.18],\n",
    "    mode = \"lines\",\n",
    "    line = go.scatter.Line(color = \"red\"),\n",
    "    showlegend = False))\n",
    "\n",
    "fig.layout.update(\n",
    "    autosize = False,\n",
    "    width = 700,\n",
    "    height = 700,\n",
    "    template = \"plotly_white\",\n",
    "    #paper_bgcolor='#333'\n",
    ")\n",
    "\n",
    "fig.layout.update(\n",
    "    title = go.layout.Title(\n",
    "        text = 'Poisoning inspections and facilities associated with high risk',\n",
    "        y = 0.9,\n",
    "        x = 0.5,\n",
    "        xanchor = 'center',\n",
    "        yanchor = 'top',\n",
    "    ),\n",
    "    yaxis = dict(\n",
    "        title = 'Percentage of facilities inspected for food poisoning',\n",
    "        titlefont_size = 14\n",
    "    ),\n",
    "    xaxis = dict(\n",
    "        title = 'Percentage of high risk facilities per zip code',\n",
    "        titlefont_size = 14\n",
    "    ),\n",
    "    showlegend = False\n",
    ")\n",
    "\n",
    "fig.show()"
   ]
  },
  {
   "cell_type": "markdown",
   "metadata": {},
   "source": [
    "**Link to the plot** : [Relationship between risk level and poisoning](cluster_plot.html)"
   ]
  },
  {
   "cell_type": "code",
   "execution_count": null,
   "metadata": {},
   "outputs": [],
   "source": [
    "# explain outlier"
   ]
  },
  {
   "cell_type": "code",
   "execution_count": null,
   "metadata": {},
   "outputs": [],
   "source": [
    "# we remove 'outliers'\n",
    "outliers = ['60827','60656','60611']\n",
    "\n",
    "risk_correlation_without_outliers = risk_correlation.query('zip != @outliers')\n",
    "\n",
    "# spearman coeff \n",
    "print('The spearman coefficient is : ',stats.spearmanr(risk_correlation_without_outliers['percentage'],risk_correlation_without_outliers['frequency(%)']))\n"
   ]
  },
  {
   "cell_type": "code",
   "execution_count": null,
   "metadata": {},
   "outputs": [],
   "source": [
    "#add comment"
   ]
  },
  {
   "cell_type": "markdown",
   "metadata": {},
   "source": [
    "## 3.3 Violation type and food poisoning"
   ]
  },
  {
   "cell_type": "code",
   "execution_count": null,
   "metadata": {},
   "outputs": [],
   "source": [
    "#introduire le buble plot de jasmine "
   ]
  },
  {
   "cell_type": "markdown",
   "metadata": {},
   "source": [
    "# 4-Sea Exploration "
   ]
  },
  {
   "cell_type": "code",
   "execution_count": null,
   "metadata": {},
   "outputs": [],
   "source": [
    "#introduire une description "
   ]
  },
  {
   "cell_type": "markdown",
   "metadata": {},
   "source": [
    "## 4- Visual exploration "
   ]
  },
  {
   "cell_type": "code",
   "execution_count": null,
   "metadata": {},
   "outputs": [],
   "source": [
    "# counting the number of fail per zip code\n",
    "poisoning_count_per_zip = pd.DataFrame(poisoning_data.groupby('zip')['results'].count()).reset_index()\n",
    "poisoning_count_per_zip.rename(columns = {'results': 'poisoning_count'}, inplace = True)\n",
    "\n",
    "# merge with gdf dataframe and facility count dataframe \n",
    "poisoning_gdf = pd.merge(gdf,poisoning_count_per_zip, on = 'zip')\n",
    "\n",
    "# proportion of facility that passed the investigation per zip code\n",
    "poisoning_gdf['poisoning_proportion'] = round((poisoning_gdf['poisoning_count'].divide(poisoning_gdf['facility_number_per_zip']))*100,2)\n",
    "poisoning_gdf.head(3)"
   ]
  },
  {
   "cell_type": "code",
   "execution_count": null,
   "metadata": {},
   "outputs": [],
   "source": [
    "poisoning_map = chlorepleth_map ('Poisoning proportion', poisoning_gdf, ['zip','poisoning_proportion'], 'Suspected poisoning proportion', 'PuRd')\n",
    "\n",
    "# for plotting without e-coli\n",
    "poisoning_map_reserve = poisoning_map\n",
    "\n",
    "# add transparent background\n",
    "folium.TileLayer('CartoDB positron', name = \"Light Map\", control = False).add_to(poisoning_map)"
   ]
  },
  {
   "cell_type": "markdown",
   "metadata": {},
   "source": [
    "### Introduction of the e-coli dataset"
   ]
  },
  {
   "cell_type": "code",
   "execution_count": null,
   "metadata": {},
   "outputs": [],
   "source": [
    "ecoli_df = pd.read_csv('data/beach-e.-coli-predictions.csv', delimiter = ',')\n",
    "\n",
    "# we keep only the predicted values that are above the BAV limi (cf milestone 2)\n",
    "data_filtered = ecoli_df[ecoli_df['Predicted Level'] > 235]\n",
    "\n",
    "high_ecoli_concentration = pd.DataFrame(data_filtered.groupby('Beach Name')['Predicted Level'].count())\n",
    "high_ecoli_concentration.reset_index(inplace = True)\n",
    "\n",
    "high_ecoli_concentration.head(3)"
   ]
  },
  {
   "cell_type": "code",
   "execution_count": null,
   "metadata": {},
   "outputs": [],
   "source": [
    "# merging the data_filtered dataframe with the high_ecoli_concentration dataframe to have beaches' location\n",
    "high_ecoli_concentration_location = pd.merge(data_filtered,high_ecoli_concentration,on = 'Beach Name', how = 'inner')\n",
    "\n",
    "# groupby beaches and creating a dataframe\n",
    "high_ecoli_concentration_location = high_ecoli_concentration_location.groupby('Beach Name').first()\n",
    "\n",
    "high_ecoli_concentration_location = pd.DataFrame(high_ecoli_concentration_location)\n",
    "high_ecoli_concentration_location.rename(columns = {'Predicted Level_y': 'High measure count'}, inplace = True)\n",
    "high_ecoli_concentration_location.reset_index(inplace = True)\n",
    "high_ecoli_concentration_location.sort_values(by=['High measure count'], ascending = False)\n",
    "\n",
    "high_ecoli_concentration_location.head(3)"
   ]
  },
  {
   "cell_type": "code",
   "execution_count": null,
   "metadata": {},
   "outputs": [],
   "source": [
    "for i in range(len(high_ecoli_concentration_location)):\n",
    "    popup = str(high_ecoli_concentration_location['Beach Name'].values[i]) + '\\n'+'High measure count :'+ str(high_ecoli_concentration_location['High measure count'].values[i])\n",
    "    if (high_ecoli_concentration_location['High measure count'].values[i]  < 10):\n",
    "        colour = 'green'\n",
    "    if (high_ecoli_concentration_location['High measure count'].values[i] < 30 and high_ecoli_concentration_location['High measure count'].values[i] >10):\n",
    "        colour = 'orange'\n",
    "    if (high_ecoli_concentration_location['High measure count'].values[i] >= 30):\n",
    "        colour = 'red'\n",
    "    adding_Marker(poisoning_map,high_ecoli_concentration_location.Longitude.values[i], high_ecoli_concentration_location.Latitude.values[i], popup , colour)\n",
    "\n",
    "\n",
    "PIL = folium.features.GeoJson(\n",
    "    poisoning_gdf,\n",
    "    style_function = style_function, \n",
    "    control = False,\n",
    "    highlight_function = highlight_function, \n",
    "    tooltip = folium.features.GeoJsonTooltip(\n",
    "        fields = ['zip','facility_number_per_zip','poisoning_count','poisoning_proportion'],\n",
    "        aliases = ['Zip: ','Total number of inspections','Number of inspection due to suspected food poisoning','Percentage: '],\n",
    "        style = (\"background-color: white; color: #333333; font-family: arial; font-size: 12px; padding: 10px;\") \n",
    "    )\n",
    ")\n",
    "poisoning_map.add_child(PIL)\n",
    "poisoning_map.keep_in_front(PIL)\n",
    "folium.LayerControl().add_to(poisoning_map)\n",
    "\n",
    "#poisoning_map.save('maps/interactif_poison_map.html')\n",
    "IFrame(src = 'maps/interactif_poison_map.html', width = 700, height = 600)"
   ]
  },
  {
   "cell_type": "markdown",
   "metadata": {},
   "source": [
    "**Link to the map** : [food poisoning and e-coli concentration](interactif_poison_map.html)"
   ]
  },
  {
   "cell_type": "markdown",
   "metadata": {},
   "source": [
    "## 4.2 Distance by Chicago center and distance by the sea "
   ]
  },
  {
   "cell_type": "markdown",
   "metadata": {},
   "source": [
    "Let's import the json file on the zip codes in Chicago:"
   ]
  },
  {
   "cell_type": "code",
   "execution_count": null,
   "metadata": {},
   "outputs": [],
   "source": [
    "import json\n",
    "# 'Boundaries-ZIPCodes.geojson' taken from the internet\n",
    "with open('Boundaries-ZIPCodes.geojson') as f:\n",
    "    # load json file\n",
    "    zip_info = json.load(f)\n",
    "# data_zip contains the geometrical information\n",
    "data_zip = json_normalize(zip_info['features'])\n",
    "# display dataframe\n",
    "data_zip.head()"
   ]
  },
  {
   "cell_type": "markdown",
   "metadata": {},
   "source": [
    "The geometry.coordinates is not accessible in this way. We shall modify it so that it becomes a list of coordonates. "
   ]
  },
  {
   "cell_type": "code",
   "execution_count": null,
   "metadata": {},
   "outputs": [],
   "source": [
    "# polygons is a list of polygons\n",
    "polygons = []\n",
    "for l in range(data_zip.shape[0]):\n",
    "    # polygon is a list of coordinates\n",
    "    polygon = []\n",
    "    # taking all the coordinates for a polygon\n",
    "    for i in range(len(data_zip['geometry.coordinates'][l][0][0])):\n",
    "        # add the i-th element to the polygon list\n",
    "        polygon.append(data_zip['geometry.coordinates'][l][0][0][i])\n",
    "    # adding a polygon to a list of polygons\n",
    "    polygons.append(polygon)  \n",
    "# create a new column with the correct writing\n",
    "data_zip['polygon'] = polygons"
   ]
  },
  {
   "cell_type": "markdown",
   "metadata": {},
   "source": [
    "Now let's import the dataframe with the violations."
   ]
  },
  {
   "cell_type": "code",
   "execution_count": null,
   "metadata": {},
   "outputs": [],
   "source": [
    "# importing data\n",
    "clean_data = pd.read_csv('clean_dataset.csv')"
   ]
  },
  {
   "cell_type": "markdown",
   "metadata": {},
   "source": [
    "An imaginary line is drawn between the 2 locations by the sea. This line will represente the border, so to calculate the distance to the sea, we shall calculate the shortest distance to this line."
   ]
  },
  {
   "cell_type": "code",
   "execution_count": null,
   "metadata": {},
   "outputs": [],
   "source": [
    "dist_km = []\n",
    "for i in range (clean_data.shape[0]):\n",
    "    # first location by the sea\n",
    "    x1 = (41.963779, -87.632323)\n",
    "    # second location by the sea\n",
    "    x2 = (41.894318, -87.605099)\n",
    "    # latitude from dataframe\n",
    "    lat = clean_data.latitude.values[i]\n",
    "    # longitude from dataframe\n",
    "    lon = clean_data.longitude.values[i]\n",
    "    # coordinate\n",
    "    p = (lat, lon)\n",
    "    # point\n",
    "    point = Point(p)\n",
    "    # creation of the line\n",
    "    line = LineString([Point(x1), Point(x2)])\n",
    "    # add distance from point to line * 111, because 1 degree = 111 km \n",
    "    dist_km.append(point.distance(line)*111)\n",
    "    # print values\n",
    "    print('point:',p,', distance :',dist_km[-1])\n",
    "# add column to dataframe\n",
    "clean_data['distance_to_sea'] = dist_km"
   ]
  },
  {
   "cell_type": "markdown",
   "metadata": {},
   "source": [
    "Plots and Correlations: We will plot the correlations of the distance to the sea and to the city center for each zip with respect to the food poisoning."
   ]
  },
  {
   "cell_type": "code",
   "execution_count": null,
   "metadata": {},
   "outputs": [],
   "source": [
    "# taking only 2 columns\n",
    "Dist_to_sea = clean_data[['zip','distance_to_sea']]\n",
    "# averaging the distance to the sea for each zip\n",
    "Dist_to_sea = Dist_to_sea.groupby(Dist_to_sea.zip).mean()\n",
    "# reset index\n",
    "Dist_to_sea= Dist_to_sea.reset_index()\n",
    "# exporting to csv\n",
    "Dist_to_sea.to_csv('Distance_sea_zip.csv')\n",
    "# dataframe with food poisoning per zip code\n",
    "prop = pd.read_csv('proportion.csv')\n",
    "# conversion to int to enable merging\n",
    "Dist_to_sea['zip'] = Dist_to_sea['zip'].astype(int)\n",
    "# merging of distance to sea and food poisoning\n",
    "DF_merge = pd.merge(Dist_to_sea, prop, on='zip', how='outer')"
   ]
  },
  {
   "cell_type": "code",
   "execution_count": null,
   "metadata": {},
   "outputs": [],
   "source": [
    "# importing mean distance to city center of each zip\n",
    "center = pd.read_csv('center_distance_df.csv')\n",
    "# dropping first value\n",
    "center= center.drop(0)\n",
    "# changing zip type to int\n",
    "center['zip']=center['zip'].astype(int)\n",
    "# merging food poisoning with distance to center\n",
    "DF_center = pd.merge(prop, center, on='zip', how='outer')\n",
    "# drop NaN values\n",
    "DF_center= DF_center.dropna()\n",
    "# merging distance to center with DF_merge\n",
    "DF =  pd.merge(center,DF_merge, on='zip', how='outer')\n",
    "# drop NaN values\n",
    "DF_merge.dropna(inplace = True)"
   ]
  },
  {
   "cell_type": "code",
   "execution_count": null,
   "metadata": {},
   "outputs": [],
   "source": [
    "fig = go.Figure()\n",
    "\n",
    "\n",
    "# set up the first trace\n",
    "fig.add_trace(go.Scatter(\n",
    "    x = DF_merge['distance_to_sea'],\n",
    "    y = DF_merge['pois_total'],\n",
    "    visible = True,\n",
    "    marker_color='blue',\n",
    "    mode = 'markers',\n",
    "    text =DF_merge['zip']\n",
    "                )\n",
    "             )\n",
    "fig.add_trace(go.Scatter(\n",
    "    x = DF_center['mean_distance'],\n",
    "    y = DF_center['pois_total'],\n",
    "    visible = True,\n",
    "    marker_color='red',\n",
    "    mode = 'markers',\n",
    "    text =DF_center['zip']))\n",
    "\n",
    "\n",
    "\n",
    "fig.layout.update(\n",
    "    autosize = False,\n",
    "    width = 700,\n",
    "    height = 700,\n",
    "    template = \"plotly_white\",\n",
    "    #paper_bgcolor='#333'\n",
    ")\n",
    "\n",
    "fig.layout.update(\n",
    "    title = go.layout.Title(\n",
    "        text = 'Poisoning inspections with respect to the distance to sea / city center',\n",
    "        y = 0.9,\n",
    "        x = 0.5,\n",
    "        xanchor = 'center',\n",
    "        yanchor = 'top',\n",
    "    ),\n",
    "    yaxis = dict(\n",
    "        title = 'Number of facilities causing food poisoning',\n",
    "        titlefont_size = 14\n",
    "    ),\n",
    "    xaxis = dict(\n",
    "        title = 'Distance to sea (blue) /city center (red)',\n",
    "        titlefont_size = 14\n",
    "    ),\n",
    "    showlegend = False\n",
    ")\n",
    "#fig.savefig('distance_sea_centre.png')\n",
    "fig.show()"
   ]
  },
  {
   "cell_type": "markdown",
   "metadata": {},
   "source": [
    "An outlier can be seen for values over 70. "
   ]
  },
  {
   "cell_type": "code",
   "execution_count": null,
   "metadata": {},
   "outputs": [],
   "source": [
    "# plotting linear regression\n",
    "fig = plt.figure(figsize=(10,7))\n",
    "sns.regplot(x = DF.distance_to_sea, y = DF.pois_total, color = 'blue', marker = '+')\n",
    "sns.regplot(x = DF.mean_distance, y = DF.pois_total, color = 'red', marker = '+')\n",
    "plt.title('Relationship between Percentage of Food Poisoning and Distance to sea (blue)/ Center (red)', size = 24)\n",
    "plt.legend(labels = ['Distance to Sea','Distance to Center'])"
   ]
  },
  {
   "cell_type": "code",
   "execution_count": null,
   "metadata": {},
   "outputs": [],
   "source": [
    "# correlation\n",
    "DF.corr().pois_total"
   ]
  },
  {
   "cell_type": "markdown",
   "metadata": {},
   "source": [
    "We shall compare the correlations by using two methods : pearson and spearman"
   ]
  },
  {
   "cell_type": "markdown",
   "metadata": {},
   "source": [
    "Spearman: "
   ]
  },
  {
   "cell_type": "code",
   "execution_count": null,
   "metadata": {},
   "outputs": [],
   "source": [
    "# correlation and p-values\n",
    "len_ = DF_merge.shape[0]\n",
    "print('The spearman coefficient is : ',stats.spearmanr\n",
    "      (DF_merge['distance_to_sea'],DF_merge['pois_total']),'n=',len_)\n",
    "print('The spearman coefficient is : ',stats.spearmanr\n",
    "      (DF_center['mean_distance'],DF_center['pois_total']),'n=',len_)"
   ]
  },
  {
   "cell_type": "markdown",
   "metadata": {},
   "source": [
    "Pearson:"
   ]
  },
  {
   "cell_type": "code",
   "execution_count": null,
   "metadata": {},
   "outputs": [],
   "source": [
    "# Pearson correlation coefficient and p-value for distance to sea\n",
    "pearson_coef, p_value = stats.pearsonr(DF_merge.distance_to_sea, DF_merge.pois_total)\n",
    "print(pearson_coef)\n",
    "\n",
    "# Pearson correlation coefficient and p-value for distance to city center\n",
    "pearson_coef, p_value = stats.pearsonr(DF_center.mean_distance, DF_center.pois_total)\n",
    "print(pearson_coef)"
   ]
  },
  {
   "cell_type": "markdown",
   "metadata": {},
   "source": [
    "The distance to the sea seems to have a slighty better correlation with the food poisoning. "
   ]
  },
  {
   "cell_type": "code",
   "execution_count": null,
   "metadata": {},
   "outputs": [],
   "source": []
  },
  {
   "cell_type": "markdown",
   "metadata": {},
   "source": [
    "## 4.3 Investigation about e-coli"
   ]
  },
  {
   "cell_type": "code",
   "execution_count": null,
   "metadata": {},
   "outputs": [],
   "source": []
  },
  {
   "cell_type": "markdown",
   "metadata": {},
   "source": [
    "# 5- Natural Langage processing of post from iwaspoisonned.com"
   ]
  },
  {
   "cell_type": "code",
   "execution_count": null,
   "metadata": {},
   "outputs": [],
   "source": [
    "#add a description"
   ]
  },
  {
   "cell_type": "markdown",
   "metadata": {},
   "source": [
    "Violations Text Handling"
   ]
  },
  {
   "cell_type": "markdown",
   "metadata": {},
   "source": [
    "The complaints written on the website Iwaspoisoned.com are analysed so that we can know what kinds of food cause sicknesses and in which zip codes."
   ]
  },
  {
   "cell_type": "markdown",
   "metadata": {},
   "source": [
    "Finding the important words per zip"
   ]
  },
  {
   "cell_type": "code",
   "execution_count": null,
   "metadata": {},
   "outputs": [],
   "source": [
    "nlp = spacy.load('en')"
   ]
  },
  {
   "cell_type": "markdown",
   "metadata": {},
   "source": [
    "This function will retrieve all the words that are useful for topic detection. Stopwords are taken out and lemmatization is used."
   ]
  },
  {
   "cell_type": "code",
   "execution_count": null,
   "metadata": {},
   "outputs": [],
   "source": [
    "def get_all_words_from_text (text_):\n",
    "    TEXT = []\n",
    "    # create document with input text\n",
    "    doc = nlp(text_)\n",
    "    token_without_stop_lemma = []\n",
    "    # add all words after \"lemmatization conversion\"\n",
    "    for token in doc:\n",
    "        token_without_stop_lemma.append(token.lemma_)\n",
    "    # the words are now in a list so we join them again into a text\n",
    "    new_text = ' '.join(word for word in token_without_stop_lemma)\n",
    "    # recreation of a doc\n",
    "    doc2 = nlp(new_text)\n",
    "    # taking out stopwords and punctuation\n",
    "    words = [token.text for token in doc2 if token.is_stop != True and token.is_punct != True]\n",
    "    # return list of words\n",
    "    return words"
   ]
  },
  {
   "cell_type": "markdown",
   "metadata": {},
   "source": [
    "Finding Topics: This function will be handy to pick some topics from the text."
   ]
  },
  {
   "cell_type": "code",
   "execution_count": null,
   "metadata": {},
   "outputs": [],
   "source": [
    "def Topic(df,NUM_TOPICS = 4, num_words_ = 2):\n",
    "\n",
    "    dictionary = corpora.Dictionary(df.new_list_of_words.values.tolist())\n",
    "    corpus = [dictionary.doc2bow(text) for text in df.new_list_of_words.values.tolist()]\n",
    "    pickle.dump(corpus, open('corpus.pkl', 'wb'))\n",
    "    dictionary.save('dictionary.gensim')\n",
    "    ldamodel = gensim.models.ldamodel.LdaModel(corpus, num_topics = NUM_TOPICS, id2word = dictionary, passes = 15)\n",
    "    ldamodel.save('model5.gensim')\n",
    "    topics = ldamodel.print_topics(num_words= num_words_)\n",
    "    for topic in topics:\n",
    "        print(topic)"
   ]
  },
  {
   "cell_type": "markdown",
   "metadata": {},
   "source": [
    "Webscraping Text Handling "
   ]
  },
  {
   "cell_type": "markdown",
   "metadata": {},
   "source": [
    "Let's import the csv file from the webscraping of the iwaspoisoned website."
   ]
  },
  {
   "cell_type": "code",
   "execution_count": null,
   "metadata": {},
   "outputs": [],
   "source": [
    "# import the cleaning dataset \n",
    "data_web = pd.read_csv('Food_Poisoning3.csv', delimiter = ',')\n",
    "# taking only the zip and comments columns\n",
    "data_web = data_web[['Zip','Comments']]"
   ]
  },
  {
   "cell_type": "markdown",
   "metadata": {},
   "source": [
    "In comments, we have a text in each row of the report made by a person on food poisoning."
   ]
  },
  {
   "cell_type": "code",
   "execution_count": null,
   "metadata": {},
   "outputs": [],
   "source": [
    "# drop any nan values\n",
    "data_web.dropna(inplace = True)\n",
    "# change zip type to int\n",
    "data_web['Zip'] = data_web['Zip'].astype(int)\n",
    "# changing the type of zip to int\n",
    "data_web['Zip'] = list(map(lambda x : int(x) if (math.isnan(x) == False) else np.nan, data_web.Zip.values.tolist()))\n",
    "# lowercasing everything\n",
    "data_web['Comments'] = data_web['Comments'].str.lower()\n"
   ]
  },
  {
   "cell_type": "markdown",
   "metadata": {},
   "source": [
    "If \"inspection failure\" is in the comments, then it is not a complaint from a person but a description of an inspection failure. We are only interested in analyzing texts written by people."
   ]
  },
  {
   "cell_type": "code",
   "execution_count": null,
   "metadata": {},
   "outputs": [],
   "source": [
    "# data with \"inspection failure\" in comments\n",
    "df_inspection_failures = data_web[data_web['Comments'].str.contains(\"inspection failure\")]\n",
    "# all rows except the \"inspection failures\"\n",
    "df_complaints = data_web[~data_web.isin(df_inspection_failures)].dropna()"
   ]
  },
  {
   "cell_type": "markdown",
   "metadata": {},
   "source": [
    "This dataframe contains all the comments made by people on the website along "
   ]
  },
  {
   "cell_type": "code",
   "execution_count": null,
   "metadata": {},
   "outputs": [],
   "source": [
    "df_complaints.head()"
   ]
  },
  {
   "cell_type": "markdown",
   "metadata": {},
   "source": [
    "Some words that aren't stop words do not give insight on the topic but occur many times. We shall discard some of them."
   ]
  },
  {
   "cell_type": "code",
   "execution_count": null,
   "metadata": {},
   "outputs": [],
   "source": [
    "def New_List_Words(data_web):\n",
    "    list_ = []\n",
    "    # for each row in the dataframe\n",
    "    for i in range(data_web.shape[0]):\n",
    "        # append the only useful words from the text in a list\n",
    "        list_.append(get_all_words_from_text(data_web.Comments.values[i]))\n",
    "    # creating a new column with this list\n",
    "    data_web_words = {'zip': data_web.Zip.values.tolist(), 'list_of_words':list_} \n",
    "    # Create DataFrame \n",
    "    df = pd.DataFrame(data_web_words) \n",
    "    # useless words in a list\n",
    "    useless_words= ['inspection','failure','observe','-PRON-','\"','issue','instruct','be','premise','have','find','detail','item','area','note','unit','do','start','not','run','get',\"  \",'go','continue','take','continue','ask','say',' ','>','   ','\\r\\n ','30','8']\n",
    "    # list of words from the dataframe\n",
    "    test_list = df.list_of_words.values.tolist()\n",
    "    # all words in a list of each row\n",
    "    for w in useless_words:\n",
    "        # if it isn't a useless word, keep it\n",
    "        res = [[ele for ele in sub if ele != w] for sub in test_list] \n",
    "        test_list = res\n",
    "    # creating a new column\n",
    "    df['new_list_of_words'] = test_list\n",
    "    return df"
   ]
  },
  {
   "cell_type": "code",
   "execution_count": null,
   "metadata": {},
   "outputs": [],
   "source": [
    "# applying the function to complaints\n",
    "df_complaints_ = New_List_Words(df_complaints)\n",
    "df_complaints_.head()"
   ]
  },
  {
   "cell_type": "markdown",
   "metadata": {},
   "source": [
    "Let's try and define some topics:"
   ]
  },
  {
   "cell_type": "code",
   "execution_count": null,
   "metadata": {},
   "outputs": [],
   "source": [
    "Topic(df_complaints_,5, 2)"
   ]
  },
  {
   "cell_type": "code",
   "execution_count": null,
   "metadata": {},
   "outputs": [],
   "source": [
    "dictionary = gensim.corpora.Dictionary.load('dictionary.gensim')\n",
    "corpus = pickle.load(open('corpus.pkl', 'rb'))\n",
    "\n",
    "lda = gensim.models.ldamodel.LdaModel.load('model5.gensim')\n",
    "lda_display = pyLDAvis.gensim.prepare(lda, corpus, dictionary, sort_topics = False)\n",
    "pyLDAvis.display(lda_display)"
   ]
  },
  {
   "cell_type": "markdown",
   "metadata": {},
   "source": [
    "Lexicon :\n",
    "Lexicon gives us categories of subjects that include lists of related words. We could use this to identify words from a certain topic. For example, we could identify all food related words to identify which types of food have been causing food poisoning. Also, we will investigate on the medical related terms to know more about the symptoms."
   ]
  },
  {
   "cell_type": "code",
   "execution_count": null,
   "metadata": {},
   "outputs": [],
   "source": [
    "lexicon = Empath()"
   ]
  },
  {
   "cell_type": "markdown",
   "metadata": {},
   "source": [
    "We will now take count the occurences of words in the reports."
   ]
  },
  {
   "cell_type": "code",
   "execution_count": null,
   "metadata": {},
   "outputs": [],
   "source": [
    "from functools import reduce\n",
    "list_text = []\n",
    "# join all words from the lists to create a text\n",
    "for sentence in df_complaints_.new_list_of_words:\n",
    "    list_text.append(' '.join(sentence))\n",
    "text = ' '.join(list_text)\n",
    "# count frequencies of each word\n",
    "freq = reduce( lambda d, c: d.update([(c, d.get(c,0)+1)]) or d, text.split(), {})"
   ]
  },
  {
   "cell_type": "code",
   "execution_count": null,
   "metadata": {},
   "outputs": [],
   "source": [
    "def make_freq_graph(text):\n",
    "    # get data directory (using getcwd() is needed to support running example in generated IPython notebook)\n",
    "    d = path.dirname(__file__) if \"__file__\" in locals() else os.getcwd()\n",
    "\n",
    "    # read the mask image\n",
    "    # taken from\n",
    "    # https://www.canstockphoto.com/chicago-city-map-63451119.html\n",
    "    chicago_image = np.array(Image.open(path.join(d, \"istockphoto-908943762-1024x1024.png\")))\n",
    "\n",
    "    # word cloud\n",
    "    wc = WordCloud(\n",
    "        background_color=\"white\", \n",
    "        max_words=2000, \n",
    "        mask= chicago_image,\n",
    "        contour_width=3, \n",
    "        contour_color='steelblue'\n",
    "    )\n",
    "    \n",
    "    # generate word cloud\n",
    "    wc.generate(text)\n",
    "\n",
    "\n",
    "    # show\n",
    "    fig = plt.figure()\n",
    "    from matplotlib.pyplot import figure\n",
    "    figure(num=None, figsize=(8, 6), dpi=80, facecolor='w', edgecolor='k')\n",
    "    plt.imshow(wc, interpolation='bilinear')\n",
    "    plt.axis(\"off\")\n",
    "    plt.figure()\n",
    "    plt.imshow(chicago_image, cmap=plt.cm.gray, interpolation='bilinear')\n",
    "    plt.axis(\"off\")\n",
    "    plt.show()\n"
   ]
  },
  {
   "cell_type": "code",
   "execution_count": null,
   "metadata": {},
   "outputs": [],
   "source": [
    "# display image\n",
    "image_array = make_freq_graph(text)"
   ]
  },
  {
   "cell_type": "markdown",
   "metadata": {},
   "source": [
    "The bigger the word, the more frequent it is in the reports of food poisoning "
   ]
  },
  {
   "cell_type": "markdown",
   "metadata": {},
   "source": [
    "Plotting word frequencies per topic and geography"
   ]
  },
  {
   "cell_type": "markdown",
   "metadata": {},
   "source": [
    "Plotting most frequent words per zip : Let's create a dataframe with all words occurences for each zip code."
   ]
  },
  {
   "cell_type": "code",
   "execution_count": null,
   "metadata": {},
   "outputs": [],
   "source": [
    "DF_complaints = df_complaints_.groupby('zip').agg(sum)\n",
    "DF_complaints.reset_index(inplace = True)\n",
    "del DF_complaints['list_of_words']\n",
    "# creation of the dataframce\n",
    "rows = []\n",
    "_ = DF_complaints.apply(lambda row: [rows.append([row['zip'], nn]) \n",
    "                         for nn in row.new_list_of_words], axis = 1)\n",
    "df_new = pd.DataFrame(rows, columns = DF_complaints.columns).set_index(['zip'])"
   ]
  },
  {
   "cell_type": "code",
   "execution_count": null,
   "metadata": {},
   "outputs": [],
   "source": [
    "df_new.head()"
   ]
  },
  {
   "cell_type": "code",
   "execution_count": null,
   "metadata": {},
   "outputs": [],
   "source": [
    "# reset index\n",
    "df_new.reset_index(inplace = True)\n",
    "# counting occurences\n",
    "df_new = df_new.groupby(df_new.columns.tolist()).size().\\\n",
    "    rename(columns={0:'records'})\n",
    "# reset index\n",
    "df_new = df_new.reset_index()\n",
    "# defining columns\n",
    "df_new.columns = ['zip', 'words','counts']\n",
    "\n",
    "# joining all words in the list from column 'new_list_of_words'\n",
    "Text = []\n",
    "for i in range(df_complaints_.shape[0]):\n",
    "    Text.append( ' '.join(df_complaints_.new_list_of_words.values[i]))\n",
    "# create new column\n",
    "df_complaints_['text'] = Text\n",
    "\n",
    "df_complaints_.head()"
   ]
  },
  {
   "cell_type": "code",
   "execution_count": null,
   "metadata": {},
   "outputs": [],
   "source": [
    "# join all texts\n",
    "Text = ' '.join(df_complaints_.text.values)\n",
    "split_it = Text.split() \n",
    "# Pass the split_it list to instance of Counter class. \n",
    "Counter = Counter(split_it) \n",
    "\n",
    "# most_common() produces k frequently encountered \n",
    "# input values and their respective counts. \n",
    "most_occur = Counter.most_common(50) "
   ]
  },
  {
   "cell_type": "code",
   "execution_count": null,
   "metadata": {},
   "outputs": [],
   "source": [
    "# only take the word and not it's frequency\n",
    "most_occur_words = [x[0] for x in most_occur] "
   ]
  },
  {
   "cell_type": "code",
   "execution_count": null,
   "metadata": {},
   "outputs": [],
   "source": [
    "# dataframe with only the 50 most occuring words\n",
    "df_new2 = df_new.loc[df_new.words.isin(most_occur_words) ]\n",
    "sns.set(style = \"white\")\n",
    "# Plot\n",
    "sns.relplot(\n",
    "    x = \"zip\", \n",
    "    y = \"words\", \n",
    "    size = \"counts\",\n",
    "    sizes = (4, 1000), \n",
    "    alpha = .5, \n",
    "    palette = \"muted\",\n",
    "    height = 10, \n",
    "    data = df_new2\n",
    ")"
   ]
  },
  {
   "cell_type": "markdown",
   "metadata": {},
   "source": [
    "This plot gives us the 50 most frequent words and their occurences per zip code. "
   ]
  },
  {
   "cell_type": "markdown",
   "metadata": {},
   "source": [
    "Words in a certain category per distance to the sea : \n",
    "The proximity to the sea has been proven to be correlated with the food poisoning due to Ecoli infections. We will see which terms appear with respect to the distance to the sea of the concerned facility."
   ]
  },
  {
   "cell_type": "markdown",
   "metadata": {},
   "source": [
    "The categories of interest are :\n",
    "    - Medical Emergencies\n",
    "    - Types of Food"
   ]
  },
  {
   "cell_type": "code",
   "execution_count": null,
   "metadata": {},
   "outputs": [],
   "source": [
    "# new list\n",
    "Medical_Emergency = []\n",
    "for w in df_new.words:\n",
    "    # if a word is in the categories related to health\n",
    "    if (w in lexicon.cats['medical_emergency'])or(w in lexicon.cats['health'])or(w in lexicon.cats['suffering'])or(w in lexicon.cats['pain']):\n",
    "        # add to list\n",
    "        Medical_Emergency.append(w)\n",
    "# drop duplicates\n",
    "Medical_Emergency = list(dict.fromkeys(Medical_Emergency))\n",
    "\n",
    "Food = []\n",
    "for w in df_new.words:\n",
    "    # if the word is in a category related to food\n",
    "    if (w in lexicon.cats['cooking']) or (w in lexicon.cats['eating']):\n",
    "        # add to list\n",
    "        Food.append(w)\n",
    "# drop duplicates\n",
    "Food = list(dict.fromkeys(Food))"
   ]
  },
  {
   "cell_type": "code",
   "execution_count": null,
   "metadata": {},
   "outputs": [],
   "source": [
    "# import distance to sea csv file\n",
    "dist_sea_zip = pd.read_csv('Distance_sea_zip.csv')"
   ]
  },
  {
   "cell_type": "code",
   "execution_count": null,
   "metadata": {},
   "outputs": [],
   "source": [
    "def relplot_df(df):\n",
    "    fig = plt.figure()\n",
    "    sns.set(style=\"white\")\n",
    "    # plotting\n",
    "    sns_plot = sns.relplot(x=\"distance_to_sea\", y=\"words\", size=\"counts\",\n",
    "            sizes=(40, 400), alpha=.5, palette=\"muted\",\n",
    "            height=6, data=df)\n",
    "    #sns_plot.savefig(\"food.png\")"
   ]
  },
  {
   "cell_type": "markdown",
   "metadata": {},
   "source": [
    "Medical Emergency plot:"
   ]
  },
  {
   "cell_type": "code",
   "execution_count": null,
   "metadata": {},
   "outputs": [],
   "source": [
    "# find words that are in the list of medical emergency terms\n",
    "df_emergency = df_new.loc[df_new.words.isin(Medical_Emergency) ]\n",
    "# merge with distance to sea\n",
    "df_emergency = pd.merge(df_emergency, dist_sea_zip, on='zip', how='outer')\n",
    "# drop nan\n",
    "df_emergency = df_emergency.dropna()\n",
    "# round the distance to sea\n",
    "df_emergency['distance_to_sea']= round(df_emergency['distance_to_sea'])\n",
    "# plot\n",
    "relplot_df(df_emergency)\n",
    "print(' Most frequent health related terms with respect to the distance to the sea')"
   ]
  },
  {
   "cell_type": "code",
   "execution_count": null,
   "metadata": {},
   "outputs": [],
   "source": [
    "# find words that are in the list of food terms\n",
    "df_food = df_new.loc[df_new.words.isin(Food) ]\n",
    "# merge with distance to sea\n",
    "df_food = pd.merge(df_food, dist_sea_zip, on='zip', how='outer')\n",
    "# drop nan\n",
    "df_food =df_food.dropna()\n",
    "# round the distance to sea\n",
    "df_food['distance_to_sea']= round(df_food['distance_to_sea'])\n",
    "# plot\n",
    "relplot_df(df_food)\n",
    "print(' Most frequent food related terms with respect to the distance to the sea')"
   ]
  },
  {
   "cell_type": "markdown",
   "metadata": {},
   "source": [
    "These two graphs show that overall, there are more occurences that happen near the sea which implies that food poisoning is most important near the sea (perhaps because of Ecoli). Meat related terms in particular are more frequent near the sea, which confirms our hypothesis on Ecoli infections because they are mainly caused by uncooked meat."
   ]
  },
  {
   "cell_type": "markdown",
   "metadata": {},
   "source": [
    "# 6- Applied marching learning "
   ]
  },
  {
   "cell_type": "markdown",
   "metadata": {},
   "source": [
    "> In this section, we will train and test a machine learning model that can predict food poisoning cases. This will alert Chicago health care department about these restaurants that might promote the spread of food-borne illness with high risk of poisoning for the population. The features will mainly include: The list of violations committed during an inspection, the location (zip code),  and the risk factor of the restaurant."
   ]
  },
  {
   "cell_type": "markdown",
   "metadata": {},
   "source": [
    "## Classification models"
   ]
  },
  {
   "cell_type": "markdown",
   "metadata": {},
   "source": [
    "> Since the variable that we want to predict is categorical (discrete), we will use a classification method. The classifiers that we select are Random forest and Gradient Boosted Trees."
   ]
  },
  {
   "cell_type": "code",
   "execution_count": 59,
   "metadata": {},
   "outputs": [],
   "source": [
    "# labels\n",
    "class_names = ['No Food Poisoning', 'Food Poisoning']\n",
    "np.set_printoptions(precision = 4)"
   ]
  },
  {
   "cell_type": "markdown",
   "metadata": {},
   "source": [
    "## Datasets to be used for training the models"
   ]
  },
  {
   "cell_type": "markdown",
   "metadata": {},
   "source": [
    "Here, we create all the datasets that will be used to train the future models.\n",
    "\n",
    "> First, we load the cleaned dataset."
   ]
  },
  {
   "cell_type": "code",
   "execution_count": null,
   "metadata": {},
   "outputs": [],
   "source": [
    "# opening the data\n",
    "data = pd.read_csv('data/clean_dataset.csv', delimiter = ',')\n",
    "\n",
    "# drop the unnamed column\n",
    "data.drop(['Unnamed: 0'], axis = 1,inplace = True)\n",
    "\n",
    "# show the dataframe\n",
    "display(data.head(3))"
   ]
  },
  {
   "cell_type": "markdown",
   "metadata": {},
   "source": [
    "> Then, we extract the violations numbers from the comments in the 'violations' column, and represent each violation with a binary value for each inspection (violations_dataframe). The other dataset contains weighted minor, critical and serious counts (violations_dataframe02).\n",
    "\n",
    "**Note**: The two functions below are taken from the class we created: *violation_preprocessing*."
   ]
  },
  {
   "cell_type": "code",
   "execution_count": null,
   "metadata": {},
   "outputs": [],
   "source": [
    "# We apply this functions to our data \n",
    "violation_separated = data.violations.apply(violation_separator).fillna(0)"
   ]
  },
  {
   "cell_type": "code",
   "execution_count": null,
   "metadata": {},
   "outputs": [],
   "source": [
    "#we create our dataframe with all the violations counts\n",
    "violations_dataframe01, violations_dataframe02 = violations_dataframe(violation_separated,data)"
   ]
  },
  {
   "cell_type": "code",
   "execution_count": 3,
   "metadata": {},
   "outputs": [
    {
     "name": "stdout",
     "output_type": "stream",
     "text": [
      "\n",
      "\u001b[1m Violations per inspection (binary value representation) \u001b[0m\n",
      "None\n"
     ]
    },
    {
     "data": {
      "text/html": [
       "<div>\n",
       "<style scoped>\n",
       "    .dataframe tbody tr th:only-of-type {\n",
       "        vertical-align: middle;\n",
       "    }\n",
       "\n",
       "    .dataframe tbody tr th {\n",
       "        vertical-align: top;\n",
       "    }\n",
       "\n",
       "    .dataframe thead th {\n",
       "        text-align: right;\n",
       "    }\n",
       "</style>\n",
       "<table border=\"1\" class=\"dataframe\">\n",
       "  <thead>\n",
       "    <tr style=\"text-align: right;\">\n",
       "      <th></th>\n",
       "      <th>Unnamed: 0</th>\n",
       "      <th>#1</th>\n",
       "      <th>#2</th>\n",
       "      <th>#3</th>\n",
       "      <th>#4</th>\n",
       "      <th>#5</th>\n",
       "      <th>#6</th>\n",
       "      <th>#7</th>\n",
       "      <th>#8</th>\n",
       "      <th>#9</th>\n",
       "      <th>...</th>\n",
       "      <th>#42</th>\n",
       "      <th>#43</th>\n",
       "      <th>#44</th>\n",
       "      <th>#70</th>\n",
       "      <th>inspection_id</th>\n",
       "      <th>license</th>\n",
       "      <th>inspection_type</th>\n",
       "      <th>zip</th>\n",
       "      <th>risk</th>\n",
       "      <th>results</th>\n",
       "    </tr>\n",
       "  </thead>\n",
       "  <tbody>\n",
       "    <tr>\n",
       "      <td>0</td>\n",
       "      <td>0</td>\n",
       "      <td>0.0</td>\n",
       "      <td>0.0</td>\n",
       "      <td>0.0</td>\n",
       "      <td>0.0</td>\n",
       "      <td>0.0</td>\n",
       "      <td>0.0</td>\n",
       "      <td>0.0</td>\n",
       "      <td>0.0</td>\n",
       "      <td>0.0</td>\n",
       "      <td>...</td>\n",
       "      <td>0.0</td>\n",
       "      <td>0.0</td>\n",
       "      <td>0.0</td>\n",
       "      <td>0.0</td>\n",
       "      <td>2352734</td>\n",
       "      <td>34169.0</td>\n",
       "      <td>Canvass</td>\n",
       "      <td>60666.0</td>\n",
       "      <td>Risk 1 (High)</td>\n",
       "      <td>Pass</td>\n",
       "    </tr>\n",
       "    <tr>\n",
       "      <td>1</td>\n",
       "      <td>1</td>\n",
       "      <td>0.0</td>\n",
       "      <td>0.0</td>\n",
       "      <td>0.0</td>\n",
       "      <td>0.0</td>\n",
       "      <td>0.0</td>\n",
       "      <td>0.0</td>\n",
       "      <td>0.0</td>\n",
       "      <td>0.0</td>\n",
       "      <td>0.0</td>\n",
       "      <td>...</td>\n",
       "      <td>0.0</td>\n",
       "      <td>0.0</td>\n",
       "      <td>0.0</td>\n",
       "      <td>0.0</td>\n",
       "      <td>2352727</td>\n",
       "      <td>2215815.0</td>\n",
       "      <td>Canvass</td>\n",
       "      <td>60641.0</td>\n",
       "      <td>Risk 1 (High)</td>\n",
       "      <td>Pass</td>\n",
       "    </tr>\n",
       "    <tr>\n",
       "      <td>2</td>\n",
       "      <td>2</td>\n",
       "      <td>0.0</td>\n",
       "      <td>0.0</td>\n",
       "      <td>0.0</td>\n",
       "      <td>0.0</td>\n",
       "      <td>0.0</td>\n",
       "      <td>0.0</td>\n",
       "      <td>0.0</td>\n",
       "      <td>0.0</td>\n",
       "      <td>0.0</td>\n",
       "      <td>...</td>\n",
       "      <td>0.0</td>\n",
       "      <td>0.0</td>\n",
       "      <td>0.0</td>\n",
       "      <td>0.0</td>\n",
       "      <td>2352738</td>\n",
       "      <td>1801618.0</td>\n",
       "      <td>Canvass Re-Inspection</td>\n",
       "      <td>60605.0</td>\n",
       "      <td>Risk 1 (High)</td>\n",
       "      <td>Pass</td>\n",
       "    </tr>\n",
       "  </tbody>\n",
       "</table>\n",
       "<p>3 rows × 52 columns</p>\n",
       "</div>"
      ],
      "text/plain": [
       "   Unnamed: 0   #1   #2   #3   #4   #5   #6   #7   #8   #9  ...  #42  #43  \\\n",
       "0           0  0.0  0.0  0.0  0.0  0.0  0.0  0.0  0.0  0.0  ...  0.0  0.0   \n",
       "1           1  0.0  0.0  0.0  0.0  0.0  0.0  0.0  0.0  0.0  ...  0.0  0.0   \n",
       "2           2  0.0  0.0  0.0  0.0  0.0  0.0  0.0  0.0  0.0  ...  0.0  0.0   \n",
       "\n",
       "   #44  #70  inspection_id    license        inspection_type      zip  \\\n",
       "0  0.0  0.0        2352734    34169.0                Canvass  60666.0   \n",
       "1  0.0  0.0        2352727  2215815.0                Canvass  60641.0   \n",
       "2  0.0  0.0        2352738  1801618.0  Canvass Re-Inspection  60605.0   \n",
       "\n",
       "            risk  results  \n",
       "0  Risk 1 (High)     Pass  \n",
       "1  Risk 1 (High)     Pass  \n",
       "2  Risk 1 (High)     Pass  \n",
       "\n",
       "[3 rows x 52 columns]"
      ]
     },
     "metadata": {},
     "output_type": "display_data"
    },
    {
     "name": "stdout",
     "output_type": "stream",
     "text": [
      "\n",
      "\u001b[1m Number of critical ,serious and minor count per inspection \u001b[0m\n",
      "None\n"
     ]
    },
    {
     "data": {
      "text/html": [
       "<div>\n",
       "<style scoped>\n",
       "    .dataframe tbody tr th:only-of-type {\n",
       "        vertical-align: middle;\n",
       "    }\n",
       "\n",
       "    .dataframe tbody tr th {\n",
       "        vertical-align: top;\n",
       "    }\n",
       "\n",
       "    .dataframe thead th {\n",
       "        text-align: right;\n",
       "    }\n",
       "</style>\n",
       "<table border=\"1\" class=\"dataframe\">\n",
       "  <thead>\n",
       "    <tr style=\"text-align: right;\">\n",
       "      <th></th>\n",
       "      <th>Unnamed: 0</th>\n",
       "      <th>inspection_id</th>\n",
       "      <th>dba_name</th>\n",
       "      <th>aka_name</th>\n",
       "      <th>license</th>\n",
       "      <th>facility_type</th>\n",
       "      <th>risk</th>\n",
       "      <th>address</th>\n",
       "      <th>zip</th>\n",
       "      <th>inspection_date</th>\n",
       "      <th>...</th>\n",
       "      <th>results</th>\n",
       "      <th>violations</th>\n",
       "      <th>latitude</th>\n",
       "      <th>longitude</th>\n",
       "      <th>location</th>\n",
       "      <th>count</th>\n",
       "      <th>critical_count</th>\n",
       "      <th>serious_count</th>\n",
       "      <th>minor_count</th>\n",
       "      <th>violations_count</th>\n",
       "    </tr>\n",
       "  </thead>\n",
       "  <tbody>\n",
       "    <tr>\n",
       "      <td>0</td>\n",
       "      <td>0</td>\n",
       "      <td>2352734</td>\n",
       "      <td>CHILI'S T-I</td>\n",
       "      <td>CHILI'S (T1-B14)</td>\n",
       "      <td>34169.0</td>\n",
       "      <td>Restaurant</td>\n",
       "      <td>Risk 1 (High)</td>\n",
       "      <td>11601 W TOUHY AVE</td>\n",
       "      <td>60666.0</td>\n",
       "      <td>2019-12-04</td>\n",
       "      <td>...</td>\n",
       "      <td>Pass</td>\n",
       "      <td>10. ADEQUATE HANDWASHING SINKS PROPERLY SUPPLI...</td>\n",
       "      <td>42.008536</td>\n",
       "      <td>-87.914428</td>\n",
       "      <td>{'latitude': '-87.91442843927047', 'longitude'...</td>\n",
       "      <td>1</td>\n",
       "      <td>1.0</td>\n",
       "      <td>0.0</td>\n",
       "      <td>0.0</td>\n",
       "      <td>1.0</td>\n",
       "    </tr>\n",
       "    <tr>\n",
       "      <td>1</td>\n",
       "      <td>1</td>\n",
       "      <td>2352727</td>\n",
       "      <td>PORTAGE PARK DAY NURSERY</td>\n",
       "      <td>MOSAIC EARLY CHILDHOOD ACADEMY</td>\n",
       "      <td>2215815.0</td>\n",
       "      <td>Children's Services Facility</td>\n",
       "      <td>Risk 1 (High)</td>\n",
       "      <td>5332-5334 W ADDISON ST</td>\n",
       "      <td>60641.0</td>\n",
       "      <td>2019-12-04</td>\n",
       "      <td>...</td>\n",
       "      <td>Pass</td>\n",
       "      <td>0</td>\n",
       "      <td>41.946065</td>\n",
       "      <td>-87.760722</td>\n",
       "      <td>{'latitude': '-87.76072227616888', 'longitude'...</td>\n",
       "      <td>1</td>\n",
       "      <td>0.0</td>\n",
       "      <td>0.0</td>\n",
       "      <td>0.0</td>\n",
       "      <td>0.0</td>\n",
       "    </tr>\n",
       "    <tr>\n",
       "      <td>2</td>\n",
       "      <td>2</td>\n",
       "      <td>2352738</td>\n",
       "      <td>AMARIT RESTAURANT</td>\n",
       "      <td>AMARIT RESTAURANT</td>\n",
       "      <td>1801618.0</td>\n",
       "      <td>Restaurant</td>\n",
       "      <td>Risk 1 (High)</td>\n",
       "      <td>600 S DEARBORN ST</td>\n",
       "      <td>60605.0</td>\n",
       "      <td>2019-12-04</td>\n",
       "      <td>...</td>\n",
       "      <td>Pass</td>\n",
       "      <td>0</td>\n",
       "      <td>41.874481</td>\n",
       "      <td>-87.629357</td>\n",
       "      <td>{'latitude': '-87.62935653990546', 'longitude'...</td>\n",
       "      <td>1</td>\n",
       "      <td>0.0</td>\n",
       "      <td>0.0</td>\n",
       "      <td>0.0</td>\n",
       "      <td>0.0</td>\n",
       "    </tr>\n",
       "  </tbody>\n",
       "</table>\n",
       "<p>3 rows × 21 columns</p>\n",
       "</div>"
      ],
      "text/plain": [
       "   Unnamed: 0  inspection_id                  dba_name  \\\n",
       "0           0        2352734               CHILI'S T-I   \n",
       "1           1        2352727  PORTAGE PARK DAY NURSERY   \n",
       "2           2        2352738         AMARIT RESTAURANT   \n",
       "\n",
       "                         aka_name    license                 facility_type  \\\n",
       "0                CHILI'S (T1-B14)    34169.0                    Restaurant   \n",
       "1  MOSAIC EARLY CHILDHOOD ACADEMY  2215815.0  Children's Services Facility   \n",
       "2               AMARIT RESTAURANT  1801618.0                    Restaurant   \n",
       "\n",
       "            risk                  address      zip inspection_date  ...  \\\n",
       "0  Risk 1 (High)       11601 W TOUHY AVE   60666.0      2019-12-04  ...   \n",
       "1  Risk 1 (High)  5332-5334 W ADDISON ST   60641.0      2019-12-04  ...   \n",
       "2  Risk 1 (High)       600 S DEARBORN ST   60605.0      2019-12-04  ...   \n",
       "\n",
       "  results                                         violations   latitude  \\\n",
       "0    Pass  10. ADEQUATE HANDWASHING SINKS PROPERLY SUPPLI...  42.008536   \n",
       "1    Pass                                                  0  41.946065   \n",
       "2    Pass                                                  0  41.874481   \n",
       "\n",
       "   longitude                                           location count  \\\n",
       "0 -87.914428  {'latitude': '-87.91442843927047', 'longitude'...     1   \n",
       "1 -87.760722  {'latitude': '-87.76072227616888', 'longitude'...     1   \n",
       "2 -87.629357  {'latitude': '-87.62935653990546', 'longitude'...     1   \n",
       "\n",
       "   critical_count  serious_count  minor_count  violations_count  \n",
       "0             1.0            0.0          0.0               1.0  \n",
       "1             0.0            0.0          0.0               0.0  \n",
       "2             0.0            0.0          0.0               0.0  \n",
       "\n",
       "[3 rows x 21 columns]"
      ]
     },
     "metadata": {},
     "output_type": "display_data"
    }
   ],
   "source": [
    "# Export both dataframes to csv files\n",
    "#violations_dataframe01.to_csv(r'data/violations_binary_representation.csv')\n",
    "#violations_dataframe02.to_csv(r'data/violations_type_count.csv')\n",
    "\n",
    "# read from saved csv\n",
    "violations_dataframe01 = pd.read_csv('data/violations_binary_representation.csv')\n",
    "violations_dataframe02 = pd.read_csv('data/violations_type_count.csv')\n",
    "\n",
    "print(print('\\n\\033[1m Violations per inspection (binary value representation) \\033[0m'))\n",
    "display(violations_dataframe01.head(3))\n",
    "\n",
    "print(print('\\n\\033[1m Number of critical ,serious and minor count per inspection \\033[0m'))\n",
    "display(violations_dataframe02.head(3))"
   ]
  },
  {
   "cell_type": "markdown",
   "metadata": {},
   "source": [
    "- **df_New**: In order to be able to train the model effectively, we need to take into consideration the time property of our initial dataset: indeed, each restaurant will face many inspections throughout the years, and the inspections are thus ordered in time. Hence, our model needs to take into account the time property of the dataset. This will be enabled by first ordering the inspections in the dataset (from first to last inspections).\n",
    "\n",
    "> We will add the inspection date to each of the inspections, recorded with their separate violations, by merging both 'violations_dataframe' (for the separate violations) and 'violations_dataframe02' (for the inspection dates). Since both dataframes contains the inspection_id, which is unique for each inspection, we can merge by 'inspection_id'."
   ]
  },
  {
   "cell_type": "code",
   "execution_count": 4,
   "metadata": {},
   "outputs": [
    {
     "data": {
      "text/html": [
       "<div>\n",
       "<style scoped>\n",
       "    .dataframe tbody tr th:only-of-type {\n",
       "        vertical-align: middle;\n",
       "    }\n",
       "\n",
       "    .dataframe tbody tr th {\n",
       "        vertical-align: top;\n",
       "    }\n",
       "\n",
       "    .dataframe thead th {\n",
       "        text-align: right;\n",
       "    }\n",
       "</style>\n",
       "<table border=\"1\" class=\"dataframe\">\n",
       "  <thead>\n",
       "    <tr style=\"text-align: right;\">\n",
       "      <th></th>\n",
       "      <th>inspection_id</th>\n",
       "      <th>inspection_date</th>\n",
       "    </tr>\n",
       "  </thead>\n",
       "  <tbody>\n",
       "    <tr>\n",
       "      <td>0</td>\n",
       "      <td>2352734</td>\n",
       "      <td>2019-12-04</td>\n",
       "    </tr>\n",
       "    <tr>\n",
       "      <td>1</td>\n",
       "      <td>2352727</td>\n",
       "      <td>2019-12-04</td>\n",
       "    </tr>\n",
       "  </tbody>\n",
       "</table>\n",
       "</div>"
      ],
      "text/plain": [
       "   inspection_id inspection_date\n",
       "0        2352734      2019-12-04\n",
       "1        2352727      2019-12-04"
      ]
     },
     "execution_count": 4,
     "metadata": {},
     "output_type": "execute_result"
    }
   ],
   "source": [
    "# Extract the date of inspection\n",
    "df2 = violations_dataframe02[[\"inspection_id\",'inspection_date']]\n",
    "df2.head(2)"
   ]
  },
  {
   "cell_type": "code",
   "execution_count": 5,
   "metadata": {},
   "outputs": [
    {
     "data": {
      "text/html": [
       "<div>\n",
       "<style scoped>\n",
       "    .dataframe tbody tr th:only-of-type {\n",
       "        vertical-align: middle;\n",
       "    }\n",
       "\n",
       "    .dataframe tbody tr th {\n",
       "        vertical-align: top;\n",
       "    }\n",
       "\n",
       "    .dataframe thead th {\n",
       "        text-align: right;\n",
       "    }\n",
       "</style>\n",
       "<table border=\"1\" class=\"dataframe\">\n",
       "  <thead>\n",
       "    <tr style=\"text-align: right;\">\n",
       "      <th></th>\n",
       "      <th>inspection_id</th>\n",
       "      <th>inspection_date</th>\n",
       "      <th>Unnamed: 0</th>\n",
       "      <th>#1</th>\n",
       "      <th>#2</th>\n",
       "      <th>#3</th>\n",
       "      <th>#4</th>\n",
       "      <th>#5</th>\n",
       "      <th>#6</th>\n",
       "      <th>#7</th>\n",
       "      <th>...</th>\n",
       "      <th>#41</th>\n",
       "      <th>#42</th>\n",
       "      <th>#43</th>\n",
       "      <th>#44</th>\n",
       "      <th>#70</th>\n",
       "      <th>license</th>\n",
       "      <th>inspection_type</th>\n",
       "      <th>zip</th>\n",
       "      <th>risk</th>\n",
       "      <th>results</th>\n",
       "    </tr>\n",
       "  </thead>\n",
       "  <tbody>\n",
       "    <tr>\n",
       "      <td>0</td>\n",
       "      <td>2352734</td>\n",
       "      <td>2019-12-04</td>\n",
       "      <td>0</td>\n",
       "      <td>0.0</td>\n",
       "      <td>0.0</td>\n",
       "      <td>0.0</td>\n",
       "      <td>0.0</td>\n",
       "      <td>0.0</td>\n",
       "      <td>0.0</td>\n",
       "      <td>0.0</td>\n",
       "      <td>...</td>\n",
       "      <td>0.0</td>\n",
       "      <td>0.0</td>\n",
       "      <td>0.0</td>\n",
       "      <td>0.0</td>\n",
       "      <td>0.0</td>\n",
       "      <td>34169.0</td>\n",
       "      <td>Canvass</td>\n",
       "      <td>60666.0</td>\n",
       "      <td>Risk 1 (High)</td>\n",
       "      <td>Pass</td>\n",
       "    </tr>\n",
       "    <tr>\n",
       "      <td>1</td>\n",
       "      <td>2352727</td>\n",
       "      <td>2019-12-04</td>\n",
       "      <td>1</td>\n",
       "      <td>0.0</td>\n",
       "      <td>0.0</td>\n",
       "      <td>0.0</td>\n",
       "      <td>0.0</td>\n",
       "      <td>0.0</td>\n",
       "      <td>0.0</td>\n",
       "      <td>0.0</td>\n",
       "      <td>...</td>\n",
       "      <td>0.0</td>\n",
       "      <td>0.0</td>\n",
       "      <td>0.0</td>\n",
       "      <td>0.0</td>\n",
       "      <td>0.0</td>\n",
       "      <td>2215815.0</td>\n",
       "      <td>Canvass</td>\n",
       "      <td>60641.0</td>\n",
       "      <td>Risk 1 (High)</td>\n",
       "      <td>Pass</td>\n",
       "    </tr>\n",
       "  </tbody>\n",
       "</table>\n",
       "<p>2 rows × 53 columns</p>\n",
       "</div>"
      ],
      "text/plain": [
       "   inspection_id inspection_date  Unnamed: 0   #1   #2   #3   #4   #5   #6  \\\n",
       "0        2352734      2019-12-04           0  0.0  0.0  0.0  0.0  0.0  0.0   \n",
       "1        2352727      2019-12-04           1  0.0  0.0  0.0  0.0  0.0  0.0   \n",
       "\n",
       "    #7  ...  #41  #42  #43  #44  #70    license  inspection_type      zip  \\\n",
       "0  0.0  ...  0.0  0.0  0.0  0.0  0.0    34169.0          Canvass  60666.0   \n",
       "1  0.0  ...  0.0  0.0  0.0  0.0  0.0  2215815.0          Canvass  60641.0   \n",
       "\n",
       "            risk  results  \n",
       "0  Risk 1 (High)     Pass  \n",
       "1  Risk 1 (High)     Pass  \n",
       "\n",
       "[2 rows x 53 columns]"
      ]
     },
     "execution_count": 5,
     "metadata": {},
     "output_type": "execute_result"
    }
   ],
   "source": [
    "# Merge on inspection_id\n",
    "df_New = pd.merge(df2, violations_dataframe01, left_index=True, right_index=True, how='outer', on='inspection_id')\n",
    "df_New.head(2)"
   ]
  },
  {
   "cell_type": "code",
   "execution_count": 6,
   "metadata": {},
   "outputs": [
    {
     "data": {
      "text/html": [
       "<div>\n",
       "<style scoped>\n",
       "    .dataframe tbody tr th:only-of-type {\n",
       "        vertical-align: middle;\n",
       "    }\n",
       "\n",
       "    .dataframe tbody tr th {\n",
       "        vertical-align: top;\n",
       "    }\n",
       "\n",
       "    .dataframe thead th {\n",
       "        text-align: right;\n",
       "    }\n",
       "</style>\n",
       "<table border=\"1\" class=\"dataframe\">\n",
       "  <thead>\n",
       "    <tr style=\"text-align: right;\">\n",
       "      <th></th>\n",
       "      <th>inspection_id</th>\n",
       "      <th>inspection_date</th>\n",
       "      <th>Unnamed: 0</th>\n",
       "      <th>#1</th>\n",
       "      <th>#2</th>\n",
       "      <th>#3</th>\n",
       "      <th>#4</th>\n",
       "      <th>#5</th>\n",
       "      <th>#6</th>\n",
       "      <th>#7</th>\n",
       "      <th>...</th>\n",
       "      <th>#41</th>\n",
       "      <th>#42</th>\n",
       "      <th>#43</th>\n",
       "      <th>#44</th>\n",
       "      <th>#70</th>\n",
       "      <th>license</th>\n",
       "      <th>inspection_type</th>\n",
       "      <th>zip</th>\n",
       "      <th>risk</th>\n",
       "      <th>results</th>\n",
       "    </tr>\n",
       "  </thead>\n",
       "  <tbody>\n",
       "    <tr>\n",
       "      <td>134647</td>\n",
       "      <td>104236</td>\n",
       "      <td>2010-01-04</td>\n",
       "      <td>134647</td>\n",
       "      <td>0.0</td>\n",
       "      <td>0.0</td>\n",
       "      <td>0.0</td>\n",
       "      <td>0.0</td>\n",
       "      <td>0.0</td>\n",
       "      <td>0.0</td>\n",
       "      <td>0.0</td>\n",
       "      <td>...</td>\n",
       "      <td>1.0</td>\n",
       "      <td>0.0</td>\n",
       "      <td>0.0</td>\n",
       "      <td>0.0</td>\n",
       "      <td>0.0</td>\n",
       "      <td>80916.0</td>\n",
       "      <td>Canvass</td>\n",
       "      <td>60611.0</td>\n",
       "      <td>Risk 1 (High)</td>\n",
       "      <td>Fail</td>\n",
       "    </tr>\n",
       "    <tr>\n",
       "      <td>134622</td>\n",
       "      <td>134239</td>\n",
       "      <td>2010-01-05</td>\n",
       "      <td>134622</td>\n",
       "      <td>0.0</td>\n",
       "      <td>0.0</td>\n",
       "      <td>0.0</td>\n",
       "      <td>0.0</td>\n",
       "      <td>0.0</td>\n",
       "      <td>0.0</td>\n",
       "      <td>0.0</td>\n",
       "      <td>...</td>\n",
       "      <td>0.0</td>\n",
       "      <td>0.0</td>\n",
       "      <td>0.0</td>\n",
       "      <td>0.0</td>\n",
       "      <td>0.0</td>\n",
       "      <td>32942.0</td>\n",
       "      <td>Complaint</td>\n",
       "      <td>60647.0</td>\n",
       "      <td>Risk 1 (High)</td>\n",
       "      <td>Fail</td>\n",
       "    </tr>\n",
       "    <tr>\n",
       "      <td>134621</td>\n",
       "      <td>118296</td>\n",
       "      <td>2010-01-05</td>\n",
       "      <td>134621</td>\n",
       "      <td>0.0</td>\n",
       "      <td>0.0</td>\n",
       "      <td>0.0</td>\n",
       "      <td>0.0</td>\n",
       "      <td>0.0</td>\n",
       "      <td>0.0</td>\n",
       "      <td>0.0</td>\n",
       "      <td>...</td>\n",
       "      <td>0.0</td>\n",
       "      <td>0.0</td>\n",
       "      <td>1.0</td>\n",
       "      <td>0.0</td>\n",
       "      <td>0.0</td>\n",
       "      <td>10940.0</td>\n",
       "      <td>Complaint</td>\n",
       "      <td>60608.0</td>\n",
       "      <td>Risk 1 (High)</td>\n",
       "      <td>Pass</td>\n",
       "    </tr>\n",
       "    <tr>\n",
       "      <td>134620</td>\n",
       "      <td>67759</td>\n",
       "      <td>2010-01-05</td>\n",
       "      <td>134620</td>\n",
       "      <td>0.0</td>\n",
       "      <td>0.0</td>\n",
       "      <td>1.0</td>\n",
       "      <td>0.0</td>\n",
       "      <td>0.0</td>\n",
       "      <td>0.0</td>\n",
       "      <td>0.0</td>\n",
       "      <td>...</td>\n",
       "      <td>1.0</td>\n",
       "      <td>0.0</td>\n",
       "      <td>0.0</td>\n",
       "      <td>0.0</td>\n",
       "      <td>0.0</td>\n",
       "      <td>1801271.0</td>\n",
       "      <td>Canvass</td>\n",
       "      <td>60613.0</td>\n",
       "      <td>Risk 1 (High)</td>\n",
       "      <td>Pass w/ Conditions</td>\n",
       "    </tr>\n",
       "    <tr>\n",
       "      <td>134619</td>\n",
       "      <td>54212</td>\n",
       "      <td>2010-01-05</td>\n",
       "      <td>134619</td>\n",
       "      <td>0.0</td>\n",
       "      <td>0.0</td>\n",
       "      <td>0.0</td>\n",
       "      <td>0.0</td>\n",
       "      <td>0.0</td>\n",
       "      <td>0.0</td>\n",
       "      <td>0.0</td>\n",
       "      <td>...</td>\n",
       "      <td>0.0</td>\n",
       "      <td>0.0</td>\n",
       "      <td>0.0</td>\n",
       "      <td>0.0</td>\n",
       "      <td>0.0</td>\n",
       "      <td>1992130.0</td>\n",
       "      <td>Complaint</td>\n",
       "      <td>60651.0</td>\n",
       "      <td>Risk 1 (High)</td>\n",
       "      <td>Pass</td>\n",
       "    </tr>\n",
       "  </tbody>\n",
       "</table>\n",
       "<p>5 rows × 53 columns</p>\n",
       "</div>"
      ],
      "text/plain": [
       "        inspection_id inspection_date  Unnamed: 0   #1   #2   #3   #4   #5  \\\n",
       "134647         104236      2010-01-04      134647  0.0  0.0  0.0  0.0  0.0   \n",
       "134622         134239      2010-01-05      134622  0.0  0.0  0.0  0.0  0.0   \n",
       "134621         118296      2010-01-05      134621  0.0  0.0  0.0  0.0  0.0   \n",
       "134620          67759      2010-01-05      134620  0.0  0.0  1.0  0.0  0.0   \n",
       "134619          54212      2010-01-05      134619  0.0  0.0  0.0  0.0  0.0   \n",
       "\n",
       "         #6   #7  ...  #41  #42  #43  #44  #70    license  inspection_type  \\\n",
       "134647  0.0  0.0  ...  1.0  0.0  0.0  0.0  0.0    80916.0          Canvass   \n",
       "134622  0.0  0.0  ...  0.0  0.0  0.0  0.0  0.0    32942.0        Complaint   \n",
       "134621  0.0  0.0  ...  0.0  0.0  1.0  0.0  0.0    10940.0        Complaint   \n",
       "134620  0.0  0.0  ...  1.0  0.0  0.0  0.0  0.0  1801271.0          Canvass   \n",
       "134619  0.0  0.0  ...  0.0  0.0  0.0  0.0  0.0  1992130.0        Complaint   \n",
       "\n",
       "            zip           risk             results  \n",
       "134647  60611.0  Risk 1 (High)                Fail  \n",
       "134622  60647.0  Risk 1 (High)                Fail  \n",
       "134621  60608.0  Risk 1 (High)                Pass  \n",
       "134620  60613.0  Risk 1 (High)  Pass w/ Conditions  \n",
       "134619  60651.0  Risk 1 (High)                Pass  \n",
       "\n",
       "[5 rows x 53 columns]"
      ]
     },
     "execution_count": 6,
     "metadata": {},
     "output_type": "execute_result"
    }
   ],
   "source": [
    "# Convert into date format\n",
    "df_New[\"inspection_date\"] = pd.to_datetime(df_New[\"inspection_date\"])\n",
    "\n",
    "# Sort the inspections by date\n",
    "df_New = df_New.sort_values(by =\"inspection_date\",ascending=True)\n",
    "df_New.head()"
   ]
  },
  {
   "cell_type": "markdown",
   "metadata": {},
   "source": [
    "- **data_classified**: Another ordered time series dataset that we can think about and is relevant to use is obtained by grouping the inspections (sorted by time, from the oldest to the most recent ones) by restaurant license (i.e. sorted inspections for each restaurant)."
   ]
  },
  {
   "cell_type": "markdown",
   "metadata": {},
   "source": [
    "> We group the inspections sorted by time (from the oldest to the newest) by restaurant license."
   ]
  },
  {
   "cell_type": "code",
   "execution_count": 7,
   "metadata": {},
   "outputs": [
    {
     "data": {
      "text/html": [
       "<div>\n",
       "<style scoped>\n",
       "    .dataframe tbody tr th:only-of-type {\n",
       "        vertical-align: middle;\n",
       "    }\n",
       "\n",
       "    .dataframe tbody tr th {\n",
       "        vertical-align: top;\n",
       "    }\n",
       "\n",
       "    .dataframe thead th {\n",
       "        text-align: right;\n",
       "    }\n",
       "</style>\n",
       "<table border=\"1\" class=\"dataframe\">\n",
       "  <thead>\n",
       "    <tr style=\"text-align: right;\">\n",
       "      <th></th>\n",
       "      <th>#1</th>\n",
       "      <th>#10</th>\n",
       "      <th>#11</th>\n",
       "      <th>#12</th>\n",
       "      <th>#13</th>\n",
       "      <th>#14</th>\n",
       "      <th>#15</th>\n",
       "      <th>#16</th>\n",
       "      <th>#17</th>\n",
       "      <th>#18</th>\n",
       "      <th>...</th>\n",
       "      <th>#8</th>\n",
       "      <th>#9</th>\n",
       "      <th>Unnamed: 0</th>\n",
       "      <th>inspection_date</th>\n",
       "      <th>inspection_id</th>\n",
       "      <th>inspection_type</th>\n",
       "      <th>license</th>\n",
       "      <th>results</th>\n",
       "      <th>risk</th>\n",
       "      <th>zip</th>\n",
       "    </tr>\n",
       "  </thead>\n",
       "  <tbody>\n",
       "    <tr>\n",
       "      <td>0</td>\n",
       "      <td>0.0</td>\n",
       "      <td>0.0</td>\n",
       "      <td>0.0</td>\n",
       "      <td>0.0</td>\n",
       "      <td>0.0</td>\n",
       "      <td>0.0</td>\n",
       "      <td>0.0</td>\n",
       "      <td>0.0</td>\n",
       "      <td>0.0</td>\n",
       "      <td>0.0</td>\n",
       "      <td>...</td>\n",
       "      <td>0.0</td>\n",
       "      <td>0.0</td>\n",
       "      <td>129254</td>\n",
       "      <td>2010-06-15</td>\n",
       "      <td>229468</td>\n",
       "      <td>Canvass</td>\n",
       "      <td>2.0</td>\n",
       "      <td>Pass</td>\n",
       "      <td>Risk 1 (High)</td>\n",
       "      <td>60606.0</td>\n",
       "    </tr>\n",
       "    <tr>\n",
       "      <td>1</td>\n",
       "      <td>0.0</td>\n",
       "      <td>0.0</td>\n",
       "      <td>0.0</td>\n",
       "      <td>0.0</td>\n",
       "      <td>0.0</td>\n",
       "      <td>0.0</td>\n",
       "      <td>0.0</td>\n",
       "      <td>0.0</td>\n",
       "      <td>0.0</td>\n",
       "      <td>0.0</td>\n",
       "      <td>...</td>\n",
       "      <td>0.0</td>\n",
       "      <td>0.0</td>\n",
       "      <td>121362</td>\n",
       "      <td>2011-02-15</td>\n",
       "      <td>114767</td>\n",
       "      <td>Canvass</td>\n",
       "      <td>2.0</td>\n",
       "      <td>Pass</td>\n",
       "      <td>Risk 1 (High)</td>\n",
       "      <td>60606.0</td>\n",
       "    </tr>\n",
       "    <tr>\n",
       "      <td>2</td>\n",
       "      <td>0.0</td>\n",
       "      <td>0.0</td>\n",
       "      <td>0.0</td>\n",
       "      <td>0.0</td>\n",
       "      <td>0.0</td>\n",
       "      <td>0.0</td>\n",
       "      <td>0.0</td>\n",
       "      <td>0.0</td>\n",
       "      <td>0.0</td>\n",
       "      <td>0.0</td>\n",
       "      <td>...</td>\n",
       "      <td>0.0</td>\n",
       "      <td>0.0</td>\n",
       "      <td>107647</td>\n",
       "      <td>2012-03-19</td>\n",
       "      <td>679663</td>\n",
       "      <td>Canvass</td>\n",
       "      <td>2.0</td>\n",
       "      <td>Pass w/ Conditions</td>\n",
       "      <td>Risk 1 (High)</td>\n",
       "      <td>60606.0</td>\n",
       "    </tr>\n",
       "    <tr>\n",
       "      <td>3</td>\n",
       "      <td>0.0</td>\n",
       "      <td>0.0</td>\n",
       "      <td>0.0</td>\n",
       "      <td>0.0</td>\n",
       "      <td>0.0</td>\n",
       "      <td>0.0</td>\n",
       "      <td>0.0</td>\n",
       "      <td>0.0</td>\n",
       "      <td>0.0</td>\n",
       "      <td>0.0</td>\n",
       "      <td>...</td>\n",
       "      <td>0.0</td>\n",
       "      <td>0.0</td>\n",
       "      <td>107578</td>\n",
       "      <td>2012-03-21</td>\n",
       "      <td>680088</td>\n",
       "      <td>Canvass Re-Inspection</td>\n",
       "      <td>2.0</td>\n",
       "      <td>Pass</td>\n",
       "      <td>Risk 1 (High)</td>\n",
       "      <td>60606.0</td>\n",
       "    </tr>\n",
       "    <tr>\n",
       "      <td>4</td>\n",
       "      <td>0.0</td>\n",
       "      <td>0.0</td>\n",
       "      <td>0.0</td>\n",
       "      <td>0.0</td>\n",
       "      <td>0.0</td>\n",
       "      <td>0.0</td>\n",
       "      <td>0.0</td>\n",
       "      <td>0.0</td>\n",
       "      <td>0.0</td>\n",
       "      <td>0.0</td>\n",
       "      <td>...</td>\n",
       "      <td>0.0</td>\n",
       "      <td>0.0</td>\n",
       "      <td>90539</td>\n",
       "      <td>2013-07-19</td>\n",
       "      <td>1324560</td>\n",
       "      <td>Canvass</td>\n",
       "      <td>2.0</td>\n",
       "      <td>Pass</td>\n",
       "      <td>Risk 1 (High)</td>\n",
       "      <td>60606.0</td>\n",
       "    </tr>\n",
       "  </tbody>\n",
       "</table>\n",
       "<p>5 rows × 53 columns</p>\n",
       "</div>"
      ],
      "text/plain": [
       "    #1  #10  #11  #12  #13  #14  #15  #16  #17  #18  ...   #8   #9  \\\n",
       "0  0.0  0.0  0.0  0.0  0.0  0.0  0.0  0.0  0.0  0.0  ...  0.0  0.0   \n",
       "1  0.0  0.0  0.0  0.0  0.0  0.0  0.0  0.0  0.0  0.0  ...  0.0  0.0   \n",
       "2  0.0  0.0  0.0  0.0  0.0  0.0  0.0  0.0  0.0  0.0  ...  0.0  0.0   \n",
       "3  0.0  0.0  0.0  0.0  0.0  0.0  0.0  0.0  0.0  0.0  ...  0.0  0.0   \n",
       "4  0.0  0.0  0.0  0.0  0.0  0.0  0.0  0.0  0.0  0.0  ...  0.0  0.0   \n",
       "\n",
       "   Unnamed: 0  inspection_date  inspection_id        inspection_type  license  \\\n",
       "0      129254       2010-06-15         229468                Canvass      2.0   \n",
       "1      121362       2011-02-15         114767                Canvass      2.0   \n",
       "2      107647       2012-03-19         679663                Canvass      2.0   \n",
       "3      107578       2012-03-21         680088  Canvass Re-Inspection      2.0   \n",
       "4       90539       2013-07-19        1324560                Canvass      2.0   \n",
       "\n",
       "              results           risk      zip  \n",
       "0                Pass  Risk 1 (High)  60606.0  \n",
       "1                Pass  Risk 1 (High)  60606.0  \n",
       "2  Pass w/ Conditions  Risk 1 (High)  60606.0  \n",
       "3                Pass  Risk 1 (High)  60606.0  \n",
       "4                Pass  Risk 1 (High)  60606.0  \n",
       "\n",
       "[5 rows x 53 columns]"
      ]
     },
     "execution_count": 7,
     "metadata": {},
     "output_type": "execute_result"
    }
   ],
   "source": [
    "# create a dataframe with data grouped by license number\n",
    "\n",
    "dict_resto_1 = {}\n",
    "\n",
    "for resto, df in df_New.groupby('license'):\n",
    "  dict_resto_1[resto] = df\n",
    "\n",
    "data_classified = pd.concat(dict_resto_1.values(), sort = True, ignore_index=True)\n",
    "data_classified.head()"
   ]
  },
  {
   "cell_type": "markdown",
   "metadata": {},
   "source": [
    "- **df_New_2**: We load the dataset in which we computed a personalized score for each of the inspections. We merge it with the other ones in order to have the list of violations and the inspection date."
   ]
  },
  {
   "cell_type": "code",
   "execution_count": 8,
   "metadata": {},
   "outputs": [
    {
     "data": {
      "text/html": [
       "<div>\n",
       "<style scoped>\n",
       "    .dataframe tbody tr th:only-of-type {\n",
       "        vertical-align: middle;\n",
       "    }\n",
       "\n",
       "    .dataframe tbody tr th {\n",
       "        vertical-align: top;\n",
       "    }\n",
       "\n",
       "    .dataframe thead th {\n",
       "        text-align: right;\n",
       "    }\n",
       "</style>\n",
       "<table border=\"1\" class=\"dataframe\">\n",
       "  <thead>\n",
       "    <tr style=\"text-align: right;\">\n",
       "      <th></th>\n",
       "      <th>Unnamed: 0</th>\n",
       "      <th>#1</th>\n",
       "      <th>#2</th>\n",
       "      <th>#3</th>\n",
       "      <th>#4</th>\n",
       "      <th>#5</th>\n",
       "      <th>#6</th>\n",
       "      <th>#7</th>\n",
       "      <th>#8</th>\n",
       "      <th>#9</th>\n",
       "      <th>...</th>\n",
       "      <th>#37</th>\n",
       "      <th>#38</th>\n",
       "      <th>#39</th>\n",
       "      <th>#40</th>\n",
       "      <th>#41</th>\n",
       "      <th>#42</th>\n",
       "      <th>#43</th>\n",
       "      <th>#44</th>\n",
       "      <th>#70</th>\n",
       "      <th>score</th>\n",
       "    </tr>\n",
       "  </thead>\n",
       "  <tbody>\n",
       "    <tr>\n",
       "      <td>0</td>\n",
       "      <td>0</td>\n",
       "      <td>0.0</td>\n",
       "      <td>0.0</td>\n",
       "      <td>0.0</td>\n",
       "      <td>0.0</td>\n",
       "      <td>0.0</td>\n",
       "      <td>0.0</td>\n",
       "      <td>0.0</td>\n",
       "      <td>0.0</td>\n",
       "      <td>0.0</td>\n",
       "      <td>...</td>\n",
       "      <td>0.0</td>\n",
       "      <td>0.0</td>\n",
       "      <td>0.0</td>\n",
       "      <td>0.0</td>\n",
       "      <td>0.0</td>\n",
       "      <td>0.0</td>\n",
       "      <td>0.0</td>\n",
       "      <td>0.0</td>\n",
       "      <td>0.0</td>\n",
       "      <td>0.000000</td>\n",
       "    </tr>\n",
       "    <tr>\n",
       "      <td>1</td>\n",
       "      <td>1</td>\n",
       "      <td>0.0</td>\n",
       "      <td>0.0</td>\n",
       "      <td>1.0</td>\n",
       "      <td>0.0</td>\n",
       "      <td>1.0</td>\n",
       "      <td>0.0</td>\n",
       "      <td>0.0</td>\n",
       "      <td>0.0</td>\n",
       "      <td>0.0</td>\n",
       "      <td>...</td>\n",
       "      <td>0.0</td>\n",
       "      <td>0.0</td>\n",
       "      <td>0.0</td>\n",
       "      <td>0.0</td>\n",
       "      <td>0.0</td>\n",
       "      <td>0.0</td>\n",
       "      <td>0.0</td>\n",
       "      <td>0.0</td>\n",
       "      <td>0.0</td>\n",
       "      <td>1.740464</td>\n",
       "    </tr>\n",
       "    <tr>\n",
       "      <td>2</td>\n",
       "      <td>2</td>\n",
       "      <td>0.0</td>\n",
       "      <td>0.0</td>\n",
       "      <td>1.0</td>\n",
       "      <td>0.0</td>\n",
       "      <td>0.0</td>\n",
       "      <td>0.0</td>\n",
       "      <td>0.0</td>\n",
       "      <td>0.0</td>\n",
       "      <td>0.0</td>\n",
       "      <td>...</td>\n",
       "      <td>1.0</td>\n",
       "      <td>0.0</td>\n",
       "      <td>0.0</td>\n",
       "      <td>0.0</td>\n",
       "      <td>0.0</td>\n",
       "      <td>0.0</td>\n",
       "      <td>0.0</td>\n",
       "      <td>0.0</td>\n",
       "      <td>0.0</td>\n",
       "      <td>2.832479</td>\n",
       "    </tr>\n",
       "    <tr>\n",
       "      <td>3</td>\n",
       "      <td>3</td>\n",
       "      <td>0.0</td>\n",
       "      <td>0.0</td>\n",
       "      <td>0.0</td>\n",
       "      <td>0.0</td>\n",
       "      <td>0.0</td>\n",
       "      <td>0.0</td>\n",
       "      <td>0.0</td>\n",
       "      <td>0.0</td>\n",
       "      <td>0.0</td>\n",
       "      <td>...</td>\n",
       "      <td>0.0</td>\n",
       "      <td>0.0</td>\n",
       "      <td>0.0</td>\n",
       "      <td>0.0</td>\n",
       "      <td>0.0</td>\n",
       "      <td>0.0</td>\n",
       "      <td>0.0</td>\n",
       "      <td>0.0</td>\n",
       "      <td>0.0</td>\n",
       "      <td>0.000000</td>\n",
       "    </tr>\n",
       "    <tr>\n",
       "      <td>4</td>\n",
       "      <td>4</td>\n",
       "      <td>0.0</td>\n",
       "      <td>0.0</td>\n",
       "      <td>0.0</td>\n",
       "      <td>0.0</td>\n",
       "      <td>1.0</td>\n",
       "      <td>0.0</td>\n",
       "      <td>0.0</td>\n",
       "      <td>0.0</td>\n",
       "      <td>0.0</td>\n",
       "      <td>...</td>\n",
       "      <td>0.0</td>\n",
       "      <td>0.0</td>\n",
       "      <td>0.0</td>\n",
       "      <td>0.0</td>\n",
       "      <td>0.0</td>\n",
       "      <td>0.0</td>\n",
       "      <td>0.0</td>\n",
       "      <td>0.0</td>\n",
       "      <td>0.0</td>\n",
       "      <td>0.000000</td>\n",
       "    </tr>\n",
       "  </tbody>\n",
       "</table>\n",
       "<p>5 rows × 47 columns</p>\n",
       "</div>"
      ],
      "text/plain": [
       "   Unnamed: 0   #1   #2   #3   #4   #5   #6   #7   #8   #9  ...  #37  #38  \\\n",
       "0           0  0.0  0.0  0.0  0.0  0.0  0.0  0.0  0.0  0.0  ...  0.0  0.0   \n",
       "1           1  0.0  0.0  1.0  0.0  1.0  0.0  0.0  0.0  0.0  ...  0.0  0.0   \n",
       "2           2  0.0  0.0  1.0  0.0  0.0  0.0  0.0  0.0  0.0  ...  1.0  0.0   \n",
       "3           3  0.0  0.0  0.0  0.0  0.0  0.0  0.0  0.0  0.0  ...  0.0  0.0   \n",
       "4           4  0.0  0.0  0.0  0.0  1.0  0.0  0.0  0.0  0.0  ...  0.0  0.0   \n",
       "\n",
       "   #39  #40  #41  #42  #43  #44  #70     score  \n",
       "0  0.0  0.0  0.0  0.0  0.0  0.0  0.0  0.000000  \n",
       "1  0.0  0.0  0.0  0.0  0.0  0.0  0.0  1.740464  \n",
       "2  0.0  0.0  0.0  0.0  0.0  0.0  0.0  2.832479  \n",
       "3  0.0  0.0  0.0  0.0  0.0  0.0  0.0  0.000000  \n",
       "4  0.0  0.0  0.0  0.0  0.0  0.0  0.0  0.000000  \n",
       "\n",
       "[5 rows x 47 columns]"
      ]
     },
     "execution_count": 8,
     "metadata": {},
     "output_type": "execute_result"
    }
   ],
   "source": [
    "# Load the dataset\n",
    "data_score = pd.read_csv('data/score_violation_df.csv', delimiter = ',')\n",
    "data_score.head()"
   ]
  },
  {
   "cell_type": "code",
   "execution_count": 9,
   "metadata": {},
   "outputs": [
    {
     "data": {
      "text/html": [
       "<div>\n",
       "<style scoped>\n",
       "    .dataframe tbody tr th:only-of-type {\n",
       "        vertical-align: middle;\n",
       "    }\n",
       "\n",
       "    .dataframe tbody tr th {\n",
       "        vertical-align: top;\n",
       "    }\n",
       "\n",
       "    .dataframe thead th {\n",
       "        text-align: right;\n",
       "    }\n",
       "</style>\n",
       "<table border=\"1\" class=\"dataframe\">\n",
       "  <thead>\n",
       "    <tr style=\"text-align: right;\">\n",
       "      <th></th>\n",
       "      <th>score</th>\n",
       "    </tr>\n",
       "  </thead>\n",
       "  <tbody>\n",
       "    <tr>\n",
       "      <td>0</td>\n",
       "      <td>0.000000</td>\n",
       "    </tr>\n",
       "    <tr>\n",
       "      <td>1</td>\n",
       "      <td>1.740464</td>\n",
       "    </tr>\n",
       "  </tbody>\n",
       "</table>\n",
       "</div>"
      ],
      "text/plain": [
       "      score\n",
       "0  0.000000\n",
       "1  1.740464"
      ]
     },
     "execution_count": 9,
     "metadata": {},
     "output_type": "execute_result"
    }
   ],
   "source": [
    "# Extracting the score parameter\n",
    "df_score = data_score[[\"score\"]]\n",
    "df_score.head(2)"
   ]
  },
  {
   "cell_type": "code",
   "execution_count": 10,
   "metadata": {},
   "outputs": [
    {
     "data": {
      "text/html": [
       "<div>\n",
       "<style scoped>\n",
       "    .dataframe tbody tr th:only-of-type {\n",
       "        vertical-align: middle;\n",
       "    }\n",
       "\n",
       "    .dataframe tbody tr th {\n",
       "        vertical-align: top;\n",
       "    }\n",
       "\n",
       "    .dataframe thead th {\n",
       "        text-align: right;\n",
       "    }\n",
       "</style>\n",
       "<table border=\"1\" class=\"dataframe\">\n",
       "  <thead>\n",
       "    <tr style=\"text-align: right;\">\n",
       "      <th></th>\n",
       "      <th>score</th>\n",
       "      <th>Unnamed: 0</th>\n",
       "      <th>#1</th>\n",
       "      <th>#2</th>\n",
       "      <th>#3</th>\n",
       "      <th>#4</th>\n",
       "      <th>#5</th>\n",
       "      <th>#6</th>\n",
       "      <th>#7</th>\n",
       "      <th>#8</th>\n",
       "      <th>...</th>\n",
       "      <th>#42</th>\n",
       "      <th>#43</th>\n",
       "      <th>#44</th>\n",
       "      <th>#70</th>\n",
       "      <th>inspection_id</th>\n",
       "      <th>license</th>\n",
       "      <th>inspection_type</th>\n",
       "      <th>zip</th>\n",
       "      <th>risk</th>\n",
       "      <th>results</th>\n",
       "    </tr>\n",
       "  </thead>\n",
       "  <tbody>\n",
       "    <tr>\n",
       "      <td>0</td>\n",
       "      <td>0.000000</td>\n",
       "      <td>0</td>\n",
       "      <td>0.0</td>\n",
       "      <td>0.0</td>\n",
       "      <td>0.0</td>\n",
       "      <td>0.0</td>\n",
       "      <td>0.0</td>\n",
       "      <td>0.0</td>\n",
       "      <td>0.0</td>\n",
       "      <td>0.0</td>\n",
       "      <td>...</td>\n",
       "      <td>0.0</td>\n",
       "      <td>0.0</td>\n",
       "      <td>0.0</td>\n",
       "      <td>0.0</td>\n",
       "      <td>2352734</td>\n",
       "      <td>34169.0</td>\n",
       "      <td>Canvass</td>\n",
       "      <td>60666.0</td>\n",
       "      <td>Risk 1 (High)</td>\n",
       "      <td>Pass</td>\n",
       "    </tr>\n",
       "    <tr>\n",
       "      <td>1</td>\n",
       "      <td>1.740464</td>\n",
       "      <td>1</td>\n",
       "      <td>0.0</td>\n",
       "      <td>0.0</td>\n",
       "      <td>0.0</td>\n",
       "      <td>0.0</td>\n",
       "      <td>0.0</td>\n",
       "      <td>0.0</td>\n",
       "      <td>0.0</td>\n",
       "      <td>0.0</td>\n",
       "      <td>...</td>\n",
       "      <td>0.0</td>\n",
       "      <td>0.0</td>\n",
       "      <td>0.0</td>\n",
       "      <td>0.0</td>\n",
       "      <td>2352727</td>\n",
       "      <td>2215815.0</td>\n",
       "      <td>Canvass</td>\n",
       "      <td>60641.0</td>\n",
       "      <td>Risk 1 (High)</td>\n",
       "      <td>Pass</td>\n",
       "    </tr>\n",
       "  </tbody>\n",
       "</table>\n",
       "<p>2 rows × 53 columns</p>\n",
       "</div>"
      ],
      "text/plain": [
       "      score  Unnamed: 0   #1   #2   #3   #4   #5   #6   #7   #8  ...  #42  \\\n",
       "0  0.000000           0  0.0  0.0  0.0  0.0  0.0  0.0  0.0  0.0  ...  0.0   \n",
       "1  1.740464           1  0.0  0.0  0.0  0.0  0.0  0.0  0.0  0.0  ...  0.0   \n",
       "\n",
       "   #43  #44  #70  inspection_id    license  inspection_type      zip  \\\n",
       "0  0.0  0.0  0.0        2352734    34169.0          Canvass  60666.0   \n",
       "1  0.0  0.0  0.0        2352727  2215815.0          Canvass  60641.0   \n",
       "\n",
       "            risk  results  \n",
       "0  Risk 1 (High)     Pass  \n",
       "1  Risk 1 (High)     Pass  \n",
       "\n",
       "[2 rows x 53 columns]"
      ]
     },
     "execution_count": 10,
     "metadata": {},
     "output_type": "execute_result"
    }
   ],
   "source": [
    "# Violations and score\n",
    "df_New_2 = pd.merge(df_score, violations_dataframe01, left_index = True, right_index = True, how = 'outer')\n",
    "df_New_2.head(2)"
   ]
  },
  {
   "cell_type": "code",
   "execution_count": 11,
   "metadata": {},
   "outputs": [
    {
     "data": {
      "text/html": [
       "<div>\n",
       "<style scoped>\n",
       "    .dataframe tbody tr th:only-of-type {\n",
       "        vertical-align: middle;\n",
       "    }\n",
       "\n",
       "    .dataframe tbody tr th {\n",
       "        vertical-align: top;\n",
       "    }\n",
       "\n",
       "    .dataframe thead th {\n",
       "        text-align: right;\n",
       "    }\n",
       "</style>\n",
       "<table border=\"1\" class=\"dataframe\">\n",
       "  <thead>\n",
       "    <tr style=\"text-align: right;\">\n",
       "      <th></th>\n",
       "      <th>inspection_id</th>\n",
       "      <th>inspection_date</th>\n",
       "      <th>score</th>\n",
       "      <th>Unnamed: 0</th>\n",
       "      <th>#1</th>\n",
       "      <th>#2</th>\n",
       "      <th>#3</th>\n",
       "      <th>#4</th>\n",
       "      <th>#5</th>\n",
       "      <th>#6</th>\n",
       "      <th>...</th>\n",
       "      <th>#41</th>\n",
       "      <th>#42</th>\n",
       "      <th>#43</th>\n",
       "      <th>#44</th>\n",
       "      <th>#70</th>\n",
       "      <th>license</th>\n",
       "      <th>inspection_type</th>\n",
       "      <th>zip</th>\n",
       "      <th>risk</th>\n",
       "      <th>results</th>\n",
       "    </tr>\n",
       "  </thead>\n",
       "  <tbody>\n",
       "    <tr>\n",
       "      <td>0</td>\n",
       "      <td>2352734</td>\n",
       "      <td>2019-12-04</td>\n",
       "      <td>0.000000</td>\n",
       "      <td>0</td>\n",
       "      <td>0.0</td>\n",
       "      <td>0.0</td>\n",
       "      <td>0.0</td>\n",
       "      <td>0.0</td>\n",
       "      <td>0.0</td>\n",
       "      <td>0.0</td>\n",
       "      <td>...</td>\n",
       "      <td>0.0</td>\n",
       "      <td>0.0</td>\n",
       "      <td>0.0</td>\n",
       "      <td>0.0</td>\n",
       "      <td>0.0</td>\n",
       "      <td>34169.0</td>\n",
       "      <td>Canvass</td>\n",
       "      <td>60666.0</td>\n",
       "      <td>Risk 1 (High)</td>\n",
       "      <td>Pass</td>\n",
       "    </tr>\n",
       "    <tr>\n",
       "      <td>1</td>\n",
       "      <td>2352727</td>\n",
       "      <td>2019-12-04</td>\n",
       "      <td>1.740464</td>\n",
       "      <td>1</td>\n",
       "      <td>0.0</td>\n",
       "      <td>0.0</td>\n",
       "      <td>0.0</td>\n",
       "      <td>0.0</td>\n",
       "      <td>0.0</td>\n",
       "      <td>0.0</td>\n",
       "      <td>...</td>\n",
       "      <td>0.0</td>\n",
       "      <td>0.0</td>\n",
       "      <td>0.0</td>\n",
       "      <td>0.0</td>\n",
       "      <td>0.0</td>\n",
       "      <td>2215815.0</td>\n",
       "      <td>Canvass</td>\n",
       "      <td>60641.0</td>\n",
       "      <td>Risk 1 (High)</td>\n",
       "      <td>Pass</td>\n",
       "    </tr>\n",
       "    <tr>\n",
       "      <td>2</td>\n",
       "      <td>2352738</td>\n",
       "      <td>2019-12-04</td>\n",
       "      <td>2.832479</td>\n",
       "      <td>2</td>\n",
       "      <td>0.0</td>\n",
       "      <td>0.0</td>\n",
       "      <td>0.0</td>\n",
       "      <td>0.0</td>\n",
       "      <td>0.0</td>\n",
       "      <td>0.0</td>\n",
       "      <td>...</td>\n",
       "      <td>0.0</td>\n",
       "      <td>0.0</td>\n",
       "      <td>0.0</td>\n",
       "      <td>0.0</td>\n",
       "      <td>0.0</td>\n",
       "      <td>1801618.0</td>\n",
       "      <td>Canvass Re-Inspection</td>\n",
       "      <td>60605.0</td>\n",
       "      <td>Risk 1 (High)</td>\n",
       "      <td>Pass</td>\n",
       "    </tr>\n",
       "  </tbody>\n",
       "</table>\n",
       "<p>3 rows × 54 columns</p>\n",
       "</div>"
      ],
      "text/plain": [
       "   inspection_id inspection_date     score  Unnamed: 0   #1   #2   #3   #4  \\\n",
       "0        2352734      2019-12-04  0.000000           0  0.0  0.0  0.0  0.0   \n",
       "1        2352727      2019-12-04  1.740464           1  0.0  0.0  0.0  0.0   \n",
       "2        2352738      2019-12-04  2.832479           2  0.0  0.0  0.0  0.0   \n",
       "\n",
       "    #5   #6  ...  #41  #42  #43  #44  #70    license        inspection_type  \\\n",
       "0  0.0  0.0  ...  0.0  0.0  0.0  0.0  0.0    34169.0                Canvass   \n",
       "1  0.0  0.0  ...  0.0  0.0  0.0  0.0  0.0  2215815.0                Canvass   \n",
       "2  0.0  0.0  ...  0.0  0.0  0.0  0.0  0.0  1801618.0  Canvass Re-Inspection   \n",
       "\n",
       "       zip           risk  results  \n",
       "0  60666.0  Risk 1 (High)     Pass  \n",
       "1  60641.0  Risk 1 (High)     Pass  \n",
       "2  60605.0  Risk 1 (High)     Pass  \n",
       "\n",
       "[3 rows x 54 columns]"
      ]
     },
     "execution_count": 11,
     "metadata": {},
     "output_type": "execute_result"
    }
   ],
   "source": [
    "# Violations, scores and inspection_date\n",
    "df_New_2 = pd.merge(df2, df_New_2, left_index = True, right_index = True, how = 'outer', on = 'inspection_id')\n",
    "df_New_2.head(3)"
   ]
  },
  {
   "cell_type": "code",
   "execution_count": 12,
   "metadata": {},
   "outputs": [
    {
     "data": {
      "text/html": [
       "<div>\n",
       "<style scoped>\n",
       "    .dataframe tbody tr th:only-of-type {\n",
       "        vertical-align: middle;\n",
       "    }\n",
       "\n",
       "    .dataframe tbody tr th {\n",
       "        vertical-align: top;\n",
       "    }\n",
       "\n",
       "    .dataframe thead th {\n",
       "        text-align: right;\n",
       "    }\n",
       "</style>\n",
       "<table border=\"1\" class=\"dataframe\">\n",
       "  <thead>\n",
       "    <tr style=\"text-align: right;\">\n",
       "      <th></th>\n",
       "      <th>inspection_id</th>\n",
       "      <th>inspection_date</th>\n",
       "      <th>score</th>\n",
       "      <th>Unnamed: 0</th>\n",
       "      <th>#1</th>\n",
       "      <th>#2</th>\n",
       "      <th>#3</th>\n",
       "      <th>#4</th>\n",
       "      <th>#5</th>\n",
       "      <th>#6</th>\n",
       "      <th>...</th>\n",
       "      <th>#41</th>\n",
       "      <th>#42</th>\n",
       "      <th>#43</th>\n",
       "      <th>#44</th>\n",
       "      <th>#70</th>\n",
       "      <th>license</th>\n",
       "      <th>inspection_type</th>\n",
       "      <th>zip</th>\n",
       "      <th>risk</th>\n",
       "      <th>results</th>\n",
       "    </tr>\n",
       "  </thead>\n",
       "  <tbody>\n",
       "    <tr>\n",
       "      <td>134647</td>\n",
       "      <td>104236</td>\n",
       "      <td>2010-01-04</td>\n",
       "      <td>NaN</td>\n",
       "      <td>134647</td>\n",
       "      <td>0.0</td>\n",
       "      <td>0.0</td>\n",
       "      <td>0.0</td>\n",
       "      <td>0.0</td>\n",
       "      <td>0.0</td>\n",
       "      <td>0.0</td>\n",
       "      <td>...</td>\n",
       "      <td>1.0</td>\n",
       "      <td>0.0</td>\n",
       "      <td>0.0</td>\n",
       "      <td>0.0</td>\n",
       "      <td>0.0</td>\n",
       "      <td>80916.0</td>\n",
       "      <td>Canvass</td>\n",
       "      <td>60611.0</td>\n",
       "      <td>Risk 1 (High)</td>\n",
       "      <td>Fail</td>\n",
       "    </tr>\n",
       "    <tr>\n",
       "      <td>134622</td>\n",
       "      <td>134239</td>\n",
       "      <td>2010-01-05</td>\n",
       "      <td>NaN</td>\n",
       "      <td>134622</td>\n",
       "      <td>0.0</td>\n",
       "      <td>0.0</td>\n",
       "      <td>0.0</td>\n",
       "      <td>0.0</td>\n",
       "      <td>0.0</td>\n",
       "      <td>0.0</td>\n",
       "      <td>...</td>\n",
       "      <td>0.0</td>\n",
       "      <td>0.0</td>\n",
       "      <td>0.0</td>\n",
       "      <td>0.0</td>\n",
       "      <td>0.0</td>\n",
       "      <td>32942.0</td>\n",
       "      <td>Complaint</td>\n",
       "      <td>60647.0</td>\n",
       "      <td>Risk 1 (High)</td>\n",
       "      <td>Fail</td>\n",
       "    </tr>\n",
       "    <tr>\n",
       "      <td>134621</td>\n",
       "      <td>118296</td>\n",
       "      <td>2010-01-05</td>\n",
       "      <td>NaN</td>\n",
       "      <td>134621</td>\n",
       "      <td>0.0</td>\n",
       "      <td>0.0</td>\n",
       "      <td>0.0</td>\n",
       "      <td>0.0</td>\n",
       "      <td>0.0</td>\n",
       "      <td>0.0</td>\n",
       "      <td>...</td>\n",
       "      <td>0.0</td>\n",
       "      <td>0.0</td>\n",
       "      <td>1.0</td>\n",
       "      <td>0.0</td>\n",
       "      <td>0.0</td>\n",
       "      <td>10940.0</td>\n",
       "      <td>Complaint</td>\n",
       "      <td>60608.0</td>\n",
       "      <td>Risk 1 (High)</td>\n",
       "      <td>Pass</td>\n",
       "    </tr>\n",
       "    <tr>\n",
       "      <td>134620</td>\n",
       "      <td>67759</td>\n",
       "      <td>2010-01-05</td>\n",
       "      <td>NaN</td>\n",
       "      <td>134620</td>\n",
       "      <td>0.0</td>\n",
       "      <td>0.0</td>\n",
       "      <td>1.0</td>\n",
       "      <td>0.0</td>\n",
       "      <td>0.0</td>\n",
       "      <td>0.0</td>\n",
       "      <td>...</td>\n",
       "      <td>1.0</td>\n",
       "      <td>0.0</td>\n",
       "      <td>0.0</td>\n",
       "      <td>0.0</td>\n",
       "      <td>0.0</td>\n",
       "      <td>1801271.0</td>\n",
       "      <td>Canvass</td>\n",
       "      <td>60613.0</td>\n",
       "      <td>Risk 1 (High)</td>\n",
       "      <td>Pass w/ Conditions</td>\n",
       "    </tr>\n",
       "    <tr>\n",
       "      <td>134619</td>\n",
       "      <td>54212</td>\n",
       "      <td>2010-01-05</td>\n",
       "      <td>NaN</td>\n",
       "      <td>134619</td>\n",
       "      <td>0.0</td>\n",
       "      <td>0.0</td>\n",
       "      <td>0.0</td>\n",
       "      <td>0.0</td>\n",
       "      <td>0.0</td>\n",
       "      <td>0.0</td>\n",
       "      <td>...</td>\n",
       "      <td>0.0</td>\n",
       "      <td>0.0</td>\n",
       "      <td>0.0</td>\n",
       "      <td>0.0</td>\n",
       "      <td>0.0</td>\n",
       "      <td>1992130.0</td>\n",
       "      <td>Complaint</td>\n",
       "      <td>60651.0</td>\n",
       "      <td>Risk 1 (High)</td>\n",
       "      <td>Pass</td>\n",
       "    </tr>\n",
       "  </tbody>\n",
       "</table>\n",
       "<p>5 rows × 54 columns</p>\n",
       "</div>"
      ],
      "text/plain": [
       "        inspection_id inspection_date  score  Unnamed: 0   #1   #2   #3   #4  \\\n",
       "134647         104236      2010-01-04    NaN      134647  0.0  0.0  0.0  0.0   \n",
       "134622         134239      2010-01-05    NaN      134622  0.0  0.0  0.0  0.0   \n",
       "134621         118296      2010-01-05    NaN      134621  0.0  0.0  0.0  0.0   \n",
       "134620          67759      2010-01-05    NaN      134620  0.0  0.0  1.0  0.0   \n",
       "134619          54212      2010-01-05    NaN      134619  0.0  0.0  0.0  0.0   \n",
       "\n",
       "         #5   #6  ...  #41  #42  #43  #44  #70    license  inspection_type  \\\n",
       "134647  0.0  0.0  ...  1.0  0.0  0.0  0.0  0.0    80916.0          Canvass   \n",
       "134622  0.0  0.0  ...  0.0  0.0  0.0  0.0  0.0    32942.0        Complaint   \n",
       "134621  0.0  0.0  ...  0.0  0.0  1.0  0.0  0.0    10940.0        Complaint   \n",
       "134620  0.0  0.0  ...  1.0  0.0  0.0  0.0  0.0  1801271.0          Canvass   \n",
       "134619  0.0  0.0  ...  0.0  0.0  0.0  0.0  0.0  1992130.0        Complaint   \n",
       "\n",
       "            zip           risk             results  \n",
       "134647  60611.0  Risk 1 (High)                Fail  \n",
       "134622  60647.0  Risk 1 (High)                Fail  \n",
       "134621  60608.0  Risk 1 (High)                Pass  \n",
       "134620  60613.0  Risk 1 (High)  Pass w/ Conditions  \n",
       "134619  60651.0  Risk 1 (High)                Pass  \n",
       "\n",
       "[5 rows x 54 columns]"
      ]
     },
     "execution_count": 12,
     "metadata": {},
     "output_type": "execute_result"
    }
   ],
   "source": [
    "# Convert into date format\n",
    "df_New_2[\"inspection_date\"] = pd.to_datetime(df_New_2[\"inspection_date\"])\n",
    "\n",
    "# Sort the inspections by date\n",
    "df_New_2 = df_New_2.sort_values(by = \"inspection_date\", ascending = True)\n",
    "df_New_2.head()"
   ]
  },
  {
   "cell_type": "markdown",
   "metadata": {},
   "source": [
    "## Encoding the data"
   ]
  },
  {
   "cell_type": "markdown",
   "metadata": {},
   "source": [
    "Here, we encode our categorical data into numerical values. For the ordinal features (risk factor, result of inspection) we proceeded with an ordinal encoding. We used hot-encoding for the other categorical data (zip code). \n",
    "\n",
    "**Encoding of target variable**: Here we create a model to predict the inspections related to food poisoning, i.e. we're only interested in the type of inspection named: 'Suspected Food Poisoning'. We also mapped each value of the inspection type column into a binary value (binary-class): 1 for the food poisoning related, and 0 for all other inspections."
   ]
  },
  {
   "cell_type": "code",
   "execution_count": 13,
   "metadata": {},
   "outputs": [
    {
     "data": {
      "text/html": [
       "<div>\n",
       "<style scoped>\n",
       "    .dataframe tbody tr th:only-of-type {\n",
       "        vertical-align: middle;\n",
       "    }\n",
       "\n",
       "    .dataframe tbody tr th {\n",
       "        vertical-align: top;\n",
       "    }\n",
       "\n",
       "    .dataframe thead th {\n",
       "        text-align: right;\n",
       "    }\n",
       "</style>\n",
       "<table border=\"1\" class=\"dataframe\">\n",
       "  <thead>\n",
       "    <tr style=\"text-align: right;\">\n",
       "      <th></th>\n",
       "      <th>inspection_id</th>\n",
       "      <th>inspection_date</th>\n",
       "      <th>Unnamed: 0</th>\n",
       "      <th>#1</th>\n",
       "      <th>#2</th>\n",
       "      <th>#3</th>\n",
       "      <th>#4</th>\n",
       "      <th>#5</th>\n",
       "      <th>#6</th>\n",
       "      <th>#7</th>\n",
       "      <th>...</th>\n",
       "      <th>zip_60666.0</th>\n",
       "      <th>zip_60707.0</th>\n",
       "      <th>zip_60827.0</th>\n",
       "      <th>inspection_type_Canvass</th>\n",
       "      <th>inspection_type_Canvass Re-Inspection</th>\n",
       "      <th>inspection_type_Complaint</th>\n",
       "      <th>inspection_type_Complaint Re-Inspection</th>\n",
       "      <th>inspection_type_Short Form Complaint</th>\n",
       "      <th>inspection_type_Suspected Food Poisoning</th>\n",
       "      <th>inspection_type_Suspected Food Poisoning Re-inspection</th>\n",
       "    </tr>\n",
       "  </thead>\n",
       "  <tbody>\n",
       "    <tr>\n",
       "      <td>134647</td>\n",
       "      <td>104236</td>\n",
       "      <td>2010-01-04</td>\n",
       "      <td>134647</td>\n",
       "      <td>0.0</td>\n",
       "      <td>0.0</td>\n",
       "      <td>0.0</td>\n",
       "      <td>0.0</td>\n",
       "      <td>0.0</td>\n",
       "      <td>0.0</td>\n",
       "      <td>0.0</td>\n",
       "      <td>...</td>\n",
       "      <td>0</td>\n",
       "      <td>0</td>\n",
       "      <td>0</td>\n",
       "      <td>1</td>\n",
       "      <td>0</td>\n",
       "      <td>0</td>\n",
       "      <td>0</td>\n",
       "      <td>0</td>\n",
       "      <td>0</td>\n",
       "      <td>0</td>\n",
       "    </tr>\n",
       "    <tr>\n",
       "      <td>134622</td>\n",
       "      <td>134239</td>\n",
       "      <td>2010-01-05</td>\n",
       "      <td>134622</td>\n",
       "      <td>0.0</td>\n",
       "      <td>0.0</td>\n",
       "      <td>0.0</td>\n",
       "      <td>0.0</td>\n",
       "      <td>0.0</td>\n",
       "      <td>0.0</td>\n",
       "      <td>0.0</td>\n",
       "      <td>...</td>\n",
       "      <td>0</td>\n",
       "      <td>0</td>\n",
       "      <td>0</td>\n",
       "      <td>0</td>\n",
       "      <td>0</td>\n",
       "      <td>1</td>\n",
       "      <td>0</td>\n",
       "      <td>0</td>\n",
       "      <td>0</td>\n",
       "      <td>0</td>\n",
       "    </tr>\n",
       "    <tr>\n",
       "      <td>134621</td>\n",
       "      <td>118296</td>\n",
       "      <td>2010-01-05</td>\n",
       "      <td>134621</td>\n",
       "      <td>0.0</td>\n",
       "      <td>0.0</td>\n",
       "      <td>0.0</td>\n",
       "      <td>0.0</td>\n",
       "      <td>0.0</td>\n",
       "      <td>0.0</td>\n",
       "      <td>0.0</td>\n",
       "      <td>...</td>\n",
       "      <td>0</td>\n",
       "      <td>0</td>\n",
       "      <td>0</td>\n",
       "      <td>0</td>\n",
       "      <td>0</td>\n",
       "      <td>1</td>\n",
       "      <td>0</td>\n",
       "      <td>0</td>\n",
       "      <td>0</td>\n",
       "      <td>0</td>\n",
       "    </tr>\n",
       "    <tr>\n",
       "      <td>134620</td>\n",
       "      <td>67759</td>\n",
       "      <td>2010-01-05</td>\n",
       "      <td>134620</td>\n",
       "      <td>0.0</td>\n",
       "      <td>0.0</td>\n",
       "      <td>1.0</td>\n",
       "      <td>0.0</td>\n",
       "      <td>0.0</td>\n",
       "      <td>0.0</td>\n",
       "      <td>0.0</td>\n",
       "      <td>...</td>\n",
       "      <td>0</td>\n",
       "      <td>0</td>\n",
       "      <td>0</td>\n",
       "      <td>1</td>\n",
       "      <td>0</td>\n",
       "      <td>0</td>\n",
       "      <td>0</td>\n",
       "      <td>0</td>\n",
       "      <td>0</td>\n",
       "      <td>0</td>\n",
       "    </tr>\n",
       "    <tr>\n",
       "      <td>134619</td>\n",
       "      <td>54212</td>\n",
       "      <td>2010-01-05</td>\n",
       "      <td>134619</td>\n",
       "      <td>0.0</td>\n",
       "      <td>0.0</td>\n",
       "      <td>0.0</td>\n",
       "      <td>0.0</td>\n",
       "      <td>0.0</td>\n",
       "      <td>0.0</td>\n",
       "      <td>0.0</td>\n",
       "      <td>...</td>\n",
       "      <td>0</td>\n",
       "      <td>0</td>\n",
       "      <td>0</td>\n",
       "      <td>0</td>\n",
       "      <td>0</td>\n",
       "      <td>1</td>\n",
       "      <td>0</td>\n",
       "      <td>0</td>\n",
       "      <td>0</td>\n",
       "      <td>0</td>\n",
       "    </tr>\n",
       "  </tbody>\n",
       "</table>\n",
       "<p>5 rows × 117 columns</p>\n",
       "</div>"
      ],
      "text/plain": [
       "        inspection_id inspection_date  Unnamed: 0   #1   #2   #3   #4   #5  \\\n",
       "134647         104236      2010-01-04      134647  0.0  0.0  0.0  0.0  0.0   \n",
       "134622         134239      2010-01-05      134622  0.0  0.0  0.0  0.0  0.0   \n",
       "134621         118296      2010-01-05      134621  0.0  0.0  0.0  0.0  0.0   \n",
       "134620          67759      2010-01-05      134620  0.0  0.0  1.0  0.0  0.0   \n",
       "134619          54212      2010-01-05      134619  0.0  0.0  0.0  0.0  0.0   \n",
       "\n",
       "         #6   #7  ...  zip_60666.0  zip_60707.0  zip_60827.0  \\\n",
       "134647  0.0  0.0  ...            0            0            0   \n",
       "134622  0.0  0.0  ...            0            0            0   \n",
       "134621  0.0  0.0  ...            0            0            0   \n",
       "134620  0.0  0.0  ...            0            0            0   \n",
       "134619  0.0  0.0  ...            0            0            0   \n",
       "\n",
       "        inspection_type_Canvass  inspection_type_Canvass Re-Inspection  \\\n",
       "134647                        1                                      0   \n",
       "134622                        0                                      0   \n",
       "134621                        0                                      0   \n",
       "134620                        1                                      0   \n",
       "134619                        0                                      0   \n",
       "\n",
       "        inspection_type_Complaint  inspection_type_Complaint Re-Inspection  \\\n",
       "134647                          0                                        0   \n",
       "134622                          1                                        0   \n",
       "134621                          1                                        0   \n",
       "134620                          0                                        0   \n",
       "134619                          1                                        0   \n",
       "\n",
       "        inspection_type_Short Form Complaint  \\\n",
       "134647                                     0   \n",
       "134622                                     0   \n",
       "134621                                     0   \n",
       "134620                                     0   \n",
       "134619                                     0   \n",
       "\n",
       "        inspection_type_Suspected Food Poisoning  \\\n",
       "134647                                         0   \n",
       "134622                                         0   \n",
       "134621                                         0   \n",
       "134620                                         0   \n",
       "134619                                         0   \n",
       "\n",
       "        inspection_type_Suspected Food Poisoning Re-inspection  \n",
       "134647                                                  0       \n",
       "134622                                                  0       \n",
       "134621                                                  0       \n",
       "134620                                                  0       \n",
       "134619                                                  0       \n",
       "\n",
       "[5 rows x 117 columns]"
      ]
     },
     "execution_count": 13,
     "metadata": {},
     "output_type": "execute_result"
    }
   ],
   "source": [
    "# Encoding the features and the target\n",
    "\n",
    "# Associate a number to each value of the risk factor\n",
    "risk_mapper = {'Risk 1 (High)':3,'Risk 2 (Medium)':2,'Risk 3 (Low)':1}\n",
    "\n",
    "# Associate a number to each value of the results\n",
    "result_mapper = {'Pass':1,'Pass w/ Conditions':0,'Fail':-1}\n",
    "\n",
    "# Replace them in the dataframes\n",
    "\n",
    "# data_classified\n",
    "data_classified['risk'] = data_classified['risk'].replace(risk_mapper).astype(int)\n",
    "data_classified['results'] = data_classified['results'].replace(result_mapper).astype(int)\n",
    "data_classified = pd.get_dummies(data_classified, columns = ['zip', 'inspection_type'])\n",
    "\n",
    "# df_New\n",
    "df_New['risk'] = df_New['risk'].replace(risk_mapper).astype(int)\n",
    "df_New['results'] = df_New['results'].replace(result_mapper).astype(int)\n",
    "df_New = pd.get_dummies(df_New, columns = ['zip', 'inspection_type'])\n",
    "\n",
    "# df_New_2\n",
    "df_New_2['risk'] = df_New_2['risk'].replace(risk_mapper).astype(int)\n",
    "df_New_2['results'] = df_New_2['results'].replace(result_mapper).astype(int)\n",
    "df_New_2 = pd.get_dummies(df_New_2, columns = ['zip', 'inspection_type'])\n",
    "\n",
    "# Display one of the datasets\n",
    "df_New.head()"
   ]
  },
  {
   "cell_type": "markdown",
   "metadata": {},
   "source": [
    "## Training a model that maximizes the accuracy"
   ]
  },
  {
   "cell_type": "markdown",
   "metadata": {},
   "source": [
    "Here, we will train two models: a random forest classifier and an XGBoost. Cross-validation will be performed to compute the best parameter for each classifier, before fitting the model and testing its accuracy on the test set. For this purpose, we will split our data using the 'TimeSeriesSplit' provided by Sklearn, which provides train/test indices to split time series data samples that are observed at fixed time intervals, in train/test sets, with a condition that the test indices must be higher than before in each splits.\n",
    "\n",
    "> First, we use our sorted dataset **df_New**. "
   ]
  },
  {
   "cell_type": "code",
   "execution_count": 14,
   "metadata": {},
   "outputs": [
    {
     "data": {
      "text/html": [
       "<div>\n",
       "<style scoped>\n",
       "    .dataframe tbody tr th:only-of-type {\n",
       "        vertical-align: middle;\n",
       "    }\n",
       "\n",
       "    .dataframe tbody tr th {\n",
       "        vertical-align: top;\n",
       "    }\n",
       "\n",
       "    .dataframe thead th {\n",
       "        text-align: right;\n",
       "    }\n",
       "</style>\n",
       "<table border=\"1\" class=\"dataframe\">\n",
       "  <thead>\n",
       "    <tr style=\"text-align: right;\">\n",
       "      <th></th>\n",
       "      <th>Unnamed: 0</th>\n",
       "      <th>#1</th>\n",
       "      <th>#2</th>\n",
       "      <th>#3</th>\n",
       "      <th>#4</th>\n",
       "      <th>#5</th>\n",
       "      <th>#6</th>\n",
       "      <th>#7</th>\n",
       "      <th>#8</th>\n",
       "      <th>#9</th>\n",
       "      <th>...</th>\n",
       "      <th>zip_60655.0</th>\n",
       "      <th>zip_60656.0</th>\n",
       "      <th>zip_60657.0</th>\n",
       "      <th>zip_60659.0</th>\n",
       "      <th>zip_60660.0</th>\n",
       "      <th>zip_60661.0</th>\n",
       "      <th>zip_60666.0</th>\n",
       "      <th>zip_60707.0</th>\n",
       "      <th>zip_60827.0</th>\n",
       "      <th>inspection_type_Suspected Food Poisoning</th>\n",
       "    </tr>\n",
       "  </thead>\n",
       "  <tbody>\n",
       "    <tr>\n",
       "      <td>134647</td>\n",
       "      <td>134647</td>\n",
       "      <td>0.0</td>\n",
       "      <td>0.0</td>\n",
       "      <td>0.0</td>\n",
       "      <td>0.0</td>\n",
       "      <td>0.0</td>\n",
       "      <td>0.0</td>\n",
       "      <td>0.0</td>\n",
       "      <td>0.0</td>\n",
       "      <td>0.0</td>\n",
       "      <td>...</td>\n",
       "      <td>0</td>\n",
       "      <td>0</td>\n",
       "      <td>0</td>\n",
       "      <td>0</td>\n",
       "      <td>0</td>\n",
       "      <td>0</td>\n",
       "      <td>0</td>\n",
       "      <td>0</td>\n",
       "      <td>0</td>\n",
       "      <td>0</td>\n",
       "    </tr>\n",
       "    <tr>\n",
       "      <td>134622</td>\n",
       "      <td>134622</td>\n",
       "      <td>0.0</td>\n",
       "      <td>0.0</td>\n",
       "      <td>0.0</td>\n",
       "      <td>0.0</td>\n",
       "      <td>0.0</td>\n",
       "      <td>0.0</td>\n",
       "      <td>0.0</td>\n",
       "      <td>0.0</td>\n",
       "      <td>0.0</td>\n",
       "      <td>...</td>\n",
       "      <td>0</td>\n",
       "      <td>0</td>\n",
       "      <td>0</td>\n",
       "      <td>0</td>\n",
       "      <td>0</td>\n",
       "      <td>0</td>\n",
       "      <td>0</td>\n",
       "      <td>0</td>\n",
       "      <td>0</td>\n",
       "      <td>0</td>\n",
       "    </tr>\n",
       "  </tbody>\n",
       "</table>\n",
       "<p>2 rows × 108 columns</p>\n",
       "</div>"
      ],
      "text/plain": [
       "        Unnamed: 0   #1   #2   #3   #4   #5   #6   #7   #8   #9  ...  \\\n",
       "134647      134647  0.0  0.0  0.0  0.0  0.0  0.0  0.0  0.0  0.0  ...   \n",
       "134622      134622  0.0  0.0  0.0  0.0  0.0  0.0  0.0  0.0  0.0  ...   \n",
       "\n",
       "        zip_60655.0  zip_60656.0  zip_60657.0  zip_60659.0  zip_60660.0  \\\n",
       "134647            0            0            0            0            0   \n",
       "134622            0            0            0            0            0   \n",
       "\n",
       "        zip_60661.0  zip_60666.0  zip_60707.0  zip_60827.0  \\\n",
       "134647            0            0            0            0   \n",
       "134622            0            0            0            0   \n",
       "\n",
       "        inspection_type_Suspected Food Poisoning  \n",
       "134647                                         0  \n",
       "134622                                         0  \n",
       "\n",
       "[2 rows x 108 columns]"
      ]
     },
     "execution_count": 14,
     "metadata": {},
     "output_type": "execute_result"
    }
   ],
   "source": [
    "# Drop unnecessary columns from the dataset sorted by time of inspection\n",
    "df_01 = df_New.drop(['inspection_id', 'license', 'inspection_date',\n",
    "                    'inspection_type_Canvass',\n",
    "                    'inspection_type_Canvass Re-Inspection', 'inspection_type_Complaint',\n",
    "                    'inspection_type_Complaint Re-Inspection',\n",
    "                    'inspection_type_Short Form Complaint',\n",
    "                    'inspection_type_Suspected Food Poisoning Re-inspection'], axis = 1)\n",
    "df_01.head(2)"
   ]
  },
  {
   "cell_type": "code",
   "execution_count": 15,
   "metadata": {},
   "outputs": [
    {
     "data": {
      "text/html": [
       "<div>\n",
       "<style scoped>\n",
       "    .dataframe tbody tr th:only-of-type {\n",
       "        vertical-align: middle;\n",
       "    }\n",
       "\n",
       "    .dataframe tbody tr th {\n",
       "        vertical-align: top;\n",
       "    }\n",
       "\n",
       "    .dataframe thead th {\n",
       "        text-align: right;\n",
       "    }\n",
       "</style>\n",
       "<table border=\"1\" class=\"dataframe\">\n",
       "  <thead>\n",
       "    <tr style=\"text-align: right;\">\n",
       "      <th></th>\n",
       "      <th>Unnamed: 0</th>\n",
       "      <th>#1</th>\n",
       "      <th>#2</th>\n",
       "      <th>#3</th>\n",
       "      <th>#4</th>\n",
       "      <th>#5</th>\n",
       "      <th>#6</th>\n",
       "      <th>#7</th>\n",
       "      <th>#8</th>\n",
       "      <th>#9</th>\n",
       "      <th>...</th>\n",
       "      <th>zip_60654.0</th>\n",
       "      <th>zip_60655.0</th>\n",
       "      <th>zip_60656.0</th>\n",
       "      <th>zip_60657.0</th>\n",
       "      <th>zip_60659.0</th>\n",
       "      <th>zip_60660.0</th>\n",
       "      <th>zip_60661.0</th>\n",
       "      <th>zip_60666.0</th>\n",
       "      <th>zip_60707.0</th>\n",
       "      <th>zip_60827.0</th>\n",
       "    </tr>\n",
       "  </thead>\n",
       "  <tbody>\n",
       "    <tr>\n",
       "      <td>134647</td>\n",
       "      <td>134647</td>\n",
       "      <td>0.0</td>\n",
       "      <td>0.0</td>\n",
       "      <td>0.0</td>\n",
       "      <td>0.0</td>\n",
       "      <td>0.0</td>\n",
       "      <td>0.0</td>\n",
       "      <td>0.0</td>\n",
       "      <td>0.0</td>\n",
       "      <td>0.0</td>\n",
       "      <td>...</td>\n",
       "      <td>0</td>\n",
       "      <td>0</td>\n",
       "      <td>0</td>\n",
       "      <td>0</td>\n",
       "      <td>0</td>\n",
       "      <td>0</td>\n",
       "      <td>0</td>\n",
       "      <td>0</td>\n",
       "      <td>0</td>\n",
       "      <td>0</td>\n",
       "    </tr>\n",
       "    <tr>\n",
       "      <td>134622</td>\n",
       "      <td>134622</td>\n",
       "      <td>0.0</td>\n",
       "      <td>0.0</td>\n",
       "      <td>0.0</td>\n",
       "      <td>0.0</td>\n",
       "      <td>0.0</td>\n",
       "      <td>0.0</td>\n",
       "      <td>0.0</td>\n",
       "      <td>0.0</td>\n",
       "      <td>0.0</td>\n",
       "      <td>...</td>\n",
       "      <td>0</td>\n",
       "      <td>0</td>\n",
       "      <td>0</td>\n",
       "      <td>0</td>\n",
       "      <td>0</td>\n",
       "      <td>0</td>\n",
       "      <td>0</td>\n",
       "      <td>0</td>\n",
       "      <td>0</td>\n",
       "      <td>0</td>\n",
       "    </tr>\n",
       "  </tbody>\n",
       "</table>\n",
       "<p>2 rows × 107 columns</p>\n",
       "</div>"
      ],
      "text/plain": [
       "        Unnamed: 0   #1   #2   #3   #4   #5   #6   #7   #8   #9  ...  \\\n",
       "134647      134647  0.0  0.0  0.0  0.0  0.0  0.0  0.0  0.0  0.0  ...   \n",
       "134622      134622  0.0  0.0  0.0  0.0  0.0  0.0  0.0  0.0  0.0  ...   \n",
       "\n",
       "        zip_60654.0  zip_60655.0  zip_60656.0  zip_60657.0  zip_60659.0  \\\n",
       "134647            0            0            0            0            0   \n",
       "134622            0            0            0            0            0   \n",
       "\n",
       "        zip_60660.0  zip_60661.0  zip_60666.0  zip_60707.0  zip_60827.0  \n",
       "134647            0            0            0            0            0  \n",
       "134622            0            0            0            0            0  \n",
       "\n",
       "[2 rows x 107 columns]"
      ]
     },
     "execution_count": 15,
     "metadata": {},
     "output_type": "execute_result"
    }
   ],
   "source": [
    "# Make the features and target dataframes and display the features dataframe\n",
    "target_df_01 = df_01['inspection_type_Suspected Food Poisoning']\n",
    "features_df_01 = df_01.drop(['inspection_type_Suspected Food Poisoning'], axis = 1)\n",
    "features_df_01.head(2)"
   ]
  },
  {
   "cell_type": "code",
   "execution_count": 16,
   "metadata": {},
   "outputs": [],
   "source": [
    "# Train and test sets for time series dataframes\n",
    "X_train_df1, X_test_df1, y_train_df1, y_test_df1 = train_test_split(features_df_01, target_df_01, test_size = 0.2, shuffle = False)\n",
    "tscv = TimeSeriesSplit(n_splits = 5)"
   ]
  },
  {
   "cell_type": "code",
   "execution_count": 17,
   "metadata": {},
   "outputs": [
    {
     "name": "stdout",
     "output_type": "stream",
     "text": [
      "Gradient Boosted trees model accuracy score : 0.9949870033419977\n",
      "Gradient Boosted trees model F1 score : 0.9924868033335998\n"
     ]
    }
   ],
   "source": [
    "# XGB classifier\n",
    "y_pred_1_XGB, XGB_classifier_1 = GBT_classification(X_train_df1, y_train_df1, X_test_df1, y_test_df1, tscv, score = 'accuracy')"
   ]
  },
  {
   "cell_type": "code",
   "execution_count": 18,
   "metadata": {},
   "outputs": [
    {
     "name": "stdout",
     "output_type": "stream",
     "text": [
      "rf classifer accuracy = 0.9949\n"
     ]
    }
   ],
   "source": [
    "# Random Forest classifier\n",
    "y_pred_1_rf, rf_classifier_1 = Rf_classification(X_train_df1, y_train_df1, X_test_df1, y_test_df1, tscv, score = 'accuracy')"
   ]
  },
  {
   "cell_type": "markdown",
   "metadata": {},
   "source": [
    "**Observations**: The accuracy seems unusually high. Thus, we decided to compute a correlation matrix in order to have a more quantitative overview. "
   ]
  },
  {
   "cell_type": "code",
   "execution_count": 61,
   "metadata": {
    "scrolled": false
   },
   "outputs": [
    {
     "name": "stdout",
     "output_type": "stream",
     "text": [
      "[[26795     0]\n",
      " [  135     0]]\n"
     ]
    },
    {
     "data": {
      "text/plain": [
       "<matplotlib.axes._subplots.AxesSubplot at 0x1a3f952c90>"
      ]
     },
     "execution_count": 61,
     "metadata": {},
     "output_type": "execute_result"
    },
    {
     "data": {
      "image/png": "[encoded data removed]",
      "text/plain": [
       "<Figure size 1440x720 with 2 Axes>"
      ]
     },
     "metadata": {},
     "output_type": "display_data"
    }
   ],
   "source": [
    "# Confusion matrix for XGB\n",
    "plot_confusion_matrix(y_test_df1, y_pred_1_XGB, classes=class_names,title='Confusion matrix', figsize=(20,10))"
   ]
  },
  {
   "cell_type": "code",
   "execution_count": 23,
   "metadata": {},
   "outputs": [
    {
     "name": "stdout",
     "output_type": "stream",
     "text": [
      "[[26792     3]\n",
      " [  135     0]]\n"
     ]
    },
    {
     "data": {
      "text/plain": [
       "<matplotlib.axes._subplots.AxesSubplot at 0x1a3c1d3610>"
      ]
     },
     "execution_count": 23,
     "metadata": {},
     "output_type": "execute_result"
    },
    {
     "data": {
      "image/png": "[encoded data removed]",
      "text/plain": [
       "<Figure size 576x648 with 2 Axes>"
      ]
     },
     "metadata": {},
     "output_type": "display_data"
    }
   ],
   "source": [
    "# Confusion matrix for Random Forest\n",
    "plot_confusion_matrix(y_test_df1, y_pred_1_rf, classes=class_names,title='Confusion matrix', figsize=(8,9))"
   ]
  },
  {
   "cell_type": "markdown",
   "metadata": {},
   "source": [
    "> Although both models yield a very high accuracy, they are completely unefficient at predicting food poisoning cases. This suggests that the data we have is unbalanced. We decided to plot the class distribution to confirm this hypothesis."
   ]
  },
  {
   "cell_type": "code",
   "execution_count": 24,
   "metadata": {},
   "outputs": [
    {
     "data": {
      "image/png": "[encoded data removed]",
      "text/plain": [
       "<Figure size 720x360 with 1 Axes>"
      ]
     },
     "metadata": {},
     "output_type": "display_data"
    }
   ],
   "source": [
    "# Plot the density for each class\n",
    "plt.figure(figsize=(10,5))\n",
    "df_New['inspection_type_Suspected Food Poisoning'].plot(kind='density', subplots=True, sharex=False)\n",
    "plt.show()"
   ]
  },
  {
   "cell_type": "code",
   "execution_count": 25,
   "metadata": {},
   "outputs": [
    {
     "data": {
      "image/png": "[encoded data removed]",
      "text/plain": [
       "<Figure size 1008x648 with 1 Axes>"
      ]
     },
     "metadata": {},
     "output_type": "display_data"
    }
   ],
   "source": [
    "# Plot the class distribution as histograms\n",
    "plt.figure(figsize=(14,9))\n",
    "df_New['inspection_type_Suspected Food Poisoning'].hist()\n",
    "plt.title('Class Frequency')\n",
    "plt.xlabel('Class')\n",
    "plt.ylabel('Frequency')\n",
    "\n",
    "plt.show()"
   ]
  },
  {
   "cell_type": "markdown",
   "metadata": {},
   "source": [
    "> **Conclusions**: Indeed, the class is extremely unbalanced. Hence, accuracy is not a reliable metric for the real performance of tested classifiers here, and yields misleading results if the data set is unbalanced (that is, the numbers of observations in different classes vary greatly, which is pretty obvious by looking at the histogram)."
   ]
  },
  {
   "cell_type": "markdown",
   "metadata": {},
   "source": [
    "## Training a model suited for unbalanced data"
   ]
  },
  {
   "cell_type": "markdown",
   "metadata": {},
   "source": [
    "The F1 score often turns to be a better metric when dealing with unbalanced data. Moreover, XGBoost is better equipped for this kind of use. Hence, we will train an XGBoost model that tend to maximise the F1_score rather than the accuracy. "
   ]
  },
  {
   "cell_type": "markdown",
   "metadata": {},
   "source": [
    "**1)** First, using the sorted dataset grouped by licence, **data_classified**."
   ]
  },
  {
   "cell_type": "code",
   "execution_count": 26,
   "metadata": {},
   "outputs": [
    {
     "data": {
      "text/html": [
       "<div>\n",
       "<style scoped>\n",
       "    .dataframe tbody tr th:only-of-type {\n",
       "        vertical-align: middle;\n",
       "    }\n",
       "\n",
       "    .dataframe tbody tr th {\n",
       "        vertical-align: top;\n",
       "    }\n",
       "\n",
       "    .dataframe thead th {\n",
       "        text-align: right;\n",
       "    }\n",
       "</style>\n",
       "<table border=\"1\" class=\"dataframe\">\n",
       "  <thead>\n",
       "    <tr style=\"text-align: right;\">\n",
       "      <th></th>\n",
       "      <th>#1</th>\n",
       "      <th>#10</th>\n",
       "      <th>#11</th>\n",
       "      <th>#12</th>\n",
       "      <th>#13</th>\n",
       "      <th>#14</th>\n",
       "      <th>#15</th>\n",
       "      <th>#16</th>\n",
       "      <th>#17</th>\n",
       "      <th>#18</th>\n",
       "      <th>...</th>\n",
       "      <th>zip_60655.0</th>\n",
       "      <th>zip_60656.0</th>\n",
       "      <th>zip_60657.0</th>\n",
       "      <th>zip_60659.0</th>\n",
       "      <th>zip_60660.0</th>\n",
       "      <th>zip_60661.0</th>\n",
       "      <th>zip_60666.0</th>\n",
       "      <th>zip_60707.0</th>\n",
       "      <th>zip_60827.0</th>\n",
       "      <th>inspection_type_Suspected Food Poisoning</th>\n",
       "    </tr>\n",
       "  </thead>\n",
       "  <tbody>\n",
       "    <tr>\n",
       "      <td>0</td>\n",
       "      <td>0.0</td>\n",
       "      <td>0.0</td>\n",
       "      <td>0.0</td>\n",
       "      <td>0.0</td>\n",
       "      <td>0.0</td>\n",
       "      <td>0.0</td>\n",
       "      <td>0.0</td>\n",
       "      <td>0.0</td>\n",
       "      <td>0.0</td>\n",
       "      <td>0.0</td>\n",
       "      <td>...</td>\n",
       "      <td>0</td>\n",
       "      <td>0</td>\n",
       "      <td>0</td>\n",
       "      <td>0</td>\n",
       "      <td>0</td>\n",
       "      <td>0</td>\n",
       "      <td>0</td>\n",
       "      <td>0</td>\n",
       "      <td>0</td>\n",
       "      <td>0</td>\n",
       "    </tr>\n",
       "    <tr>\n",
       "      <td>1</td>\n",
       "      <td>0.0</td>\n",
       "      <td>0.0</td>\n",
       "      <td>0.0</td>\n",
       "      <td>0.0</td>\n",
       "      <td>0.0</td>\n",
       "      <td>0.0</td>\n",
       "      <td>0.0</td>\n",
       "      <td>0.0</td>\n",
       "      <td>0.0</td>\n",
       "      <td>0.0</td>\n",
       "      <td>...</td>\n",
       "      <td>0</td>\n",
       "      <td>0</td>\n",
       "      <td>0</td>\n",
       "      <td>0</td>\n",
       "      <td>0</td>\n",
       "      <td>0</td>\n",
       "      <td>0</td>\n",
       "      <td>0</td>\n",
       "      <td>0</td>\n",
       "      <td>0</td>\n",
       "    </tr>\n",
       "  </tbody>\n",
       "</table>\n",
       "<p>2 rows × 108 columns</p>\n",
       "</div>"
      ],
      "text/plain": [
       "    #1  #10  #11  #12  #13  #14  #15  #16  #17  #18  ...  zip_60655.0  \\\n",
       "0  0.0  0.0  0.0  0.0  0.0  0.0  0.0  0.0  0.0  0.0  ...            0   \n",
       "1  0.0  0.0  0.0  0.0  0.0  0.0  0.0  0.0  0.0  0.0  ...            0   \n",
       "\n",
       "   zip_60656.0  zip_60657.0  zip_60659.0  zip_60660.0  zip_60661.0  \\\n",
       "0            0            0            0            0            0   \n",
       "1            0            0            0            0            0   \n",
       "\n",
       "   zip_60666.0  zip_60707.0  zip_60827.0  \\\n",
       "0            0            0            0   \n",
       "1            0            0            0   \n",
       "\n",
       "   inspection_type_Suspected Food Poisoning  \n",
       "0                                         0  \n",
       "1                                         0  \n",
       "\n",
       "[2 rows x 108 columns]"
      ]
     },
     "execution_count": 26,
     "metadata": {},
     "output_type": "execute_result"
    }
   ],
   "source": [
    "# Drop unnecessary columns from the dataset sorted by time of inspection\n",
    "df_02 = data_classified.drop(['inspection_id', 'license', 'inspection_date',\n",
    "                    'inspection_type_Canvass',\n",
    "                    'inspection_type_Canvass Re-Inspection', 'inspection_type_Complaint',\n",
    "                    'inspection_type_Complaint Re-Inspection',\n",
    "                    'inspection_type_Short Form Complaint',\n",
    "                    'inspection_type_Suspected Food Poisoning Re-inspection'], axis = 1)\n",
    "df_02.head(2)"
   ]
  },
  {
   "cell_type": "code",
   "execution_count": 27,
   "metadata": {},
   "outputs": [
    {
     "data": {
      "text/html": [
       "<div>\n",
       "<style scoped>\n",
       "    .dataframe tbody tr th:only-of-type {\n",
       "        vertical-align: middle;\n",
       "    }\n",
       "\n",
       "    .dataframe tbody tr th {\n",
       "        vertical-align: top;\n",
       "    }\n",
       "\n",
       "    .dataframe thead th {\n",
       "        text-align: right;\n",
       "    }\n",
       "</style>\n",
       "<table border=\"1\" class=\"dataframe\">\n",
       "  <thead>\n",
       "    <tr style=\"text-align: right;\">\n",
       "      <th></th>\n",
       "      <th>#1</th>\n",
       "      <th>#10</th>\n",
       "      <th>#11</th>\n",
       "      <th>#12</th>\n",
       "      <th>#13</th>\n",
       "      <th>#14</th>\n",
       "      <th>#15</th>\n",
       "      <th>#16</th>\n",
       "      <th>#17</th>\n",
       "      <th>#18</th>\n",
       "      <th>...</th>\n",
       "      <th>zip_60654.0</th>\n",
       "      <th>zip_60655.0</th>\n",
       "      <th>zip_60656.0</th>\n",
       "      <th>zip_60657.0</th>\n",
       "      <th>zip_60659.0</th>\n",
       "      <th>zip_60660.0</th>\n",
       "      <th>zip_60661.0</th>\n",
       "      <th>zip_60666.0</th>\n",
       "      <th>zip_60707.0</th>\n",
       "      <th>zip_60827.0</th>\n",
       "    </tr>\n",
       "  </thead>\n",
       "  <tbody>\n",
       "    <tr>\n",
       "      <td>0</td>\n",
       "      <td>0.0</td>\n",
       "      <td>0.0</td>\n",
       "      <td>0.0</td>\n",
       "      <td>0.0</td>\n",
       "      <td>0.0</td>\n",
       "      <td>0.0</td>\n",
       "      <td>0.0</td>\n",
       "      <td>0.0</td>\n",
       "      <td>0.0</td>\n",
       "      <td>0.0</td>\n",
       "      <td>...</td>\n",
       "      <td>0</td>\n",
       "      <td>0</td>\n",
       "      <td>0</td>\n",
       "      <td>0</td>\n",
       "      <td>0</td>\n",
       "      <td>0</td>\n",
       "      <td>0</td>\n",
       "      <td>0</td>\n",
       "      <td>0</td>\n",
       "      <td>0</td>\n",
       "    </tr>\n",
       "    <tr>\n",
       "      <td>1</td>\n",
       "      <td>0.0</td>\n",
       "      <td>0.0</td>\n",
       "      <td>0.0</td>\n",
       "      <td>0.0</td>\n",
       "      <td>0.0</td>\n",
       "      <td>0.0</td>\n",
       "      <td>0.0</td>\n",
       "      <td>0.0</td>\n",
       "      <td>0.0</td>\n",
       "      <td>0.0</td>\n",
       "      <td>...</td>\n",
       "      <td>0</td>\n",
       "      <td>0</td>\n",
       "      <td>0</td>\n",
       "      <td>0</td>\n",
       "      <td>0</td>\n",
       "      <td>0</td>\n",
       "      <td>0</td>\n",
       "      <td>0</td>\n",
       "      <td>0</td>\n",
       "      <td>0</td>\n",
       "    </tr>\n",
       "  </tbody>\n",
       "</table>\n",
       "<p>2 rows × 107 columns</p>\n",
       "</div>"
      ],
      "text/plain": [
       "    #1  #10  #11  #12  #13  #14  #15  #16  #17  #18  ...  zip_60654.0  \\\n",
       "0  0.0  0.0  0.0  0.0  0.0  0.0  0.0  0.0  0.0  0.0  ...            0   \n",
       "1  0.0  0.0  0.0  0.0  0.0  0.0  0.0  0.0  0.0  0.0  ...            0   \n",
       "\n",
       "   zip_60655.0  zip_60656.0  zip_60657.0  zip_60659.0  zip_60660.0  \\\n",
       "0            0            0            0            0            0   \n",
       "1            0            0            0            0            0   \n",
       "\n",
       "   zip_60661.0  zip_60666.0  zip_60707.0  zip_60827.0  \n",
       "0            0            0            0            0  \n",
       "1            0            0            0            0  \n",
       "\n",
       "[2 rows x 107 columns]"
      ]
     },
     "execution_count": 27,
     "metadata": {},
     "output_type": "execute_result"
    }
   ],
   "source": [
    "# Make the features and target dataframes and display the features dataframe\n",
    "target_df_02 = df_02['inspection_type_Suspected Food Poisoning']\n",
    "features_df_02 = df_02.drop(['inspection_type_Suspected Food Poisoning'], axis = 1)\n",
    "features_df_02.head(2)"
   ]
  },
  {
   "cell_type": "code",
   "execution_count": 28,
   "metadata": {},
   "outputs": [],
   "source": [
    "# Train and test sets for time series dataframes\n",
    "X_train_df2, X_test_df2, y_train_df2, y_test_df2 = train_test_split(features_df_02, target_df_02, test_size = 0.2, shuffle = False)\n",
    "tscv = TimeSeriesSplit(n_splits = 5)"
   ]
  },
  {
   "cell_type": "markdown",
   "metadata": {},
   "source": [
    "> Additionally, we passed the ratio of the dominant binary class (0) over the minimal class (1) to the 'scale_pos_weight' argument of the XGBClassifier. This enables to put a weight on the dominant class, and obtain better results for unbalanced data."
   ]
  },
  {
   "cell_type": "code",
   "execution_count": 29,
   "metadata": {},
   "outputs": [],
   "source": [
    "# Compute the ratio\n",
    "\n",
    "y_train_OK = y_train_df2[y_train_df2 == 1]\n",
    "len_OK = len(y_train_OK)\n",
    "\n",
    "y_train_not_OK = y_train_df2[y_train_df2  == 0]\n",
    "len_not_OK = len(y_train_not_OK)\n",
    "\n",
    "ratio_train = float(len_not_OK/len_OK)"
   ]
  },
  {
   "cell_type": "code",
   "execution_count": 30,
   "metadata": {},
   "outputs": [
    {
     "name": "stdout",
     "output_type": "stream",
     "text": [
      "Gradient Boosted trees model accuracy score : 0.8690679539546974\n",
      "Gradient Boosted trees model F1 score : 0.9260626177225769\n"
     ]
    }
   ],
   "source": [
    "# Cross validation to optimize F1 score, test set validation\n",
    "y_pred_2, XGB_classifier_2 = GBT_classification(X_train_df2, y_train_df2, X_test_df2, y_test_df2, tscv, ratio_train)"
   ]
  },
  {
   "cell_type": "code",
   "execution_count": 31,
   "metadata": {},
   "outputs": [
    {
     "name": "stdout",
     "output_type": "stream",
     "text": [
      "[[23366  3452]\n",
      " [   74    38]]\n"
     ]
    },
    {
     "data": {
      "image/png": "[encoded data removed]",
      "text/plain": [
       "<Figure size 432x432 with 2 Axes>"
      ]
     },
     "metadata": {},
     "output_type": "display_data"
    }
   ],
   "source": [
    "# Confusion matrix \n",
    "plot_confusion_matrix(y_test_df2, y_pred_2, classes=class_names,title='Confusion matrix', figsize=(6,6))\n",
    "plt.savefig('CM_1.png')"
   ]
  },
  {
   "cell_type": "markdown",
   "metadata": {},
   "source": [
    "> **Observation**: Increase in the number of Food poisoning correctly identified as such (True positives). However, the False Negatives value is greater (True 'Food Poisoning' classified as 'No Food Poisoning'), and this model will most likely fail at classifying correctly cases of food poisoning."
   ]
  },
  {
   "cell_type": "markdown",
   "metadata": {},
   "source": [
    "**2)** We decided to try to train our model with the other sorted dataset **df_New**."
   ]
  },
  {
   "cell_type": "code",
   "execution_count": 32,
   "metadata": {},
   "outputs": [
    {
     "data": {
      "text/html": [
       "<div>\n",
       "<style scoped>\n",
       "    .dataframe tbody tr th:only-of-type {\n",
       "        vertical-align: middle;\n",
       "    }\n",
       "\n",
       "    .dataframe tbody tr th {\n",
       "        vertical-align: top;\n",
       "    }\n",
       "\n",
       "    .dataframe thead th {\n",
       "        text-align: right;\n",
       "    }\n",
       "</style>\n",
       "<table border=\"1\" class=\"dataframe\">\n",
       "  <thead>\n",
       "    <tr style=\"text-align: right;\">\n",
       "      <th></th>\n",
       "      <th>Unnamed: 0</th>\n",
       "      <th>#1</th>\n",
       "      <th>#2</th>\n",
       "      <th>#3</th>\n",
       "      <th>#4</th>\n",
       "      <th>#5</th>\n",
       "      <th>#6</th>\n",
       "      <th>#7</th>\n",
       "      <th>#8</th>\n",
       "      <th>#9</th>\n",
       "      <th>...</th>\n",
       "      <th>zip_60655.0</th>\n",
       "      <th>zip_60656.0</th>\n",
       "      <th>zip_60657.0</th>\n",
       "      <th>zip_60659.0</th>\n",
       "      <th>zip_60660.0</th>\n",
       "      <th>zip_60661.0</th>\n",
       "      <th>zip_60666.0</th>\n",
       "      <th>zip_60707.0</th>\n",
       "      <th>zip_60827.0</th>\n",
       "      <th>inspection_type_Suspected Food Poisoning</th>\n",
       "    </tr>\n",
       "  </thead>\n",
       "  <tbody>\n",
       "    <tr>\n",
       "      <td>134647</td>\n",
       "      <td>134647</td>\n",
       "      <td>0.0</td>\n",
       "      <td>0.0</td>\n",
       "      <td>0.0</td>\n",
       "      <td>0.0</td>\n",
       "      <td>0.0</td>\n",
       "      <td>0.0</td>\n",
       "      <td>0.0</td>\n",
       "      <td>0.0</td>\n",
       "      <td>0.0</td>\n",
       "      <td>...</td>\n",
       "      <td>0</td>\n",
       "      <td>0</td>\n",
       "      <td>0</td>\n",
       "      <td>0</td>\n",
       "      <td>0</td>\n",
       "      <td>0</td>\n",
       "      <td>0</td>\n",
       "      <td>0</td>\n",
       "      <td>0</td>\n",
       "      <td>0</td>\n",
       "    </tr>\n",
       "    <tr>\n",
       "      <td>134622</td>\n",
       "      <td>134622</td>\n",
       "      <td>0.0</td>\n",
       "      <td>0.0</td>\n",
       "      <td>0.0</td>\n",
       "      <td>0.0</td>\n",
       "      <td>0.0</td>\n",
       "      <td>0.0</td>\n",
       "      <td>0.0</td>\n",
       "      <td>0.0</td>\n",
       "      <td>0.0</td>\n",
       "      <td>...</td>\n",
       "      <td>0</td>\n",
       "      <td>0</td>\n",
       "      <td>0</td>\n",
       "      <td>0</td>\n",
       "      <td>0</td>\n",
       "      <td>0</td>\n",
       "      <td>0</td>\n",
       "      <td>0</td>\n",
       "      <td>0</td>\n",
       "      <td>0</td>\n",
       "    </tr>\n",
       "  </tbody>\n",
       "</table>\n",
       "<p>2 rows × 108 columns</p>\n",
       "</div>"
      ],
      "text/plain": [
       "        Unnamed: 0   #1   #2   #3   #4   #5   #6   #7   #8   #9  ...  \\\n",
       "134647      134647  0.0  0.0  0.0  0.0  0.0  0.0  0.0  0.0  0.0  ...   \n",
       "134622      134622  0.0  0.0  0.0  0.0  0.0  0.0  0.0  0.0  0.0  ...   \n",
       "\n",
       "        zip_60655.0  zip_60656.0  zip_60657.0  zip_60659.0  zip_60660.0  \\\n",
       "134647            0            0            0            0            0   \n",
       "134622            0            0            0            0            0   \n",
       "\n",
       "        zip_60661.0  zip_60666.0  zip_60707.0  zip_60827.0  \\\n",
       "134647            0            0            0            0   \n",
       "134622            0            0            0            0   \n",
       "\n",
       "        inspection_type_Suspected Food Poisoning  \n",
       "134647                                         0  \n",
       "134622                                         0  \n",
       "\n",
       "[2 rows x 108 columns]"
      ]
     },
     "execution_count": 32,
     "metadata": {},
     "output_type": "execute_result"
    }
   ],
   "source": [
    "# Drop unnecessary columns from the dataset sorted by time of inspection\n",
    "df_03 = df_New.drop(['inspection_id', 'license', 'inspection_date',\n",
    "                    'inspection_type_Canvass',\n",
    "                    'inspection_type_Canvass Re-Inspection', 'inspection_type_Complaint',\n",
    "                    'inspection_type_Complaint Re-Inspection',\n",
    "                    'inspection_type_Short Form Complaint',\n",
    "                    'inspection_type_Suspected Food Poisoning Re-inspection'], axis = 1)\n",
    "df_03.head(2)"
   ]
  },
  {
   "cell_type": "code",
   "execution_count": 33,
   "metadata": {},
   "outputs": [
    {
     "data": {
      "text/html": [
       "<div>\n",
       "<style scoped>\n",
       "    .dataframe tbody tr th:only-of-type {\n",
       "        vertical-align: middle;\n",
       "    }\n",
       "\n",
       "    .dataframe tbody tr th {\n",
       "        vertical-align: top;\n",
       "    }\n",
       "\n",
       "    .dataframe thead th {\n",
       "        text-align: right;\n",
       "    }\n",
       "</style>\n",
       "<table border=\"1\" class=\"dataframe\">\n",
       "  <thead>\n",
       "    <tr style=\"text-align: right;\">\n",
       "      <th></th>\n",
       "      <th>Unnamed: 0</th>\n",
       "      <th>#1</th>\n",
       "      <th>#2</th>\n",
       "      <th>#3</th>\n",
       "      <th>#4</th>\n",
       "      <th>#5</th>\n",
       "      <th>#6</th>\n",
       "      <th>#7</th>\n",
       "      <th>#8</th>\n",
       "      <th>#9</th>\n",
       "      <th>...</th>\n",
       "      <th>zip_60654.0</th>\n",
       "      <th>zip_60655.0</th>\n",
       "      <th>zip_60656.0</th>\n",
       "      <th>zip_60657.0</th>\n",
       "      <th>zip_60659.0</th>\n",
       "      <th>zip_60660.0</th>\n",
       "      <th>zip_60661.0</th>\n",
       "      <th>zip_60666.0</th>\n",
       "      <th>zip_60707.0</th>\n",
       "      <th>zip_60827.0</th>\n",
       "    </tr>\n",
       "  </thead>\n",
       "  <tbody>\n",
       "    <tr>\n",
       "      <td>134647</td>\n",
       "      <td>134647</td>\n",
       "      <td>0.0</td>\n",
       "      <td>0.0</td>\n",
       "      <td>0.0</td>\n",
       "      <td>0.0</td>\n",
       "      <td>0.0</td>\n",
       "      <td>0.0</td>\n",
       "      <td>0.0</td>\n",
       "      <td>0.0</td>\n",
       "      <td>0.0</td>\n",
       "      <td>...</td>\n",
       "      <td>0</td>\n",
       "      <td>0</td>\n",
       "      <td>0</td>\n",
       "      <td>0</td>\n",
       "      <td>0</td>\n",
       "      <td>0</td>\n",
       "      <td>0</td>\n",
       "      <td>0</td>\n",
       "      <td>0</td>\n",
       "      <td>0</td>\n",
       "    </tr>\n",
       "    <tr>\n",
       "      <td>134622</td>\n",
       "      <td>134622</td>\n",
       "      <td>0.0</td>\n",
       "      <td>0.0</td>\n",
       "      <td>0.0</td>\n",
       "      <td>0.0</td>\n",
       "      <td>0.0</td>\n",
       "      <td>0.0</td>\n",
       "      <td>0.0</td>\n",
       "      <td>0.0</td>\n",
       "      <td>0.0</td>\n",
       "      <td>...</td>\n",
       "      <td>0</td>\n",
       "      <td>0</td>\n",
       "      <td>0</td>\n",
       "      <td>0</td>\n",
       "      <td>0</td>\n",
       "      <td>0</td>\n",
       "      <td>0</td>\n",
       "      <td>0</td>\n",
       "      <td>0</td>\n",
       "      <td>0</td>\n",
       "    </tr>\n",
       "  </tbody>\n",
       "</table>\n",
       "<p>2 rows × 107 columns</p>\n",
       "</div>"
      ],
      "text/plain": [
       "        Unnamed: 0   #1   #2   #3   #4   #5   #6   #7   #8   #9  ...  \\\n",
       "134647      134647  0.0  0.0  0.0  0.0  0.0  0.0  0.0  0.0  0.0  ...   \n",
       "134622      134622  0.0  0.0  0.0  0.0  0.0  0.0  0.0  0.0  0.0  ...   \n",
       "\n",
       "        zip_60654.0  zip_60655.0  zip_60656.0  zip_60657.0  zip_60659.0  \\\n",
       "134647            0            0            0            0            0   \n",
       "134622            0            0            0            0            0   \n",
       "\n",
       "        zip_60660.0  zip_60661.0  zip_60666.0  zip_60707.0  zip_60827.0  \n",
       "134647            0            0            0            0            0  \n",
       "134622            0            0            0            0            0  \n",
       "\n",
       "[2 rows x 107 columns]"
      ]
     },
     "execution_count": 33,
     "metadata": {},
     "output_type": "execute_result"
    }
   ],
   "source": [
    "# Make the features and target dataframes and display the features dataframe\n",
    "target_df_03 = df_03['inspection_type_Suspected Food Poisoning']\n",
    "features_df_03 = df_03.drop(['inspection_type_Suspected Food Poisoning'], axis = 1)\n",
    "features_df_03.head(2)"
   ]
  },
  {
   "cell_type": "code",
   "execution_count": 34,
   "metadata": {},
   "outputs": [],
   "source": [
    "# Train and test sets for time series dataframes \n",
    "X_train_df3, X_test_df3, y_train_df3, y_test_df3 = train_test_split(features_df_03, target_df_03, test_size = 0.2, shuffle = False)\n",
    "tscv = TimeSeriesSplit(n_splits = 5)\n",
    "\n",
    "# Compute the ratio\n",
    "\n",
    "y_train_OK = y_train_df3[y_train_df3 == 1]\n",
    "len_OK = len(y_train_OK)\n",
    "\n",
    "y_train_not_OK = y_train_df3[y_train_df3 == 0]\n",
    "len_not_OK = len(y_train_not_OK)\n",
    "\n",
    "ratio_train = float(len_not_OK/len_OK)"
   ]
  },
  {
   "cell_type": "code",
   "execution_count": 35,
   "metadata": {},
   "outputs": [
    {
     "name": "stdout",
     "output_type": "stream",
     "text": [
      "Gradient Boosted trees model accuracy score : 0.9726698848867434\n",
      "Gradient Boosted trees model F1 score : 0.9813295041470217\n"
     ]
    }
   ],
   "source": [
    "# Cross validation to optimize F1 score, test set validation\n",
    "y_pred_3, XGB_classifier_3 = GBT_classification(X_train_df3, y_train_df3, X_test_df3, y_test_df3, tscv, ratio_train)"
   ]
  },
  {
   "cell_type": "code",
   "execution_count": 36,
   "metadata": {},
   "outputs": [
    {
     "name": "stdout",
     "output_type": "stream",
     "text": [
      "[[26184   611]\n",
      " [  125    10]]\n"
     ]
    },
    {
     "data": {
      "image/png": "[encoded data removed]",
      "text/plain": [
       "<Figure size 432x432 with 2 Axes>"
      ]
     },
     "metadata": {},
     "output_type": "display_data"
    }
   ],
   "source": [
    "# Confusion matrix \n",
    "plot_confusion_matrix(y_test_df3, y_pred_3, classes=class_names,title='Confusion matrix', figsize=(6,6))\n",
    "plt.savefig('CM_2.png')"
   ]
  },
  {
   "cell_type": "markdown",
   "metadata": {},
   "source": [
    "> **Observation**: An even higher increase in the number of Food poisoning correctly identified as such (True positives) is observed. However, the False Negatives value is also lower compared with the previous model (True 'Food Poisoning' classified as 'No Food Poisoning'), and this model is more suited for classifying correctly cases of food poisoning, even though we loose some accuracy."
   ]
  },
  {
   "cell_type": "markdown",
   "metadata": {},
   "source": [
    "**3)** Dataset with the score value (**df_New_2**)."
   ]
  },
  {
   "cell_type": "code",
   "execution_count": 37,
   "metadata": {},
   "outputs": [
    {
     "data": {
      "text/html": [
       "<div>\n",
       "<style scoped>\n",
       "    .dataframe tbody tr th:only-of-type {\n",
       "        vertical-align: middle;\n",
       "    }\n",
       "\n",
       "    .dataframe tbody tr th {\n",
       "        vertical-align: top;\n",
       "    }\n",
       "\n",
       "    .dataframe thead th {\n",
       "        text-align: right;\n",
       "    }\n",
       "</style>\n",
       "<table border=\"1\" class=\"dataframe\">\n",
       "  <thead>\n",
       "    <tr style=\"text-align: right;\">\n",
       "      <th></th>\n",
       "      <th>inspection_id</th>\n",
       "      <th>inspection_date</th>\n",
       "      <th>score</th>\n",
       "      <th>Unnamed: 0</th>\n",
       "      <th>#1</th>\n",
       "      <th>#2</th>\n",
       "      <th>#3</th>\n",
       "      <th>#4</th>\n",
       "      <th>#5</th>\n",
       "      <th>#6</th>\n",
       "      <th>...</th>\n",
       "      <th>zip_60666.0</th>\n",
       "      <th>zip_60707.0</th>\n",
       "      <th>zip_60827.0</th>\n",
       "      <th>inspection_type_Canvass</th>\n",
       "      <th>inspection_type_Canvass Re-Inspection</th>\n",
       "      <th>inspection_type_Complaint</th>\n",
       "      <th>inspection_type_Complaint Re-Inspection</th>\n",
       "      <th>inspection_type_Short Form Complaint</th>\n",
       "      <th>inspection_type_Suspected Food Poisoning</th>\n",
       "      <th>inspection_type_Suspected Food Poisoning Re-inspection</th>\n",
       "    </tr>\n",
       "  </thead>\n",
       "  <tbody>\n",
       "    <tr>\n",
       "      <td>134647</td>\n",
       "      <td>104236</td>\n",
       "      <td>2010-01-04</td>\n",
       "      <td>NaN</td>\n",
       "      <td>134647</td>\n",
       "      <td>0.0</td>\n",
       "      <td>0.0</td>\n",
       "      <td>0.0</td>\n",
       "      <td>0.0</td>\n",
       "      <td>0.0</td>\n",
       "      <td>0.0</td>\n",
       "      <td>...</td>\n",
       "      <td>0</td>\n",
       "      <td>0</td>\n",
       "      <td>0</td>\n",
       "      <td>1</td>\n",
       "      <td>0</td>\n",
       "      <td>0</td>\n",
       "      <td>0</td>\n",
       "      <td>0</td>\n",
       "      <td>0</td>\n",
       "      <td>0</td>\n",
       "    </tr>\n",
       "    <tr>\n",
       "      <td>134622</td>\n",
       "      <td>134239</td>\n",
       "      <td>2010-01-05</td>\n",
       "      <td>NaN</td>\n",
       "      <td>134622</td>\n",
       "      <td>0.0</td>\n",
       "      <td>0.0</td>\n",
       "      <td>0.0</td>\n",
       "      <td>0.0</td>\n",
       "      <td>0.0</td>\n",
       "      <td>0.0</td>\n",
       "      <td>...</td>\n",
       "      <td>0</td>\n",
       "      <td>0</td>\n",
       "      <td>0</td>\n",
       "      <td>0</td>\n",
       "      <td>0</td>\n",
       "      <td>1</td>\n",
       "      <td>0</td>\n",
       "      <td>0</td>\n",
       "      <td>0</td>\n",
       "      <td>0</td>\n",
       "    </tr>\n",
       "  </tbody>\n",
       "</table>\n",
       "<p>2 rows × 118 columns</p>\n",
       "</div>"
      ],
      "text/plain": [
       "        inspection_id inspection_date  score  Unnamed: 0   #1   #2   #3   #4  \\\n",
       "134647         104236      2010-01-04    NaN      134647  0.0  0.0  0.0  0.0   \n",
       "134622         134239      2010-01-05    NaN      134622  0.0  0.0  0.0  0.0   \n",
       "\n",
       "         #5   #6  ...  zip_60666.0  zip_60707.0  zip_60827.0  \\\n",
       "134647  0.0  0.0  ...            0            0            0   \n",
       "134622  0.0  0.0  ...            0            0            0   \n",
       "\n",
       "        inspection_type_Canvass  inspection_type_Canvass Re-Inspection  \\\n",
       "134647                        1                                      0   \n",
       "134622                        0                                      0   \n",
       "\n",
       "        inspection_type_Complaint  inspection_type_Complaint Re-Inspection  \\\n",
       "134647                          0                                        0   \n",
       "134622                          1                                        0   \n",
       "\n",
       "        inspection_type_Short Form Complaint  \\\n",
       "134647                                     0   \n",
       "134622                                     0   \n",
       "\n",
       "        inspection_type_Suspected Food Poisoning  \\\n",
       "134647                                         0   \n",
       "134622                                         0   \n",
       "\n",
       "        inspection_type_Suspected Food Poisoning Re-inspection  \n",
       "134647                                                  0       \n",
       "134622                                                  0       \n",
       "\n",
       "[2 rows x 118 columns]"
      ]
     },
     "execution_count": 37,
     "metadata": {},
     "output_type": "execute_result"
    }
   ],
   "source": [
    "df_New_2.head(2)"
   ]
  },
  {
   "cell_type": "code",
   "execution_count": 49,
   "metadata": {},
   "outputs": [
    {
     "data": {
      "text/html": [
       "<div>\n",
       "<style scoped>\n",
       "    .dataframe tbody tr th:only-of-type {\n",
       "        vertical-align: middle;\n",
       "    }\n",
       "\n",
       "    .dataframe tbody tr th {\n",
       "        vertical-align: top;\n",
       "    }\n",
       "\n",
       "    .dataframe thead th {\n",
       "        text-align: right;\n",
       "    }\n",
       "</style>\n",
       "<table border=\"1\" class=\"dataframe\">\n",
       "  <thead>\n",
       "    <tr style=\"text-align: right;\">\n",
       "      <th></th>\n",
       "      <th>score</th>\n",
       "      <th>risk</th>\n",
       "      <th>results</th>\n",
       "      <th>zip_60601.0</th>\n",
       "      <th>zip_60602.0</th>\n",
       "      <th>zip_60603.0</th>\n",
       "      <th>zip_60604.0</th>\n",
       "      <th>zip_60605.0</th>\n",
       "      <th>zip_60606.0</th>\n",
       "      <th>zip_60607.0</th>\n",
       "      <th>...</th>\n",
       "      <th>zip_60654.0</th>\n",
       "      <th>zip_60655.0</th>\n",
       "      <th>zip_60656.0</th>\n",
       "      <th>zip_60657.0</th>\n",
       "      <th>zip_60659.0</th>\n",
       "      <th>zip_60660.0</th>\n",
       "      <th>zip_60661.0</th>\n",
       "      <th>zip_60666.0</th>\n",
       "      <th>zip_60707.0</th>\n",
       "      <th>zip_60827.0</th>\n",
       "    </tr>\n",
       "  </thead>\n",
       "  <tbody>\n",
       "    <tr>\n",
       "      <td>134647</td>\n",
       "      <td>NaN</td>\n",
       "      <td>3</td>\n",
       "      <td>-1</td>\n",
       "      <td>0</td>\n",
       "      <td>0</td>\n",
       "      <td>0</td>\n",
       "      <td>0</td>\n",
       "      <td>0</td>\n",
       "      <td>0</td>\n",
       "      <td>0</td>\n",
       "      <td>...</td>\n",
       "      <td>0</td>\n",
       "      <td>0</td>\n",
       "      <td>0</td>\n",
       "      <td>0</td>\n",
       "      <td>0</td>\n",
       "      <td>0</td>\n",
       "      <td>0</td>\n",
       "      <td>0</td>\n",
       "      <td>0</td>\n",
       "      <td>0</td>\n",
       "    </tr>\n",
       "    <tr>\n",
       "      <td>134622</td>\n",
       "      <td>NaN</td>\n",
       "      <td>3</td>\n",
       "      <td>-1</td>\n",
       "      <td>0</td>\n",
       "      <td>0</td>\n",
       "      <td>0</td>\n",
       "      <td>0</td>\n",
       "      <td>0</td>\n",
       "      <td>0</td>\n",
       "      <td>0</td>\n",
       "      <td>...</td>\n",
       "      <td>0</td>\n",
       "      <td>0</td>\n",
       "      <td>0</td>\n",
       "      <td>0</td>\n",
       "      <td>0</td>\n",
       "      <td>0</td>\n",
       "      <td>0</td>\n",
       "      <td>0</td>\n",
       "      <td>0</td>\n",
       "      <td>0</td>\n",
       "    </tr>\n",
       "  </tbody>\n",
       "</table>\n",
       "<p>2 rows × 62 columns</p>\n",
       "</div>"
      ],
      "text/plain": [
       "        score  risk  results  zip_60601.0  zip_60602.0  zip_60603.0  \\\n",
       "134647    NaN     3       -1            0            0            0   \n",
       "134622    NaN     3       -1            0            0            0   \n",
       "\n",
       "        zip_60604.0  zip_60605.0  zip_60606.0  zip_60607.0  ...  zip_60654.0  \\\n",
       "134647            0            0            0            0  ...            0   \n",
       "134622            0            0            0            0  ...            0   \n",
       "\n",
       "        zip_60655.0  zip_60656.0  zip_60657.0  zip_60659.0  zip_60660.0  \\\n",
       "134647            0            0            0            0            0   \n",
       "134622            0            0            0            0            0   \n",
       "\n",
       "        zip_60661.0  zip_60666.0  zip_60707.0  zip_60827.0  \n",
       "134647            0            0            0            0  \n",
       "134622            0            0            0            0  \n",
       "\n",
       "[2 rows x 62 columns]"
      ]
     },
     "execution_count": 49,
     "metadata": {},
     "output_type": "execute_result"
    }
   ],
   "source": [
    "# Drop useless columns from the dataset of interest\n",
    "df_04 = df_New_2.drop(['inspection_type_Canvass',\n",
    "       'inspection_type_Canvass Re-Inspection', 'inspection_type_Complaint',\n",
    "       'inspection_type_Complaint Re-Inspection',\n",
    "       'inspection_type_Short Form Complaint',\n",
    "       'inspection_type_Suspected Food Poisoning Re-inspection'], axis = 1)\n",
    "\n",
    "del df_04['Unnamed: 0']\n",
    "\n",
    "\n",
    "# Make the features and target dataframes and display the features dataframe\n",
    "target_df_04 = df_04['inspection_type_Suspected Food Poisoning']\n",
    "features_df_04 = df_04.drop(['inspection_type_Suspected Food Poisoning', 'inspection_date', 'inspection_id', 'license'], axis = 1)\n",
    "\n",
    "# Drop the violations\n",
    "features_df_04 = features_df_04[features_df_04.columns.drop(list(features_df_04.filter(regex='#')))]\n",
    "features_df_04.head(2)"
   ]
  },
  {
   "cell_type": "code",
   "execution_count": 50,
   "metadata": {},
   "outputs": [],
   "source": [
    "# Train and test sets for time series dataframes \n",
    "X_train_df4, X_test_df4, y_train_df4, y_test_df4 = train_test_split(features_df_04, target_df_04, test_size = 0.2, shuffle = False)\n",
    "tscv = TimeSeriesSplit(n_splits = 5)\n",
    "\n",
    "# Compute the ratio\n",
    "\n",
    "y_train_OK = y_train_df4[y_train_df4 == 1]\n",
    "len_OK = len(y_train_OK)\n",
    "\n",
    "y_train_not_OK = y_train_df4[y_train_df4  == 0]\n",
    "len_not_OK = len(y_train_not_OK)\n",
    "\n",
    "ratio_train = float(len_not_OK/len_OK)"
   ]
  },
  {
   "cell_type": "code",
   "execution_count": 51,
   "metadata": {},
   "outputs": [
    {
     "name": "stdout",
     "output_type": "stream",
     "text": [
      "Gradient Boosted trees model accuracy score : 0.5035647976234683\n",
      "Gradient Boosted trees model F1 score : 0.6650227617064987\n"
     ]
    }
   ],
   "source": [
    "# Cross validation to optimize F1 score, test set validation\n",
    "y_pred_4, XGB_classifier_4 = GBT_classification(X_train_df4, y_train_df4, X_test_df4, y_test_df4, tscv, ratio_train)"
   ]
  },
  {
   "cell_type": "code",
   "execution_count": 52,
   "metadata": {},
   "outputs": [
    {
     "name": "stdout",
     "output_type": "stream",
     "text": [
      "[[13468 13327]\n",
      " [   42    93]]\n"
     ]
    },
    {
     "data": {
      "text/plain": [
       "<matplotlib.axes._subplots.AxesSubplot at 0x1a3bbcf610>"
      ]
     },
     "execution_count": 52,
     "metadata": {},
     "output_type": "execute_result"
    },
    {
     "data": {
      "image/png": "[encoded data removed]",
      "text/plain": [
       "<Figure size 432x432 with 2 Axes>"
      ]
     },
     "metadata": {},
     "output_type": "display_data"
    }
   ],
   "source": [
    "# Plot confusion matrix\n",
    "plot_confusion_matrix(y_test_df4, y_pred_4, classes=class_names,title='Confusion matrix', figsize=(6,6))"
   ]
  },
  {
   "cell_type": "markdown",
   "metadata": {},
   "source": [
    "> **Observation**: This model is the best in terms of classifying correctly food poisoning cases, however, is the score really reliable ?"
   ]
  },
  {
   "cell_type": "markdown",
   "metadata": {},
   "source": [
    "### ROC-curve analysis"
   ]
  },
  {
   "cell_type": "markdown",
   "metadata": {},
   "source": [
    "A Receiver Operator Characteristic (ROC) curve is a graphical plot used to show the diagnostic ability of binary classifiers. It is obtained by plotting the true positive rate (TPR) against the false positive rate (FPR). Both axes vary between 0 and 1, and the closer the curve is to the upper-left corner, the better is the performance of the model. Moreover, the shape of the ROC curve does not depend on the class distribution, which makes it even better suited for use in our case.\n",
    "\n",
    "> We plot ROC curves on the same figure for all models, and display the roc-auc score."
   ]
  },
  {
   "cell_type": "code",
   "execution_count": 53,
   "metadata": {},
   "outputs": [
    {
     "name": "stdout",
     "output_type": "stream",
     "text": [
      "roc_auc_score model 1:  0.605283098771614\n",
      "roc_auc_score model 2:  0.5256356561823999\n",
      "roc_auc_score model 3:  0.5957599883892103\n"
     ]
    },
    {
     "data": {
      "image/png": "[encoded data removed]",
      "text/plain": [
       "<Figure size 504x504 with 1 Axes>"
      ]
     },
     "metadata": {},
     "output_type": "display_data"
    }
   ],
   "source": [
    "fpr_2, fpr_3, fpr_4 = dict(), dict(), dict()\n",
    "tpr_2, tpr_3, tpr_4 = dict(), dict(), dict()\n",
    "roc_auc_2, roc_auc_3, roc_auc_4 = dict(), dict(), dict()\n",
    "for i in range(2):\n",
    "    fpr_2[i], tpr_2[i], _ = roc_curve(y_test_df2, y_pred_2)\n",
    "    roc_auc_2[i] = auc(fpr_2[i], tpr_2[i])\n",
    "    fpr_3[i], tpr_3[i], _ = roc_curve(y_test_df3, y_pred_3)\n",
    "    roc_auc_3[i] = auc(fpr_3[i], tpr_3[i])\n",
    "    fpr_4[i], tpr_4[i], _ = roc_curve(y_test_df4, y_pred_4)\n",
    "    roc_auc_4[i] = auc(fpr_4[i], tpr_4[i])\n",
    "        \n",
    "print('roc_auc_score model 1: ',roc_auc_score(y_test_df2, y_pred_2))\n",
    "print('roc_auc_score model 2: ',roc_auc_score(y_test_df3, y_pred_3))\n",
    "print('roc_auc_score model 3: ',roc_auc_score(y_test_df4, y_pred_4))\n",
    "plt.figure(figsize=(7,7))\n",
    "plt.plot(fpr_2[1], tpr_2[1], label='model 1')\n",
    "plt.plot(fpr_3[1], tpr_3[1], label = 'model 2')\n",
    "plt.plot(fpr_4[1], tpr_4[1], label = 'model 3')\n",
    "plt.plot ([0.0, 1.0], [0.0, 1.0], '--')\n",
    "plt.xlim([0.0, 1.0])\n",
    "plt.ylim([0.0, 1.05])\n",
    "plt.xlabel('False Positive Rate')\n",
    "plt.ylabel('True Positive Rate')\n",
    "plt.title('Receiver operating characteristic')\n",
    "plt.legend()\n",
    "plt.show()"
   ]
  },
  {
   "cell_type": "markdown",
   "metadata": {},
   "source": [
    "### Plotting an XGBoost Tree "
   ]
  },
  {
   "cell_type": "markdown",
   "metadata": {},
   "source": [
    "For the poster, we decided to highlight this model that we've used extensively, by plotting one of the trees.\n",
    "\n",
    "> We create a function to do so."
   ]
  },
  {
   "cell_type": "code",
   "execution_count": 54,
   "metadata": {},
   "outputs": [],
   "source": [
    "def plot_tree(xgb_model, filename):\n",
    "    \"\"\"\n",
    "    Plot the tree in high resolution\n",
    "    :param xgb_model: xgboost trained model\n",
    "    :param filename: the pdf file where this is saved\n",
    "    :param rankdir: direction of the tree: default Top-Down (UT), accepts:'LR' for left-to-right tree\n",
    "    :return:\n",
    "    \"\"\"\n",
    "    gvz = xgb.to_graphviz(xgb_model)\n",
    "    _, file_extension = os.path.splitext(filename)\n",
    "    format = file_extension.strip('.').lower()\n",
    "    data = gvz.pipe(format=format)\n",
    "    full_filename = filename\n",
    "    with open(full_filename, 'wb') as f:\n",
    "        f.write(data)"
   ]
  },
  {
   "cell_type": "markdown",
   "metadata": {},
   "source": [
    "> We plot a tree from the third model and another one for the second."
   ]
  },
  {
   "cell_type": "code",
   "execution_count": 55,
   "metadata": {},
   "outputs": [
    {
     "ename": "ExecutableNotFound",
     "evalue": "failed to execute ['dot', '-Tpng'], make sure the Graphviz executables are on your systems' PATH",
     "output_type": "error",
     "traceback": [
      "\u001b[0;31m---------------------------------------------------------------------------\u001b[0m",
      "\u001b[0;31mFileNotFoundError\u001b[0m                         Traceback (most recent call last)",
      "\u001b[0;32m/anaconda3/envs/ada/lib/python3.7/site-packages/graphviz/backend.py\u001b[0m in \u001b[0;36mrun\u001b[0;34m(cmd, input, capture_output, check, quiet, **kwargs)\u001b[0m\n\u001b[1;32m    158\u001b[0m     \u001b[0;32mtry\u001b[0m\u001b[0;34m:\u001b[0m\u001b[0;34m\u001b[0m\u001b[0;34m\u001b[0m\u001b[0m\n\u001b[0;32m--> 159\u001b[0;31m         \u001b[0mproc\u001b[0m \u001b[0;34m=\u001b[0m \u001b[0msubprocess\u001b[0m\u001b[0;34m.\u001b[0m\u001b[0mPopen\u001b[0m\u001b[0;34m(\u001b[0m\u001b[0mcmd\u001b[0m\u001b[0;34m,\u001b[0m \u001b[0mstartupinfo\u001b[0m\u001b[0;34m=\u001b[0m\u001b[0mget_startupinfo\u001b[0m\u001b[0;34m(\u001b[0m\u001b[0;34m)\u001b[0m\u001b[0;34m,\u001b[0m \u001b[0;34m**\u001b[0m\u001b[0mkwargs\u001b[0m\u001b[0;34m)\u001b[0m\u001b[0;34m\u001b[0m\u001b[0;34m\u001b[0m\u001b[0m\n\u001b[0m\u001b[1;32m    160\u001b[0m     \u001b[0;32mexcept\u001b[0m \u001b[0mOSError\u001b[0m \u001b[0;32mas\u001b[0m \u001b[0me\u001b[0m\u001b[0;34m:\u001b[0m\u001b[0;34m\u001b[0m\u001b[0;34m\u001b[0m\u001b[0m\n",
      "\u001b[0;32m/anaconda3/envs/ada/lib/python3.7/subprocess.py\u001b[0m in \u001b[0;36m__init__\u001b[0;34m(self, args, bufsize, executable, stdin, stdout, stderr, preexec_fn, close_fds, shell, cwd, env, universal_newlines, startupinfo, creationflags, restore_signals, start_new_session, pass_fds, encoding, errors, text)\u001b[0m\n\u001b[1;32m    774\u001b[0m                                 \u001b[0merrread\u001b[0m\u001b[0;34m,\u001b[0m \u001b[0merrwrite\u001b[0m\u001b[0;34m,\u001b[0m\u001b[0;34m\u001b[0m\u001b[0;34m\u001b[0m\u001b[0m\n\u001b[0;32m--> 775\u001b[0;31m                                 restore_signals, start_new_session)\n\u001b[0m\u001b[1;32m    776\u001b[0m         \u001b[0;32mexcept\u001b[0m\u001b[0;34m:\u001b[0m\u001b[0;34m\u001b[0m\u001b[0;34m\u001b[0m\u001b[0m\n",
      "\u001b[0;32m/anaconda3/envs/ada/lib/python3.7/subprocess.py\u001b[0m in \u001b[0;36m_execute_child\u001b[0;34m(self, args, executable, preexec_fn, close_fds, pass_fds, cwd, env, startupinfo, creationflags, shell, p2cread, p2cwrite, c2pread, c2pwrite, errread, errwrite, restore_signals, start_new_session)\u001b[0m\n\u001b[1;32m   1521\u001b[0m                             \u001b[0merr_msg\u001b[0m \u001b[0;34m+=\u001b[0m \u001b[0;34m': '\u001b[0m \u001b[0;34m+\u001b[0m \u001b[0mrepr\u001b[0m\u001b[0;34m(\u001b[0m\u001b[0merr_filename\u001b[0m\u001b[0;34m)\u001b[0m\u001b[0;34m\u001b[0m\u001b[0;34m\u001b[0m\u001b[0m\n\u001b[0;32m-> 1522\u001b[0;31m                     \u001b[0;32mraise\u001b[0m \u001b[0mchild_exception_type\u001b[0m\u001b[0;34m(\u001b[0m\u001b[0merrno_num\u001b[0m\u001b[0;34m,\u001b[0m \u001b[0merr_msg\u001b[0m\u001b[0;34m,\u001b[0m \u001b[0merr_filename\u001b[0m\u001b[0;34m)\u001b[0m\u001b[0;34m\u001b[0m\u001b[0;34m\u001b[0m\u001b[0m\n\u001b[0m\u001b[1;32m   1523\u001b[0m                 \u001b[0;32mraise\u001b[0m \u001b[0mchild_exception_type\u001b[0m\u001b[0;34m(\u001b[0m\u001b[0merr_msg\u001b[0m\u001b[0;34m)\u001b[0m\u001b[0;34m\u001b[0m\u001b[0;34m\u001b[0m\u001b[0m\n",
      "\u001b[0;31mFileNotFoundError\u001b[0m: [Errno 2] No such file or directory: 'dot': 'dot'",
      "\nDuring handling of the above exception, another exception occurred:\n",
      "\u001b[0;31mExecutableNotFound\u001b[0m                        Traceback (most recent call last)",
      "\u001b[0;32m<ipython-input-55-6b7979c44695>\u001b[0m in \u001b[0;36m<module>\u001b[0;34m\u001b[0m\n\u001b[1;32m      1\u001b[0m \u001b[0;31m# Model 3\u001b[0m\u001b[0;34m\u001b[0m\u001b[0;34m\u001b[0m\u001b[0;34m\u001b[0m\u001b[0m\n\u001b[0;32m----> 2\u001b[0;31m \u001b[0mplot_tree\u001b[0m\u001b[0;34m(\u001b[0m\u001b[0mXGB_classifier_4\u001b[0m\u001b[0;34m,\u001b[0m \u001b[0;34m'xgboost_test_tree_1.png'\u001b[0m\u001b[0;34m)\u001b[0m\u001b[0;34m\u001b[0m\u001b[0;34m\u001b[0m\u001b[0m\n\u001b[0m\u001b[1;32m      3\u001b[0m \u001b[0;34m\u001b[0m\u001b[0m\n\u001b[1;32m      4\u001b[0m \u001b[0;31m# Model 3\u001b[0m\u001b[0;34m\u001b[0m\u001b[0;34m\u001b[0m\u001b[0;34m\u001b[0m\u001b[0m\n\u001b[1;32m      5\u001b[0m \u001b[0mplot_tree\u001b[0m\u001b[0;34m(\u001b[0m\u001b[0mXGB_classifier_4\u001b[0m\u001b[0;34m,\u001b[0m \u001b[0;34m'xgboost_test_tree_1.png'\u001b[0m\u001b[0;34m)\u001b[0m\u001b[0;34m\u001b[0m\u001b[0;34m\u001b[0m\u001b[0m\n",
      "\u001b[0;32m<ipython-input-54-412f1d83e0c9>\u001b[0m in \u001b[0;36mplot_tree\u001b[0;34m(xgb_model, filename)\u001b[0m\n\u001b[1;32m     10\u001b[0m     \u001b[0m_\u001b[0m\u001b[0;34m,\u001b[0m \u001b[0mfile_extension\u001b[0m \u001b[0;34m=\u001b[0m \u001b[0mos\u001b[0m\u001b[0;34m.\u001b[0m\u001b[0mpath\u001b[0m\u001b[0;34m.\u001b[0m\u001b[0msplitext\u001b[0m\u001b[0;34m(\u001b[0m\u001b[0mfilename\u001b[0m\u001b[0;34m)\u001b[0m\u001b[0;34m\u001b[0m\u001b[0;34m\u001b[0m\u001b[0m\n\u001b[1;32m     11\u001b[0m     \u001b[0mformat\u001b[0m \u001b[0;34m=\u001b[0m \u001b[0mfile_extension\u001b[0m\u001b[0;34m.\u001b[0m\u001b[0mstrip\u001b[0m\u001b[0;34m(\u001b[0m\u001b[0;34m'.'\u001b[0m\u001b[0;34m)\u001b[0m\u001b[0;34m.\u001b[0m\u001b[0mlower\u001b[0m\u001b[0;34m(\u001b[0m\u001b[0;34m)\u001b[0m\u001b[0;34m\u001b[0m\u001b[0;34m\u001b[0m\u001b[0m\n\u001b[0;32m---> 12\u001b[0;31m     \u001b[0mdata\u001b[0m \u001b[0;34m=\u001b[0m \u001b[0mgvz\u001b[0m\u001b[0;34m.\u001b[0m\u001b[0mpipe\u001b[0m\u001b[0;34m(\u001b[0m\u001b[0mformat\u001b[0m\u001b[0;34m=\u001b[0m\u001b[0mformat\u001b[0m\u001b[0;34m)\u001b[0m\u001b[0;34m\u001b[0m\u001b[0;34m\u001b[0m\u001b[0m\n\u001b[0m\u001b[1;32m     13\u001b[0m     \u001b[0mfull_filename\u001b[0m \u001b[0;34m=\u001b[0m \u001b[0mfilename\u001b[0m\u001b[0;34m\u001b[0m\u001b[0;34m\u001b[0m\u001b[0m\n\u001b[1;32m     14\u001b[0m     \u001b[0;32mwith\u001b[0m \u001b[0mopen\u001b[0m\u001b[0;34m(\u001b[0m\u001b[0mfull_filename\u001b[0m\u001b[0;34m,\u001b[0m \u001b[0;34m'wb'\u001b[0m\u001b[0;34m)\u001b[0m \u001b[0;32mas\u001b[0m \u001b[0mf\u001b[0m\u001b[0;34m:\u001b[0m\u001b[0;34m\u001b[0m\u001b[0;34m\u001b[0m\u001b[0m\n",
      "\u001b[0;32m/anaconda3/envs/ada/lib/python3.7/site-packages/graphviz/files.py\u001b[0m in \u001b[0;36mpipe\u001b[0;34m(self, format, renderer, formatter, quiet)\u001b[0m\n\u001b[1;32m    136\u001b[0m         out = backend.pipe(self._engine, format, data,\n\u001b[1;32m    137\u001b[0m                            \u001b[0mrenderer\u001b[0m\u001b[0;34m=\u001b[0m\u001b[0mrenderer\u001b[0m\u001b[0;34m,\u001b[0m \u001b[0mformatter\u001b[0m\u001b[0;34m=\u001b[0m\u001b[0mformatter\u001b[0m\u001b[0;34m,\u001b[0m\u001b[0;34m\u001b[0m\u001b[0;34m\u001b[0m\u001b[0m\n\u001b[0;32m--> 138\u001b[0;31m                            quiet=quiet)\n\u001b[0m\u001b[1;32m    139\u001b[0m \u001b[0;34m\u001b[0m\u001b[0m\n\u001b[1;32m    140\u001b[0m         \u001b[0;32mreturn\u001b[0m \u001b[0mout\u001b[0m\u001b[0;34m\u001b[0m\u001b[0;34m\u001b[0m\u001b[0m\n",
      "\u001b[0;32m/anaconda3/envs/ada/lib/python3.7/site-packages/graphviz/backend.py\u001b[0m in \u001b[0;36mpipe\u001b[0;34m(engine, format, data, renderer, formatter, quiet)\u001b[0m\n\u001b[1;32m    227\u001b[0m     \"\"\"\n\u001b[1;32m    228\u001b[0m     \u001b[0mcmd\u001b[0m\u001b[0;34m,\u001b[0m \u001b[0m_\u001b[0m \u001b[0;34m=\u001b[0m \u001b[0mcommand\u001b[0m\u001b[0;34m(\u001b[0m\u001b[0mengine\u001b[0m\u001b[0;34m,\u001b[0m \u001b[0mformat\u001b[0m\u001b[0;34m,\u001b[0m \u001b[0;32mNone\u001b[0m\u001b[0;34m,\u001b[0m \u001b[0mrenderer\u001b[0m\u001b[0;34m,\u001b[0m \u001b[0mformatter\u001b[0m\u001b[0;34m)\u001b[0m\u001b[0;34m\u001b[0m\u001b[0;34m\u001b[0m\u001b[0m\n\u001b[0;32m--> 229\u001b[0;31m     \u001b[0mout\u001b[0m\u001b[0;34m,\u001b[0m \u001b[0m_\u001b[0m \u001b[0;34m=\u001b[0m \u001b[0mrun\u001b[0m\u001b[0;34m(\u001b[0m\u001b[0mcmd\u001b[0m\u001b[0;34m,\u001b[0m \u001b[0minput\u001b[0m\u001b[0;34m=\u001b[0m\u001b[0mdata\u001b[0m\u001b[0;34m,\u001b[0m \u001b[0mcapture_output\u001b[0m\u001b[0;34m=\u001b[0m\u001b[0;32mTrue\u001b[0m\u001b[0;34m,\u001b[0m \u001b[0mcheck\u001b[0m\u001b[0;34m=\u001b[0m\u001b[0;32mTrue\u001b[0m\u001b[0;34m,\u001b[0m \u001b[0mquiet\u001b[0m\u001b[0;34m=\u001b[0m\u001b[0mquiet\u001b[0m\u001b[0;34m)\u001b[0m\u001b[0;34m\u001b[0m\u001b[0;34m\u001b[0m\u001b[0m\n\u001b[0m\u001b[1;32m    230\u001b[0m     \u001b[0;32mreturn\u001b[0m \u001b[0mout\u001b[0m\u001b[0;34m\u001b[0m\u001b[0;34m\u001b[0m\u001b[0m\n\u001b[1;32m    231\u001b[0m \u001b[0;34m\u001b[0m\u001b[0m\n",
      "\u001b[0;32m/anaconda3/envs/ada/lib/python3.7/site-packages/graphviz/backend.py\u001b[0m in \u001b[0;36mrun\u001b[0;34m(cmd, input, capture_output, check, quiet, **kwargs)\u001b[0m\n\u001b[1;32m    160\u001b[0m     \u001b[0;32mexcept\u001b[0m \u001b[0mOSError\u001b[0m \u001b[0;32mas\u001b[0m \u001b[0me\u001b[0m\u001b[0;34m:\u001b[0m\u001b[0;34m\u001b[0m\u001b[0;34m\u001b[0m\u001b[0m\n\u001b[1;32m    161\u001b[0m         \u001b[0;32mif\u001b[0m \u001b[0me\u001b[0m\u001b[0;34m.\u001b[0m\u001b[0merrno\u001b[0m \u001b[0;34m==\u001b[0m \u001b[0merrno\u001b[0m\u001b[0;34m.\u001b[0m\u001b[0mENOENT\u001b[0m\u001b[0;34m:\u001b[0m\u001b[0;34m\u001b[0m\u001b[0;34m\u001b[0m\u001b[0m\n\u001b[0;32m--> 162\u001b[0;31m             \u001b[0;32mraise\u001b[0m \u001b[0mExecutableNotFound\u001b[0m\u001b[0;34m(\u001b[0m\u001b[0mcmd\u001b[0m\u001b[0;34m)\u001b[0m\u001b[0;34m\u001b[0m\u001b[0;34m\u001b[0m\u001b[0m\n\u001b[0m\u001b[1;32m    163\u001b[0m         \u001b[0;32melse\u001b[0m\u001b[0;34m:\u001b[0m\u001b[0;34m\u001b[0m\u001b[0;34m\u001b[0m\u001b[0m\n\u001b[1;32m    164\u001b[0m             \u001b[0;32mraise\u001b[0m\u001b[0;34m\u001b[0m\u001b[0;34m\u001b[0m\u001b[0m\n",
      "\u001b[0;31mExecutableNotFound\u001b[0m: failed to execute ['dot', '-Tpng'], make sure the Graphviz executables are on your systems' PATH"
     ]
    }
   ],
   "source": [
    "# Model 3\n",
    "plot_tree(XGB_classifier_4, 'xgboost_test_tree_1.png')\n",
    "\n",
    "# Model 3\n",
    "plot_tree(XGB_classifier_4, 'xgboost_test_tree_1.png')"
   ]
  },
  {
   "cell_type": "code",
   "execution_count": null,
   "metadata": {},
   "outputs": [],
   "source": []
  }
 ],
 "metadata": {
  "kernelspec": {
   "display_name": "Python 3",
   "language": "python",
   "name": "python3"
  },
  "language_info": {
   "codemirror_mode": {
    "name": "ipython",
    "version": 3
   },
   "file_extension": ".py",
   "mimetype": "text/x-python",
   "name": "python",
   "nbconvert_exporter": "python",
   "pygments_lexer": "ipython3",
   "version": "3.7.4"
  }
 },
 "nbformat": 4,
 "nbformat_minor": 2
}
