{
 "cells": [
  {
   "cell_type": "markdown",
   "metadata": {},
   "source": [
    "# Important factor for Food Poisoning ? "
   ]
  },
  {
   "cell_type": "code",
   "execution_count": 36,
   "metadata": {},
   "outputs": [],
   "source": [
    "import os \n",
    "import folium\n",
    "import warnings\n",
    "import requests\n",
    "import seaborn as sns\n",
    "import pandas as pd\n",
    "import numpy as np\n",
    "import matplotlib.pyplot as plt\n",
    "import geopandas as gpd\n",
    "import folium.plugins as plugins\n",
    "import scipy.stats as stats\n",
    "import plotly.io as pio\n",
    "import plotly.offline as py\n",
    "import colorlover as cl\n",
    "\n",
    "from matplotlib.ticker import MaxNLocator\n",
    "from requests import get\n",
    "from IPython.display import IFrame\n",
    "from plotly import graph_objects as go\n",
    "from pandas.io.json import json_normalize\n",
    "from shapely.geometry import Polygon\n",
    "from shapely.geometry import Point\n",
    "from sklearn.metrics import confusion_matrix \n",
    "from sklearn.metrics import accuracy_score , precision_score , f1_score, recall_score, matthews_corrcoef, roc_auc_score\n",
    "from sklearn.metrics import classification_report \n",
    "\n",
    "# self made classes\n",
    "from violation_preprocessing import violation_separator, violations_dataframe\n",
    "from mapping_functions import chlorepleth_map, geodataframe, generateBaseMap, adding_CircleMarker, adding_Marker\n",
    "\n",
    "# to ignore the warnings and make the notebook more presentable\n",
    "warnings.filterwarnings('ignore') \n",
    "pio.renderers.default = 'iframe'\n",
    "%matplotlib inline\n",
    "sns.set()"
   ]
  },
  {
   "cell_type": "markdown",
   "metadata": {},
   "source": [
    "# Evaluating Risk factors "
   ]
  },
  {
   "cell_type": "markdown",
   "metadata": {},
   "source": [
    "Let's take the data with the violations of each restaurant in Chicago."
   ]
  },
  {
   "cell_type": "code",
   "execution_count": 37,
   "metadata": {},
   "outputs": [],
   "source": [
    "data = pd.read_csv('data/clean_dataset.csv')\n",
    "\n",
    "del data['Unnamed: 0']\n",
    "\n",
    "# convert the zip column into an str\n",
    "data.zip = data.zip.astype(str)\n",
    "    \n",
    "# reformat the zip code writing in order to compare it with the zip code in geojson file (for vizualisation step)\n",
    "data['zip'] = data['zip'].apply(lambda x : x.split('.')[0])"
   ]
  },
  {
   "cell_type": "code",
   "execution_count": 38,
   "metadata": {},
   "outputs": [
    {
     "data": {
      "text/html": [
       "<div>\n",
       "<style scoped>\n",
       "    .dataframe tbody tr th:only-of-type {\n",
       "        vertical-align: middle;\n",
       "    }\n",
       "\n",
       "    .dataframe tbody tr th {\n",
       "        vertical-align: top;\n",
       "    }\n",
       "\n",
       "    .dataframe thead th {\n",
       "        text-align: right;\n",
       "    }\n",
       "</style>\n",
       "<table border=\"1\" class=\"dataframe\">\n",
       "  <thead>\n",
       "    <tr style=\"text-align: right;\">\n",
       "      <th></th>\n",
       "      <th>inspection_id</th>\n",
       "      <th>dba_name</th>\n",
       "      <th>aka_name</th>\n",
       "      <th>license</th>\n",
       "      <th>facility_type</th>\n",
       "      <th>risk</th>\n",
       "      <th>address</th>\n",
       "      <th>zip</th>\n",
       "      <th>inspection_date</th>\n",
       "      <th>inspection_type</th>\n",
       "      <th>results</th>\n",
       "      <th>violations</th>\n",
       "      <th>latitude</th>\n",
       "      <th>longitude</th>\n",
       "      <th>location</th>\n",
       "    </tr>\n",
       "  </thead>\n",
       "  <tbody>\n",
       "    <tr>\n",
       "      <td>0</td>\n",
       "      <td>2352734</td>\n",
       "      <td>CHILI'S T-I</td>\n",
       "      <td>CHILI'S (T1-B14)</td>\n",
       "      <td>34169.0</td>\n",
       "      <td>Restaurant</td>\n",
       "      <td>Risk 1 (High)</td>\n",
       "      <td>11601 W TOUHY AVE</td>\n",
       "      <td>60666</td>\n",
       "      <td>2019-12-04</td>\n",
       "      <td>Canvass</td>\n",
       "      <td>Pass</td>\n",
       "      <td>10. ADEQUATE HANDWASHING SINKS PROPERLY SUPPLI...</td>\n",
       "      <td>42.008536</td>\n",
       "      <td>-87.914428</td>\n",
       "      <td>{'latitude': '-87.91442843927047', 'longitude'...</td>\n",
       "    </tr>\n",
       "    <tr>\n",
       "      <td>1</td>\n",
       "      <td>2352727</td>\n",
       "      <td>PORTAGE PARK DAY NURSERY</td>\n",
       "      <td>MOSAIC EARLY CHILDHOOD ACADEMY</td>\n",
       "      <td>2215815.0</td>\n",
       "      <td>Children's Services Facility</td>\n",
       "      <td>Risk 1 (High)</td>\n",
       "      <td>5332-5334 W ADDISON ST</td>\n",
       "      <td>60641</td>\n",
       "      <td>2019-12-04</td>\n",
       "      <td>Canvass</td>\n",
       "      <td>Pass</td>\n",
       "      <td>NaN</td>\n",
       "      <td>41.946065</td>\n",
       "      <td>-87.760722</td>\n",
       "      <td>{'latitude': '-87.76072227616888', 'longitude'...</td>\n",
       "    </tr>\n",
       "  </tbody>\n",
       "</table>\n",
       "</div>"
      ],
      "text/plain": [
       "   inspection_id                  dba_name                        aka_name  \\\n",
       "0        2352734               CHILI'S T-I                CHILI'S (T1-B14)   \n",
       "1        2352727  PORTAGE PARK DAY NURSERY  MOSAIC EARLY CHILDHOOD ACADEMY   \n",
       "\n",
       "     license                 facility_type           risk  \\\n",
       "0    34169.0                    Restaurant  Risk 1 (High)   \n",
       "1  2215815.0  Children's Services Facility  Risk 1 (High)   \n",
       "\n",
       "                   address    zip inspection_date inspection_type results  \\\n",
       "0       11601 W TOUHY AVE   60666      2019-12-04         Canvass    Pass   \n",
       "1  5332-5334 W ADDISON ST   60641      2019-12-04         Canvass    Pass   \n",
       "\n",
       "                                          violations   latitude  longitude  \\\n",
       "0  10. ADEQUATE HANDWASHING SINKS PROPERLY SUPPLI...  42.008536 -87.914428   \n",
       "1                                                NaN  41.946065 -87.760722   \n",
       "\n",
       "                                            location  \n",
       "0  {'latitude': '-87.91442843927047', 'longitude'...  \n",
       "1  {'latitude': '-87.76072227616888', 'longitude'...  "
      ]
     },
     "execution_count": 38,
     "metadata": {},
     "output_type": "execute_result"
    }
   ],
   "source": [
    "data.head(2)"
   ]
  },
  {
   "cell_type": "code",
   "execution_count": 39,
   "metadata": {},
   "outputs": [
    {
     "data": {
      "text/html": [
       "<div>\n",
       "<style scoped>\n",
       "    .dataframe tbody tr th:only-of-type {\n",
       "        vertical-align: middle;\n",
       "    }\n",
       "\n",
       "    .dataframe tbody tr th {\n",
       "        vertical-align: top;\n",
       "    }\n",
       "\n",
       "    .dataframe thead th {\n",
       "        text-align: right;\n",
       "    }\n",
       "</style>\n",
       "<table border=\"1\" class=\"dataframe\">\n",
       "  <thead>\n",
       "    <tr style=\"text-align: right;\">\n",
       "      <th></th>\n",
       "      <th>total_count</th>\n",
       "    </tr>\n",
       "    <tr>\n",
       "      <th>zip</th>\n",
       "      <th></th>\n",
       "    </tr>\n",
       "  </thead>\n",
       "  <tbody>\n",
       "    <tr>\n",
       "      <td>60601</td>\n",
       "      <td>2517</td>\n",
       "    </tr>\n",
       "    <tr>\n",
       "      <td>60602</td>\n",
       "      <td>1099</td>\n",
       "    </tr>\n",
       "    <tr>\n",
       "      <td>60603</td>\n",
       "      <td>1408</td>\n",
       "    </tr>\n",
       "  </tbody>\n",
       "</table>\n",
       "</div>"
      ],
      "text/plain": [
       "       total_count\n",
       "zip               \n",
       "60601         2517\n",
       "60602         1099\n",
       "60603         1408"
      ]
     },
     "execution_count": 39,
     "metadata": {},
     "output_type": "execute_result"
    }
   ],
   "source": [
    "# calculating the number of facilities per zip for the normalization \n",
    "data_zip = pd.DataFrame(data.groupby('zip')['inspection_id'].count())\n",
    "data_zip.rename(columns = {'inspection_id': 'total_count'}, inplace = True)\n",
    "data_zip.reset_index()\n",
    "\n",
    "data_zip.head(3)"
   ]
  },
  {
   "cell_type": "markdown",
   "metadata": {},
   "source": [
    "This dataset gives us the following informations :  \n",
    "1. The risk level of the restaurants (a factor for Ecoli poisoning) in each zip code\n",
    "2. The amount of food poisoning per zip code"
   ]
  },
  {
   "cell_type": "code",
   "execution_count": 40,
   "metadata": {},
   "outputs": [],
   "source": [
    "# we just want to extract the level of risk ( 1 , 2 ou 3)\n",
    "data['risk'] = data['risk'].astype(str) \n",
    "data['risk_level'] = data['risk'].str[5]\n",
    "\n",
    "data['risk_level'] = data['risk_level'].astype(float)\n",
    "\n",
    "# counting the number of facilities with inspection due to suspected food poisoning\n",
    "poisoning_data = data[data['inspection_type'] == 'Suspected Food Poisoning']"
   ]
  },
  {
   "cell_type": "code",
   "execution_count": 41,
   "metadata": {},
   "outputs": [],
   "source": [
    "# create bars\n",
    "risk_level_count = list(poisoning_data.groupby('risk_level')['inspection_id'].count())\n",
    "total = len(poisoning_data)\n",
    "percentage = [ (a/total)*100 for a in risk_level_count]"
   ]
  },
  {
   "cell_type": "code",
   "execution_count": 42,
   "metadata": {},
   "outputs": [
    {
     "data": {
      "text/plain": [
       "[87.72348033373063, 12.038140643623361, 0.23837902264600713]"
      ]
     },
     "execution_count": 42,
     "metadata": {},
     "output_type": "execute_result"
    }
   ],
   "source": [
    "percentage"
   ]
  },
  {
   "cell_type": "code",
   "execution_count": 49,
   "metadata": {},
   "outputs": [
    {
     "data": {
      "text/html": [
       "<iframe\n",
       "    scrolling=\"no\"\n",
       "    width=\"420px\"\n",
       "    height=\"420\"\n",
       "    src=\"iframe_figures/figure_73.html\"\n",
       "    frameborder=\"0\"\n",
       "    allowfullscreen\n",
       "></iframe>\n"
      ]
     },
     "metadata": {},
     "output_type": "display_data"
    }
   ],
   "source": [
    "# plotting of bar plot\n",
    "\n",
    "bars = ['High','Medium','Low']\n",
    "\n",
    "fig = go.Figure()\n",
    "\n",
    "\n",
    "# set up the first trace\n",
    "fig.add_trace(go.Bar(\n",
    "                    x = bars,\n",
    "                    y = percentage,\n",
    "                    visible = True,\n",
    "                    marker_color='maroon'\n",
    "                    \n",
    "                )\n",
    "             )\n",
    "\n",
    "fig.layout.update(\n",
    "    autosize = False,\n",
    "    width = 400,\n",
    "    height = 400,\n",
    "    template = \"plotly_white\",\n",
    "    #paper_bgcolor='#333'\n",
    ")\n",
    "\n",
    "fig.layout.update(\n",
    "    title = go.layout.Title(\n",
    "        text = 'Risk level associated w/ suspected food poisoning',\n",
    "        y = 0.9,\n",
    "        x = 0.5,\n",
    "        xanchor = 'center',\n",
    "        yanchor = 'top',\n",
    "        font = dict(size = 14)\n",
    "    ),\n",
    "    yaxis = dict(\n",
    "        title = 'Percentage %',\n",
    "        titlefont_size = 14\n",
    "    ),\n",
    "    xaxis = dict(\n",
    "        title = 'Risk level',\n",
    "        titlefont_size = 14\n",
    "    )\n",
    ")\n",
    "\n",
    "fig.show()"
   ]
  },
  {
   "cell_type": "markdown",
   "metadata": {},
   "source": [
    "### Proportion of inspection due to suspected food poisoning per zip"
   ]
  },
  {
   "cell_type": "code",
   "execution_count": 10,
   "metadata": {},
   "outputs": [],
   "source": [
    "# counting the number of facilities per zip \n",
    "facility_number_per_zip = pd.DataFrame(data.groupby('zip')['license'].count()).reset_index()\n",
    "\n",
    "\n",
    "pois_facility_number_per_zip = pd.DataFrame(poisoning_data.groupby('zip')['license'].count()).reset_index()\n",
    "\n",
    "# merge in order to calculate the proportion\n",
    "number_facilities_df = pd.merge(facility_number_per_zip, pois_facility_number_per_zip, on ='zip')\n",
    "number_facilities_df.rename(columns = {'license_x': 'total number', 'license_y':'poisoning number'}, inplace = True)\n",
    "\n",
    "# frequency of inspection due to food poisoning in a given zip\n",
    "number_facilities_df['frequency(%)'] = number_facilities_df['poisoning number'].divide(number_facilities_df['total number'])*100"
   ]
  },
  {
   "cell_type": "code",
   "execution_count": 11,
   "metadata": {},
   "outputs": [
    {
     "data": {
      "text/html": [
       "<div>\n",
       "<style scoped>\n",
       "    .dataframe tbody tr th:only-of-type {\n",
       "        vertical-align: middle;\n",
       "    }\n",
       "\n",
       "    .dataframe tbody tr th {\n",
       "        vertical-align: top;\n",
       "    }\n",
       "\n",
       "    .dataframe thead th {\n",
       "        text-align: right;\n",
       "    }\n",
       "</style>\n",
       "<table border=\"1\" class=\"dataframe\">\n",
       "  <thead>\n",
       "    <tr style=\"text-align: right;\">\n",
       "      <th></th>\n",
       "      <th>zip</th>\n",
       "      <th>total number</th>\n",
       "      <th>poisoning number</th>\n",
       "      <th>frequency(%)</th>\n",
       "    </tr>\n",
       "  </thead>\n",
       "  <tbody>\n",
       "    <tr>\n",
       "      <td>0</td>\n",
       "      <td>60601</td>\n",
       "      <td>2517</td>\n",
       "      <td>25</td>\n",
       "      <td>0.993246</td>\n",
       "    </tr>\n",
       "    <tr>\n",
       "      <td>1</td>\n",
       "      <td>60602</td>\n",
       "      <td>1099</td>\n",
       "      <td>6</td>\n",
       "      <td>0.545951</td>\n",
       "    </tr>\n",
       "  </tbody>\n",
       "</table>\n",
       "</div>"
      ],
      "text/plain": [
       "     zip  total number  poisoning number  frequency(%)\n",
       "0  60601          2517                25      0.993246\n",
       "1  60602          1099                 6      0.545951"
      ]
     },
     "execution_count": 11,
     "metadata": {},
     "output_type": "execute_result"
    }
   ],
   "source": [
    "number_facilities_df.head(2)"
   ]
  },
  {
   "cell_type": "markdown",
   "metadata": {},
   "source": [
    "### Average risk level per zip"
   ]
  },
  {
   "cell_type": "markdown",
   "metadata": {},
   "source": [
    "The risk level of the restaurants:"
   ]
  },
  {
   "cell_type": "code",
   "execution_count": 12,
   "metadata": {},
   "outputs": [
    {
     "data": {
      "text/html": [
       "<div>\n",
       "<style scoped>\n",
       "    .dataframe tbody tr th:only-of-type {\n",
       "        vertical-align: middle;\n",
       "    }\n",
       "\n",
       "    .dataframe tbody tr th {\n",
       "        vertical-align: top;\n",
       "    }\n",
       "\n",
       "    .dataframe thead th {\n",
       "        text-align: right;\n",
       "    }\n",
       "</style>\n",
       "<table border=\"1\" class=\"dataframe\">\n",
       "  <thead>\n",
       "    <tr style=\"text-align: right;\">\n",
       "      <th></th>\n",
       "      <th>zip</th>\n",
       "      <th>high_risk_count</th>\n",
       "      <th>total_count</th>\n",
       "      <th>percentage</th>\n",
       "    </tr>\n",
       "  </thead>\n",
       "  <tbody>\n",
       "    <tr>\n",
       "      <td>0</td>\n",
       "      <td>60601</td>\n",
       "      <td>2010</td>\n",
       "      <td>2517</td>\n",
       "      <td>79.856973</td>\n",
       "    </tr>\n",
       "    <tr>\n",
       "      <td>1</td>\n",
       "      <td>60602</td>\n",
       "      <td>856</td>\n",
       "      <td>1099</td>\n",
       "      <td>77.888990</td>\n",
       "    </tr>\n",
       "    <tr>\n",
       "      <td>2</td>\n",
       "      <td>60603</td>\n",
       "      <td>1167</td>\n",
       "      <td>1408</td>\n",
       "      <td>82.883523</td>\n",
       "    </tr>\n",
       "  </tbody>\n",
       "</table>\n",
       "</div>"
      ],
      "text/plain": [
       "     zip  high_risk_count  total_count  percentage\n",
       "0  60601             2010         2517   79.856973\n",
       "1  60602              856         1099   77.888990\n",
       "2  60603             1167         1408   82.883523"
      ]
     },
     "execution_count": 12,
     "metadata": {},
     "output_type": "execute_result"
    }
   ],
   "source": [
    "risk_per_zip = data[['zip','risk_level']]\n",
    "risk_per_zip = data[data['risk_level'] == 1.0 ]\n",
    "\n",
    "# counting the number of facilities per zip code where the risk is high\n",
    "risk_per_zip = pd.DataFrame(risk_per_zip.groupby('zip')['inspection_id'].count())\n",
    "risk_per_zip = risk_per_zip.reset_index()\n",
    "\n",
    "risk_per_zip.rename(columns = {'inspection_id': 'high_risk_count'}, inplace = True)\n",
    "\n",
    "risk_per_zip = pd.merge(risk_per_zip,data_zip, on ='zip')\n",
    "\n",
    "risk_per_zip['percentage'] = risk_per_zip['high_risk_count'].divide(risk_per_zip['total_count'])*100\n",
    "\n",
    "risk_per_zip.head(3)"
   ]
  },
  {
   "cell_type": "code",
   "execution_count": 13,
   "metadata": {},
   "outputs": [
    {
     "data": {
      "text/html": [
       "\n",
       "        <iframe\n",
       "            width=\"700\"\n",
       "            height=\"600\"\n",
       "            src=\"maps/interactif_risk_map.html\"\n",
       "            frameborder=\"0\"\n",
       "            allowfullscreen\n",
       "        ></iframe>\n",
       "        "
      ],
      "text/plain": [
       "<IPython.lib.display.IFrame at 0x1a19ba0290>"
      ]
     },
     "execution_count": 13,
     "metadata": {},
     "output_type": "execute_result"
    }
   ],
   "source": [
    "#Map showing the repartition of average risk level in chicago per zip code\n",
    "\n",
    "# creating our geodataframe based on the basic dataframe\n",
    "gdf = geodataframe(data)\n",
    "gdf.head(3)\n",
    "    \n",
    "style_function = lambda x: {'fillColor': '#ffffff', \n",
    "                            'color':'#000000', \n",
    "                            'fillOpacity': 0.1, \n",
    "                            'weight': 0.1}\n",
    "\n",
    "highlight_function = lambda x: {'fillColor': '#000000', \n",
    "                                'color':'#000000', \n",
    "                                'fillOpacity': 0.50, \n",
    "                                'weight': 0.1}\n",
    "\n",
    "\n",
    "# merge with gdf dataframe  \n",
    "risk_gdf = pd.merge(gdf,risk_per_zip, on = 'zip')\n",
    "\n",
    "risk_map = chlorepleth_map ('Risk proportion',risk_gdf,['zip','percentage'],'Average Risk Level','YlOrRd')\n",
    "\n",
    "# add transparent background\n",
    "folium.TileLayer('CartoDB positron', name = \"Light Map\", control = False).add_to(risk_map)\n",
    "\n",
    "RIL = folium.features.GeoJson(\n",
    "    risk_gdf,\n",
    "    style_function = style_function, \n",
    "    control = False,\n",
    "    highlight_function = highlight_function, \n",
    "    tooltip = folium.features.GeoJsonTooltip(\n",
    "        fields = ['zip','percentage'],\n",
    "        aliases = ['Zip: ','Proportion of facilities associated with high risk :'],\n",
    "        style = (\"background-color: white; color: #333333; font-family: arial; font-size: 12px; padding: 10px;\") \n",
    "    )\n",
    ")\n",
    "risk_map.add_child(RIL)\n",
    "risk_map.keep_in_front(RIL)\n",
    "folium.LayerControl().add_to(risk_map)\n",
    "\n",
    "#risk_map.save('maps/interactif_risk_map.html')\n",
    "IFrame(src = 'maps/interactif_risk_map.html', width = 700, height = 600)"
   ]
  },
  {
   "cell_type": "code",
   "execution_count": 14,
   "metadata": {},
   "outputs": [
    {
     "data": {
      "text/html": [
       "<div>\n",
       "<style scoped>\n",
       "    .dataframe tbody tr th:only-of-type {\n",
       "        vertical-align: middle;\n",
       "    }\n",
       "\n",
       "    .dataframe tbody tr th {\n",
       "        vertical-align: top;\n",
       "    }\n",
       "\n",
       "    .dataframe thead th {\n",
       "        text-align: right;\n",
       "    }\n",
       "</style>\n",
       "<table border=\"1\" class=\"dataframe\">\n",
       "  <thead>\n",
       "    <tr style=\"text-align: right;\">\n",
       "      <th></th>\n",
       "      <th>zip</th>\n",
       "      <th>total number</th>\n",
       "      <th>poisoning number</th>\n",
       "      <th>frequency(%)</th>\n",
       "      <th>high_risk_count</th>\n",
       "      <th>total_count</th>\n",
       "      <th>percentage</th>\n",
       "    </tr>\n",
       "  </thead>\n",
       "  <tbody>\n",
       "    <tr>\n",
       "      <td>0</td>\n",
       "      <td>60601</td>\n",
       "      <td>2517</td>\n",
       "      <td>25</td>\n",
       "      <td>0.993246</td>\n",
       "      <td>2010</td>\n",
       "      <td>2517</td>\n",
       "      <td>79.856973</td>\n",
       "    </tr>\n",
       "    <tr>\n",
       "      <td>1</td>\n",
       "      <td>60602</td>\n",
       "      <td>1099</td>\n",
       "      <td>6</td>\n",
       "      <td>0.545951</td>\n",
       "      <td>856</td>\n",
       "      <td>1099</td>\n",
       "      <td>77.888990</td>\n",
       "    </tr>\n",
       "    <tr>\n",
       "      <td>2</td>\n",
       "      <td>60603</td>\n",
       "      <td>1408</td>\n",
       "      <td>16</td>\n",
       "      <td>1.136364</td>\n",
       "      <td>1167</td>\n",
       "      <td>1408</td>\n",
       "      <td>82.883523</td>\n",
       "    </tr>\n",
       "  </tbody>\n",
       "</table>\n",
       "</div>"
      ],
      "text/plain": [
       "     zip  total number  poisoning number  frequency(%)  high_risk_count  \\\n",
       "0  60601          2517                25      0.993246             2010   \n",
       "1  60602          1099                 6      0.545951              856   \n",
       "2  60603          1408                16      1.136364             1167   \n",
       "\n",
       "   total_count  percentage  \n",
       "0         2517   79.856973  \n",
       "1         1099   77.888990  \n",
       "2         1408   82.883523  "
      ]
     },
     "execution_count": 14,
     "metadata": {},
     "output_type": "execute_result"
    }
   ],
   "source": [
    "# merge with the frequency dataset without central fusion \n",
    "risk_correlation = pd.merge(number_facilities_df,risk_per_zip, on = 'zip')\n",
    "\n",
    "risk_correlation.head(3)"
   ]
  },
  {
   "cell_type": "code",
   "execution_count": 15,
   "metadata": {},
   "outputs": [
    {
     "data": {
      "text/html": [
       "<iframe\n",
       "    scrolling=\"no\"\n",
       "    width=\"720px\"\n",
       "    height=\"720\"\n",
       "    src=\"iframe_figures/figure_15.html\"\n",
       "    frameborder=\"0\"\n",
       "    allowfullscreen\n",
       "></iframe>\n"
      ]
     },
     "metadata": {},
     "output_type": "display_data"
    }
   ],
   "source": [
    "# plotting of bar plot\n",
    "\n",
    "fig = go.Figure()\n",
    "\n",
    "\n",
    "# set up the first trace\n",
    "fig.add_trace(go.Scatter(\n",
    "    x = risk_correlation['percentage'],\n",
    "    y = risk_correlation['frequency(%)'],\n",
    "    visible = True,\n",
    "    marker_color='maroon',\n",
    "    mode = 'markers',\n",
    "    text = risk_correlation['zip']\n",
    "                )\n",
    "             )\n",
    "\n",
    "# adding trace for website\n",
    "fig.add_trace(go.Scatter(\n",
    "    x = [43.8, 45.8, 45.8, 43.8, 43.8],\n",
    "    y = [1.18, 1.18, 1.11, 1.11, 1.18],\n",
    "    mode = \"lines\",\n",
    "    line = go.scatter.Line(color = \"red\"),\n",
    "    showlegend = False))\n",
    "\n",
    "fig.layout.update(\n",
    "    autosize = False,\n",
    "    width = 700,\n",
    "    height = 700,\n",
    "    template = \"plotly_white\",\n",
    "    #paper_bgcolor='#333'\n",
    ")\n",
    "\n",
    "fig.layout.update(\n",
    "    title = go.layout.Title(\n",
    "        text = 'Poisoning inspections and facilities associated with high risk',\n",
    "        y = 0.9,\n",
    "        x = 0.5,\n",
    "        xanchor = 'center',\n",
    "        yanchor = 'top',\n",
    "    ),\n",
    "    yaxis = dict(\n",
    "        title = 'Percentage of facilities inspected for food poisoning',\n",
    "        titlefont_size = 14\n",
    "    ),\n",
    "    xaxis = dict(\n",
    "        title = 'Percentage of high risk facilities per zip code',\n",
    "        titlefont_size = 14\n",
    "    ),\n",
    "    showlegend = False\n",
    ")\n",
    "\n",
    "fig.show()"
   ]
  },
  {
   "cell_type": "markdown",
   "metadata": {},
   "source": [
    "focus only on 60827 (haut poisoning percentage et bas risk ) , 60621 et 60656 (bas poisoning higgh risk level facilities et 60611 reflete max correlation .\n",
    "Obervations : \n",
    "> 60827 : low high risk proportion , low number of sanitation violations but high number of food poisoning and number of failed inspections. Why ? cf datastory of Riverdale "
   ]
  },
  {
   "cell_type": "code",
   "execution_count": 16,
   "metadata": {},
   "outputs": [
    {
     "name": "stdout",
     "output_type": "stream",
     "text": [
      "The spearman coefficient is :  SpearmanrResult(correlation=0.37760421370164654, pvalue=0.0044815939194058916)\n"
     ]
    },
    {
     "data": {
      "text/html": [
       "<iframe\n",
       "    scrolling=\"no\"\n",
       "    width=\"720px\"\n",
       "    height=\"720\"\n",
       "    src=\"iframe_figures/figure_16.html\"\n",
       "    frameborder=\"0\"\n",
       "    allowfullscreen\n",
       "></iframe>\n"
      ]
     },
     "metadata": {},
     "output_type": "display_data"
    }
   ],
   "source": [
    "# we remove 'outliers'\n",
    "outliers = ['60827','60656','60611']\n",
    "\n",
    "risk_correlation_without_outliers = risk_correlation.query('zip != @outliers')\n",
    "\n",
    "#spearman coeff \n",
    "print('The spearman coefficient is : ',stats.spearmanr(risk_correlation_without_outliers['percentage'],risk_correlation_without_outliers['frequency(%)']))\n",
    "\n",
    "\n",
    "fig = go.Figure()\n",
    "\n",
    "\n",
    "# set up the first trace\n",
    "fig.add_trace(go.Scatter(\n",
    "    x = risk_correlation_without_outliers['percentage'],\n",
    "    y = risk_correlation_without_outliers['frequency(%)'],\n",
    "    visible = True,\n",
    "    marker_color='maroon',\n",
    "    mode = 'markers',\n",
    "    text = risk_correlation_without_outliers['zip']\n",
    "                )\n",
    "             )\n",
    "\n",
    "fig.layout.update(\n",
    "    autosize = False,\n",
    "    width = 700,\n",
    "    height = 700,\n",
    "    template = \"plotly_white\",\n",
    "    #paper_bgcolor='#333'\n",
    ")\n",
    "\n",
    "fig.layout.update(\n",
    "    title = go.layout.Title(\n",
    "        text = 'Poisoning inspections and facilities associated with high risk',\n",
    "        y = 0.9,\n",
    "        x = 0.5,\n",
    "        xanchor = 'center',\n",
    "        yanchor = 'top',\n",
    "    ),\n",
    "    yaxis = dict(\n",
    "        title = 'Percentage of facilities inspected for food poisoning',\n",
    "        titlefont_size = 14\n",
    "    ),\n",
    "    xaxis = dict(\n",
    "        title = 'Percentage of high risk facilities per zip code',\n",
    "        titlefont_size = 14\n",
    "    )\n",
    ")\n",
    "\n",
    "fig.show()"
   ]
  },
  {
   "cell_type": "markdown",
   "metadata": {},
   "source": [
    "# FAILURE AND POISONING "
   ]
  },
  {
   "cell_type": "code",
   "execution_count": 17,
   "metadata": {},
   "outputs": [
    {
     "data": {
      "text/html": [
       "<div>\n",
       "<style scoped>\n",
       "    .dataframe tbody tr th:only-of-type {\n",
       "        vertical-align: middle;\n",
       "    }\n",
       "\n",
       "    .dataframe tbody tr th {\n",
       "        vertical-align: top;\n",
       "    }\n",
       "\n",
       "    .dataframe thead th {\n",
       "        text-align: right;\n",
       "    }\n",
       "</style>\n",
       "<table border=\"1\" class=\"dataframe\">\n",
       "  <thead>\n",
       "    <tr style=\"text-align: right;\">\n",
       "      <th></th>\n",
       "      <th>inspection_id</th>\n",
       "      <th>dba_name</th>\n",
       "      <th>aka_name</th>\n",
       "      <th>license</th>\n",
       "      <th>facility_type</th>\n",
       "      <th>risk</th>\n",
       "      <th>address</th>\n",
       "      <th>zip</th>\n",
       "      <th>inspection_date</th>\n",
       "      <th>inspection_type</th>\n",
       "      <th>violations</th>\n",
       "      <th>latitude</th>\n",
       "      <th>longitude</th>\n",
       "      <th>location</th>\n",
       "      <th>risk_level</th>\n",
       "    </tr>\n",
       "    <tr>\n",
       "      <th>results</th>\n",
       "      <th></th>\n",
       "      <th></th>\n",
       "      <th></th>\n",
       "      <th></th>\n",
       "      <th></th>\n",
       "      <th></th>\n",
       "      <th></th>\n",
       "      <th></th>\n",
       "      <th></th>\n",
       "      <th></th>\n",
       "      <th></th>\n",
       "      <th></th>\n",
       "      <th></th>\n",
       "      <th></th>\n",
       "      <th></th>\n",
       "    </tr>\n",
       "  </thead>\n",
       "  <tbody>\n",
       "    <tr>\n",
       "      <td>Fail</td>\n",
       "      <td>214</td>\n",
       "      <td>214</td>\n",
       "      <td>214</td>\n",
       "      <td>214</td>\n",
       "      <td>214</td>\n",
       "      <td>214</td>\n",
       "      <td>214</td>\n",
       "      <td>214</td>\n",
       "      <td>214</td>\n",
       "      <td>214</td>\n",
       "      <td>211</td>\n",
       "      <td>214</td>\n",
       "      <td>214</td>\n",
       "      <td>214</td>\n",
       "      <td>214</td>\n",
       "    </tr>\n",
       "    <tr>\n",
       "      <td>Pass</td>\n",
       "      <td>394</td>\n",
       "      <td>394</td>\n",
       "      <td>392</td>\n",
       "      <td>394</td>\n",
       "      <td>394</td>\n",
       "      <td>394</td>\n",
       "      <td>394</td>\n",
       "      <td>394</td>\n",
       "      <td>394</td>\n",
       "      <td>394</td>\n",
       "      <td>377</td>\n",
       "      <td>394</td>\n",
       "      <td>394</td>\n",
       "      <td>394</td>\n",
       "      <td>394</td>\n",
       "    </tr>\n",
       "    <tr>\n",
       "      <td>Pass w/ Conditions</td>\n",
       "      <td>231</td>\n",
       "      <td>231</td>\n",
       "      <td>230</td>\n",
       "      <td>231</td>\n",
       "      <td>231</td>\n",
       "      <td>231</td>\n",
       "      <td>231</td>\n",
       "      <td>231</td>\n",
       "      <td>231</td>\n",
       "      <td>231</td>\n",
       "      <td>230</td>\n",
       "      <td>231</td>\n",
       "      <td>231</td>\n",
       "      <td>231</td>\n",
       "      <td>231</td>\n",
       "    </tr>\n",
       "  </tbody>\n",
       "</table>\n",
       "</div>"
      ],
      "text/plain": [
       "                    inspection_id  dba_name  aka_name  license  facility_type  \\\n",
       "results                                                                         \n",
       "Fail                          214       214       214      214            214   \n",
       "Pass                          394       394       392      394            394   \n",
       "Pass w/ Conditions            231       231       230      231            231   \n",
       "\n",
       "                    risk  address  zip  inspection_date  inspection_type  \\\n",
       "results                                                                    \n",
       "Fail                 214      214  214              214              214   \n",
       "Pass                 394      394  394              394              394   \n",
       "Pass w/ Conditions   231      231  231              231              231   \n",
       "\n",
       "                    violations  latitude  longitude  location  risk_level  \n",
       "results                                                                    \n",
       "Fail                       211       214        214       214         214  \n",
       "Pass                       377       394        394       394         394  \n",
       "Pass w/ Conditions         230       231        231       231         231  "
      ]
     },
     "execution_count": 17,
     "metadata": {},
     "output_type": "execute_result"
    }
   ],
   "source": [
    "# create bars\n",
    "results_count = list(poisoning_data.groupby('results')['inspection_id'].count())\n",
    "total = len(poisoning_data)\n",
    "percentage = [ (a/total)*100 for a in results_count]\n",
    "\n",
    "poisoning_data.groupby('results').count()"
   ]
  },
  {
   "cell_type": "code",
   "execution_count": 44,
   "metadata": {
    "scrolled": true
   },
   "outputs": [
    {
     "data": {
      "text/html": [
       "<iframe\n",
       "    scrolling=\"no\"\n",
       "    width=\"420px\"\n",
       "    height=\"420\"\n",
       "    src=\"iframe_figures/figure_73.html\"\n",
       "    frameborder=\"0\"\n",
       "    allowfullscreen\n",
       "></iframe>\n"
      ]
     },
     "metadata": {},
     "output_type": "display_data"
    }
   ],
   "source": [
    "bars = ['Fail','Pass','Pass w/ Conditions ']\n",
    "\n",
    "\n",
    "\n",
    "fig = go.Figure()\n",
    "\n",
    "\n",
    "# set up the first trace\n",
    "fig.add_trace(go.Bar(\n",
    "                    x = bars,\n",
    "                    y = percentage,\n",
    "                    visible = True,\n",
    "                    marker_color='maroon'\n",
    "                    \n",
    "                )\n",
    "             )\n",
    "\n",
    "fig.layout.update(\n",
    "    autosize = False,\n",
    "    width = 400,\n",
    "    height = 400,\n",
    "    template = \"plotly_white\",\n",
    "    #paper_bgcolor='#333'\n",
    ")\n",
    "\n",
    "fig.layout.update(\n",
    "    title = go.layout.Title(\n",
    "        text = 'Inspections due to suspected food poisoning',\n",
    "        y = 0.9,\n",
    "        x = 0.5,\n",
    "        xanchor = 'center',\n",
    "        yanchor = 'top',\n",
    "    ),\n",
    "    yaxis = dict(\n",
    "        title = 'Percentage %',\n",
    "        titlefont_size = 14\n",
    "    ),\n",
    "    xaxis = dict(\n",
    "        title = 'Inspection results',\n",
    "        titlefont_size = 14\n",
    "    )\n",
    ")\n",
    "\n",
    "fig.show()"
   ]
  },
  {
   "cell_type": "markdown",
   "metadata": {},
   "source": [
    "Main conclusion : we can't use the inspection results in order to assess food safety within a facility. We need to investigate more to understand what factors may cause foodborn illness."
   ]
  }
 ],
 "metadata": {
  "kernelspec": {
   "display_name": "Python 3",
   "language": "python",
   "name": "python3"
  },
  "language_info": {
   "codemirror_mode": {
    "name": "ipython",
    "version": 3
   },
   "file_extension": ".py",
   "mimetype": "text/x-python",
   "name": "python",
   "nbconvert_exporter": "python",
   "pygments_lexer": "ipython3",
   "version": "3.7.4"
  }
 },
 "nbformat": 4,
 "nbformat_minor": 2
}
