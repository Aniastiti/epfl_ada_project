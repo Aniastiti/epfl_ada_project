{
 "cells": [
  {
   "cell_type": "code",
   "execution_count": 1,
   "metadata": {},
   "outputs": [],
   "source": [
    "import re\n",
    "import warnings\n",
    "import pandas as pd\n",
    "import numpy as np\n",
    "import matplotlib.pyplot as plt\n",
    "\n",
    "warnings.filterwarnings('ignore')"
   ]
  },
  {
   "cell_type": "markdown",
   "metadata": {},
   "source": [
    "# Data Cleaning "
   ]
  },
  {
   "cell_type": "code",
   "execution_count": 3,
   "metadata": {},
   "outputs": [
    {
     "data": {
      "text/html": [
       "<div>\n",
       "<style scoped>\n",
       "    .dataframe tbody tr th:only-of-type {\n",
       "        vertical-align: middle;\n",
       "    }\n",
       "\n",
       "    .dataframe tbody tr th {\n",
       "        vertical-align: top;\n",
       "    }\n",
       "\n",
       "    .dataframe thead th {\n",
       "        text-align: right;\n",
       "    }\n",
       "</style>\n",
       "<table border=\"1\" class=\"dataframe\">\n",
       "  <thead>\n",
       "    <tr style=\"text-align: right;\">\n",
       "      <th></th>\n",
       "      <th>Inspection ID</th>\n",
       "      <th>DBA Name</th>\n",
       "      <th>AKA Name</th>\n",
       "      <th>License #</th>\n",
       "      <th>Facility Type</th>\n",
       "      <th>Risk</th>\n",
       "      <th>Address</th>\n",
       "      <th>City</th>\n",
       "      <th>State</th>\n",
       "      <th>Zip</th>\n",
       "      <th>...</th>\n",
       "      <th>Results</th>\n",
       "      <th>Violations</th>\n",
       "      <th>Latitude</th>\n",
       "      <th>Longitude</th>\n",
       "      <th>Location</th>\n",
       "      <th>Historical Wards 2003-2015</th>\n",
       "      <th>Zip Codes</th>\n",
       "      <th>Community Areas</th>\n",
       "      <th>Census Tracts</th>\n",
       "      <th>Wards</th>\n",
       "    </tr>\n",
       "  </thead>\n",
       "  <tbody>\n",
       "    <tr>\n",
       "      <th>0</th>\n",
       "      <td>2346127</td>\n",
       "      <td>CREPE HOUSE CAFE</td>\n",
       "      <td>CREPE HOUSE CAFE</td>\n",
       "      <td>2637127.0</td>\n",
       "      <td>Restaurant</td>\n",
       "      <td>Risk 1 (High)</td>\n",
       "      <td>5033 N ELSTON AVE</td>\n",
       "      <td>CHICAGO</td>\n",
       "      <td>IL</td>\n",
       "      <td>60630.0</td>\n",
       "      <td>...</td>\n",
       "      <td>Pass</td>\n",
       "      <td>NaN</td>\n",
       "      <td>41.972349</td>\n",
       "      <td>-87.746825</td>\n",
       "      <td>{'latitude': '-87.74682508578468', 'longitude'...</td>\n",
       "      <td>NaN</td>\n",
       "      <td>NaN</td>\n",
       "      <td>NaN</td>\n",
       "      <td>NaN</td>\n",
       "      <td>NaN</td>\n",
       "    </tr>\n",
       "    <tr>\n",
       "      <th>1</th>\n",
       "      <td>2346148</td>\n",
       "      <td>EDIBLE ARRANGEMENTS #1250</td>\n",
       "      <td>EDIBLE ARRANGEMENTS #1250</td>\n",
       "      <td>2703497.0</td>\n",
       "      <td>Restaurant</td>\n",
       "      <td>Risk 2 (Medium)</td>\n",
       "      <td>1783 W HOWARD ST</td>\n",
       "      <td>CHICAGO</td>\n",
       "      <td>IL</td>\n",
       "      <td>60626.0</td>\n",
       "      <td>...</td>\n",
       "      <td>Pass w/ Conditions</td>\n",
       "      <td>3. MANAGEMENT, FOOD EMPLOYEE AND CONDITIONAL E...</td>\n",
       "      <td>42.019290</td>\n",
       "      <td>-87.675802</td>\n",
       "      <td>{'latitude': '-87.67580161669515', 'longitude'...</td>\n",
       "      <td>NaN</td>\n",
       "      <td>NaN</td>\n",
       "      <td>NaN</td>\n",
       "      <td>NaN</td>\n",
       "      <td>NaN</td>\n",
       "    </tr>\n",
       "    <tr>\n",
       "      <th>2</th>\n",
       "      <td>2346153</td>\n",
       "      <td>PINK'S CHILD CARE ACADEMY III</td>\n",
       "      <td>PINK'S CHILD CARE ACADEMY III</td>\n",
       "      <td>2215653.0</td>\n",
       "      <td>Daycare Combo 1586</td>\n",
       "      <td>Risk 1 (High)</td>\n",
       "      <td>2914 W 87TH ST</td>\n",
       "      <td>CHICAGO</td>\n",
       "      <td>IL</td>\n",
       "      <td>60652.0</td>\n",
       "      <td>...</td>\n",
       "      <td>No Entry</td>\n",
       "      <td>NaN</td>\n",
       "      <td>41.735418</td>\n",
       "      <td>-87.695297</td>\n",
       "      <td>{'latitude': '-87.69529667271209', 'longitude'...</td>\n",
       "      <td>NaN</td>\n",
       "      <td>NaN</td>\n",
       "      <td>NaN</td>\n",
       "      <td>NaN</td>\n",
       "      <td>NaN</td>\n",
       "    </tr>\n",
       "  </tbody>\n",
       "</table>\n",
       "<p>3 rows × 22 columns</p>\n",
       "</div>"
      ],
      "text/plain": [
       "   Inspection ID                       DBA Name  \\\n",
       "0        2346127               CREPE HOUSE CAFE   \n",
       "1        2346148      EDIBLE ARRANGEMENTS #1250   \n",
       "2        2346153  PINK'S CHILD CARE ACADEMY III   \n",
       "\n",
       "                        AKA Name  License #       Facility Type  \\\n",
       "0               CREPE HOUSE CAFE  2637127.0          Restaurant   \n",
       "1      EDIBLE ARRANGEMENTS #1250  2703497.0          Restaurant   \n",
       "2  PINK'S CHILD CARE ACADEMY III  2215653.0  Daycare Combo 1586   \n",
       "\n",
       "              Risk             Address     City State      Zip  ...  \\\n",
       "0    Risk 1 (High)  5033 N ELSTON AVE   CHICAGO    IL  60630.0  ...   \n",
       "1  Risk 2 (Medium)   1783 W HOWARD ST   CHICAGO    IL  60626.0  ...   \n",
       "2    Risk 1 (High)     2914 W 87TH ST   CHICAGO    IL  60652.0  ...   \n",
       "\n",
       "              Results                                         Violations  \\\n",
       "0                Pass                                                NaN   \n",
       "1  Pass w/ Conditions  3. MANAGEMENT, FOOD EMPLOYEE AND CONDITIONAL E...   \n",
       "2            No Entry                                                NaN   \n",
       "\n",
       "    Latitude  Longitude                                           Location  \\\n",
       "0  41.972349 -87.746825  {'latitude': '-87.74682508578468', 'longitude'...   \n",
       "1  42.019290 -87.675802  {'latitude': '-87.67580161669515', 'longitude'...   \n",
       "2  41.735418 -87.695297  {'latitude': '-87.69529667271209', 'longitude'...   \n",
       "\n",
       "   Historical Wards 2003-2015 Zip Codes  Community Areas  Census Tracts  Wards  \n",
       "0                         NaN       NaN              NaN            NaN    NaN  \n",
       "1                         NaN       NaN              NaN            NaN    NaN  \n",
       "2                         NaN       NaN              NaN            NaN    NaN  \n",
       "\n",
       "[3 rows x 22 columns]"
      ]
     },
     "metadata": {},
     "output_type": "display_data"
    }
   ],
   "source": [
    "# opening the data\n",
    "data = pd.read_csv('data/food-inspections.csv', delimiter = ',')\n",
    "\n",
    "display(data.head(3))"
   ]
  },
  {
   "cell_type": "markdown",
   "metadata": {},
   "source": [
    "### 1 - General cleaning"
   ]
  },
  {
   "cell_type": "markdown",
   "metadata": {},
   "source": [
    "In this first part, we will do general cleaning : homogenize the format of our dataframe and remove the duplicates, empty columns, NA values and null values."
   ]
  },
  {
   "cell_type": "code",
   "execution_count": 4,
   "metadata": {
    "scrolled": true
   },
   "outputs": [
    {
     "data": {
      "text/html": [
       "<div>\n",
       "<style scoped>\n",
       "    .dataframe tbody tr th:only-of-type {\n",
       "        vertical-align: middle;\n",
       "    }\n",
       "\n",
       "    .dataframe tbody tr th {\n",
       "        vertical-align: top;\n",
       "    }\n",
       "\n",
       "    .dataframe thead th {\n",
       "        text-align: right;\n",
       "    }\n",
       "</style>\n",
       "<table border=\"1\" class=\"dataframe\">\n",
       "  <thead>\n",
       "    <tr style=\"text-align: right;\">\n",
       "      <th></th>\n",
       "      <th>Inspection ID</th>\n",
       "      <th>DBA Name</th>\n",
       "      <th>AKA Name</th>\n",
       "      <th>License #</th>\n",
       "      <th>Facility Type</th>\n",
       "      <th>Risk</th>\n",
       "      <th>Address</th>\n",
       "      <th>City</th>\n",
       "      <th>State</th>\n",
       "      <th>Zip</th>\n",
       "      <th>Inspection Date</th>\n",
       "      <th>Inspection Type</th>\n",
       "      <th>Results</th>\n",
       "      <th>Violations</th>\n",
       "      <th>Latitude</th>\n",
       "      <th>Longitude</th>\n",
       "      <th>Location</th>\n",
       "    </tr>\n",
       "  </thead>\n",
       "  <tbody>\n",
       "    <tr>\n",
       "      <th>0</th>\n",
       "      <td>2346127</td>\n",
       "      <td>CREPE HOUSE CAFE</td>\n",
       "      <td>CREPE HOUSE CAFE</td>\n",
       "      <td>2637127.0</td>\n",
       "      <td>Restaurant</td>\n",
       "      <td>Risk 1 (High)</td>\n",
       "      <td>5033 N ELSTON AVE</td>\n",
       "      <td>CHICAGO</td>\n",
       "      <td>IL</td>\n",
       "      <td>60630.0</td>\n",
       "      <td>2019-11-22T00:00:00.000</td>\n",
       "      <td>Canvass Re-Inspection</td>\n",
       "      <td>Pass</td>\n",
       "      <td>NaN</td>\n",
       "      <td>41.972349</td>\n",
       "      <td>-87.746825</td>\n",
       "      <td>{'latitude': '-87.74682508578468', 'longitude'...</td>\n",
       "    </tr>\n",
       "    <tr>\n",
       "      <th>1</th>\n",
       "      <td>2346148</td>\n",
       "      <td>EDIBLE ARRANGEMENTS #1250</td>\n",
       "      <td>EDIBLE ARRANGEMENTS #1250</td>\n",
       "      <td>2703497.0</td>\n",
       "      <td>Restaurant</td>\n",
       "      <td>Risk 2 (Medium)</td>\n",
       "      <td>1783 W HOWARD ST</td>\n",
       "      <td>CHICAGO</td>\n",
       "      <td>IL</td>\n",
       "      <td>60626.0</td>\n",
       "      <td>2019-11-22T00:00:00.000</td>\n",
       "      <td>License</td>\n",
       "      <td>Pass w/ Conditions</td>\n",
       "      <td>3. MANAGEMENT, FOOD EMPLOYEE AND CONDITIONAL E...</td>\n",
       "      <td>42.019290</td>\n",
       "      <td>-87.675802</td>\n",
       "      <td>{'latitude': '-87.67580161669515', 'longitude'...</td>\n",
       "    </tr>\n",
       "    <tr>\n",
       "      <th>2</th>\n",
       "      <td>2346153</td>\n",
       "      <td>PINK'S CHILD CARE ACADEMY III</td>\n",
       "      <td>PINK'S CHILD CARE ACADEMY III</td>\n",
       "      <td>2215653.0</td>\n",
       "      <td>Daycare Combo 1586</td>\n",
       "      <td>Risk 1 (High)</td>\n",
       "      <td>2914 W 87TH ST</td>\n",
       "      <td>CHICAGO</td>\n",
       "      <td>IL</td>\n",
       "      <td>60652.0</td>\n",
       "      <td>2019-11-22T00:00:00.000</td>\n",
       "      <td>Canvass</td>\n",
       "      <td>No Entry</td>\n",
       "      <td>NaN</td>\n",
       "      <td>41.735418</td>\n",
       "      <td>-87.695297</td>\n",
       "      <td>{'latitude': '-87.69529667271209', 'longitude'...</td>\n",
       "    </tr>\n",
       "  </tbody>\n",
       "</table>\n",
       "</div>"
      ],
      "text/plain": [
       "   Inspection ID                       DBA Name  \\\n",
       "0        2346127               CREPE HOUSE CAFE   \n",
       "1        2346148      EDIBLE ARRANGEMENTS #1250   \n",
       "2        2346153  PINK'S CHILD CARE ACADEMY III   \n",
       "\n",
       "                        AKA Name  License #       Facility Type  \\\n",
       "0               CREPE HOUSE CAFE  2637127.0          Restaurant   \n",
       "1      EDIBLE ARRANGEMENTS #1250  2703497.0          Restaurant   \n",
       "2  PINK'S CHILD CARE ACADEMY III  2215653.0  Daycare Combo 1586   \n",
       "\n",
       "              Risk             Address     City State      Zip  \\\n",
       "0    Risk 1 (High)  5033 N ELSTON AVE   CHICAGO    IL  60630.0   \n",
       "1  Risk 2 (Medium)   1783 W HOWARD ST   CHICAGO    IL  60626.0   \n",
       "2    Risk 1 (High)     2914 W 87TH ST   CHICAGO    IL  60652.0   \n",
       "\n",
       "           Inspection Date        Inspection Type             Results  \\\n",
       "0  2019-11-22T00:00:00.000  Canvass Re-Inspection                Pass   \n",
       "1  2019-11-22T00:00:00.000                License  Pass w/ Conditions   \n",
       "2  2019-11-22T00:00:00.000                Canvass            No Entry   \n",
       "\n",
       "                                          Violations   Latitude  Longitude  \\\n",
       "0                                                NaN  41.972349 -87.746825   \n",
       "1  3. MANAGEMENT, FOOD EMPLOYEE AND CONDITIONAL E...  42.019290 -87.675802   \n",
       "2                                                NaN  41.735418 -87.695297   \n",
       "\n",
       "                                            Location  \n",
       "0  {'latitude': '-87.74682508578468', 'longitude'...  \n",
       "1  {'latitude': '-87.67580161669515', 'longitude'...  \n",
       "2  {'latitude': '-87.69529667271209', 'longitude'...  "
      ]
     },
     "metadata": {},
     "output_type": "display_data"
    }
   ],
   "source": [
    "# drop all the empty columns\n",
    "data.drop(['Historical Wards 2003-2015', 'Zip Codes', 'Community Areas','Census Tracts','Wards'], axis = 1, inplace = True)\n",
    "\n",
    "# show the dataframe\n",
    "display(data.head(3))"
   ]
  },
  {
   "cell_type": "markdown",
   "metadata": {},
   "source": [
    "> We can create a function that standardize columns format in order to make the data more friendly to use. It fills empty space with '_' and lower case all the letters ."
   ]
  },
  {
   "cell_type": "code",
   "execution_count": 5,
   "metadata": {},
   "outputs": [
    {
     "data": {
      "text/plain": [
       "Index(['inspection_id', 'dba_name', 'aka_name', 'license', 'facility_type',\n",
       "       'risk', 'address', 'city', 'state', 'zip', 'inspection_date',\n",
       "       'inspection_type', 'results', 'violations', 'latitude', 'longitude',\n",
       "       'location'],\n",
       "      dtype='object')"
      ]
     },
     "metadata": {},
     "output_type": "display_data"
    }
   ],
   "source": [
    "def standardize(column):\n",
    "    '''\n",
    "    standardize columns as lower case and empty space represented as '_'\n",
    "    \n",
    "    Parameters\n",
    "    ----------\n",
    "    column: str\n",
    "        column name to be standardized\n",
    "    \n",
    "    Returns\n",
    "    -------\n",
    "    column: str\n",
    "        column name after standardisation\n",
    "    '''\n",
    "    \n",
    "    column = column.replace(\"#\", \"\")\n",
    "    column = column.lower().replace(\" \", \"_\")\n",
    "    \n",
    "    if len(column) > 1:\n",
    "        if column[-1] == \"_\":\n",
    "            return column[:-1]\n",
    "    return column\n",
    "\n",
    "# application of the function to the dataset\n",
    "data.columns = [standardize(x) for x in data.columns]\n",
    "\n",
    "display(data.columns)\n"
   ]
  },
  {
   "cell_type": "markdown",
   "metadata": {},
   "source": [
    "> We need to check if the inspection ID is unique. If it is not the case, we need to remove the duplicates as an ID refers to an unique inspection."
   ]
  },
  {
   "cell_type": "code",
   "execution_count": 6,
   "metadata": {},
   "outputs": [
    {
     "data": {
      "text/plain": [
       "False"
      ]
     },
     "metadata": {},
     "output_type": "display_data"
    }
   ],
   "source": [
    "# check is the inspection ID is unique\n",
    "display(data['inspection_id'].is_unique)"
   ]
  },
  {
   "cell_type": "code",
   "execution_count": 7,
   "metadata": {},
   "outputs": [
    {
     "data": {
      "text/plain": [
       "True"
      ]
     },
     "metadata": {},
     "output_type": "display_data"
    }
   ],
   "source": [
    "# removing the duplicates \n",
    "data.drop_duplicates('inspection_id', inplace=True)\n",
    "\n",
    "# check if all the duplicates were removed \n",
    "display(data['inspection_id'].is_unique)"
   ]
  },
  {
   "cell_type": "markdown",
   "metadata": {},
   "source": [
    "> We need to remove all the NA values since we can't use this kind of information. But we need to remove them only from particular column ( as an example, the NA is the  violations columns only means that there were no violations so we need to keep it)."
   ]
  },
  {
   "cell_type": "code",
   "execution_count": 8,
   "metadata": {},
   "outputs": [],
   "source": [
    "# remove NA values from relevent columns\n",
    "data.dropna(subset=['inspection_date','license','latitude','longitude','inspection_type'], inplace = True)"
   ]
  },
  {
   "cell_type": "markdown",
   "metadata": {},
   "source": [
    "> If we explore the license numbers, we find that there are some null license number. We need to remove them."
   ]
  },
  {
   "cell_type": "code",
   "execution_count": 9,
   "metadata": {},
   "outputs": [],
   "source": [
    "# drop \"0.0\" licenses\n",
    "data = data[data.license != 0.0]"
   ]
  },
  {
   "cell_type": "markdown",
   "metadata": {},
   "source": [
    "### 2 - Cleaning the column *inspection_date*"
   ]
  },
  {
   "cell_type": "markdown",
   "metadata": {},
   "source": [
    "We need to remove the time of inspection (useless information) in order to clean the inspection date column."
   ]
  },
  {
   "cell_type": "code",
   "execution_count": 10,
   "metadata": {
    "scrolled": true
   },
   "outputs": [
    {
     "data": {
      "text/html": [
       "<div>\n",
       "<style scoped>\n",
       "    .dataframe tbody tr th:only-of-type {\n",
       "        vertical-align: middle;\n",
       "    }\n",
       "\n",
       "    .dataframe tbody tr th {\n",
       "        vertical-align: top;\n",
       "    }\n",
       "\n",
       "    .dataframe thead th {\n",
       "        text-align: right;\n",
       "    }\n",
       "</style>\n",
       "<table border=\"1\" class=\"dataframe\">\n",
       "  <thead>\n",
       "    <tr style=\"text-align: right;\">\n",
       "      <th></th>\n",
       "      <th>inspection_id</th>\n",
       "      <th>dba_name</th>\n",
       "      <th>aka_name</th>\n",
       "      <th>license</th>\n",
       "      <th>facility_type</th>\n",
       "      <th>risk</th>\n",
       "      <th>address</th>\n",
       "      <th>city</th>\n",
       "      <th>state</th>\n",
       "      <th>zip</th>\n",
       "      <th>inspection_date</th>\n",
       "      <th>inspection_type</th>\n",
       "      <th>results</th>\n",
       "      <th>violations</th>\n",
       "      <th>latitude</th>\n",
       "      <th>longitude</th>\n",
       "      <th>location</th>\n",
       "    </tr>\n",
       "  </thead>\n",
       "  <tbody>\n",
       "    <tr>\n",
       "      <th>0</th>\n",
       "      <td>2346127</td>\n",
       "      <td>CREPE HOUSE CAFE</td>\n",
       "      <td>CREPE HOUSE CAFE</td>\n",
       "      <td>2637127.0</td>\n",
       "      <td>Restaurant</td>\n",
       "      <td>Risk 1 (High)</td>\n",
       "      <td>5033 N ELSTON AVE</td>\n",
       "      <td>CHICAGO</td>\n",
       "      <td>IL</td>\n",
       "      <td>60630.0</td>\n",
       "      <td>2019-11-22</td>\n",
       "      <td>Canvass Re-Inspection</td>\n",
       "      <td>Pass</td>\n",
       "      <td>NaN</td>\n",
       "      <td>41.972349</td>\n",
       "      <td>-87.746825</td>\n",
       "      <td>{'latitude': '-87.74682508578468', 'longitude'...</td>\n",
       "    </tr>\n",
       "    <tr>\n",
       "      <th>1</th>\n",
       "      <td>2346148</td>\n",
       "      <td>EDIBLE ARRANGEMENTS #1250</td>\n",
       "      <td>EDIBLE ARRANGEMENTS #1250</td>\n",
       "      <td>2703497.0</td>\n",
       "      <td>Restaurant</td>\n",
       "      <td>Risk 2 (Medium)</td>\n",
       "      <td>1783 W HOWARD ST</td>\n",
       "      <td>CHICAGO</td>\n",
       "      <td>IL</td>\n",
       "      <td>60626.0</td>\n",
       "      <td>2019-11-22</td>\n",
       "      <td>License</td>\n",
       "      <td>Pass w/ Conditions</td>\n",
       "      <td>3. MANAGEMENT, FOOD EMPLOYEE AND CONDITIONAL E...</td>\n",
       "      <td>42.019290</td>\n",
       "      <td>-87.675802</td>\n",
       "      <td>{'latitude': '-87.67580161669515', 'longitude'...</td>\n",
       "    </tr>\n",
       "    <tr>\n",
       "      <th>2</th>\n",
       "      <td>2346153</td>\n",
       "      <td>PINK'S CHILD CARE ACADEMY III</td>\n",
       "      <td>PINK'S CHILD CARE ACADEMY III</td>\n",
       "      <td>2215653.0</td>\n",
       "      <td>Daycare Combo 1586</td>\n",
       "      <td>Risk 1 (High)</td>\n",
       "      <td>2914 W 87TH ST</td>\n",
       "      <td>CHICAGO</td>\n",
       "      <td>IL</td>\n",
       "      <td>60652.0</td>\n",
       "      <td>2019-11-22</td>\n",
       "      <td>Canvass</td>\n",
       "      <td>No Entry</td>\n",
       "      <td>NaN</td>\n",
       "      <td>41.735418</td>\n",
       "      <td>-87.695297</td>\n",
       "      <td>{'latitude': '-87.69529667271209', 'longitude'...</td>\n",
       "    </tr>\n",
       "  </tbody>\n",
       "</table>\n",
       "</div>"
      ],
      "text/plain": [
       "   inspection_id                       dba_name  \\\n",
       "0        2346127               CREPE HOUSE CAFE   \n",
       "1        2346148      EDIBLE ARRANGEMENTS #1250   \n",
       "2        2346153  PINK'S CHILD CARE ACADEMY III   \n",
       "\n",
       "                        aka_name    license       facility_type  \\\n",
       "0               CREPE HOUSE CAFE  2637127.0          Restaurant   \n",
       "1      EDIBLE ARRANGEMENTS #1250  2703497.0          Restaurant   \n",
       "2  PINK'S CHILD CARE ACADEMY III  2215653.0  Daycare Combo 1586   \n",
       "\n",
       "              risk             address     city state      zip  \\\n",
       "0    Risk 1 (High)  5033 N ELSTON AVE   CHICAGO    IL  60630.0   \n",
       "1  Risk 2 (Medium)   1783 W HOWARD ST   CHICAGO    IL  60626.0   \n",
       "2    Risk 1 (High)     2914 W 87TH ST   CHICAGO    IL  60652.0   \n",
       "\n",
       "  inspection_date        inspection_type             results  \\\n",
       "0      2019-11-22  Canvass Re-Inspection                Pass   \n",
       "1      2019-11-22                License  Pass w/ Conditions   \n",
       "2      2019-11-22                Canvass            No Entry   \n",
       "\n",
       "                                          violations   latitude  longitude  \\\n",
       "0                                                NaN  41.972349 -87.746825   \n",
       "1  3. MANAGEMENT, FOOD EMPLOYEE AND CONDITIONAL E...  42.019290 -87.675802   \n",
       "2                                                NaN  41.735418 -87.695297   \n",
       "\n",
       "                                            location  \n",
       "0  {'latitude': '-87.74682508578468', 'longitude'...  \n",
       "1  {'latitude': '-87.67580161669515', 'longitude'...  \n",
       "2  {'latitude': '-87.69529667271209', 'longitude'...  "
      ]
     },
     "metadata": {},
     "output_type": "display_data"
    }
   ],
   "source": [
    "# we remove the time ( all the caracters after 'T')\n",
    "data['inspection_date']=data['inspection_date'].apply(lambda x : x.split('T')[0])\n",
    "\n",
    "# converting inspection dates into float numbers\n",
    "data.inspection_date = data.inspection_date.astype('datetime64[ns]')\n",
    "\n",
    "display(data.head(3))"
   ]
  },
  {
   "cell_type": "markdown",
   "metadata": {},
   "source": [
    "### 3 - Cleaning of the column *city* and removing the column *state*"
   ]
  },
  {
   "cell_type": "markdown",
   "metadata": {},
   "source": [
    "We need to check if there is only information from Chicago. After, we can remove the columns *city* and *state* since we don't need them for further use."
   ]
  },
  {
   "cell_type": "code",
   "execution_count": 11,
   "metadata": {},
   "outputs": [
    {
     "data": {
      "text/plain": [
       "array(['CHICAGO', nan, 'Chicago', 'CCHICAGO', 'CHICAGO.',\n",
       "       'CHESTNUT STREET', 'CHICAGOCHICAGO', 'chicago', 'CHICAGOHICAGO',\n",
       "       'CHicago', '312CHICAGO', 'BEDFORD PARK', 'CHCICAGO',\n",
       "       'CHARLES A HAYES', 'CHCHICAGO', 'CHICAGOI', 'SUMMIT', 'WESTMONT',\n",
       "       'LOMBARD', 'INACTIVE', 'BLUE ISLAND'], dtype=object)"
      ]
     },
     "execution_count": 11,
     "metadata": {},
     "output_type": "execute_result"
    }
   ],
   "source": [
    "# check if we have only data from Chicago, if not we need to remove all the extra information\n",
    "data.city.unique()"
   ]
  },
  {
   "cell_type": "markdown",
   "metadata": {},
   "source": [
    "> We need to remove :   Bedford Park (Gas Station) ; Blue Island; Lombard ( a village near to Chicago) , Summit ( a city near to Chicago) ; WESTMONT ( village near Chicago) ; aslip (suburb of chicago)\n",
    "We need to replace by chicago : 'CHARLES A HAYES'  (postal location), 312Chicago (Restaurant) ; CHICAGOI (Chicago)  ; CHESTNUT STREET (street in chicago); INACTIVE (out of business restaurant in Chicago); Chestnut street ;"
   ]
  },
  {
   "cell_type": "code",
   "execution_count": 12,
   "metadata": {
    "scrolled": false
   },
   "outputs": [
    {
     "data": {
      "text/plain": [
       "array(['IL', nan], dtype=object)"
      ]
     },
     "metadata": {},
     "output_type": "display_data"
    },
    {
     "data": {
      "text/plain": [
       "city\n",
       "312CHICAGO              2\n",
       "BEDFORD PARK            2\n",
       "BLUE ISLAND             1\n",
       "CCHICAGO               44\n",
       "CHARLES A HAYES         4\n",
       "CHCHICAGO               6\n",
       "CHCICAGO                3\n",
       "CHESTNUT STREET        11\n",
       "CHICAGO            194253\n",
       "CHICAGO.                2\n",
       "CHICAGOCHICAGO          7\n",
       "CHICAGOHICAGO           2\n",
       "CHICAGOI                3\n",
       "CHicago                12\n",
       "Chicago               318\n",
       "INACTIVE                8\n",
       "LOMBARD                 1\n",
       "SUMMIT                  4\n",
       "WESTMONT                1\n",
       "chicago                82\n",
       "Name: inspection_id, dtype: int64"
      ]
     },
     "metadata": {},
     "output_type": "display_data"
    },
    {
     "data": {
      "text/plain": [
       "city\n",
       "312CHICAGO              2\n",
       "CCHICAGO               44\n",
       "CHARLES A HAYES         4\n",
       "CHCHICAGO               6\n",
       "CHCICAGO                3\n",
       "CHESTNUT STREET        11\n",
       "CHICAGO            194253\n",
       "CHICAGO.                2\n",
       "CHICAGOCHICAGO          7\n",
       "CHICAGOHICAGO           2\n",
       "CHICAGOI                3\n",
       "CHicago                12\n",
       "Chicago               318\n",
       "INACTIVE                8\n",
       "chicago                82\n",
       "Name: inspection_id, dtype: int64"
      ]
     },
     "metadata": {},
     "output_type": "display_data"
    }
   ],
   "source": [
    "# check if the state is unique\n",
    "display(data.state.unique())\n",
    "\n",
    "# as the state is unique and we will not use this column for our further investigations, we can drop it \n",
    "data.drop(['state'], axis = 1, inplace = True)\n",
    "\n",
    "# check if there are other cities than Chicago\n",
    "display(data.inspection_id.groupby(data['city']).count())\n",
    "\n",
    "# drop the selected locations \n",
    "data = data[~data['city'].isin([\"BEDFORD PARK\", \"BLUE ISLAND\", \"LOMBARD\",\"SUMMIT\",\"WESTMONT\",\"alsip\"])]\n",
    "\n",
    "# check if the column is clean \n",
    "display(data.inspection_id.groupby(data['city']).count())\n",
    "\n",
    "# now that we are sure that we have only information from Chicago, we can delete the city columns\n",
    "data.drop(['city'], axis=1,inplace=True)"
   ]
  },
  {
   "cell_type": "markdown",
   "metadata": {},
   "source": [
    "### 4 - Cleaning the column *inspection_result*"
   ]
  },
  {
   "cell_type": "code",
   "execution_count": 13,
   "metadata": {
    "scrolled": true
   },
   "outputs": [
    {
     "data": {
      "text/plain": [
       "results\n",
       "Business Not Located        50\n",
       "Fail                     37665\n",
       "No Entry                  6266\n",
       "Not Ready                 1883\n",
       "Out of Business          16772\n",
       "Pass                    105133\n",
       "Pass w/ Conditions       27117\n",
       "Name: inspection_id, dtype: int64"
      ]
     },
     "execution_count": 13,
     "metadata": {},
     "output_type": "execute_result"
    }
   ],
   "source": [
    "# looking for the inspection results type\n",
    "data.groupby('results')['inspection_id'].count()"
   ]
  },
  {
   "cell_type": "markdown",
   "metadata": {},
   "source": [
    "> We are only interested in 3 type of results : Pass ,Pass with condition and Fail. We need to remove the others."
   ]
  },
  {
   "cell_type": "code",
   "execution_count": 14,
   "metadata": {},
   "outputs": [],
   "source": [
    "data = data[~data.results.isin(['Out of Business', 'Business Not Located', 'No Entry','Not Ready'])]"
   ]
  },
  {
   "cell_type": "markdown",
   "metadata": {},
   "source": [
    "### 5 - Cleaning the location information:  *zip* , *latitude* and *longitude*"
   ]
  },
  {
   "cell_type": "code",
   "execution_count": 15,
   "metadata": {},
   "outputs": [],
   "source": [
    "# make sure that the latitude and longitude are float numbers\n",
    "data['latitude'] = data['latitude'].astype(float)\n",
    "data['longitude'] = data['longitude'].astype(float)\n",
    "\n",
    "# convert the zip into a string (useful for the mapping ) \n",
    "data.zip = data.zip.astype(str)\n",
    "\n",
    "# reformat the zip code writing in order to compare it with the zip code in geojson file (for vizualisation step)\n",
    "data['zip'] = data['zip'].apply(lambda x : x.split('.')[0])"
   ]
  },
  {
   "cell_type": "markdown",
   "metadata": {},
   "source": [
    "### 6 - Cleaning the column *inspection_type*"
   ]
  },
  {
   "cell_type": "markdown",
   "metadata": {},
   "source": [
    "We want to focus only on inspections about food and not alcohol. So, we can not keep the 'force task' inspections. Also, we decided to remove the license inspection."
   ]
  },
  {
   "cell_type": "code",
   "execution_count": 16,
   "metadata": {},
   "outputs": [
    {
     "data": {
      "text/html": [
       "<div>\n",
       "<style scoped>\n",
       "    .dataframe tbody tr th:only-of-type {\n",
       "        vertical-align: middle;\n",
       "    }\n",
       "\n",
       "    .dataframe tbody tr th {\n",
       "        vertical-align: top;\n",
       "    }\n",
       "\n",
       "    .dataframe thead th {\n",
       "        text-align: right;\n",
       "    }\n",
       "</style>\n",
       "<table border=\"1\" class=\"dataframe\">\n",
       "  <thead>\n",
       "    <tr style=\"text-align: right;\">\n",
       "      <th></th>\n",
       "      <th>inspection_id</th>\n",
       "      <th>dba_name</th>\n",
       "      <th>aka_name</th>\n",
       "      <th>license</th>\n",
       "      <th>facility_type</th>\n",
       "      <th>risk</th>\n",
       "      <th>address</th>\n",
       "      <th>zip</th>\n",
       "      <th>inspection_date</th>\n",
       "      <th>results</th>\n",
       "      <th>violations</th>\n",
       "      <th>latitude</th>\n",
       "      <th>longitude</th>\n",
       "      <th>location</th>\n",
       "    </tr>\n",
       "    <tr>\n",
       "      <th>inspection_type</th>\n",
       "      <th></th>\n",
       "      <th></th>\n",
       "      <th></th>\n",
       "      <th></th>\n",
       "      <th></th>\n",
       "      <th></th>\n",
       "      <th></th>\n",
       "      <th></th>\n",
       "      <th></th>\n",
       "      <th></th>\n",
       "      <th></th>\n",
       "      <th></th>\n",
       "      <th></th>\n",
       "      <th></th>\n",
       "    </tr>\n",
       "  </thead>\n",
       "  <tbody>\n",
       "    <tr>\n",
       "      <th>Canvass</th>\n",
       "      <td>81763</td>\n",
       "      <td>81763</td>\n",
       "      <td>81453</td>\n",
       "      <td>81763</td>\n",
       "      <td>81565</td>\n",
       "      <td>81763</td>\n",
       "      <td>81763</td>\n",
       "      <td>81763</td>\n",
       "      <td>81763</td>\n",
       "      <td>81763</td>\n",
       "      <td>78598</td>\n",
       "      <td>81763</td>\n",
       "      <td>81763</td>\n",
       "      <td>81763</td>\n",
       "    </tr>\n",
       "    <tr>\n",
       "      <th>Canvass Re-Inspection</th>\n",
       "      <td>20196</td>\n",
       "      <td>20196</td>\n",
       "      <td>20126</td>\n",
       "      <td>20196</td>\n",
       "      <td>20187</td>\n",
       "      <td>20196</td>\n",
       "      <td>20196</td>\n",
       "      <td>20196</td>\n",
       "      <td>20196</td>\n",
       "      <td>20196</td>\n",
       "      <td>14657</td>\n",
       "      <td>20196</td>\n",
       "      <td>20196</td>\n",
       "      <td>20196</td>\n",
       "    </tr>\n",
       "    <tr>\n",
       "      <th>Complaint</th>\n",
       "      <td>17272</td>\n",
       "      <td>17272</td>\n",
       "      <td>17200</td>\n",
       "      <td>17272</td>\n",
       "      <td>17254</td>\n",
       "      <td>17272</td>\n",
       "      <td>17272</td>\n",
       "      <td>17272</td>\n",
       "      <td>17272</td>\n",
       "      <td>17272</td>\n",
       "      <td>16895</td>\n",
       "      <td>17272</td>\n",
       "      <td>17272</td>\n",
       "      <td>17272</td>\n",
       "    </tr>\n",
       "    <tr>\n",
       "      <th>Complaint Re-Inspection</th>\n",
       "      <td>7411</td>\n",
       "      <td>7411</td>\n",
       "      <td>7378</td>\n",
       "      <td>7411</td>\n",
       "      <td>7407</td>\n",
       "      <td>7411</td>\n",
       "      <td>7411</td>\n",
       "      <td>7411</td>\n",
       "      <td>7411</td>\n",
       "      <td>7411</td>\n",
       "      <td>5284</td>\n",
       "      <td>7411</td>\n",
       "      <td>7411</td>\n",
       "      <td>7411</td>\n",
       "    </tr>\n",
       "    <tr>\n",
       "      <th>Short Form Complaint</th>\n",
       "      <td>6606</td>\n",
       "      <td>6606</td>\n",
       "      <td>6576</td>\n",
       "      <td>6606</td>\n",
       "      <td>6599</td>\n",
       "      <td>6606</td>\n",
       "      <td>6606</td>\n",
       "      <td>6606</td>\n",
       "      <td>6606</td>\n",
       "      <td>6606</td>\n",
       "      <td>4876</td>\n",
       "      <td>6606</td>\n",
       "      <td>6606</td>\n",
       "      <td>6606</td>\n",
       "    </tr>\n",
       "    <tr>\n",
       "      <th>Suspected Food Poisoning</th>\n",
       "      <td>838</td>\n",
       "      <td>838</td>\n",
       "      <td>835</td>\n",
       "      <td>838</td>\n",
       "      <td>838</td>\n",
       "      <td>838</td>\n",
       "      <td>838</td>\n",
       "      <td>838</td>\n",
       "      <td>838</td>\n",
       "      <td>838</td>\n",
       "      <td>817</td>\n",
       "      <td>838</td>\n",
       "      <td>838</td>\n",
       "      <td>838</td>\n",
       "    </tr>\n",
       "    <tr>\n",
       "      <th>Suspected Food Poisoning Re-inspection</th>\n",
       "      <td>191</td>\n",
       "      <td>191</td>\n",
       "      <td>191</td>\n",
       "      <td>191</td>\n",
       "      <td>191</td>\n",
       "      <td>191</td>\n",
       "      <td>191</td>\n",
       "      <td>191</td>\n",
       "      <td>191</td>\n",
       "      <td>191</td>\n",
       "      <td>138</td>\n",
       "      <td>191</td>\n",
       "      <td>191</td>\n",
       "      <td>191</td>\n",
       "    </tr>\n",
       "  </tbody>\n",
       "</table>\n",
       "</div>"
      ],
      "text/plain": [
       "                                        inspection_id  dba_name  aka_name  \\\n",
       "inspection_type                                                             \n",
       "Canvass                                         81763     81763     81453   \n",
       "Canvass Re-Inspection                           20196     20196     20126   \n",
       "Complaint                                       17272     17272     17200   \n",
       "Complaint Re-Inspection                          7411      7411      7378   \n",
       "Short Form Complaint                             6606      6606      6576   \n",
       "Suspected Food Poisoning                          838       838       835   \n",
       "Suspected Food Poisoning Re-inspection            191       191       191   \n",
       "\n",
       "                                        license  facility_type   risk  \\\n",
       "inspection_type                                                         \n",
       "Canvass                                   81763          81565  81763   \n",
       "Canvass Re-Inspection                     20196          20187  20196   \n",
       "Complaint                                 17272          17254  17272   \n",
       "Complaint Re-Inspection                    7411           7407   7411   \n",
       "Short Form Complaint                       6606           6599   6606   \n",
       "Suspected Food Poisoning                    838            838    838   \n",
       "Suspected Food Poisoning Re-inspection      191            191    191   \n",
       "\n",
       "                                        address    zip  inspection_date  \\\n",
       "inspection_type                                                           \n",
       "Canvass                                   81763  81763            81763   \n",
       "Canvass Re-Inspection                     20196  20196            20196   \n",
       "Complaint                                 17272  17272            17272   \n",
       "Complaint Re-Inspection                    7411   7411             7411   \n",
       "Short Form Complaint                       6606   6606             6606   \n",
       "Suspected Food Poisoning                    838    838              838   \n",
       "Suspected Food Poisoning Re-inspection      191    191              191   \n",
       "\n",
       "                                        results  violations  latitude  \\\n",
       "inspection_type                                                         \n",
       "Canvass                                   81763       78598     81763   \n",
       "Canvass Re-Inspection                     20196       14657     20196   \n",
       "Complaint                                 17272       16895     17272   \n",
       "Complaint Re-Inspection                    7411        5284      7411   \n",
       "Short Form Complaint                       6606        4876      6606   \n",
       "Suspected Food Poisoning                    838         817       838   \n",
       "Suspected Food Poisoning Re-inspection      191         138       191   \n",
       "\n",
       "                                        longitude  location  \n",
       "inspection_type                                              \n",
       "Canvass                                     81763     81763  \n",
       "Canvass Re-Inspection                       20196     20196  \n",
       "Complaint                                   17272     17272  \n",
       "Complaint Re-Inspection                      7411      7411  \n",
       "Short Form Complaint                         6606      6606  \n",
       "Suspected Food Poisoning                      838       838  \n",
       "Suspected Food Poisoning Re-inspection        191       191  "
      ]
     },
     "execution_count": 16,
     "metadata": {},
     "output_type": "execute_result"
    }
   ],
   "source": [
    "# cleaning of the inspections type\n",
    "searchfor = ['Re', 'Canvass','Food','Complaint']\n",
    "ignore = ['Fire','Not Ready','Recent Inspection','License','Tag Removal','Recent inspection','SFP']\n",
    "data = data[data.inspection_type.str.contains('|'.join(searchfor))]\n",
    "data = data[~data.inspection_type.str.contains('|'.join(ignore))]\n",
    "\n",
    "data.groupby('inspection_type').count()"
   ]
  },
  {
   "cell_type": "markdown",
   "metadata": {},
   "source": [
    "***For a coordination purpose within the group , we will export this clean dataset in a csv file.***"
   ]
  },
  {
   "cell_type": "code",
   "execution_count": 18,
   "metadata": {},
   "outputs": [],
   "source": [
    "# export the dataframe to a csv \n",
    "data.to_csv(r'data/clean_dataset.csv')"
   ]
  }
 ],
 "metadata": {
  "kernelspec": {
   "display_name": "Python 3",
   "language": "python",
   "name": "python3"
  },
  "language_info": {
   "codemirror_mode": {
    "name": "ipython",
    "version": 3
   },
   "file_extension": ".py",
   "mimetype": "text/x-python",
   "name": "python",
   "nbconvert_exporter": "python",
   "pygments_lexer": "ipython3",
   "version": "3.7.5"
  }
 },
 "nbformat": 4,
 "nbformat_minor": 2
}
